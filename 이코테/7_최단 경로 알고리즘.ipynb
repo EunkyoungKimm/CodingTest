{
 "cells": [
  {
   "cell_type": "markdown",
   "id": "b8916b82-a76a-44b5-99f3-b9d488203e99",
   "metadata": {},
   "source": [
    "# 최단 경로 알고리즘"
   ]
  },
  {
   "cell_type": "markdown",
   "id": "dd3736f7-9bc0-442f-892e-d2835624a1a8",
   "metadata": {},
   "source": [
    "- `가장 짧은 경로를 찾는 알고리즘`\n",
    "- `다양한 문제 상황`\n",
    "    1. 한 지점에서 다른 한 지점까지의 최단 경로\n",
    "    2. 한 지점에서 다른 모든 지점까지의 최단 경로\n",
    "    3. 모든 지점에서 다른 모든 지점까지의 최단 경로\n",
    "- 그래프에서 각 지점은 `노드` / 지점 간 연결된 도로는 `간선` 으로 표현"
   ]
  },
  {
   "cell_type": "markdown",
   "id": "bea39e2a-faff-4e06-8b82-81978a160fbf",
   "metadata": {},
   "source": [
    "## 다익스트라 알고리즘\n",
    "- 다익스트라 최단 경로 알고리즘\n",
    "- `특정한 노드`에서 출발하여 `다른 모든 노드`로 가는 최단 경로를 계산(한 지점 >> 다른 모든 지점)\n",
    "- 다익스트라 알고리즘은 `음의 간선이 없을 때` 정상적으로 동작(현실 세계의 도로(간선)은 음의 간선으로 표현되지 않음 >> 현실 세계 문제에서 사용 많이 됨)\n",
    "- 다익스트라 알고리즘은 `그리디 알고리즘`으로 분류됨 >> `매 상황에서 가장 비용이 적은 노드를 선택`해 임의의 과정 반복(보통 최단 경로는 다.프)"
   ]
  },
  {
   "cell_type": "markdown",
   "id": "c0505a96-c3c9-4bd8-8e5a-81add62402f3",
   "metadata": {},
   "source": [
    "**<다익스트라 알고리즘 동작 과정>**\n",
    "1. 출발 노드 설정 (그래프를 준비하고 출발 노드 설정)\n",
    "2. 최단 거리 테이블 초기화\n",
    "3. `방문하지 않은 노드 중`에서 최단거리가 가장 짧은 노드 선택 (매상황마다!!)(최단거리가 같다면 일반적으로 더 작은 노드 번호부터 선택! ex. 2 5 >> 2번 노드 선택)\n",
    "4. 해당 노드를 거쳐 다른 노드로 가는 비용을 계산하여 최단 거리 테이블을 갱신 (최단 경로까지 알려면 별도의 장치 필요, 하지만 보통 코테에서 이정도 아님)\n",
    "5. 3,4번 반복\n",
    "6. 마지막 노드는 확인하지 않아도 됨(처리하지 않아도 됨)"
   ]
  },
  {
   "cell_type": "markdown",
   "id": "65e0ce93-4af7-47d9-8475-c1a934ea769e",
   "metadata": {},
   "source": [
    "- 알고리즘 동작 과정에서 `최단 거리 테이블`은 각 노드에 대한 현재까지의 최단 거리 정보를 가지고 있음\n",
    "- 처리 과정에서 `더 짧은 경로`를 찾으면 '이제부터는 이 경로가 제일 짧은 경로야' 라고 `갱신`"
   ]
  },
  {
   "cell_type": "markdown",
   "id": "778fa202-48b4-4b6a-b395-8a84379eeb35",
   "metadata": {},
   "source": [
    "**<다익스트라 알고리즘 특징>**\n",
    "- `그리디 알고리즘`에 속함(매 상황에서 방문하지 않은 가장 비용이 적은 노드를 선택 하는 과정 반복 - 테이블을 갱신할지 안할지 결정)\n",
    "- 단계를 거치며 `한 번 처리된 노드의 최단 거리는 고정`되어 더 이상 바뀌지 않음(확실치 됨)\n",
    "- `한 단계당 하나의 노드에 대한 최단 거리를 확실히 찾는 것으로 이해`할 수 있음\n",
    "- 다익스트라 알고리즘을 수행한 뒤에 `테이블에 각 노드까지의 최단 거리 정보가 저장` 됨\n",
    "- 완벽한 형태의 최단 경로를 구하려면 소스코드에 추가적인 기능을 더 넣어야 함"
   ]
  },
  {
   "cell_type": "markdown",
   "id": "0acaf0f3-65f8-4579-b978-b423790cd3ef",
   "metadata": {},
   "source": [
    "**<다익스트라 알고리즘: 간단한 구현 방법>**\n",
    "- 단계마다 방문하지 않은 노드 중에서 최단 거리가 가장 짧은 노드를 선택하기 위해 `매 단계마다 1차원 테이블의 모든 원소를 확인(순차탐색)`\n",
    "\n",
    "**<다익스트라 알고리즘: 간단한 구현 방법 성능 분석>**\n",
    "- `총 O(V)번`에 걸쳐서 최단 거리가 가장 짧은 노드를 매번 선형 탐색해야 함 >> 총 시간복잡도 `O(V^2)`\n",
    "- 전체 노드 개수 5000개 이하면 ok / 아니면.. 너무 많은 시간 걸림\n",
    "- 이를 해결하기 위해 `우선순위 큐`를 사용해야 함!"
   ]
  },
  {
   "cell_type": "markdown",
   "id": "d890eab7-f527-4acd-9776-85ad0cfb7c17",
   "metadata": {},
   "source": [
    "## 우선순위 큐(Priority Queue)\n",
    "- `우선순위가 가장 높은 데이터를 가장 먼저 삭제`하는 자료구조\n",
    "- ex. 여러 개의 물건 데이터를 자료구조에 넣었다가 `가치가 높은` 물건 데이터부터 꺼내서 확인 >> 우선순위 큐 이용\n",
    "- 대부분의 프로그래밍 언어에서 `표준 라이브러리 형태로 지원`\n",
    "\n",
    "**<스택, 큐, 우선순위 큐 비교>**\n",
    "- 스택(Stack) : 가장 나중에 삽입된 데이터가 추출됨\n",
    "- 큐(Queue) : 가장 먼저 삽입된 데이터가 추출됨\n",
    "- 우선순위 큐(Priority Queue) : 가장 우선순위가 높은 데이터가 추출됨"
   ]
  },
  {
   "cell_type": "markdown",
   "id": "2dd5bec7-d7c2-4983-922a-2a4c316f72e2",
   "metadata": {},
   "source": [
    "**<힙 Heap>**\n",
    "- 우선순위 큐 구현하기 위해 사용하는 자료구조 중 하나\n",
    "- `최소 힙(Min heap)과 최대 힙(Max heap)`이 있다\n",
    "- 다익스트라 최단 경로 알고리즘을 포함해 다양한 알고리즘에서 사용됨\n",
    "- 파이썬에서는 `heapq`라이브러리 / `heappush(삽입), heappop(삭제,꺼내기)` 메소드\n",
    "\n",
    "**<우선 순위 큐 구현 방식 : 삽입 시간 , 삭제 시간>**\n",
    "- 리스트 : O(1), O(N)\n",
    "- 힙 : O(logN), O(logN) >> 삽입, 삭제에 있어서 다 굿"
   ]
  },
  {
   "cell_type": "code",
   "execution_count": 3,
   "id": "e3ea907e-157b-4a1e-be10-fd7a2fb548eb",
   "metadata": {},
   "outputs": [
    {
     "name": "stdout",
     "output_type": "stream",
     "text": [
      "[0]\n"
     ]
    }
   ],
   "source": [
    "# 힙 라이브러리 사용 예제: 최소 힙(기본 설정)\n",
    "\n",
    "import heapq\n",
    "\n",
    "# 오름차순 힙 정렬(Heap Sort)\n",
    "def heapsort(iterable):\n",
    "    h = []\n",
    "    result = []\n",
    "    # 모든 원소를 차례대로 힙에 삽입\n",
    "    for value in iterable:\n",
    "        heapq.heappush(h, value) # 특정 리스트(h)에 데이터(value) 넣기\n",
    "    # 힙에 삽입된 모든 원소를 차례대로 꺼내어 담기\n",
    "    for i in range(len(h)):\n",
    "        result.append(heapq.heappop(h)) # heap라이브러리는 기본적으로 min heap으로 설정되어 있어서 작은 것이 우선순위가 제일 높아서 얘부터 꺼내줌!\n",
    "        return result\n",
    "\n",
    "result = heapsort([1, 3, 5, 7, 9, 2, 4, 6, 8, 0])\n",
    "print(result)"
   ]
  },
  {
   "cell_type": "code",
   "execution_count": 2,
   "id": "c1867b21-b5e4-4697-9a05-d4dbed47f58f",
   "metadata": {},
   "outputs": [
    {
     "name": "stdout",
     "output_type": "stream",
     "text": [
      "[9, 8, 7, 6, 5, 4, 3, 2, 1, 0]\n"
     ]
    }
   ],
   "source": [
    "# 힙 라이브러리 사용 예제: 최대 힙\n",
    "\n",
    "import heapq\n",
    "\n",
    "# 내림차순 힙 정렬(Heap Sort)\n",
    "def heapsort(iterable):\n",
    "    h = []\n",
    "    result = []\n",
    "    # 모든 원소를 차례대로 힙에 삽입\n",
    "    for value in iterable:\n",
    "        heapq.heappush(h, -value) # -value\n",
    "    # 힙에 삽입된 모든 원소를 차례대로 꺼내어 담기\n",
    "    for i in range(len(h)):\n",
    "        result.append(-heapq.heappop(h)) # -heapq\n",
    "    return result\n",
    "\n",
    "result = heapsort([1, 3, 5, 7, 9, 2, 4, 6, 8, 0])\n",
    "print(result)"
   ]
  },
  {
   "cell_type": "markdown",
   "id": "e0ba2ce6-0ed2-4085-bcc9-95cf1d32c66f",
   "metadata": {},
   "source": [
    "**<다익스트라 알고리즘: 개선된 구현 방법>**\n",
    "- `힙 자료구조`를 사용하여 시간복잡도 개선시키기\n",
    "- 단계마다 `방문하지 않은 노드 중에서 최단 거리가 가장 짧은 노드를 선택`하기 위해 `힙 자료구조`를 이용\n",
    "- 다익스트라 알고리즘이 동작하는 `기본원리는 동일`하다\n",
    "- 다른점: 현재 가장 가까운 노드를 `저장`해 놓기 위해서 힙 자료구조를 추가적으로 이용 / 현재의 최단 거리가 가장 짧은 노드를 선택해야 하므로 `최소 힙`을 사용"
   ]
  },
  {
   "cell_type": "markdown",
   "id": "16f1deec-2e5e-4dfa-953c-3f1d58c6529b",
   "metadata": {},
   "source": [
    "- 1번 노드의 거리 테이블의 값은 0(자기자신에게 가는 거리는 0이니까)\n",
    "- 나머지 노드의 거리 테이블 값은 무한(INF, 1e9)으로 설정\n",
    "- 매 단계마다 우선순위 큐에서 원소를 꺼내서 해당 노드까지의 거리를 확인한 후 그 노드를 거쳐가는 각각의 경우를 모두 고려하기(그 인접노드들 거리 최소로 갱신해주기, 그리고 그 중 가장 짧은 거리의 노드 살펴보기(인접노드))\n",
    "- 이미 방문처리가 된 노드는 무시!(방문여부 테이블 별도로 사용하지 않고, 단순히 최단거리 테이블과 비교해서 현재 노드 3번에 대한 거리값보다(이미 테이블에 기록되어 있는) 우선순위 큐에서 꺼낸 (거리, 노드) 거리 값이 크면 그냥 무시해도 됨!) / \n",
    "- 우선순위 큐 >> (거리: , 노드: )"
   ]
  },
  {
   "cell_type": "code",
   "execution_count": null,
   "id": "93b2f51e-f065-4aba-8e4c-8e8021a44c9f",
   "metadata": {},
   "outputs": [],
   "source": [
    "# 다익스트라 알고리즘: 개선된 구현 방법(우선순위큐로 성능 개선됨. heap사용)\n",
    "# 기존에 존재하던 현재 상황에서 최단 거리가 가장 짧은 노드를 선택하는 함수는 더 이상 사용x\n",
    "# 방문처리 목적으로 visited라는 테이블 더 이상 사용x\n",
    "\n",
    "import heapq\n",
    "import sys\n",
    "input = sys.stdin.readline\n",
    "INF = int(1e9) # 무한을 의미하는 값으로 10억 설정\n",
    "\n",
    "# 노드의 개수, 간선의 개수 입력받기\n",
    "n, m = map(int, input().split())\n",
    "# 시작 노드 번호를 입력받기\n",
    "start = int(input())\n",
    "# 각 노드에 연결되어 있는 노드에 대한 정보를 담는 리스트를 만들기\n",
    "graph = [[] for i in range(n+1)]\n",
    "# 최단 거리 테이블을 모두 무한으로 초기화\n",
    "distance = [INF] * (n+1)\n",
    "\n",
    "# 모든 간선 정보를 입력받기\n",
    "for _ in range(m):\n",
    "    a, b, c = map(int, input().split())\n",
    "    # a번 노드에서 b번 노드로 가는 비용이 c라는 의미\n",
    "    graph[a].append((b, c))                            # graph[a] = (노드, 거리)\n",
    "    \n",
    "def dijkstra(start):\n",
    "    q = []\n",
    "    # 시작 노드로 가기 위한 최단 경로는 0으로 설정하여, 큐에 삽입\n",
    "    heapq.heappush(q, (0, start))  # (q에 넣어주기, (거리, 노드))\n",
    "    distance[start] = 0\n",
    "    while q: # 큐가 비어있지 않다면\n",
    "        # 가장 최단 거리가 짧은 노드에 대한 정보 꺼내기\n",
    "        dist, now = heapq.heappop(q)                            # 거리값(dist), 현재 노드에 대한 정보(now)\n",
    "        # 현재 노드가 이미 처리된 적이 있는 노드라면 무시\n",
    "        if distance[now] < dist:\n",
    "            continue\n",
    "        # 현재 노드와 연결된 다른 인접한 노드들을 확인\n",
    "        for i in graph[now]:                                  # graph[now] >> 인접한 노드들 / i >> 인접한 노드\n",
    "            cost = dist + i[1]                                # i[1] >> 두번째 원소를 거리값을 의미함\n",
    "            # 현재 노드를 거쳐서, 다른 노드로 이동하는 거리가 더 짧은 경우\n",
    "            if cost < distance[i[0]]:                        # distance[노드] = 거리\n",
    "                distance[i[0]] = cost\n",
    "                heapq.heappush(q, (cost, i[0]))           # 값이 갱신될 때마다 해당 정보가 우선순위 큐에 기록될 수 있도록 함\n",
    "                \n",
    "# 다익스트라 알고리즘을 수행\n",
    "dijkstra(start)\n",
    "\n",
    "# 모든 노드로 가기 위한 최단 거리를 출력\n",
    "for i in range(1, n+1):\n",
    "    # 도달할 수 없는 경우, 무한(INFINITY)이라고 출력\n",
    "    if distance[i] == INF:\n",
    "        print(\"INFINITY\")\n",
    "    # 도달할 수 있는 경우 거리를 출력\n",
    "    else:\n",
    "        print(distance[i])"
   ]
  },
  {
   "cell_type": "markdown",
   "id": "594e886d-c964-422e-919b-65974c1117ea",
   "metadata": {},
   "source": [
    "- 힙 자료구조를 이용한 다익스트라 알고리즘의 시간 복잡도는 `O(ElogV)`\n",
    "- 직관적으로 `전체 과정은 E개의 원소를 우선순위 큐에 넣었다가 모두 빼내는 연산과 매우 유사` \n",
    "- 간선, 노드 많아져도 빠름!"
   ]
  },
  {
   "cell_type": "markdown",
   "id": "397ce050-3713-4c01-9318-7943fd0dcd20",
   "metadata": {},
   "source": [
    "## 플루이드 워셜 알고리즘\n",
    "- `모든 노드에서 다른 모든 노드까지의 최단 경로`를 모두 계산한다.\n",
    "- 다.알과 마찬가지로 `거쳐 가는 노드를 기준으로 알고리즘을 수행`(다만 매 단계마다 방문하지 않은 노드 중에 최단 거리를 갖는 노드를 찾는 과정 필요x)\n",
    "- 플로이드 워셜을 `2차원 테이블`에 `최단 거리 정보`를 저장\n",
    "- 프로이드 워셜 알고리즘을 `다이나믹 프로그래밍` 유형에 속함"
   ]
  },
  {
   "cell_type": "markdown",
   "id": "b9ed8b18-8d93-4799-a532-942bbadfac35",
   "metadata": {},
   "source": [
    "**<플루이드 워셜 점화식>**\n",
    "- 각 단계마다 `특정한 노드 k를 거쳐 가는 경우`를 화깅ㄴ\n",
    "- a에서 b로 가는 최단 거리보다 `a에서 k를 거쳐 b로 가는 거리`가 더 짧은지 검사\n",
    "- 점화식 >> `Dab = min(Dab, Dak + Dkb)`\n",
    "- 2차원 테이블: 행은 출발노드 / 열은 도착노드 의미(초기에는 인접한 노드의 간선, 거리만 고려해서 초기화)\n",
    "- 그 다음에 거쳐가는 경우를 고려해서 테이블을 갱신(1번 노드를 거쳐간다면, 대각선(출=도)과 1번 가로 세로 제외한 부분(1번은 출발, 도착이 아니라 거쳐가는 거니까!)이 갱신 대상임!)"
   ]
  },
  {
   "cell_type": "code",
   "execution_count": null,
   "id": "ebc36415-7504-481e-9399-12239a99b1c7",
   "metadata": {},
   "outputs": [],
   "source": [
    "# 플루이드 워셜 알고리즘\n",
    "\n",
    "INF = int(1e9)\n",
    "\n",
    "# 노드의 개수 및 간선의 개수 입력받기\n",
    "n = int(input()) \n",
    "m = int(input())\n",
    "# 2차원 리스트(그래프 표현)을 만들고, 무한으로 초기화\n",
    "graph = [[INF] * (n+1) for _ in range(n+1)]      # 1부터 출발.. n+1\n",
    "\n",
    "# 자기 자신에서 자기 자신으로 가는 비용은 0으로 초기화\n",
    "for a in range(1, n+1):\n",
    "    for b in range(1, n+1):\n",
    "        if a == b:\n",
    "            graph[a][b] = 0\n",
    "            \n",
    "# 각 간선에 대한 정보를 입력 바당, 그 값으로 초기화\n",
    "for _ in range(m):\n",
    "    # a에서 b로 가는 비용은 c라고 설정\n",
    "    a, b, c = map(int, input().split())\n",
    "    graph[a][b] = c                            # 방향그래프.. a에서 b로\n",
    "    \n",
    "# 점화식에 따라 플루이드 워셜 알고리즘 수행(k 거쳐가는 노드, a 출발노드, b 도착노드)\n",
    "for k in range(1, n+1):\n",
    "    for a in range(1, n+1):\n",
    "        for b in range(1, n+1):\n",
    "            graph[a][b] = min(graph[a][b], graph[a][k] + graph[k][b])\n",
    "            \n",
    "# 수행된 결과 출력\n",
    "for a in range(1, n+1):\n",
    "    for b in range(1, n+1):\n",
    "        # 도달할 수 없는 경우, 무한이라고 출력\n",
    "        if graph[a][b] == INF:\n",
    "            print(\"INFINITY\")\n",
    "        else:\n",
    "            print(graph[a][b], end = \" \")\n",
    "    print()"
   ]
  },
  {
   "cell_type": "markdown",
   "id": "81101089-67ac-4205-8322-a16d118f7183",
   "metadata": {},
   "source": [
    "**<플루이드 워셜 알고리즘 성능>**\n",
    "- 노드의 개수가 N일 때 >> 총 시간복잡도는 `O(N^3)` (반복문 3개)\n",
    "- 노드가 500개 이하로.. 작을때가 많음!\n",
    "- 시간초과 받을 수도 있음.. "
   ]
  },
  {
   "cell_type": "markdown",
   "id": "f3abf14e-973d-4a67-b6c0-2d733713dc7d",
   "metadata": {
    "tags": []
   },
   "source": [
    "### 1. 전보"
   ]
  },
  {
   "cell_type": "code",
   "execution_count": null,
   "id": "c33fd67c-96ef-453c-a920-eab1f58a9d53",
   "metadata": {
    "tags": []
   },
   "outputs": [],
   "source": [
    "# 어떤 나라에 `N개의 도시`\n",
    "# 다른 도시에게 메시지 보내고 싶어 / 메시지 보내는 통로 있어야 보낼 수 있고(없으면 못보냄), 통로를 거쳐 메시지 보낼때 일정 시간ㅣㅇ 소요됨\n",
    "# `도시 C에서 출발하여 각 도시 사이에 설치된 통로를 거쳐, 최대한 많이 퍼져나갈 것`\n",
    "# 각 도시의 번호와 통로가 설치되어 있는 정보가 주어질 때, `메시지 받는 총 도시 개수&도시들이 모두 메시지 받는데까지 걸리는 시간` 구하기\n",
    "\n",
    "# 한 도시에서 다른 도시까지의 `최단 거리 문제`\n",
    "# N과 M의 범우이가 충분히 크므로 >> `우선순위 큐를 활용한 다익스트라 알고리즘` 구현!!!!!!!!!!!!!!!!!!!!!!!!!!!!!!!!!!!!!!!!!!!!!!! 범위가 충분히 크면 우선순위큐이용한 다익스트라!(최단 거리)\n",
    "# 걸리는 시간 >> 제일 오래 걸리는 도시의 시간을 츨력하면 됨\n",
    "\n",
    "# 맨 첫줄 Test case를 입력받을 때는 input()을 사용해도 무방합니다.\n",
    "# 그러나 반복문으로 여러줄 입력받는 상황에서는 반드시 sys.stdin.readline()을 사용해야 시간초과가 발생하지 않습니다."
   ]
  },
  {
   "cell_type": "code",
   "execution_count": 2,
   "id": "7a8d8a14-136c-4a13-ad46-90b62e067930",
   "metadata": {},
   "outputs": [
    {
     "ename": "ValueError",
     "evalue": "not enough values to unpack (expected 3, got 0)",
     "output_type": "error",
     "traceback": [
      "\u001b[1;31m---------------------------------------------------------------------------\u001b[0m",
      "\u001b[1;31mValueError\u001b[0m                                Traceback (most recent call last)",
      "Cell \u001b[1;32mIn [2], line 25\u001b[0m\n\u001b[0;32m     22\u001b[0m                 heapq\u001b[38;5;241m.\u001b[39mheappush(q, (cost, i[\u001b[38;5;241m0\u001b[39m]))     \n\u001b[0;32m     24\u001b[0m \u001b[38;5;66;03m# 노드의 개수, 간선의 개수, 시작노드 입력받기\u001b[39;00m\n\u001b[1;32m---> 25\u001b[0m n, m, start \u001b[38;5;241m=\u001b[39m \u001b[38;5;28mmap\u001b[39m(\u001b[38;5;28mint\u001b[39m, \u001b[38;5;28minput\u001b[39m()\u001b[38;5;241m.\u001b[39msplit())\n\u001b[0;32m     26\u001b[0m \u001b[38;5;66;03m# 각 노드에 연결되어 있는 노드에 대한 정보를 담는 리스트를 만들기\u001b[39;00m\n\u001b[0;32m     27\u001b[0m graph \u001b[38;5;241m=\u001b[39m [[] \u001b[38;5;28;01mfor\u001b[39;00m i \u001b[38;5;129;01min\u001b[39;00m \u001b[38;5;28mrange\u001b[39m(n\u001b[38;5;241m+\u001b[39m\u001b[38;5;241m1\u001b[39m)]\n",
      "\u001b[1;31mValueError\u001b[0m: not enough values to unpack (expected 3, got 0)"
     ]
    }
   ],
   "source": [
    "import heapq\n",
    "# import sys\n",
    "# input = sys.stdin.readline\n",
    "INF = int(1e9)\n",
    "\n",
    "def dijkstra(start):\n",
    "    q = []\n",
    "    heapq.heappush(q, (0, start))  # 시작 노드로 가기 위한 최단 경로는 0으로 설정하여, 큐에 삽입\n",
    "    distance[start] = 0\n",
    "    while q: # 큐가 비어있지 않다면\n",
    "        # 가장 최단 거리가 짧은 노드에 대한 정보 꺼내기\n",
    "        dist, now = heapq.heappop(q)                            \n",
    "        # 현재 노드가 이미 처리된 적이 있는 노드라면 무시\n",
    "        if distance[now] < dist:\n",
    "            continue\n",
    "        # 현재 노드와 연결된 다른 인접한 노드들을 확인\n",
    "        for i in graph[now]:                                  \n",
    "            cost = dist + i[1]                               \n",
    "            # 현재 노드를 거쳐서, 다른 노드로 이동하는 거리가 더 짧은 경우\n",
    "            if cost < distance[i[0]]:                       \n",
    "                distance[i[0]] = cost\n",
    "                heapq.heappush(q, (cost, i[0]))     \n",
    "                \n",
    "# 노드의 개수, 간선의 개수, 시작노드 입력받기\n",
    "n, m, start = map(int, input().split())\n",
    "# 각 노드에 연결되어 있는 노드에 대한 정보를 담는 리스트를 만들기\n",
    "graph = [[] for i in range(n+1)]\n",
    "# 최단 거리 테이블을 모두 무한으로 초기화\n",
    "distance = [INF] * (n+1)\n",
    "\n",
    "# 모든 간선 정보를 입력받기\n",
    "for _ in range(m):\n",
    "    # x에서 y로 가는 비용은 z라고 설정\n",
    "    x, y, z = map(int, input().split())\n",
    "    graph[x].append((y,z))\n",
    "    \n",
    "# 다익스트라 알고리즘을 수행\n",
    "dijkstra(start)\n",
    "\n",
    "# 도달할 수 있는 노드의 개수\n",
    "count = 0\n",
    "# 도달할 수 잉ㅆ는 노드 중에서, 가장 멀리 있는 노드와의 최단 거리\n",
    "max_distance = 0\n",
    "for d in distance:\n",
    "    # 도달할 수 있는 노드의 경우\n",
    "    if d != 1e9:\n",
    "        count += 1\n",
    "        max_distance = max(max_distance, d)\n",
    "        \n",
    "# 시작 노드는 제외해야 하므로 count-1 출력\n",
    "print(count-1, max_distance)"
   ]
  },
  {
   "cell_type": "markdown",
   "id": "95757ff6-49c6-476f-b7ed-d34e338d9d7a",
   "metadata": {},
   "source": [
    "### 2. 미래 도시"
   ]
  },
  {
   "cell_type": "code",
   "execution_count": null,
   "id": "8edeaa4c-f652-46c5-a141-d9706acdd1bf",
   "metadata": {},
   "outputs": [],
   "source": [
    "# 미래도시에는 1번부터 N번까지의 회사가 있고, 특정 회사끼리는 서로 도로를 통해 연결되어 있다.\n",
    "# 연결된 2개의 회사는 양방향으로 이동 할 수 있다.(시간은 정확히 1)\n",
    "# 오늘 판매원 A는 중간에 소개팅 있어서 K번 회사(몇번이아니라 어떤 회사임)를 방문한 후 X번 회사로 가는 것이 목표!\n",
    "# 회사 사이를 이동하게 되는 최소 시간을 계산하는 프로그램 작성\n",
    "\n",
    "# 최단 거리 알고리즘!\n",
    "# N의 크기가 최대 100이므로 플루이드 워셜 알고리즘 이용해도 효율적으로 해결 가능!\n",
    "# 플로이드 워셜 알고리즘을 수행한 뒤해 (1번 노드에서 k까지의 최단 거리 + k에서 x까지의 최단 거리)를 계산하여 출력하면 됨!\n",
    "# 도달할 수 없으면 -1 출력"
   ]
  },
  {
   "cell_type": "code",
   "execution_count": null,
   "id": "928c16ce-18bd-4a10-aede-d391fc5b7d4e",
   "metadata": {},
   "outputs": [],
   "source": [
    "INF = int(1e9) # 무한 의미 !!!!!!!!!!!!!!!!!!!!!!!!!!!!!!!!!!!!!1111\n",
    "\n",
    "# 노드의 개수, 간선의 개수 입력받기\n",
    "n, m = map(int, input().split())\n",
    "# 2차원 리스트(그래프 표현) 만들고, 모든 값을 무한으로 초기화\n",
    "graph = [[INF] * (n+1) for _ in range(n+1)]\n",
    "\n",
    "# 자기 자신에서 자기 자신으로 가는 비용은 0으로 초기화\n",
    "for a in range(1, n+1):\n",
    "    for b in range(1, n+1):\n",
    "        if a == b:\n",
    "            graph[a][b] = 0\n",
    "            \n",
    "# 각 간선에 대한 정보 입력 받아, 그 값으로 초기화\n",
    "for _ in range(m):\n",
    "    # a와 b가 서로에게 가는 비용은 1\n",
    "    a, b = map(int, input().split())\n",
    "    graph[a][b] = 1\n",
    "    graph[b][a] = 1\n",
    "    \n",
    "# 거쳐 갈 노드 k와 최종 목적지 노드 x를 입력받기\n",
    "k, x = map(int, input().split())\n",
    "\n",
    "# 점화식에 따라 플로이드 워셜 알고리즘을 수행 # k,a,b(1~n+!) >> [a][k] + [k][b]\n",
    "for k in range(1, n+1):\n",
    "    for a in range(1, n+1):\n",
    "        for b in range(1, n+1):\n",
    "            graph[a][b] = min(graph[a][b], graph[a][k] + graph[k][b])\n",
    "            \n",
    "# 수행된 결과를 출력\n",
    "distance = graph[1][k] + graph[k][x]\n",
    "\n",
    "# 도달할 수 없는 경우, 1을 출력\n",
    "if distance >= INF:\n",
    "    print('-1')\n",
    "# 도달할 수 있으면, 최단 거리 출력\n",
    "else:\n",
    "    print(distance)"
   ]
  },
  {
   "cell_type": "code",
   "execution_count": null,
   "id": "d56e6e14-f3e4-4f58-a368-f98d2eed2b41",
   "metadata": {},
   "outputs": [],
   "source": []
  },
  {
   "cell_type": "markdown",
   "id": "12268310-5431-4a78-924c-609243de6999",
   "metadata": {},
   "source": [
    "최단 거리 >> 다익스트로, 플루워셜.. >> 최단거리니까 첨에 INF로 채워주기!!!!!!!! min찾기!!!!!!"
   ]
  },
  {
   "cell_type": "markdown",
   "id": "b79faf25-a3dd-4a09-8e7f-80161d5d966b",
   "metadata": {},
   "source": [
    "- 플루워드..어디 거쳐서 최단거리 찾을떄!!!(3중 for문이라 500정도 안넘을때 사용!)\n",
    "- 정보 받고 / 그래프 2차원 만들어주고(n+!) / 그래프 자기자신 11 ..0으로 채워주고 / 간선정보받고 inf > 1로 / 거쳐갈 노드 받기 / 3중 for문 / distance 결과물 "
   ]
  }
 ],
 "metadata": {
  "kernelspec": {
   "display_name": "Python 3 (ipykernel)",
   "language": "python",
   "name": "python3"
  },
  "language_info": {
   "codemirror_mode": {
    "name": "ipython",
    "version": 3
   },
   "file_extension": ".py",
   "mimetype": "text/x-python",
   "name": "python",
   "nbconvert_exporter": "python",
   "pygments_lexer": "ipython3",
   "version": "3.9.13"
  }
 },
 "nbformat": 4,
 "nbformat_minor": 5
}
