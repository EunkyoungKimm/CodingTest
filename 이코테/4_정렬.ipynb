{
 "cells": [
  {
   "cell_type": "markdown",
   "id": "84128346-df24-4074-98fb-8e9364137490",
   "metadata": {},
   "source": [
    "# 정렬(Sorting)\n",
    "- 데이터를 특정한 기준에 따라 `순서대로 나열`하는 것!\n",
    "- 데이터의 개수가 적을 떄 or 데이터의 개수가 많지만 데이터의 범위가 특정 범위로 한정되어 있을 떄 or 이미 데이터가 거의 정렬되어 있는 경우 등.. \n",
    "- 상황따라 적절한 정렬 알고리즘이 `공식`처럼 사용됨"
   ]
  },
  {
   "cell_type": "markdown",
   "id": "b4c0fe50-5b24-41f1-8e34-443611b931a9",
   "metadata": {},
   "source": [
    "**정렬은 기본정렬인 sort/sorted가 제일 빠름**"
   ]
  },
  {
   "cell_type": "markdown",
   "id": "a441b502-8bc8-4d49-a8a2-8c820d352170",
   "metadata": {},
   "source": [
    "## 선택 정렬\n",
    "- 처리되지 않은 데이터 중에서 `가장 작은 데이터를 선택해 맨 앞에 있는 데이터와 바꾸는 것을 반복`\n",
    "- 매번 현재 범위에서 가장 작은 데이터를 골라서 젤 앞쪽으로 보내줌(`교환`)\n",
    "- 탐색범위는 반복할때마다 줄어들음(앞에는 이제 고정이니까, 정렬된 부분) / 매번 가장 작은 원소를 찾기 위해 탐색 범위만큼 데이터를 하나씩 확인해서 가장 작은 데이터를 찾아야 함. 매번 선형 탐색을 수행하는것과 같음. >> `이중 반복문`을 이용해서 이러한 선택 정렬을 구현!"
   ]
  },
  {
   "cell_type": "code",
   "execution_count": 1,
   "id": "6b8932cd-0d01-4144-b5ed-f6c55194c980",
   "metadata": {},
   "outputs": [
    {
     "name": "stdout",
     "output_type": "stream",
     "text": [
      "[0, 1, 2, 3, 4, 5, 6, 7, 8, 9]\n"
     ]
    }
   ],
   "source": [
    "array = [7, 5, 9, 0, 3, 1, 6, 2, 4, 8]\n",
    "\n",
    "for i in range(len(array)):             # i는 가장 작은 데이터와 위치가 바뀔 그 인덱스를 의미! i는 매번 앞으로 보낼 그 인덱스 위치라고 생각하면 됨.\n",
    "    min_index = i # 가장 작은 원소의 인덱스(를 설정해줌)\n",
    "    for j in range(i+1, len(array)):\n",
    "        if array[min_index] > array[j]:\n",
    "            min_index = j\n",
    "    array[i], array[min_index] = array[min_index], array[i] ###이 개념!!!! 스와프 ( 가장 앞쪽 원소, 가장 작은 원소 = 가장 작은 인덱스, 앞에 보낼 인덱스) >> 두 위치 바꾸는 스와핑\n",
    "\n",
    "print(array)"
   ]
  },
  {
   "cell_type": "markdown",
   "id": "7089a8a5-04fe-4de6-9464-f38ec4c1a486",
   "metadata": {},
   "source": [
    "<선택 정렬의 시간복잡도>\n",
    "- 선택 정렬은 N번 만큼 가장 작은 수를 찾아서 맨 앞으로 보내야 함.\n",
    "- 전체 연산 횟수 대략 >> N + (N-1) + (N-2) + ... + 2 (등차수열 형태!! 마지막은 연산안해도 되서 2에서 끝남)\n",
    "- 이는 (N^2 + N -2) / 2 로 표현 가능 >> 빅오 표기법으로는 `O(N^2)`임!!!"
   ]
  },
  {
   "cell_type": "markdown",
   "id": "06d0c645-a9be-42f0-99bd-e096cda8c850",
   "metadata": {},
   "source": [
    "## 삽입 정렬\n",
    "- 처리되지 않은 데이터를 하나씩 골라 `적절한 위치에 삽입`함.\n",
    "- 데이터를 하나씩 확인하며 어느 위치에 들어가는게 좋을지. 매번 고민\n",
    "- 선택 정렬에 비해 구현 난이도가 높지만 일반적으로 더 효율적으로 동작!(더 빠르게 동작함)\n",
    "- 맨 앞에건 정렬되어 있다고 생각하고, 그 뒤부터 앞에 `왼쪽에 들어갈지 오른쪽에 들어갈지`를 판단!!! 3번째는.. 앞에 2개의 왼오 확인.(3위치) >> 위치확인 2,3,4,.."
   ]
  },
  {
   "cell_type": "code",
   "execution_count": 2,
   "id": "ca17116e-2d17-4e8b-8b2e-b8cd85447e75",
   "metadata": {},
   "outputs": [
    {
     "name": "stdout",
     "output_type": "stream",
     "text": [
      "[0, 1, 2, 3, 4, 5, 6, 7, 8, 9]\n"
     ]
    }
   ],
   "source": [
    "array = [7, 5, 9, 0, 3, 1, 6, 2, 4, 8]\n",
    "\n",
    "for i in range(1, len(array)):              # 2번째 원소부터 시작!!\n",
    "    for j in range(i, 0, -1): # 인덱스 i부터 1까지 1씩 감소하며 반복하는 문법(왼쪽으로) / j는 삽입하고자 하는 위치!\n",
    "        if array[j] < array[j-1]: # 한칸씩 왼쪽으로 이동\n",
    "            array[j] , array[j-1] = array[j-1], array[j]\n",
    "        else: # 자기보다 작은 데이터를 만나면 그 위치에서 멈춤 /// 5 7 9 이면 7 9 비교해서 바로 멈춤!\n",
    "            break\n",
    "    \n",
    "print(array)"
   ]
  },
  {
   "cell_type": "markdown",
   "id": "2d7ae2a1-db7a-4c83-89e7-9a050cf00a50",
   "metadata": {},
   "source": [
    "<삽입 정렬의 시간 복잡도>\n",
    "- `O(N^2)`임!! (선택 정렬과 마찬가지로 반복문이 2번 중첩되어 사용됨)\n",
    "- 삽입 정렬은 `현재 리스트의 데이터가 거의 정렬되어 있는 상태라면 매우 빠르게 동작`\n",
    "- 최선의 경우 O(N)의 시간 복잡도를 가짐(이미 다 정렬되어 있다면!!)"
   ]
  },
  {
   "cell_type": "markdown",
   "id": "8f25cb61-67b3-40b3-aa8d-841c2f463575",
   "metadata": {},
   "source": [
    "## 퀵 정렬\n",
    "- 굉장히 빠른 정렬 알고리즘 중 하나!\n",
    "- 일반적으로 데이터의 특성과 관련 없이 우리가 표준적으로 사용할 수 있는 표준 알고리즘 중 하나!(일반적인 상황에서 가장 많이 사용하는 정렬 알고리즘 중 하나)\n",
    "- `기준 데이터를 설정(고른 뒤에)(피봇값)`하고 그 `기준보다 큰 데이터와 작은 데이터의 위치를 바꾸는 방법`\n",
    "- 병합 정렬과 더불어 대부분의 프로그래밍 언어의 정렬 라이브러리의 근간이 되는 알고리즘\n",
    "- 가장 기본적인 퀵 정렬은 `첫번째 데이터를 기준 데이터(PIVOT)로 설정함`"
   ]
  },
  {
   "cell_type": "markdown",
   "id": "d4662fd9-3fcf-4620-af1e-d593ce6df9c1",
   "metadata": {},
   "source": [
    "<퀵 정렬 동작 예시>\n",
    "- 기준값, 피봇값을 고르고 왼쪽에서 부터 피봇값보다 큰 데이터를 고르고, 오른쪽에서부터는(오른쪽>왼쪽, 거꾸로) 피봇값보다 작은값을 고름\n",
    "- 고른 데이터의 2데이터 위치를 서로 바꿈\n",
    "- 큰 데이터와 작은 데이터 찾았는데 `위치가 엇갈리는 경우`에는 `피벗과 작은 데이터의 위치를 변경`!(6 1 이어야 되는데 / 1 6 이면 피벗값이랑 1이랑 위치 바꿈)\n",
    "- 그럼 `피벗을 기준으로 데이터 묶음을 나누는 작업`인 `분할(파티션)`이 됨(피벗 기준 왼쪽은 다 피벗보다 작은값, 오른쪽은 다 큰값으로 됨)\n",
    "- 왼쪽끼리, 오른쪽끼리 퀵정렬을 수행해줌!!\n",
    "- 퀵정렬은 재귀적으로 계속 수행되고, 하면 할수록 정렬할 범위가 줄어짐"
   ]
  },
  {
   "cell_type": "markdown",
   "id": "33b345c3-5eda-4240-9d4c-f9309e43c133",
   "metadata": {},
   "source": [
    "<퀵 정렬이 빠른 이유: 직관적인 이해>\n",
    "- 이상적인 경우 `분할(파티션)이 절반씩` 일어난다면 전체 연산획수로 O(NlogN)을 기대할 수 있음\n",
    "- 너비 x 높이 = N x logN = NlogN"
   ]
  },
  {
   "cell_type": "markdown",
   "id": "fb63fdea-6b1a-4cbf-9ab6-09c39aec41bd",
   "metadata": {},
   "source": [
    "<퀵 정렬의 시간복잡도>\n",
    "- 퀵 정렬은 평균 `O(NlonN)`\n",
    "- 하지만 최악의 경우 `O(N^2)`\n",
    "- 첫 번째 원소를 피벗으로 삼을 때, 이미 정렬된 배열에 대해서 퀵 정렬을 수행하면? 0123456789 >> 0을 피벗으로.. 1..0이 골라짐. 분할이 0자기위치.. 오른쪽 데이터만 남는 형태로 됨!(N번.. 전체 N^2이 됨!)"
   ]
  },
  {
   "cell_type": "code",
   "execution_count": 4,
   "id": "2a4c25b9-b1a0-4ced-ae32-287ee011c0b3",
   "metadata": {},
   "outputs": [
    {
     "name": "stdout",
     "output_type": "stream",
     "text": [
      "[0, 1, 2, 3, 4, 5, 6, 7, 8, 9]\n"
     ]
    }
   ],
   "source": [
    "array = [5, 7, 9, 0, 3, 1, 6, 2, 4, 8]\n",
    "\n",
    "def quick_sort(array, start, end):            # start, end.. pivot >> 인덱스 값인 거임!! array의!!\n",
    "    if start >= end: # 원소가 1개인 경우 종료\n",
    "        return\n",
    "    pivot = start # 피벗은 첫번째 원소\n",
    "    left = start + 1\n",
    "    right = end\n",
    "    while (left <= right):\n",
    "        # 피벗보다 큰 데이터를 찾을 때까지 반복\n",
    "        while (left <= end and array[left] <= array[pivot]):\n",
    "            left += 1\n",
    "        # 피벗보다 작은 데이터를 찾을 때까지 반복\n",
    "        while (right > start and array[right] >= array[pivot]):\n",
    "            right -= 1\n",
    "        if (left > right): # 엇갈렸다면 작은 데이터와 피벗을 교체\n",
    "            array[right], array[pivot] = array[pivot], array[right]\n",
    "        else: # 엇갈리지 않았다면 작은 데이터와 큰 데이터를 교체\n",
    "            array[left], array[right] = array[right], array[left]\n",
    "    # 분할 이후 왼쪽 부분과 오른쪽 부분에서 각각 정렬 수행\n",
    "    quick_sort(array, start, right - 1)\n",
    "    quick_sort(array, right + 1, end)\n",
    "    \n",
    "quick_sort(array, 0 , len(array) - 1)\n",
    "print(array)"
   ]
  },
  {
   "cell_type": "code",
   "execution_count": 7,
   "id": "4dda103e-15ce-471b-b953-167b6e2d29bd",
   "metadata": {},
   "outputs": [
    {
     "name": "stdout",
     "output_type": "stream",
     "text": [
      "[0, 1, 2, 3, 4, 5, 6, 7, 8, 9]\n"
     ]
    }
   ],
   "source": [
    "# 퀵 정렬 소스코드 : 파이썬의 장점을 살린 방식!! >> 리스트 슬라이싱 & 리스트 컴프리헨션 이용\n",
    "array = [5, 7, 9, 0, 3, 1, 6, 2, 4, 8]\n",
    "\n",
    "def quick_sort(array):\n",
    "    # 리스트가 하나 이하의 원소만을 담고 있다면 종료\n",
    "    if len(array) <= 1:\n",
    "        return array\n",
    "    pivot = array[0] # 피벗을 첫 번째 원소\n",
    "    tail = array[1:] # 피벗을 제외한 리스트\n",
    "    \n",
    "    left_side = [x for x in tail if x <= pivot] # 분할된 왼쪽 부분 (tail중 pivot보다 작은거 왼쪽으로)\n",
    "    right_side = [x for x in tail if x > pivot] # 분할된 오른쪽 부분\n",
    "    \n",
    "    # 분할 이후 왼쪽 부분과 오른쪽 부분에서 각각 정렬 수행하고, 전체 리스트 반환\n",
    "    return quick_sort(left_side) + [pivot] + quick_sort(right_side)\n",
    "\n",
    "print(quick_sort(array))"
   ]
  },
  {
   "cell_type": "markdown",
   "id": "fcecf2b9-c11b-4a56-976f-6fa28203b062",
   "metadata": {},
   "source": [
    "## 계수 정렬\n",
    "- `특정한 조건`이 부합할 때만 사용할 수 있지만 `매우 빠르게 동작`하는 정렬 알고리즘\n",
    "- 계수 정렬은 `데이터의 크기 범위가 제한되어 정수 형태로 표현할 수 있을 때` 사용 가능\n",
    "- 데이터의 개수가 N, 데이터(양수) 중 최댓값이 K일 때 최악의 경우에도 수행시간 `O(N+K)`를 보장한다."
   ]
  },
  {
   "cell_type": "markdown",
   "id": "d7a13fd2-7033-4b1e-a10c-6e6929341d23",
   "metadata": {},
   "source": [
    "<계수 정렬 동작 예시>\n",
    "1. 가장 작은 데이터부터 가장 큰 데이터까지의 범위가 모두 담길 수 있도록 `리스트 생성`(인덱스가 각 값을 의미, 몇개가 등장했는지(개수COUNT)가 값에 담김)\n",
    "2. 데이터를 하나씩 확인하며 데이터의 값과 동일한 인덱스의 값을 1씩 증가시킴\n",
    "3. `결과를 확인할때는` 리스트의 첫번째 데이터부터 하나씩 그 값만큼 반복하여 인덱스를 출력!\n",
    "4. 공간 복잡도는 높지만.. 매우 빠르게 동작!"
   ]
  },
  {
   "cell_type": "code",
   "execution_count": 8,
   "id": "4a24d67e-89c1-4915-a3a8-5783f629cfc1",
   "metadata": {},
   "outputs": [
    {
     "name": "stdout",
     "output_type": "stream",
     "text": [
      "0 0 1 1 2 2 3 4 5 5 6 7 8 9 9 "
     ]
    }
   ],
   "source": [
    "# 계수 정렬 소스코드\n",
    "\n",
    "# 모든 원소의 갑싱 0보다 크거나 같다고 가정\n",
    "array = [7, 5, 9, 0, 3, 1, 6, 2, 9, 1, 4, 8, 0, 5, 2]\n",
    "# 모든 범위를 포함하는 리스트 선언(모든 값은 0으로 초기화) (시작은 0으로 하면 됨! 그 인덱스 값이 0일 수 있음! 그 수가 없으면)\n",
    "count = [0] * (max(array) + 1)\n",
    "\n",
    "for i in range(len(array)):\n",
    "    count[array[i]] += 1 # 각 데이터에 해당하는 인덱스의 값 증가\n",
    "\n",
    "for i in range(len(count)): # 리스트에 기록된 정렬 정보 확인\n",
    "    for j in range(count[i]):\n",
    "        print(i, end=' ') # 띄어쓰기를 구분으로 등장한 횟수만큼 인덱스 출력"
   ]
  },
  {
   "cell_type": "markdown",
   "id": "ef34d2dd-647f-4c73-8d47-3ff3bcd0573c",
   "metadata": {},
   "source": [
    "<계수 정렬의 시간복잡도>\n",
    "- 계수 정렬의 시간 복잡도와 공간복잡도는 모두 `O(N+K)`이다.\n",
    "- 계수 정렬은 때에 따라서 심각한 비효율성을 초래할 수 있음 >> 데이터가 0과 999,999로 단 2개만 존재하는 경우..\n",
    "- 계수 정렬은 `동일한 값을 가지는 데이터가 여러개 등장할 때` 효과적으로 사용 가능 >> 성적의 경우 100점을 맞은 학생이 여러명일 수 있기 때문에 계수정렬이 효과적"
   ]
  },
  {
   "cell_type": "markdown",
   "id": "e832dfdc-d6e4-4329-afd3-705dd00d674d",
   "metadata": {},
   "source": [
    "## 정렬 알고리즘 비교\n",
    "- 대부분의 프로그래밍 언어에서 지원하는 `표준 정렬 라이브러리는 최악의 경우에도 O(NlogN)을 보장`하도록 설계되어 있응ㅁ"
   ]
  },
  {
   "cell_type": "markdown",
   "id": "7702c959-824c-4f40-8840-9d033240469c",
   "metadata": {},
   "source": [
    "0. 정렬 알고리즘 / 평균 시간 복잡도 / 공간 복잡도 / 특징\n",
    "1. 선택 정렬 / O(N^2) / O(N) / 아이디어가 매우 간단하다.(구현도 쉬움)\n",
    "2. 삽입 정렬 / O(N^2) / O(N) / 데이터가 거의 정렬되어 있을 때는 가장 빠름(구현이 어려움, 선택보단 빠름!!)\n",
    "3. 퀵 정렬 / O(NlogN) / O(N) / 대부분의 경우에 가장 적합, 충분히 빠름(정말 최악에는 O(N^2)나올 수 있음)\n",
    "4. 계수 정렬 / O(N+K) / O(N+K) / 데이터의 크기가 한정되어 있는 경우에만 사용이 가능하지만, 매우 빠르게 동작"
   ]
  },
  {
   "cell_type": "code",
   "execution_count": 9,
   "id": "4e27e4e9-72eb-49b8-9a88-b23406ac943e",
   "metadata": {},
   "outputs": [],
   "source": [
    "# 선택 정렬과 기본 정렬(sort) 라이브러리 수행 시간 비교"
   ]
  },
  {
   "cell_type": "code",
   "execution_count": 9,
   "id": "8b4e9d31-b6d0-42c8-a514-58b071e55b14",
   "metadata": {},
   "outputs": [
    {
     "name": "stdout",
     "output_type": "stream",
     "text": [
      "선택 정렬 성능 측정: 14.851718187332153\n"
     ]
    }
   ],
   "source": [
    "# 선택 정렬\n",
    "from random import randint\n",
    "import time\n",
    "\n",
    "# 배열에 10,000개의 정수를 삽입\n",
    "array = []\n",
    "for _ in range(10000):\n",
    "    # 1부터 100 사잉의 랜덤한 정수\n",
    "    array.append(randint(1,100))\n",
    "    \n",
    "# 선택 정렬 프로그램 성능 측정\n",
    "start_time = time.time()\n",
    "\n",
    "# 선택 정렬 프로그램 소스코드\n",
    "for i in range(len(array)):\n",
    "    min_index = i # 가장 작은 원소의 인덱스\n",
    "    for j in range(i + 1, len(array)):\n",
    "        if array[min_index] > array[j]:\n",
    "            min_index = j\n",
    "    array[i], array[min_index] = array[min_index], array[i]\n",
    "    \n",
    "# 측정 종료\n",
    "end_time = time.time()\n",
    "# 수행 시간 출력\n",
    "print('선택 정렬 성능 측정:', end_time - start_time)"
   ]
  },
  {
   "cell_type": "code",
   "execution_count": 10,
   "id": "4e4f238f-22ff-4f97-a07b-99de545999a4",
   "metadata": {},
   "outputs": [
    {
     "name": "stdout",
     "output_type": "stream",
     "text": [
      "기본 정렬 라이브러리 성능 측정: 0.0037529468536376953\n"
     ]
    }
   ],
   "source": [
    "# 기본 정렬 라이브러리\n",
    "\n",
    "# 배열을 다시 무작우이 데이터로 초기화\n",
    "array = []\n",
    "for _ in range(10000):\n",
    "    # 1부터 100 사잉의 랜덤한 정수\n",
    "    array.append(randint(1,100))\n",
    "    \n",
    "# 기본 정렬 라이브러리 성능 측정\n",
    "start_time = time.time()\n",
    "\n",
    "# 기본 정렬 라이브러리 사용\n",
    "array.sort()\n",
    "\n",
    "# 측정 종료\n",
    "end_time = time.time()\n",
    "# 수행 시간 출력\n",
    "print('기본 정렬 라이브러리 성능 측정:', end_time - start_time)"
   ]
  },
  {
   "cell_type": "markdown",
   "id": "37c49c47-d284-4f2d-838f-c5d6c3d3d6df",
   "metadata": {},
   "source": [
    "### 1. 두 배열의 원소 교체"
   ]
  },
  {
   "cell_type": "code",
   "execution_count": null,
   "id": "2a59ecd5-ffe7-4d70-be66-a1455613f2e9",
   "metadata": {},
   "outputs": [],
   "source": [
    "# 두개의 배열 A,B / 두 배열 다 N개의 원소로 구성됨, 모두 자연수!\n",
    "# 최대 K번의 바꿔치기(A원소와 B원소 하나 서로 바꿈)\n",
    "# 배열 A의 모든 원소의 합이 최대가 되도록 하는 것!\n",
    "\n",
    "# 핵심 아이디어: '매번 배열A에서 가장 작은 원소를 골라서, 배열 B에서 가장 큰 원소와 교체!'!!!!!!!!!!!!!!!!!!!!!!1\n",
    "# A 오름차순, B 내림차순 정렬!!!!!!!!!!!!!!!!!!!!!\n",
    "# A의 원소가 B의 원소보다 작을 때에만 교체 수행!!!!!!!!!!!!!!!!!!!!!!!!\n",
    "# 두 배열의 원소가 최대 100,000개까지 입력될 수 있어서, 최악의 경우 O(NlogN)을 보장하는 정렬 알고리즘을 이용해야 함(선택정렬같이 n^2인거는 시간초과 나올 수 있응ㅁ)\n",
    "# 표준 라이브러리 사용하자!"
   ]
  },
  {
   "cell_type": "code",
   "execution_count": 11,
   "id": "44140b49-0a46-4296-b846-79f623b567d3",
   "metadata": {},
   "outputs": [
    {
     "name": "stdin",
     "output_type": "stream",
     "text": [
      " 5 3\n",
      " 1 2 5 4 3\n",
      " 5 5 6 6 5\n"
     ]
    },
    {
     "name": "stdout",
     "output_type": "stream",
     "text": [
      "26\n"
     ]
    }
   ],
   "source": [
    "n, k = map(int, input().split()) # n과 k를 입력 받기\n",
    "a = list(map(int, input().split())) # 배열 A >>>>>. 리스트로 헤야 정렬 sort쓰기 편해!!!!!!!!!!!!!!!!!!!!!!!!!!!\n",
    "b = list(map(int, input().split())) # 배열 B\n",
    "\n",
    "a.sort() # 배열 A 오름차순\n",
    "b.sort(reverse=True) # 배열 B 내림차순 정렬\n",
    "\n",
    "# 첫 번째 인덱스부터 확인하며, 두 배열의 원소를 최대 K번 비교\n",
    "for i in range(k):\n",
    "    # A의 원소가 B의 원소보다 작은 경우\n",
    "    if a[i] < b[i]:\n",
    "        # 두 원소를 교체!!!!!!!!!!!!!!!!!!!!!!!!!!!!!!!!!!!!!!!!!!!!!!!!!!!!!!!!!!!!!!!!!!!!111\n",
    "        a[i], b[i] = b[i], a[i]\n",
    "    else: # A의 원소가 B의 원소보다 크거나 같을 때, 반복문을 탈출\n",
    "        break\n",
    "\n",
    "print(sum(a))# lisr더하는 메서드!!!!!!!!!!!!!!!!!!!!!!!!!!!!!!!!!!!!!!!!!"
   ]
  }
 ],
 "metadata": {
  "kernelspec": {
   "display_name": "Python 3 (ipykernel)",
   "language": "python",
   "name": "python3"
  },
  "language_info": {
   "codemirror_mode": {
    "name": "ipython",
    "version": 3
   },
   "file_extension": ".py",
   "mimetype": "text/x-python",
   "name": "python",
   "nbconvert_exporter": "python",
   "pygments_lexer": "ipython3",
   "version": "3.9.13"
  }
 },
 "nbformat": 4,
 "nbformat_minor": 5
}
