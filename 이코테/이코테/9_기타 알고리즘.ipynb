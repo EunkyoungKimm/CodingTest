{
 "cells": [
  {
   "cell_type": "markdown",
   "id": "11196224-c350-4738-afae-b1f673cfa742",
   "metadata": {},
   "source": [
    "# 기타 알고리즘"
   ]
  },
  {
   "cell_type": "markdown",
   "id": "c3f61e94-96e6-47be-9046-d1e87b0d9e81",
   "metadata": {},
   "source": [
    "## 소수 판별\n",
    "- 소수란 `1보다 큰 자연수 중에서 1과 자기 자신을 제외한 자연수로는 나누어떨어지지 않는 자연수`\n",
    "- ex. 6은 소수 아님(약수 1,2,3,6) / 7은 소수임(1,7)\n",
    "- 코테에서 `어떠한 자연수가 소수인지 아닌지 판별해야 하는 문제`가 자주 출제됨."
   ]
  },
  {
   "cell_type": "code",
   "execution_count": 1,
   "id": "116bdb99-ced9-4f10-ab34-793b86f7d4fc",
   "metadata": {},
   "outputs": [
    {
     "name": "stdout",
     "output_type": "stream",
     "text": [
      "False\n",
      "True\n"
     ]
    }
   ],
   "source": [
    "# 소수의 판별: 기본적인 알고리즘 >> 모든 수를 하나씩 확인한다는 점에서 시간 복잡도 O(X) >>\n",
    "\n",
    "# 소수 판별함수(2이상의 자연수에 대하여)\n",
    "def is_prime_number(x):\n",
    "    # 2부터 (x-1)까지의 모든 수를 확인하며\n",
    "    for i in range(2, x):\n",
    "        # x가 해당 수로 나누어 떨어진다면\n",
    "        if x % i == 0:\n",
    "            return False # 소수가 아님\n",
    "    return True\n",
    "\n",
    "print(is_prime_number(4))\n",
    "print(is_prime_number(7))"
   ]
  },
  {
   "cell_type": "markdown",
   "id": "28ec822e-d6c4-4c0b-9980-0c15e6c05019",
   "metadata": {},
   "source": [
    "**<약수의 성질>**\n",
    "- `모든 약수가 가운데 약수를 기준으로 곱셈 연산에 대해 대칭`을 이룸\n",
    "- 즉, 우리는 특정한 자연수의 `모든 약수를 찾을 때 가운데 약수(제곱근)까지만 확인`하면 됨"
   ]
  },
  {
   "cell_type": "code",
   "execution_count": 3,
   "id": "4e5cfb7a-1ee0-47e8-a70f-cabd62a33932",
   "metadata": {},
   "outputs": [
    {
     "name": "stdout",
     "output_type": "stream",
     "text": [
      "False\n",
      "True\n"
     ]
    }
   ],
   "source": [
    "# 소수의 판별: 개선된 알고리즘 >> math 라이브러리 필요 >> 시간 복잡도 O(N^1/2)\n",
    "import math\n",
    "\n",
    "# 소수 판별함수(2이상의 자연수에 대하여)\n",
    "def is_prime_number(x):\n",
    "    # 2부터 x의 제곱근까지의 모든 수를 확인하며\n",
    "    for i in range(2, int(math.sqrt(x)) + 1): # 제곱근값을 다시 실수로 바꿔주고 1더해주며 실질적으로 제곱근까지 확인할 수 있도록 함!\n",
    "        # x가 해당 수로 나누어 떨어진다면\n",
    "        if x % i == 0:\n",
    "            return False # 소수가 아님\n",
    "    return True # 소수임\n",
    "\n",
    "print(is_prime_number(4))\n",
    "print(is_prime_number(7))"
   ]
  },
  {
   "cell_type": "markdown",
   "id": "ec35e09b-58af-440c-8bd0-d37ff40a4aa3",
   "metadata": {},
   "source": [
    "**<다수의 소수 판별>**\n",
    "- 지금까지 하나의 수에 대하여 소수인지 아닌지 판별하는 방법 알아봄\n",
    "- 하지만 `특정한 수의 범위 안에 존재하는 모든 소수`를 찾아야 할때는? >> 에라토스테네스의 `체 알고리즘` 사용"
   ]
  },
  {
   "cell_type": "markdown",
   "id": "6a37d2e4-31da-4909-a544-32d2863f31da",
   "metadata": {},
   "source": [
    "**<에라토스테네스의 체 알고리즘>**\n",
    "- `다수의 자연수에 대하여 소수 여부를 판별`할 때 사용\n",
    "- N보다 작거나 같은 모든 소수를 찾을 때 사용\n",
    "- 체 알고리즘의 동작 과정\n",
    "    1. 2부터 N까지의 모든 자연수를 나열\n",
    "    2. 남은 수 중에서 아직 처리하지 않은 가장 작은 수 i를 찾음\n",
    "    3. 남은 수 중에서 i의 배수를 모두 제거(i는 제거하지 x)\n",
    "    4. 더 이상 반복할 수 없을 때까지 2,3번의 과정 반복"
   ]
  },
  {
   "cell_type": "markdown",
   "id": "3861a1c5-9489-46d0-a367-51bdb35de496",
   "metadata": {},
   "source": [
    "**<에테's 체 알고리즘 동작 예시>**\n",
    "- 초기 단계: 2부터 26까지의 모든 자연수 나열(N=26)\n",
    "- 아직 처리하지 않은 가장 작은 수 2를 제외한 2의 배수 모두 제거 > 그 다음 3.. > 5..(`제곱근까지만` 확인하면 됨)\n",
    "- 이 과정을 반복하면 결과 나옴"
   ]
  },
  {
   "cell_type": "code",
   "execution_count": 4,
   "id": "a6e067d4-0cc8-4ee9-9e53-08a821f9a229",
   "metadata": {},
   "outputs": [
    {
     "name": "stdout",
     "output_type": "stream",
     "text": [
      "2 3 5 7 11 13 17 19 23 29 31 37 41 43 47 53 59 61 67 71 73 79 83 89 97 101 103 107 109 113 127 131 137 139 149 151 157 163 167 173 179 181 191 193 197 199 211 223 227 229 233 239 241 251 257 263 269 271 277 281 283 293 307 311 313 317 331 337 347 349 353 359 367 373 379 383 389 397 401 409 419 421 431 433 439 443 449 457 461 463 467 479 487 491 499 503 509 521 523 541 547 557 563 569 571 577 587 593 599 601 607 613 617 619 631 641 643 647 653 659 661 673 677 683 691 701 709 719 727 733 739 743 751 757 761 769 773 787 797 809 811 821 823 827 829 839 853 857 859 863 877 881 883 887 907 911 919 929 937 941 947 953 967 971 977 983 991 997 "
     ]
    }
   ],
   "source": [
    "# 에라토스테네스의 체 알고리즘\n",
    "\n",
    "import math\n",
    "\n",
    "n = 1000 # 2부터 1000까지 중 소수 판별\n",
    "# 처음에 모든 수가 소수(True)인 것으로 초기화(0,1은 제외)\n",
    "array = [True for i in range(n+1)]\n",
    "\n",
    "# 에테의 체 알고리즘 수행\n",
    "# 2부터 n의 제곱근까지의 모든 수를 확인하며\n",
    "for i in range(2, int(math.sqrt(n)) + 1):\n",
    "    if array[i] == True: # i가 소수인 경우(남은 수인 겨우)\n",
    "        # i를 제외한 i의 모든 배수 지우기\n",
    "        j = 2\n",
    "        while i * j <= n:\n",
    "            array[i * j] = False\n",
    "            j += 1\n",
    "            \n",
    "# 모든 소수 출력\n",
    "for i in range(2, n+1):\n",
    "    if array[i]: # True(소수)이면\n",
    "        print(i, end= ' ')"
   ]
  },
  {
   "cell_type": "markdown",
   "id": "e4bf0713-d5a2-4241-9bac-40ceec3ac7f1",
   "metadata": {},
   "source": [
    "**<에테의 체 알고리즘 성능 분석>**\n",
    "- 시간복잡도는 `O(NloglogN)`으로 사실상 선형시간에 가까울 정도로 매우 빠름\n",
    "- 하지만 `메모리가 많이 필요`\n",
    "- 10억이 소수인지 아닌지 판별하려면..? "
   ]
  },
  {
   "cell_type": "markdown",
   "id": "3b34ea9a-025c-42fa-8455-de80a990dc35",
   "metadata": {},
   "source": [
    "## 투 포인터(Two Pointers)\n",
    "- `투 포인터 알고리즘`은 `리스트에 순차적으로 접근해야 할 떄 두 개의 점의 위치를 기록하면서 처리`하는 알고리즘\n",
    "- ex. 2,3,4,5,6,7 번 학생을 지목해야 할 때 `2번부터 7번까지의 학생` 이라고 부름(시작점과 끝점만을 명시해서 순차적으로 존재하는 데이터에서 특정 범위를 지칭할 수 있음)\n",
    "- 리스트에 담긴 데이터에 순차적으로 접근해야 할 때는 `시작점과 끝점` 2개의 점으로 접근할 `데이터의 범위`를 표현할 수 있음\n",
    "- `특정한 합을 가지는 부분 연속 수열 찾기` 문제!!"
   ]
  },
  {
   "cell_type": "markdown",
   "id": "43ba0a83-981a-42d1-ab6a-5a1bcf3bd169",
   "metadata": {},
   "source": [
    "**<특정한 합을 가지는 부분 연속 수열 찾기>**\n",
    "- N개의 자연수로 구성된 수열([1,2,3,2,5])\n",
    "- `합이 M인` 부분 연속 수열의 개수 구하기 >> (2,3), (3,2), (5)\n",
    "- 수행 시간 제한은 O(N)"
   ]
  },
  {
   "cell_type": "markdown",
   "id": "6fb04da0-bb1d-4c58-b2ba-e3d6dfd738d7",
   "metadata": {},
   "source": [
    "**<투포인터를 활용한 위 문제 해결>**\n",
    "1. 시작점(start)과 끝점(end)이 `첫번째 원소의 인덱스(0)`을 가리키도록 함\n",
    "2. 현재 부분 합이 M과 같다면, `카운트`한다.\n",
    "3. 현재 부분 합이 M보다 작다면 >> 무시하고 `end를 1 증가 (범위 늘리기)`\n",
    "4. 현재 부분 합이 M보다 크다면 >> 무시하고 `start를 1 증가 (범위 줄이기)`\n",
    "5. 모든 경우를 확인할 때까지 2번부터 4번 과정 반복"
   ]
  },
  {
   "cell_type": "code",
   "execution_count": 6,
   "id": "a63dc25e-f20a-41e3-b11d-818bded24654",
   "metadata": {},
   "outputs": [
    {
     "name": "stdout",
     "output_type": "stream",
     "text": [
      "3\n"
     ]
    }
   ],
   "source": [
    "# 특정한 합을 가지는 부분 연속 수열 찾기\n",
    "\n",
    "n = 5 # 데이터의 개수 N\n",
    "m = 5 # 찾고자 하는 부분합 M\n",
    "data = [1, 2, 3, 2, 5] # 전체 수열\n",
    "\n",
    "count = 0\n",
    "interval_sum = 0\n",
    "end = 0\n",
    "\n",
    "# start를 차례대로 증가시키며 반복\n",
    "for start in range(n):\n",
    "    # end를 가능한 만큼 이동시키기\n",
    "    while interval_sum < m and end < n:\n",
    "        interval_sum += data[end]\n",
    "        end += 1\n",
    "    # 부분합이 m일 때 count 증가\n",
    "    if interval_sum == m:\n",
    "        count += 1\n",
    "    interval_sum -= data[start] # while문을 탈출한 상황은 합이 m이거나 합이 m보다 클 때이기 때문에!(즉, m이상이라는 것이기 때문에 위에 if랑 이걸 해줌)\n",
    "    \n",
    "print(count)"
   ]
  },
  {
   "cell_type": "markdown",
   "id": "3d3223f3-e2c5-4b19-84b1-aa08651fe172",
   "metadata": {},
   "source": [
    "## 구간합(Interval Sum)\n",
    "- `구간 합 문제` : 연속적으로 나열된 N개의 수가 있을 때 `특정 구간의 모든 수를 합한 값을 계산`하는 문제\n",
    "- ex. 5개의 데이터로 구성된 수열 {10, 20, 30, 40, 50} >> 두번째 수부터 네번째 수까지의 합은 20+30+40 = 90(선형탐색)"
   ]
  },
  {
   "cell_type": "markdown",
   "id": "fd72b011-678b-4c46-b8a5-104c16bcc26e",
   "metadata": {},
   "source": [
    "**<구간합 빠르게 계산하기>**\n",
    "- N개의 정수로 구성된 수열\n",
    "- M개의 쿼리 정보가 주어짐(각 쿼리는 Left와 Right로 구성됨 / 각 쿼리에 대하여 [Left, Right] 구간에 포함된 데이터들의 합을 출력해야 함)\n",
    "- 수행시간 제한은 O(N+M)\n",
    "- 위에 처럼 하면 너무 오래 걸림\n",
    "- `접두사 합(Prefix Sum)` 활용하기!"
   ]
  },
  {
   "cell_type": "markdown",
   "id": "f4ec35db-7a13-4212-9b7c-4c618cc16607",
   "metadata": {},
   "source": [
    "**<구간합 빠르게 계산하기: 접두사 합>**\n",
    "- `접두사 합`(Prefix Sum) : 배열의 맨 앞부터 특정 위치까지의 합을 `미리` 구해놓은 것\n",
    "- 접두사 합을 활용한 알고리즘\n",
    "    1. N개의 수 위치 각각에 대하여 접두사 합을 계산하여 P에 저장\n",
    "    2. 매 M개의 쿼리 정보를 확인할 때 구간 합은 `P[Right] - P[Left - 1]` EX. 3번째 까지의 합 >> `P[3] - P[0]` (LEFT = 1, RIGHT = 3)"
   ]
  },
  {
   "cell_type": "markdown",
   "id": "a1940c0d-fdc5-4c41-84f4-1a6354887294",
   "metadata": {},
   "source": [
    "- 예시\n",
    "- 수열 형태 {10,20,30,40,50} >>>>(Prefix sum) 계산 >>>>> `P = [0,10,30,60,100,150]` (P[3]은 60)"
   ]
  },
  {
   "cell_type": "code",
   "execution_count": 7,
   "id": "d176a326-3996-4cdd-862a-e51fb1e9dc9f",
   "metadata": {},
   "outputs": [
    {
     "name": "stdout",
     "output_type": "stream",
     "text": [
      "70\n"
     ]
    }
   ],
   "source": [
    "# 구간합 빠르게 계산하기 >> 접두사합 이용\n",
    "\n",
    "# 데이터 개수 N과 데이터 입력받기\n",
    "n = 5\n",
    "data = [10, 20, 30, 40, 50]\n",
    "\n",
    "# 접두사 합(prefix sum) 배열 계산\n",
    "sum_value = 0\n",
    "prefix_sum = [0]\n",
    "for i in data:\n",
    "    sum_value += i\n",
    "    prefix_sum.append(sum_value)\n",
    "    \n",
    "# 구간 합 계산(세번째 수부터 네번째 수까지)\n",
    "left = 3\n",
    "right = 4\n",
    "print(prefix_sum[right] - prefix_sum[left-1])"
   ]
  }
 ],
 "metadata": {
  "kernelspec": {
   "display_name": "Python 3 (ipykernel)",
   "language": "python",
   "name": "python3"
  },
  "language_info": {
   "codemirror_mode": {
    "name": "ipython",
    "version": 3
   },
   "file_extension": ".py",
   "mimetype": "text/x-python",
   "name": "python",
   "nbconvert_exporter": "python",
   "pygments_lexer": "ipython3",
   "version": "3.9.13"
  }
 },
 "nbformat": 4,
 "nbformat_minor": 5
}
