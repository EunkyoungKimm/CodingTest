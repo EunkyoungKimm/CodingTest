{
 "cells": [
  {
   "cell_type": "markdown",
   "id": "15eb70f3-0113-436b-987a-9d7f2bb69502",
   "metadata": {},
   "source": [
    "# 그리디 알고리즘\n",
    "- 현재 상황에서 가장 좋아보이는 것만을 선택하는 알고리즘\n",
    "- 아이디어!!(해법의 정당성 분석이 중요!)"
   ]
  },
  {
   "cell_type": "markdown",
   "id": "95e12287-e2ee-4fba-a72c-2804d39f3558",
   "metadata": {},
   "source": [
    "## 1. 거스름 돈 문제"
   ]
  },
  {
   "cell_type": "code",
   "execution_count": null,
   "id": "7c23b205-664d-466f-aa81-5895bb0ac052",
   "metadata": {},
   "outputs": [],
   "source": [
    "# 1. 거스름 돈 문제\n",
    "# 문제 해결 아이디어: 가장 큰 화폐 단위부터 거슬러주면 최소 동전 개수\n",
    "# 큰 단위가 항상 작은 단위의 배수이기 때문에 이 풀이가 가능함 (만약 500, 400, 100원 단위라면 그리디로 최적의 해가 나오지 않음. 큰수(500)이 작은(400)수 배수x\n",
    "\n",
    "# 이렇게 그리디 알고리즘으로 풀수 있는지, 정당한지 잘 검토하고 사용해야 함."
   ]
  },
  {
   "cell_type": "code",
   "execution_count": 1,
   "id": "ff7a0d0d-be67-4492-aa90-1261fa4bebc3",
   "metadata": {},
   "outputs": [
    {
     "name": "stdout",
     "output_type": "stream",
     "text": [
      "6\n"
     ]
    }
   ],
   "source": [
    "n = 1260 # int(input())으로 바꾸기만 하면 됨\n",
    "count = 0 # 이걸 구하는 것\n",
    "\n",
    "# 화폐 단위 > 큰 단위부터 (큰 단위 화폐부터 차례대로 확인)\n",
    "array = [500, 100, 50, 10]\n",
    "\n",
    "for coin in array:\n",
    "    count += n // coin # 최대 개수 (해당 화폐로 거슬러 줄 수 있는 동전의 개수 세기)\n",
    "    n %= coin # 남은 돈\n",
    "    \n",
    "print(count)"
   ]
  },
  {
   "cell_type": "code",
   "execution_count": null,
   "id": "bf23b95e-c265-475c-8db2-27d0bb99fd23",
   "metadata": {},
   "outputs": [],
   "source": [
    "# 이 문제의 시간 복잡도\n",
    "# 화폐의 개수 K >> 순서복잡도 O(K)"
   ]
  },
  {
   "cell_type": "markdown",
   "id": "dc6594b7-d2ef-4756-a1b3-a3841ae29305",
   "metadata": {},
   "source": [
    "## 2. 1이 될 때까지"
   ]
  },
  {
   "cell_type": "code",
   "execution_count": null,
   "id": "7765df3c-ba77-484a-b76e-116ddd2c99a6",
   "metadata": {},
   "outputs": [],
   "source": [
    "# 아이디어: 나누기를 우선적으로! 그렇지 않을 때 1을 빼줌 >> 이걸 count하면 됨.\n",
    "# '가능하면 최대한 많이 나누는 작업!'  \n",
    "# (이 그리디 방법 가능! 가능한지 항상 생각하기)\n",
    "# k가 2 이상이기만 하면, k로 나누는 것이 1을 빼는 것보다 항상 빠르게 n을 줄인다! / n은 항상 1에 도달하게 됨(최적의 해 성립)\n",
    "\n",
    "# 첫줄처럼 하면 시간 복잡도 늘어남.. 나눌수있는지 그때그때 확인해야 되서\n",
    "# 이코테 풀이는 시간복잡도 확줄음(로그시간복잡도..>> 우리 코드에 테크닉 가미)\n",
    "# 사실 n,k가 10만개 경우의 수라 이렇게 작성 안해도 됨. 하지만 100억,10억 이러면 이렇게"
   ]
  },
  {
   "cell_type": "code",
   "execution_count": null,
   "id": "7b3986ac-a6a3-4b03-9c02-790cbd5d2a6d",
   "metadata": {},
   "outputs": [
    {
     "name": "stdin",
     "output_type": "stream",
     "text": [
      " 59 7\n"
     ]
    },
    {
     "name": "stdout",
     "output_type": "stream",
     "text": [
      "6\n"
     ]
    }
   ],
   "source": [
    "# 테크닉 가미 풀이(한번에 계산)\n",
    "\n",
    "# N, K을 공백을 기준으로 구분하여 입력 받기\n",
    "n, k = map(int, input().split())\n",
    "result = 0\n",
    "\n",
    "while True:\n",
    "    # (N이 K 로 나누어떨어지는 수)가 될 떄까지 1씩 빼기\n",
    "    target = (n // k) * k\n",
    "    result += (n - target)\n",
    "    n = target # k의 배수가 됨\n",
    "    # N이 K보다 작을 때 (더 이상 나눌 수 없을 때) 반복문 탈출\n",
    "    if n < k:\n",
    "        break\n",
    "    # K로 나누기\n",
    "    result += 1\n",
    "    n //= k\n",
    "\n",
    "# 마지막으로 남은 수에 대하여 1씩 빼기\n",
    "result += (n - 1) # ex. 5 7 입력되면 if n<k:에서 break 탈출함! ############ 이부분에서 완전 고민. 이 부분이 왜 필요한지 몰랐음!\n",
    "print(result)"
   ]
  },
  {
   "cell_type": "code",
   "execution_count": 7,
   "id": "d3beddb5-e21d-4e5c-ab0e-3a16fd74e9e2",
   "metadata": {},
   "outputs": [
    {
     "name": "stdin",
     "output_type": "stream",
     "text": [
      " 20 3\n"
     ]
    },
    {
     "name": "stdout",
     "output_type": "stream",
     "text": [
      "5\n"
     ]
    }
   ],
   "source": [
    "# 일일이 계산 풀이\n",
    "\n",
    "n, k = map(int, input().split())\n",
    "result = 0\n",
    "\n",
    "# N이 K 이상이라면 K로 계속 나누기\n",
    "while n > k:\n",
    "    # N이 K로 나누어 떨어지지 않는다면 N에서 1씩 빼기\n",
    "    while n % k != 0:\n",
    "        n -= 1\n",
    "        result += 1\n",
    "    # K로 나누기\n",
    "    n //= k\n",
    "    result += 1\n",
    "\n",
    "# 마지막으로 남은 숭에 대하여 1씩 빼기\n",
    "while n > 1:\n",
    "    n -= 1\n",
    "    result += 1\n",
    "    \n",
    "print(result)"
   ]
  },
  {
   "cell_type": "markdown",
   "id": "496928d5-feb7-4dc9-a2da-c196d63bd9cf",
   "metadata": {},
   "source": [
    "## 3. 곱하기 혹은 더하기"
   ]
  },
  {
   "cell_type": "code",
   "execution_count": null,
   "id": "815a563b-bd36-4ac1-8c29-a5278a7ae8e7",
   "metadata": {},
   "outputs": [],
   "source": [
    "# 문자열 S >> 왼쪽부터 오른쪽으로 하나씩 모든 숫자 사잉에 x 혹은 +를 넣어서 만들 수 있는 가장 큰 수 구하기\n",
    "# 만들어질 수 있는 가장 큰수는 항상 20억 이하..(21억까지 정수형 표현가능..프로그래밍에서!)\n",
    "\n",
    "# 두 수 중에서 0혹은1인경우 곱하기 보다 더하기!! 수행ㅇ\n",
    "# 두 수 중 하나라도 1이하이면 더하기, 둘다 2이상이면 곱하기!"
   ]
  },
  {
   "cell_type": "code",
   "execution_count": 1,
   "id": "0459f0c6-5021-4d7b-9287-eaa2635a477a",
   "metadata": {},
   "outputs": [
    {
     "name": "stdin",
     "output_type": "stream",
     "text": [
      " 20345\n"
     ]
    },
    {
     "name": "stdout",
     "output_type": "stream",
     "text": [
      "20345\n",
      "120\n"
     ]
    }
   ],
   "source": [
    "data = input() # 리스트로 되진 않음 / type이 str임(input)\n",
    "print(data)\n",
    "\n",
    "# 첫 번째 문자를 숫자로 변경하여 댕입\n",
    "result = int(data[0]) # 문자열의 첫번째 요소임\n",
    "\n",
    "for i in range(1, len(data)):\n",
    "    # 두 수 중에서 하나라도 0 혹은 1이면, 곱하기보다 더하기 수행\n",
    "    num = int(data[i])\n",
    "    if num <= 1 or result <= 1:\n",
    "        result += num\n",
    "    else:\n",
    "        result *= num\n",
    "        \n",
    "print(result)"
   ]
  },
  {
   "cell_type": "markdown",
   "id": "5a836562-337d-4907-b625-41807ed97d44",
   "metadata": {},
   "source": [
    "## 4. 모험가 길드"
   ]
  },
  {
   "cell_type": "code",
   "execution_count": null,
   "id": "3ba5c9b8-4283-4318-b2fb-753e70738b52",
   "metadata": {},
   "outputs": [],
   "source": [
    "# 여행을 떠날 수 있는 그룹 수의 최댓값 구하기\n",
    "# 모험가 n명, 각 모험가 공포도가 있음(공포도에 따라 그룹 안에 사람 수 달라짐)\n",
    "\n",
    "# 오름차순 정렬 이후에 공포도가 가장 낮은 모험가부터 확인하면서 '현재 그룹에 포함된 모험가의 수'가 '현재 확인하고 있는 공포도'보다 크거나 같다면 이를 그룹으로!\n",
    "# 오름차순으로 정렬되어 있기 때문에 항상 최소한의 모험가의 수만 포함하여 그룹을 결성 함!"
   ]
  },
  {
   "cell_type": "code",
   "execution_count": 14,
   "id": "ecfff395-8de5-43b7-98e7-ad27dbf7da95",
   "metadata": {},
   "outputs": [
    {
     "name": "stdin",
     "output_type": "stream",
     "text": [
      " 5\n",
      " 1 2 2 2 3\n"
     ]
    },
    {
     "name": "stdout",
     "output_type": "stream",
     "text": [
      "2\n"
     ]
    }
   ],
   "source": [
    "n = int(input())\n",
    "data = list(map(int, input().split()))\n",
    "data.sort()\n",
    "\n",
    "result = 0 # 총 그룹의 수\n",
    "count = 0 # 현재 그룹에 포함된 모험가의 수\n",
    "\n",
    "for i in data: # 공포도를 낮은 것부터 하나씩 확인하며\n",
    "    count += 1 # 현재 그룹에 해당 모험가를 포함시키기\n",
    "    if count >= i: # 현재 그룹에 포함된 모험가의 수가 현재의 공포도 이상이라면, 그룹 결성!\n",
    "        result += 1 # 총 그룹 수를 증가시키기\n",
    "        count = 0 # 현재 그룹에 포함된 모험가의 수 초기화\n",
    "\n",
    "print(result) # 총 그룹의 수 출력"
   ]
  }
 ],
 "metadata": {
  "kernelspec": {
   "display_name": "Python 3 (ipykernel)",
   "language": "python",
   "name": "python3"
  },
  "language_info": {
   "codemirror_mode": {
    "name": "ipython",
    "version": 3
   },
   "file_extension": ".py",
   "mimetype": "text/x-python",
   "name": "python",
   "nbconvert_exporter": "python",
   "pygments_lexer": "ipython3",
   "version": "3.9.13"
  }
 },
 "nbformat": 4,
 "nbformat_minor": 5
}
