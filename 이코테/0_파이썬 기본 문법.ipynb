{
 "cells": [
  {
   "cell_type": "markdown",
   "id": "c2cbc7df-c90a-40d8-ac59-83cd1398b899",
   "metadata": {},
   "source": [
    "# 파이썬 기본 문법"
   ]
  },
  {
   "cell_type": "markdown",
   "id": "59df2340-a566-4638-ad65-0dfa20a58eec",
   "metadata": {},
   "source": [
    "## 자료형\n",
    "- 모든 프로그래밍을 결국 `데이터를 다루는 행위`\n",
    "- 파이썬의 자료형: `정수형, 실수형, 복소수형, 문자열, 리스트, 튜플, 사전 등`"
   ]
  },
  {
   "cell_type": "markdown",
   "id": "f370dadc-f1a5-4940-872a-16091be60f3e",
   "metadata": {},
   "source": [
    "### 1. 정수형(Integer)\n",
    "- 정수를 다루는 자료형 >> `양의 정수, 0, 음의 정수`"
   ]
  },
  {
   "cell_type": "code",
   "execution_count": 1,
   "id": "0180ae9f-bd3e-4ea6-88e0-b5eac5914b81",
   "metadata": {},
   "outputs": [
    {
     "name": "stdout",
     "output_type": "stream",
     "text": [
      "100 -7 0\n"
     ]
    }
   ],
   "source": [
    "a = 100 # 양\n",
    "b = -7 # 음\n",
    "c = 0 # 0\n",
    "print(a,b,c)"
   ]
  },
  {
   "cell_type": "code",
   "execution_count": 3,
   "id": "f29d4c72-757c-4057-aa81-65d8a6940ce0",
   "metadata": {},
   "outputs": [
    {
     "name": "stdout",
     "output_type": "stream",
     "text": [
      "6\n"
     ]
    }
   ],
   "source": [
    "a= 1\n",
    "a = a + 5\n",
    "print(a)"
   ]
  },
  {
   "cell_type": "markdown",
   "id": "fa5489e4-5418-4d56-8cec-f74cc241073b",
   "metadata": {},
   "source": [
    "### 2. 실수형(Real Number)\n",
    "- 소수점 아래의 데이터를 포함하는 수 자료형\n",
    "- 파이썬에서는 변수에 소수점을 붙인 수를 대입하면 `실수형 변수`로 처리됨\n",
    "- 소수부가 0이거나, 정수부가 0인 소수는 0을 생략하고 작성 가능"
   ]
  },
  {
   "cell_type": "code",
   "execution_count": 5,
   "id": "b50733e1-068c-4969-867b-38dc16ebddcc",
   "metadata": {},
   "outputs": [
    {
     "name": "stdout",
     "output_type": "stream",
     "text": [
      "157.98 -18.2 5.0 -0.7\n"
     ]
    }
   ],
   "source": [
    "a = 157.98 # 양\n",
    "b = -18.2 # 음\n",
    "c = 5. # 소수부 0 생략\n",
    "d = -.7 # 정수부 0 생략\n",
    "print(a,b,c,d)"
   ]
  },
  {
   "cell_type": "markdown",
   "id": "c8e391b5-8dc5-4ef4-b14d-681a1741862a",
   "metadata": {},
   "source": [
    "<지수 표현 방식>\n",
    "- ex. 1e9 = 10^9 = 10억\n",
    "- 지수는 임의의 큰 수를 표현할 때 많이 씀\n",
    "- 특히, 최단경로 알고리즘에서 도달할 수 없는 노드에 대하여 최단 거리를 `무한(INF)`로 설정함"
   ]
  },
  {
   "cell_type": "code",
   "execution_count": 6,
   "id": "212d7de1-2819-445a-90c4-a02591518f04",
   "metadata": {},
   "outputs": [
    {
     "name": "stdout",
     "output_type": "stream",
     "text": [
      "1000000000.0 752.5 2.954\n"
     ]
    }
   ],
   "source": [
    "a = 1e9\n",
    "b = 75.25e1 # 소수점 뒤로 한칸\n",
    "c = 2954e-3 # 소수점 앞으로 3칸\n",
    "print(a,b,c)"
   ]
  },
  {
   "cell_type": "code",
   "execution_count": 7,
   "id": "0076abdd-51f9-4c8b-b3cb-ea79f4625d23",
   "metadata": {
    "tags": []
   },
   "outputs": [
    {
     "name": "stdout",
     "output_type": "stream",
     "text": [
      "1000000000\n"
     ]
    }
   ],
   "source": [
    "print(int(a)) # int처리 안하면 실수임"
   ]
  },
  {
   "cell_type": "markdown",
   "id": "e85dec33-5ff6-41df-9174-a1e037eeba7d",
   "metadata": {},
   "source": [
    "<실수형 더 알아보기>\n",
    "- 컴퓨터 시스템은 실수 정보를 표현하는 정확도에 `한계`를 가진다.\n",
    "- 0.3 + 0.6 = 0.9인데(현실세계 10진수) > (컴퓨터) 2진수에서는 0.9를 정확하게 표현x\n",
    "- 즉, 미세한 오차가 발생한다"
   ]
  },
  {
   "cell_type": "code",
   "execution_count": 10,
   "id": "e1480d17-74f8-4916-a1b3-3c5bcf789359",
   "metadata": {},
   "outputs": [
    {
     "name": "stdout",
     "output_type": "stream",
     "text": [
      "0.8999999999999999\n",
      "False\n"
     ]
    }
   ],
   "source": [
    "a = 0.3 + 0.6\n",
    "print(a)\n",
    "\n",
    "if a == 0.9:\n",
    "    print(True)\n",
    "else: \n",
    "    print(False)"
   ]
  },
  {
   "cell_type": "markdown",
   "id": "58a32845-9a27-4007-ac75-5090f266b655",
   "metadata": {},
   "source": [
    "- 개발 과저에서 실수 값을 제대로 비교하지 못하면 원하는 결과 얻지x\n",
    "- `round()`함수 이용!\n",
    "- 123.456을 소수 셋째자리에서 반올림 >> round(123.456, 2)"
   ]
  },
  {
   "cell_type": "code",
   "execution_count": 1,
   "id": "7f9d4d56-c685-4b6f-96ab-74e61b49edce",
   "metadata": {},
   "outputs": [
    {
     "name": "stdout",
     "output_type": "stream",
     "text": [
      "123.46\n"
     ]
    }
   ],
   "source": [
    "print(round(123.456, 2))"
   ]
  },
  {
   "cell_type": "code",
   "execution_count": 12,
   "id": "93b289cb-0b15-492f-bca6-48e643e0dc9d",
   "metadata": {},
   "outputs": [
    {
     "name": "stdout",
     "output_type": "stream",
     "text": [
      "0.9\n",
      "True\n"
     ]
    }
   ],
   "source": [
    "a = 0.3 + 0.6\n",
    "print(round(a, 4))\n",
    "\n",
    "if round(a, 4) == 0.9:\n",
    "    print(True)\n",
    "else: \n",
    "    print(False)"
   ]
  },
  {
   "cell_type": "markdown",
   "id": "c6995693-1418-413a-9557-c27a4ca39ef6",
   "metadata": {},
   "source": [
    "<수 자료형의 연산>\n",
    "- 사칙연산 & 나머지 연산자가 많이 사용됨\n",
    "- (/) 나누기 연산자는 `실수형`을 결과로 반환함\n",
    "- 다양한 로직을 설계할 때는 `나머지 연산자(%)`를 많이 이용함 ex. a가 홀수인지 체크하는 겨우\n",
    "- 몫을 얻기 위해 `몫 연산자(//)` 사용함\n",
    "- `거듭제곱 연산자(**)` 등 다양한 연산자가 존재함"
   ]
  },
  {
   "cell_type": "code",
   "execution_count": 13,
   "id": "f3e1857b-af0f-4cb3-9c4a-19b50f7b2b8a",
   "metadata": {},
   "outputs": [
    {
     "name": "stdout",
     "output_type": "stream",
     "text": [
      "125\n",
      "2.23606797749979\n"
     ]
    }
   ],
   "source": [
    "a = 5\n",
    "b = 3\n",
    "\n",
    "print(a ** b) # 거듭제곱\n",
    "print(a ** 0.5) # 제곱근"
   ]
  },
  {
   "cell_type": "markdown",
   "id": "0f442990-f415-4351-a62f-7e677e9a5b67",
   "metadata": {},
   "source": [
    "### 3. 리스트 자료형\n",
    "- 여러 개의 `데이터를 연속적으로 담아 처리하기 위해 사용하는 자료형`\n",
    "- array와 비슷. 리스트 대신 배열 혹은 테이블이라고도 함.\n",
    "- 리스트는 `대괄호([])` 안에 원소를 넣어 초기화 / `쉼표(,)`로 원소 구분\n",
    "- 비어 있는 리스트를 선언하고자 할때는 `list()` 혹은 간단히 `[]` 사용\n",
    "- 리스트의 원소에 접근할 때는 `인덱스(index)` 값을 괄호에 넣음 >> 인덱스는 0부터 시작!"
   ]
  },
  {
   "cell_type": "code",
   "execution_count": 16,
   "id": "44ff5f65-c80d-4a96-8697-04ca54348bdb",
   "metadata": {},
   "outputs": [
    {
     "name": "stdout",
     "output_type": "stream",
     "text": [
      "[1, 2, 3, 4, 5, 6, 7, 8, 9]\n",
      "4\n",
      "[1, 2, 1, 4, 5, 6, 7, 8, 9]\n",
      "[0, 0, 0, 0, 0, 0, 0, 0, 0, 0]\n"
     ]
    }
   ],
   "source": [
    "# 직접 데이터를 넣어 초기화\n",
    "a = [1,2,3,4,5,6,7,8,9]\n",
    "print(a)\n",
    "\n",
    "# 4번째 원소만 출력\n",
    "print(a[3])\n",
    "\n",
    "# 3번째 원소 바꾸기\n",
    "a[2] = 1\n",
    "print(a)\n",
    "\n",
    "# 크기가 N이고, 모든 값이 0인 1차원 리스트\n",
    "n = 10\n",
    "a = [0] * n\n",
    "print(a)"
   ]
  },
  {
   "cell_type": "markdown",
   "id": "16fc9b60-43eb-4f91-b3be-72dbf63524c8",
   "metadata": {},
   "source": [
    "<리스트의 인덱싱>\n",
    "- 인덱스 값을 입력하여 `리스트의 특정 원소에 접근`하는 것은 `인덱싱`이라고 함\n",
    "- 파이썬의 인덱스 값은 양,음의 정수 모두 사용 가능\n",
    "- 음의 정수를 넣으면 원소를 `거꾸로` 탐색함"
   ]
  },
  {
   "cell_type": "code",
   "execution_count": 17,
   "id": "f5b42ee8-12d5-4e60-8ad8-696ad1d9d4b4",
   "metadata": {},
   "outputs": [
    {
     "name": "stdout",
     "output_type": "stream",
     "text": [
      "8\n",
      "9\n",
      "7\n"
     ]
    }
   ],
   "source": [
    "a = [1,2,3,4,5,6,7,8,9]\n",
    "\n",
    "print(a[7]) # 8번째 원소\n",
    "print(a[-1]) # 뒤에서 1번째 원소\n",
    "print(a[-3]) # 뒤에서 3번째 원소"
   ]
  },
  {
   "cell_type": "markdown",
   "id": "2fa49449-2b3d-43f8-86d8-4c90939ca79b",
   "metadata": {},
   "source": [
    "<리스트의 슬라이싱>\n",
    "- 리스틍에서 `연속적인 위치를 갖는 원소드를 가져와야 할 때`는 `슬라이싱` 이용\n",
    "- 대괄호 안에 `콜론(:)`을 넣어서 `시작 인덱스와 끝 인덱스` 설정 가능\n",
    "- 끝 인덱스는 실제 인덱스보다 1을 더 크게 설정"
   ]
  },
  {
   "cell_type": "code",
   "execution_count": 18,
   "id": "d636bea8-9284-41d6-9f00-9605a07098f3",
   "metadata": {},
   "outputs": [
    {
     "name": "stdout",
     "output_type": "stream",
     "text": [
      "4\n",
      "[2, 3, 4]\n"
     ]
    }
   ],
   "source": [
    "a = [1,2,3,4,5,6,7,8,9]\n",
    "\n",
    "print(a[3]) # 4번째 원소만\n",
    "print(a[1 : 4]) # 2번째~4번째"
   ]
  },
  {
   "cell_type": "markdown",
   "id": "b38597b0-322b-431e-aefe-5a959a1181cd",
   "metadata": {},
   "source": [
    "<리스트 컴프리헨션>\n",
    "- 리스트 초가화 방법 중 하나\n",
    "- `대괄호 안에 조건문과 반복문을 적용하여 리스트를 초기화`할 수 있음"
   ]
  },
  {
   "cell_type": "code",
   "execution_count": 21,
   "id": "d8b42a45-5fec-4271-9c99-234d73e22fa8",
   "metadata": {},
   "outputs": [
    {
     "name": "stdout",
     "output_type": "stream",
     "text": [
      "[0, 1, 2, 3, 4, 5, 6, 7, 8, 9]\n",
      "[1, 3, 5, 7, 9, 11, 13, 15, 17, 19]\n",
      "[1, 4, 9, 16, 25, 36, 49, 64, 81]\n"
     ]
    }
   ],
   "source": [
    "# 0부터 9까지의 수를 포함하는 리스트\n",
    "array = [i for i in range(10)]\n",
    "print(array)\n",
    "\n",
    "# 0부터 19까지의 수 중에서 홀수만 포함하는 리스트\n",
    "array = [i for i in range(20) if i % 2 == 1]\n",
    "print(array)\n",
    "\n",
    "# 1부터 9까지의 수들의 제곱 값을 포함하는 리스트\n",
    "array = [i * i for i in range(1, 10)]\n",
    "print(array)"
   ]
  },
  {
   "cell_type": "code",
   "execution_count": 22,
   "id": "ccb0b9a4-4b51-4115-aabb-3651546cb781",
   "metadata": {},
   "outputs": [
    {
     "name": "stdout",
     "output_type": "stream",
     "text": [
      "[1, 3, 5, 7, 9, 11, 13, 15, 17, 19]\n"
     ]
    }
   ],
   "source": [
    "# 일반적인 코드 > 훨씬 길다\n",
    "# 0부터 19까지의 수 중에서 홀수만 포함하는 리스트\n",
    "array = []\n",
    "for i in range(20):\n",
    "    if i % 2 == 1:\n",
    "        array.append(i)\n",
    "\n",
    "print(array)"
   ]
  },
  {
   "cell_type": "markdown",
   "id": "8b90ceb4-de84-4f06-88c8-3ec81b38d8b2",
   "metadata": {},
   "source": [
    "- 리스트 컴프리헨션은 `2차원 리스트를 초기화할 때` 효과적으로 사용될 수 있음\n",
    "- 특히 `NxM 크기`의 2차원 리스트를 `한번에 초기화` 해야 할 때 유용 ex. array = [[0] * m for _ in range(n)]\n",
    "- 다음과 같이 2차원 리스트를 만들면 안된다 >> array = [[0] * m] * n (전체 리스트 안에 포함된 각 리스트가 모두 같은 객체로 인식됨)"
   ]
  },
  {
   "cell_type": "code",
   "execution_count": 24,
   "id": "b1635bd9-7fee-476e-87e9-6d5117fc9563",
   "metadata": {},
   "outputs": [
    {
     "name": "stdout",
     "output_type": "stream",
     "text": [
      "[[0, 0, 0], [0, 0, 0], [0, 0, 0], [0, 0, 0]]\n",
      "[[0, 0, 0], [0, 5, 0], [0, 0, 0], [0, 0, 0]]\n"
     ]
    }
   ],
   "source": [
    "# N X M 크기의 2차원 리스트 초기화\n",
    "n = 4\n",
    "m = 3\n",
    "array = [[0] * m for _ in range(n)] # 4행 3열\n",
    "print(array) \n",
    "\n",
    "array[1][1] = 5\n",
    "print(array)"
   ]
  },
  {
   "cell_type": "markdown",
   "id": "f4b0b283-1122-4afd-82dc-a186de25634d",
   "metadata": {},
   "source": [
    "- `언더바(_)` : 파이썬에서 반복을 수행하되 반복을 위한 변수의 값을 무시하고자 할 때 사용"
   ]
  },
  {
   "cell_type": "code",
   "execution_count": 25,
   "id": "23fb7652-3b37-4dd1-9f2d-b5f06f5b7fe3",
   "metadata": {},
   "outputs": [
    {
     "name": "stdout",
     "output_type": "stream",
     "text": [
      "45\n",
      "Hello World\n",
      "Hello World\n",
      "Hello World\n",
      "Hello World\n",
      "Hello World\n"
     ]
    }
   ],
   "source": [
    "# 자연수 더하기 > 변수 활용\n",
    "summary = 0\n",
    "for i in range(1,10):\n",
    "    summary += i\n",
    "print(summary)\n",
    "\n",
    "# 'Hello World'를 5번 출력 > 단순 반복\n",
    "for _ in range(5):\n",
    "    print('Hello World')"
   ]
  },
  {
   "cell_type": "markdown",
   "id": "6ceb143d-e6ce-4e0b-9b09-b31c079779d4",
   "metadata": {},
   "source": [
    "**<리스트 관련 기타 메서드>**\n",
    "- 함수명 / 사용법 / 설명 / 시간 복잡도\n",
    "- append() / `변수명.append()` / 리스트에 원소를 `하나` 삽입할 때 사용 / O(1)\n",
    "- sort() / `변수명.sort()` / 기본 정렬 기능으로 `오름차순`으로 정렬 / O(NlogN)\n",
    "- sort(reverse = True) / `변수명.sort(reverse = True)` / 내림차순으로 정렬 / O(NlogN)\n",
    "- reverse() / `변수명.reverse()` / 리스트의 원소의 순서를 모두 뒤집음 / O(N)\n",
    "- insert() / `변수명.insert(삽입할 위치 인덱스, 삽입할 값)` / 특정한 인덱스 위치에 원소를 삽입 / O(N)\n",
    "- count() / `변수명.count(특정 값)` / 리스트에서 특정한 값을 가지는 데이터의 개수를 셀 때 사용 / O(N)\n",
    "- remove() / `변수명.remove(특정 값)` / 특정한 값을 갖는 원소를 제거하는데, 값을 가진 원소가 여러개면 하나만 제거 / O(N)"
   ]
  },
  {
   "cell_type": "code",
   "execution_count": 30,
   "id": "566c7119-4b3d-4950-ae5c-f0ce9d8c68b2",
   "metadata": {},
   "outputs": [
    {
     "name": "stdout",
     "output_type": "stream",
     "text": [
      "[1, 4, 3]\n",
      "[1, 4, 3, 2]\n",
      "[4, 3, 2, 1]\n",
      "[1, 2, 3, 4]\n",
      "[1, 2, 3, 3, 4]\n",
      "2\n",
      "[1, 2, 3, 4]\n"
     ]
    }
   ],
   "source": [
    "a = [1, 4, 3]\n",
    "print(a)\n",
    "\n",
    "# 리스트에 원소 삽입\n",
    "a.append(2)\n",
    "print(a)\n",
    "\n",
    "# 오름차순 정렬\n",
    "a.sort()\n",
    "\n",
    "# 내림차순 정렬\n",
    "a.sort(reverse = True)\n",
    "print(a)\n",
    "\n",
    "# 리스트 원소 뒤집기\n",
    "a.reverse()\n",
    "print(a)\n",
    "\n",
    "# 특정 인덱스에 데이터 추가 - 인덱스 2에 3추가\n",
    "a.insert(2, 3)\n",
    "print(a)\n",
    "\n",
    "# 특정 값이 데이터 개수 세기\n",
    "print(a.count(3))\n",
    "\n",
    "# 특정 값 데이터 삭제 - 처음 1개만 삭제됨!\n",
    "a.remove(3)\n",
    "print(a)"
   ]
  },
  {
   "cell_type": "code",
   "execution_count": 29,
   "id": "59f7d468-0275-4501-b8a1-9ca3270880f6",
   "metadata": {},
   "outputs": [
    {
     "name": "stdout",
     "output_type": "stream",
     "text": [
      "[1, 2, 4]\n"
     ]
    }
   ],
   "source": [
    "# 리스트에서 특정 값을 가지는 원소를 모두 제거하기\n",
    "a = [1,2,3,4,5,5,5]\n",
    "remove_set = {3,5} # 집합 자료형\n",
    "\n",
    "# remove_set에 포함되지 않은 값만을 저장\n",
    "result = [i for i in a if i not in remove_set]\n",
    "print(result)"
   ]
  },
  {
   "cell_type": "markdown",
   "id": "e4ab8e86-766e-46ea-af3d-9f33c2e136cb",
   "metadata": {},
   "source": [
    "### 4. 문자열 자료형\n",
    "- 문자열 변수를 `초기화`할 때는 큰따옴표 or 작은 따옴표 이용\n",
    "- 문자열 안에 큰따옴표 or 작음따음표 사용하려면 교차해서 쓰거나 / 백슬래시(\\) 활용"
   ]
  },
  {
   "cell_type": "code",
   "execution_count": 32,
   "id": "8f9134ad-80cc-4c29-8fa6-73f8205f0601",
   "metadata": {},
   "outputs": [
    {
     "name": "stdout",
     "output_type": "stream",
     "text": [
      "Hello World\n",
      "Don't you know \"Python\"?\n"
     ]
    }
   ],
   "source": [
    "data = ('Hello World')\n",
    "print(data)\n",
    "\n",
    "data = \"Don't you know \\\"Python\\\"?\"\n",
    "print(data)"
   ]
  },
  {
   "cell_type": "markdown",
   "id": "1ed89da9-0239-46f1-908a-fe17d7aeb0a0",
   "metadata": {},
   "source": [
    "<문자열 연산>\n",
    "- 문자열 변수에 `덧셈(+)`을 이용하면 문자여리 더해져서 `연결(concaenate)` 됨\n",
    "- 문자열 변수를 특정한 양의 정수와 `곱하면` 그 값만큼 여러번 더해짐\n",
    "- 문자열도 `인덱싱과 슬라이싱` 이용 가능\n",
    "- 하지만 문자열은 특정 인덱스의 값을 `변경할 수 없다` (Immutable)"
   ]
  },
  {
   "cell_type": "code",
   "execution_count": 33,
   "id": "4abb9f8f-6bb9-4397-aa63-bb7e46c7d841",
   "metadata": {},
   "outputs": [
    {
     "name": "stdout",
     "output_type": "stream",
     "text": [
      "Hello World\n",
      "StringStringString\n",
      "CD\n"
     ]
    }
   ],
   "source": [
    "a = \"Hello\"\n",
    "b = \"World\"\n",
    "print(a + \" \" + b)\n",
    "\n",
    "a = \"String\"\n",
    "print(a * 3)\n",
    "\n",
    "a = \"ABCDEF\"\n",
    "print(a[2 : 4])"
   ]
  },
  {
   "cell_type": "code",
   "execution_count": 35,
   "id": "33b83ae0-9a0a-474c-8714-5e932bea5494",
   "metadata": {},
   "outputs": [
    {
     "ename": "TypeError",
     "evalue": "'str' object does not support item assignment",
     "output_type": "error",
     "traceback": [
      "\u001b[1;31m---------------------------------------------------------------------------\u001b[0m",
      "\u001b[1;31mTypeError\u001b[0m                                 Traceback (most recent call last)",
      "Cell \u001b[1;32mIn [35], line 2\u001b[0m\n\u001b[0;32m      1\u001b[0m a \u001b[38;5;241m=\u001b[39m \u001b[38;5;124m'\u001b[39m\u001b[38;5;124mabc\u001b[39m\u001b[38;5;124m'\u001b[39m\n\u001b[1;32m----> 2\u001b[0m \u001b[43ma\u001b[49m\u001b[43m[\u001b[49m\u001b[38;5;241;43m1\u001b[39;49m\u001b[43m]\u001b[49m \u001b[38;5;241m=\u001b[39m \u001b[38;5;124m'\u001b[39m\u001b[38;5;124mz\u001b[39m\u001b[38;5;124m'\u001b[39m\n\u001b[0;32m      3\u001b[0m \u001b[38;5;28mprint\u001b[39m(a)\n",
      "\u001b[1;31mTypeError\u001b[0m: 'str' object does not support item assignment"
     ]
    }
   ],
   "source": [
    "a = 'abc'\n",
    "a[1] = 'z'\n",
    "print(a)"
   ]
  },
  {
   "cell_type": "markdown",
   "id": "a215f853-61c4-4596-b74e-98bf4310f037",
   "metadata": {},
   "source": [
    "### 5. 튜플 자료형\n",
    "- 튜플 자료형은 리스트와 유사하지만 문법적 차이O\n",
    "- 튜플은 `한 번 선언된 값을 변경할 수 없다!`\n",
    "- 리스트는 대괄호([]), 튜플은 소괄호(()) 이용\n",
    "- 튜플은 리스트에 비해 상대적으로 `공간 효율적`"
   ]
  },
  {
   "cell_type": "code",
   "execution_count": 37,
   "id": "228af5f4-a666-4524-8e1f-2a679c662cf9",
   "metadata": {},
   "outputs": [
    {
     "name": "stdout",
     "output_type": "stream",
     "text": [
      "4\n",
      "(2, 3, 4)\n"
     ]
    }
   ],
   "source": [
    "a = (1,2,3,4,5,6,7,8,9)\n",
    "\n",
    "# 4번째 원소\n",
    "print(a[3])\n",
    "\n",
    "# 2-4번째 원소\n",
    "print(a[1 : 4])"
   ]
  },
  {
   "cell_type": "markdown",
   "id": "7d52da36-abec-4c81-a6d8-d024ef56314f",
   "metadata": {},
   "source": [
    "<튜플을 사용하면 좋은 경우>\n",
    "- `서로 다른 성질`의 데이터를 묶어서 관리할 떄 ex. `최단 경로 알고리즘에서 (비용, 노드 번호)` 의 형태로 튜플 자주 사용\n",
    "- 데이터의 나열을 `해싱(Hashing)의 키 값`으로 사용해야 할 때 >> 튜플은 변경 불가능하므로 리스트와 다르게 `키 값`으로 사용 가능\n",
    "- 리스트보다 `메모리를 효율적`으로 사용해야 할 때 "
   ]
  },
  {
   "cell_type": "markdown",
   "id": "0b9389f7-7ae9-4f3e-9708-efe782bd4310",
   "metadata": {},
   "source": [
    "### 6. 사전 자료형\n",
    "- `키(key)와 값(value)의 쌍`을 데이터로 가지는 자료형 \n",
    "- `순서 없음` (순차적으로 값을 저장하는 리스트와 튜플과는 다름.)\n",
    "- 사전 자료형은 `변경 불가능(Immutable)한 자료형`을 `키`로 사용할 수 있음\n",
    "- 파이썬의 사전 자료형은 해시 테이블(Hash Table)을 이용하므로 `데이터의 조회 및 수정에 있어서 O(1)의 시간 처리`함"
   ]
  },
  {
   "cell_type": "code",
   "execution_count": 38,
   "id": "cfecc4d1-399b-4997-9c7d-3acca58fd06b",
   "metadata": {},
   "outputs": [
    {
     "name": "stdout",
     "output_type": "stream",
     "text": [
      "{'사과': 'Apple', '바나나': 'Banana', '코코넛': 'Coconut'}\n",
      "'사과'를 키로 가지는 데이터가 존재합니다.\n"
     ]
    }
   ],
   "source": [
    "data = dict()\n",
    "data['사과'] = 'Apple'\n",
    "data['바나나'] = 'Banana'\n",
    "data['코코넛'] = 'Coconut'\n",
    "\n",
    "print(data)\n",
    "\n",
    "if '사과' in data: # 키로 삽입 조회!\n",
    "    print(\"'사과'를 키로 가지는 데이터가 존재합니다.\")"
   ]
  },
  {
   "cell_type": "markdown",
   "id": "f6115e4c-39be-4dd1-be62-507ff0eeaa35",
   "metadata": {},
   "source": [
    "**<사전 자료형 관련 메서드>**\n",
    "- 사전 자료형은 키와 값을 별도로 뽑아내기 위한 메서드가 있음\n",
    "- `keys() 함수` : 키 데이터만 뽑아서 리스트로 이용\n",
    "- `values() 함수` : 값 데이터만 뽑아서 리스트로 이용"
   ]
  },
  {
   "cell_type": "code",
   "execution_count": 39,
   "id": "874c2002-8e70-43d6-8bf9-ff13c6da63b9",
   "metadata": {},
   "outputs": [
    {
     "name": "stdout",
     "output_type": "stream",
     "text": [
      "dict_keys(['사과', '바나나', '코코넛'])\n",
      "dict_values(['Apple', 'Banana', 'Coconut'])\n",
      "Apple\n",
      "Banana\n",
      "Coconut\n"
     ]
    }
   ],
   "source": [
    "data = dict()\n",
    "data['사과'] = 'Apple'\n",
    "data['바나나'] = 'Banana'\n",
    "data['코코넛'] = 'Coconut'\n",
    "\n",
    "# 키 데이터만 담은 리스트\n",
    "key_list = data.keys()\n",
    "# 값 데이터만 담은 리스트\n",
    "value_list = data.values()\n",
    "print(key_list)\n",
    "print(value_list)\n",
    "\n",
    "# 각 키에 따른 갑슬 하나씩 출력:\n",
    "for key in key_list:\n",
    "    print(data[key])"
   ]
  },
  {
   "cell_type": "code",
   "execution_count": 42,
   "id": "12d8fbe3-6a4d-40c4-a98d-333aeb5d6520",
   "metadata": {},
   "outputs": [
    {
     "name": "stdout",
     "output_type": "stream",
     "text": [
      "{'홍길동': 97, '이순신': 98}\n",
      "98\n",
      "dict_keys(['홍길동', '이순신'])\n",
      "['홍길동', '이순신']\n"
     ]
    }
   ],
   "source": [
    "b = {\n",
    "    '홍길동' : 97,\n",
    "    '이순신' : 98\n",
    "}\n",
    "\n",
    "print(b)\n",
    "print(b['이순신'])\n",
    "\n",
    "key_list = b.keys()\n",
    "print(key_list)\n",
    "\n",
    "key_list = list(b.keys())\n",
    "print(key_list)"
   ]
  },
  {
   "cell_type": "markdown",
   "id": "2df0575e-4946-4598-a895-88c8fc6fbea6",
   "metadata": {},
   "source": [
    "### 7. 집합 자료형\n",
    "- 집합 특징: 중복 허용X, 순서X\n",
    "- 집합은 `리스트 or 문자열`을 이용해서 초기화할 수 있음 >> 이때 `set() 함수` 이용\n",
    "- 혹은 `중괄호({})` 안에 콤마를 기준으로 구분하여 삽입해서 초기화\n",
    "- `데이터 조회 및 수정에 있어서 O(1)의 시간`으로 처리"
   ]
  },
  {
   "cell_type": "code",
   "execution_count": 2,
   "id": "65e7c536-5e67-4c09-a167-d717c330b099",
   "metadata": {},
   "outputs": [
    {
     "name": "stdout",
     "output_type": "stream",
     "text": [
      "{1, 2, 3, 4, 5}\n",
      "{1, 2, 3, 4, 5}\n",
      "{'a', 'r', 's', 't'}\n"
     ]
    }
   ],
   "source": [
    "# 집합 자료형 초기화 방법 1\n",
    "data = set([1,1,2,3,4,4,5])\n",
    "print(data)\n",
    "\n",
    "# 집합 자료형 초기화 방법 2\n",
    "data = {1,1,2,3,4,4,5}\n",
    "print(data)\n",
    "\n",
    "data = set('sstraa')\n",
    "print(data)"
   ]
  },
  {
   "cell_type": "code",
   "execution_count": 4,
   "id": "0cfb58ab-529e-4c69-b4e7-b364d518f4cb",
   "metadata": {},
   "outputs": [
    {
     "name": "stdout",
     "output_type": "stream",
     "text": [
      "True\n"
     ]
    }
   ],
   "source": [
    "print('r' in data)"
   ]
  },
  {
   "cell_type": "markdown",
   "id": "935758e0-11a3-43d6-86da-b58e1581f11f",
   "metadata": {},
   "source": [
    "<집합 자료형의 연산>\n",
    "- 합집합, 교집합, 차집합 연산 등이 있음\n",
    "- `합집합` : 집합 A에 속하거나 or B에 속하는 원소로 이뤄진 집합 (A U B)\n",
    "- `교집합` : 집합 A에 속하고 and B에도 속하는 원소로 이뤄진 집합 (A n B)\n",
    "- `차집합` : 집합 A의 원소 중에서 B에 속하지 않는 원소들로 이뤄진 집합 (A - B)"
   ]
  },
  {
   "cell_type": "code",
   "execution_count": 44,
   "id": "4c22c176-2507-457d-bf67-92dd198fd3da",
   "metadata": {},
   "outputs": [
    {
     "name": "stdout",
     "output_type": "stream",
     "text": [
      "{1, 2, 3, 4, 5, 6, 7}\n",
      "{3, 4, 5}\n",
      "{1, 2}\n"
     ]
    }
   ],
   "source": [
    "a = set([1,2,3,4,5])\n",
    "b = set([3,4,5,6,7])\n",
    "\n",
    "# 합집합\n",
    "print(a | b)\n",
    "\n",
    "# 교집합\n",
    "print(a & b)\n",
    "\n",
    "# 차집합\n",
    "print(a - b)"
   ]
  },
  {
   "cell_type": "code",
   "execution_count": 45,
   "id": "54be7727-a5d0-4fd6-a32d-19bf8bb57836",
   "metadata": {},
   "outputs": [
    {
     "name": "stdout",
     "output_type": "stream",
     "text": [
      "{1, 2, 3}\n",
      "{1, 2, 3, 4}\n",
      "{1, 2, 3, 4, 5, 6}\n",
      "{1, 2, 4, 5, 6}\n"
     ]
    }
   ],
   "source": [
    "# 집합 자료형 관련 함수\n",
    "data = set([1,2,3])\n",
    "print(data)\n",
    "\n",
    "# 새로운 원소 추가\n",
    "data.add(4)\n",
    "print(data)\n",
    "\n",
    "# 새로운 원소 여러개 추가\n",
    "data.update([5, 6])\n",
    "print(data)\n",
    "\n",
    "# 특정한 값을 갖는 원소 삭제\n",
    "data.remove(3)\n",
    "print(data)"
   ]
  },
  {
   "cell_type": "markdown",
   "id": "8a35912d-cd8c-4260-83ec-aded5ed18232",
   "metadata": {},
   "source": [
    "**<사전 자료형과 집합 자료형의 특징>**\n",
    "- 리스트나 튜플은 순서가 있기 때문에 인덱싱을 통해 자료형의 값을 얻을 수 있다.\n",
    "- 사전 자료형과 집합 자료형은 `순서가 없기 때문에` 인덱시으로 값을 얻을 수 없다.\n",
    "- 사전의 키(key)나 집합의 원소(element)를 이용해 O(1)의 시간 복잡도로 조회"
   ]
  },
  {
   "cell_type": "markdown",
   "id": "7710852a-0511-4538-9b95-48b1e726f465",
   "metadata": {},
   "source": [
    "## 기본 입출력\n",
    "- 모든 프로그램은 적절한 (약속된) 입출력 양식을 가지고 있음\n",
    "- 프로그램 동작의 첫번째 단계는 데이터를 입력 받거나 생성하는 것!"
   ]
  },
  {
   "cell_type": "markdown",
   "id": "2a4ac70a-8c3f-4dcc-a10f-ade926dee7d4",
   "metadata": {},
   "source": [
    "<자주 사용되는 표준 입력 방법>\n",
    "- input() : 한 줄의 `문자열`을 입력 받는 함수\n",
    "- map() : `리스트의 모든 원소에 각각 특정한 함수를 적용`할 때 사용 \n",
    "- ex. `list(map(int, input().split()))` >> 공백을 기준으로 구분된 데이터 입력 받을 때\n",
    "- ex. `a, b, c = map(int, input().split())` >> 공백을 기준으로 구분된 데이터의 개수가 많지 않다면, 이렇게!"
   ]
  },
  {
   "cell_type": "code",
   "execution_count": 46,
   "id": "6b531474-01fc-404e-b8a9-85d83d6dc043",
   "metadata": {},
   "outputs": [
    {
     "name": "stdin",
     "output_type": "stream",
     "text": [
      " 5\n",
      " 65 90 75 34 99\n"
     ]
    },
    {
     "name": "stdout",
     "output_type": "stream",
     "text": [
      "[99, 90, 75, 65, 34]\n"
     ]
    }
   ],
   "source": [
    "# 데이터의 개수 입력\n",
    "n = int(input())\n",
    "# 각 데이터를 공백을 기준으로 구분하여 입력\n",
    "data = list(map(int, input().split()))\n",
    "\n",
    "data.sort(reverse=True)\n",
    "print(data)"
   ]
  },
  {
   "cell_type": "code",
   "execution_count": 47,
   "id": "d6255726-e495-46c8-a823-69a2cde871c9",
   "metadata": {},
   "outputs": [
    {
     "name": "stdin",
     "output_type": "stream",
     "text": [
      " 3 5 7\n"
     ]
    },
    {
     "name": "stdout",
     "output_type": "stream",
     "text": [
      "3 5 7\n"
     ]
    }
   ],
   "source": [
    "# n,m,k를 공백을 기준으로 구분하여 입력\n",
    "n, m, k = map(int, input().split())\n",
    "\n",
    "print(n, m, k)"
   ]
  },
  {
   "cell_type": "markdown",
   "id": "a6521eac-12e6-4894-8644-0f8cf7ffdf68",
   "metadata": {},
   "source": [
    "<빠르게 입력 받기>\n",
    "- 사용자로부터 `입력을 최대한 빠르게 받아야 하는 경우`\n",
    "- 파이썬의 경우 `sys 라이브러리`에 정의 되어 있는 `sys.stdin.readlin()` 메서드를 이용\n",
    "- 단, 입력 후 엔터(Enter)가 줄 바꿈 기호로 입력되므로 rstrip() 메서드를 함께 사용"
   ]
  },
  {
   "cell_type": "code",
   "execution_count": 48,
   "id": "7eaf1d7c-55c4-4ade-bda2-1e91605a8ede",
   "metadata": {},
   "outputs": [
    {
     "name": "stdout",
     "output_type": "stream",
     "text": [
      "\n"
     ]
    }
   ],
   "source": [
    "import sys\n",
    "\n",
    "# 문자열 입력 받기\n",
    "data = sys.stdin.readline().rstrip()\n",
    "print(data)"
   ]
  },
  {
   "cell_type": "markdown",
   "id": "e40543c0-bcd4-4214-8f0b-60f60cc335e3",
   "metadata": {},
   "source": [
    "<자주 사용되는 표준 입출력 방법>\n",
    "- 파이썬에서 기본 출력은 print() 함수 >> 각 변수를 콤마를 이용하여 `띄어쓰기`로 구분하여 출력\n",
    "- print()는 기본적으로 `출력 이후에 줄 바꿈을 수행` >> 줄 바꿈을 원치 않으면 `end` 속성을 이용"
   ]
  },
  {
   "cell_type": "code",
   "execution_count": 13,
   "id": "fb42a526-425b-4b10-8cb8-66fa9acde376",
   "metadata": {},
   "outputs": [
    {
     "name": "stdout",
     "output_type": "stream",
     "text": [
      "1 2\n",
      "7 8 정답은7입니다.\n"
     ]
    }
   ],
   "source": [
    "# 출력할 변수들\n",
    "a = 1\n",
    "b = 2\n",
    "print(a, b)\n",
    "print(7, end=\" \") # 다음거에 영향 / \"\" 이렇게 하면 78 붙어서 출력됨\n",
    "print(8, end=\" \")\n",
    "\n",
    "# 출력할 변수\n",
    "answer = 7\n",
    "print('정답은' + str(answer) + '입니다.') # +연산으로 이으려면 str로 변환해줘야 함!!"
   ]
  },
  {
   "cell_type": "markdown",
   "id": "a9ca839c-6f61-45fd-8b4a-b51fc7bbbd32",
   "metadata": {},
   "source": [
    "**<f-string 예제>**\n",
    "- 문자열 앞에 `접두사 'f'`를 붙여 사용\n",
    "- `중괄호` 안에 변수명을 기입하여 간단히 문자열과 정수를 함께 넣을 수 있음"
   ]
  },
  {
   "cell_type": "code",
   "execution_count": 51,
   "id": "acf3ca8c-42b9-41ca-b395-cb019e2afecb",
   "metadata": {},
   "outputs": [
    {
     "name": "stdout",
     "output_type": "stream",
     "text": [
      "정답은 7입니다.\n"
     ]
    }
   ],
   "source": [
    "answer = 7\n",
    "print(f'정답은 {answer}입니다.')"
   ]
  },
  {
   "cell_type": "markdown",
   "id": "48381c81-e96e-4b98-835b-3086225e6b53",
   "metadata": {},
   "source": [
    "## 조건문\n",
    "- 조건문은 `프로그램의 흐름을 제어하는 문법`이다.\n",
    "- 조건문을 이용해 조건에 따라서 프로그램의 로직을 설정할 수 있음"
   ]
  },
  {
   "cell_type": "code",
   "execution_count": 53,
   "id": "cfc08e0e-52cf-4175-a62f-9b0e4e16d656",
   "metadata": {},
   "outputs": [
    {
     "name": "stdout",
     "output_type": "stream",
     "text": [
      "x >= 10\n",
      "x > 0\n"
     ]
    }
   ],
   "source": [
    "# 조건문 예제\n",
    "x = 15\n",
    "\n",
    "if x >= 10:\n",
    "    print('x >= 10')\n",
    "if x > 0:\n",
    "    print('x > 0')\n",
    "if x > 30:\n",
    "    print('x > 30')"
   ]
  },
  {
   "cell_type": "markdown",
   "id": "d11df57b-5c36-4e61-ab89-8a0231afbd6f",
   "metadata": {},
   "source": [
    "<들여쓰기>\n",
    "- 파이썬에서는 `코드의 블록(Block)을 들여쓰기(Indent)로 지정`한다.\n",
    "- 탭을 사용 / 공백 문자(space) 여러번 사용 >> 파이썬 스타일 가이드라인은 4개의 공백 문자를 사용하는게 표준"
   ]
  },
  {
   "cell_type": "code",
   "execution_count": 54,
   "id": "24cb15a1-faed-4078-9267-81abc0b5c042",
   "metadata": {},
   "outputs": [
    {
     "name": "stdout",
     "output_type": "stream",
     "text": [
      "성적이 70점 이상입니다.\n",
      "프로그램을 종료합니다.\n"
     ]
    }
   ],
   "source": [
    "score = 85\n",
    "\n",
    "if score >= 70:\n",
    "    print('성적이 70점 이상입니다.')\n",
    "    if score >= 90:\n",
    "        print('우수한 성적입니다.')\n",
    "else:\n",
    "    print('성적이 70점 미만입니다')\n",
    "    print('좀 더 분발하세요')\n",
    "    \n",
    "print('프로그램을 종료합니다.') # 항상 출력됨"
   ]
  },
  {
   "cell_type": "markdown",
   "id": "1826f23e-8c33-46b7-8eea-de8e892e2dd2",
   "metadata": {},
   "source": [
    "<조건문의 기본 형태>\n",
    "- `if ~ elif ~ else`\n",
    "- elif 혹은 else 부분은 경우에 따라 사용하지 않아도 됨\n",
    "- elif 여러번 사용 가능"
   ]
  },
  {
   "cell_type": "code",
   "execution_count": 55,
   "id": "8f96c2f8-ee52-4c99-9a0b-ee9e15d6139d",
   "metadata": {},
   "outputs": [
    {
     "name": "stdout",
     "output_type": "stream",
     "text": [
      "2\n"
     ]
    }
   ],
   "source": [
    "a = -10\n",
    "\n",
    "if a >= 0:\n",
    "    print(1)\n",
    "elif 0 > a >= -10:\n",
    "    print(2)\n",
    "else:\n",
    "    print(3)"
   ]
  },
  {
   "cell_type": "markdown",
   "id": "90735e5c-e976-4869-b17e-4592f77971da",
   "metadata": {},
   "source": [
    "<비교 연산자>\n",
    "- 비교 연산자는 `특정한 두 값을 비교할 때 이용` >> ==, !=, >, <, >=, <=\n",
    "- 대입 연산자(=)와 같음 연산자(==) 다름!!!"
   ]
  },
  {
   "cell_type": "markdown",
   "id": "0b977828-85ce-4559-8046-d0d6c0be506b",
   "metadata": {},
   "source": [
    "<논리 연산자>\n",
    "- 논리 연산자는 `논리 값(True/False) 사이의 연산`을 수행할 때 사용 >> and(모두 참일때 참), or(둘 중 하나만 참이어도 참), not(거짓이면 참)"
   ]
  },
  {
   "cell_type": "code",
   "execution_count": 56,
   "id": "55282632-664f-4ea3-9b7b-f247ae5a0f33",
   "metadata": {},
   "outputs": [
    {
     "name": "stdout",
     "output_type": "stream",
     "text": [
      "Yes\n"
     ]
    }
   ],
   "source": [
    "if True or False:\n",
    "    print('Yes')"
   ]
  },
  {
   "cell_type": "code",
   "execution_count": 57,
   "id": "50f99624-ac96-4251-b3da-55eb457d243c",
   "metadata": {},
   "outputs": [],
   "source": [
    "if True and False:\n",
    "    print('Yes')"
   ]
  },
  {
   "cell_type": "code",
   "execution_count": 59,
   "id": "6ebfa8a2-aa69-4d37-b9d7-2dc0f04e7914",
   "metadata": {},
   "outputs": [
    {
     "name": "stdout",
     "output_type": "stream",
     "text": [
      "Yes\n"
     ]
    }
   ],
   "source": [
    "a = 15\n",
    "\n",
    "if a <= 20 and a >= 0:\n",
    "    print('Yes')"
   ]
  },
  {
   "cell_type": "markdown",
   "id": "5cd74492-9c9e-46fa-86ca-3593e277cb0b",
   "metadata": {},
   "source": [
    "<파이썬의 기타 연산자>\n",
    "- 다수의 데이터를 담는 자료형을 위해 `in 연산자`와 `not in 연산자`가 제공됨\n",
    "- 리스트, 튜플, 문자열, 딕셔너리 모두에서 사용 가능\n",
    "- x in 리스트 : 리스트 안에 x가 들어가 있을 때 참(True)\n",
    "- x not in 문자열 : 문자열 안에 x가 들어가 있지 않을 때 참(True)"
   ]
  },
  {
   "cell_type": "markdown",
   "id": "70996560-4429-4e9e-a022-7f6beb710a91",
   "metadata": {},
   "source": [
    "<파이썬의 pass 키워드>\n",
    "- `아무것도 처리하고 싶지 않을 때` pass 키워드를 사용\n",
    "- ex. 디버깅 과정에서 일단 조건문의 형태만 만들어 놓고, 조건문을 처리하는 부분은 비워놓고 싶은 경우"
   ]
  },
  {
   "cell_type": "code",
   "execution_count": 60,
   "id": "b4606eee-537a-4b1c-a2da-c320e18ebd6b",
   "metadata": {},
   "outputs": [
    {
     "name": "stdout",
     "output_type": "stream",
     "text": [
      "프로그램을 종료합니다.\n"
     ]
    }
   ],
   "source": [
    "score = 85\n",
    "\n",
    "if score >= 80:\n",
    "    pass # 나중에 작성한 소스코드\n",
    "else:\n",
    "    print('성적이 80점 미만입니다.')\n",
    "    \n",
    "print('프로그램을 종료합니다.')"
   ]
  },
  {
   "cell_type": "markdown",
   "id": "bbe4075b-a088-42cb-af02-6091cf304e77",
   "metadata": {},
   "source": [
    "<조건문의 간소화>\n",
    "- 조건문에서 실행될 소스코드가 `한줄`일 경우, 굳이 줄바꿈 하지 않고도 간략하게 표현 가능\n",
    "- 조건부 표현식(Conditional Expression)은 `if ~ else문을 한줄에 작성`할 수 있도록 해줌"
   ]
  },
  {
   "cell_type": "code",
   "execution_count": 62,
   "id": "73bf36e7-0ece-4ece-a8b1-80345a996f33",
   "metadata": {},
   "outputs": [
    {
     "name": "stdout",
     "output_type": "stream",
     "text": [
      "Success\n"
     ]
    }
   ],
   "source": [
    "score = 85\n",
    "\n",
    "# 한줄\n",
    "if score >= 80: result = 'Success'\n",
    "else: result = 'Fail'\n",
    "\n",
    "print(result)"
   ]
  },
  {
   "cell_type": "code",
   "execution_count": 63,
   "id": "4df072fe-528e-4844-a427-49451b5fce70",
   "metadata": {},
   "outputs": [
    {
     "name": "stdout",
     "output_type": "stream",
     "text": [
      "Success\n"
     ]
    }
   ],
   "source": [
    "score = 85\n",
    "\n",
    "# 조건부 표현식\n",
    "score = 'Success' if score >= 80 else 'Fail'\n",
    "\n",
    "print(result)"
   ]
  },
  {
   "cell_type": "markdown",
   "id": "481b42b1-bf0a-49a1-921d-e69a6a7f687c",
   "metadata": {},
   "source": [
    "<파이썬 조건문 내에서의 부등식>\n",
    "- 다른 프로그래밍 언어와 다르게 파이썬은 조건문 안에서 수학의 부등식을 그대로 사용 가능\n",
    "- ex. `x > 0 and x < 20` 과 `0 < x < 20` 은 같은 결과 반환"
   ]
  },
  {
   "cell_type": "code",
   "execution_count": 64,
   "id": "c306214d-aa57-4d9d-ad0f-2c27977c4d4d",
   "metadata": {},
   "outputs": [
    {
     "name": "stdout",
     "output_type": "stream",
     "text": [
      "x는 0이상 20미만의 수입니다.\n"
     ]
    }
   ],
   "source": [
    "x = 15\n",
    "if x > 0 and x < 20:\n",
    "    print('x는 0이상 20미만의 수입니다.')"
   ]
  },
  {
   "cell_type": "code",
   "execution_count": 65,
   "id": "d0592822-6cb7-4a2b-9a6f-b387461e689f",
   "metadata": {},
   "outputs": [
    {
     "name": "stdout",
     "output_type": "stream",
     "text": [
      "x는 0이상 20미만의 수입니다.\n"
     ]
    }
   ],
   "source": [
    "x = 15\n",
    "if 0 < x < 20:\n",
    "    print('x는 0이상 20미만의 수입니다.')"
   ]
  },
  {
   "cell_type": "markdown",
   "id": "c4c87916-3730-4c46-a176-0e5cd2f97a45",
   "metadata": {},
   "source": [
    "## 반복문\n",
    "- 특정한 소스코드를 `반복적으로 실행하고자 할 때 사용하는 문법`\n",
    "- 파이썬에서는 `while문과 for문`이 있음 (for문이 좀 더 간결할때가 많긴 함)"
   ]
  },
  {
   "cell_type": "code",
   "execution_count": 66,
   "id": "5217519b-5a7d-415b-b286-adfa804fc045",
   "metadata": {},
   "outputs": [
    {
     "name": "stdout",
     "output_type": "stream",
     "text": [
      "45\n"
     ]
    }
   ],
   "source": [
    "# 1부터 9까지 모든 정수의 합 구하기 예제(while문)\n",
    "i = 1\n",
    "result = 0\n",
    "\n",
    "while i <= 9: # i가 9보다 작거나 같을 때까지 반복\n",
    "    result += i\n",
    "    i += 1\n",
    "    \n",
    "print(result)"
   ]
  },
  {
   "cell_type": "code",
   "execution_count": 67,
   "id": "339e3f9f-1895-4ccd-93fe-dfb94bf5f7dd",
   "metadata": {},
   "outputs": [
    {
     "name": "stdout",
     "output_type": "stream",
     "text": [
      "25\n"
     ]
    }
   ],
   "source": [
    "# 1부터 9까지 홀수 합 구하기(while문)\n",
    "i = 1\n",
    "result = 0\n",
    "\n",
    "while i <= 9:\n",
    "    if i % 2 == 1:\n",
    "        result += i\n",
    "    i += 1\n",
    "    \n",
    "print(result)"
   ]
  },
  {
   "cell_type": "markdown",
   "id": "c6892f7c-4457-49ee-b851-2a016957c28a",
   "metadata": {},
   "source": [
    "<반복문에서의 무한 루프>\n",
    "- `무한 루프(Infinite Loop)`란 끊임없이 반복되는 반복 구문을 의미\n",
    "- 코테에서는 무한루프 구현할 일 거의x\n",
    "- 반복문을 작성한 뒤에는 항상 `반복문을 탈출할 수 있는지` 확인하기!"
   ]
  },
  {
   "cell_type": "code",
   "execution_count": null,
   "id": "ada296ae-7aa7-459f-b181-7f2838a86e6b",
   "metadata": {},
   "outputs": [],
   "source": [
    "# # 무한 루프\n",
    "# x = 10\n",
    "\n",
    "# while x > 5:\n",
    "#     print(x)"
   ]
  },
  {
   "cell_type": "markdown",
   "id": "9d269823-c09b-42d7-ba1a-6ea5dead8a95",
   "metadata": {},
   "source": [
    "**<반복문: for문>**\n",
    "- for문의 구조: 특정한 변수를 이용하여 'in'뒤에 오는 `데이터(리스트, 튜플 등)`에 포함되어 있는 원소를 첫번째 인덱스부터 차례대로 하나씩 방문\n",
    "- for 변수 in 리스트: 실행할 소스코드"
   ]
  },
  {
   "cell_type": "code",
   "execution_count": 68,
   "id": "e212564f-e7a0-4e2b-a02e-2dbae9461bc6",
   "metadata": {},
   "outputs": [
    {
     "name": "stdout",
     "output_type": "stream",
     "text": [
      "9\n",
      "8\n",
      "7\n",
      "6\n",
      "5\n"
     ]
    }
   ],
   "source": [
    "array = [9,8,7,6,5]\n",
    "\n",
    "for x in array:\n",
    "    print(x)"
   ]
  },
  {
   "cell_type": "code",
   "execution_count": 14,
   "id": "a1c67c7e-68b4-4f9a-86af-33972a177426",
   "metadata": {},
   "outputs": [
    {
     "name": "stdout",
     "output_type": "stream",
     "text": [
      "a\n",
      "p\n",
      "p\n",
      "l\n",
      "e\n"
     ]
    }
   ],
   "source": [
    "for i in 'apple':\n",
    "    print(i)"
   ]
  },
  {
   "cell_type": "markdown",
   "id": "d6e68760-2763-482e-b758-34bb19d934ef",
   "metadata": {},
   "source": [
    "- 연속적인 값을 차례대로 순회할 때는 `range()` 주로 사용 \n",
    "- range(시작값, 끝값+1) \n",
    "- 인자를 하나만 넣으면 자동으로 시작값은 0"
   ]
  },
  {
   "cell_type": "code",
   "execution_count": 69,
   "id": "84c1fb9e-0814-4eb8-8f18-13d21f4f5280",
   "metadata": {},
   "outputs": [
    {
     "name": "stdout",
     "output_type": "stream",
     "text": [
      "45\n"
     ]
    }
   ],
   "source": [
    "result = 0\n",
    "\n",
    "# i는 1부터 9까지의 모든 값을 순회\n",
    "for i in range(1, 10):\n",
    "    result += i\n",
    "    \n",
    "print(result)"
   ]
  },
  {
   "cell_type": "markdown",
   "id": "161114db-4939-4d0a-b266-646d9c8f129d",
   "metadata": {},
   "source": [
    "<파이썬의 continue 키워드>\n",
    "- 반복문에서 남은 코드의 실행을 건너뛰고, 다음 반복을 진행하고자 할때 `continue` 사용"
   ]
  },
  {
   "cell_type": "code",
   "execution_count": 70,
   "id": "3687662b-f8e9-4e16-ba38-e4b983eddd0c",
   "metadata": {},
   "outputs": [
    {
     "name": "stdout",
     "output_type": "stream",
     "text": [
      "25\n"
     ]
    }
   ],
   "source": [
    "# 1부터 9까지 홀수의 합\n",
    "result = 0\n",
    "\n",
    "for i in range(1, 10):\n",
    "    if i % 2 == 0:\n",
    "        continue\n",
    "    result += i\n",
    "\n",
    "print(result)"
   ]
  },
  {
   "cell_type": "markdown",
   "id": "3bcbd6c5-85e6-4ade-9268-b822be27243f",
   "metadata": {},
   "source": [
    "<파이썬의 break 키워드>\n",
    "- 반복문을 즉시 탈출하고자 할때 `break`를 사용"
   ]
  },
  {
   "cell_type": "code",
   "execution_count": 71,
   "id": "76e35382-e35b-4470-9ac7-f0cfcce8aaac",
   "metadata": {},
   "outputs": [
    {
     "name": "stdout",
     "output_type": "stream",
     "text": [
      "현재 i의 값: 1\n",
      "현재 i의 값: 2\n",
      "현재 i의 값: 3\n",
      "현재 i의 값: 4\n",
      "현재 i의 값: 5\n"
     ]
    }
   ],
   "source": [
    "# 1부터 5까지의 정수를 차례대로 출력\n",
    "i = 1\n",
    "\n",
    "while True:\n",
    "    print('현재 i의 값:', i)\n",
    "    if i == 5:\n",
    "        break\n",
    "    i += 1"
   ]
  },
  {
   "cell_type": "code",
   "execution_count": 72,
   "id": "1e89bfe5-8dff-4ec1-a62c-20e1bea172da",
   "metadata": {},
   "outputs": [
    {
     "name": "stdout",
     "output_type": "stream",
     "text": [
      "1 번 학생은 합격입니다.\n",
      "2 번 학생은 합격입니다.\n",
      "5 번 학생은 합격입니다.\n"
     ]
    }
   ],
   "source": [
    "# 학생들의 합격 여부 판단 예제1\n",
    "scores = [90, 85, 77, 65, 97]\n",
    "\n",
    "for i in range(5):\n",
    "    if scores[i] >= 80:\n",
    "        print(i + 1, \"번 학생은 합격입니다.\")"
   ]
  },
  {
   "cell_type": "code",
   "execution_count": 73,
   "id": "07a68a88-995f-46fe-a90f-aca10d74623d",
   "metadata": {},
   "outputs": [
    {
     "name": "stdout",
     "output_type": "stream",
     "text": [
      "1 번 학생은 합격입니다.\n",
      "5 번 학생은 합격입니다.\n"
     ]
    }
   ],
   "source": [
    "# 학생들의 합격 여부 판단 예제2\n",
    "scores = [90, 85, 77, 65, 97]\n",
    "cheating_student_list = {2, 4} # 주목\n",
    "\n",
    "for i in range(5):\n",
    "    if i+1 in cheating_student_list:\n",
    "        continue\n",
    "    if scores[i] >= 80:\n",
    "        print(i+1, '번 학생은 합격입니다.')"
   ]
  },
  {
   "cell_type": "code",
   "execution_count": 75,
   "id": "10e20e38-0b66-418d-94ee-991b39b42a83",
   "metadata": {},
   "outputs": [
    {
     "name": "stdout",
     "output_type": "stream",
     "text": [
      "2 X 1 = 2\n",
      "2 X 2 = 4\n",
      "2 X 3 = 6\n",
      "2 X 4 = 8\n",
      "2 X 5 = 10\n",
      "2 X 6 = 12\n",
      "2 X 7 = 14\n",
      "2 X 8 = 16\n",
      "2 X 9 = 18\n",
      "\n",
      "3 X 1 = 3\n",
      "3 X 2 = 6\n",
      "3 X 3 = 9\n",
      "3 X 4 = 12\n",
      "3 X 5 = 15\n",
      "3 X 6 = 18\n",
      "3 X 7 = 21\n",
      "3 X 8 = 24\n",
      "3 X 9 = 27\n",
      "\n"
     ]
    }
   ],
   "source": [
    "# 중첩된 반복문 : 구구단 예제\n",
    "for i in range(2, 4):\n",
    "    for j in range(1, 10):\n",
    "        print(i, 'X', j, '=', i * j)\n",
    "    print()"
   ]
  },
  {
   "cell_type": "markdown",
   "id": "7e5c9429-00ef-42da-86a6-6e6aaf48c208",
   "metadata": {},
   "source": [
    "## 함수\n",
    "- 함수(Function)란 `특정한 작업을 하나의 단위로 묶어 놓은 것`\n",
    "- 함수를 사용하면 불필요한 소스코드의 반복을 줄일 수 있음"
   ]
  },
  {
   "cell_type": "markdown",
   "id": "86d8dbdb-2cf9-4250-8b3d-ce3df709b3d4",
   "metadata": {},
   "source": [
    "<함수의 종류>\n",
    "- 내장 함수: 파이썬이 기본적으로 제공하는 함수\n",
    "- 사용자 정의 함수: 개발자가 직접 정의하여 사용할 수 있는 함수"
   ]
  },
  {
   "cell_type": "markdown",
   "id": "deaafa13-e9c5-434e-82e1-4768196b2c64",
   "metadata": {},
   "source": [
    "<함수 정의하기>\n",
    "- 프로그램에는 똑같은 코드가 반복적으로 사용되어야 할 때가 많다.\n",
    "- `함수를 사용하면 소스코드의 길이를 줄일 수 있다`\n",
    "- `매개변수` : 함수 내부에서 사용할 변수\n",
    "- `반환 값` : 함수에서 처리 된 결과를 반환"
   ]
  },
  {
   "cell_type": "code",
   "execution_count": null,
   "id": "c843d234-6e13-41e6-86a4-75c1113b2776",
   "metadata": {},
   "outputs": [],
   "source": [
    "def 함수명(매개변수):\n",
    "    실행할 소스코드\n",
    "    return 반환 값"
   ]
  },
  {
   "cell_type": "code",
   "execution_count": 76,
   "id": "da786196-b087-424d-bb23-5b81a86e2264",
   "metadata": {},
   "outputs": [
    {
     "name": "stdout",
     "output_type": "stream",
     "text": [
      "10\n"
     ]
    }
   ],
   "source": [
    "# 더하기 함수 예시1\n",
    "def add(a, b):\n",
    "    return a + b\n",
    "\n",
    "print(add(3, 7))"
   ]
  },
  {
   "cell_type": "code",
   "execution_count": 78,
   "id": "e5f8d9ef-8b8a-44e1-8d0d-da7d48c1634d",
   "metadata": {},
   "outputs": [
    {
     "name": "stdout",
     "output_type": "stream",
     "text": [
      "10\n"
     ]
    }
   ],
   "source": [
    "# 더하기 함수 예시1\n",
    "def add(a, b):\n",
    "    return a + b\n",
    "\n",
    "result = add(3,7)\n",
    "print(result)"
   ]
  },
  {
   "cell_type": "code",
   "execution_count": 77,
   "id": "dc7624b5-ca7b-488f-853a-57965ad74c96",
   "metadata": {},
   "outputs": [
    {
     "name": "stdout",
     "output_type": "stream",
     "text": [
      "함수의 결과: 10\n"
     ]
    }
   ],
   "source": [
    "# 더하기 함수 예시2\n",
    "def add(a, b):\n",
    "    print('함수의 결과:', a + b)\n",
    "\n",
    "add(3, 7)"
   ]
  },
  {
   "cell_type": "markdown",
   "id": "8b3ba199-7d9d-4c49-ab30-9224b5ed6225",
   "metadata": {},
   "source": [
    "<파라미터 지정하기>\n",
    "- `파라미터의 변수를 직접 지정`할 수 있다.\n",
    "- 이 경우 매개변수의 순서가 달라도 상관 없다."
   ]
  },
  {
   "cell_type": "code",
   "execution_count": 79,
   "id": "575d79d0-e548-454b-b874-78594974c18b",
   "metadata": {},
   "outputs": [
    {
     "name": "stdout",
     "output_type": "stream",
     "text": [
      "함수의 결과: 10\n"
     ]
    }
   ],
   "source": [
    "def add(a, b):\n",
    "    print('함수의 결과:', a + b)\n",
    "\n",
    "add(b = 3, a = 7)"
   ]
  },
  {
   "cell_type": "markdown",
   "id": "523b5b95-604a-4adb-983b-6ca896371e39",
   "metadata": {},
   "source": [
    "<global 키워드>\n",
    "- global 키워드로 변수를 지정하면 해당 함수에서는 지역변수를 만들지 않고, `함수 바깥에 선언된 변수를 바로 참조`하게 된다.\n",
    "- 만약 동일한 이름의 전역변수, 지역변수가 있으면 그 함수 안에서는 그 함수의 지역변수에 우선적으로 접근함"
   ]
  },
  {
   "cell_type": "code",
   "execution_count": 80,
   "id": "12789c2d-fde6-4f0d-84d4-2c2a95a11d55",
   "metadata": {},
   "outputs": [
    {
     "name": "stdout",
     "output_type": "stream",
     "text": [
      "10\n"
     ]
    }
   ],
   "source": [
    "a = 0 \n",
    "\n",
    "def func():\n",
    "    global a \n",
    "    a += 1\n",
    "    \n",
    "for i in range(10):\n",
    "    func()\n",
    "    \n",
    "print(a)"
   ]
  },
  {
   "cell_type": "code",
   "execution_count": 82,
   "id": "30e5f349-f228-45b4-a5d0-35a9cc650aa2",
   "metadata": {},
   "outputs": [
    {
     "ename": "UnboundLocalError",
     "evalue": "local variable 'a' referenced before assignment",
     "output_type": "error",
     "traceback": [
      "\u001b[1;31m---------------------------------------------------------------------------\u001b[0m",
      "\u001b[1;31mUnboundLocalError\u001b[0m                         Traceback (most recent call last)",
      "Cell \u001b[1;32mIn [82], line 7\u001b[0m\n\u001b[0;32m      4\u001b[0m     a \u001b[38;5;241m+\u001b[39m\u001b[38;5;241m=\u001b[39m \u001b[38;5;241m1\u001b[39m \u001b[38;5;66;03m# a 초기화 안됨. 변수 할당 안됨\u001b[39;00m\n\u001b[0;32m      5\u001b[0m     \u001b[38;5;28mprint\u001b[39m(a)\n\u001b[1;32m----> 7\u001b[0m \u001b[43mfunc\u001b[49m\u001b[43m(\u001b[49m\u001b[43m)\u001b[49m\n",
      "Cell \u001b[1;32mIn [82], line 4\u001b[0m, in \u001b[0;36mfunc\u001b[1;34m()\u001b[0m\n\u001b[0;32m      3\u001b[0m \u001b[38;5;28;01mdef\u001b[39;00m \u001b[38;5;21mfunc\u001b[39m():\n\u001b[1;32m----> 4\u001b[0m     a \u001b[38;5;241m+\u001b[39m\u001b[38;5;241m=\u001b[39m \u001b[38;5;241m1\u001b[39m \u001b[38;5;66;03m# a 초기화 안됨. 변수 할당 안됨\u001b[39;00m\n\u001b[0;32m      5\u001b[0m     \u001b[38;5;28mprint\u001b[39m(a)\n",
      "\u001b[1;31mUnboundLocalError\u001b[0m: local variable 'a' referenced before assignment"
     ]
    }
   ],
   "source": [
    "a = 10\n",
    "\n",
    "def func():\n",
    "    a += 1 # a 초기화 안됨. 변수 할당 안됨\n",
    "    print(a)\n",
    "\n",
    "func()"
   ]
  },
  {
   "cell_type": "markdown",
   "id": "2c94412b-49b1-471b-b716-685b90fb1c12",
   "metadata": {},
   "source": [
    "<여러 개의 반환 값>\n",
    "- 파이썬에서 함수는 여러 개의 반환 값을 가질 수 있다."
   ]
  },
  {
   "cell_type": "code",
   "execution_count": 84,
   "id": "8d738805-b7f5-42eb-9e19-85bb3169b926",
   "metadata": {},
   "outputs": [
    {
     "name": "stdout",
     "output_type": "stream",
     "text": [
      "10 4 21 2.3333333333333335\n"
     ]
    }
   ],
   "source": [
    "def operator(a, b):\n",
    "    add_var = a + b\n",
    "    subtract_var = a - b\n",
    "    multiply_var = a * b\n",
    "    divide_var = a / b\n",
    "    return add_var, subtract_var, multiply_var, divide_var # 패키\n",
    "\n",
    "a, b, c, d = operator(7,3) # 언패킹\n",
    "print(a, b, c, d)"
   ]
  },
  {
   "cell_type": "markdown",
   "id": "97ccc764-1d4f-49b0-b994-d9727ac228c5",
   "metadata": {},
   "source": [
    "<람다 표현식>\n",
    "- 람다 표현식을 이용하면 `함수를 간단하게 작성`할 수 있다.\n",
    "- 특정한 기능을 수행하는 함수를 `한 줄`에 작성할 수 있다."
   ]
  },
  {
   "cell_type": "code",
   "execution_count": 86,
   "id": "7b901a17-c889-4e6d-a3de-824712ec276f",
   "metadata": {},
   "outputs": [
    {
     "name": "stdout",
     "output_type": "stream",
     "text": [
      "10\n",
      "10\n"
     ]
    }
   ],
   "source": [
    "def add(a,b):\n",
    "    return a + b\n",
    "\n",
    "# 일반적인 add() 메서드 사용\n",
    "print(add(3, 7))\n",
    "\n",
    "# 람다 표현식으로 구현한 add 메서드\n",
    "print((lambda a, b: a + b)(3,7))"
   ]
  },
  {
   "cell_type": "code",
   "execution_count": 87,
   "id": "1c6dafb5-c6ab-4505-be6f-25ccf3e8f4e0",
   "metadata": {},
   "outputs": [
    {
     "name": "stdout",
     "output_type": "stream",
     "text": [
      "[('이순신', 32), ('홍길동', 50), ('아무개', 74)]\n",
      "[('이순신', 32), ('홍길동', 50), ('아무개', 74)]\n"
     ]
    }
   ],
   "source": [
    "# 내장 함수에서 자주 사용되는 람다 함수\n",
    "array = [('홍길동', 50), ('이순신', 32), ('아무개', 74)]\n",
    "\n",
    "def my_key(x):\n",
    "    return x[1]\n",
    "\n",
    "print(sorted(array, key=my_key))            # sorted함수 >> sorted(리스트, key=정렬할 기준)\n",
    "print(sorted(array, key=lambda x: x[1]))"
   ]
  },
  {
   "cell_type": "code",
   "execution_count": 89,
   "id": "04970b0d-d68d-49cb-b4ac-f7dfa0efebcd",
   "metadata": {},
   "outputs": [
    {
     "name": "stdout",
     "output_type": "stream",
     "text": [
      "<map object at 0x000001BBDDB24310>\n",
      "[7, 9, 11, 13, 15]\n"
     ]
    }
   ],
   "source": [
    "# 여러 개의 리스트에 적용\n",
    "list1 = [1,2,3,4,5]\n",
    "list2 = [6,7,8,9,10]\n",
    "\n",
    "result = map(lambda a, b: a + b, list1, list2) # list1과 list2 같은 인덱스끼리 연산!\n",
    "\n",
    "print(result)\n",
    "print(list(result))"
   ]
  },
  {
   "cell_type": "markdown",
   "id": "3df12736-c2cd-46ca-986f-e1b074a3c53b",
   "metadata": {},
   "source": [
    "## 실전에서 유용한 표준 라이브러리\n",
    "- `내장함수` : 기본 입출력 함수부터 정렬 함수까지 기본적인 함수들을 제공 / 파이썬 프로그램을 작성할때 없어서는 안되는 필수적인 기능 포함\n",
    "- `itertools` : 파이썬에서 `반복되는 형태의 데이터를 처리`하기 위한 유용한 기능 제공 / 특히 `순열, 조합 라이브러리`는 코테에서 자주 사용\n",
    "- `heapq` : `힙(Heap) 자료구조` 제공 / 일반적으로 `우선순위 큐` 기능을 구현하기 위해 사용\n",
    "- `bisect` : `이진탐색(Binary Search)` 기능을 제공\n",
    "- `collections` : 덱(deque), 카운터(counter) 등 유용한 자료구조 포함\n",
    "- `math` : 필수적인 수학적 기능 제공 / 팩토리얼, 제곱근, 최대공약수(GCD), 삼각함수 관련 함수, 파이(pi)와 같은 상수도 포함"
   ]
  },
  {
   "cell_type": "code",
   "execution_count": 90,
   "id": "eb4b22b0-be9c-4934-884d-0041891f3d1e",
   "metadata": {},
   "outputs": [
    {
     "name": "stdout",
     "output_type": "stream",
     "text": [
      "15\n",
      "2 7\n",
      "56\n",
      "[1, 4, 5, 8, 9] [9, 8, 5, 4, 1]\n",
      "[('이순신', 75), ('아무개', 50), ('홍길동', 35)]\n"
     ]
    }
   ],
   "source": [
    "# 자주 사용되는 내장 함수\n",
    "\n",
    "# sum()\n",
    "result = sum([1,2,3,4,5])\n",
    "print(result)\n",
    "\n",
    "# min(), max()\n",
    "min_result = min(7,3,5,2)\n",
    "max_result = max(7,3,5,2)\n",
    "print(min_result, max_result)\n",
    "\n",
    "# eval() >> 사람의 입장에서 수식으로 표현된 하나의 식의 결과를 반환해줌\n",
    "result = eval(\"(3+5)*7\")\n",
    "print(result)\n",
    "\n",
    "# sorted()\n",
    "result = sorted([9,1,8,5,4]) # sorted > 리스트와 같은 반복 가능한 객체가 들어왔을 때 정렬\n",
    "reverse_result = sorted([9,1,8,5,4], reverse=True)\n",
    "print(result, reverse_result)\n",
    "\n",
    "# sorted() with key\n",
    "array = [('홍길동', 35), ('이순신', 75), ('아무개', 50)]\n",
    "result = sorted(array, key=lambda x: x[1], reverse=True)\n",
    "print(result)"
   ]
  },
  {
   "cell_type": "code",
   "execution_count": 15,
   "id": "1b2ea9c8-284e-4f54-9d27-0ced49e71d60",
   "metadata": {},
   "outputs": [
    {
     "data": {
      "text/plain": [
       "1"
      ]
     },
     "execution_count": 15,
     "metadata": {},
     "output_type": "execute_result"
    }
   ],
   "source": [
    "min([1,2])"
   ]
  },
  {
   "cell_type": "markdown",
   "id": "d5276430-ba88-4531-9636-5cdb0d064a13",
   "metadata": {},
   "source": [
    "<순열과 조합>\n",
    "- `모든 경우의 수를 고려`해야 할 때 사용하면 좋음\n",
    "- `순열` : 서로 다른 n개에서 서로 다른 r개를 선택하여 `일렬로 나열`하는 것(nPr = n*(n-1)*(n-2)*....*(n-r+1))\n",
    "- ex. {'A', 'B', 'C'}에서 3개를 선택하여 나열하는 경우: ABC, ACB, BCA, BCA, CAB, CBA\n",
    "- `조합` : 서로 다른 n개에서 `순서에 상관없이` 서로 다른 r개를 선택하는 것(nCr = n*(n-1)*(n-2)*....*(n-r+1) / r!)\n",
    "- ex. {'A', 'B', 'C'}에서 순서를 고려하지 않고 2개를 뽑는 경우: AB, AC, BA"
   ]
  },
  {
   "cell_type": "code",
   "execution_count": 91,
   "id": "2ee9c540-824a-4a6a-a6f1-5480bc2f9e22",
   "metadata": {},
   "outputs": [
    {
     "name": "stdout",
     "output_type": "stream",
     "text": [
      "[('A', 'B', 'C'), ('A', 'C', 'B'), ('B', 'A', 'C'), ('B', 'C', 'A'), ('C', 'A', 'B'), ('C', 'B', 'A')]\n"
     ]
    }
   ],
   "source": [
    "# 순열 >> itertools의 permutations라이브러리 사용\n",
    "from itertools import permutations\n",
    "\n",
    "data = ['A', 'B', 'C']\n",
    "\n",
    "result = list(permutations(data, 3)) # 모든 순열 구하기\n",
    "print(result)"
   ]
  },
  {
   "cell_type": "code",
   "execution_count": 92,
   "id": "8884a400-b1c9-43a7-a582-2982783428c2",
   "metadata": {},
   "outputs": [
    {
     "name": "stdout",
     "output_type": "stream",
     "text": [
      "[('A', 'A'), ('A', 'B'), ('A', 'C'), ('B', 'A'), ('B', 'B'), ('B', 'C'), ('C', 'A'), ('C', 'B'), ('C', 'C')]\n"
     ]
    }
   ],
   "source": [
    "# 중복 순열 >> itertools의 product\n",
    "from itertools import product\n",
    "\n",
    "data = ['A', 'B', 'C']\n",
    "\n",
    "result = list(product(data, repeat=2)) # 2개를 뽑는 모든 순열 구하기(중복 허용) - AB와 BA 다름\n",
    "print(result)"
   ]
  },
  {
   "cell_type": "code",
   "execution_count": 94,
   "id": "28a78e60-bab8-4e12-ab0b-1f0fff69430f",
   "metadata": {},
   "outputs": [
    {
     "name": "stdout",
     "output_type": "stream",
     "text": [
      "[('A', 'A'), ('A', 'B'), ('A', 'C'), ('B', 'B'), ('B', 'C'), ('C', 'C')]\n"
     ]
    }
   ],
   "source": [
    "# 중복 조합 >> itertools의 combinations_with_replacement\n",
    "from itertools import combinations_with_replacement\n",
    "\n",
    "data = ['A', 'B', 'C']\n",
    "\n",
    "result = list(combinations_with_replacement(data, 2)) # 2개를 뽑는 모든 조합 구하기(중복 허용) - AB와 BA 같음\n",
    "print(result)"
   ]
  },
  {
   "cell_type": "markdown",
   "id": "574b84a2-6fd2-4a9d-aa4f-b6ea6570c8cc",
   "metadata": {},
   "source": [
    "< Counter >\n",
    "- 파이썬 collections 라이브러리의 Counter는 `등장 횟수를 세는 기능`을 제공\n",
    "- 리스트와 같은 `반복 가능한(iterable)` 객체가 주어졌을 때 `내부의 원소가 몇번씩 등장했는지` 알려줌"
   ]
  },
  {
   "cell_type": "code",
   "execution_count": 95,
   "id": "525e8a69-bd3a-49a2-bd91-68726aec47ac",
   "metadata": {},
   "outputs": [
    {
     "name": "stdout",
     "output_type": "stream",
     "text": [
      "3\n",
      "1\n",
      "{'red': 2, 'blue': 3, 'green': 1}\n"
     ]
    }
   ],
   "source": [
    "from collections import Counter\n",
    "\n",
    "counter = Counter(['red', 'blue', 'red', 'green', 'blue', 'blue'])\n",
    "\n",
    "print(counter['blue']) # blue가 등장한 횟수\n",
    "print(counter['green']) # green이 등장한 횟수\n",
    "print(dict(counter)) # 사전 자료형으로 반환"
   ]
  },
  {
   "cell_type": "markdown",
   "id": "7c3f56e5-c2d7-449e-b061-b7a15dd9bcf1",
   "metadata": {},
   "source": [
    "<최대공약수와 최소공배수>\n",
    "- `최대 공약수`를 구해야 할 때는 `math 라이브러리의 gcd() 함수` 이용"
   ]
  },
  {
   "cell_type": "code",
   "execution_count": 96,
   "id": "f9bd0753-95a5-4d1b-a75c-1f0235bfc43d",
   "metadata": {},
   "outputs": [
    {
     "name": "stdout",
     "output_type": "stream",
     "text": [
      "7\n",
      "42\n"
     ]
    }
   ],
   "source": [
    "import math\n",
    "\n",
    "# 최소 공배수(LCM)를 구하는 함수\n",
    "def lcm(a, b):\n",
    "    return a * b // math.gcd(a, b)\n",
    "\n",
    "a = 21\n",
    "b = 14\n",
    "\n",
    "print(math.gcd(a, b)) # 최대공약수(GCD) 계산\n",
    "print(lcm(a, b))"
   ]
  }
 ],
 "metadata": {
  "kernelspec": {
   "display_name": "Python 3 (ipykernel)",
   "language": "python",
   "name": "python3"
  },
  "language_info": {
   "codemirror_mode": {
    "name": "ipython",
    "version": 3
   },
   "file_extension": ".py",
   "mimetype": "text/x-python",
   "name": "python",
   "nbconvert_exporter": "python",
   "pygments_lexer": "ipython3",
   "version": "3.9.13"
  }
 },
 "nbformat": 4,
 "nbformat_minor": 5
}
