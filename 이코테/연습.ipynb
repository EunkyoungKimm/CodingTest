{
 "cells": [
  {
   "cell_type": "code",
   "execution_count": 20,
   "id": "bf1189ed-fe5f-440c-8c05-145c22986718",
   "metadata": {},
   "outputs": [],
   "source": [
    "from collections import Counter"
   ]
  },
  {
   "cell_type": "code",
   "execution_count": 21,
   "id": "13673a41-c6e8-41d0-97f9-a15b56cc9b57",
   "metadata": {},
   "outputs": [
    {
     "name": "stdout",
     "output_type": "stream",
     "text": [
      "2\n"
     ]
    }
   ],
   "source": [
    "a = [1,2,2,3]\n",
    "counter = Counter(a)\n",
    "print(counter[2])"
   ]
  },
  {
   "cell_type": "code",
   "execution_count": 2,
   "id": "034f9cce-ccdb-4f25-b230-fb934349488c",
   "metadata": {},
   "outputs": [],
   "source": [
    "counter = Counter([1,2,2,3,3,3,5,6,7,7,8])"
   ]
  },
  {
   "cell_type": "code",
   "execution_count": 3,
   "id": "73f795ae-061d-4788-8fc7-7fcbd303e04e",
   "metadata": {},
   "outputs": [
    {
     "name": "stdout",
     "output_type": "stream",
     "text": [
      "0\n"
     ]
    }
   ],
   "source": [
    "print(counter['blue'])"
   ]
  },
  {
   "cell_type": "code",
   "execution_count": 4,
   "id": "815de05b-afc0-4705-bec0-3367a5b56aa0",
   "metadata": {},
   "outputs": [
    {
     "name": "stdout",
     "output_type": "stream",
     "text": [
      "3\n"
     ]
    }
   ],
   "source": [
    "print(counter[3])"
   ]
  },
  {
   "cell_type": "code",
   "execution_count": 6,
   "id": "4f1c4552-b4d3-462a-951a-4aaa3e033dfb",
   "metadata": {},
   "outputs": [
    {
     "name": "stdout",
     "output_type": "stream",
     "text": [
      "{1: 1, 2: 2, 3: 3, 5: 1, 6: 1, 7: 2, 8: 1}\n"
     ]
    }
   ],
   "source": [
    "print(dict(counter))"
   ]
  },
  {
   "cell_type": "code",
   "execution_count": 7,
   "id": "004ad851-2d54-4cfa-9a33-16a2c35ac85c",
   "metadata": {},
   "outputs": [
    {
     "name": "stdout",
     "output_type": "stream",
     "text": [
      "7\n"
     ]
    }
   ],
   "source": [
    "import math\n",
    "a = 21\n",
    "b = 7\n",
    "g = math.gcd(a,b)\n",
    "print(g)"
   ]
  },
  {
   "cell_type": "code",
   "execution_count": 8,
   "id": "c37f9a90-dc73-437d-90c0-2facf2f1813a",
   "metadata": {},
   "outputs": [
    {
     "data": {
      "text/plain": [
       "21"
      ]
     },
     "execution_count": 8,
     "metadata": {},
     "output_type": "execute_result"
    }
   ],
   "source": [
    "def lcm(a,b):\n",
    "    return a * b // math.gcd(a,b)\n",
    "a = 21\n",
    "b = 7\n",
    "lcm(a,b)"
   ]
  },
  {
   "cell_type": "code",
   "execution_count": 9,
   "id": "d74c3974-35d4-41fc-8124-476b3aa01104",
   "metadata": {},
   "outputs": [],
   "source": [
    "import math\n",
    "def is_prime(num):\n",
    "    if num < 2:\n",
    "        return False\n",
    "    for i in range(2, int(math.sqrt(num)) + 1):\n",
    "        if num % i == 0:\n",
    "            return False\n",
    "    return True"
   ]
  },
  {
   "cell_type": "code",
   "execution_count": 10,
   "id": "e2897f03-b99a-499b-a123-a01c21e70362",
   "metadata": {},
   "outputs": [
    {
     "data": {
      "text/plain": [
       "True"
      ]
     },
     "execution_count": 10,
     "metadata": {},
     "output_type": "execute_result"
    }
   ],
   "source": [
    "is_prime(7)"
   ]
  },
  {
   "cell_type": "code",
   "execution_count": 13,
   "id": "4fbc57d4-8585-4cae-9639-ae8dba681dd9",
   "metadata": {},
   "outputs": [
    {
     "name": "stdout",
     "output_type": "stream",
     "text": [
      "2\n",
      "7\n",
      "11\n",
      "19\n"
     ]
    }
   ],
   "source": [
    "nums = [2,4,7,11,10,19]\n",
    "list1 = []\n",
    "for num in nums:\n",
    "    if is_prime(num):\n",
    "        print(num)"
   ]
  },
  {
   "cell_type": "code",
   "execution_count": 12,
   "id": "fff6eac6-0c70-4836-834d-5e2a3679540b",
   "metadata": {},
   "outputs": [
    {
     "name": "stdout",
     "output_type": "stream",
     "text": [
      "[True, False, True, True, False, True]\n"
     ]
    }
   ],
   "source": [
    "print(list1)"
   ]
  },
  {
   "cell_type": "code",
   "execution_count": 19,
   "id": "02fe2c00-c89e-4bc6-a3bd-d1ee48af03af",
   "metadata": {},
   "outputs": [
    {
     "name": "stdout",
     "output_type": "stream",
     "text": [
      "2\n"
     ]
    }
   ],
   "source": [
    "a = [1,2,3]\n",
    "print(a.index(3))"
   ]
  },
  {
   "cell_type": "code",
   "execution_count": null,
   "id": "6aa4dbdf-e0b0-4226-9605-4f478c22022f",
   "metadata": {},
   "outputs": [],
   "source": []
  },
  {
   "cell_type": "code",
   "execution_count": 14,
   "id": "7c952f19-0ef3-4679-82ae-13ac58ec7d99",
   "metadata": {},
   "outputs": [
    {
     "name": "stdin",
     "output_type": "stream",
     "text": [
      " 4 5 1\n",
      " 1 2\n",
      " 1 3\n",
      " 1 4\n",
      " 2 4\n",
      " 3 4\n"
     ]
    },
    {
     "name": "stdout",
     "output_type": "stream",
     "text": [
      "1 2 4 3 "
     ]
    }
   ],
   "source": [
    "# dfs\n",
    "def dfs(idx):\n",
    "    global visited # 요기\n",
    "    visited[idx] = True\n",
    "    print(idx, end = ' ') # 요기\n",
    "    for next in range(1, n+1): # 요기\n",
    "        if not visited[next] and graph[idx][next]:\n",
    "            dfs(next)\n",
    "\n",
    "n,m,v = map(int, input().split())\n",
    "graph = [[False] * (n+1) for _ in range(n+1)]\n",
    "visited = [False]*(n+1)\n",
    "\n",
    "# 간선 정보\n",
    "for _ in range(m):\n",
    "    a, b = map(int, input().split())\n",
    "    graph[a][b] = True\n",
    "    graph[b][a] = True\n",
    "    \n",
    "# dfs 호출\n",
    "dfs(v)"
   ]
  },
  {
   "cell_type": "code",
   "execution_count": 16,
   "id": "adf020a6-af32-4481-bc07-e251ddeb547c",
   "metadata": {},
   "outputs": [
    {
     "name": "stdin",
     "output_type": "stream",
     "text": [
      " 4 5 1\n",
      " 1 2\n",
      " 1 3\n",
      " 1 4\n",
      " 2 4\n",
      " 3 4\n"
     ]
    },
    {
     "name": "stdout",
     "output_type": "stream",
     "text": [
      "1 2 3 4 "
     ]
    }
   ],
   "source": [
    "# bfs\n",
    "def bfs():\n",
    "    global q, visited\n",
    "    while q:\n",
    "        cur = q.pop(0)\n",
    "        print(cur, end = ' ') # 요기 - 맞음\n",
    "        for next in range(1, n+1):\n",
    "            if not visited[next] and graph[cur][next]:\n",
    "                visited[next] = True\n",
    "                q.append(next)\n",
    "                # bfs() # bfs는 이미 반복문!! 재귀, 다시 호출할 필요없음!!\n",
    "        \n",
    "\n",
    "n, m, v = map(int, input().split())\n",
    "graph = [[False] * (n+1) for _ in range(n+1)]\n",
    "visited = [False] * (n+1)\n",
    "\n",
    "# 간선 정보 입력\n",
    "for _ in range(m):\n",
    "    a, b = map(int, input().split())\n",
    "    graph[a][b] = True\n",
    "    graph[b][a] = True\n",
    "    \n",
    "# bfs 호출\n",
    "q = [v]\n",
    "visited[v] = True\n",
    "bfs()"
   ]
  },
  {
   "cell_type": "code",
   "execution_count": null,
   "id": "c9b29a58-5309-4573-9744-8b28e05135cf",
   "metadata": {},
   "outputs": [],
   "source": []
  },
  {
   "cell_type": "code",
   "execution_count": null,
   "id": "13a85cb2-e731-4eb9-a10b-6361db058c83",
   "metadata": {},
   "outputs": [],
   "source": [
    "def binary_search(array, target, start, end):\n",
    "    while start <= end:\n",
    "        mid = (start+end) // 2\n",
    "        if array[mid] == target:\n",
    "            return mid\n",
    "        if array[mid] > target:\n",
    "            end = mid - 1\n",
    "        else:\n",
    "            start = mid + 1\n",
    "    return None\n",
    "\n",
    "n, target = list(map(int, input().split()))\n",
    "array = list(map(int, input().split()))\n",
    "\n",
    "result = binaray_search(array, target, 0, n-1) # result = mid\n",
    "if result == None:\n",
    "    print('x')\n",
    "else:\n",
    "    print(result + 1)"
   ]
  },
  {
   "cell_type": "code",
   "execution_count": null,
   "id": "debc206f-29c4-46e8-9257-0603da45aec4",
   "metadata": {},
   "outputs": [],
   "source": []
  },
  {
   "cell_type": "code",
   "execution_count": 22,
   "id": "7f6184dc-3b2b-4f40-b5d5-5f200324dcc4",
   "metadata": {},
   "outputs": [
    {
     "data": {
      "text/plain": [
       "3"
      ]
     },
     "execution_count": 22,
     "metadata": {},
     "output_type": "execute_result"
    }
   ],
   "source": [
    "round(3.14)"
   ]
  },
  {
   "cell_type": "code",
   "execution_count": 24,
   "id": "e42cf25f-9efd-4216-8cde-6dde7a486653",
   "metadata": {},
   "outputs": [
    {
     "data": {
      "text/plain": [
       "4"
      ]
     },
     "execution_count": 24,
     "metadata": {},
     "output_type": "execute_result"
    }
   ],
   "source": [
    "import math\n",
    "math.ceil(3.14)"
   ]
  },
  {
   "cell_type": "code",
   "execution_count": null,
   "id": "61d7d2cb-3008-43f3-8a5d-cee3bef0f65d",
   "metadata": {},
   "outputs": [],
   "source": []
  },
  {
   "cell_type": "code",
   "execution_count": 17,
   "id": "bf8e04fb-464e-48ad-9fb2-98c31ec992ba",
   "metadata": {},
   "outputs": [
    {
     "name": "stdout",
     "output_type": "stream",
     "text": [
      "2\n",
      "4\n"
     ]
    }
   ],
   "source": [
    "from bisect import bisect_left, bisect_right\n",
    "a = [1,2,4,4,8]\n",
    "x = 4\n",
    "print(bisect_left(a,x))\n",
    "print(bisect_right(a,x))"
   ]
  },
  {
   "cell_type": "code",
   "execution_count": 18,
   "id": "c81d56a6-de6a-470e-8d70-c7682f2436e6",
   "metadata": {},
   "outputs": [
    {
     "data": {
      "text/plain": [
       "7"
      ]
     },
     "execution_count": 18,
     "metadata": {},
     "output_type": "execute_result"
    }
   ],
   "source": [
    "from bisect import bisect_left, bisect_right\n",
    "def count_by_range(array, left_value, right_value):\n",
    "    right_index = bisect_right(array, right_value)\n",
    "    left_index = bisect_left(array, left_value)\n",
    "    return right_index - left_index\n",
    "    \n",
    "a = [1, 2, 3, 3, 3, 3, 4, 4, 8, 9]\n",
    "\n",
    "count_by_range(a, 2, 4)"
   ]
  }
 ],
 "metadata": {
  "kernelspec": {
   "display_name": "Python 3 (ipykernel)",
   "language": "python",
   "name": "python3"
  },
  "language_info": {
   "codemirror_mode": {
    "name": "ipython",
    "version": 3
   },
   "file_extension": ".py",
   "mimetype": "text/x-python",
   "name": "python",
   "nbconvert_exporter": "python",
   "pygments_lexer": "ipython3",
   "version": "3.9.13"
  }
 },
 "nbformat": 4,
 "nbformat_minor": 5
}
