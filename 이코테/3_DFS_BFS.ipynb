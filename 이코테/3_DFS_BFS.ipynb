{
 "cells": [
  {
   "cell_type": "markdown",
   "id": "8e1a00ae-a91d-4965-bbcf-560fed2f83da",
   "metadata": {},
   "source": [
    "# 그래프 탐색 알고리즘: DFS / BFS\n",
    "- 탐색(search)이란 많은 양의 데이터 중에서 `원하는 데이터를 찾는 과정`을 말함.\n",
    "- dfs/bfs 코딩 테스트 자주 등장!"
   ]
  },
  {
   "cell_type": "markdown",
   "id": "bc06d5f9-fea0-480e-b3e3-413b761ea1a2",
   "metadata": {},
   "source": [
    "<스택 자료구조>\n",
    "- 선입후출 자료구죠(먼저 들어온 데이터가 나중에 나감)(박스 쌓기)\n",
    "- 입구와 출구 동일한 형태\n",
    "- 삽입/ 삭제 2개의 연산으로!! (append, pop)\n",
    "- 리스트 자료형 이용하기"
   ]
  },
  {
   "cell_type": "code",
   "execution_count": 2,
   "id": "09308e62-13b8-444d-ad39-3bfa55458da8",
   "metadata": {},
   "outputs": [
    {
     "name": "stdout",
     "output_type": "stream",
     "text": [
      "[1, 3, 2, 5]\n",
      "[5, 2, 3, 1]\n"
     ]
    }
   ],
   "source": [
    "stack = []\n",
    "\n",
    "# 삽입, 삭제 연산\n",
    "stack.append(5)\n",
    "stack.append(2)\n",
    "stack.append(3)\n",
    "stack.append(7)\n",
    "stack.pop()\n",
    "stack.append(1)\n",
    "stack.append(4)\n",
    "stack.pop()\n",
    "\n",
    "print(stack[::-1]) # 최상단 원소부터 출력\n",
    "print(stack) # 최하단 원소부터 출력"
   ]
  },
  {
   "cell_type": "markdown",
   "id": "06481e14-2ddd-4432-ad00-a1d19a590c0b",
   "metadata": {},
   "source": [
    "<큐 자료구조>\n",
    "- 선입선출 자료구조(먼저 들어온 데이터가 먼저 나감)\n",
    "- 입구, 출구가 모두 뚫려 있는 `터널` 형태 / 줄서서 대기..은행 창구 대기열..\n",
    "- 삽입 / 삭제\n",
    "- 리스트로 구현 가능하지만 시간복잡도가 collection의 deque쓰는 것보다 높음.. 비효율적으로 동작! 큐사용할때는 이거 사용하기!\n",
    "- append / popleft 사용!"
   ]
  },
  {
   "cell_type": "code",
   "execution_count": 3,
   "id": "f3e476ec-be1a-4208-8c83-9e7857712424",
   "metadata": {},
   "outputs": [
    {
     "name": "stdout",
     "output_type": "stream",
     "text": [
      "deque([3, 7, 1, 4])\n",
      "deque([4, 1, 7, 3])\n"
     ]
    }
   ],
   "source": [
    "from collections import deque # deque안쓰면 queue는 pop(0)으로 꺼낼 수 있고!!! deque이렇게 쓰면 popleft()쓸수 있음!!!!\n",
    "\n",
    "# 큐(queue) 구현을 위해 deque 라이브러리 사용\n",
    "# deque 객체 만들어주기!\n",
    "queue = deque()\n",
    "\n",
    "# 삽입, 삭제 연산\n",
    "queue.append(5)\n",
    "queue.append(2)\n",
    "queue.append(3)\n",
    "queue.append(7)\n",
    "queue.popleft()\n",
    "queue.append(1)\n",
    "queue.append(4)\n",
    "queue.popleft()\n",
    "\n",
    "print(queue) # 먼저 들어온 순서대로 출력\n",
    "queue.reverse() # 역순으로 바꾸기\n",
    "print(queue) # 나주엥 들어온 원소부터 출력"
   ]
  },
  {
   "cell_type": "code",
   "execution_count": 15,
   "id": "cbe8bc6a-bf26-4117-9d92-305b927c0d49",
   "metadata": {},
   "outputs": [
    {
     "name": "stdout",
     "output_type": "stream",
     "text": [
      "deque([])\n",
      "deque([1, 2])\n"
     ]
    }
   ],
   "source": [
    "queue = deque()\n",
    "print(queue)\n",
    "\n",
    "queue = deque([1,2])\n",
    "print(queue)"
   ]
  },
  {
   "cell_type": "markdown",
   "id": "b26c0f05-5108-4cc4-8919-161c7166f8f8",
   "metadata": {},
   "source": [
    "<재귀 함수>\n",
    "- 재귀함수(recursive function)는 `자기 자신ㅇ을 다시 호출하는 함수`를 의미함\n",
    "- 파이썬에서는 어느 정도 출력하다가 최대 재귀 깊이 초과 메시지가 출력됨."
   ]
  },
  {
   "cell_type": "code",
   "execution_count": null,
   "id": "ac6d831b-efa7-4df1-b0f3-554c2d358df6",
   "metadata": {},
   "outputs": [],
   "source": [
    "# def recursive_function():\n",
    "#     print('재귀 함수를 호출합니다')\n",
    "#     recursice_function()\n",
    "\n",
    "# recursive_function()"
   ]
  },
  {
   "cell_type": "markdown",
   "id": "1bc1bc40-209b-48f0-82a4-6a4c89aeebe7",
   "metadata": {},
   "source": [
    "- 재귀 함수를 문제풀이에 사용할 때는 재귀함수의 종료 조건 반드시 명시하기!!"
   ]
  },
  {
   "cell_type": "code",
   "execution_count": 4,
   "id": "5e6c0a45-c901-40a9-bae1-f69d95c72e95",
   "metadata": {},
   "outputs": [
    {
     "name": "stdout",
     "output_type": "stream",
     "text": [
      "끄읕\n",
      "끄읕\n",
      "끄읕\n",
      "끄읕\n"
     ]
    }
   ],
   "source": [
    "def recursive_function(i):\n",
    "    if i == 5:\n",
    "        return # 멈추는걸 이렇게 함\n",
    "    recursive_function(i+1)\n",
    "    print('끄읕')\n",
    "recursive_function(1)"
   ]
  },
  {
   "cell_type": "code",
   "execution_count": 1,
   "id": "271c2189-805c-486d-b9b7-ec875167da68",
   "metadata": {},
   "outputs": [
    {
     "name": "stdout",
     "output_type": "stream",
     "text": [
      "1 번째에서 2 번째 재귀 함수를 호출합니다\n",
      "2 번째에서 3 번째 재귀 함수를 호출합니다\n",
      "3 번째에서 4 번째 재귀 함수를 호출합니다\n",
      "4 번째에서 5 번째 재귀 함수를 호출합니다\n",
      "5 번째에서 6 번째 재귀 함수를 호출합니다\n",
      "6 번째에서 7 번째 재귀 함수를 호출합니다\n",
      "7 번째에서 8 번째 재귀 함수를 호출합니다\n",
      "8 번째에서 9 번째 재귀 함수를 호출합니다\n",
      "9 번째에서 10 번째 재귀 함수를 호출합니다\n",
      "9 번째 재귀함수를 종료합니다\n",
      "8 번째 재귀함수를 종료합니다\n",
      "7 번째 재귀함수를 종료합니다\n",
      "6 번째 재귀함수를 종료합니다\n",
      "5 번째 재귀함수를 종료합니다\n",
      "4 번째 재귀함수를 종료합니다\n",
      "3 번째 재귀함수를 종료합니다\n",
      "2 번째 재귀함수를 종료합니다\n",
      "1 번째 재귀함수를 종료합니다\n"
     ]
    }
   ],
   "source": [
    "def recursive_function(i):\n",
    "    # 100번째 호출을 했을 때 종료되도록 종료 조건 명시\n",
    "    if i == 10:\n",
    "        return\n",
    "    print(i, '번째에서', i+1, '번째 재귀 함수를 호출합니다')\n",
    "    recursive_function(i+1)\n",
    "    print(i,'번째 재귀함수를 종료합니다')\n",
    "    # print('오')\n",
    "    \n",
    "recursive_function(1) # 호출되다가 가장 처음으로 호출된 재귀함수 마지막에 종료됨 \n",
    "\n",
    "# 마치 stack에 데이터를 넣었다가 꺼내는 것과 마찬가지로 각각의 함수에 대한 정보가 실제로 스택프레임에 담기게 되어서 차례대로 호출되었다가\n",
    "# 가장 마지막에 호출된 함수부터 차례대로 종료가 되어 결과적으로 첫번째 호출했던 함수까지 종료가됨(재귀함수 뒤에꺼가 종료조건 만족하면 쭈욱 실행됨)"
   ]
  },
  {
   "cell_type": "markdown",
   "id": "f2d59cae-fb04-4257-845a-a5aed8b20e53",
   "metadata": {},
   "source": [
    "## 재귀함수 활용"
   ]
  },
  {
   "cell_type": "markdown",
   "id": "8b24a138-89bd-4456-9dd8-f1794adddf06",
   "metadata": {},
   "source": [
    "**1. 팩토리얼 구현 예제**\n",
    "- 재귀함수 대표 예제: 팩토리얼\n",
    "- n! = 1x2x3x4x.....x(n-1)xn\n",
    "- 수학적으로 0!과 1!은 1임!"
   ]
  },
  {
   "cell_type": "code",
   "execution_count": 9,
   "id": "950b4be2-026b-4380-9022-87bdf196aa60",
   "metadata": {},
   "outputs": [
    {
     "name": "stdout",
     "output_type": "stream",
     "text": [
      "120\n",
      "120\n"
     ]
    }
   ],
   "source": [
    "# 반복적으로 구현한 n!\n",
    "def factorial_iterative(n):\n",
    "    result = 1\n",
    "    # 1부터 n까지의 수를 차례대로 곱하기\n",
    "    for i in range(1, n+1):\n",
    "        result *= i\n",
    "    return result\n",
    "\n",
    "# 재귀적으로 구현한 n! >>> 수학적 지표 그대로 사용해서 그냥 반복문보다 더 직관적이고 / 코드가 더 간결해짐\n",
    "def factorial_recursive(n):\n",
    "    if n <= 1:\n",
    "        return 1\n",
    "    # n x (n-1)! 를 그대로 코드로 작성하기\n",
    "    return n * factorial_recursive(n-1) #  재귀적 >>  함수 안에 함수!!! 자기 함수 또씀!! 자기 또 호출!!!!!!!!!!!!!!\n",
    "\n",
    "# 각각의 방식으로 구현한 n! 출력(n=5)\n",
    "print(factorial_iterative(5))\n",
    "print(factorial_recursive(5))"
   ]
  },
  {
   "cell_type": "code",
   "execution_count": null,
   "id": "bd952d57-b21d-4640-a361-5f3ced87cfab",
   "metadata": {},
   "outputs": [],
   "source": [
    "# n * (n-1)!\n",
    "def factorial_recursive(n):\n",
    "    if n <= 1:\n",
    "        return 1 # 마지막 1.. 이게 끝나면 또 거꾸로 돌아가니까 1x2x3....n까지 될거임(n!진짜됨!!)\n",
    "    return n * factorial_recursive(n-1)"
   ]
  },
  {
   "cell_type": "code",
   "execution_count": null,
   "id": "1e4a50dd-fe04-4cdc-a780-f4cbeb2ba62e",
   "metadata": {},
   "outputs": [],
   "source": [
    "def factorial_iterative(n):\n",
    "    result = 1\n",
    "    for i in range(1, n+1): # 1~n까지 곱하고 끝!\n",
    "        result += i\n",
    "    return result"
   ]
  },
  {
   "cell_type": "markdown",
   "id": "564d2941-c94e-4573-8fd6-e16c33145c52",
   "metadata": {},
   "source": [
    "**2. 최대공약수 계산(유클리드 호제법) 예제**\n",
    "- `두 개의 자연수에 대한 최대공약수`를 구하는 대표적인 알고리즘 > 유클리드 호제법\n",
    "- 유클리드 호제법의 아이디어를 그대로 재귀함수로 작성할 수 있음"
   ]
  },
  {
   "cell_type": "markdown",
   "id": "5912a7f0-c686-4899-a897-908a03f4fe48",
   "metadata": {},
   "source": [
    "<유클리드 호제법>\n",
    "- 두 자연수 a,b(a>b)를 a를 b로 나눈 나머지를 r\n",
    "- 이때 a와b의 최대공약수는 b와 r의 최대공약수와 같다"
   ]
  },
  {
   "cell_type": "code",
   "execution_count": 10,
   "id": "76994e2b-4a01-404c-a209-d73979413365",
   "metadata": {},
   "outputs": [
    {
     "name": "stdout",
     "output_type": "stream",
     "text": [
      "6\n"
     ]
    }
   ],
   "source": [
    "def gcd(a, b): # greatest common divisor (꼭 a>b 아니어도 작동함)\n",
    "    if a % b == 0:\n",
    "        return b\n",
    "    else:\n",
    "        return gcd(b, a%b)\n",
    "    \n",
    "print(gcd(192, 162))"
   ]
  },
  {
   "cell_type": "markdown",
   "id": "b9c4b8b3-7529-41e8-96d9-297ea28d54f7",
   "metadata": {},
   "source": [
    "- 이렇게 재귀함수는 수학적 표현, 공식을 그대로 사용해서 잘 활용하면 복잡한 알고리즘을 간겷하게 작성할 수 있음\n",
    "- 하지만 오히려 다른 사람이 이해하기 어려운 형태의 코드가 될 수 있음. 신중하게 사용해야 함\n",
    "- 모든 재귀함수는 반복문을 이용하여 동일한 기능을 구현할 수 있음!!\n",
    "- 재귀함수가 반복문보다 유리한 경우도 있고, 불리한 경우도 있음!\n",
    "- 컴퓨터가 함수를 연속적으로 호출하면(재귀적으로 호출하면) 컴퓨터 메모리 내부의 스택 프레임에 쌓임. \n",
    "- 그래서 스택을 사용해야 할 때 구현상 재귀함수를 이용하는 경우가 많음(스택 자료구조를 사용하지 않고 재귀함수를.. ex. dfs를 더 간결하게..쓸 수 있음)"
   ]
  },
  {
   "cell_type": "markdown",
   "id": "2b2fdcd4-7d8a-4c8e-b66e-aee2644c4d18",
   "metadata": {},
   "source": [
    "**DFS랑 BFS는 카톡에 과정 찍어 놓은 사진 보며 이해 완벽하게 하기!!!**"
   ]
  },
  {
   "cell_type": "markdown",
   "id": "60dab519-c9de-40bb-9f97-6b730576df35",
   "metadata": {},
   "source": [
    "## DFS(Depth-First-Search)\n",
    "- 깊이 우선 탐색\n",
    "- 그래프에서 깊이 부분을 우선적으로 탐색하는 알고리즘\n",
    "- dfs는 `스택 자료구조` (or 재귀함수)를 이용!\n",
    "    1. 탐색 시작 노드를 스택에 삽입하고 방문 처리를 함\n",
    "    2. 스택의 최상단 노드에 방문하지 않은 인접한 노드가 하나라도 있으면 그 노드를 스택에 넣고 방문 처리 / 방문하지 않은 인접 노드가 없으면 스택에서 최상단 노드를 꺼냄\n",
    "    3. 더 이상 2번의 과정을 수행할 수 없을 때까지 반복\n",
    "- 방문기준(`번호가 낮은` 인접 노드부터!!) >> 문제에서 요구하는 내용에 따라 방문기준 다를 수 있음!(보통 낮은 번호 노드부터 가기는 함)(dfs는)\n",
    "- 인접한 노드 중 낮은거 방문 > 인접하지 않은거중에!! (깊게 들어갔다가 다시 돌아와서 방문하지 않은 다른 인접노드 또 가고!!) / 끝에.. 인접노드가 없으면 그냥 스택에서 꺼내줌(방문은 함!)\n",
    "- 인접노드가 있으면 스택에 넣고 방문처리!\n",
    "- 파이써네서는 그래프를 표현하기 위해 `2차원 리스트`를 사용! / 인덱스0에는 .비워두고, 그 뒤에는 인접한게 뭐인지"
   ]
  },
  {
   "cell_type": "code",
   "execution_count": null,
   "id": "6e3b9877-f509-43aa-8af4-9fda94c780c3",
   "metadata": {},
   "outputs": [],
   "source": []
  },
  {
   "cell_type": "markdown",
   "id": "21074cfe-0a8c-458f-a938-d0fef504e05f",
   "metadata": {},
   "source": [
    "**4단계: 입력,그래프 visited초기화 / 그래프 간선 정보 입력 / 함수호출(적절 매개변수) / 맨위에 함수 작성**"
   ]
  },
  {
   "cell_type": "markdown",
   "id": "e2750cdd-7ea3-4c54-911b-9c9ad76f71cd",
   "metadata": {},
   "source": [
    "- 입력: N = 4(총노드 1번부터~4번 4개) / M = 5(간선개수) / V = 1(처음 시작 지점,노드1)\n",
    "- M개의 간선 정보 : 1 2 / 1 3/ 1 4 / 2 4 / 3 4\n",
    "- 이런게 주어지면!! >> Graph(이 정보를 이 그래프에 표현해줌 - 간선정보True로!)2차원배열, visited(1차원 배열, 그 노드 방문여부 > 방문햇으면 다시 안해도됨- 처음엔 다 False로!)"
   ]
  },
  {
   "cell_type": "markdown",
   "id": "94b7eb65-a6b4-4d92-9b33-aec4ca33e461",
   "metadata": {},
   "source": [
    "- `dfs`(깊이 하나만 우선 파고!!! 그 다음 안판거 살펴보고. 방문안한거 있으면 또 보고) : 1(출발노드) > 2 > 4 > 3 (방문안한거 하면.. 이렇게 순서 잘나옴) 여기서 끝나면 사실 421로 돌아가서 한턴 끝남. / 그리고 1 > 3 가야되는데 이미 방문해서(3 그리고 4) 끝나는거임 - 이 동작이 없어지는건 아님! / 방문하면서 방문여부 True로 바꿔줘야 함! >> 이걸 순서대로 출력하면  1 2 4 3 이렇게 나옴\n",
    "- `bfs`(너비 우선 탐색) : 깊이가 아님! 1번에서 갈수있는곳(2,3,4) 모두 탐색하고, 그다음에 2번 부터 갈수 있는곳 탐색하고.. / `큐`사용(링크드리스트) / 먼저 1이 큐에 들어감(V로 전달받음 시작노드)-방문처리됨 > 그다음 큐에 있는 1꺼내지고, 그와 연결된.. 234가 큐에 들어옴 (그리고 방문처리됨) / 2부터 꺼내서..(근데 다 방문처리됨..)"
   ]
  },
  {
   "cell_type": "code",
   "execution_count": 14,
   "id": "a6e602d4-ed3b-4bc0-8fb2-fe025ec0cd3c",
   "metadata": {},
   "outputs": [
    {
     "name": "stdin",
     "output_type": "stream",
     "text": [
      " 4 5 1\n",
      " 1 2\n",
      " 1 3\n",
      " 1 4\n",
      " 2 4\n",
      " 3 4\n"
     ]
    },
    {
     "name": "stdout",
     "output_type": "stream",
     "text": [
      "1 2 4 3 "
     ]
    }
   ],
   "source": [
    "# dfs\n",
    "def dfs(idx):\n",
    "    global visited # 요기\n",
    "    visited[idx] = True\n",
    "    print(idx, end = ' ') # 요기\n",
    "    for next in range(1, n+1): # 요기\n",
    "        if not visited[next] and graph[idx][next]:\n",
    "            dfs(next)\n",
    "\n",
    "n,m,v = map(int, input().split())\n",
    "graph = [[False] * (n+1) for _ in range(n+1)]\n",
    "visited = [False]*(n+1)\n",
    "\n",
    "# 간선 정보\n",
    "for _ in range(m):\n",
    "    a, b = map(int, input().split())\n",
    "    graph[a][b] = True\n",
    "    graph[b][a] = True\n",
    "    \n",
    "# dfs 호출\n",
    "dfs(v)"
   ]
  },
  {
   "cell_type": "code",
   "execution_count": 16,
   "id": "6f77a95f-2623-4894-9df6-fef673c5c604",
   "metadata": {},
   "outputs": [
    {
     "name": "stdin",
     "output_type": "stream",
     "text": [
      " 4 5 1\n",
      " 1 2\n",
      " 1 3\n",
      " 1 4\n",
      " 2 4\n",
      " 3 4\n"
     ]
    },
    {
     "name": "stdout",
     "output_type": "stream",
     "text": [
      "1 2 3 4 "
     ]
    }
   ],
   "source": [
    "# bfs\n",
    "def bfs():\n",
    "    global q, visited\n",
    "    while q:\n",
    "        cur = q.pop(0)\n",
    "        print(cur, end = ' ') # 요기 - 맞음\n",
    "        for next in range(1, n+1):\n",
    "            if not visited[next] and graph[cur][next]:\n",
    "                visited[next] = True\n",
    "                q.append(next)\n",
    "                # bfs() # bfs는 이미 반복문!! 재귀, 다시 호출할 필요없음!!\n",
    "        \n",
    "\n",
    "n, m, v = map(int, input().split())\n",
    "graph = [[False] * (n+1) for _ in range(n+1)]\n",
    "visited = [False] * (n+1)\n",
    "\n",
    "# 간선 정보 입력\n",
    "for _ in range(m):\n",
    "    a, b = map(int, input().split())\n",
    "    graph[a][b] = True\n",
    "    graph[b][a] = True\n",
    "    \n",
    "# bfs 호출\n",
    "q = [v]\n",
    "visited[v] = True\n",
    "bfs()"
   ]
  },
  {
   "cell_type": "code",
   "execution_count": 11,
   "id": "36c182d5-7d02-4fb7-b782-f71687f4ce53",
   "metadata": {
    "collapsed": true,
    "jupyter": {
     "outputs_hidden": true
    },
    "tags": []
   },
   "outputs": [
    {
     "ename": "ValueError",
     "evalue": "not enough values to unpack (expected 3, got 0)",
     "output_type": "error",
     "traceback": [
      "\u001b[1;31m---------------------------------------------------------------------------\u001b[0m",
      "\u001b[1;31mValueError\u001b[0m                                Traceback (most recent call last)",
      "Cell \u001b[1;32mIn [11], line 24\u001b[0m\n\u001b[0;32m     20\u001b[0m                 q\u001b[38;5;241m.\u001b[39mappend(\u001b[38;5;28mnext\u001b[39m) \u001b[38;5;66;03m# 뒤에 계속 붙임!!!\u001b[39;00m\n\u001b[0;32m     22\u001b[0m \u001b[38;5;66;03m# 0. 입력 및 초기화\u001b[39;00m\n\u001b[0;32m     23\u001b[0m \u001b[38;5;66;03m# input = sys.stdin.readline # 입력 받는 시간 줄이기! 시스.에스티딘.리드라인\u001b[39;00m\n\u001b[1;32m---> 24\u001b[0m N, M, V \u001b[38;5;241m=\u001b[39m \u001b[38;5;28mmap\u001b[39m(\u001b[38;5;28mint\u001b[39m, \u001b[38;5;28minput\u001b[39m()\u001b[38;5;241m.\u001b[39msplit())\n\u001b[0;32m     26\u001b[0m graph \u001b[38;5;241m=\u001b[39m [[\u001b[38;5;28;01mFalse\u001b[39;00m]\u001b[38;5;241m*\u001b[39m(N\u001b[38;5;241m+\u001b[39m\u001b[38;5;241m1\u001b[39m) \u001b[38;5;28;01mfor\u001b[39;00m _ \u001b[38;5;129;01min\u001b[39;00m \u001b[38;5;28mrange\u001b[39m(N\u001b[38;5;241m+\u001b[39m\u001b[38;5;241m1\u001b[39m)] \u001b[38;5;66;03m# 노드 번호 그대로 사용하려고 n+1해줌!(그래야 n까지 출력되니까!)\u001b[39;00m\n\u001b[0;32m     27\u001b[0m visited \u001b[38;5;241m=\u001b[39m [\u001b[38;5;28;01mFalse\u001b[39;00m]\u001b[38;5;241m*\u001b[39m(N\u001b[38;5;241m+\u001b[39m\u001b[38;5;241m1\u001b[39m)\u001b[38;5;66;03m# 얜 1차원 배열임\u001b[39;00m\n",
      "\u001b[1;31mValueError\u001b[0m: not enough values to unpack (expected 3, got 0)"
     ]
    }
   ],
   "source": [
    "# import sys\n",
    "\n",
    "# dfs는 >> 들어온 idx(노드번호) 방문처리해주고 바로 출력 >> 그다음 next방문 조건 맞으면 dfs(next) 재귀함수 호출!!\n",
    "# bfs는 >> 함수 아닌 곳에서 큐만들어주고, 처음 넣은거 이미 방문 처리하고 함수호출 >> bfs함수에서는 q,visited 글로벌하고 / pop으로 맨앞에거 꺼내서 출력!! 그다음 next조건 맞나 보고 \n",
    "# next조건 맞으면!! 그때 next방문 처리하고, 그걸 append.. 계속 뒤에 붙여줌 큐에. 이걸 계속 반복!(반복문)\n",
    "\n",
    "# dfs는 방문처리가..순서상.. 함수호출전과 next사이!(출력이 사이) / bfs는 방문처리가..맨첨에 했다가.. next 조건 하고 또 next..방문처리(끝과끝) > 어찌보면 성격급해~\n",
    "\n",
    "def dfs(idx):\n",
    "    global visited\n",
    "    visited[idx] = True # 호출됐으니까 방문한거임 >> 방문여부 체크!\n",
    "    print(idx, end = ' ') # 노드 번호 출력!\n",
    "    for next in range(1, N+1): #이 next라는 노드번호가 내가 방문 한적 없고-false(visited 정보) & 방문할 수 있는 곳-True인곳(graph정보) 방문한다!\n",
    "        if not visited[next] and graph[idx][next]: # 즉, 방문한 적 없는데 현재 idx에서 갈 수 있는 곳이라면 >> 그럼 가겠다\n",
    "            dfs(next) # next로 가겠다!\n",
    "            \n",
    "def bfs():\n",
    "    global q, visited # 얜 2개 필요!!\n",
    "    while q: # bfs의 가장 일반적인 형태 >> 큐에 요소가 있을때까지 계속해서 돌겠디!!!!!!\n",
    "        cur = q.pop(0) # current(현재 노드) >> 맨 앞에꺼 꺼냄\n",
    "        print(cur, end = ' ') # 뽑아온걸 순서대로 출력 / # cur에서 갈수 있는 곳들을 큐에 넣어줌!\n",
    "        for next in range(1, N+1):\n",
    "            if not visited[next] and graph[cur][next]: # 방문한적 없는데, 방문할 수 있다면\n",
    "                visited[next] = True\n",
    "                q.append(next) # 뒤에 계속 붙임!!!\n",
    "                \n",
    "# 0. 입력 및 초기화\n",
    "# input = sys.stdin.readline # 입력 받는 시간 줄이기! 시스.에스티딘.리드라인\n",
    "N, M, V = map(int, input().split())\n",
    "\n",
    "graph = [[False]*(N+1) for _ in range(N+1)] # 노드 번호 그대로 사용하려고 n+1해줌!(그래야 n까지 출력되니까!)\n",
    "visited = [False]*(N+1)# 얜 1차원 배열임\n",
    "\n",
    "# 1. graph 정보 입력 >> 간선 정보 채워넣기!!\n",
    "for _ in range(M):\n",
    "    a, b = map(int, input().split) # m개의 간선의 정보 받기\n",
    "    graph[a][b] = True\n",
    "    graph[b][a] = True\n",
    "    \n",
    "# 2. dfs\n",
    "dfs(V) # V부터 dfs함수를 수행해라! v=idx\n",
    "print() # 줄바꿈\n",
    "\n",
    "# 3. bfs\n",
    "visited = [False] * (N+1) # False로 초기화 해주기(위에서 dfs했으니까, bfs로도 해보려면 초기화 해주면됨!)\n",
    "q = [V] # 큐가 필요!!!!!! bfs는!!!!!!!!! >> 가장 먼저 큐에 담아줄건 V임(여기서 부터 시작! 애부터 넣어주기! 얘꺼내서 얘랑 연결된애 큐에 넣어주면됨!)\n",
    "visited[V] = True # V노드를 재방문하지 않게 큐에 넣어주고 방문처리 하기!!\n",
    "bfs()"
   ]
  },
  {
   "cell_type": "code",
   "execution_count": null,
   "id": "1ed3b93f-f114-4418-9ac3-4a489b8f90b2",
   "metadata": {},
   "outputs": [],
   "source": []
  },
  {
   "cell_type": "code",
   "execution_count": null,
   "id": "b5ecfb06-e37a-447d-b1c9-3144f4e66759",
   "metadata": {},
   "outputs": [],
   "source": []
  },
  {
   "cell_type": "code",
   "execution_count": 11,
   "id": "2337adbe-65b3-4812-a133-bf42e16ef170",
   "metadata": {},
   "outputs": [
    {
     "name": "stdout",
     "output_type": "stream",
     "text": [
      "1 2 7 6 8 3 4 5 "
     ]
    }
   ],
   "source": [
    "# DFS 소스코드 예제\n",
    "\n",
    "# DFS 메서드 정의\n",
    "def dfs(graph, v, visited):\n",
    "    # 현재 노드를 방문 처리\n",
    "    visited[v] = True\n",
    "    print(v, end=' ')                              # 방문했다는 의미로 번호를 출력하게 함\n",
    "    # 현재 노드와 연결된 다른 노드를 재귀적으로 방문 > 오름차순은 이미 GRAPH에 되어있으서 뭐부터 방문할지 되어 있음!\n",
    "    for i in graph[v]:\n",
    "        if not visited[i]:\n",
    "            dfs(graph, i, visited) # 재귀!!!!!!!!!!!!!!!!!!!!\n",
    "            \n",
    "# 각 노드가 연결된 정보를 표현(2차원 리스트)\n",
    "graph = [\n",
    "    [],         # 노드번호 1번부터.. 인덱스 0은 비워둠\n",
    "    [2,3,8],    # 1번인덱스.. 1번노드와 연결된, 인접한 노드 정보 알려줌\n",
    "    [1,7],\n",
    "    [1,4,5],\n",
    "    [3,5],\n",
    "    [3,4],\n",
    "    [7],\n",
    "    [2,6,8],\n",
    "    [1,7]\n",
    "]\n",
    "\n",
    "# 각 노드가 방문된 정보를 표현 (1차원 리스트) - 처음엔 방문하지 않은 것처럼!(1~8노드 > 인덱스 0은 사용하지 않으려고 하나더 큰 크기로 1차원 리스트를 초기화 시킴)\n",
    "# 그냥 위에 그래프에 리스트 숫자랑 똑같이 하면 됨\n",
    "visited = [False] * 9\n",
    "\n",
    "# 정의된 DFS 함수 호출\n",
    "dfs(graph, 1, visited)"
   ]
  },
  {
   "cell_type": "markdown",
   "id": "d43b1e05-dad5-4e1d-a174-5fae0d47ab96",
   "metadata": {},
   "source": [
    "## BFS(Breadth-First Search)\n",
    "- 너비 우선 탐색\n",
    "- 그래프에서 가까운 노드부터 우선적으로 탐색하는 알고리즘!\n",
    "- bfs는 `큐 자료구조` 이용!\n",
    "    1. 탐색 시작 노드를 큐에 삽입하고 방문 처리 함\n",
    "    2. 큐에서 노드를 꺼낸 뒤에 해당 노드의 `인접 노드 중`에서 방문하지 않은 노드를 모두 큐에 삽입하고 방문 처리함\n",
    "    3. 더 이상 2번의 과정을 수행할 수 없을 때까지 방문\n",
    "- bfs는 특정 조건에서의 최단 경로 문제를 해결하기 위한 목적으로도 많이 사용됨!\n",
    "- 큐 자료구조가 쓰여서 사용방법 알아야 됨!\n",
    "- 각 간선의 비용이 모두 동일한 상황에서 최단 거리 문제를 해결하기 위한 목적으로도 사용됨"
   ]
  },
  {
   "cell_type": "code",
   "execution_count": 16,
   "id": "234b2e13-8de4-4a2f-b963-40d5cdbb8942",
   "metadata": {},
   "outputs": [
    {
     "name": "stdout",
     "output_type": "stream",
     "text": [
      "deque([1])\n",
      "[False, True, False, False, False, False, False, False, False]\n",
      "1 2 3 8 7 4 5 6 "
     ]
    }
   ],
   "source": [
    "# BFS 소스코드 예제\n",
    "\n",
    "from collections import deque # 이거부르면 popleft() 쓰면됨!!(pop(0)대신에!!)\n",
    "\n",
    "# BFS 메서드 정의\n",
    "def bfs(graph, start, visited):\n",
    "    # 큐(queue) 구현을 위해 deque 라이브러리 사용\n",
    "    queue = deque([start])                       # queue = deque([1])\n",
    "    # 현재 노드를 방문 처리\n",
    "    visited[start] = True                        # visited = [False, True, False, False, False, False, False, False, False]\n",
    "    # 큐가 빌 때까지 반복\n",
    "    while queue:                                # deque([1])\n",
    "        # 큐에서 하나의 원소를 뽑아 출력하기\n",
    "        v = queue.popleft()                     # 1꺼냄\n",
    "        print(v, end=' ')                       # 1출력됨\n",
    "        # 아직 방문하지 않은 인접한 원소들을 큐에 삽입\n",
    "        for i in graph[v]:                     # graph1부터 쭉쭉\n",
    "            if not visited[i]:\n",
    "                queue.append(i)\n",
    "                visited[i] = True\n",
    "            \n",
    "# 각 노드가 연결된 정보를 표현(2차원 리스트)\n",
    "graph = [\n",
    "    [],         \n",
    "    [2,3,8],    \n",
    "    [1,7],\n",
    "    [1,4,5],\n",
    "    [3,5],\n",
    "    [3,4],\n",
    "    [7],\n",
    "    [2,6,8],\n",
    "    [1,7]\n",
    "]\n",
    "\n",
    "# 각 노드가 방문된 정보를 표현 (1차원 리스트)\n",
    "visited = [False] * 9\n",
    "\n",
    "# 정의된 BFS 함수 호출\n",
    "bfs(graph, 1, visited)"
   ]
  },
  {
   "cell_type": "markdown",
   "id": "87bdfe82-9238-482d-9832-7b231088ba96",
   "metadata": {},
   "source": [
    "## DFS/BFS 문제풀이"
   ]
  },
  {
   "cell_type": "markdown",
   "id": "b8f1e401-7b4f-494a-b792-265059c8bb36",
   "metadata": {},
   "source": [
    "### 1. 음료수 얼려 먹기"
   ]
  },
  {
   "cell_type": "code",
   "execution_count": null,
   "id": "6f89eaad-173f-4deb-b763-8fe80ac3641e",
   "metadata": {},
   "outputs": [],
   "source": [
    "# N X M 크기의 얼음 틀 / 구멍뚫린부분이 0, 칸막이 존재하는 부분이 1(구멍 뚫린 부분끼리 상하좡우로 붙어 있으면 서로 연결된 것으로 간주)\n",
    "# 얼음 틀의 모양이 주어졌을 떄, 생성되는 총 아이스크림의 개수를 구하는 프로그램(위에 칸막이라고 생각하면 쉬움!)\n",
    "\n",
    "# dfs 혹은 bfs로 '''연결요소'''가 몇개인지 구하면 됨!(사화좌우 연결되어 있다고 표현> 그래프 형태로 모델링 가능)\n",
    "# (서로 인접한 노드..특정 위치에서 bfs, dfs 처리해서 이동가능한 경로를 다 방문처리가능..연결된 모든 노드 방문하며 방문처리.. 1인건 이동 불가능 )\n",
    "# 모든 노드 지점에 대해서 bfs, dfs를 수행해서 방문처리가 이루어지는 지점에 대해서만 count를 수행하게 되면 우리는 전체 연결요소가 몇개인지 계산 가능ㅇ"
   ]
  },
  {
   "cell_type": "code",
   "execution_count": null,
   "id": "120a4b68-0404-4f51-bebe-f42c61349bc6",
   "metadata": {},
   "outputs": [],
   "source": [
    "# DFS를 활용하는 알고리즘\n",
    "# 1. 특정한 지점의 주변 상하좌우를 살펴본 뒤, 주변 지점 중에서 값이 ''''0'이면서 아직 방문하지 않은 지점'''''이 있다면 해당 지점을 방문!\n",
    "# 2. 방문한 지점에서 다시 상하좌우를 살펴보면서 방문을 진행하는 과정을 반복하면, '연결된 모든 지점을 방문'할 수 있다.\n",
    "# 3. 모든 노드에 대하여 1~2번의 과정을 반복하며, 방문하지 않은 지점의 수를 카운트함."
   ]
  },
  {
   "cell_type": "code",
   "execution_count": null,
   "id": "e1d1e6e0-76b4-4b82-b736-35134237a81a",
   "metadata": {},
   "outputs": [],
   "source": [
    "# N,M을 공백을 기준으로 구분하여 입력 받기\n",
    "n, m = map(int, input().split())\n",
    "\n",
    "\n",
    "# 2차원 리스트의 맵 정보 입력 받기\n",
    "# 입력이 0과1로 공백없이, 문자열 형태로 주어짐 >> 한줄로 입력 받은 다음에 각 원소를 int로 해서 다시 list형태로 만들어줌\n",
    "graph = []\n",
    "\n",
    "for i in range(n):\n",
    "    graph.append(list(map(int, input())))\n",
    "    \n",
    "# DFS로 특정 노드를 방문하고 연결된 모든 노드들도 방문\n",
    "def dfs(x, y):\n",
    "    # 주어진 범위를 벗어나는 경우에는 즉시 종료\n",
    "    if x <= -1 or x >= n or y <= -1 or >= m:\n",
    "        return False\n",
    "    # 현재 노드를 아직 방문하지 않았다면\n",
    "    if graph[x][y] == 0:\n",
    "        # 해당 노드 방문 처리\n",
    "        graph[x][y] = 1\n",
    "        # 상, 하, 좌, 우의 위치들도 모두 재귀적으로 호출 >> 얘네는 return값을 사용하지 않기 때문에 단순히 연결된 노드들 방문처리만 됨.\n",
    "        dfs(x - 1, y)\n",
    "        dfs(x, y - 1)\n",
    "        dfs(x + 1, y)\n",
    "        dfs(X, y + 1)\n",
    "        return True\n",
    "    return False\n",
    "    \n",
    "# 모든 노드(위치)에 대하여 음료수 채우기\n",
    "result = 0\n",
    "for i in range(n):\n",
    "    for j in range(m):\n",
    "        # 현재 위치에서 DFS 수행\n",
    "        if dfs(i, j) == True:             # 방문처리가 되어 있으면 1씩 올려줌 / 결과적으로 이 dfs는 한번 수행되면 해당 노드와 연결된 모든 노드들도 방문처리 될 수 있도록 하고, 그 시작점 노드가 방문처리가 되었다면, 즉 처음 방문하는 것이라면 그때만 result값을 증가시킴!\n",
    "            result += 1\n",
    "            \n",
    "print(result) # 정답출력\n",
    "            \n",
    "        "
   ]
  },
  {
   "cell_type": "markdown",
   "id": "3408e86b-1000-461a-9f43-4f606f4455b4",
   "metadata": {},
   "source": [
    "1. 첫 번째 줄에서 n과 m을 입력받습니다. 이는 2차원 그래프의 크기를 나타냅니다.\n",
    "2. 그 다음 n개의 줄에 걸쳐 2차원 그래프의 정보를 입력받습니다. 0과 1로 이루어진 문자열 형태로 입력이 주어지며, 각 문자를 정수로 변환하여 2차원 리스트인 graph에 저장합니다.\n",
    "3. dfs(x, y) 함수를 정의합니다. 이 함수는 현재 노드의 위치 (x, y)를 인자로 받아서 해당 노드를 방문하고, 연결된 모든 노드들도 방문하는 역할을 합니다.\n",
    "4. dfs(x, y) 함수에서는 현재 노드가 그래프의 범위를 벗어나는 경우에는 즉시 종료합니다.\n",
    "5. 현재 노드가 아직 방문하지 않은 경우(값이 0인 경우)에는 해당 노드를 방문 처리하고, 상, 하, 좌, 우의 위치들을 재귀적으로 호출합니다. 이는 현재 노드와 연결된 노드들도 모두 방문 처리하기 위한 과정입니다.\n",
    "6. 모든 노드에 대해 dfs(x, y) 함수를 호출하여 모든 영역을 탐색하고, 이때 방문 처리되는 노드들의 개수를 결과값(result)에 누적하여 저장합니다.\n",
    "7. 최종적으로 구해진 결과값(result)을 출력하여 영역의 개수를 출력합니다."
   ]
  },
  {
   "cell_type": "markdown",
   "id": "b980ef74-3fcf-4857-8c4d-07e070fc7844",
   "metadata": {},
   "source": [
    "- 입력값으로 n과 m을 받습니다. n은 행의 개수, m은 열의 개수를 의미합니다.\n",
    "- 이후 2차원 리스트인 graph에 n개의 줄에 걸쳐 0과 1로 이루어진 문자열을 입력받아 저장합니다. 입력받은 문자열을 int로 변환하여 리스트의 원소로 저장합니다. 이렇게 함으로써 graph는 2차원 리스트 형태로 구현된 맵 정보를 가지게 됩니다.\n",
    "- dfs() 함수는 DFS 알고리즘을 구현한 함수로, 특정 노드 (x, y)를 방문하고 연결된 모든 노드들도 방문합니다.\n",
    "- 먼저, 입력으로 주어진 x와 y가 맵의 범위를 벗어나면 함수를 종료합니다.\n",
    "- 그 다음, 현재 노드 (x, y)가 아직 방문하지 않은 노드인 경우, 해당 노드를 방문 처리하고, 상, 하, 좌, 우의 위치\n",
    "- 재귀적으로 호출되는 dfs() 함수는 해당 위치의 상, 하, 좌, 우의 인접한 위치를 방문하도록 구현되어 있습니다.\n",
    "- 이렇게 함으로써 현재 위치에서 `연결된 모든 노드들을 방문`하게 됩니다.\n",
    "- 모든 노드에 대하여 `dfs() 함수를 호출하여 음료수를 채우게` 됩니다. 이 때, `dfs() 함수가 True를 반환하는 경우, 새로운 음료수 영역을 발견한 것이므로 result 변수를 1 증가`시킵니다. (dfs()는 재귀적으로 호출해서 다 방문, 탐색하는 역할! true를 반환하는건 새로운 음료수 영역을 발견한 그 특정 시작 노드일때만!)\n",
    "- 모든 노드에 대한 dfs() 함수 호출이 끝나면, result 변수에는 `총 음료수 영역의 개수`가 저장되게 됩니다.\n",
    "- 최종적으로 result 값을 출력하여 정답을 출력합니다.\n",
    "\n"
   ]
  },
  {
   "cell_type": "code",
   "execution_count": 1,
   "id": "29417852-084e-478f-a276-85768b726907",
   "metadata": {},
   "outputs": [
    {
     "name": "stdin",
     "output_type": "stream",
     "text": [
      " 4 5\n",
      " 00110\n",
      " 00011\n",
      " 11111\n",
      " 00000\n"
     ]
    },
    {
     "name": "stdout",
     "output_type": "stream",
     "text": [
      "음료수 영역 발견! 현재 위치: (0, 0)\n",
      "음료수 영역 아님. 현재 위치: (0, 1)\n",
      "음료수 영역 아님. 현재 위치: (0, 2)\n",
      "음료수 영역 아님. 현재 위치: (0, 3)\n",
      "음료수 영역 발견! 현재 위치: (0, 4)\n",
      "음료수 영역 아님. 현재 위치: (1, 0)\n",
      "음료수 영역 아님. 현재 위치: (1, 1)\n",
      "음료수 영역 아님. 현재 위치: (1, 2)\n",
      "음료수 영역 아님. 현재 위치: (1, 3)\n",
      "음료수 영역 아님. 현재 위치: (1, 4)\n",
      "음료수 영역 아님. 현재 위치: (2, 0)\n",
      "음료수 영역 아님. 현재 위치: (2, 1)\n",
      "음료수 영역 아님. 현재 위치: (2, 2)\n",
      "음료수 영역 아님. 현재 위치: (2, 3)\n",
      "음료수 영역 아님. 현재 위치: (2, 4)\n",
      "음료수 영역 발견! 현재 위치: (3, 0)\n",
      "음료수 영역 아님. 현재 위치: (3, 1)\n",
      "음료수 영역 아님. 현재 위치: (3, 2)\n",
      "음료수 영역 아님. 현재 위치: (3, 3)\n",
      "음료수 영역 아님. 현재 위치: (3, 4)\n",
      "총 음료수 영역 개수: 3\n"
     ]
    }
   ],
   "source": [
    "# GPT에게 질문\n",
    "\n",
    "# N,M을 공백을 기준으로 구분하여 입력 받기\n",
    "n, m = map(int, input().split())\n",
    "\n",
    "\n",
    "# 2차원 리스트의 맵 정보 입력 받기\n",
    "# 입력이 0과1로 공백없이, 문자열 형태로 주어짐 >> 한줄로 입력 받은 다음에 각 원소를 int로 해서 다시 list형태로 만들어줌\n",
    "graph = []\n",
    "\n",
    "for i in range(n):\n",
    "    graph.append(list(map(int, input())))\n",
    "# DFS로 특정 노드를 방문하고 연결된 모든 노드들도 방문\n",
    "def dfs(x, y):\n",
    "    # 주어진 범위를 벗어나는 경우에는 즉시 종료\n",
    "    if x <= -1 or x >= n or y <= -1 or y >= m:\n",
    "        return False\n",
    "    # 현재 노드를 아직 방문하지 않았다면\n",
    "    if graph[x][y] == 0:\n",
    "        # 해당 노드 방문 처리\n",
    "        graph[x][y] = 1\n",
    "        # 상, 하, 좌, 우의 위치들도 모두 재귀적으로 호출\n",
    "        dfs(x - 1, y)\n",
    "        dfs(x, y - 1)\n",
    "        dfs(x + 1, y)\n",
    "        dfs(x, y + 1)\n",
    "        return True\n",
    "    return False\n",
    "\n",
    "# 모든 노드(위치)에 대하여 음료수 채우기\n",
    "result = 0\n",
    "for i in range(n):\n",
    "    for j in range(m):\n",
    "        # 현재 위치에서 DFS 수행\n",
    "        if dfs(i, j) == True:\n",
    "            result += 1\n",
    "            print(f\"음료수 영역 발견! 현재 위치: ({i}, {j})\")\n",
    "        else:\n",
    "            print(f\"음료수 영역 아님. 현재 위치: ({i}, {j})\")\n",
    "\n",
    "print(\"총 음료수 영역 개수:\", result)\n",
    "\n",
    "# 이렇게 dfs() 함수 내에 print() 문을 추가하면, 각 위치를 방문하면서 해당 위치가 음료수 영역인지 아닌지를 확인하고, \n",
    "# 음료수 영역을 발견할 때마다 그 위치를 출력합니다. 마지막으로 총 음료수 영역의 개수를 출력하여 동작 과정을 확인할 수 있습니다.\n",
    "# 모든거 탐색하다가.. 1만나면 또 끝남 그 재귀함수 호출은! 사방이 1이면 끝남...ㅎㅎ"
   ]
  },
  {
   "cell_type": "markdown",
   "id": "bc1d7a50-e866-488d-a6c5-a641140ff8f1",
   "metadata": {},
   "source": [
    "### 2. 미로 탈출"
   ]
  },
  {
   "cell_type": "code",
   "execution_count": null,
   "id": "5a54ab9b-7d97-46a0-a69c-ae1cfaed9935",
   "metadata": {},
   "outputs": [],
   "source": [
    "# N X M 크기(맵의 크기)의 직사각형 형태의 미로\n",
    "# (1,1)위치부터 시작, 출구는 (n,m)\n",
    "# 괴물 있는 부분 0, 없는 부분 1 >> 없는 부분 한칸씩 이동하며 미로 탈출해야 함\n",
    "# 탈출하기 위해 움직여야 하는 최소칸의 개수 구하기!(시작칸과 마지막칸 모두 포함해서 계산) >> 최소거리 구하기!!\n",
    "\n",
    "# BFS를 수행!(간선의 비용이 모두 같을 떄, 최단 거리를 탐색할 떄 사용!!!!)\n",
    "# BFS는 시작 지점에서 가까운 노드부터 차례대로 그래프의 모든 노드를 탐색함!\n",
    "# 상하좌우로 연결된 모든 노드로의 거리는 모두 1로 동일! >> (1,1) 시작지점부터 bfs를 수행해서 모든 노드의 최단 거리 값을 기록해서 해결!\n",
    "\n",
    "# 처음 위치에서 BFS 시작 (값이 '''1일때만 방문처리'''하고, 거리 기록해주고, 그걸 큐에 넣고, 그걸 다시 BFS 수행. 다시 탐색!)"
   ]
  },
  {
   "cell_type": "code",
   "execution_count": 2,
   "id": "6ebff60e-b707-4847-a405-e8db00675864",
   "metadata": {},
   "outputs": [
    {
     "name": "stdin",
     "output_type": "stream",
     "text": [
      " 5 6\n",
      " 101010\n",
      " 111111\n",
      " 000001\n",
      " 111111\n",
      " 111111\n"
     ]
    },
    {
     "name": "stdout",
     "output_type": "stream",
     "text": [
      "0 0\n",
      "deque([(1, 0)])\n",
      "1\n"
     ]
    }
   ],
   "source": [
    "from collections import deque\n",
    "\n",
    "n, m = map(int, input().split())\n",
    "graph = [] # 2차원 리스트 맵 정보(한줄씩 입력받음, list형태로 넣어줌. 그래야 인덱싱 쉬움)\n",
    "for i in range(n):\n",
    "    graph.append(list(map(int, input()))) # 그래프정보 한줄씩 주어지면 이렇게!!!!!!!!!!!!!!!!!!!!!!!!!!!!!!\n",
    "    \n",
    "# 이동할 네 방향 정의(상하좌우) >> 상하가 x / 좌우가 y\n",
    "dx = [-1, 1, 0, 0]\n",
    "dy = [0, 0, -1, 1]\n",
    "\n",
    "# BFS 소스코드 구현\n",
    "def bfs(x, y):\n",
    "    # 큐 구현을 위해 deque 라이브러리 사용\n",
    "    queue = deque()\n",
    "    queue.append((x,y))\n",
    "    # 큐가 빌 때까지 반복 (비면 false)\n",
    "    while queue:\n",
    "        x, y = queue.popleft() # 처음에 (0, 0)\n",
    "        # 현재 위치에서 네 방향으로의 위치 확인 >>움직여서 간 위치\n",
    "        for i in range(4):\n",
    "            nx = x + dx[i]\n",
    "            ny = y + dy[i]\n",
    "            # 미로 찾기 공간을 벗어난 경우 무시\n",
    "            if nx < 0 or ny < 0 or nx >= n or ny >= m:\n",
    "                continue\n",
    "            # 벽인 경우 무시(괴물)\n",
    "            if graph[x][y] == 0:\n",
    "                continue\n",
    "            # 해당 노드를 '처음 방문하는 경우에만 최단 거리 기록'\n",
    "            if graph[nx][ny] == 1:\n",
    "                graph[nx][ny] = graph[x][y] + 1 # 직전 노드의 값에 1을 더함 / 2번째때 상방향 가도(0,0) 이 계산하면 3되는데 (1,1)위치도 3됨.. 이렇게 쭉쭉..!! 어차피 마지막 return은 [n-1][m-1]이니까!\n",
    "                queue.append((nx, ny)) # 처음에 queue에 deque[(1,0)] 추가됨. / 여기서 추가되서 큐 빌때까지(while queue) 하나씩 꺼내서(popleft) 확인+기록\n",
    "        # 가장 오른쪽 아래까지의 최단 거리 반환\n",
    "        return graph[n-1][m-1]\n",
    "    \n",
    "# BFS 수행한 결과 출력\n",
    "print(bfs(0,0))"
   ]
  }
 ],
 "metadata": {
  "kernelspec": {
   "display_name": "Python 3 (ipykernel)",
   "language": "python",
   "name": "python3"
  },
  "language_info": {
   "codemirror_mode": {
    "name": "ipython",
    "version": 3
   },
   "file_extension": ".py",
   "mimetype": "text/x-python",
   "name": "python",
   "nbconvert_exporter": "python",
   "pygments_lexer": "ipython3",
   "version": "3.9.13"
  }
 },
 "nbformat": 4,
 "nbformat_minor": 5
}
