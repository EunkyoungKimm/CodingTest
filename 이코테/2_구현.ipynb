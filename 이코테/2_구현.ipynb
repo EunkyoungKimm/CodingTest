{
 "cells": [
  {
   "cell_type": "markdown",
   "id": "ef5aacc5-d981-4dae-a1e2-a99868b5281d",
   "metadata": {},
   "source": [
    "# 구현: 시뮬레이션과 완전 탐색\n",
    "- 머릿속에 있는 알고리즘(생각)을 소스코드로 바꾸는 과정!\n",
    "- problem > thinking > solution\n",
    "- 모든 유형이 구현 문제임(그 중 구현이 어려운 시뮬레이션과 완전 탐색에 초점!(즉, 풀이를 떠올리는 것은 쉽지만 소스코드로 옮기기 어려운 문제)\n",
    "- 실수 연산을 다루고 특정 소수점 자리까지 출력해야 하는 문제 / `문자열을 특정한 기준에 따라서 끊어 처리`해야 하는 문제(파이썬이 상대적으로 편함) / 적절한 라이브러리를 찾아서 사용해야 하는 문제(모든 순열, 조합 찾는 문제 > 파이썬에서는 `itertools`라이브러리 사용)"
   ]
  },
  {
   "cell_type": "markdown",
   "id": "b150065a-6b4c-40d3-b20d-b7febd6653c0",
   "metadata": {},
   "source": [
    "- 2차원 공간은 행렬(Matrix)로! ex. 게임 캐릭터가 어떤 위치로 이동한다 등.. (행(row세로), 열(column가로) 로 이루어짐)"
   ]
  },
  {
   "cell_type": "code",
   "execution_count": 1,
   "id": "cf989b49-f54f-4cdd-a77c-e39669e5a24f",
   "metadata": {
    "tags": []
   },
   "outputs": [
    {
     "name": "stdout",
     "output_type": "stream",
     "text": [
      "( 0 , 0 ) ( 0 , 1 ) ( 0 , 2 ) ( 0 , 3 ) ( 0 , 4 ) \n",
      "( 1 , 0 ) ( 1 , 1 ) ( 1 , 2 ) ( 1 , 3 ) ( 1 , 4 ) \n",
      "( 2 , 0 ) ( 2 , 1 ) ( 2 , 2 ) ( 2 , 3 ) ( 2 , 4 ) \n",
      "( 3 , 0 ) ( 3 , 1 ) ( 3 , 2 ) ( 3 , 3 ) ( 3 , 4 ) \n",
      "( 4 , 0 ) ( 4 , 1 ) ( 4 , 2 ) ( 4 , 3 ) ( 4 , 4 ) \n"
     ]
    }
   ],
   "source": [
    "for i in range(5):\n",
    "    for j in range(5):\n",
    "        print('(',i,',',j,')', end=' ')\n",
    "    print()"
   ]
  },
  {
   "cell_type": "markdown",
   "id": "66055180-4f51-40e8-9960-8e995cf80ee5",
   "metadata": {},
   "source": [
    "- 시뮬레이션 문제 같은 경우는 특정한 캐릭터, 사물이 상하좌우 움직일 수 있다.. >> 2차원 공간에서의 `방향 벡터`가 자주 활용됨."
   ]
  },
  {
   "cell_type": "code",
   "execution_count": 2,
   "id": "5f3f321d-bd4b-401a-a9c1-a3af9f8c73d3",
   "metadata": {
    "collapsed": true,
    "jupyter": {
     "outputs_hidden": true
    },
    "tags": []
   },
   "outputs": [
    {
     "name": "stdout",
     "output_type": "stream",
     "text": [
      "2 3\n",
      "1 2\n",
      "2 1\n",
      "3 2\n"
     ]
    }
   ],
   "source": [
    "# 동 북 서 남 > 아래와 같이 방향 벡터 설정 가능\n",
    "dx = [0, -1, 0, 1] # 행, 세로 ( direction x >> 방향성 나타냄)\n",
    "dy = [1, 0, -1, 0] # 컬럼, 가로\n",
    "\n",
    "# 현재 위치\n",
    "x, y = 2, 2\n",
    "\n",
    "for i in range(4):\n",
    "    # 다음 위치\n",
    "    nx = x + dx[i] # 행 방향에선 어떤 방향으로 움직일건지 이렇게 설정 가능\n",
    "    ny = y + dy[i] # 열 방향 움직임\n",
    "    print(nx, ny)"
   ]
  },
  {
   "cell_type": "markdown",
   "id": "896fdbc6-0188-4a50-838e-5e0ab8b3f447",
   "metadata": {},
   "source": [
    "## 1. 상하좌우\n",
    "- 구현. 시뮬레이션 문제"
   ]
  },
  {
   "cell_type": "code",
   "execution_count": null,
   "id": "ffae0edc-7a41-4758-a641-8a41202bf4cd",
   "metadata": {},
   "outputs": [],
   "source": [
    "# 문제 읽으며 아래와 같이 적는 것도 좋을 듯!\n",
    "\n",
    "# 문제 설명\n",
    "# 가장 왼쪽 위 좌표 (1,1), 가장 오른쪽 좌표는 (N,N) / 여행가는 상하좌우 방향으로 이동 가능\n",
    "# 시작은 항상 (1,1)\n",
    "# L R U D 들어오는거에 따라서 이동 / N X N 벗어나면 그 움직임은 무시됨\n",
    "\n",
    "# 명령에 따라 개체를 차례대로 이동 >> 시뮬레이션 유형!임\n",
    "# 요구사항대로 하면 됨(공간 벗어나는 경우 조건 잘 세우기)"
   ]
  },
  {
   "cell_type": "code",
   "execution_count": 1,
   "id": "baa1a016-2335-4152-8a25-e464f0b3e9d5",
   "metadata": {
    "tags": []
   },
   "outputs": [
    {
     "name": "stdin",
     "output_type": "stream",
     "text": [
      " 5\n",
      " R R R U D D\n"
     ]
    },
    {
     "name": "stdout",
     "output_type": "stream",
     "text": [
      "3 4\n"
     ]
    }
   ],
   "source": [
    "# N 입력 받기\n",
    "n = int(input())\n",
    "x, y = 1, 1\n",
    "plans = input().split() # str\n",
    "\n",
    "# L, R, U, D에 따른 이동 방향\n",
    "dx = [0, 0, -1, 1] # x > 위 아래\n",
    "dy = [-1, 1, 0, 0] # Y > 왼 오\n",
    "move_types = ['L', 'R', 'U', 'D'] # str\n",
    "\n",
    "# 이동 계획을 하나씩 확인하기\n",
    "for plan in plans:\n",
    "    # 이동 후 좌표 구하기\n",
    "    for i in range(len(move_types)): # 상하좌우 4번!!!!!for문 돌기!!!!\n",
    "        if plan == move_types[i]:\n",
    "            nx = x + dx[i]\n",
    "            ny = y + dy[i]\n",
    "    # 공간을 벗어나는 경우 무시 >>> continue\n",
    "    if nx < 1 or ny < 1 or ny > n or ny > n:\n",
    "        continue\n",
    "    # 이동 수행\n",
    "    x, y = nx, ny\n",
    "\n",
    "print(x, y)"
   ]
  },
  {
   "cell_type": "markdown",
   "id": "f9ab8d1c-838c-4ca9-a2d0-fe1dcf646792",
   "metadata": {},
   "source": [
    "## 2. 시각"
   ]
  },
  {
   "cell_type": "code",
   "execution_count": null,
   "id": "440283f1-0f41-45f4-a3d1-6566fde64833",
   "metadata": {},
   "outputs": [],
   "source": [
    "# 모든 시각 중에서 3이 하나라도 포함되는 모든 경우의 수 찾기(1 입력하면 0시00분00초~1시59분59초 사이) >>완전 탐색 문제(가능한 경우의 수 모두 검사해보는 탐색방법)\n",
    "# 다 하나하나 확인해도 됨!(경우의 수가 그렇게 많지 않음)(하루는 24*60*60 = 86400초)(1초에 2천만번 정도 연산 가능.이걸 고려하기!)"
   ]
  },
  {
   "cell_type": "code",
   "execution_count": 7,
   "id": "6a05acec-a5c6-4ed5-b4dc-f6f1c8caef96",
   "metadata": {},
   "outputs": [
    {
     "name": "stdin",
     "output_type": "stream",
     "text": [
      " 20 3\n"
     ]
    },
    {
     "name": "stdout",
     "output_type": "stream",
     "text": [
      "5\n"
     ]
    }
   ],
   "source": [
    "# H 입력 받기\n",
    "h = int(input()) # str \n",
    "\n",
    "count = 0\n",
    "for i in range(h+1): # 시 \n",
    "    for j in range(60): # 분\n",
    "        for k in range(60): # 초\n",
    "            # 매 시각 안에 '3'이 포함되어 있다면 카운트 증가\n",
    "            if '3' in str(i) + str(j) + str(k): # str!!! >> 연결(+) 가능!! >> 이렇게 자리마다 이게 있는지..비교 , 찾는거, 존재여부 >> str!!!!!\n",
    "                count += 1\n",
    "                \n",
    "print(count)"
   ]
  },
  {
   "cell_type": "code",
   "execution_count": null,
   "id": "bfa549f4-d3a8-42d4-9e9a-d9a9729eb564",
   "metadata": {},
   "outputs": [],
   "source": [
    "# 걍 애초에 h를 int로 바꾸면 쉽지 않을까..하지만 시분초 구분하려면 str이 좋을듯! 아니면 +(더하기 연산 되서..정수면.. 어려울듯!)"
   ]
  },
  {
   "cell_type": "markdown",
   "id": "44429b43-b7bb-4b0a-943e-1fcc5ec3a442",
   "metadata": {},
   "source": [
    "## 3. 왕실의 나이트"
   ]
  },
  {
   "cell_type": "code",
   "execution_count": null,
   "id": "27ff3b8c-10fb-4883-9d69-061fc3da6da2",
   "metadata": {},
   "outputs": [],
   "source": [
    "# 8 x 8 좌표 평면(2차원 공간)\n",
    "# 나이트는 L자 형태로만 이동 가능(수평 2칸, 수직 1칸 or 수직2칸, 수평1칸)\n",
    "# 좌표 주어졌을 때 '''''이동할 수 있는 경우의 수''''' 구하기\n",
    "# 행위치는 1~8 / 열위치는 a~h >> 입력은 c2 이렇게 주어짐\n",
    "\n",
    "# 시뮬레이션, 완전탐색 문제이면서도 2차원 공간 이용하는 구현 문제임!\n",
    "# 요구사항대로 충실히 구현하면 됨\n",
    "# 8가지 경로를 하나씩 확인하며. 각 위치로 이동 가능한지 매번 사용!\n",
    "# 리스트를 이용하여 8가지 방향에 대한 방향벡터!! 정의하고 풀기"
   ]
  },
  {
   "cell_type": "code",
   "execution_count": 12,
   "id": "50a675c1-9d14-4418-983a-ce51a85c5060",
   "metadata": {
    "collapsed": true,
    "jupyter": {
     "outputs_hidden": true
    },
    "tags": []
   },
   "outputs": [
    {
     "name": "stdin",
     "output_type": "stream",
     "text": [
      " 20345\n"
     ]
    },
    {
     "name": "stdout",
     "output_type": "stream",
     "text": [
      "120\n"
     ]
    }
   ],
   "source": [
    "# dx, dy 따로 따로 2개의 리스트를 사용하지 않고 이렇게 단순히 하나의 리스트를 이용하는 것으로도 문제를 풀 수 있다! >> steps 보기"
   ]
  },
  {
   "cell_type": "code",
   "execution_count": 2,
   "id": "3cef8e97-5668-4308-a3fb-d23125d9afc0",
   "metadata": {},
   "outputs": [
    {
     "name": "stdin",
     "output_type": "stream",
     "text": [
      " a1\n"
     ]
    },
    {
     "name": "stdout",
     "output_type": "stream",
     "text": [
      "2\n"
     ]
    }
   ],
   "source": [
    "# 현재 나이트의 위치 입력받기\n",
    "input_data = input()\n",
    "row = int(input_data[1]) # str >> 인덱싱 가능!!!!!\n",
    "# 알파벳 정수 구하는 방법 >>> int(ord('알파벳') - int(ord('a')) + 1 !!!!!!!!!!!!!!!!!!!!!!!!!!!!! ord <--> char(숫자) >> 문자열 'a'같은거 돌려줌\n",
    "column = int(ord(input_data[0])) - int(ord('a')) + 1 # 문자로 들어온 값을 아스키코드로(ord) 값으로 바꾼 후, 'a빼고 1더하면' 그 컬럼의 위치를 row값이 정수로 얻을 수 o\n",
    "\n",
    "# 나이트가 이동할 수 있는 8가지 방향 정의 > 8개의 방향 벡터 >>>>>>> 이렇게 다써!!!!!!!!!!!!!!!!!!!!! 모든 방법 다 동원해!!!!\n",
    "steps = [(-2, -1), (-1, -2), (1, -2), (2, -1), (2, 1), (1, 2), (-1, 2), (-2, 1)]\n",
    "\n",
    "# 8가지 방향에 대하여 각 위치로 이동이 가능한지 확인\n",
    "result = 0\n",
    "for step in steps:\n",
    "    # 이동하고자 하는 위치 확인 >> 행, 열 / x,y 방향 다 계산 하기 각각!!!!!!!!!!!!!\n",
    "    next_row = row + step[0]\n",
    "    next_column = column + step[1]\n",
    "    # 해당 위치로 이동이 가능하면 카운트 증가\n",
    "    if next_row >= 1 and next_row <= 8 and next_column >= 1 and next_column <= 8:\n",
    "        result += 1\n",
    "        \n",
    "print(result)"
   ]
  },
  {
   "cell_type": "markdown",
   "id": "53683f05-4877-448f-8dcf-0452fa6b5e95",
   "metadata": {},
   "source": [
    "## 4. 문자열 재정렬"
   ]
  },
  {
   "cell_type": "code",
   "execution_count": null,
   "id": "846b8a44-8f5d-4de0-8fee-1c36d1d89365",
   "metadata": {},
   "outputs": [],
   "source": [
    "# 알파벳 대문자와 숫자(0~9)로만 이루어진 문자열이 입력으로 들어옴.\n",
    "# 알파벳은 오름차순, 그 뒤에는 숫자 모두 더한 값!\n",
    "\n",
    "# 하나하나 다 따져보는 완전탐색! 구현 문제!\n",
    "# 문자 하나씩 확인(숫자면 따로 합계 / 알파벳이면 별도의 리스트에 저장하여 정렬)"
   ]
  },
  {
   "cell_type": "code",
   "execution_count": 3,
   "id": "89aa1548-92a4-4262-81c5-8a02008d12d4",
   "metadata": {},
   "outputs": [
    {
     "name": "stdin",
     "output_type": "stream",
     "text": [
      " AB79N2R5\n"
     ]
    },
    {
     "name": "stdout",
     "output_type": "stream",
     "text": [
      "ABNR23\n"
     ]
    }
   ],
   "source": [
    "data = input()\n",
    "result = []\n",
    "value = 0\n",
    "\n",
    "# 문자를 하나씩 확인\n",
    "for x in data:\n",
    "    # 알파벳인 경우 결과 리스트에 삽입\n",
    "    if x.isalpha():                    # isalpha() 변수명.isalpha() !!!!!!!!!!! > 문자인지 아닌지!!!!!!!!!!!!!!\n",
    "        result.append(x)\n",
    "    # 숫자는 따로 더하기\n",
    "    else:\n",
    "        value += int(x) # 하나씩 확인하려면 문자열이어야 함!! 확인하고 int로 바꿔서 더해주기!!!!!!!!\n",
    "        \n",
    "# 알파벳을 오름차순으로 정렬\n",
    "result.sort()\n",
    "\n",
    "# 숫자가 하나라도 존재하는 경우 가장 뒤에 삽입(0인 경우!! 조심!!!) >>>>>>>> 이런경우 제발 생각하자!!!!!!!!!!!!!!!!!!!!!!\n",
    "if value != 0:\n",
    "    result.append(str(value)) # 문자 리스트(RESULT) 뒤쪽에 붙여줌 >> 아래에서 join으로 붙여주려면 str이어야 됨!!!!!!!!!!!!!!\n",
    "\n",
    "# 최종 결과 출력 (리스트를 문자열로 변환하여 출력)\n",
    "print(''.join(result)) "
   ]
  }
 ],
 "metadata": {
  "kernelspec": {
   "display_name": "Python 3 (ipykernel)",
   "language": "python",
   "name": "python3"
  },
  "language_info": {
   "codemirror_mode": {
    "name": "ipython",
    "version": 3
   },
   "file_extension": ".py",
   "mimetype": "text/x-python",
   "name": "python",
   "nbconvert_exporter": "python",
   "pygments_lexer": "ipython3",
   "version": "3.9.13"
  }
 },
 "nbformat": 4,
 "nbformat_minor": 5
}
