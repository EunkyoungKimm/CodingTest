{
 "cells": [
  {
   "cell_type": "markdown",
   "id": "dfa22e3b-d4b8-4ee8-b64f-f65e89f61bf5",
   "metadata": {},
   "source": [
    "# 기타 그래프 이론"
   ]
  },
  {
   "cell_type": "markdown",
   "id": "51a26a6a-a866-4896-a83f-5ab238a1e071",
   "metadata": {},
   "source": [
    "## 서로소 집합\n",
    "- 서로소 집합(disjoint sets) : `공통 원소가 없는 두 집합`을 의미\n",
    "- ex. {1,2}와 {3,4}는 서로소 관계이다 / {1,2}와 {2,3}은 서로소 관계가 아니다."
   ]
  },
  {
   "cell_type": "markdown",
   "id": "f44d118d-7676-4ee3-af23-2a55c7153743",
   "metadata": {},
   "source": [
    "**<서로소 집합 자료구조>**\n",
    "- `서로소 부분 집합들로 나누어진 원소들의 데이터를 처리하기 위한 자료구조`\n",
    "- 서로소 집합 자료구조는 2종류의 연산 지원: `합집합(union), 찾기(find)`\n",
    "- 합집합: 2개의 원소가 포함된 집합을 하나의 집합으로 합치는 연산(2개의 원소가 포함되어 있는 각각의 집합이 같은 집합이 될 수 있도록 합치는 역할)\n",
    "- 찾기: 특정한 원소가 속한 집합이 어떤 집합인지 알려주는 연산(두 원소가 같은 집합에 포함되어 있는지에 대한 여부를 알 수 있다)\n",
    "- 서로소 집합 자료구조는 `합치기 찾기 자료구조(Union Find)`라고 불리기도 함"
   ]
  },
  {
   "cell_type": "markdown",
   "id": "9186083f-8f6a-4511-99f5-c3a8713f1b29",
   "metadata": {},
   "source": [
    "**<합치기 연산>**\n",
    "1. 합집합 연산을 확인하여, 서로 연결된 두 노드 A, B를 확인\n",
    "    - A와 B의 루트 노드 A프라임, B프라임을 각각 찾음\n",
    "    - A프라임을 B프라임의 부모 노드로 설정!\n",
    "2. 모든 합집합 연산을 처리할 때까지 1번 과정을 반복"
   ]
  },
  {
   "cell_type": "markdown",
   "id": "6cc14a31-571a-42f4-9c62-d2f6ce96958a",
   "metadata": {},
   "source": [
    "**<서로소 집합 자료구조: 동작 과정>**\n",
    "- 처리할 연산들: Union(1,4), Union(2,3), Union(2,4), Union(5,6)\n",
    "- 초기 단계: 노드의 개수 크기의 부모 테이블을 초기화(자기 자신으로 - 서로 각각의 서로 다른 집합으로 분류됨. 원소1개인 집합들로)\n",
    "- Union(1,4): 노드 1과 노드 4의 루트노드를 각각 찾음. 현재 루트 노드는 각각 1,4이므로 더 큰 번호에 해당하는 루트 노드 4의 부모를 1로 설정!(작은 노드의 루트노드를 따름!!!! 더 큰 루트노드가 작은 노드를 가리키도록..)\n",
    "- Union(2,4): 노드 2와 노드4의 루트노드를 각각 찾으면, 2와 1이 되는데.. 더 큰 번호에 해당하는 루트 노드 2의 부모를 1로 설정!(1,1이 됨)(4,2합쳤는데 `더 작은 부모, 루트 노드 있으면 그걸로 루트노드 바꿔주면 됨!`)\n",
    "- 3번노드의 부모 노드는 2로 되어 있음(화살표 따라가다 보면 루트 노드 1임 >> 이래서 연산 시간 오래걸림)(부모 테이블 기록 달라도 1,2,3,4노드는 하나의 집합임!)\n",
    "- Union(5,6): 루트노드 5로 같은 집합됨!"
   ]
  },
  {
   "cell_type": "markdown",
   "id": "42e92a4d-fcdc-466c-97a3-40cdbe7b65da",
   "metadata": {},
   "source": [
    "**<서로소 집합 자료구조: 연결성>**\n",
    "- 서로소 집합 자료구조에서는 `연결성`을 통해 손쉽게 `집합 형태`를 확인할 수 있음!\n",
    "- 기본적인 형태의 서로소 집합 자료구조에서는 `루트 노드에 집접 접근할 수 없음`\n",
    "- 루트 노드를 찾기 위해 `부모 테이블을 계속 확인`하며 거슬러 올라가야 함"
   ]
  },
  {
   "cell_type": "code",
   "execution_count": null,
   "id": "4a2a728e-5f4f-4283-802d-0df445dd78d7",
   "metadata": {},
   "outputs": [],
   "source": [
    "# 서로소 집합 자료구조: 기본적인 구현 방법\n",
    "\n",
    "# 특정 원소가 속한 집합을 찾기\n",
    "def find_parent(parent, x):\n",
    "    # 루트 노드를 찾을 때까지 재귀 호출\n",
    "    if parent[x] != x: # 부모노드가 자기 자신이 아니라면 루트노드가 아닌것이기 때문에 루트노드를 찾기 위해 자신의 부모노드번호를 넣어서 다시 find_parent호출\n",
    "        return find_parent(parent, parent[x])\n",
    "    return x\n",
    "\n",
    "# 두 원소가 속한 집합을 합치기\n",
    "def union_parent(parent, a, b): # 매개변수 parent, a, b입력받기\n",
    "    a = find_parent(parent, a)\n",
    "    b = find_parent(parent, b)\n",
    "    if a < b:                  # 번호가 큰 쪽이 작은쪽을 부모 노드로 설정할 수 있도록\n",
    "        parent[b] = a\n",
    "    else:\n",
    "        parent[a] = b\n",
    "        \n",
    "# 노드의 개수와 간선(union 연산)의 개수 입력 받기\n",
    "v, e = map(int, input().split())\n",
    "parent = [0] * (v + 1) # 부모 테이블 초기화 하기\n",
    "\n",
    "# 부모 테이블상에서 부모를 자기 자신으로 초기화\n",
    "for i in range(1, v+1):\n",
    "    parent[i] = i\n",
    "    \n",
    "# union 연산을 각각 수행\n",
    "for i in range(e):\n",
    "    a, b = map(int, input().split())\n",
    "    union_parent(parent, a, b)\n",
    "    \n",
    "# 각 원소가 속한 집합 출력하기\n",
    "print('각 원소가 속한 집합:', end='')\n",
    "for i in range(1, v+1):\n",
    "    print(find_parent(parent, i), end=' ')\n",
    "    \n",
    "print()\n",
    "\n",
    "# 부모 테이블 내용 출력하기\n",
    "print('부모 테이블: ', end='')\n",
    "for i in range(1, v+1):\n",
    "    print(parent[i], end=' ')"
   ]
  },
  {
   "cell_type": "markdown",
   "id": "e4e17bb7-86f0-46ce-a317-95fd25072336",
   "metadata": {},
   "source": [
    "**<서로소 집합 자료구조: 기본적인 구현 방법의 문제점>**\n",
    "- 합집합 연산이 편향되게 이루어지는 경우 찾기(find) 함수가 비효율적으로 동작!\n",
    "- 찾기함수는 매번 현재 노드에서 부모 테이블을 참조하여 그 부모가 자기 자신이 아니라면 루트가 아니라는 의미이기 때문에 자신의 부모에 대해서 다시 한번 재귀적으로 호출해서 확인하는 과정을 반복함!!!\n",
    "- 최악의 경우 찾기함수가 모든 노드를 다 확인하게 되어 시간복잡도가 O(V)임\n",
    "- ex. {1,2,3,4,5} 의 총 5개 원소가 존재하는 상황(모두 같은 집합에 속하며, 선형적으로 연결됭어 있음 >> 1-2-3-4-5)\n",
    "- 수행된 연산들: Union(4,5), Union(3,4), union(2,3), union(1,2) >> 5번노드에 대한 루트 노드가 무엇인지 찾기 위해서 find함수 호출하면, 4>3>2>1 이렇게 쭉 확인해야 루트노드를 찾을 수 있음(모든 노드에 대해서 함수를 호출해야 함.)\n",
    "- 이렇게 단순히 부모테이블을 거슬러 올라가며 루트노드를 찾는건.. 시간 효율 측면에서 굉장히 비효율적 >>이 때 사용하는게 `경로압축`\n",
    "\n",
    "**<경로압축 전 부모테이블 형태>**\n",
    "- 노드 번호: 1 2 3 4 5\n",
    "- 부모:      1 1 2 3 4"
   ]
  },
  {
   "cell_type": "markdown",
   "id": "108a1723-7560-46dc-9c01-010b9e233c10",
   "metadata": {},
   "source": [
    "**<경로 압축 Path Compression>**\n",
    "- `찾기 함수를 최적화`하기 위한 방법으로 `경로 압축`이 있다.\n",
    "- 찾기 함수를 재귀적으로 호출한 뒤에 `부모 테이블 값을 그 반환 값으로 바로 갱신`한다.\n",
    "- 경로 압축 기법을 적용하면 각 노드에 대하여 `찾기 함수를 호출한 이후에 해당 노드의 루트 노드가 바로 부모 노드`가 된다.\n",
    "- 위에 동일한 예시에 대하여 `모든 합집합 함수를 처리한 후 각 원소에 대하여 찾기 함수를 수행하며 다음과 같은 부모 테이블이 갱신된다.`\n",
    "- 노드 번호: 1 2 3 4 5\n",
    "- 부모:      1 1 1 1 1 \n",
    "- 시간 복잡도 개선된다!"
   ]
  },
  {
   "cell_type": "code",
   "execution_count": null,
   "id": "2eb36c41-b3eb-495c-9f29-ba0619370ea3",
   "metadata": {},
   "outputs": [],
   "source": [
    "# 경로 압축(이 부분만 바꿔주면 됨!)\n",
    "\n",
    "# 특정 원소가 속한 집합 찾기\n",
    "def find_parent(parent, x):\n",
    "    # 루트 노드가 아니라면, 루트 노드를 찾을 때까지 재귀적으로 호출\n",
    "     if parent[x] != x:\n",
    "            parent[x] = find_parent(parent, parent[x])\n",
    "        return parent[x] # 이 부분만!! 부모 테이블의 값이 자신의 루트노드가 될 수 있도록!!"
   ]
  },
  {
   "cell_type": "code",
   "execution_count": null,
   "id": "7f0253ab-fab5-48fb-9a52-e95e28130b33",
   "metadata": {},
   "outputs": [],
   "source": [
    "# 서로소 집합 자료구조: 경로 압축\n",
    "\n",
    "# 특정 원소가 속한 집합을 찾기\n",
    "def find_parent(parent, x):\n",
    "    # 루트 노드를 찾을 때까지 재귀 호출\n",
    "    if parent[x] != x: \n",
    "        return find_parent(parent, parent[x])\n",
    "    return parent[x]\n",
    "\n",
    "# 두 원소가 속한 집합을 합치기\n",
    "def union_parent(parent, a, b): \n",
    "    a = find_parent(parent, a)\n",
    "    b = find_parent(parent, b)\n",
    "    if a < b:                  \n",
    "        parent[b] = a\n",
    "    else:\n",
    "        parent[a] = b\n",
    "        \n",
    "# 노드의 개수와 간선(union 연산)의 개수 입력 받기\n",
    "v, e = map(int, input().split())\n",
    "parent = [0] * (v + 1) # 부모 테이블 초기화 하기\n",
    "\n",
    "# 부모 테이블상에서 부모를 자기 자신으로 초기화\n",
    "for i in range(1, v+1):\n",
    "    parent[i] = i\n",
    "    \n",
    "# union 연산을 각각 수행\n",
    "for i in range(e):\n",
    "    a, b = map(int, input().split())\n",
    "    union_parent(parent, a, b)\n",
    "    \n",
    "# 각 원소가 속한 집합 출력하기\n",
    "print('각 원소가 속한 집합:', end='')\n",
    "for i in range(1, v+1):\n",
    "    print(find_parent(parent, i), end=' ')\n",
    "    \n",
    "print()\n",
    "\n",
    "# 부모 테이블 내용 출력하기\n",
    "print('부모 테이블: ', end='')\n",
    "for i in range(1, v+1):\n",
    "    print(parent[i], end=' ')"
   ]
  },
  {
   "cell_type": "markdown",
   "id": "80b7b968-0ea6-48e4-b27e-9a0be1d4b345",
   "metadata": {},
   "source": [
    "## 서로소 집합을 활용한 사이클 판별"
   ]
  },
  {
   "cell_type": "markdown",
   "id": "e30794b7-6660-4324-8e6b-e653756f0419",
   "metadata": {},
   "source": [
    "- 서로소 집합은 `무방향 그래프 내에서의 사이클을 판별`할 때 사용할 수 있음(방향 그래프에서의 사이클 여부는 DFS를 이용해 판별!)\n",
    "- `사이클 판별 알고리즘`\n",
    "    1. 각 간선을 하나씩 확인하며 두 노드의 루트 노드를 확인\n",
    "        - 루트 노드가 서로 다르다면 두 노드에 대한 `합집합 연산` 수행\n",
    "        - 루트 노드가 서로 같다면 `사이클이 발생`한 것\n",
    "    2. 그래프에 포함되어 있는 모든 간선에 대하여 1번 과정을 반복"
   ]
  },
  {
   "cell_type": "markdown",
   "id": "6438a67e-f3dd-49a3-806e-0f2a7572dac1",
   "metadata": {},
   "source": [
    "**<사이클 판별: 동작과정>**\n",
    "- 1,2,3사이클일때(삼각형 모향..무방향)\n",
    "- 초기단계: 모든 노드에 대하여 자기 자신을 부모로 설정하는 형태로 부모테이블 초기화\n",
    "- 간선 하나씩 확인 > 우선 간선(1,2) 확인(합집합연산 수행) > 노드 1과 노드 2의 루트 노드는 각각 1과 2임. 따라서 더 큰 번호에 해당하는 노드 2의 부모 노드를 1로 변경(더 작은 노드의 루트노드를 따름)\n",
    "- 간선(1,3)도 마찬가지!\n",
    "- 간선 (2,3)확인 >> 이미 노드2와 노드3의 루트 노드는 모두 1 >> `사이클이 발생`(이 간선으로 인해 사이클이 발생)\n",
    "- 즉, 간선을 하나씩 확인하면서 합치기 연산을 수행하는것 만으로도 사이클을 판별할 수 있음!"
   ]
  },
  {
   "cell_type": "code",
   "execution_count": null,
   "id": "9ba2f93f-0d20-4153-ac03-2aae0b7de9f7",
   "metadata": {},
   "outputs": [],
   "source": [
    "# 서로소 집합을 이용한 사이클 판별\n",
    "\n",
    "# 특정 원소가 속한 집합을 찾기\n",
    "def find_parent(parent, x):\n",
    "    # 루트 노드를 찾을 때까지 재귀 호출\n",
    "    if parent[x] != x: \n",
    "        return find_parent(parent, parent[x])\n",
    "    return parent[x]\n",
    "\n",
    "# 두 원소가 속한 집합을 합치기\n",
    "def union_parent(parent, a, b): \n",
    "    a = find_parent(parent, a)\n",
    "    b = find_parent(parent, b)\n",
    "    if a < b:                  \n",
    "        parent[b] = a\n",
    "    else:\n",
    "        parent[a] = b\n",
    "        \n",
    "# 노드의 개수와 간선(union 연산)의 개수 입력 받기\n",
    "v, e = map(int, input().split())\n",
    "parent = [0] * (v + 1) # 부모 테이블 초기화 하기\n",
    "\n",
    "# 부모 테이블상에서 부모를 자기 자신으로 초기화\n",
    "for i in range(1, v+1):\n",
    "    parent[i] = i                                      # 이 부분까지 서로소집합..위에 코드랑 똑같음\n",
    "    \n",
    "cycle = False # 사이클 발생 여부\n",
    "    \n",
    "for i in range(e):\n",
    "    a, b = map(int, input().split())\n",
    "    # 사이클이 발생한 경우 종료\n",
    "    if find_parent(parent, a) == find_parent(parent, b):\n",
    "        cycle = True\n",
    "        break\n",
    "    # 사이클이 발생하지 않았다면 합집합(union) 연산 수행 >> 즉, 노드 a와 b가 같은 집합에 속해있지 않다면 같은 집합에 속하도록 합집합 연산을 수행\n",
    "    else: \n",
    "        union_parent(parent, a, b)\n",
    "        \n",
    "if cycle:\n",
    "    print('사이클이 발생했습니다.')\n",
    "else:\n",
    "    print('사이클이 발생하지 않았습니다.')"
   ]
  },
  {
   "cell_type": "markdown",
   "id": "bc37611a-c38b-40a6-985b-b2ce90bf8e69",
   "metadata": {},
   "source": [
    "## 신장 트리\n",
    "- 그래프에서 `모든 노드를 포함하면서 사이클이 존재하지 않는 부분 그래프`를 의미\n",
    "- 모든 노드가 포함되어 서로 연결되면서 + 사이클이 존재하지 않아야 함! (모든 노드가 연결되지 않거나 or 사이클이 존재하면 >> 신장트리 x)"
   ]
  },
  {
   "cell_type": "markdown",
   "id": "d45299e0-5891-4727-9e69-3ad19ce45965",
   "metadata": {},
   "source": [
    "**<최소 신장 트리>**\n",
    "- `최소한의 비용으로 구성되는 신장 트리를 찾아야 할 때` 어떻게?\n",
    "- ex. N개의 도시가 존재하는 상황에서 두 도시 사이에 도로를 놓아 `전체 도시가 서로 연결`될 수 있게 도로를 설치(`최소 비용으로 모든 도시 연결` >> 도로 3개일거 2개만 해서 다 연결..) >> `크루스칼 알고리즘`"
   ]
  },
  {
   "cell_type": "markdown",
   "id": "d3bae001-a814-41e8-b93b-0963abe93a61",
   "metadata": {},
   "source": [
    "## 크루스칼 알고리즘\n",
    "- 대표적인 `최소 신장 트리 알고리즘`\n",
    "- 그리디 알고리즘로 분류됨\n",
    "- 동작 과정\n",
    "    1. 간선 데이터를 비용에 따라 `오름차순으로 정렬`(그래프의 모든 간선 정보에 대하여 오름차순을 정렬!)\n",
    "    2. 간선을 하나씩 확인하며 `현재의 간선이 사이클을 발생시키는지 확인`(아직 처리하지 않은 간선 중에서 가장 짧은 간선부터 선택해서 처리! 서로 같은 집합에 속해있지 않다면 union연산해서 같은 집합에 속하도록 함. 그러다가 이 간선 연결하면 사이클 만들어지면 (즉 이미 같은 집합에 속해있으면) 해당 간선은 무시하고 넘어감!-신장 트리에 포함x) \n",
    "        - 사이클이 발생하지 않는 경우 최소 신장 트리에 포함시킴\n",
    "        - 사이클이 발생하는 경우 최소 신장 트리에 포함시키지 않음\n",
    "    3. 모든 간선에 대하여 2번의 과정을 반복\n",
    "    4. 결과: 최소 신장 트리에 포함되어 있는 간선의 비용만 모두 더하면, 그 값이 최종 비용이 됨."
   ]
  },
  {
   "cell_type": "code",
   "execution_count": null,
   "id": "8fa30de7-4eb5-44e5-875d-c229a7490b42",
   "metadata": {},
   "outputs": [],
   "source": [
    "# 이미 서로 같은 집합인지 아닌지(사이클 발생 여부)를 판별하기 위해서 서로소 집합연산(합치기, 찾기)을 활용!\n",
    "# 크루스칼 알고리즘\n",
    "\n",
    "# 특정 원소가 속한 집합을 찾기\n",
    "def find_parent(parent, x):\n",
    "    # 루트 노드를 찾을 때까지 재귀 호출\n",
    "    if parent[x] != x: \n",
    "        return find_parent(parent, parent[x])\n",
    "    return parent[x]\n",
    "\n",
    "# 두 원소가 속한 집합을 합치기\n",
    "def union_parent(parent, a, b): \n",
    "    a = find_parent(parent, a)\n",
    "    b = find_parent(parent, b)\n",
    "    if a < b:                  \n",
    "        parent[b] = a\n",
    "    else:\n",
    "        parent[a] = b\n",
    "        \n",
    "# 노드의 개수와 간선(union 연산)의 개수 입력 받기\n",
    "v, e = map(int, input().split())\n",
    "parent = [0] * (v + 1) # 부모 테이블 초기화 하기\n",
    "\n",
    "# 모든 간선을 담을 리스트와, 최종 비용을 담을 변수\n",
    "edges = []\n",
    "result = 0\n",
    "\n",
    "# 부모 테이블상에서 부모를 자기 자신으로 초기화\n",
    "for i in range(1, v+1):\n",
    "    parent[i] = i\n",
    "    \n",
    "# 모든 간선에 대한 정보를 입력 받기\n",
    "for _ in range(e):\n",
    "    a, b, cost = map(int, input().split())\n",
    "    # 비용순으로 정렬하기 위해서 튜플의 첫번쨰 원소를 비용으로 설정\n",
    "    edges.append((cost, a, b))\n",
    "    \n",
    "# 간선을 비용순으로 정렬\n",
    "edges.sort()\n",
    "\n",
    "# 간선을 하나씩 확인하며\n",
    "for edge in edges:\n",
    "    cost, a, b = edge\n",
    "    # 사이클이 발생하지 않는 경우에만 집합에 포함\n",
    "    if find_parent(parent, a) != find_parent(parent, b):\n",
    "        union_parent(parent, a, b)\n",
    "        result += cost\n",
    "        \n",
    "print(result)"
   ]
  },
  {
   "cell_type": "markdown",
   "id": "3e1ba203-1d4a-4512-843f-46a5cde79530",
   "metadata": {},
   "source": [
    "**<크루스칼 알고리즘 성능 분석>**\n",
    "- 간선의 개수가 E개일때 >> 시간복잡도 `O(ElogE)`\n",
    "- 크루스칼 알고리즘에서 가장 많은 시간을 요구하는 곳은 간선 정렬을 수행하는 부분!"
   ]
  },
  {
   "cell_type": "markdown",
   "id": "d8c365d2-3008-49f8-85f3-3475dda76450",
   "metadata": {},
   "source": [
    "## 위상 정렬\n",
    "- `사이클이 없는 방향 그래프`의 모든 노드를 `방향성에 거스르지 않도록 순서대로 나열`하는 것\n",
    "- ex. 선수과목을 고려한 학습 순서 설정 (`3과목을 모두 듣기 위한 적절한 학습 순서는?` 자료구조 > 알고리즘 > 고급 알고리즘 순서)\n",
    "- 그래프 상식: 그래프는 노드와 간선으로 이루어짐 / `진입차수`(Indegree) : 특정한 노드로 `들어오는 간선`의 개수 / `집출차수`(Outdegree) : 특정한 노드에서 `나가는 간선`의 개수\n",
    "- 기본적을 위상 정렬은 DFS를 이용해서 구현할 수도 있고, 큐를 이용해서도 가능"
   ]
  },
  {
   "cell_type": "markdown",
   "id": "7ec81dd4-7529-490e-b3aa-2dcbe90ef1fa",
   "metadata": {},
   "source": [
    "**<위상정렬 알고리즘>**\n",
    "- `큐`를 이용하는 위상정렬 알고리즘의 동작 과정\n",
    "    1. 진입차수가 0인 모든 노드를 큐에 넣는다\n",
    "    2. 큐가 빌 때까지 다음의 과정 반복\n",
    "        - 큐에서 원소를 꺼내 해당 노드에서 나가는 `간선을 그래프에서 제거`\n",
    "        - 새롭게 진입차수가 0이 된 노드를 큐에 넣는다.\n",
    "- 결과적으로 `각 노드가 큐에 들어온 순서가 위상 정렬을 수행한 결과`와 같다.\n",
    "\n",
    "**<위상 정렬 동작 예시>**\n",
    "- 위상 정렬을 수행할 그래프 준비(이때 그래프는 `사이클이 없는 방향그래프(사이클x, 간선에 화살표o)(DAG)`여야 함)\n",
    "- 초기단계: 진입차수가 0인 모든 노드를 큐에 넣기(출발노드!!)\n",
    "- 큐에서 노드 1을 꺼낸 뒤 노드 1에서 나가는 간선들을 제거!(만약 1이 2,5와 연결되어 있으면 이 간선 없앴으므로 2,5의 진입차수가 0이 됨! 그럼 얘네를 큐에 넣어주면 됨! >> `작은 숫자 노드부터` 넣어줘(사실 상관없음. 문제에서 주어지는대로 하기!))\n",
    "- 이렇게 큐에 들어간 것들을 다시 빼면서 간선 없애주고, 또 큐에 넣어주고 이 과정을 반복하며 위상 정렬을 찾으면 됨!\n",
    "- `위상 정렬 결과 = 큐에 삽입된 전체 노드 순서`"
   ]
  },
  {
   "cell_type": "markdown",
   "id": "9b4c40c8-6b97-4b4c-979e-5c39ebf6bc92",
   "metadata": {},
   "source": [
    "**<위상 정렬의 특징>**\n",
    "- 위상 정렬은 DAG(Direct Acyclic Graph, 순환하지 않는 방향 그래프)에서만 수행할 수 있다\n",
    "- 위상 정렬에서는 `여러가지 답이 존재`할 수 있다(한 단계에서 큐에 새롭게 들어가는 원소가 2개 이상인 경우가 있다면 여러가지 답이 존재)\n",
    "- `모든 원소를 방문하기 전에 큐가 빈다면 사이클이 존재`한다고 판단할 수 있다(사이클에 포함된 원소 중에서 어떠한 원도도 큐에 들어가지 못함)\n",
    "- `스택을 활용한 DFS`를 이용해 위상 정렬을 수행할 수도 있다."
   ]
  },
  {
   "cell_type": "code",
   "execution_count": null,
   "id": "b3238882-09e9-4246-a226-e6b693cb89c4",
   "metadata": {},
   "outputs": [],
   "source": [
    "# 큐를 활용한 위상 정렬 >> deque 라이브러리 필요\n",
    "\n",
    "from collections import deque\n",
    "\n",
    "# 노드의 개수와 간선의 개수 입력 받기\n",
    "v, e = map(int, input().split())\n",
    "# 모든 노드에 대한 진입차수는 0으로 초기화\n",
    "indegree = [0] * (v+1)\n",
    "# 각 노드에 연결된 간선 정보를 담기 위한 연결 리스트 초기화\n",
    "graph = [[] for i in range(v+1)] # 1번~v번(v개) > 인접한 노드 정보를 담을 수 있도록 2차원 리스트 만듦 (공간만 만들고 아래에서 a,b input으로 넣어줌)\n",
    "\n",
    "# 방향 그래프의 모든 간선 정보를 입력 받기\n",
    "for _ in range(e):\n",
    "    a, b = map(int, input().split())\n",
    "    graph[a].append(b) # 정점 a에서 b로 이동 가능\n",
    "    # 진입차수 1 증가\n",
    "    indgree[b] += 1\n",
    "    \n",
    "# 위상정렬 함수\n",
    "def topology_sort():\n",
    "    result = [] # 알고리즘 수행 결과를 담을 리스트\n",
    "    q = deque() # 큐 기능을 위한 deque 라이브러리 사용\n",
    "    # 처음 시작할때는 진입차수가 0인 노드를 큐에 삽입\n",
    "    for i in range(1, v+1):\n",
    "        if indgree[i] == 0:\n",
    "            q.append(i)\n",
    "    # 큐가 빌 때까지 반복\n",
    "    while q:\n",
    "        # 큐에서 원소 꺼내기\n",
    "        now = q.popleft()\n",
    "        result.append(now)\n",
    "        # 해당 원소와 연결된 노드들의 진입차수에서 1빼기\n",
    "        for i in graph[now]:\n",
    "            indegree[i] -= 1\n",
    "            # 새롭게 진입차수가 0이 되는 노드를 큐에 삽입\n",
    "            if indgree[i] == 0:\n",
    "                q.append(i)\n",
    "    # 위상정렬을 수행한 결과 출력\n",
    "    for i in result:\n",
    "        print(i, end=' ')\n",
    "        \n",
    "topology_sort()"
   ]
  },
  {
   "cell_type": "markdown",
   "id": "cdcd63bf-461c-4ee6-a558-1f3f4ef224be",
   "metadata": {},
   "source": [
    "**<위상 정렬 알고리즘 성능 분석>**\n",
    "- 시간복잡도 O(V+E) >> 위상 정렬을 위해 차례대로 모든 노드를 확인하며 각 노드에서 나가는 간선을 차례대로 제거해야 함\n",
    "- 한번 큐에 들어간 노드는 다시 큐에 들어가지 않음!"
   ]
  }
 ],
 "metadata": {
  "kernelspec": {
   "display_name": "Python 3 (ipykernel)",
   "language": "python",
   "name": "python3"
  },
  "language_info": {
   "codemirror_mode": {
    "name": "ipython",
    "version": 3
   },
   "file_extension": ".py",
   "mimetype": "text/x-python",
   "name": "python",
   "nbconvert_exporter": "python",
   "pygments_lexer": "ipython3",
   "version": "3.9.13"
  }
 },
 "nbformat": 4,
 "nbformat_minor": 5
}
