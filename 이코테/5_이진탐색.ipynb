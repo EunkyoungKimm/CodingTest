{
 "cells": [
  {
   "cell_type": "markdown",
   "id": "38d5cf17-1985-4ae7-be2f-a57691565034",
   "metadata": {},
   "source": [
    "# 이진 탐색\n",
    "- 순차 탐색: 리스트 안에 있는 특정한 `데이터를 찾기 위해 앞에서부터 데이터를 하나씩 확인`하는 방법 (단순히 데이터를 하나씩 탐색! 선택정렬.. 리스트에서 그 원소가 존재하는지 검사..등..)\n",
    "- 이진 탐색: `정렬되어 있는 리스트`에서 `탐색 범위를 절반씩 좁혀가며 데이터를 탐색`하는 방법 >> 시작점, 끝점, 중간점을 이용하여 탐색 범위를 설정!"
   ]
  },
  {
   "cell_type": "markdown",
   "id": "ca21e27a-2a4d-46a9-bc32-cb4898c0ceff",
   "metadata": {},
   "source": [
    "<이진 탐색 동작 예시>\n",
    "- 찾고자하는 값보다 중간점 위치에 있는 값이 더 크면 >> 끝점 위치를 중간점의 왼쪽 위치로 옮기면 됨\n",
    "- 중간점과 같으면 종료!!!!"
   ]
  },
  {
   "cell_type": "markdown",
   "id": "a155c664-1414-4821-bc07-a14c978e6e96",
   "metadata": {},
   "source": [
    "<이진 탐색의 시간 복잡도>\n",
    "- 이진 탐색은 탐색 범위를 절반씩 줄이며, 시간복잡도는 `O(logN)`을 보장함."
   ]
  },
  {
   "cell_type": "markdown",
   "id": "29249d2e-e38d-423b-b7c7-660a3e049614",
   "metadata": {},
   "source": [
    "## 이진 탐색 소스코드: 재귀적 구현"
   ]
  },
  {
   "cell_type": "code",
   "execution_count": 2,
   "id": "7f10f6e9-f07a-4fe9-b19f-7d43f7a60dfe",
   "metadata": {},
   "outputs": [
    {
     "name": "stdin",
     "output_type": "stream",
     "text": [
      " 10 7\n",
      " 1 3 5 7 9 11 13 15 17 19\n"
     ]
    },
    {
     "name": "stdout",
     "output_type": "stream",
     "text": [
      "4\n"
     ]
    }
   ],
   "source": [
    "# 이진 탐색 소스코드: 재귀적 구현(재귀함수)\n",
    "def binary_search(array, target, start, end):\n",
    "    if start > end: # 이때는 ㅇ료!!!!!!!!!!!\n",
    "        return None\n",
    "    mid = (start + end) // 2\n",
    "    # 찾은 경우 중간점 인덱스 반환\n",
    "    if array[mid] == target:\n",
    "        return mid # 인덱스 값을 반환!!!!!!!!!!!!!!!!!!!!!!!!!!!!!!!!!!!\n",
    "    # 중간점의 값보다 찾고자 하는 값이 작은 경우 왼쪽 확인\n",
    "    elif array[mid] > target:\n",
    "        return binary_search(array, target, start, mid - 1)\n",
    "    else:\n",
    "        return binary_search(array, target, mid + 1, end)\n",
    "    \n",
    "# n(원소의 개수)과 target(찾고자 하는 값)을 입력 받기\n",
    "n, target = list(map(int, input().split()))\n",
    "# 전체 원소 입력 받기\n",
    "array = list(map(int, input().split()))\n",
    "\n",
    "# 이진 탐색 수행 결과 출력\n",
    "result = binary_search(array, target, 0, n-1)\n",
    "if result == None:\n",
    "    print('원소가 존재하지 않습니다.')\n",
    "else:\n",
    "    print(result + 1)"
   ]
  },
  {
   "cell_type": "markdown",
   "id": "51265409-3ee2-43fa-8e37-8712712fdf72",
   "metadata": {},
   "source": [
    "## 이진 탐색 소스코드: 반복문 구현 -이거보기!!!!!!!!!!!!"
   ]
  },
  {
   "cell_type": "code",
   "execution_count": 3,
   "id": "a40e8bc1-de85-4d81-89f8-c070e09ee23a",
   "metadata": {},
   "outputs": [
    {
     "name": "stdin",
     "output_type": "stream",
     "text": [
      " 10 7\n",
      " 1 3 5 7 9 11 13 15 17 19\n"
     ]
    },
    {
     "name": "stdout",
     "output_type": "stream",
     "text": [
      "4\n"
     ]
    }
   ],
   "source": [
    "# 이진 탐색 소스코드: 반복문 구현\n",
    "def binary_search(array, target, start, end):\n",
    "    while start <= end:# !!!!!!!!!!!!!!!!!!!!!!!!!!!!!!! 반복문, 큐... while!!!!!!!!!!!!!!!\n",
    "        mid = (start + end) // 2\n",
    "        # 찾은 경우 중간점 인덱스 반환\n",
    "        if array[mid] == target:\n",
    "            return mid\n",
    "        # 중간점의 값보다 찾고자 하는 값이 작은 경우 왼쪽 확인\n",
    "        if array[mid] > target:\n",
    "            end = mid - 1\n",
    "        # 중간점의 값보다 찾고자 하는 값이 큰 경우 오른쪽 확인\n",
    "        else:\n",
    "            start = mid + 1\n",
    "    return None\n",
    "\n",
    "# n(원소의 개수)과 target(찾고자 하는 값)을 입력 받기\n",
    "n, target = list(map(int, input().split()))\n",
    "# 전체 원소 입력 받기\n",
    "array = list(map(int, input().split()))\n",
    "\n",
    "# 이진 탐색 수행 결과 출력\n",
    "result = binary_search(array, target, 0, n-1)\n",
    "if result == None:\n",
    "    print('원소가 존재하지 않습니다.')\n",
    "else:\n",
    "    print(result + 1)"
   ]
  },
  {
   "cell_type": "markdown",
   "id": "0d52eb08-d2b7-4bc2-afa1-84fe171f2ab9",
   "metadata": {},
   "source": [
    "## 파이썬 이진 탐색 라이브러리\n",
    "- 코테에서 효율적으로 이진 탐색하기 좋음\n",
    "- `bisect_left(a, x)`: 정렬된 순서를 유지하면서 배열 a에 x를 삽입할 가장 왼쪽 `인덱스를 반환`\n",
    "- `bisect_right(a, x)`: 정렬된 순서를 유지하면서 배열 a에 x를 삽입할 가장 오른쪽 `인덱스를 반환`\n",
    "- a: 1 2 4 4 8 이라면 / 1 2 (bisect_left(a,4)) 4 4 8 >> 2반환 / 1 2 4 4 (bisect_right(a, 4)) 8 >> 4반환"
   ]
  },
  {
   "cell_type": "code",
   "execution_count": 4,
   "id": "98bf9c90-d853-4efc-a93a-39d77840ebe1",
   "metadata": {},
   "outputs": [
    {
     "name": "stdout",
     "output_type": "stream",
     "text": [
      "2\n",
      "4\n"
     ]
    }
   ],
   "source": [
    "from bisect import bisect_left, bisect_right\n",
    "\n",
    "a = [1, 2, 4, 4, 8]\n",
    "x = 4\n",
    "\n",
    "print(bisect_left(a,x)) # bisect_left(리스트명, 찾은 특정값)\n",
    "print(bisect_right(a,x))"
   ]
  },
  {
   "cell_type": "markdown",
   "id": "93d4d949-ff73-4123-8cb3-b7f17b1e1196",
   "metadata": {},
   "source": [
    "- 이걸 활용해서 `값이 특정 범위에 속하는 데이터 개수 구하기`할 수 있음"
   ]
  },
  {
   "cell_type": "code",
   "execution_count": 5,
   "id": "7e69b9fd-552e-4c9a-846e-67aeca03b2d1",
   "metadata": {},
   "outputs": [
    {
     "name": "stdout",
     "output_type": "stream",
     "text": [
      "2\n",
      "6\n"
     ]
    }
   ],
   "source": [
    "from bisect import bisect_left, bisect_right\n",
    "\n",
    "# 값이 [left_value, right_value]인 데이터의 개수를 반환하는 함수\n",
    "def count_by_range(a, left_value, right_value):\n",
    "    right_index = bisect_right(a,right_value)\n",
    "    left_index = bisect_left(a,left_value)\n",
    "    return right_index - left_index # 해당 값의 범위에 포함된 데이터 개수를 구할 수 있음!!!!!!!!!!!!!!!!!!!!!!!!!!!!!!!!!!!!!!!!!!\n",
    "\n",
    "# 배열 선언\n",
    "a = [1, 2, 3, 3, 3, 3, 4, 4, 8, 9]\n",
    "\n",
    "# 값이 4인 데이터 개수 출력\n",
    "print(count_by_range(a, 4, 4))\n",
    "\n",
    "# 값이 [-1, 3] 범위에 있는 데이터 개수 출력!!!!!!!!!!!!!!! (꼭 똑같은 하나의 특정값일 필요없음!!!!!!!!!!!!!!!!!!!\n",
    "print(count_by_range(a, -1, 3))"
   ]
  },
  {
   "cell_type": "markdown",
   "id": "eb7760e1-0d80-4578-8dae-ead64616b014",
   "metadata": {},
   "source": [
    "## 파라메트릭 서치\n",
    "- Parametric Search\n",
    "- `최적화 문제를 결정 문제('예' or '아니오')로 바꾸어 해결하는 기법`\n",
    "- 최적화 문제란 어떤 함수의 값을 가능한 낮추거나 최대한 높이거나 하는 문제..이런 문제를 바로 해결하기 어려운 경우 그 문제를 여러번의 결정문제를 이용해서 문제 형태를 바꾸어서 해결할 수 있을 때가 있음\n",
    "- ex. 특정한 조건을 만족하는 가장 알맞은 값을 빠르게 찾는 최적화 문제 >> 조건 만족하는지 여부에 따라서 탐색 범위를 좁혀가며 가장 알맞은 값을 찾을 수 있음  \n",
    "- 일반적으로 코테에서 파라메트릭 서치 문제는 `이진 탐색을 이용하여 해결`할 수 있음"
   ]
  },
  {
   "cell_type": "markdown",
   "id": "4a09bde5-3122-4283-988b-2a62ed02f476",
   "metadata": {},
   "source": [
    "###  1. 떡볶이 떡 만들기"
   ]
  },
  {
   "cell_type": "code",
   "execution_count": null,
   "id": "0ac51d26-b70b-468a-91bb-a111264f91d2",
   "metadata": {},
   "outputs": [],
   "source": [
    "# 떡집 일 / 떡볶이 떡은 길기가 일정치x > 대신 한 봉지안에 들어가는 떡의 총 길이는 절단기로 잘라서 맞춰야 함\n",
    "# 절다기에 높이(H)를 지정하면 줄지어진 떡이 한번에 절단됨 >> 즉, H보다 긴 떡은 잘리고, 낮은떡은 잘리지 않음\n",
    "# ex. 높이가 19, 14, 10, 17cm인 떡 > 절단기 높이가 15cm이면 >> 15,14,10,15가 됨 & 잘린떡은 4, 0, 0, 2가 됨 >> 손님이 가져가는건 이 6cm(4+2) 임!\n",
    "# 손님이 왔을 때 요청한 총 길이가 M일때 적어도 M만큼의 떡을 얻기 위해 절단기에 설정할 수 있는 높이의 최대값은?\n",
    "\n",
    "# 적절한 높이를 찾을 떄까지 `이진 탐색` 수행해서 적절한 높이 H 찾기!!(절단기 높이 크면 잘린 떡 길이 줄어들고, 반대는 잘린 떡이 증가함 >> 이진탐색 가능)\n",
    "# '현재 이 높이로 자르면 조건을 만족할 수 있는가?' 즉 M만큼 줄수 있나? >> 조건의 만족 여부(예or 아니오)에 따라서 탐색 범위를 좁혀서 해결!!!!!\n",
    "# 절단기의 높이는 0부터 10억까지 정수 중하나 >> 이렇게 큰 탐색 범위 >> '이진 탐색' 부터 떠올려야 함!\n",
    "\n",
    "# ex\n",
    "# 1. 시작점: 0, 끝점: 19(제일 긴 떡 길이), 중간점: 9(정수로 설정하기, 높이) \n",
    "# 그럼 10+6+1+8 = 25로 손님 만족시킬 수 있음 그래서 '결과저장' 그리고 더 좋은 해 찾기.(이때 필요한 떡의 크기 M=6 이므로, 결과 저장(잘린떡의 길이 합))\n",
    "# 2. 시작점: 10, 끝점:19, 중간점14 >> 만족o >> 결과저장\n",
    "# 3. 시작 15, 끝 19, 중간 17 >> 만족x >> 결과 저장 x\n",
    "# 중간점, 높이 값을 잘 조정해서 최대 높이 찾으면 됨!!\n",
    "\n",
    "# 이러한 이진 탐색 과정을 반복하면 답 도출 가능\n",
    "# 중간점의 값은 시간이 지날수록 '최적화된 값'이 되기 때문에, 과정을 반복하면서 얻을 수 있는 떡의 길이 합이 필요한 떡의 길이보다 크거나 같을 때마다 \n",
    "# '중간점의 값을 기록'하면 된다."
   ]
  },
  {
   "cell_type": "code",
   "execution_count": null,
   "id": "770bd93a-d461-4c68-8347-2e49dc252bd3",
   "metadata": {},
   "outputs": [],
   "source": [
    "# 떡의 개수(N)와 요청한 떡의 길이(M) 입력\n",
    "n, m = map(int, input().split())\n",
    "# 각 떡으이 개별 높이 정보 입력\n",
    "array = list(map(int, input().split()))\n",
    "\n",
    "# 이진 탐색을 위한 시작점과 끝점 설정\n",
    "start = 0\n",
    "end = max(array)\n",
    "\n",
    "# 이진탐색 수행(반복적)\n",
    "result = 0\n",
    "while (start <= end):\n",
    "    total = 0\n",
    "    mid = (start + end) // 2\n",
    "    for x in array:\n",
    "        # 잘랐을 때 떡의 양 계산\n",
    "        if x > mid:\n",
    "            total += x - mid\n",
    "        # total이 구해진 후\n",
    "        # 떡의 양이 부족한 경우 더 많이 자르기 (왼쪽 부분 탐색)\n",
    "        if total < m:\n",
    "            end = mid - 1\n",
    "        # 떡의 양이 충분한 경우 덜 자르기 (오른쪽 부분 탐색)\n",
    "        else:\n",
    "            result = mid # 최대한 덜 잘랐을 때가 정답이므로, 여기에서 result에 기록\n",
    "            start = mid + 1\n",
    "            \n",
    "print(result)"
   ]
  },
  {
   "cell_type": "markdown",
   "id": "33848a6e-0e4d-44c4-8fe7-b5b0d1e9ccff",
   "metadata": {},
   "source": [
    "### 정렬된 배열에서 특정 수의 개수 구하기"
   ]
  },
  {
   "cell_type": "code",
   "execution_count": null,
   "id": "79c2c8b4-3c39-4f6e-bab9-6156859e409d",
   "metadata": {},
   "outputs": [],
   "source": [
    "# N개의 원소를 포함하고 있는 수열이 '오름차순'으로 '정렬'되어 있다\n",
    "# 이때 이 '수열에서 x가 등장하는 횟수를 계산'하기!\n",
    "# ex. 수열 {1,1,2,2,2,2,3} 일때, x=2라면, 현재 수열에서 값이 2인 원소가 4개이므로 4를 출력!\n",
    "# 이 문제는 시간복잡도 O(logN)으로, 알고리즘을 설계하지 않으면 시간 초과 판정 받음\n",
    "# x인 원소 없으면 -1출력!\n",
    "\n",
    "# 시간복잡도 O(logN) >> 선형탐색하면 시간초과 판정\n",
    "# 하지만 데이터가 '정렬'되어 있기 때문에 '이진 탐색' 수행 가능!\n",
    "# 특정 값이 등장하는 첫번째 위치와 마지막 위치를 찾아 위치 차이를 계산해 문제 해결하면 됨 >> count_by_range함수 활용(bisect사용)"
   ]
  },
  {
   "cell_type": "code",
   "execution_count": 3,
   "id": "0b61a0fa-5207-4150-bd3e-eec7a73df538",
   "metadata": {},
   "outputs": [
    {
     "name": "stdin",
     "output_type": "stream",
     "text": [
      " 7 2\n",
      " 1 1 2 2 2 2 3\n"
     ]
    },
    {
     "name": "stdout",
     "output_type": "stream",
     "text": [
      "[1, 1, 2, 2, 2, 2, 3]\n",
      "(6, 2)\n"
     ]
    }
   ],
   "source": [
    "from bisect import bisect_left, bisect_right\n",
    "\n",
    "# 값이 [left_value, right_value]인 데이터의 개수를 반환하는 함수\n",
    "def count_by_range(array, left_value, right_value):\n",
    "    right_index = bisect_right(array, right_value)\n",
    "    left_index = bisect_left(array, left_value)\n",
    "    return right_index, left_index\n",
    "\n",
    "n, x = map(int, input().split()) # 데이터 개수N, 찾고자 하는 값이 x 입력받기\n",
    "array = list(map(int, input().split())) # 전체 데이터 입력받기\n",
    "# print(array) # (위에 결과) 1 1 2 2 2 2 3 >> [1, 1, 2, 2, 2, 2, 3]\n",
    "\n",
    "# 값이 [x,x] 범위에 있는 데이터의 개수 계산\n",
    "count = count_by_range(array, x, x)\n",
    "\n",
    "# 값이 존재x\n",
    "if count == 0:\n",
    "    print(-1)\n",
    "# 값이 존재o\n",
    "else:\n",
    "    print(count)"
   ]
  }
 ],
 "metadata": {
  "kernelspec": {
   "display_name": "Python 3 (ipykernel)",
   "language": "python",
   "name": "python3"
  },
  "language_info": {
   "codemirror_mode": {
    "name": "ipython",
    "version": 3
   },
   "file_extension": ".py",
   "mimetype": "text/x-python",
   "name": "python",
   "nbconvert_exporter": "python",
   "pygments_lexer": "ipython3",
   "version": "3.9.13"
  }
 },
 "nbformat": 4,
 "nbformat_minor": 5
}
