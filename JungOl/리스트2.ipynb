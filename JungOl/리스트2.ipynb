{
 "cells": [
  {
   "cell_type": "markdown",
   "id": "bac189e2-0af3-4549-b375-ca09e29e8991",
   "metadata": {
    "id": "e70d5dfc-0534-41c8-b098-ed51124063b0",
    "tags": []
   },
   "source": [
    "## <리스트2>"
   ]
  },
  {
   "cell_type": "markdown",
   "id": "2ed59424-0302-489f-9c06-d872165f7dbe",
   "metadata": {
    "id": "64bc7774-6092-4e19-bfab-413727dbd58b",
    "tags": []
   },
   "source": [
    "### 형성평가 1\n",
    "- 최대 100개의 정수를 차례로 입력받다가 -1이 입력되면 입력을 중단하고 -1을 제외한 마지막 세 개의 정수를 출력하는 프로그램을 작성하시오. (입력받은 정수가 3개 미만일 경우에는 모두 출력한다.)"
   ]
  },
  {
   "cell_type": "code",
   "execution_count": 14,
   "id": "b72d283e-dbd8-4a59-96b1-61c68f86663e",
   "metadata": {
    "tags": []
   },
   "outputs": [
    {
     "name": "stdin",
     "output_type": "stream",
     "text": [
      " 50\n",
      " -1\n"
     ]
    },
    {
     "name": "stdout",
     "output_type": "stream",
     "text": [
      "50 "
     ]
    }
   ],
   "source": [
    "num_li = []\n",
    "index = 3\n",
    "\n",
    "for i in range(100):\n",
    "    num = int(input())\n",
    "    if num == -1:\n",
    "        break\n",
    "    num_li.append(num)\n",
    "\n",
    "num3 = num_li[-3:]\n",
    "for i in range(len(num3)):\n",
    "    print(num3[i], end=' ')"
   ]
  },
  {
   "cell_type": "markdown",
   "id": "1771838e-287d-45bd-a5be-45bd95cdccbe",
   "metadata": {
    "id": "64bc7774-6092-4e19-bfab-413727dbd58b",
    "tags": []
   },
   "source": [
    "### 형성평가 2\n",
    "- 6명의 몸무게를 입력받아 평균을 출력하는 프로그램을 작성하시오. 출력은 반올림하여 소수 첫째자리까지로 한다."
   ]
  },
  {
   "cell_type": "code",
   "execution_count": 23,
   "id": "fa6227d9-1c5e-48fd-a83c-0765ee01575c",
   "metadata": {},
   "outputs": [
    {
     "name": "stdin",
     "output_type": "stream",
     "text": [
      " 23.2 39.6 66.4 50.0 45.6 48.0\n"
     ]
    },
    {
     "name": "stdout",
     "output_type": "stream",
     "text": [
      "45.5\n"
     ]
    }
   ],
   "source": [
    "weights = input().split(' ')\n",
    "result = 0\n",
    "\n",
    "for i in weights:\n",
    "    weight = float(i)\n",
    "    result += weight\n",
    "\n",
    "w_avrg = result/len(weights)\n",
    "print('%.1f' % w_avrg)"
   ]
  },
  {
   "cell_type": "markdown",
   "id": "d7628547-2c06-4ac4-9eba-4a36e39a3217",
   "metadata": {
    "id": "64bc7774-6092-4e19-bfab-413727dbd58b",
    "tags": []
   },
   "source": [
    "### 형성평가 3\n",
    "- 6개의 문자리스트를 ['J', 'U', 'N', 'G', 'O', 'L']이라고 초기화 한 후, 문자 한 개를 입력받아 리스트에서의 위치를 출력하는 프로그램을 작성하시오. 첫 번째 위치는 0번이며 배열에 없는 문자가 입력되면 \"none\"이라는 메시지를 출력한다."
   ]
  },
  {
   "cell_type": "code",
   "execution_count": 30,
   "id": "dc26b7c1-3d14-4739-af4d-65f4ef0d05f8",
   "metadata": {},
   "outputs": [
    {
     "name": "stdin",
     "output_type": "stream",
     "text": [
      " l\n"
     ]
    },
    {
     "name": "stdout",
     "output_type": "stream",
     "text": [
      "none\n"
     ]
    }
   ],
   "source": [
    "str_li = ['J', 'U', 'N', 'G', 'O', 'L']\n",
    "user = input()\n",
    "if user in str_li:\n",
    "    print(str_li.index(user)) # index 구하기\n",
    "else:\n",
    "    print('none')"
   ]
  },
  {
   "cell_type": "markdown",
   "id": "a6184124-d223-463c-bd03-a4c9543d945d",
   "metadata": {
    "id": "64bc7774-6092-4e19-bfab-413727dbd58b",
    "tags": []
   },
   "source": [
    "### 형성평가 4\n",
    "- 공백으로 구분하여 입력된 세자리 이하의 정수를 리스트로 받아서 입력된 최대값과 최소값을 출력하는 프로그램을 작성하시오."
   ]
  },
  {
   "cell_type": "code",
   "execution_count": 15,
   "id": "8eaa6a86-631a-455c-9235-eeea8c62535f",
   "metadata": {},
   "outputs": [
    {
     "name": "stdin",
     "output_type": "stream",
     "text": [
      " 45 19 123 58 10 -55 16 -1\n"
     ]
    },
    {
     "name": "stdout",
     "output_type": "stream",
     "text": [
      "max : 123\n",
      "min : -55\n"
     ]
    }
   ],
   "source": [
    "nums = input().split(' ')\n",
    "li = []\n",
    "for num in nums:\n",
    "    if -1000 < int(num) < 1000:\n",
    "        li.append(int(num))\n",
    "    else:\n",
    "        continue\n",
    "M = max(li)\n",
    "m = min(li)\n",
    "print('max : %d' % M, 'min : %d' %m, sep='\\n')"
   ]
  },
  {
   "cell_type": "code",
   "execution_count": 12,
   "id": "1f378e01-1e78-4dc8-a7a4-10ad4c41d735",
   "metadata": {},
   "outputs": [
    {
     "name": "stdin",
     "output_type": "stream",
     "text": [
      " 45 19 123 58 10 -55 16 -1\n"
     ]
    },
    {
     "name": "stdout",
     "output_type": "stream",
     "text": [
      "[]\n"
     ]
    }
   ],
   "source": [
    "# 질문!!!!!\n",
    "nums = input().split(' ')\n",
    "li = []\n",
    "for num in nums:\n",
    "    if (a >= 1000) or (a <= 1000): # 왜 이렇게 if문이 중간에 있으면 리스트에 아무것도 안들어감? 조건에 안맞으면 밑에 코드 읽는거 아닌가..?\n",
    "        continue\n",
    "    a = int(num)\n",
    "    li.append(a)\n",
    "    \n",
    "print(li)"
   ]
  },
  {
   "cell_type": "markdown",
   "id": "c6a57ba9-43bd-409d-8e8f-1d6c49673cbe",
   "metadata": {
    "id": "64bc7774-6092-4e19-bfab-413727dbd58b",
    "tags": []
   },
   "source": [
    "### 형성평가 5\n",
    "- 100 이하의 정수를 한 줄로 입력받아 입력된 정수 중 5의 배수의 개수와 합계, 평균을 출력하는 프로그램을 작성하시오. (평균은 소수점 한자리까지 반올림)"
   ]
  },
  {
   "cell_type": "code",
   "execution_count": 18,
   "id": "1a8b7831-96b1-4d63-a9c5-417f29bd6719",
   "metadata": {},
   "outputs": [
    {
     "name": "stdin",
     "output_type": "stream",
     "text": [
      " 35 10 23 100 64 51 5\n"
     ]
    },
    {
     "name": "stdout",
     "output_type": "stream",
     "text": [
      "Multiples of 5 : 4\n",
      "sum : 150\n",
      "avg : 37.5\n"
     ]
    }
   ],
   "source": [
    "nums = input().split(' ')\n",
    "li = []\n",
    "result = 0\n",
    "\n",
    "for num in nums:\n",
    "    if int(num) % 5 == 0:\n",
    "        li.append(int(num))\n",
    "        result += int(num)\n",
    "    else:\n",
    "        continue\n",
    "avg = result/len(li)\n",
    "print('Multiples of 5 : %d' %len(li), 'sum : %d' % result, 'avg : %s' % avg, sep='\\n')"
   ]
  },
  {
   "cell_type": "markdown",
   "id": "7f6324e7-c719-4315-9db3-1f0c491d865f",
   "metadata": {
    "id": "64bc7774-6092-4e19-bfab-413727dbd58b",
    "tags": []
   },
   "source": [
    "### 형성평가 6\n",
    "- 100개 이하의 정수를 한 줄로 입력받아 입력 받은 개수를 출력한 후, 입력받은 정수를 차례로 출력하되 그 수가 홀수이면 2배한 값을, 짝수인 경우에는 2로 나눈 몫을 출력하는 프로그램을 작성하시오."
   ]
  },
  {
   "cell_type": "code",
   "execution_count": 1,
   "id": "95a56c00-37e4-4c9c-ac6c-2ec628bda74b",
   "metadata": {},
   "outputs": [
    {
     "name": "stdin",
     "output_type": "stream",
     "text": [
      " 8 10 5 15 100\n"
     ]
    },
    {
     "name": "stdout",
     "output_type": "stream",
     "text": [
      "4 5 10 30 50 "
     ]
    }
   ],
   "source": [
    "nums = input().split(' ')\n",
    "i = 0\n",
    "while True:\n",
    "    if len(nums) > 100:\n",
    "        break \n",
    "    for num in nums:\n",
    "        i += 1\n",
    "        if int(num) % 2 == 1:\n",
    "            print(int(num)*2, end = ' ')\n",
    "        else:\n",
    "            print(int(num)//2, end = ' ')\n",
    "    if i == len(nums):\n",
    "        break"
   ]
  },
  {
   "cell_type": "code",
   "execution_count": 19,
   "id": "ec42ac5a-e07f-4eb9-aa55-2a2f8a477d81",
   "metadata": {},
   "outputs": [
    {
     "name": "stdin",
     "output_type": "stream",
     "text": [
      " 8 10 5 15 100\n"
     ]
    },
    {
     "ename": "SyntaxError",
     "evalue": "'break' outside loop (1914823803.py, line 3)",
     "output_type": "error",
     "traceback": [
      "\u001b[1;36m  Cell \u001b[1;32mIn [19], line 3\u001b[1;36m\u001b[0m\n\u001b[1;33m    break\u001b[0m\n\u001b[1;37m    ^\u001b[0m\n\u001b[1;31mSyntaxError\u001b[0m\u001b[1;31m:\u001b[0m 'break' outside loop\n"
     ]
    }
   ],
   "source": [
    "nums = input().split(' ')\n",
    "if len(nums) > 100:\n",
    "    break # break는 if문에는 쓰는게 아닌가..? for, while문에 써야되는건가? 그래야 된다고 생각하기...\n",
    "for num in nums:\n",
    "    if int(num) % 2 == 1:\n",
    "        print(int(num)*2, end = ' ')\n",
    "    else:\n",
    "        print(int(num)//2, end = ' ')"
   ]
  },
  {
   "cell_type": "markdown",
   "id": "76e6fc86-0cdb-4bde-8be3-8fcbd0e65174",
   "metadata": {
    "id": "64bc7774-6092-4e19-bfab-413727dbd58b",
    "tags": []
   },
   "source": [
    "### 형성평가 7\n",
    "- 20 이하의 정수 n을 입력받고, n명의 점수를 입력받아 높은 점수부터 차례로 출력하는 프로그램을 작성하시오."
   ]
  },
  {
   "cell_type": "code",
   "execution_count": 6,
   "id": "5eb71d8b-3e25-42ab-a1b3-35d70e4f5428",
   "metadata": {},
   "outputs": [
    {
     "name": "stdin",
     "output_type": "stream",
     "text": [
      " 5\n",
      " 35 10 35 100 64\n"
     ]
    },
    {
     "name": "stdout",
     "output_type": "stream",
     "text": [
      "100\n",
      "64\n",
      "35\n",
      "35\n",
      "10\n"
     ]
    }
   ],
   "source": [
    "user = input()\n",
    "scores = input().split(' ')\n",
    "score_li = []\n",
    "for score in scores:\n",
    "    score_li.append(int(score))\n",
    "\n",
    "score_li.sort(reverse = True)\n",
    "for s in range(len(score_li)):\n",
    "    print(score_li[s])"
   ]
  },
  {
   "cell_type": "markdown",
   "id": "c3c39f88-c93f-4dfd-80a0-17e060c3f8a1",
   "metadata": {
    "id": "64bc7774-6092-4e19-bfab-413727dbd58b",
    "tags": []
   },
   "source": [
    "### 형성평가 8\n",
    "- \"flower\", \"rose\", \"lily\", \"daffodil\", \"azalea\" 5개의 단어를 초기화한 후 한 개의 문자를 입력받아서 입력받은 문자가 두 번째나 세 번째에 포함된 단어를 모두 출력하고 마지막 줄에 출력한 단어의 개수를 출력하는 프로그램을 작성하시오. (해당되는 단어가 없으면 첫 줄에 0만 출력한다.)"
   ]
  },
  {
   "cell_type": "code",
   "execution_count": null,
   "id": "559f4a03-0eba-4acd-b42f-dd3a23fef37c",
   "metadata": {},
   "outputs": [],
   "source": []
  },
  {
   "cell_type": "markdown",
   "id": "55bf4ede-c245-4820-bbb6-4324d65c943f",
   "metadata": {
    "id": "64bc7774-6092-4e19-bfab-413727dbd58b",
    "tags": []
   },
   "source": [
    "### 형성평가 9\n",
    "- 단어를 입력받다가 \"0\"을 입력받으면 입력을 종료하고 그 때까지 입력받은 단어의 개수와 \"mo\"가 들어간 단어를 모두 출력하는 프로그램을 작성하시오."
   ]
  },
  {
   "cell_type": "code",
   "execution_count": 9,
   "id": "edc6f47f-9693-49e5-a1ea-4d674a5c268e",
   "metadata": {},
   "outputs": [
    {
     "name": "stdin",
     "output_type": "stream",
     "text": [
      " keyboard\n",
      " mouse\n",
      " monitor\n",
      " 0\n"
     ]
    },
    {
     "name": "stdout",
     "output_type": "stream",
     "text": [
      "3\n",
      "mouse\n",
      "monitor\n"
     ]
    }
   ],
   "source": [
    "li = []\n",
    "mo = []\n",
    "while True:\n",
    "    word = input()\n",
    "    if word == '0': # int(word)가 안됨. word가 'keyboard'와 같이 int적용 안되는 문자임.\n",
    "        break\n",
    "    else:\n",
    "        li.append(word)\n",
    "print(len(li))\n",
    "for i in range(len(li)):\n",
    "    if 'mo' in li[i]:\n",
    "        print(li[i])\n"
   ]
  },
  {
   "cell_type": "markdown",
   "id": "f2ac59dc-b8fb-4ab7-babf-60d9744b2666",
   "metadata": {
    "id": "64bc7774-6092-4e19-bfab-413727dbd58b",
    "tags": []
   },
   "source": [
    "### 형성평가 10\n",
    "- 5개의 단어를 입력받은 후 문자와 문자열을 한 개씩 입력받아 나중에 입력받은 문자나 문자열이 포함된 단어를 모두 출력하는 프로그램을 작성하시오. (입력되는 단어나 문자열의 길이는 100자 이하이고, 찾는 단어가 없으면 \"none\"이라고 출력한다.)"
   ]
  },
  {
   "cell_type": "code",
   "execution_count": 10,
   "id": "3e6eda8c-36a8-4262-8f23-318e742bd5b4",
   "metadata": {},
   "outputs": [
    {
     "name": "stdin",
     "output_type": "stream",
     "text": [
      " banana\n",
      " apple\n",
      " melon\n",
      " tomato\n",
      " pear\n",
      " n\n",
      " to\n"
     ]
    },
    {
     "name": "stdout",
     "output_type": "stream",
     "text": [
      "banana\n",
      "melon\n",
      "tomato\n"
     ]
    }
   ],
   "source": [
    "# 조건 추가하기!!!!!!!!!!!!!!!!!!!!!!!!!!100자 이하...\n",
    "\n",
    "words = []\n",
    "for i in range(5):\n",
    "    word = input()\n",
    "    words.append(word)\n",
    "a = input()\n",
    "b = input()\n",
    "l = len(words)\n",
    "for word in words:\n",
    "    if a in word or b in word:\n",
    "        print(word)\n",
    "    else:\n",
    "        l -= 1\n",
    "if l == 0:\n",
    "    print('none')"
   ]
  }
 ],
 "metadata": {
  "kernelspec": {
   "display_name": "Python 3 (ipykernel)",
   "language": "python",
   "name": "python3"
  },
  "language_info": {
   "codemirror_mode": {
    "name": "ipython",
    "version": 3
   },
   "file_extension": ".py",
   "mimetype": "text/x-python",
   "name": "python",
   "nbconvert_exporter": "python",
   "pygments_lexer": "ipython3",
   "version": "3.9.13"
  }
 },
 "nbformat": 4,
 "nbformat_minor": 5
}
