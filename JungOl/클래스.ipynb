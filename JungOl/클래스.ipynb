{
 "cells": [
  {
   "cell_type": "markdown",
   "id": "04aa6910-b17b-44e3-8ad9-c2b2661d2057",
   "metadata": {},
   "source": [
    "## <클래스>"
   ]
  },
  {
   "cell_type": "markdown",
   "id": "ea96914b-2aa4-47d7-9350-6eac2a95ac5d",
   "metadata": {},
   "source": [
    "### 형성평가 1\n",
    "- 이름과 전화번호, 주소를 멤버로 하는 클래스를 정의하여 1개의 자료를 입력받고 아래 출력 예와 같은 형식으로 출력하는 프로그램을 작성하시오.(각각의 길이는 100자 이하이다.) "
   ]
  },
  {
   "cell_type": "code",
   "execution_count": 1,
   "id": "13d89b61-f14e-4ace-962f-a966e2d38f59",
   "metadata": {},
   "outputs": [],
   "source": [
    "class Member:\n",
    "    def __init__(self):           # 미란언니 (self, name, tel, addr) 참고!\n",
    "        info = input().split()\n",
    "        self.name = info[0]\n",
    "        self.tel = info[1]\n",
    "        self.address = info[2]\n",
    "        print('name : {}\\ntel : {}\\naddr : {}'.format(self.name, self.tel, self.address))"
   ]
  },
  {
   "cell_type": "code",
   "execution_count": 2,
   "id": "0e9a4743-e5d8-4c97-a890-a96332090da3",
   "metadata": {},
   "outputs": [
    {
     "name": "stdin",
     "output_type": "stream",
     "text": [
      " Lim 1234-5678 Seoul\n"
     ]
    },
    {
     "name": "stdout",
     "output_type": "stream",
     "text": [
      "name : Lim\n",
      "tel : 1234-5678\n",
      "addr : Seoul\n"
     ]
    }
   ],
   "source": [
    "a = Member()"
   ]
  },
  {
   "cell_type": "markdown",
   "id": "fe2f2ca1-efba-4388-b0dd-56ff9a341f14",
   "metadata": {},
   "source": [
    "### 형성평가 2\n",
    "- 위 1번과 같은 자료를 리스트로 생성하여 3명의 자료를 입력받은 후 사전순으로 이름이 가장 빠른 사람의 자료를 출력 예와 같이 출력하는 프로그램을 작성하시오. "
   ]
  },
  {
   "cell_type": "code",
   "execution_count": 5,
   "id": "c86ab6a3-f475-4afd-9253-43624ee3e874",
   "metadata": {},
   "outputs": [],
   "source": [
    "class Member:\n",
    "    def __init__(self):\n",
    "        infos = []\n",
    "        for i in range(3):\n",
    "            info = input().split()\n",
    "            infos.append(info)\n",
    "        name = []\n",
    "        for j in range(3):\n",
    "            name.append(infos[j][0]) # 대소문자 구분 없이 사전순으로 정리해주려면 .lower() 해주기(아니면 대문자가 무조건 앞)\n",
    "        name = name.sort()\n",
    "        p_name = name[0] # error....\n",
    "        for k in range(3):\n",
    "            if infos[k][0] == p_name:\n",
    "                print('name : {}\\ntel : {}\\naddr : {}'.format(infos[k][0], infos[k][1], infos[k][2]))"
   ]
  },
  {
   "cell_type": "code",
   "execution_count": 6,
   "id": "0824ca03-ae0b-4afe-8427-5437f55a5889",
   "metadata": {
    "tags": []
   },
   "outputs": [
    {
     "name": "stdin",
     "output_type": "stream",
     "text": [
      " Lim 1234-5678 Seoul\n",
      " Hong 2345-6789 Gangwon\n",
      " Sung 3456-7890 Gyeonggi\n"
     ]
    },
    {
     "ename": "TypeError",
     "evalue": "'NoneType' object is not subscriptable",
     "output_type": "error",
     "traceback": [
      "\u001b[1;31m---------------------------------------------------------------------------\u001b[0m",
      "\u001b[1;31mTypeError\u001b[0m                                 Traceback (most recent call last)",
      "Cell \u001b[1;32mIn [6], line 1\u001b[0m\n\u001b[1;32m----> 1\u001b[0m a \u001b[38;5;241m=\u001b[39m \u001b[43mMember\u001b[49m\u001b[43m(\u001b[49m\u001b[43m)\u001b[49m\n",
      "Cell \u001b[1;32mIn [5], line 11\u001b[0m, in \u001b[0;36mMember.__init__\u001b[1;34m(self)\u001b[0m\n\u001b[0;32m      9\u001b[0m     name\u001b[38;5;241m.\u001b[39mappend(infos[j][\u001b[38;5;241m0\u001b[39m]) \u001b[38;5;66;03m# 대소문자 구분 없이 사전순으로 정리해주려고(아니면 대문자가 무조건 앞)\u001b[39;00m\n\u001b[0;32m     10\u001b[0m name \u001b[38;5;241m=\u001b[39m name\u001b[38;5;241m.\u001b[39msort()\n\u001b[1;32m---> 11\u001b[0m p_name \u001b[38;5;241m=\u001b[39m \u001b[43mname\u001b[49m\u001b[43m[\u001b[49m\u001b[38;5;241;43m0\u001b[39;49m\u001b[43m]\u001b[49m\n\u001b[0;32m     12\u001b[0m \u001b[38;5;28;01mfor\u001b[39;00m k \u001b[38;5;129;01min\u001b[39;00m \u001b[38;5;28mrange\u001b[39m(\u001b[38;5;241m3\u001b[39m):\n\u001b[0;32m     13\u001b[0m     \u001b[38;5;28;01mif\u001b[39;00m infos[k][\u001b[38;5;241m0\u001b[39m] \u001b[38;5;241m==\u001b[39m p_name:\n",
      "\u001b[1;31mTypeError\u001b[0m: 'NoneType' object is not subscriptable"
     ]
    }
   ],
   "source": [
    "a = Member()"
   ]
  },
  {
   "cell_type": "markdown",
   "id": "578c6ecb-4a36-4b56-95ae-094410a10bf2",
   "metadata": {},
   "source": [
    "### 형성평가 3\n",
    "- 직사각형의 왼쪽 아래의 좌표 (x1, y1)와 오른쪽 위의 좌표 (x2, y2)를 저장할 수 있는 클래스를 만들고 두 개의 직사각형 자료를 입력받아 두 직사각형을 포함하는 최소의 직사각형 자료를 구하여 멤버 변수에 저장하고 출력하는 프로그램을 작성하시오. 단, 모든 입력값은 100을 넘지 않는다. "
   ]
  },
  {
   "cell_type": "code",
   "execution_count": 7,
   "id": "0849778b-2f2a-4634-addb-41865e3bd5c6",
   "metadata": {},
   "outputs": [],
   "source": [
    "class Rectangle:\n",
    "    def __init__(self):\n",
    "        a = list(map(int, input().split()))\n",
    "        b = list(map(int, input().split()))\n",
    "        lst = []\n",
    "        for i in range(4):\n",
    "            if i < 2:\n",
    "                if a[i] < b[i]:\n",
    "                    lst.append(a[i])\n",
    "                else:\n",
    "                    lst.append(b[i])\n",
    "            else:\n",
    "                if a[i] > b[i]:\n",
    "                    lst.append(a[i])\n",
    "                else:\n",
    "                    lst.append(b[i])\n",
    "        print(*lst)"
   ]
  },
  {
   "cell_type": "code",
   "execution_count": 8,
   "id": "72d58df0-6ca2-47f6-b2dc-7dc5d6bb3202",
   "metadata": {},
   "outputs": [
    {
     "name": "stdin",
     "output_type": "stream",
     "text": [
      " 1 1 6 5\n",
      " 2 0 7 3\n"
     ]
    },
    {
     "name": "stdout",
     "output_type": "stream",
     "text": [
      "1 0 7 5\n"
     ]
    }
   ],
   "source": [
    "a = Rectangle()"
   ]
  },
  {
   "cell_type": "markdown",
   "id": "3ce56b5a-1056-4a31-b176-7b2ec5a19157",
   "metadata": {},
   "source": [
    "### 형성평가 4\n",
    "- 어떤 학생의 키는 아버지와 어머니의 키의 평균보다 5cm 크고 몸무게는 아버지와 어머니의 몸무게의 평균보다 4.5kg 가볍다고 한다. 키와 몸무게를 멤버변수로 갖는 클래스를 생성하고 아버지와 어머니의 키와 몸무게를 입력받아 학생의 키와 몸무게를 출력하는 프로그램을 작성하시오. (키는 정수미만 버림하고 몸무게는 반올림하여 소수 첫째자리까지 나타낸다.) "
   ]
  },
  {
   "cell_type": "code",
   "execution_count": 22,
   "id": "3e5a3da8-96a6-4a23-95d7-c2584ffdd244",
   "metadata": {},
   "outputs": [],
   "source": [
    "class Student:\n",
    "    def __init__(self):\n",
    "        papa = list(map(float, input().split()))    # int로 했다가 error (float값 받으면 error..)\n",
    "        mama = list(map(float, input().split()))\n",
    "        self.height = int((papa[0]+mama[0])/2) + 5   # (papa[0]+mama[0]/2) 연산자 우선순위.. 그래서 틀렸었음.. / int()하면 버림 됨\n",
    "        self.weight = (papa[1]+mama[1])/2 - 4.5\n",
    "        print('height : {}cm\\nweight : {:.1f}kg'.format(self.height, self.weight))   # 포맷팅.. ':.1f' 기억하자!"
   ]
  },
  {
   "cell_type": "code",
   "execution_count": 23,
   "id": "eaa1fd31-93e8-400e-a47f-0f8720c9b155",
   "metadata": {},
   "outputs": [
    {
     "name": "stdin",
     "output_type": "stream",
     "text": [
      " 175 68.8\n",
      " 166 56.4\n"
     ]
    },
    {
     "name": "stdout",
     "output_type": "stream",
     "text": [
      "height : 175cm\n",
      "weight : 58.1kg\n"
     ]
    }
   ],
   "source": [
    "a = Student()"
   ]
  },
  {
   "cell_type": "code",
   "execution_count": 10,
   "id": "b1c67105-f695-465b-88ed-69060e89a8d0",
   "metadata": {},
   "outputs": [
    {
     "data": {
      "text/plain": [
       "3"
      ]
     },
     "execution_count": 10,
     "metadata": {},
     "output_type": "execute_result"
    }
   ],
   "source": [
    "int(3.8)"
   ]
  },
  {
   "cell_type": "markdown",
   "id": "d163b7b0-66b1-43ac-af49-c7e55d438c90",
   "metadata": {},
   "source": [
    "### 형성평가 5\n",
    "- 정수 n을 입력받은 후 n명의 이름(20자 이하)과 세 과목의 점수를 입력받아 총점이 높은 순으로 정렬하여 출력하는 프로그램을 작성하시오. (1 ≤ n ≤ 10) "
   ]
  },
  {
   "cell_type": "code",
   "execution_count": null,
   "id": "c46038c5-6e84-4acf-9be0-8a77ae581bf2",
   "metadata": {},
   "outputs": [],
   "source": [
    "# 도저히...머리가..아픕니당..\n",
    "# 딕셔너리로 푸는게 더 낫지 않을까 > 이름을 key, 점수들을 value로 받아서!! 했으면 더 나을거같다고 함"
   ]
  },
  {
   "cell_type": "code",
   "execution_count": 1,
   "id": "9ece6b2f-db45-425b-99ae-82589feaeb40",
   "metadata": {},
   "outputs": [
    {
     "name": "stdin",
     "output_type": "stream",
     "text": [
      " 나 100 100 100\n",
      " 철수 70 80 90\n",
      " 영희 30 90 85\n"
     ]
    },
    {
     "data": {
      "text/plain": [
       "{'나': [['100', '100', '100']],\n",
       " '철수': [['70', '80', '90']],\n",
       " '영희': [['30', '90', '85']]}"
      ]
     },
     "execution_count": 1,
     "metadata": {},
     "output_type": "execute_result"
    }
   ],
   "source": [
    "dic = {}\n",
    "\n",
    "for i in range(3):\n",
    "    name, *scores = input().split()\n",
    "    dic[name] = [scores]\n",
    "dic"
   ]
  },
  {
   "cell_type": "code",
   "execution_count": 2,
   "id": "ea8c952d-8126-4dc3-8a6d-d7b09c14cce1",
   "metadata": {},
   "outputs": [
    {
     "name": "stdin",
     "output_type": "stream",
     "text": [
      " 나 100 100 100\n",
      " 철수 70 80 90\n",
      " 영희 30 90 85\n"
     ]
    },
    {
     "data": {
      "text/plain": [
       "{'나': ('100', '100', '100'),\n",
       " '철수': ('70', '80', '90'),\n",
       " '영희': ('30', '90', '85')}"
      ]
     },
     "execution_count": 2,
     "metadata": {},
     "output_type": "execute_result"
    }
   ],
   "source": [
    "dic = {}\n",
    "\n",
    "for i in range(3):\n",
    "    name, a, b, c = input().split()\n",
    "    dic[name] = a, b, c\n",
    "dic"
   ]
  }
 ],
 "metadata": {
  "kernelspec": {
   "display_name": "Python 3 (ipykernel)",
   "language": "python",
   "name": "python3"
  },
  "language_info": {
   "codemirror_mode": {
    "name": "ipython",
    "version": 3
   },
   "file_extension": ".py",
   "mimetype": "text/x-python",
   "name": "python",
   "nbconvert_exporter": "python",
   "pygments_lexer": "ipython3",
   "version": "3.9.13"
  }
 },
 "nbformat": 4,
 "nbformat_minor": 5
}
