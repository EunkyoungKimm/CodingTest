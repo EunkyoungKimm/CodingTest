{
 "cells": [
  {
   "cell_type": "markdown",
   "id": "75eeba18-0595-4393-8921-ba35f1ece62b",
   "metadata": {
    "id": "669fcc00-4adb-4056-9e05-e70eea507512"
   },
   "source": [
    "## <반복제어문2>"
   ]
  },
  {
   "cell_type": "markdown",
   "id": "26d77f26-d52d-4e73-bebb-3f7eb9dbdae1",
   "metadata": {},
   "source": [
    "## 형성평가 1\n",
    "- 10 이하의 자연수 n을 입력받아 아래와 같이 \"JUNGOL\"을 n번 출력하는 프로그램을 작성하시오."
   ]
  },
  {
   "cell_type": "code",
   "execution_count": 18,
   "id": "fde8649b-bdff-4627-a46c-00d0f32c4847",
   "metadata": {},
   "outputs": [
    {
     "name": "stdin",
     "output_type": "stream",
     "text": [
      " 11\n"
     ]
    }
   ],
   "source": [
    "user = int(input())\n",
    "for i in range(user):\n",
    "    if user > 10:\n",
    "        break\n",
    "    print('JUNGOL')"
   ]
  },
  {
   "cell_type": "markdown",
   "id": "74c6125f-d261-40d0-bd00-8a987528b6d2",
   "metadata": {},
   "source": [
    "## 형성평가 2\n",
    "- 두 개의 정수를 입력받아 작은 수부터 큰 수까지 차례대로 출력하는 프로그램을 작성하시오. (입력으로 주어지는 정수는 100이하의 자연수이다.)"
   ]
  },
  {
   "cell_type": "code",
   "execution_count": 23,
   "id": "1ddbf2cb-0017-43cc-a0e2-2733818b0a8e",
   "metadata": {},
   "outputs": [
    {
     "name": "stdin",
     "output_type": "stream",
     "text": [
      " 10 5\n"
     ]
    },
    {
     "name": "stdout",
     "output_type": "stream",
     "text": [
      "5 6 7 8 9 10 "
     ]
    }
   ],
   "source": [
    "user = list(map(int,input().split()))\n",
    "start = min(user)\n",
    "end = max(user)\n",
    "for i in range(start, end+1):\n",
    "    print(i, end = ' ')"
   ]
  },
  {
   "cell_type": "markdown",
   "id": "add903d5-db4c-4137-aa94-aa0d9768351e",
   "metadata": {},
   "source": [
    "## 형성평가 3\n",
    "- 정수를 입력받아서 1부터 입력받은 정수까지의 5의 배수의 합을 구하여 출력하는 프로그램을 작성하 시오."
   ]
  },
  {
   "cell_type": "code",
   "execution_count": 24,
   "id": "d07d4c44-61bf-45d0-8443-b4a75b2c9f47",
   "metadata": {},
   "outputs": [
    {
     "name": "stdin",
     "output_type": "stream",
     "text": [
      " 20\n"
     ]
    },
    {
     "name": "stdout",
     "output_type": "stream",
     "text": [
      "50\n"
     ]
    }
   ],
   "source": [
    "user = int(input())\n",
    "multiple5 = 0\n",
    "for i in range(1, user+1):\n",
    "    if i % 5 == 0:\n",
    "        multiple5 += i\n",
    "    else:\n",
    "        continue\n",
    "print(multiple5)"
   ]
  },
  {
   "cell_type": "markdown",
   "id": "bda63d80-8a48-4565-a296-e095616889a9",
   "metadata": {},
   "source": [
    "## 형성평가 4\n",
    "- 한 줄에 몇 개의 정수를 입력받아 평균을 출력하는 프로그램을 작성하시오. (평균은 반올림하여 소수 둘째자리까지 출력하도록 한다. round()를 쓸 경우 끝의 0이 생략될 수 있으므로 대신 문자열 서식 문자(%.2f)의 도움을 받는다. 예를 들어 30.30이 round를 사용하면 30.3으로 출력되게 된다.)"
   ]
  },
  {
   "cell_type": "code",
   "execution_count": 26,
   "id": "24cb711f-ee24-4e65-b185-83d4003f7b12",
   "metadata": {},
   "outputs": [
    {
     "name": "stdin",
     "output_type": "stream",
     "text": [
      " 99 65 30\n"
     ]
    },
    {
     "name": "stdout",
     "output_type": "stream",
     "text": [
      "64.67\n"
     ]
    }
   ],
   "source": [
    "nums = list(map(int,input().split())) # map >> 시퀀스 자료형에 해당 함수를 각각 적용해주는 것!\n",
    "total = sum(nums)\n",
    "print('%.2f' % (total / len(nums))) # {:.2f} 라고 하면 되는듯!"
   ]
  },
  {
   "cell_type": "markdown",
   "id": "a18c6976-e08f-4dd8-bb6a-9d2ef9e0dfde",
   "metadata": {},
   "source": [
    "## 형성평가 5\n",
    "- 10개의 정수를 입력받아 입력받은 수들 중 짝수의 개수와 홀수의 개수를 각각 구하여 출력하는 프로그램을 작성하시오."
   ]
  },
  {
   "cell_type": "code",
   "execution_count": 29,
   "id": "30c2ff87-e734-4e91-83b8-d10dc53b6a32",
   "metadata": {},
   "outputs": [
    {
     "name": "stdin",
     "output_type": "stream",
     "text": [
      " 1 3\n"
     ]
    },
    {
     "name": "stdout",
     "output_type": "stream",
     "text": [
      "even : 0\n",
      "odd : 0\n"
     ]
    }
   ],
   "source": [
    "nums = list(map(int,input().split()))\n",
    "odd = []\n",
    "even = []\n",
    "for i in nums:\n",
    "    if len(nums) == 10:\n",
    "        if i % 2 == 0:\n",
    "            even.append(i)\n",
    "        else:\n",
    "            odd.append(i)\n",
    "    else:                  # 이거 없어도 되는듯\n",
    "        break\n",
    "print(f'even : {len(even)}', f'odd : {len(odd)}', sep = '\\n') # 미란이 언니 방법 / 예원언니 포맷팅 print"
   ]
  },
  {
   "cell_type": "markdown",
   "id": "8fd047b9-eb38-4d3e-8e08-ba45b88f82ff",
   "metadata": {},
   "source": [
    "## 형성평가 6\n",
    "- 두 개의 정수를 입력받아 작은 수부터 큰 수까지 3의 배수이거나 5의 배수인 수들의 합과 평균을 출력하는 프로그램을 작성하시오. (평균은 반올림하여 소수 첫째자리까지 출력한다.)"
   ]
  },
  {
   "cell_type": "code",
   "execution_count": 32,
   "id": "b7f2810a-f66d-4fad-ade3-9083c58b0790",
   "metadata": {},
   "outputs": [
    {
     "name": "stdin",
     "output_type": "stream",
     "text": [
      " 10 15\n"
     ]
    },
    {
     "name": "stdout",
     "output_type": "stream",
     "text": [
      "sum : 37\n",
      "avg : 12.3\n"
     ]
    }
   ],
   "source": [
    "user = list(map(int,input().split()))\n",
    "start = min(user)\n",
    "end = max(user)\n",
    "lst = []\n",
    "total = 0\n",
    "for i in range(start, end+1):\n",
    "    if i % 3 == 0 or i % 5 ==0:\n",
    "        lst.append(i)\n",
    "        total += i\n",
    "    else:                 # 이거 없어도 돼!!!!!!!!!!!!!!!!!!!!!!!!!!!!!!!!!\n",
    "        continue\n",
    "print('sum : %d' % total, 'avg : %.1f' % (total/len(lst)), sep = '\\n')   # len(lst) 가 0일수도 있으니까 그것도 조건 제외시켜주깅(zerodivisionerror, 예원언니)"
   ]
  },
  {
   "cell_type": "markdown",
   "id": "2385edb6-b73c-48b6-a7e2-edf7c781478b",
   "metadata": {},
   "source": [
    "## 형성평가 7\n",
    "- 한 개의 자연수를 입력받아 그 수의 배수를 차례로 10개 출력하는 프로그램을 작성하시오."
   ]
  },
  {
   "cell_type": "code",
   "execution_count": 33,
   "id": "45fc3863-68ed-4ee8-bcf6-d954fb12f92a",
   "metadata": {},
   "outputs": [
    {
     "name": "stdin",
     "output_type": "stream",
     "text": [
      " 5\n"
     ]
    },
    {
     "name": "stdout",
     "output_type": "stream",
     "text": [
      "5 10 15 20 25 30 35 40 45 50 "
     ]
    }
   ],
   "source": [
    "num = int(input())\n",
    "for i in range(1, 11):\n",
    "    print(num * i, end = ' ')"
   ]
  },
  {
   "cell_type": "markdown",
   "id": "21e49dc1-1860-4487-82c4-968d37b5c66c",
   "metadata": {},
   "source": [
    "## 형성평가 8\n",
    "- 행과 열의 수를 입력받아 다음과 같이 출력하는 프로그램을 작성하시오."
   ]
  },
  {
   "cell_type": "code",
   "execution_count": 38,
   "id": "00d9d5d7-2fc5-4a99-90a1-73edac5746a8",
   "metadata": {},
   "outputs": [
    {
     "name": "stdin",
     "output_type": "stream",
     "text": [
      " 3 4\n"
     ]
    },
    {
     "name": "stdout",
     "output_type": "stream",
     "text": [
      "1 2 3 4 \n",
      "2 4 6 8 \n",
      "3 6 9 12 \n"
     ]
    }
   ],
   "source": [
    "user = list(map(int,input().split()))\n",
    "row = user[0]\n",
    "column = user[1]   # row, column = list(map(int,input().split()))   >>>  이렇게 하면 됐을 것을...\n",
    "p_num = 1 \n",
    "for i in range(row):\n",
    "    for j in range(column):\n",
    "        print(p_num*(j+1), end = ' ') # p_num 굳이 필요x / i 썼으면 됐음!\n",
    "    p_num += 1\n",
    "    print()"
   ]
  },
  {
   "cell_type": "markdown",
   "id": "ae731985-ddab-4d8d-833b-64229507baa6",
   "metadata": {},
   "source": [
    "## 형성평가 9\n",
    "- 정수를 입력받아 다음과 같이 순서쌍을 출력하는 프로그램을 작성하시오."
   ]
  },
  {
   "cell_type": "code",
   "execution_count": 1,
   "id": "20b39bf3-185a-4929-a213-40d70775feb0",
   "metadata": {},
   "outputs": [
    {
     "name": "stdin",
     "output_type": "stream",
     "text": [
      " 4\n"
     ]
    },
    {
     "name": "stdout",
     "output_type": "stream",
     "text": [
      "(1, 1) (1, 2) (1, 3) (1, 4) \n",
      "(2, 1) (2, 2) (2, 3) (2, 4) \n",
      "(3, 1) (3, 2) (3, 3) (3, 4) \n",
      "(4, 1) (4, 2) (4, 3) (4, 4) \n"
     ]
    }
   ],
   "source": [
    "num = int(input())\n",
    "\n",
    "for i in range(1,num+1):\n",
    "    for j in range(1, num+1):\n",
    "        lst = [i, j]\n",
    "        print(tuple(lst), end = ' ')\n",
    "    print()"
   ]
  },
  {
   "cell_type": "code",
   "execution_count": 39,
   "id": "e0110bf3-67b3-4a13-842a-5b21b712fa49",
   "metadata": {},
   "outputs": [
    {
     "data": {
      "text/plain": [
       "(1, 2)"
      ]
     },
     "execution_count": 39,
     "metadata": {},
     "output_type": "execute_result"
    }
   ],
   "source": [
    "a = [1,2]\n",
    "b = tuple(a)\n",
    "b"
   ]
  },
  {
   "cell_type": "markdown",
   "id": "0fb175ec-4031-4a6a-bb75-a3165cea6063",
   "metadata": {},
   "source": [
    "## 형성평가 10\n",
    "- 2부터 9까지의 정수 a와 b를 입력받아 a단부터 b단까지의 구구단을 차례대로 출력하는 프로그램을 작성하시오. 구구단 사이의 공백은 3칸이다."
   ]
  },
  {
   "cell_type": "code",
   "execution_count": 12,
   "id": "4bdd4509-e4f8-4557-b0c5-318561482e34",
   "metadata": {},
   "outputs": [
    {
     "name": "stdin",
     "output_type": "stream",
     "text": [
      " 5 3\n"
     ]
    },
    {
     "name": "stdout",
     "output_type": "stream",
     "text": [
      "..\n",
      "..\n",
      "..\n",
      "\n",
      "..\n",
      "..\n",
      "..\n",
      "\n",
      "..\n",
      "..\n",
      "..\n",
      "\n",
      "..\n",
      "..\n",
      "..\n",
      "\n",
      "..\n",
      "..\n",
      "..\n",
      "\n",
      "..\n",
      "..\n",
      "..\n",
      "\n",
      "..\n",
      "..\n",
      "..\n",
      "\n",
      "..\n",
      "..\n",
      "..\n",
      "\n",
      "..\n",
      "..\n",
      "..\n",
      "\n"
     ]
    }
   ],
   "source": [
    "a, b = map(int, input().split())\n",
    "\n",
    "if a < b:\n",
    "    for i in range(1,10):\n",
    "        for j in range(a, b+1):\n",
    "            print(f'{j} * {i} = {j*i}', end = '   ')         # {:2d}하면 자릿수가 맞음!\n",
    "        print()\n",
    "\n",
    "else:\n",
    "    for i in range(1,10):\n",
    "        for j in range(a-b+1): # 멍충..멍충.. (b-a+1)이라함....\n",
    "            print('..')\n",
    "        print()"
   ]
  }
 ],
 "metadata": {
  "kernelspec": {
   "display_name": "Python 3 (ipykernel)",
   "language": "python",
   "name": "python3"
  },
  "language_info": {
   "codemirror_mode": {
    "name": "ipython",
    "version": 3
   },
   "file_extension": ".py",
   "mimetype": "text/x-python",
   "name": "python",
   "nbconvert_exporter": "python",
   "pygments_lexer": "ipython3",
   "version": "3.9.13"
  }
 },
 "nbformat": 4,
 "nbformat_minor": 5
}
