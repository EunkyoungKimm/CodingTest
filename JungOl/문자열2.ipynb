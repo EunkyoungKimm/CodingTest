{
 "cells": [
  {
   "cell_type": "markdown",
   "id": "2d4f1c7c-716e-49b6-b8dc-0833d89e4f25",
   "metadata": {
    "id": "e70d5dfc-0534-41c8-b098-ed51124063b0",
    "tags": []
   },
   "source": [
    "## <문자열2>"
   ]
  },
  {
   "cell_type": "markdown",
   "id": "b540452a-9414-4fc7-b187-467cf1afecd9",
   "metadata": {
    "id": "4364db04-cdd6-4685-8264-28fef0447d52"
   },
   "source": [
    "### 형성평가 1\n",
    "- 공백을 포함한 문자열을 입력받아 문자열 '(space)'를 기준으로 분리하여 역순으로 출력하는 프로그램을 작성하시오."
   ]
  },
  {
   "cell_type": "code",
   "execution_count": null,
   "id": "27a2183a-9101-49c4-82d9-28287babfb93",
   "metadata": {
    "id": "02f4b342-f14a-4bc5-a5bc-ff25ef944ebb",
    "outputId": "66a17e94-1dec-4c1a-a020-7d9e409cd4e1"
   },
   "outputs": [
    {
     "name": "stdin",
     "output_type": "stream",
     "text": [
      " Python (space) Programing (space) jjang!!\n"
     ]
    },
    {
     "name": "stdout",
     "output_type": "stream",
     "text": [
      "jjang!!\n",
      "Programing\n",
      "Python\n"
     ]
    }
   ],
   "source": [
    "user = input()\n",
    "li = user.split('(space)')\n",
    "li.reverse()\n",
    "\n",
    "i = 0\n",
    "for item in li:\n",
    "    print(li[i].strip()) # 양쪽 공백 없애주기\n",
    "    i += 1"
   ]
  },
  {
   "cell_type": "markdown",
   "id": "aa4a3a2d-4eb8-485f-8e51-58ce2bde566f",
   "metadata": {
    "id": "e249ec94-708c-49f6-859f-908d8769071b",
    "tags": []
   },
   "source": [
    "### 형성평가 2\n",
    "- 문자열 한 개와 두 개의 정수 x, y를 입력받아 문자열을 x만큼 왼쪽으로 순환하여 출력하는 작업을 y만큼 반복하는 프로그램을 작성하시오."
   ]
  },
  {
   "cell_type": "code",
   "execution_count": null,
   "id": "fc7ec938-ac31-4006-88f1-a3f2dbdf738a",
   "metadata": {
    "id": "30b87f52-b896-4bbc-8384-275a120cef31"
   },
   "outputs": [],
   "source": [
    "# 입력 예시: ABCDEFGHIJ 3 5\n",
    "# 출력 예시:\n",
    "# DEFGHIJABC\n",
    "# GHIJABCDEF\n",
    "# JABCDEFGHI\n",
    "# CDEFGHIJAB\n",
    "# FGHIJABCDE"
   ]
  },
  {
   "cell_type": "code",
   "execution_count": null,
   "id": "601a8cce-292b-4f9c-a92a-51318fd8d056",
   "metadata": {
    "id": "bba475db-8368-4e97-bcb1-0b6e75ef2d4c",
    "outputId": "9b9e3c03-8c50-4329-ee9a-f1bd0355fdb4"
   },
   "outputs": [
    {
     "name": "stdin",
     "output_type": "stream",
     "text": [
      " ABCDEFGHIJ 3 5\n"
     ]
    },
    {
     "name": "stdout",
     "output_type": "stream",
     "text": [
      "DEFGHIJABC\n",
      "GHIJABCDEF\n",
      "JABCDEFGHI\n",
      "CDEFGHIJAB\n",
      "FGHIJABCDE\n"
     ]
    }
   ],
   "source": [
    "# start, step 따로 생각해야됨...\n",
    "\n",
    "user = input()\n",
    "li_user = user.split(' ')\n",
    "\n",
    "s = li_user[0]\n",
    "step = int(li_user[1])\n",
    "turn = int(li_user[2])\n",
    "start = 0\n",
    "\n",
    "for i in range(turn):\n",
    "    start += step\n",
    "    if start >= step:\n",
    "        start -= len(s)\n",
    "    for j in range(len(s)):\n",
    "        print(s[start], end= '')\n",
    "        start += 1\n",
    "        if start == len(s):\n",
    "            start = 0\n",
    "    print('')\n",
    "        \n",
    "    "
   ]
  },
  {
   "cell_type": "code",
   "execution_count": null,
   "id": "2cd6ce39-c963-4f1b-a989-601016cdf55b",
   "metadata": {
    "id": "2a16fade-bfdc-4954-ba05-f5b386366c03"
   },
   "outputs": [],
   "source": []
  },
  {
   "cell_type": "markdown",
   "id": "0f9b0cf2-30cb-458d-9c88-6445f1b5a6c6",
   "metadata": {
    "id": "9fd6236f-018f-4cb7-b647-fac36721459d",
    "tags": []
   },
   "source": [
    "### 형성평가 3\n",
    "- 세 개의 문자열을 입력받아 사전순으로 가장 작은 문자열과 가장 큰 문자열을 출력하는 프로그램을 작성하시오."
   ]
  },
  {
   "cell_type": "code",
   "execution_count": null,
   "id": "e16def9f-6752-4916-ae48-4e6177eff524",
   "metadata": {
    "id": "da60d91c-4718-4b9c-8bb5-4045bc1996d0"
   },
   "outputs": [],
   "source": [
    "# 입력예시: Python C++ Java\n",
    "# 출력예시: \n",
    "# C++\n",
    "# Python"
   ]
  },
  {
   "cell_type": "code",
   "execution_count": null,
   "id": "c8a4609b-22be-4aa6-b1ca-049f739cc50e",
   "metadata": {
    "id": "bacead96-1ac0-4273-9535-b6fcd603af39",
    "outputId": "742a51fe-ab37-4ebd-dbcc-d1759e81bec6"
   },
   "outputs": [
    {
     "name": "stdin",
     "output_type": "stream",
     "text": [
      " Python C++ Java\n"
     ]
    },
    {
     "name": "stdout",
     "output_type": "stream",
     "text": [
      "C++\n",
      "Python\n"
     ]
    }
   ],
   "source": [
    "str = input()\n",
    "str = str.split(' ')\n",
    "print(min(str))\n",
    "print(max(str))"
   ]
  },
  {
   "cell_type": "code",
   "execution_count": null,
   "id": "ed6a4377-b3ee-41e1-9a6c-1a0e252da19b",
   "metadata": {
    "id": "2746a720-4d4a-4980-aab0-a587cd08d18d"
   },
   "outputs": [],
   "source": []
  },
  {
   "cell_type": "markdown",
   "id": "8fc47048-152e-4f57-a1a6-42bb3bafc597",
   "metadata": {
    "id": "60eb0e07-894d-4306-9fa1-b6d0ae20ef78",
    "tags": []
   },
   "source": [
    "### 형성평가 4\n",
    "- 두 개의 문자열 A와 B, 한 개의 정수 n을 입력받아서 A에 B를 연결하여 새로운 A를 만들고, A에서 n개의 문자를 B의 앞부분에 복사한 후  A와 B를 출력하는 프로그램을 작성하시오.\n",
    "\n",
    "(A와 B의 문자열의 길이는 50자 이하이고, n은 A와 B의 문자열 길이의 합보다 작다.) "
   ]
  },
  {
   "cell_type": "code",
   "execution_count": null,
   "id": "187fab38-1f03-4203-bc1e-7a329252d4ec",
   "metadata": {
    "id": "63389aef-cbd8-4ce8-b1d1-39ff5deb0c03",
    "outputId": "42859c07-7566-4205-9d33-a46ef39cd1f8"
   },
   "outputs": [
    {
     "name": "stdin",
     "output_type": "stream",
     "text": [
      " bananaa apple 3\n"
     ]
    },
    {
     "name": "stdout",
     "output_type": "stream",
     "text": [
      "bananaaapple\n",
      "banle\n"
     ]
    }
   ],
   "source": [
    "# 답은 잘 나와요..ㅎㅎ\n",
    "\n",
    "user = input()\n",
    "user_list = user.split(' ')\n",
    "A = user_list[0]\n",
    "B = user_list[1]\n",
    "n = int(user_list[2]) # 런타임에러\n",
    "A = A + B\n",
    "B = A[:n] + B[n:]\n",
    "print(A)\n",
    "print(B)"
   ]
  },
  {
   "cell_type": "code",
   "execution_count": null,
   "id": "5cf33453-f206-487c-8420-58dc817259cf",
   "metadata": {
    "id": "86f9e5d0-0aa5-4903-9c1b-d3a12279c5a8"
   },
   "outputs": [],
   "source": []
  },
  {
   "cell_type": "markdown",
   "id": "ea3636b0-ac09-49f8-999b-0b6c0516ba5e",
   "metadata": {
    "id": "64bc7774-6092-4e19-bfab-413727dbd58b",
    "tags": []
   },
   "source": [
    "### 형성평가 5\n",
    "- 한 개의 단어를 입력받아서 거꾸로 뒤집어서 출력하는 작업을 반복하다가 \"END\"라고 입력이 되면 종료하는 프로그램을 작성하시오.(입력받는 단어의 길이는 20 이하이고, 단어의 개수는 100개 이하이다.)"
   ]
  },
  {
   "cell_type": "code",
   "execution_count": null,
   "id": "3d870ee7-347c-4a80-bc63-41e6d621e528",
   "metadata": {
    "id": "bc7d9e0e-27cf-496b-9c27-71ff5b98ada5",
    "outputId": "d4bae338-8a64-4696-f25d-4963e6131ad7"
   },
   "outputs": [
    {
     "name": "stdin",
     "output_type": "stream",
     "text": [
      " jungle\n"
     ]
    },
    {
     "name": "stdout",
     "output_type": "stream",
     "text": [
      "elgnuj"
     ]
    },
    {
     "name": "stdin",
     "output_type": "stream",
     "text": [
      " ahah\n"
     ]
    },
    {
     "name": "stdout",
     "output_type": "stream",
     "text": [
      "haha"
     ]
    },
    {
     "name": "stdin",
     "output_type": "stream",
     "text": [
      " END\n"
     ]
    }
   ],
   "source": [
    "while True:\n",
    "    user = input()\n",
    "    if user == 'END':\n",
    "        break\n",
    "    li = list(user)\n",
    "    li.reverse()\n",
    "    for i in range(len(li)):\n",
    "        print(li[i], end = '')"
   ]
  },
  {
   "cell_type": "markdown",
   "id": "0f345962-9265-48af-ba25-a481650e6625",
   "metadata": {
    "id": "cae24107-c851-4534-815b-3ec331660001",
    "tags": []
   },
   "source": [
    "### 형성평가 6\n",
    "- 한 개의 문자열을 입력받아 문자가 모두 대문자이면 'U', 모두 소문자이면 'L', 모두 숫자이면 'D', 어느 것에도 해당하지 않으면 'X'라고 출력하고, 입력 받은 문자열을 출력하는데, 영문자는 소문자가 있으면 모두 대문자로 변환한 후 문자열을 출력하는 프로그램을 작성하시오."
   ]
  },
  {
   "cell_type": "code",
   "execution_count": null,
   "id": "e64a0cfe-471b-4cd1-ba8a-0803883e207f",
   "metadata": {
    "id": "b88c204b-99c6-490a-8491-56b796719f8b",
    "outputId": "ecb55c97-d02e-4d85-8c19-c25f533c5d1c"
   },
   "outputs": [
    {
     "name": "stdin",
     "output_type": "stream",
     "text": [
      " jun123\n"
     ]
    },
    {
     "name": "stdout",
     "output_type": "stream",
     "text": [
      "L\n",
      "JUN123\n"
     ]
    }
   ],
   "source": [
    "user = input()\n",
    "if user.isupper() == True:\n",
    "    print('U')\n",
    "    print(user)\n",
    "elif user.islower() == True:\n",
    "    print('L')\n",
    "    print(user.upper())\n",
    "elif user.isdigit() == True:\n",
    "    print('D')\n",
    "    print(user)\n",
    "else:\n",
    "    print('X')\n",
    "    li = []\n",
    "    for i in range(len(user)):\n",
    "        if user[i].islower() == True:\n",
    "            a = user[i].upper()\n",
    "            li.append(a)\n",
    "        else:\n",
    "            li.append(user[i])\n",
    "        print(li[i], end = '')"
   ]
  },
  {
   "cell_type": "markdown",
   "id": "a46f24da-5708-4fd5-bd56-572e7666cec3",
   "metadata": {
    "id": "24c9dcc3-2edd-4bc3-a4da-b4f93c77879b",
    "tags": []
   },
   "source": [
    "### 형성평가 7\n",
    "- 첫 번째 줄에 200자 이하의 문자열 A를 입력받고, 다음 줄에 10자 이하의 2개의 문자열 B와 C를 입력 받아 A문자열에 포함된 B문자열의 개수를 출력하고 B문자열을 모두 C문자열로 변환하여 출력하는 프로그램을 작성하시오. 단, 대.소문자는 구별된다."
   ]
  },
  {
   "cell_type": "code",
   "execution_count": null,
   "id": "f8aeb7ab-ad44-4cf5-a5fc-ff1464ede8fe",
   "metadata": {
    "id": "33c2c629-0590-4a1f-97ad-4bcb580f9140",
    "outputId": "cc2dce40-58db-4edc-bf66-feb16c4df943"
   },
   "outputs": [
    {
     "name": "stdin",
     "output_type": "stream",
     "text": [
      " For those who prefer coding in Python, our training pages now support submission of programs written in Python 2.0 or Python 3.0.\n",
      " Python C++\n"
     ]
    },
    {
     "name": "stdout",
     "output_type": "stream",
     "text": [
      "3\n",
      "For those who prefer coding in C++ our training pages now support submission of programs written in C++ 2.0 or C++ 3.0. "
     ]
    }
   ],
   "source": [
    "A = input()\n",
    "A = A.replace(',', '') # strip(',') 안됨... why?\n",
    "A = A.split(' ')\n",
    "BC = input()\n",
    "BC = BC.split(' ')\n",
    "\n",
    "count = 0\n",
    "li = []\n",
    "for i in range(len(A)):\n",
    "    if A[i] == BC[0]:\n",
    "        count += 1\n",
    "        li.append(BC[1])\n",
    "    else:\n",
    "        li.append(A[i])\n",
    "        \n",
    "print(count)\n",
    "for i in range(len(li)):\n",
    "    print(li[i], end= ' ')\n",
    "        \n"
   ]
  },
  {
   "cell_type": "code",
   "execution_count": 3,
   "id": "a90b38d0-89ef-4f00-8825-c985cc5e1f77",
   "metadata": {
    "colab": {
     "base_uri": "https://localhost:8080/"
    },
    "executionInfo": {
     "elapsed": 3308,
     "status": "ok",
     "timestamp": 1669019470360,
     "user": {
      "displayName": "Miran Lee",
      "userId": "16443994696455740791"
     },
     "user_tz": -540
    },
    "id": "1KlA53l-Trk8",
    "outputId": "613468fd-99df-4c68-d0c0-4ba31f1878ea"
   },
   "outputs": [
    {
     "name": "stdout",
     "output_type": "stream",
     "text": [
      "2 3 5\n",
      "12.5\n"
     ]
    }
   ],
   "source": [
    "n1, n2, n3 = list(map(int, input().split(' ')))\n",
    "\n",
    "print((n1 + n2) * n3 / 2) "
   ]
  }
 ],
 "metadata": {
  "kernelspec": {
   "display_name": "Python 3 (ipykernel)",
   "language": "python",
   "name": "python3"
  },
  "language_info": {
   "codemirror_mode": {
    "name": "ipython",
    "version": 3
   },
   "file_extension": ".py",
   "mimetype": "text/x-python",
   "name": "python",
   "nbconvert_exporter": "python",
   "pygments_lexer": "ipython3",
   "version": "3.9.13"
  }
 },
 "nbformat": 4,
 "nbformat_minor": 5
}
