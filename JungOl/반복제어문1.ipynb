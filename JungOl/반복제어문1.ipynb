{
 "cells": [
  {
   "cell_type": "markdown",
   "id": "f1d42ddf-ed1f-4d86-9d62-364e5d3b7889",
   "metadata": {
    "id": "669fcc00-4adb-4056-9e05-e70eea507512"
   },
   "source": [
    "## <반복제어문1>"
   ]
  },
  {
   "cell_type": "markdown",
   "id": "04462c9c-64dd-46dc-94b3-af3e20751f4c",
   "metadata": {},
   "source": [
    "### 형성평가 1\n",
    "- 정수를 입력받아 1부터 입력받은 정수까지를 차례대로 출력하는 프로그램을 작성하시오."
   ]
  },
  {
   "cell_type": "code",
   "execution_count": 2,
   "id": "73cab7e1-3457-43fa-b868-b67f20048787",
   "metadata": {},
   "outputs": [
    {
     "name": "stdin",
     "output_type": "stream",
     "text": [
      " 5\n"
     ]
    },
    {
     "name": "stdout",
     "output_type": "stream",
     "text": [
      "1 2 3 4 5 "
     ]
    }
   ],
   "source": [
    "user_int = int(input())\n",
    "for i in range(user_int):\n",
    "    print(i+1, end = ' ')"
   ]
  },
  {
   "cell_type": "markdown",
   "id": "6029c12e-086d-43e9-9142-03688ca03e4e",
   "metadata": {},
   "source": [
    "### 형성평가 2\n",
    "- 정수를 입력 받다가 0이 입력되면 그 때까지 입력 받은 홀수의 개수와 짝수의 개수를 출력하는 프로그램을 작성하시오."
   ]
  },
  {
   "cell_type": "code",
   "execution_count": 7,
   "id": "231727ee-a406-473a-b796-285ab32f9f40",
   "metadata": {},
   "outputs": [
    {
     "name": "stdin",
     "output_type": "stream",
     "text": [
      " 5\n",
      " 1\n",
      " 3\n",
      " 4\n",
      " 9\n",
      " 13\n",
      " 18\n",
      " 0\n"
     ]
    },
    {
     "name": "stdout",
     "output_type": "stream",
     "text": [
      "odd : 5\n",
      "even : 2\n"
     ]
    }
   ],
   "source": [
    "odd = []\n",
    "even = []\n",
    "while True:\n",
    "    user = int(input())\n",
    "    if user == 0:\n",
    "        break\n",
    "    elif user % 2 == 1:\n",
    "        odd.append(user)\n",
    "    else:\n",
    "        even.append(user)\n",
    "\n",
    "print(f'odd : {len(odd)}' , f'even : {len(even)}', sep='\\n')"
   ]
  },
  {
   "cell_type": "code",
   "execution_count": 6,
   "id": "22f60376-2307-4f80-bfcb-4f15fa7fb5b7",
   "metadata": {},
   "outputs": [
    {
     "name": "stdin",
     "output_type": "stream",
     "text": [
      " 5\n",
      " 1\n",
      " 3\n",
      " 4\n",
      " 9\n",
      " 13\n",
      " 18\n",
      " 0\n"
     ]
    },
    {
     "name": "stdout",
     "output_type": "stream",
     "text": [
      "odd : 5\n",
      "even : 2\n"
     ]
    }
   ],
   "source": [
    "odd = []\n",
    "even = []\n",
    "while True:\n",
    "    user = int(input())\n",
    "    if user == 0:\n",
    "        break\n",
    "    elif user % 2 == 1:\n",
    "        odd.append(user)\n",
    "    else:\n",
    "        even.append(user)\n",
    "o = len(odd)\n",
    "e = len(even)\n",
    "print('odd : %d' % o, 'even : %d' % e, sep='\\n')"
   ]
  },
  {
   "cell_type": "markdown",
   "id": "4bad1166-ff6c-47d6-948e-87596bc87edc",
   "metadata": {},
   "source": [
    "### 형성평가 3\n",
    "- 0 부터 100 까지의 점수를 계속 입력 받다가 범위를 벗어나는 수가 입력되면 그 이전까지 입력된 자료의 합계와 평균을 출력하는 프로그램을 작성하시오.(평균은 반올림하여 소수 첫째 자리까지 출력한다.)​"
   ]
  },
  {
   "cell_type": "code",
   "execution_count": 12,
   "id": "989619ae-9f56-4021-a440-0bf3cf861ba5",
   "metadata": {},
   "outputs": [
    {
     "name": "stdin",
     "output_type": "stream",
     "text": [
      " 55\n",
      " 100\n",
      " 101\n"
     ]
    },
    {
     "name": "stdout",
     "output_type": "stream",
     "text": [
      "sum : 155\n",
      "avg : 77.5\n"
     ]
    }
   ],
   "source": [
    "scores = []\n",
    "total = 0\n",
    "while True:\n",
    "    score = int(input())\n",
    "    if 0 <= score <= 100:\n",
    "        scores.append(score)\n",
    "        total += score\n",
    "    else:\n",
    "        break\n",
    "\n",
    "print('sum : %d' % total, 'avg : %.1f' % (total/len(scores)), sep = '\\n') # % (total/len(scores)) >> 괄호 해주기!"
   ]
  },
  {
   "cell_type": "markdown",
   "id": "729272f1-6737-41b9-9378-89e3acf978aa",
   "metadata": {},
   "source": [
    "## 형성평가 4\n",
    "- 0 이 입력될 때까지 정수를 계속 입력 받아 3의 배수와 5의 배수를 제외한 수들의 개수를 출력하는 프로그램을 작성하시오."
   ]
  },
  {
   "cell_type": "code",
   "execution_count": 15,
   "id": "f9c8172d-2dc3-4e11-b41b-26fee2b663a5",
   "metadata": {},
   "outputs": [
    {
     "name": "stdin",
     "output_type": "stream",
     "text": [
      " 1\n",
      " 2\n",
      " 3\n",
      " 4\n",
      " 5\n",
      " 6\n",
      " 7\n",
      " 8\n",
      " 9\n",
      " 10\n",
      " 0\n"
     ]
    },
    {
     "name": "stdout",
     "output_type": "stream",
     "text": [
      "5\n"
     ]
    }
   ],
   "source": [
    "nums = []\n",
    "while True:\n",
    "    user = int(input())\n",
    "    if user == 0:\n",
    "        break\n",
    "    elif user % 3 == 0 or user % 5 == 0:\n",
    "        continue\n",
    "    else:\n",
    "        nums.append(user)\n",
    "print(len(nums))"
   ]
  },
  {
   "cell_type": "markdown",
   "id": "d5df2a24-e367-4026-abd2-bd35cd469b04",
   "metadata": {},
   "source": [
    "## 형성평가 5\n",
    "- 삼각형의 밑변의 길이와 높이를 입력 받아 넓이를 출력하고, \"Continue?\"에서 'Y'나 'y'를 입력하면 작업을 반복하고 다른 문자를 입력하면 종료하는 프로그램을 작성하시오. (넓이는 반올림하여 소수 첫째 자리까지 출력한다.)\n",
    "\n",
    "- 길이와 높이는 정수로 주어진다."
   ]
  },
  {
   "cell_type": "code",
   "execution_count": 16,
   "id": "b6ea8341-763f-4cbd-9777-bb0c62e6a674",
   "metadata": {},
   "outputs": [
    {
     "name": "stdin",
     "output_type": "stream",
     "text": [
      " 11\n",
      " 5\n"
     ]
    },
    {
     "name": "stdout",
     "output_type": "stream",
     "text": [
      "Width = 11\n",
      "Height = 5\n",
      "Trianlge Area = 27.5\n"
     ]
    },
    {
     "name": "stdin",
     "output_type": "stream",
     "text": [
      "Continue?  y\n",
      " 46\n",
      " 1\n"
     ]
    },
    {
     "name": "stdout",
     "output_type": "stream",
     "text": [
      "Width = 46\n",
      "Height = 1\n",
      "Trianlge Area = 23.0\n"
     ]
    },
    {
     "name": "stdin",
     "output_type": "stream",
     "text": [
      "Continue?  k\n"
     ]
    }
   ],
   "source": [
    "while True:\n",
    "    width = int(input())\n",
    "    height = int(input())\n",
    "    tri_area = width*height/2\n",
    "    \n",
    "    print('Width = %d' % width, 'Height = %d' % height, 'Trianlge Area = %.1f' % tri_area, sep = '\\n')\n",
    "    cont = input('Continue? ')\n",
    "    if cont == 'y' or cont == 'Y': # 미란언니 status.upper() == 'Y' 웨우.. 소문자 y여도 대문자로 바꿔서 비교해줌\n",
    "        continue\n",
    "    else:                   # while문 조건에 break 할 조건을 넣어주면 코드가 더 짧아짐!\n",
    "        break"
   ]
  }
 ],
 "metadata": {
  "kernelspec": {
   "display_name": "Python 3 (ipykernel)",
   "language": "python",
   "name": "python3"
  },
  "language_info": {
   "codemirror_mode": {
    "name": "ipython",
    "version": 3
   },
   "file_extension": ".py",
   "mimetype": "text/x-python",
   "name": "python",
   "nbconvert_exporter": "python",
   "pygments_lexer": "ipython3",
   "version": "3.9.13"
  }
 },
 "nbformat": 4,
 "nbformat_minor": 5
}
