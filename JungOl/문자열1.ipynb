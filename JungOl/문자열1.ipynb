{
 "cells": [
  {
   "cell_type": "markdown",
   "id": "14499ddb-b74b-4c8b-9a15-8ec852b64c35",
   "metadata": {
    "id": "b28009be-fac7-4257-893d-8f01a53d8b59",
    "tags": []
   },
   "source": [
    "# 정올 Jungol"
   ]
  },
  {
   "cell_type": "markdown",
   "id": "d3cea8aa-578d-401c-a647-0582512693d5",
   "metadata": {
    "id": "669fcc00-4adb-4056-9e05-e70eea507512"
   },
   "source": [
    "## <문자열1>"
   ]
  },
  {
   "cell_type": "markdown",
   "id": "587d5481-a1ef-4b7b-b44c-5cc176397117",
   "metadata": {
    "id": "013c8231-fa8f-4589-aa9d-2e6af53c9f6e"
   },
   "source": [
    "### 형성평가 1\n",
    "- 네 단어로 된 문장을 한 줄에 입력받아, 순서를 거꾸로 출력하는 프로그램을 작성하라."
   ]
  },
  {
   "cell_type": "code",
   "execution_count": null,
   "id": "b7c33c7c-0bb3-42d1-ba3f-e18358a10212",
   "metadata": {
    "id": "0dcd3e30-fe72-4f25-82f7-a3c631c1f1e1",
    "outputId": "d4c220dd-57d3-469f-a21d-083bad3ae27e"
   },
   "outputs": [
    {
     "name": "stdin",
     "output_type": "stream",
     "text": [
      "네 단어로 된 문장을 입력하세요: 가 나 다 라\n"
     ]
    },
    {
     "name": "stdout",
     "output_type": "stream",
     "text": [
      "<class 'list'>\n",
      "라 다 나 가 "
     ]
    }
   ],
   "source": [
    "user = input(\"네 단어로 된 문장을 입력하세요:\")\n",
    "word = user.split(\" \")\n",
    "# type(word) # list\n",
    "word.reverse()\n",
    "# word\n",
    "\n",
    "count = 0 # for문 바깥에서 초기화 해주기!!!! for문 안에 썼다가 애먹었다..\n",
    "\n",
    "for i in word:\n",
    "    print(word[count], end = ' ')\n",
    "    count+= 1"
   ]
  },
  {
   "cell_type": "code",
   "execution_count": null,
   "id": "4e5357d9-0d7b-4826-a247-3b346a7dbcc0",
   "metadata": {
    "id": "ab78cfec-0231-44d6-b7fa-e036e46305e5",
    "outputId": "57c1c54f-5414-4787-d538-113e6427c859"
   },
   "outputs": [
    {
     "name": "stdin",
     "output_type": "stream",
     "text": [
      " a b 나 sms\n"
     ]
    },
    {
     "name": "stdout",
     "output_type": "stream",
     "text": [
      "sms 나 b a "
     ]
    }
   ],
   "source": [
    "# 정답\n",
    "\n",
    "user = input() # 예시 입력, 출력이랑 똑같이 나와야 함)\n",
    "word = user.split(\" \")\n",
    "# type(word) # list\n",
    "word.reverse()\n",
    "# word\n",
    "\n",
    "count = 0 \n",
    "\n",
    "for i in word:\n",
    "    print(word[count], end = ' ')\n",
    "    count+= 1"
   ]
  },
  {
   "cell_type": "markdown",
   "id": "b0f4ba67-2dae-4db0-976d-bf4220fe390b",
   "metadata": {
    "id": "e2b1a515-8a23-455c-9620-12cbd8524429"
   },
   "source": [
    "### 형성평가 2\n",
    "- 사다리꼴의 밑변, 윗변, 높이의 길이를 순서대로 한 줄에 입력받아, 사다리꼴의 넓이를 출력하는 프로그램을 작성하라. \n",
    "\n",
    "> (사다리꼴의 넓이 = ( (밑변) + (윗변) ) × (높이) ) / 2 )"
   ]
  },
  {
   "cell_type": "code",
   "execution_count": null,
   "id": "a701b4c3-b355-4366-bc2a-7f5506c8d1b1",
   "metadata": {
    "id": "1e3d4be7-84f7-41bd-b285-3c945043ca6a",
    "outputId": "73439ca4-5ee2-431c-88ee-acb63d0b4eef"
   },
   "outputs": [
    {
     "name": "stdin",
     "output_type": "stream",
     "text": [
      " 2 3 6\n"
     ]
    },
    {
     "name": "stdout",
     "output_type": "stream",
     "text": [
      "15.0\n"
     ]
    }
   ],
   "source": [
    "user = input()\n",
    "li = user.split(\" \")\n",
    "base = int(li[0])\n",
    "upper_side = int(li[1])\n",
    "height = int(li[2])\n",
    "\n",
    "print( (base + upper_side) * height / 2)"
   ]
  },
  {
   "cell_type": "markdown",
   "id": "0f5ee44f-49ee-4ea7-b00c-bd8f9b27e356",
   "metadata": {
    "id": "0dabe00c-2cdf-42d1-a22c-29ccb4a8b21c"
   },
   "source": [
    "### 형성평가 3 \n",
    "- 네 문자열을 입력 받아 다음 형식으로 출력하는 프로그램을 작성하라..\n",
    "- 서식 문자를 이용한다.\n",
    "> 예) out = \"%s: %s\"\n",
    "- <span style=\"color:red\">문제이해x</span>- 예시 잘 읽으면 O"
   ]
  },
  {
   "cell_type": "code",
   "execution_count": null,
   "id": "678b5de2-f88d-4a83-89cb-a935531c6faa",
   "metadata": {
    "id": "de791d2f-85fb-4d05-a1a4-33c0f93805c0",
    "outputId": "7a1b3485-d6cc-4609-a1b8-5b6346bf0a7f"
   },
   "outputs": [
    {
     "name": "stdin",
     "output_type": "stream",
     "text": [
      " sk sms dms rud\n"
     ]
    },
    {
     "name": "stdout",
     "output_type": "stream",
     "text": [
      "sk: sms dms: rud\n"
     ]
    }
   ],
   "source": [
    "# 자꾸 런타임에러 떴었음...우이씌..ㅜ 그래도 이제 맞음!\n",
    "li = []\n",
    "\n",
    "for i in range(4):\n",
    "    user = input()\n",
    "    # li = user.split(\" \") # li 리스트에 담김/ 굳이 빈 list 위에 만들어줄 필요x\n",
    "    li.append(user)\n",
    "\n",
    "print('%s: %s\\n' %(li[0], li[1]) + '%s: %s' %(li[2], li[3]))\n"
   ]
  },
  {
   "cell_type": "markdown",
   "id": "870a59c4-8582-4694-b06a-228fd0d1233c",
   "metadata": {
    "id": "19fec9ff-e449-4082-adac-cd0c25219d11"
   },
   "source": [
    "### 형성평가 4\n",
    "\n",
    "- 다음과 같이 LB(파운드)단위로 입력된 몸무게를 KG(킬로그램)단위로 바꾸는 프로그램을 작성하라.\n",
    "\n",
    "- 모든 실수(소수)는 소수점 두 번째 자리에서 반올림하여 소수점  한자리까지 출력한다.\n",
    "\n",
    "> (1LB = 0.45KG이다. 또한 \"LB? \"는 입력 전 물어보는 문장이다.) "
   ]
  },
  {
   "cell_type": "code",
   "execution_count": null,
   "id": "c6778f82-6d2f-4152-9aec-ed027e433e61",
   "metadata": {
    "id": "f9fe6b93-56bb-4ebb-8dbd-f4f0aafdb0ab",
    "outputId": "53dd94cb-d1fb-4517-967b-8b9cbe733531"
   },
   "outputs": [
    {
     "name": "stdin",
     "output_type": "stream",
     "text": [
      "LB? 65.73\n"
     ]
    },
    {
     "name": "stdout",
     "output_type": "stream",
     "text": [
      "65.7LB is 29.6KG.\n"
     ]
    }
   ],
   "source": [
    "lb = input(\"LB? \") # 이놈의 띄어쓰기......!!!!!!!\n",
    "lb_to_kg = float(lb) * 0.45\n",
    "lb = round(float(lb), 1)\n",
    "lb_to_kg = round(lb_to_kg,1)\n",
    "print(\"%.1fLB is %.1fKG.\" % (lb, lb_to_kg))"
   ]
  },
  {
   "cell_type": "markdown",
   "id": "3365555f-bdd7-4e6e-b398-aa65e23dc6b5",
   "metadata": {
    "id": "d6989941-c010-4d93-98b5-95537bc2719c"
   },
   "source": [
    "### 형성평가 5\n",
    "- 이름과 키, 몸무게를 입력 받아 서식 문자를 사용하여 다음과 같이 출력하는 프로그램을 작성하라.\n",
    "> ex. 창호 170 68.47 >> 창호의 키는 170cm이며, 몸무게는 68.5kg입니다."
   ]
  },
  {
   "cell_type": "code",
   "execution_count": null,
   "id": "07c266e5-4d05-4610-843e-0be56ba15b69",
   "metadata": {
    "id": "a50ae8b9-fb3e-4eb3-9e91-be8d238c9f1e",
    "outputId": "99239213-99ec-4f77-b993-03d0a853ee18"
   },
   "outputs": [
    {
     "name": "stdin",
     "output_type": "stream",
     "text": [
      "이름, 키, 몸무게를 순서대로 입력하세요(띄어쓰기로 구분해 입력하세요 ex. 창호 170 68.47): 창호 170 68.47\n"
     ]
    },
    {
     "name": "stdout",
     "output_type": "stream",
     "text": [
      "창호의 키는 170cm이며, 몸무게는 68.5kg입니다.\n"
     ]
    }
   ],
   "source": [
    "user = input()\n",
    "# user # 전체가 string임('창호 170 68.47'), 리스트x\n",
    "\n",
    "info = user.split(' ')\n",
    "# print(info)\n",
    "# type(info)\n",
    "h = float(info[2]) # height / height = int(s) # 들어온 수가 int가 아니라서 ValueError >> float으로 해줘야 함(68.47)\n",
    "round_h = round(h,1) # 소수점 1의 자리까지 반올림\n",
    "\n",
    "print(\"%s의 키는 %scm이며, 몸무게는 %skg입니다.\" %(info[0],info[1],round_h))"
   ]
  }
 ],
 "metadata": {
  "kernelspec": {
   "display_name": "Python 3 (ipykernel)",
   "language": "python",
   "name": "python3"
  },
  "language_info": {
   "codemirror_mode": {
    "name": "ipython",
    "version": 3
   },
   "file_extension": ".py",
   "mimetype": "text/x-python",
   "name": "python",
   "nbconvert_exporter": "python",
   "pygments_lexer": "ipython3",
   "version": "3.9.13"
  }
 },
 "nbformat": 4,
 "nbformat_minor": 5
}
