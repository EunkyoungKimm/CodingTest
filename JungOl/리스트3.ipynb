{
 "cells": [
  {
   "cell_type": "markdown",
   "id": "156d612a-e0bd-4436-9ccd-6a215796abb5",
   "metadata": {
    "id": "e70d5dfc-0534-41c8-b098-ed51124063b0",
    "tags": []
   },
   "source": [
    "## <리스트3>"
   ]
  },
  {
   "cell_type": "markdown",
   "id": "d5d93057-095b-444d-9412-ae60ed97e18e",
   "metadata": {
    "id": "64bc7774-6092-4e19-bfab-413727dbd58b",
    "tags": []
   },
   "source": [
    "### 형성평가 1\n",
    "- 리스트 내포를 이용하여 1번부터 입력받은 숫자까지의 숫자에 \"No.\"를 붙인 문자열을 원소로 하는 리스트를 만들어 출력하시오."
   ]
  },
  {
   "cell_type": "markdown",
   "id": "d1e6c32a-3d62-4767-8304-a2df0373cfc9",
   "metadata": {},
   "source": [
    "> 리스트 내포(List Comprehension): 파이썬에서 for문과 if문을 한 라인에 작성하여 코드를 직관적으로 만들고, 실행속도를 높여주는 기법.\n",
    "\n",
    "- 리스트 명 = [표현식 for 변수 in 반복 가능한 대상]\n",
    "\n",
    "- 리스트 명 = [표현식 for 변수 in 반복 가능한 대상 if 조건문]\n",
    "- 리스트 명 = [표현식 if 조건문 else 표현식 for 변수 in 반복 가능한 대상]\n",
    "\n",
    "- 리스트 명 = [표현식 (바깥)for 변수 in 반복 가능한 대상 (안쪽)for 변수 in 반복 가능 대상]"
   ]
  },
  {
   "cell_type": "code",
   "execution_count": 17,
   "id": "6258f7cc-3293-4cc7-bf76-04b51077c13d",
   "metadata": {},
   "outputs": [
    {
     "name": "stdin",
     "output_type": "stream",
     "text": [
      " 5\n"
     ]
    },
    {
     "data": {
      "text/plain": [
       "['No.1', 'No.2', 'No.3', 'No.4', 'No.5']"
      ]
     },
     "execution_count": 17,
     "metadata": {},
     "output_type": "execute_result"
    }
   ],
   "source": [
    "result = ['No.%d' % (int(num)+1) for num in range(int(input()))] # (int(num)+1) 전체 관호 안해주면 자꾸 error뜸.\n",
    "result"
   ]
  },
  {
   "cell_type": "markdown",
   "id": "88e0e94b-6160-42de-9371-9905af118753",
   "metadata": {
    "id": "64bc7774-6092-4e19-bfab-413727dbd58b",
    "tags": []
   },
   "source": [
    "### 형성평가 2\n",
    "- 리스트의 크기와 정수를 입력 받아 다음 규칙을 만족하는 리스트를 리스트 내포를 이용하여 만들어 출력하시오. \n",
    "- **규칙: 인덱스가 입력받은 정수의 배수이면 True, 아니면 False**\n",
    "- 0은 모든 정수의 배수이다."
   ]
  },
  {
   "cell_type": "code",
   "execution_count": 21,
   "id": "4b6862c5-42a6-4b85-ba3a-597ef90c3ce7",
   "metadata": {},
   "outputs": [
    {
     "name": "stdin",
     "output_type": "stream",
     "text": [
      " 11 3\n"
     ]
    },
    {
     "data": {
      "text/plain": [
       "[True, False, False, True, False, False, True, False, False, True, False]"
      ]
     },
     "execution_count": 21,
     "metadata": {},
     "output_type": "execute_result"
    }
   ],
   "source": [
    "li, num = input().split(' ')\n",
    "result = [True if i%int(num)==0 else False for i in range(int(li))]\n",
    "result"
   ]
  },
  {
   "cell_type": "markdown",
   "id": "c4f5f592-24d0-463b-87fb-bead82107036",
   "metadata": {
    "id": "64bc7774-6092-4e19-bfab-413727dbd58b",
    "tags": []
   },
   "source": [
    "### 형성평가 3\n",
    "- 가람이는 주사위 놀이를 하다가 주사위를 10번 던져서 각 숫자가 몇 번씩 나왔는지 알아보려고 한다. 한번 던질 때마다 나온 주사위의 숫자를 입력받아서 숫자가 몇 번씩 나왔는지 출력하는 프로그램을 작성하시오. "
   ]
  },
  {
   "cell_type": "code",
   "execution_count": 22,
   "id": "03c34eda-e574-45b0-b124-13e0d69214a4",
   "metadata": {},
   "outputs": [
    {
     "name": "stdin",
     "output_type": "stream",
     "text": [
      " 5 6 3 4 5 5 2 2 4 6\n"
     ]
    },
    {
     "name": "stdout",
     "output_type": "stream",
     "text": [
      "1 : 0\n",
      "2 : 2\n",
      "3 : 1\n",
      "4 : 2\n",
      "5 : 3\n",
      "6 : 2\n"
     ]
    }
   ],
   "source": [
    "dice10 = input().split(' ')\n",
    "num = 1\n",
    "for i in range(6):\n",
    "    a = dice10.count(str(num))\n",
    "    print('%d : %d' % (num,a))\n",
    "    num += 1"
   ]
  },
  {
   "cell_type": "markdown",
   "id": "79764f59-5016-432d-8262-d372b11f9297",
   "metadata": {
    "id": "64bc7774-6092-4e19-bfab-413727dbd58b",
    "tags": []
   },
   "source": [
    "### 형성평가 4\n",
    "- 학생들의 점수를 입력받아서 입력받은 점수를 10점 단위로 구분하여 점수대 별 학생 수를 출력하는 프로그램을 작성하시오. (1명도 없는 점수는 출력하지 않는다.) \n",
    "- ***10으로 나눈 몫을 기준으로 리스트에 넣은 후 출력한다***"
   ]
  },
  {
   "cell_type": "markdown",
   "id": "fa62b275-c217-43e1-8dea-4a8e50d9e2f8",
   "metadata": {},
   "source": [
    "- for문으로 2차원 리스트 만들기\n",
    "- https://dojang.io/mod/page/view.php?id=2293"
   ]
  },
  {
   "cell_type": "code",
   "execution_count": null,
   "id": "f67d82b4-6071-44dc-8d9a-e1008c718447",
   "metadata": {},
   "outputs": [],
   "source": [
    "scores = input().split(' ')\n",
    "\n",
    "for score in scores:\n",
    "    "
   ]
  },
  {
   "cell_type": "markdown",
   "id": "e1c93ac4-54f8-418d-8f71-3271bf6e4447",
   "metadata": {
    "id": "64bc7774-6092-4e19-bfab-413727dbd58b",
    "tags": []
   },
   "source": [
    "### 형성평가 5\n",
    "- 10 미만의 자연수 두 개를 입력받아서 첫 번째 항과 두 번째 항을 입력받은 수로 초기화시킨 후 세번째 항부터는 전전항과 전항의 합을 구하여 그 합의 1의 자리로 채워서 차례로 10개를 출력하는 프로그램을 작성하시오. "
   ]
  },
  {
   "cell_type": "code",
   "execution_count": 5,
   "id": "940d846e-9f3a-4b41-9541-9b84dc2a0a71",
   "metadata": {},
   "outputs": [
    {
     "name": "stdin",
     "output_type": "stream",
     "text": [
      " 3 5\n"
     ]
    },
    {
     "name": "stdout",
     "output_type": "stream",
     "text": [
      "3 5 8 3 1 4 5 9 4 3 "
     ]
    }
   ],
   "source": [
    "nums = list(map(int, input().split())) # 드디어 map 썼다!!!\n",
    "while True:\n",
    "    if nums[0] >= 10 or nums[1] >= 10 or len(nums) == 10:\n",
    "        break\n",
    "    result = nums[-1] + nums[-2]\n",
    "    if result < 10:\n",
    "        nums.append(result)\n",
    "    else:\n",
    "        n = result - 10 # 10으로 나눈 것도 됨! (result % 10)\n",
    "        nums.append(n)\n",
    "for i in nums:                 # print(*nums) 한줄이면 됨!\n",
    "    print(i, end = ' ')\n",
    "\n",
    "        "
   ]
  },
  {
   "cell_type": "code",
   "execution_count": 4,
   "id": "37cc44ed-457c-4085-b68b-d0010cef07d8",
   "metadata": {},
   "outputs": [
    {
     "data": {
      "text/plain": [
       "[]"
      ]
     },
     "execution_count": 4,
     "metadata": {},
     "output_type": "execute_result"
    }
   ],
   "source": [
    "# 리스트 초기화, 몇개 생성\n",
    "a = [] * 10\n",
    "a"
   ]
  },
  {
   "cell_type": "markdown",
   "id": "327d4f37-5e2e-417e-9ec6-e8bdb258bfb8",
   "metadata": {
    "id": "64bc7774-6092-4e19-bfab-413727dbd58b",
    "tags": []
   },
   "source": [
    "### 형성평가 6\n",
    "- 4행 3열의 리스트를 생성하여 아래와 같이 초기화한 후 차례대로 출력하고 마지막 줄에 배열의 모든 값을 더한 결과를 출력하는 프로그램을 작성하시오. "
   ]
  },
  {
   "cell_type": "code",
   "execution_count": 14,
   "id": "c81a2b88-1a58-49a9-b67e-7f769ad09c22",
   "metadata": {},
   "outputs": [
    {
     "name": "stdout",
     "output_type": "stream",
     "text": [
      "3 5 9\n",
      "2 11 5\n",
      "8 30 10\n",
      "22 5 1\n",
      "111\n"
     ]
    }
   ],
   "source": [
    "l = [[3, 5, 9], \n",
    "\n",
    "    [2, 11, 5], \n",
    "\n",
    "    [8, 30, 10], \n",
    "\n",
    "    [22, 5, 1]] \n",
    "\n",
    "total_sum = 0\n",
    "\n",
    "for a, b, c in l:    # 2차원 리스트 요소 출력 - for문 1번 사용 해서..\n",
    "    print(a, b, c)\n",
    "for i in l:\n",
    "    total_i = sum(i) # list 안에 요소 다 더하기\n",
    "    total_sum += total_i\n",
    "    \n",
    "print(total_sum)"
   ]
  },
  {
   "cell_type": "code",
   "execution_count": 18,
   "id": "0758c563-06cf-4504-9008-1251caf74cf1",
   "metadata": {},
   "outputs": [
    {
     "name": "stdout",
     "output_type": "stream",
     "text": [
      "3 5 9 \n",
      "2 11 5 \n",
      "8 30 10 \n",
      "22 5 1 \n",
      "111\n"
     ]
    }
   ],
   "source": [
    "# 2차원 리스트 요소 출력 - for문 2번 사용 해서..\n",
    "\n",
    "l = [[3, 5, 9], \n",
    "\n",
    "    [2, 11, 5], \n",
    "\n",
    "    [8, 30, 10], \n",
    "\n",
    "    [22, 5, 1]] \n",
    "\n",
    "total_sum = 0\n",
    "for i in l:\n",
    "    total_i = sum(i) \n",
    "    total_sum += total_i\n",
    "    for j in i:\n",
    "        print(j, end = ' ')        # 여기 안에서 더해주면 합계 더 간단하게 sum 함수 안써도 구할 수 있음!\n",
    "    print() # 얘가 행 구분해줌\n",
    "print(total_sum)"
   ]
  },
  {
   "cell_type": "markdown",
   "id": "1d0d20cd-0500-440b-b4aa-cafca06aa561",
   "metadata": {},
   "source": [
    "- 예원언니꺼!!!!! numpy!!!!\n",
    "- 리스트를 ndarray로 만드는거!!"
   ]
  },
  {
   "cell_type": "markdown",
   "id": "e99bce98-491b-40b2-b185-dc380d068774",
   "metadata": {
    "id": "64bc7774-6092-4e19-bfab-413727dbd58b",
    "tags": []
   },
   "source": [
    "### 형성평가 7\n",
    "- 호석이네 학교는 6학년에 네 반이 있는데 각 반의 대표를 세 명씩 선발하여 제기차기 시합을 하였다. 반별로 세 명이 제기를 찬 개수를 입력받아 각 반별로 제기를 찬 개수의 합계를 출력하는 프로그램을 작성하시오."
   ]
  },
  {
   "cell_type": "code",
   "execution_count": 26,
   "id": "6fe6c1d9-7596-4846-901c-37c107c64a2f",
   "metadata": {},
   "outputs": [
    {
     "name": "stdin",
     "output_type": "stream",
     "text": [
      "1class?  1 2 3\n",
      "2class?  4 5 6\n",
      "3class?  1 2 3\n",
      "4class?  4 5 6\n"
     ]
    },
    {
     "name": "stdout",
     "output_type": "stream",
     "text": [
      "1class : 6\n",
      "1class : 15\n",
      "1class : 6\n",
      "1class : 15\n"
     ]
    }
   ],
   "source": [
    "# 변수 이름을 너무 대충 지었당...급하다 급해!!!\n",
    "\n",
    "while True:\n",
    "    scores_lst = []\n",
    "    for i in range(4): # range(1,5) 로 했으면 i+=1 할필요 없었음!!!!!!!\n",
    "        i += 1\n",
    "        scores = list(map(int, input(f'{i}class? ').split()))\n",
    "        sum_scores = sum(scores)                 # scores_lst.append(sum(scores)) 하면 한번에 됨!!!!!!!!!!!!\n",
    "        scores_lst.append(sum_scores)\n",
    "    for s in scores_lst:\n",
    "        c =1\n",
    "        print(f'{c}class : {s}')\n",
    "        c += 1\n",
    "       \n",
    "    break"
   ]
  },
  {
   "cell_type": "markdown",
   "id": "89b66f80-dd2c-402d-8d6a-a7eb3f787d5e",
   "metadata": {
    "id": "64bc7774-6092-4e19-bfab-413727dbd58b",
    "tags": []
   },
   "source": [
    "### 형성평가 8\n",
    "- 2차원 리스트를 생성하여 1행의 1열과 3열, 5열을 각각 1로 나머지는 모두 0으로 초기화한 후 2행부\n",
    "터는 바로 전행의 왼쪽과 오른쪽의 값을 더하여 채운 후 출력하는 프로그램을 작성하시오. "
   ]
  },
  {
   "cell_type": "code",
   "execution_count": null,
   "id": "658ecbf8-63d4-484d-86f3-cccf239eac90",
   "metadata": {},
   "outputs": [],
   "source": [
    "np.zeros((3,2)) # 0으로 채워진 3x2 크기 행렬"
   ]
  },
  {
   "cell_type": "code",
   "execution_count": 34,
   "id": "fa4c5dca-41a7-4491-b694-24757cafacf1",
   "metadata": {},
   "outputs": [
    {
     "data": {
      "text/plain": [
       "array([[0., 0., 0., 0., 0.],\n",
       "       [0., 0., 0., 0., 0.],\n",
       "       [0., 0., 0., 0., 0.],\n",
       "       [0., 0., 0., 0., 0.],\n",
       "       [0., 0., 0., 0., 0.]])"
      ]
     },
     "execution_count": 34,
     "metadata": {},
     "output_type": "execute_result"
    }
   ],
   "source": [
    "import numpy as np\n",
    "a = np.zeros((5,5))\n",
    "a"
   ]
  },
  {
   "cell_type": "markdown",
   "id": "899460e5-e3a6-432d-a2b5-468a5d9f7ce4",
   "metadata": {
    "id": "64bc7774-6092-4e19-bfab-413727dbd58b",
    "tags": []
   },
   "source": [
    "### 형성평가 9\n",
    "- 2행 3열 리스트 두 개에 각각의 값을 입력 받은 후 두 배열의 같은 위치끼리 곱하여 새로운 리스트에 저장한 후 출력하는 프로그램을 작성하시오. "
   ]
  },
  {
   "cell_type": "code",
   "execution_count": 5,
   "id": "6fda721a-e87e-4d3c-94c1-4cdd23a1615d",
   "metadata": {},
   "outputs": [
    {
     "name": "stdout",
     "output_type": "stream",
     "text": [
      "first array\n"
     ]
    },
    {
     "name": "stdin",
     "output_type": "stream",
     "text": [
      " 1 3 8\n",
      " 8 5 2\n"
     ]
    },
    {
     "name": "stdout",
     "output_type": "stream",
     "text": [
      "second array\n"
     ]
    },
    {
     "name": "stdin",
     "output_type": "stream",
     "text": [
      " 9 8 7\n",
      " 6 5 4\n"
     ]
    },
    {
     "data": {
      "text/plain": [
       "array([[ 9, 24, 56],\n",
       "       [48, 25,  8]])"
      ]
     },
     "execution_count": 5,
     "metadata": {},
     "output_type": "execute_result"
    }
   ],
   "source": [
    "import numpy as np\n",
    "\n",
    "print('first array')\n",
    "lst1 = []\n",
    "a1 = list(map(int, input().split()))\n",
    "b1 = list(map(int, input().split()))\n",
    "lst1.append(a1)\n",
    "lst1.append(b1)\n",
    "print('second array')\n",
    "lst2 = []\n",
    "a2 = list(map(int, input().split()))\n",
    "b2 = list(map(int, input().split()))\n",
    "lst2.append(a2)\n",
    "lst2.append(b2)\n",
    "\n",
    "result = np.multiply(lst1,lst2)     # numpy 썼다!!!!!!!!!!\n",
    "# for i in result:\n",
    "#     for j in i:\n",
    "#         print(j, end = ' ')\n",
    "#     print()\n",
    "\n",
    "result"
   ]
  },
  {
   "cell_type": "code",
   "execution_count": null,
   "id": "aadcd9d1-9708-4c0f-b394-a4b2c9a9297d",
   "metadata": {},
   "outputs": [],
   "source": [
    "x = np.array([[3,4],[5,6]])\n",
    "y = np.array([[1,2],[2,1]])"
   ]
  },
  {
   "cell_type": "code",
   "execution_count": null,
   "id": "a817874a-b23c-4914-a86d-f3af2a87b1c7",
   "metadata": {},
   "outputs": [],
   "source": [
    "# 2x3 배열 reshape? 으로 생성후 input값을 넣어주고, 곱해주면 될 듯"
   ]
  },
  {
   "cell_type": "code",
   "execution_count": null,
   "id": "10f18386-7196-4222-9577-bba3ece87b11",
   "metadata": {},
   "outputs": [],
   "source": [
    "x = np.arange(12).reshape(3, 4) # 12크기의 3x4\n",
    "print(x)"
   ]
  },
  {
   "cell_type": "code",
   "execution_count": null,
   "id": "4cfec179-4336-4df3-ba07-dbf617ca5afe",
   "metadata": {},
   "outputs": [],
   "source": [
    "print(np.multiply(x, y))"
   ]
  },
  {
   "cell_type": "markdown",
   "id": "cb62121c-2b64-46ce-9f98-36d201ba8319",
   "metadata": {
    "id": "64bc7774-6092-4e19-bfab-413727dbd58b",
    "tags": []
   },
   "source": [
    "### 형성평가 10\n",
    "- 4행 2열의 리스트를 입력받아 첫 번째 줄에는 가로평균, 두 번째 줄에는 세로평균 그리고 세 번째 줄에는 전체평균을 출력하는 프로그램을 작성하시오. (소수점 이하는 버림 한다.)"
   ]
  },
  {
   "cell_type": "code",
   "execution_count": 49,
   "id": "fde4a0cb-8de8-49b2-98af-89a8e7dbb462",
   "metadata": {
    "collapsed": true,
    "jupyter": {
     "outputs_hidden": true
    },
    "tags": []
   },
   "outputs": [
    {
     "name": "stdin",
     "output_type": "stream",
     "text": [
      " 1 3\n",
      " 4 6\n",
      " 7 9\n",
      " 1 5\n"
     ]
    },
    {
     "ename": "AttributeError",
     "evalue": "module 'numpy' has no attribute 'lst'",
     "output_type": "error",
     "traceback": [
      "\u001b[1;31m---------------------------------------------------------------------------\u001b[0m",
      "\u001b[1;31mAttributeError\u001b[0m                            Traceback (most recent call last)",
      "Cell \u001b[1;32mIn [49], line 13\u001b[0m\n\u001b[0;32m      7\u001b[0m     lst\u001b[38;5;241m.\u001b[39mappend(scores)\n\u001b[0;32m      9\u001b[0m \u001b[38;5;66;03m# print(lst)\u001b[39;00m\n\u001b[0;32m     10\u001b[0m \n\u001b[0;32m     11\u001b[0m \u001b[38;5;66;03m# lst.size # 8 # 안됨.. lst가 ndarray가 아님\u001b[39;00m\n\u001b[1;32m---> 13\u001b[0m x \u001b[38;5;241m=\u001b[39m \u001b[43mnp\u001b[49m\u001b[38;5;241;43m.\u001b[39;49m\u001b[43mlst\u001b[49m\u001b[38;5;241m.\u001b[39mreshape(\u001b[38;5;241m4\u001b[39m,\u001b[38;5;241m2\u001b[39m)\n",
      "File \u001b[1;32m~\\.venv\\Second_Day\\lib\\site-packages\\numpy\\__init__.py:311\u001b[0m, in \u001b[0;36m__getattr__\u001b[1;34m(attr)\u001b[0m\n\u001b[0;32m    308\u001b[0m     \u001b[38;5;28;01mfrom\u001b[39;00m \u001b[38;5;21;01m.\u001b[39;00m\u001b[38;5;21;01mtesting\u001b[39;00m \u001b[38;5;28;01mimport\u001b[39;00m Tester\n\u001b[0;32m    309\u001b[0m     \u001b[38;5;28;01mreturn\u001b[39;00m Tester\n\u001b[1;32m--> 311\u001b[0m \u001b[38;5;28;01mraise\u001b[39;00m \u001b[38;5;167;01mAttributeError\u001b[39;00m(\u001b[38;5;124m\"\u001b[39m\u001b[38;5;124mmodule \u001b[39m\u001b[38;5;132;01m{!r}\u001b[39;00m\u001b[38;5;124m has no attribute \u001b[39m\u001b[38;5;124m\"\u001b[39m\n\u001b[0;32m    312\u001b[0m                      \u001b[38;5;124m\"\u001b[39m\u001b[38;5;132;01m{!r}\u001b[39;00m\u001b[38;5;124m\"\u001b[39m\u001b[38;5;241m.\u001b[39mformat(\u001b[38;5;18m__name__\u001b[39m, attr))\n",
      "\u001b[1;31mAttributeError\u001b[0m: module 'numpy' has no attribute 'lst'"
     ]
    }
   ],
   "source": [
    "import numpy as np\n",
    "# x = np.ndarray(shape=(4,2))\n",
    "\n",
    "lst = []\n",
    "for i in range(4):\n",
    "    scores = list(map(int, input().split()))\n",
    "    lst.append(scores)\n",
    "\n",
    "# print(lst)\n",
    "\n",
    "# lst.size # 8 # 안됨.. lst가 ndarray가 아님\n",
    "\n",
    "# x = np.lst.reshape(4,2) # 응 안돼..\n",
    "row_avg = 0\n",
    "col_avg = 0\n",
    "total_avg = 0\n",
    "for j in range(len(lst)):\n",
    "    sum_lst = sum(lst[j])\n",
    "    print(sum_lst, end = ' ')\n",
    "print()\n",
    "\n",
    "    \n"
   ]
  },
  {
   "cell_type": "code",
   "execution_count": 53,
   "id": "ade8aeae-051c-424a-90ed-72becff3643b",
   "metadata": {
    "tags": []
   },
   "outputs": [
    {
     "name": "stdin",
     "output_type": "stream",
     "text": [
      " 1 3\n",
      " 4 6\n",
      " 7 9\n",
      " 1 9\n"
     ]
    },
    {
     "name": "stdout",
     "output_type": "stream",
     "text": [
      "[ 4 10 16 10]\n"
     ]
    },
    {
     "data": {
      "text/plain": [
       "array([13, 27])"
      ]
     },
     "execution_count": 53,
     "metadata": {},
     "output_type": "execute_result"
    }
   ],
   "source": [
    "import numpy as np\n",
    "# x = np.ndarray(shape=(4,2))\n",
    "\n",
    "lst = []\n",
    "for i in range(4):\n",
    "    scores = list(map(int, input().split()))\n",
    "    lst.append(scores)\n",
    "print(np.sum(lst, axis=1))\n",
    "np.sum(lst, axis=0)"
   ]
  }
 ],
 "metadata": {
  "kernelspec": {
   "display_name": "Python 3 (ipykernel)",
   "language": "python",
   "name": "python3"
  },
  "language_info": {
   "codemirror_mode": {
    "name": "ipython",
    "version": 3
   },
   "file_extension": ".py",
   "mimetype": "text/x-python",
   "name": "python",
   "nbconvert_exporter": "python",
   "pygments_lexer": "ipython3",
   "version": "3.9.13"
  }
 },
 "nbformat": 4,
 "nbformat_minor": 5
}
