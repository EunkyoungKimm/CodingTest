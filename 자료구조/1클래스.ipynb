{
 "cells": [
  {
   "cell_type": "markdown",
   "id": "6320597d-c94d-4873-a215-b0a0b83f58d6",
   "metadata": {},
   "source": [
    "- https://www.youtube.com/watch?v=uIcK7-YU8uA"
   ]
  },
  {
   "cell_type": "markdown",
   "id": "9f39497b-efdf-4947-959c-88fe09e121f8",
   "metadata": {},
   "source": [
    "# 클래스\n",
    "\n",
    "- 클래스는 '자기소개서'다!\n",
    "- 클래스를 쓰면 변수명을 일일히 다 구분해줄 필요x\n",
    "    - name_1, name_2, name_3  >>  a.name, b.name, c.name\n",
    "    - a, b, c라는 객체(인스턴스) 안에 그 객체의 name, age, religion 등의 내용이 다 들어가 있음.\n",
    "    - 변수가 3, 6, 9.... 로 늘어나는걸 클래스로 하면 객체 안에 정보 다 넣어주니까 확 줄일 수 있다!!\n",
    "    - ex. class Jss / a = JSS(),  b = JSS(), c = JSS()"
   ]
  },
  {
   "cell_type": "markdown",
   "id": "8ea848e9-ddbf-4d4b-88d7-70567ef926b0",
   "metadata": {},
   "source": [
    "## 1. __init__ 함수\n",
    "- 클래스를 선언하는 순간 실행되는 함수"
   ]
  },
  {
   "cell_type": "code",
   "execution_count": 1,
   "id": "85339da4-a721-4544-ad28-54c51891a789",
   "metadata": {},
   "outputs": [],
   "source": [
    "# JSS 클래스 선언\n",
    "class JSS:\n",
    "    def __init__(self):\n",
    "        self.name = input('이름:')\n",
    "        self.age = input('나이')"
   ]
  },
  {
   "cell_type": "code",
   "execution_count": 2,
   "id": "93be6cb3-1ea7-40c9-a91d-356b0b01375e",
   "metadata": {},
   "outputs": [
    {
     "name": "stdin",
     "output_type": "stream",
     "text": [
      "이름: 김은경\n",
      "나이 26\n"
     ]
    }
   ],
   "source": [
    "a = JSS() # 위에 JSS클래스를 만들고, 이 코드를 실행하면 __init__함수 안의 내용 실행!"
   ]
  },
  {
   "cell_type": "code",
   "execution_count": null,
   "id": "e40c851e-31df-46cf-b3ee-a7641684090b",
   "metadata": {},
   "outputs": [],
   "source": []
  },
  {
   "cell_type": "code",
   "execution_count": null,
   "id": "92662073-a0a8-4a28-a865-e1a3df7a053e",
   "metadata": {},
   "outputs": [],
   "source": []
  },
  {
   "cell_type": "code",
   "execution_count": null,
   "id": "e300e612-d8b1-4805-8d0c-45e44ca3064a",
   "metadata": {},
   "outputs": [],
   "source": []
  },
  {
   "cell_type": "code",
   "execution_count": 3,
   "id": "0028ff8a-9cf0-4c28-8933-baf4e6180c2e",
   "metadata": {},
   "outputs": [],
   "source": [
    "class CLS:\n",
    "    def __init__(self):\n",
    "        print(\"CLS 클래스 선언!\")"
   ]
  },
  {
   "cell_type": "code",
   "execution_count": 4,
   "id": "e8bce30c-b9e8-4eea-aa5f-888e7eda058a",
   "metadata": {},
   "outputs": [
    {
     "name": "stdout",
     "output_type": "stream",
     "text": [
      "CLS 클래스 선언!\n"
     ]
    }
   ],
   "source": [
    "a = CLS() # 만들자 마자 init함수 실행됨"
   ]
  },
  {
   "cell_type": "code",
   "execution_count": 6,
   "id": "88af11c8-539f-4053-a1a8-4de16edd5ce7",
   "metadata": {},
   "outputs": [],
   "source": [
    "class CLS:\n",
    "    def __init__(self):\n",
    "        print(\"CLS 클래스 선언!\")\n",
    "    def show(self):\n",
    "        print(\"show 실행!\")"
   ]
  },
  {
   "cell_type": "code",
   "execution_count": 7,
   "id": "c8b4f3aa-7bdc-4e02-a47a-da927b103b15",
   "metadata": {},
   "outputs": [
    {
     "name": "stdout",
     "output_type": "stream",
     "text": [
      "CLS 클래스 선언!\n"
     ]
    }
   ],
   "source": [
    "a = CLS() # init안에 있는 것만 실행/ init함수는 만드는 순간 실행되는! 함수임"
   ]
  },
  {
   "cell_type": "code",
   "execution_count": 8,
   "id": "ee4a4332-064e-477e-a2cb-47061489181a",
   "metadata": {
    "tags": []
   },
   "outputs": [
    {
     "name": "stdout",
     "output_type": "stream",
     "text": [
      "show 실행!\n"
     ]
    }
   ],
   "source": [
    "a.show() # init함수가 아닌 함수는 만들어진 클래스 변수 뒤에 '.함수' 를 붙여야 실행이 됨."
   ]
  },
  {
   "cell_type": "code",
   "execution_count": null,
   "id": "19ff5862-d671-4b20-bc4b-551556608b73",
   "metadata": {},
   "outputs": [],
   "source": []
  },
  {
   "cell_type": "code",
   "execution_count": null,
   "id": "9fc33175-7a37-4235-ba10-0481c681951c",
   "metadata": {},
   "outputs": [],
   "source": []
  },
  {
   "cell_type": "code",
   "execution_count": null,
   "id": "da73016d-1505-48fc-af15-f4994a26451d",
   "metadata": {},
   "outputs": [],
   "source": []
  },
  {
   "cell_type": "markdown",
   "id": "a3f29c29-387c-415f-b0f2-a781c63dfd4d",
   "metadata": {},
   "source": [
    "## 2. self\n",
    "- 클래스를 저장할 변수\n",
    "\n",
    "```python\n",
    "class JSS:\n",
    "    def show(self): # show함수 괄호 안에 self를 넣는다는 것은\n",
    "```\n",
    "\n",
    "```python\n",
    "a = JSS() # a라는 변수에 JSS클래스를 할당했을 때\n",
    "a.show() # 이 형태로 쓰겠다!! 라는 것. / 괄호 비어있음(a자체가 self임! self 써줄 필요x)\n",
    "```"
   ]
  },
  {
   "cell_type": "code",
   "execution_count": null,
   "id": "5a1802a6-6d2d-4778-99b6-55023777419d",
   "metadata": {},
   "outputs": [],
   "source": [
    "# 이미지"
   ]
  },
  {
   "cell_type": "code",
   "execution_count": null,
   "id": "f7aef681-abc3-485a-915e-fd17fb133307",
   "metadata": {},
   "outputs": [],
   "source": [
    "# 클래스를 만들때는 클래스가 어떻게 동작할지 생각하면서 만드는게 중요!\n",
    "a = JSS()\n",
    "a.name # 여기서 a는 클래스를 지칭하는 self에 해당한다(a.name = self.name)(init함수에 self.name 이런식으로 적어주기!)\n",
    "a.age\n",
    "a.show()"
   ]
  },
  {
   "cell_type": "code",
   "execution_count": 23,
   "id": "98a83216-8978-48f6-af18-a4467755bc28",
   "metadata": {},
   "outputs": [],
   "source": [
    "class JSS:\n",
    "    def __init__(self):\n",
    "        self.name = input('이름 : ') # self.\n",
    "        self.age = input('나이 : ')\n",
    "    def show(self):\n",
    "        print('나의 이름은 {}, 나이는 {}세입니다.'.format(self.name, self.age))"
   ]
  },
  {
   "cell_type": "code",
   "execution_count": 15,
   "id": "3293d893-7971-424d-aba8-8b52b1fd9448",
   "metadata": {},
   "outputs": [
    {
     "name": "stdin",
     "output_type": "stream",
     "text": [
      "이름: 김은경\n",
      "나이 26\n"
     ]
    }
   ],
   "source": [
    "a = JSS()"
   ]
  },
  {
   "cell_type": "code",
   "execution_count": 16,
   "id": "49c6ebbf-0ea1-4de9-a73a-09a7e6eb26e6",
   "metadata": {},
   "outputs": [
    {
     "data": {
      "text/plain": [
       "'김은경'"
      ]
     },
     "execution_count": 16,
     "metadata": {},
     "output_type": "execute_result"
    }
   ],
   "source": [
    "a.name"
   ]
  },
  {
   "cell_type": "code",
   "execution_count": 17,
   "id": "3d0e0263-acff-4dc1-adbe-ba9900659462",
   "metadata": {},
   "outputs": [
    {
     "name": "stdout",
     "output_type": "stream",
     "text": [
      "나의 이름은 김은경, 나이는 26세입니다.\n"
     ]
    }
   ],
   "source": [
    "a.show()"
   ]
  },
  {
   "cell_type": "code",
   "execution_count": null,
   "id": "43e55845-c917-44af-ba4b-f9be60508bba",
   "metadata": {},
   "outputs": [],
   "source": []
  },
  {
   "cell_type": "markdown",
   "id": "b88b8b29-c77a-4016-8991-daeaf36abe22",
   "metadata": {},
   "source": [
    "## 3. 상속\n",
    "\n",
    "- 양식 업데이트!! >> 클래스에서 '상속' 이라는 것을 사용!\n",
    "- JSS클래스 원본은 간직하고, 업데이트 버전을 새로 만드는 것이 혹시 모를일을 대비해서 good."
   ]
  },
  {
   "cell_type": "code",
   "execution_count": 22,
   "id": "17d395de-55f8-4eac-8578-b3f0052a8467",
   "metadata": {},
   "outputs": [],
   "source": [
    "class JSS2(JSS): # 상속받을 클래스 적어주기 > 괄호 필요!\n",
    "    def __init__(self):       # 성별에 해당하는 gender 변수가 추가되어야 하기 때문에 init함수를 새로 정의해줌 / 이렇게 선언하는 순간 JSS에 있던 init함수 내용은 사라지고 새로 덮어쓰게 됨! \n",
    "        super().__init__()    # 기존의 내용을 쓰고 싶다면 super().__init__() super라는 함수를 사용하면 됨!"
   ]
  },
  {
   "cell_type": "code",
   "execution_count": null,
   "id": "9d791a2d-ab5f-475a-a57d-f3e13c7f366d",
   "metadata": {},
   "outputs": [],
   "source": []
  },
  {
   "cell_type": "code",
   "execution_count": null,
   "id": "910d99f2-5d64-4733-8ce5-5524a7640214",
   "metadata": {},
   "outputs": [],
   "source": []
  },
  {
   "cell_type": "code",
   "execution_count": null,
   "id": "9d4d740e-96be-45f7-beed-c9f342b9d9aa",
   "metadata": {},
   "outputs": [],
   "source": []
  },
  {
   "cell_type": "code",
   "execution_count": 18,
   "id": "1ab3123f-c564-4add-955f-e5adcf6dc33c",
   "metadata": {},
   "outputs": [],
   "source": [
    "class JSS2(JSS):\n",
    "    pass          # 이렇게 되면 JSS2가 JSS를 상속받는데 변경된건 하나도 없는 상태! JSS = JSS2 / JSS내용이 그대로 온다!"
   ]
  },
  {
   "cell_type": "code",
   "execution_count": 20,
   "id": "98633ee8-3563-4f6e-ab06-48c2ef467696",
   "metadata": {},
   "outputs": [
    {
     "name": "stdin",
     "output_type": "stream",
     "text": [
      "이름: 김은경\n",
      "나이 26\n"
     ]
    }
   ],
   "source": [
    "a = JSS2()"
   ]
  },
  {
   "cell_type": "code",
   "execution_count": 21,
   "id": "7b6a6e07-928c-4cf6-a46f-1c8e0f3b5274",
   "metadata": {},
   "outputs": [
    {
     "name": "stdout",
     "output_type": "stream",
     "text": [
      "나의 이름은 김은경, 나이는 26세입니다.\n"
     ]
    }
   ],
   "source": [
    "a.show()"
   ]
  },
  {
   "cell_type": "code",
   "execution_count": null,
   "id": "b45680c9-cfbf-4ea7-b3a5-8b70acb3c1be",
   "metadata": {},
   "outputs": [],
   "source": []
  },
  {
   "cell_type": "code",
   "execution_count": null,
   "id": "2f3b19b1-b2eb-4486-8cce-90713c3679cb",
   "metadata": {},
   "outputs": [],
   "source": []
  },
  {
   "cell_type": "code",
   "execution_count": 31,
   "id": "f7195bc7-92a5-4eda-a9e7-fa64f177efa7",
   "metadata": {},
   "outputs": [],
   "source": [
    "class JSS2(JSS):\n",
    "    def __init__(self):\n",
    "        super().__init__() # super()를 JSS라고 생각하면 됨\n",
    "        self.gender = input('성별 : ')\n",
    "    def show(self):       # 함수 내용 바꾸고 싶으면 이렇게 데려와서 수정하면 됨!\n",
    "        print('나의 이름은 {}, 성별은 {}자, 나이는 {}세입니다.'.format(self.name, self.gender, self.age))"
   ]
  },
  {
   "cell_type": "code",
   "execution_count": 32,
   "id": "5bbf561d-223b-431f-a9ff-67df0885f4e0",
   "metadata": {},
   "outputs": [
    {
     "name": "stdin",
     "output_type": "stream",
     "text": [
      "이름 :  김은경\n",
      "나이 :  26\n",
      "성별 :  여\n"
     ]
    }
   ],
   "source": [
    "a = JSS2()"
   ]
  },
  {
   "cell_type": "code",
   "execution_count": 33,
   "id": "bb9a0161-6d31-45fb-97e9-1397d6acf0f6",
   "metadata": {},
   "outputs": [
    {
     "name": "stdout",
     "output_type": "stream",
     "text": [
      "나의 이름은 김은경, 성별은 여자, 나이는 26세입니다.\n"
     ]
    }
   ],
   "source": [
    "a.show()"
   ]
  }
 ],
 "metadata": {
  "kernelspec": {
   "display_name": "Python 3 (ipykernel)",
   "language": "python",
   "name": "python3"
  },
  "language_info": {
   "codemirror_mode": {
    "name": "ipython",
    "version": 3
   },
   "file_extension": ".py",
   "mimetype": "text/x-python",
   "name": "python",
   "nbconvert_exporter": "python",
   "pygments_lexer": "ipython3",
   "version": "3.9.13"
  }
 },
 "nbformat": 4,
 "nbformat_minor": 5
}
