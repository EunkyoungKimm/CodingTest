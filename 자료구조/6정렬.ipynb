{
 "cells": [
  {
   "cell_type": "markdown",
   "id": "f5d76902-5cc9-4b03-a046-1bf0f30d1cc9",
   "metadata": {},
   "source": [
    "# 정렬"
   ]
  },
  {
   "cell_type": "markdown",
   "id": "d1b178ef-2222-44a4-a14f-3e24ee1eb6f6",
   "metadata": {},
   "source": [
    "## 버블 정렬\n",
    "- 버블 정렬은 다른 정렬 알고리즘에 비해 정렬 시간은 다소 오래 걸린다. but 상대적으로 로직이 단순하고, 구현이 쉽다는 장점O\n",
    "- ('정렬 정의' 이미지 >> 바탕화면에o)\n",
    "- 데이터의 `인접 요소`끼리 비교하고, `swap 연산`을 수행하며 정렬하는 방식 > 인접한 데이터의 크기를 비교해 정렬하는 방법!\n",
    "- 정렬에는 항상 시간 복잡도가 따라옴 >>버블정렬의 시간 복잡도는 `O(n^2)` > 다른 정렬 알고리즘보다 속도가 느린 편\n",
    "- 루프(loop)를 돌면서 인접한 데이터 간의 swap 연산으로 정렬함(swap = 교환)\n",
    "- ('버블정렬loop' 이미지 >> 바탕화면에 o)\n",
    "- 모든 부분이 정렬된 영역, 정렬데이터가 될때까지 루프를 돌며 데이터 정렬함!(오름차순으로 정렬한다면 첫 번째 루프에서 맨 마지막 데이터가 가장 큰 데이터임을 확정지음!)\n",
    "- loop 한번을 돌 때마다 1개씩 데이터가 픽스됨.\n",
    "- 왜 시간 복잡도가 O(n^2)일까? 데이터 5개라면(n=5) 루프 한번 돌때 n번 돔 >> n^2\n",
    "- 만약 특정한 루프의 전체 영역에서 swap이 한번도 발생하지 않았다면 그 영역 뒤에 있는 데이터가 모두 정렬되었다는 뜻이므로 프로세스를 종료해도 된다 > 다 정렬됐으니까 더이상 정렬 알고리즘 수행 안해도 됨\n",
    "- ex. [10,18,12,15,17] > [10,12,15,17,18] 첫번째 루프에서 정렬 완료! > 2번째 루프에서 swap이 안일어남(더 이상 sorting하지 않고 빠져나와도 됨!)"
   ]
  },
  {
   "cell_type": "markdown",
   "id": "dca342ee-c844-4459-bfbe-fe275930d839",
   "metadata": {},
   "source": [
    "### 복습\n",
    "- 가장 쉽고 직관적인 버블 정렬\n",
    "- (마지막-1)번째 자료와 마지막 자료를 비교하여 교환하면서 자료를 정렬하는 방식\n",
    "- swap하는 방법(두 변수의 값을 교체 하려면?) > `a,b = b,a`"
   ]
  },
  {
   "cell_type": "code",
   "execution_count": 2,
   "id": "4b42bf94-babc-4a71-9e09-3976d02436ec",
   "metadata": {},
   "outputs": [
    {
     "name": "stdout",
     "output_type": "stream",
     "text": [
      "4\n",
      "3\n"
     ]
    }
   ],
   "source": [
    "# swap\n",
    "\n",
    "a = 3\n",
    "b = 4\n",
    "a,b = b,a\n",
    "print(a) # 4\n",
    "print(b) # 3"
   ]
  },
  {
   "cell_type": "markdown",
   "id": "85fc985c-8aa0-4694-b716-b995c9cbae01",
   "metadata": {},
   "source": [
    "### 문제) 버블 정렬 구현해보기"
   ]
  },
  {
   "cell_type": "code",
   "execution_count": null,
   "id": "803f67e3-7934-4704-9e8b-2c62a07d4bd5",
   "metadata": {},
   "outputs": [],
   "source": [
    "# 문제)버블 정렬 구현해보기\n",
    "\n",
    "input = [4, 6, 2, 9, 1]\n",
    "\n",
    "\n",
    "def bubble_sort(array):\n",
    "    # 이 부분을 채워보세요!\n",
    "    return array\n",
    "\n",
    "\n",
    "bubble_sort(input)\n",
    "print(input)  # [1, 2, 4, 6, 9] 가 되어야 합니다!\n",
    "\n",
    "print(\"정답 = [1, 2, 4, 6, 9] / 현재 풀이 값 = \",bubble_sort([4, 6, 2, 9, 1]))\n",
    "print(\"정답 = [-1, 3, 9, 17] / 현재 풀이 값 = \",bubble_sort([3,-1,17,9]))\n",
    "print(\"정답 = [-3, 32, 44, 56, 100] / 현재 풀이 값 = \",bubble_sort([100,56,-3,32,44]))"
   ]
  },
  {
   "cell_type": "code",
   "execution_count": 3,
   "id": "ab28e690-94d6-47f9-9bc2-0d47143dcb8d",
   "metadata": {},
   "outputs": [
    {
     "name": "stdout",
     "output_type": "stream",
     "text": [
      "0\n",
      "1\n",
      "2\n",
      "3\n",
      "0\n",
      "1\n",
      "2\n",
      "0\n",
      "1\n",
      "0\n"
     ]
    }
   ],
   "source": [
    "# 이런 방식으로 반복문 돌려주면 됨!(반복문 안에서 array[j] > array[j+1]이라면 두 값을 바꿔주는..그런 swap 방식을 쓰면 됨!\n",
    "\n",
    "for i in range(4): # 5-1 >> 4번만 비교하면 되니까\n",
    "    for j in range(4-i):  # 5 - i - 1 >> array[j]와 array[j+1]을 비교할거라서 마지막 원소까지 갈 필요가 없다!\n",
    "        print(j)"
   ]
  },
  {
   "cell_type": "code",
   "execution_count": null,
   "id": "d5267ebd-a4c2-4ab1-833d-b4d341d46489",
   "metadata": {},
   "outputs": [],
   "source": [
    "for i in range(len(array)-1):\n",
    "    for j in range(len(array)-i-1):\n",
    "        if array[j] > array[j+1]:\n",
    "            array[j], array[j+1] = array[j+1], array[j]"
   ]
  },
  {
   "cell_type": "code",
   "execution_count": 5,
   "id": "2ffdc9f7-4ee4-4518-8918-c92686c8ccf1",
   "metadata": {},
   "outputs": [
    {
     "name": "stdout",
     "output_type": "stream",
     "text": [
      "[1, 2, 4, 6, 9]\n"
     ]
    }
   ],
   "source": [
    "# 답\n",
    "\n",
    "input = [4, 6, 2, 9, 1]\n",
    "\n",
    "\n",
    "def bubble_sort(array):\n",
    "    for i in range(len(array)-1): # 나랑 비교x : 1을빼줌\n",
    "        for j in range(len(array)-i-1):\n",
    "            if array[j] > array[j+1]:\n",
    "                array[j], array[j+1] = array[j+1], array[j]\n",
    "    return array\n",
    "\n",
    "\n",
    "bubble_sort(input)\n",
    "print(input)  # [1, 2, 4, 6, 9] 가 되어야 합니다!"
   ]
  },
  {
   "cell_type": "code",
   "execution_count": 6,
   "id": "cce139d5-5347-47b0-a912-b1da907c3f19",
   "metadata": {
    "tags": []
   },
   "outputs": [
    {
     "name": "stdout",
     "output_type": "stream",
     "text": [
      "정답 = [1, 2, 4, 6, 9] / 현재 풀이 값 =  [1, 2, 4, 6, 9]\n",
      "정답 = [-1, 3, 9, 17] / 현재 풀이 값 =  [-1, 3, 9, 17]\n",
      "정답 = [-3, 32, 44, 56, 100] / 현재 풀이 값 =  [-3, 32, 44, 56, 100]\n"
     ]
    }
   ],
   "source": [
    "print(\"정답 = [1, 2, 4, 6, 9] / 현재 풀이 값 = \",bubble_sort([4, 6, 2, 9, 1]))\n",
    "print(\"정답 = [-1, 3, 9, 17] / 현재 풀이 값 = \",bubble_sort([3,-1,17,9]))\n",
    "print(\"정답 = [-3, 32, 44, 56, 100] / 현재 풀이 값 = \",bubble_sort([100,56,-3,32,44]))"
   ]
  },
  {
   "cell_type": "markdown",
   "id": "76b10d16-cc34-4ab0-9294-7a1d3a233900",
   "metadata": {},
   "source": [
    "## 선택 정렬\n",
    "- 알고리즘 자체는 간단(정렬되지 않는 데이터에서 `최소나 최대 데이터`를 찾아가면 선택하는 방법!)\n",
    "- 대상 데이터에서 최대나 최소 데이터를 데이터가 나열된 순으로 찾아가면 선택하는 방법\n",
    "- 구현 방법이 복잡하고, 시간 복잡도도 O(n^2)으로 효율적이지 않아 코딩테스트에서는 많이 사용x\n",
    "- 최솟값 or 최댓값을 찾고, 남은 정렬 부분의 가장 앞에 있는 데이터와 swap하는 것이 선택 정렬의 핵심(오름차순이면 최솟값부터 선택, 내림차순이면 최댓값부터 선택) > 찾고 남은 정렬의 맨 앞이랑 swap\n",
    "- 선택 정렬 자체를 묻는 코딩 테스트 문제는 잘 나오지 않지만, 이 원리를 응용하는 문제는 나올 수 있으므로 선택 정렬이 어떤 원리로 작동하는지 알아두기!\n",
    "- 선택 정렬 시간 복잡도가 왜 n^2인지? \n",
    "- ex. [42,32,24,60,15] > n = 5, n>n-1>n-2>n-3>>>n-n 이렇게 탐색하는걸 n만큼 반복!! (n=10000일경우.. 평균적으로 5000번정도.. (1/2)*N임> 이걸 N만큼 하니까 (1/2)N^2 임 > 작은 수(상수는 시간복잡도에서 무신) 무시! N^2임) \n",
    "- 시간복잡도가 n^2이면 별로 좋은건 아님. n이 100,1000 괜찮지만 그 이상일 경우 오래걸림.."
   ]
  },
  {
   "cell_type": "markdown",
   "id": "7f4c269b-661a-4d6e-9feb-29a5f8668f8d",
   "metadata": {},
   "source": [
    "- 비교는 많이 일어나도 교환은 1번밖에 일어나지 않음! 그래서 버블정렬보다 낫다!!!"
   ]
  },
  {
   "cell_type": "markdown",
   "id": "80f2ddc5-7967-481b-9c0e-e563804b9f2a",
   "metadata": {},
   "source": [
    "### 복습\n",
    "- 선택!해서 정렬!한다.\n",
    "- 각 배열을 계속해서 탐색하는 방식이라 이중 반복문을 사용해야 함"
   ]
  },
  {
   "cell_type": "markdown",
   "id": "86901719-1e44-4c88-90d6-2a11beab58ab",
   "metadata": {},
   "source": [
    "### 문제 ) 선택 정렬을 이용한 정렬"
   ]
  },
  {
   "cell_type": "code",
   "execution_count": 7,
   "id": "54b38004-1b1a-4824-a699-8a5bb7ac09e5",
   "metadata": {},
   "outputs": [
    {
     "name": "stdout",
     "output_type": "stream",
     "text": [
      "[4, 6, 2, 9, 1]\n",
      "정답 = [1, 2, 4, 6, 9] / 현재 풀이 값 =  None\n",
      "정답 = [-1, 3, 9, 17] / 현재 풀이 값 =  None\n",
      "정답 = [-3, 32, 44, 56, 100] / 현재 풀이 값 =  None\n"
     ]
    }
   ],
   "source": [
    "input = [4, 6, 2, 9, 1]\n",
    "\n",
    "\n",
    "def selection_sort(array):\n",
    "    # 이 부분을 채워보세요!\n",
    "    return\n",
    "\n",
    "\n",
    "selection_sort(input)\n",
    "print(input) # [1, 2, 4, 6, 9] 가 되어야 합니다!\n",
    "\n",
    "print(\"정답 = [1, 2, 4, 6, 9] / 현재 풀이 값 = \",selection_sort([4, 6, 2, 9, 1]))\n",
    "print(\"정답 = [-1, 3, 9, 17] / 현재 풀이 값 = \",selection_sort([3,-1,17,9]))\n",
    "print(\"정답 = [-3, 32, 44, 56, 100] / 현재 풀이 값 = \",selection_sort([100,56,-3,32,44]))"
   ]
  },
  {
   "cell_type": "code",
   "execution_count": 8,
   "id": "c1d4d275-81e1-418d-a754-3a18c75aeb24",
   "metadata": {},
   "outputs": [
    {
     "name": "stdout",
     "output_type": "stream",
     "text": [
      "0\n",
      "1\n",
      "2\n",
      "3\n",
      "4\n",
      "1\n",
      "2\n",
      "3\n",
      "4\n",
      "2\n",
      "3\n",
      "4\n",
      "3\n",
      "4\n"
     ]
    }
   ],
   "source": [
    "# 반복문 활용 > 배열의 크기만큼 반복했다가, 앞에서부터 1개씩 줄어들면서 반복\n",
    "\n",
    "for i in range(4): # 5 -1 > 맨 마지막 비교는 하지 않아도 되기 때문에! [4,6,2,9,1]일 경우 4번째 돌면 [1,2,4,9,6]에서 9,6바꾸면 완성됨! 4번째에 완성됨! 5번째 9와9 비교할 필요x\n",
    "    for j in range(5-i):  # 픽스된 수가 하나씩 늘어나니까!\n",
    "        print(i+j)"
   ]
  },
  {
   "cell_type": "code",
   "execution_count": null,
   "id": "5043eca2-ee72-4f33-8f37-e595c4816b21",
   "metadata": {},
   "outputs": [],
   "source": [
    "# 버블 정렬하고 다른 건 바로 \"최솟값\"을 찾아 변경하는 것입니다.\n",
    "# 따라서, min_index 라는 변수를 통해 각각의 인덱스들과 비교합니다.\n",
    "# 그리고 내부의 반복문이 끝나면, 최소 값의 인덱스와 i의 값들을 교체해주면 됩니다!"
   ]
  },
  {
   "cell_type": "code",
   "execution_count": 7,
   "id": "586fbabe-b72e-489b-b781-144ea317e276",
   "metadata": {},
   "outputs": [
    {
     "name": "stdout",
     "output_type": "stream",
     "text": [
      "[4, 6, 2, 9, 1]\n",
      "정답 = [1, 2, 4, 6, 9] / 현재 풀이 값 =  None\n",
      "정답 = [-1, 3, 9, 17] / 현재 풀이 값 =  None\n",
      "정답 = [-3, 32, 44, 56, 100] / 현재 풀이 값 =  None\n"
     ]
    }
   ],
   "source": [
    "input = [4, 6, 2, 9, 1]\n",
    "\n",
    "\n",
    "def selection_sort(array):\n",
    "    for i in range(len(array)-1):\n",
    "        for j in range(len(array)-i):\n",
    "            # 모르겠음... \n",
    "    return\n",
    "\n",
    "\n",
    "selection_sort(input)\n",
    "print(input) # [1, 2, 4, 6, 9] 가 되어야 합니다!\n",
    "\n",
    "print(\"정답 = [1, 2, 4, 6, 9] / 현재 풀이 값 = \",selection_sort([4, 6, 2, 9, 1]))\n",
    "print(\"정답 = [-1, 3, 9, 17] / 현재 풀이 값 = \",selection_sort([3,-1,17,9]))\n",
    "print(\"정답 = [-3, 32, 44, 56, 100] / 현재 풀이 값 = \",selection_sort([100,56,-3,32,44]))"
   ]
  },
  {
   "cell_type": "code",
   "execution_count": 4,
   "id": "37d828ff-813e-4278-b47f-ad66c60eaf19",
   "metadata": {},
   "outputs": [
    {
     "name": "stdout",
     "output_type": "stream",
     "text": [
      "[1, 2, 4, 6, 9]\n",
      "정답 = [1, 2, 4, 6, 9] / 현재 풀이 값 =  [1, 2, 4, 6, 9]\n",
      "정답 = [-1, 3, 9, 17] / 현재 풀이 값 =  [-1, 3, 9, 17]\n",
      "정답 = [-3, 32, 44, 56, 100] / 현재 풀이 값 =  [-3, 32, 44, 56, 100]\n"
     ]
    }
   ],
   "source": [
    "input = [4, 6, 2, 9, 1]\n",
    "\n",
    "\n",
    "def selection_sort(array):\n",
    "    n = len(array)\n",
    "    for i in range(n):\n",
    "        # 가장 작은 데이터의 인덱스 놓을 자리\n",
    "        min_idx = i \n",
    "        for j in range(i+1, n):\n",
    "            # 최솟값 찾기\n",
    "            if (array[min_idx] > array[j]):\n",
    "                min_idx = j\n",
    "        # 데이터 간의 자리 변경\n",
    "        array[i], array[min_idx] = array[min_idx], array[i] # min_idx = j\n",
    "    return array\n",
    "\n",
    "\n",
    "selection_sort(input)\n",
    "print(input) # [1, 2, 4, 6, 9] 가 되어야 합니다!\n",
    "\n",
    "print(\"정답 = [1, 2, 4, 6, 9] / 현재 풀이 값 = \",selection_sort([4, 6, 2, 9, 1]))\n",
    "print(\"정답 = [-1, 3, 9, 17] / 현재 풀이 값 = \",selection_sort([3,-1,17,9]))\n",
    "print(\"정답 = [-3, 32, 44, 56, 100] / 현재 풀이 값 = \",selection_sort([100,56,-3,32,44]))"
   ]
  },
  {
   "cell_type": "code",
   "execution_count": null,
   "id": "e3173300-4e9d-44b7-bc74-80b4cb09ece4",
   "metadata": {},
   "outputs": [],
   "source": []
  },
  {
   "cell_type": "code",
   "execution_count": null,
   "id": "06c62bf9-82c8-44c3-9571-3155d1c8931d",
   "metadata": {},
   "outputs": [],
   "source": []
  },
  {
   "cell_type": "code",
   "execution_count": 5,
   "id": "75d66eba-fd2c-4df1-98f7-716bf37ab6ef",
   "metadata": {},
   "outputs": [
    {
     "name": "stdout",
     "output_type": "stream",
     "text": [
      "[1, 2, 4, 6, 9]\n",
      "정답 = [1, 2, 4, 6, 9] / 현재 풀이 값 =  [1, 2, 4, 6, 9]\n",
      "정답 = [-1, 3, 9, 17] / 현재 풀이 값 =  [-1, 3, 9, 17]\n",
      "정답 = [-3, 32, 44, 56, 100] / 현재 풀이 값 =  [-3, 32, 44, 56, 100]\n"
     ]
    }
   ],
   "source": [
    "\n",
    "\n",
    "input = [4, 6, 2, 9, 1]\n",
    "\n",
    "\n",
    "def selection_sort(array):\n",
    "    n = len(array)\n",
    "    for i in range(n):\n",
    "        # 가장 작은 데이터의 인덱스 놓을 자리\n",
    "        min_idx = i \n",
    "        for j in range(i, n):             # 음..i+1안해줘도 되네..\n",
    "            # 최솟값 찾기\n",
    "            if (array[min_idx] > array[j]):\n",
    "                min_idx = j\n",
    "        # 데이터 간의 자리 변경\n",
    "        array[i], array[min_idx] = array[min_idx], array[i] # min_idx = j\n",
    "    return array\n",
    "\n",
    "\n",
    "selection_sort(input)\n",
    "print(input) # [1, 2, 4, 6, 9] 가 되어야 합니다!\n",
    "\n",
    "print(\"정답 = [1, 2, 4, 6, 9] / 현재 풀이 값 = \",selection_sort([4, 6, 2, 9, 1]))\n",
    "print(\"정답 = [-1, 3, 9, 17] / 현재 풀이 값 = \",selection_sort([3,-1,17,9]))\n",
    "print(\"정답 = [-3, 32, 44, 56, 100] / 현재 풀이 값 = \",selection_sort([100,56,-3,32,44]))"
   ]
  },
  {
   "cell_type": "code",
   "execution_count": null,
   "id": "cee9946b-1c1b-44cb-afb3-e069eefcdd6c",
   "metadata": {},
   "outputs": [],
   "source": []
  },
  {
   "cell_type": "code",
   "execution_count": null,
   "id": "58ecd629-3e29-442d-b7c7-bf0fd095e31c",
   "metadata": {},
   "outputs": [],
   "source": [
    "# input이 array 형태이면 저렇게 파라미터에 array라고 써도 되는건지?"
   ]
  },
  {
   "cell_type": "code",
   "execution_count": null,
   "id": "cab026a8-b082-4604-9cf5-891f118616d3",
   "metadata": {},
   "outputs": [],
   "source": []
  },
  {
   "cell_type": "code",
   "execution_count": null,
   "id": "36cbe2dd-8dd6-4628-8cdb-cf0227947b13",
   "metadata": {},
   "outputs": [],
   "source": []
  },
  {
   "cell_type": "code",
   "execution_count": null,
   "id": "1e803598-136b-4486-b4de-2c84a65c922a",
   "metadata": {},
   "outputs": [],
   "source": []
  },
  {
   "cell_type": "code",
   "execution_count": null,
   "id": "d04b55d5-6d86-4986-94ef-825a483ddc2a",
   "metadata": {},
   "outputs": [],
   "source": []
  },
  {
   "cell_type": "markdown",
   "id": "862d011d-2101-473f-8aec-bfcfe86cbe8a",
   "metadata": {},
   "source": [
    "# 스터디 - 정렬"
   ]
  },
  {
   "cell_type": "markdown",
   "id": "d5dd8be8-a2b2-4aac-aaf0-78ec2e90715c",
   "metadata": {},
   "source": [
    "- sort > 기존의 x를 싹 다 바꿔서 정렬해줌!(default가 오름차순!) / 튜플이 아니기 때문에 중복값도o\n",
    "- 내림차순하려면 (reverse=True)\n",
    "- 문자열을 첫자를 우선 기준으로 정렬한다.(처음이 같으면 2번째 비교해서!)\n",
    "\n",
    "- sorted는 내 자신이 바뀌지는 않음 > 따로 생김. 그래서 변수=sorted(x) 이렇게 따로 저장해줘야 따로 저장됨!\n",
    "\n",
    "- 중첩된 리스트.. 앞에것부터 비교하고 동일하면 뒤에서 비교 [[3,4],[3,2]]\n",
    "\n",
    "- reverse는 내림차순이 아니라 리스트 순서를 바꿔주는거임!!(역순 정렬x)\n",
    "- reversed 자기자신이 바뀌지는 않음 > y = reversed(x) > list(y) 형변환을 꼭 해줘야 함!!!!!!!!"
   ]
  },
  {
   "cell_type": "code",
   "execution_count": 4,
   "id": "5e89f6b9-dc33-454b-b90d-f6eb0af898b1",
   "metadata": {},
   "outputs": [
    {
     "data": {
      "text/plain": [
       "<list_reverseiterator at 0x13ab43a17c0>"
      ]
     },
     "execution_count": 4,
     "metadata": {},
     "output_type": "execute_result"
    }
   ],
   "source": [
    "x = [1,3,6,2]\n",
    "reversed(x) # reverseiterator클래스."
   ]
  },
  {
   "cell_type": "code",
   "execution_count": 5,
   "id": "a060f929-50cb-418c-85e9-114a592505a5",
   "metadata": {},
   "outputs": [
    {
     "data": {
      "text/plain": [
       "[2, 6, 3, 1]"
      ]
     },
     "execution_count": 5,
     "metadata": {},
     "output_type": "execute_result"
    }
   ],
   "source": [
    "list(reversed(x))"
   ]
  },
  {
   "cell_type": "code",
   "execution_count": null,
   "id": "bc2e7fb9-1a21-40fc-90e6-b5466efdb2f7",
   "metadata": {},
   "outputs": [],
   "source": []
  },
  {
   "cell_type": "code",
   "execution_count": 7,
   "id": "22d8a4d6-d645-441b-8827-132249eac7f1",
   "metadata": {},
   "outputs": [
    {
     "data": {
      "text/plain": [
       "['123', '16', '53']"
      ]
     },
     "execution_count": 7,
     "metadata": {},
     "output_type": "execute_result"
    }
   ],
   "source": [
    "a = ['16', '123', '53']\n",
    "a.sort()\n",
    "a"
   ]
  },
  {
   "cell_type": "markdown",
   "id": "1a2629df-c924-4a82-8c56-14db5e0d27d3",
   "metadata": {},
   "source": [
    "## 문제"
   ]
  },
  {
   "cell_type": "code",
   "execution_count": 24,
   "id": "d363cdd4-fce0-447e-a6c4-ba0a47a90473",
   "metadata": {},
   "outputs": [
    {
     "data": {
      "text/plain": [
       "[123, 53, 16]"
      ]
     },
     "execution_count": 24,
     "metadata": {},
     "output_type": "execute_result"
    }
   ],
   "source": [
    "# a = ['16', '123', '53']\n",
    "# a 원소를 모두 정수로 변경해주세요. 그리고 내림차순으로 b라는 리스트에 넣어주세요. b를 출력해주세요\n",
    "\n",
    "b = []\n",
    "for i in range(len(a)):\n",
    "    b.append(int(a[i]))\n",
    "b.sort(reverse=True)\n",
    "b"
   ]
  },
  {
   "cell_type": "code",
   "execution_count": 15,
   "id": "a835a7ec-bc64-4c9d-b724-9b21d406322e",
   "metadata": {},
   "outputs": [
    {
     "data": {
      "text/plain": [
       "[123, 53, 16]"
      ]
     },
     "execution_count": 15,
     "metadata": {},
     "output_type": "execute_result"
    }
   ],
   "source": [
    "# a = ['16', '123', '53']\n",
    "# a 원소를 모두 정수로 변경해주세요. 그리고 내림차순으로 b라는 리스트에 넣어주세요. b를 출력해주세요\n",
    "\n",
    "b = list(map(int, a))\n",
    "b.sort(reverse=True) # b = sorted(a, reverse=True)\n",
    "b         "
   ]
  },
  {
   "cell_type": "code",
   "execution_count": null,
   "id": "1f2c54d2-e481-4f8b-9d02-14106133ba2a",
   "metadata": {},
   "outputs": [],
   "source": []
  },
  {
   "cell_type": "code",
   "execution_count": null,
   "id": "864ca04f-329e-4b55-bbc7-bc9ed1a0fcf2",
   "metadata": {},
   "outputs": [],
   "source": []
  },
  {
   "cell_type": "code",
   "execution_count": null,
   "id": "42482401-1944-4539-9c6c-8451f6e7e3b7",
   "metadata": {},
   "outputs": [],
   "source": []
  },
  {
   "cell_type": "code",
   "execution_count": 1,
   "id": "bce53502-f290-40ac-be18-7b1a3343bc7e",
   "metadata": {
    "collapsed": true,
    "jupyter": {
     "outputs_hidden": true
    },
    "tags": []
   },
   "outputs": [
    {
     "name": "stdout",
     "output_type": "stream",
     "text": [
      "[1, 10, 5, 8, 7, 6, 4, 3, 2, 9]\n",
      "[1, 5, 10, 8, 7, 6, 4, 3, 2, 9]\n",
      "[1, 5, 8, 10, 7, 6, 4, 3, 2, 9]\n",
      "[1, 5, 8, 7, 10, 6, 4, 3, 2, 9]\n",
      "[1, 5, 8, 7, 6, 10, 4, 3, 2, 9]\n",
      "[1, 5, 8, 7, 6, 4, 10, 3, 2, 9]\n",
      "[1, 5, 8, 7, 6, 4, 3, 10, 2, 9]\n",
      "[1, 5, 8, 7, 6, 4, 3, 2, 10, 9]\n",
      "[1, 5, 8, 7, 6, 4, 3, 2, 9, 10]\n",
      "[1, 5, 8, 7, 6, 4, 3, 2, 9, 10]\n",
      "[1, 5, 8, 7, 6, 4, 3, 2, 9, 10]\n",
      "[1, 5, 7, 8, 6, 4, 3, 2, 9, 10]\n",
      "[1, 5, 7, 6, 8, 4, 3, 2, 9, 10]\n",
      "[1, 5, 7, 6, 4, 8, 3, 2, 9, 10]\n",
      "[1, 5, 7, 6, 4, 3, 8, 2, 9, 10]\n",
      "[1, 5, 7, 6, 4, 3, 2, 8, 9, 10]\n",
      "[1, 5, 7, 6, 4, 3, 2, 8, 9, 10]\n",
      "[1, 5, 7, 6, 4, 3, 2, 8, 9, 10]\n",
      "[1, 5, 7, 6, 4, 3, 2, 8, 9, 10]\n",
      "[1, 5, 6, 7, 4, 3, 2, 8, 9, 10]\n",
      "[1, 5, 6, 4, 7, 3, 2, 8, 9, 10]\n",
      "[1, 5, 6, 4, 3, 7, 2, 8, 9, 10]\n",
      "[1, 5, 6, 4, 3, 2, 7, 8, 9, 10]\n",
      "[1, 5, 6, 4, 3, 2, 7, 8, 9, 10]\n",
      "[1, 5, 6, 4, 3, 2, 7, 8, 9, 10]\n",
      "[1, 5, 6, 4, 3, 2, 7, 8, 9, 10]\n",
      "[1, 5, 4, 6, 3, 2, 7, 8, 9, 10]\n",
      "[1, 5, 4, 3, 6, 2, 7, 8, 9, 10]\n",
      "[1, 5, 4, 3, 2, 6, 7, 8, 9, 10]\n",
      "[1, 5, 4, 3, 2, 6, 7, 8, 9, 10]\n",
      "[1, 5, 4, 3, 2, 6, 7, 8, 9, 10]\n",
      "[1, 4, 5, 3, 2, 6, 7, 8, 9, 10]\n",
      "[1, 4, 3, 5, 2, 6, 7, 8, 9, 10]\n",
      "[1, 4, 3, 2, 5, 6, 7, 8, 9, 10]\n",
      "[1, 4, 3, 2, 5, 6, 7, 8, 9, 10]\n",
      "[1, 4, 3, 2, 5, 6, 7, 8, 9, 10]\n",
      "[1, 3, 4, 2, 5, 6, 7, 8, 9, 10]\n",
      "[1, 3, 2, 4, 5, 6, 7, 8, 9, 10]\n",
      "[1, 3, 2, 4, 5, 6, 7, 8, 9, 10]\n",
      "[1, 3, 2, 4, 5, 6, 7, 8, 9, 10]\n",
      "[1, 2, 3, 4, 5, 6, 7, 8, 9, 10]\n",
      "[1, 2, 3, 4, 5, 6, 7, 8, 9, 10]\n",
      "[1, 2, 3, 4, 5, 6, 7, 8, 9, 10]\n",
      "[1, 2, 3, 4, 5, 6, 7, 8, 9, 10]\n",
      "[1, 2, 3, 4, 5, 6, 7, 8, 9, 10]\n"
     ]
    }
   ],
   "source": [
    "# 버블정렬 과정보기\n",
    "\n",
    "def bubble_sort(array):\n",
    "    for i in range(len(array)):\n",
    "        for j in range(len(array)-i-1):\n",
    "            if (array[j] > array[j+1]):\n",
    "                array[j+1], array[j] = array[j], array[j+1]\n",
    "            print(array)\n",
    "array = [1, 10, 5, 8, 7, 6, 4, 3, 2, 9]\n",
    "bubble_sort(array)"
   ]
  },
  {
   "cell_type": "code",
   "execution_count": 3,
   "id": "8bcadd73-2130-45c2-b7fb-9eaee5ab91de",
   "metadata": {},
   "outputs": [
    {
     "name": "stdout",
     "output_type": "stream",
     "text": [
      "[1, 10, 5, 8, 7, 6, 4, 3, 2, 9]\n",
      "[1, 2, 5, 8, 7, 6, 4, 3, 10, 9]\n",
      "[1, 2, 3, 8, 7, 6, 4, 5, 10, 9]\n",
      "[1, 2, 3, 4, 7, 6, 8, 5, 10, 9]\n",
      "[1, 2, 3, 4, 5, 6, 8, 7, 10, 9]\n",
      "[1, 2, 3, 4, 5, 6, 8, 7, 10, 9]\n",
      "[1, 2, 3, 4, 5, 6, 7, 8, 10, 9]\n",
      "[1, 2, 3, 4, 5, 6, 7, 8, 10, 9]\n",
      "[1, 2, 3, 4, 5, 6, 7, 8, 9, 10]\n",
      "[1, 2, 3, 4, 5, 6, 7, 8, 9, 10]\n"
     ]
    }
   ],
   "source": [
    "# 선택정렬 과정보기\n",
    "\n",
    "array = [1, 10, 5, 8, 7, 6, 4, 3, 2, 9]\n",
    "\n",
    "# 가장 작은 것을 선택해 제일 앞으로 보내기\n",
    "def selection_sort(array):\n",
    "    for i in range(len(array)):\n",
    "        bound = 9999  # 비교를 위해서 데이터의 어떤 값보다 큰 숫자\n",
    "        # 가장 작은 것을 찾고, 그 위치를 ind에 저장\n",
    "        for j in range(i, len(array)):\n",
    "            if (bound > array[j]):\n",
    "                bound = array[j]\n",
    "                ind = j\n",
    "        # 스와핑 \n",
    "        temp = array[i]\n",
    "        array[i] = array[ind]\n",
    "        array[ind] = temp\n",
    "        print(array)\n",
    "\n",
    "selection_sort(array)"
   ]
  },
  {
   "cell_type": "markdown",
   "id": "11eccb45-c38f-4718-9b74-494b4e425788",
   "metadata": {},
   "source": [
    "둘 다 for문을 2번 쓰지만, 선택정렬이 훨씬 과정이 적음. 같은 시간복잡도이지만 선택정렬이 빠름! 더 나음!"
   ]
  },
  {
   "cell_type": "code",
   "execution_count": null,
   "id": "6835e64a-2047-4f62-8e25-98e47d71a27f",
   "metadata": {},
   "outputs": [],
   "source": []
  },
  {
   "cell_type": "code",
   "execution_count": null,
   "id": "0e72ef68-07c3-47a9-97d1-fd7d48317200",
   "metadata": {},
   "outputs": [],
   "source": []
  },
  {
   "cell_type": "code",
   "execution_count": null,
   "id": "eaa58d1d-f054-4cb6-a77d-0a6d4751bb8d",
   "metadata": {},
   "outputs": [],
   "source": [
    "# 프로그래머스 문제 - k번째수\n",
    "# i-1 ~ j / 정렬하고 / k-1번째 배열에 담기\n",
    "\n",
    "def solution(array, commands):\n",
    "    answer = []\n",
    "    \n",
    "    for c in range(len(commands)):\n",
    "        li = []\n",
    "        if commands[c][0] == commands[c][1]:\n",
    "            li.append(1)\n",
    "        for a in range(commands[c][0]-1, commands[c][1]): # array 자르기 > 더 간단한 방법 있을듯\n",
    "            li.append(commands[c][a])\n",
    "        li.sort()\n",
    "        answer.append(li[c][2])\n",
    "            \n",
    "    \n",
    "    return answer\n",
    "\n",
    "# 틀림... 슬라이싱 사용해보자!!"
   ]
  },
  {
   "cell_type": "code",
   "execution_count": null,
   "id": "623b5a22-f23b-4982-8108-604204a0ead7",
   "metadata": {},
   "outputs": [],
   "source": []
  },
  {
   "cell_type": "code",
   "execution_count": null,
   "id": "96d5f377-fc72-4a7c-a37c-e2660e38025a",
   "metadata": {},
   "outputs": [],
   "source": [
    "# 정답!!!!!!!!!\n",
    "\n",
    "# i-1 ~ j / 정렬하고 / k-1번째 배열에 담기\n",
    "\n",
    "def solution(array, commands):\n",
    "    answer = []\n",
    "    \n",
    "    for c in range(len(commands)):\n",
    "        i = commands[c][0]\n",
    "        j = commands[c][1]\n",
    "        li = array[i-1:j]\n",
    "        li.sort()\n",
    "        k = commands[c][2]\n",
    "        answer.append(li[k-1])\n",
    "    \n",
    "    return answer"
   ]
  }
 ],
 "metadata": {
  "kernelspec": {
   "display_name": "Python 3 (ipykernel)",
   "language": "python",
   "name": "python3"
  },
  "language_info": {
   "codemirror_mode": {
    "name": "ipython",
    "version": 3
   },
   "file_extension": ".py",
   "mimetype": "text/x-python",
   "name": "python",
   "nbconvert_exporter": "python",
   "pygments_lexer": "ipython3",
   "version": "3.9.13"
  }
 },
 "nbformat": 4,
 "nbformat_minor": 5
}
