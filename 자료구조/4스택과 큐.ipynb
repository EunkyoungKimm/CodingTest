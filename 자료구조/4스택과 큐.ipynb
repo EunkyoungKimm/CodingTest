{
 "cells": [
  {
   "cell_type": "markdown",
   "id": "bfb42b19-411f-4d67-928b-4e69600a48cf",
   "metadata": {},
   "source": [
    "# 스택과 큐\n",
    "- 리스트에서 좀 더 발전한 형태의 자료구조\n",
    "- 구조가 비슷하지만 처리 방식이 다르다"
   ]
  },
  {
   "cell_type": "markdown",
   "id": "7d8f77ee-3440-4aa2-90fb-1c69c2646d92",
   "metadata": {},
   "source": [
    "## 스택\n",
    "- 후입선출(LIFO: Last-in-Fist-out) - 삽입, 삭제 연산\n",
    "- 삽입과 삭제가 `한 쪽에서만` 일어난다. (가장 마지막에 삽입된 데이터가 가장 먼저 나오는 구조!)\n",
    "- 맨 위, 삽입과 삭제가 일어나는 위치(top) / 넣는걸(append > s.append(data)) / 빼지는 않고 top에 있는 데이터 확인(s[-1]) / 데이터를 빼서, 삭제하고 확인(s.pop())\n",
    "- 깊이 우선 탐색, 백트래킹 종류의 코딩 테스트에 효과적이다.\n",
    "- 재귀 함수 알고리즘 원리와 일맥상통\n",
    "\n",
    "<복습>\n",
    "- 한쪽 끝에서만 자료를 넣고 뺄 수 있는 자료 구조! = '빨래통'\n",
    "- LIFO\n",
    "- 넣은 순서를 쌓아두고 있는데, 그 순서가 필요한 경우가 있다! -> 되돌리기(ctrl+z) 직전에 했던 행동을 되돌리고 싶을 때(내가 한 행동을 순서대로 기억해야 함)\n",
    "- 데이터를 넣고 뽑는 걸 자주하는 자료 구조 구현할때 good\n",
    "\n",
    "<스택 기능>\n",
    "- push(data) : 맨 앞에 데이터 넣기\n",
    "- pop() : 맨 앞의 데이터 뽑기\n",
    "- peek() : 맨 앞의 데이터 보기\n",
    "- isEmpty(): 스택이 비었는지 안 비었는지 여부 반환해주기"
   ]
  },
  {
   "cell_type": "code",
   "execution_count": null,
   "id": "4dbd76c6-bdfe-4144-af54-a0c6a7735ffe",
   "metadata": {},
   "outputs": [],
   "source": [
    "# 스택 구현 - linked list와 비슷하게 구현 가능\n",
    "\n",
    "# push 함수 구현 ) 현재 스택잉 stack = [4] 일때, 스택에 3을 push하기 >> 제일 위에 데이터가 3이 되어야 하니까 [3]->[4]가 되면 됨!\n",
    "\n",
    "def push(self, value):                 # 현재 [4] 밖에 없다면\n",
    "    new_head = Node(value)             # [3] 을 만들고!\n",
    "    new_head.next = self.head          # [3] -> [4] 로 만든다음에\n",
    "    self.head = new_head               # 현재 head의 값을 [3] 으로 바꿔준다.\n",
    "\n",
    "# pop 함수 구현 ) 현재 스택  [3]->[4], pop하면 제일 위에 있는 데이터 3이 빠짐, [4] 상태가 되어야 함!\n",
    "\n",
    "def pop(self):\n",
    "    if self.is_empty():                  # 만약 비어있다면 에러!\n",
    "        return \"Stack is empty!\"\n",
    "    delete_head = self.head              # 제거할 node 를 변수에 잡습니다.\n",
    "    self.head = self.head.next           # 그리고 head 를 현재 head 의 다음 걸로 잡으면 됩니다.\n",
    "    return delete_head                   # 그리고 제거할 node 반환\n",
    "\n",
    "# peek 함수 구현 ) 현재 스택 [3]->[4]라면, 제일 위에 있는 노드 주면 됨 -> head를 반환하기만 하면 됨!\n",
    "\n",
    "def peek(self):\n",
    "    if self.is_empty():\n",
    "        return \"Stack is empty!\"\n",
    "\n",
    "    return self.head.data\n",
    "\n",
    "# is_empty 함수 구현 ) 비었는지 아닌지 head가 None인지 여부를 반환하면 됨!\n",
    "\n",
    "def is_empty(self):\n",
    "    return self.head is None"
   ]
  },
  {
   "cell_type": "markdown",
   "id": "d32d61f4-58f3-48b4-a806-e43a79275e28",
   "metadata": {},
   "source": [
    "## 큐\n",
    "- 선입선출(FIFO: First-in-First-out)\n",
    "- 먼저 들어온 데이터가 먼저 나간다. ( 양쪽 : 한쪽에서는 들어가고(rear), 다른 한 쪽으로 나가고(front))\n",
    "- 새로운 데이터 넣는것(s.append(data)) / 단순확인(마지막에 나갈 값, s[0]) / 데이터를 빼낼때(s.popleft())\n",
    "- 파이썬에서는 일반적으로 deque를 이용하여 큐를 구현!(리스트로 큐를 구현하는 것보다 시간복잡도 측면에서 deque로 하는게 삽입, 삭제 속도 빠름)\n",
    "- 큐는 너비 우선 탐색에서 자주 사용\n",
    "\n",
    "<파이썬의 큐>\n",
    "1. 위치\n",
    "- rear: 큐에서 가장 끝 데이터를 가리키는 영역\n",
    "- front: 큐에서 가장 앞의 데이터를 가리키는 영역(나갈거)\n",
    "\n",
    "2. 연산(리스트 이름이 s)\n",
    "- s.append(data): rear 부분에 새로운 데이터를 삽입하는 연산\n",
    "- s.popleft(): front 부분에 있는 데이터를 삭제하고 확인하는 연산\n",
    "- s[0] : 큐의 맨 앞(front, 나갈거)에 있는 데이터를 확인하는 연산\n",
    "\n",
    "<우선순위 큐>\n",
    "- 코딩테스트에서 중요!\n",
    "- 값이 들어간 순서와 상관없이 우선순위가 높은 데이터가 먼저 나오는 자료구조!\n",
    "- 큐 설정에 따라 front에 항상 최대값 or 최소값이 위치\n",
    "- 우선순위 큐는 일반적으로 힙(heap)을 이용해 구현함(힙은 트리 종류 중 하나)\n",
    "\n",
    "<복습>\n",
    "- 한쪽 끝으로 자료를 넣고, 반대쪼겡서는 자료를 뺄 수 있는 선형구조 = '놀이기구'(한줄로 섰다가, 한줄로 나옴)\n",
    "- FIFO\n",
    "- 순서대로 처리되어야 하는 일에 필요!(주문이 먼저 들어온 순서대로 처리 / 먼저 해야 하는 일들을 저장 >> 큐 사용)\n",
    "- 데이터 넣고 뽑는 걸 자주하는 자료구조!\n",
    "\n",
    "<큐 기능>\n",
    "- enqueue(data) : 맨 뒤에 데이터 추가하기 \n",
    "- dequeue() : 맨 앞의 데이터 뽑기\n",
    "- peek() : 맨 앞의 데이터 보기\n",
    "- isEmpty(): 큐가 비었는지 안 비었는지 여부 반환해주기"
   ]
  },
  {
   "cell_type": "code",
   "execution_count": 1,
   "id": "da0a7755-9b04-413c-9507-ed6977e80a34",
   "metadata": {},
   "outputs": [],
   "source": [
    "# 큐 구현 - linked list와 비슷하게 구현 가능 but 큐는 끝과 시작의 노드를 전부 가지고 있어야 하므로 self.head와 self.tail을 가지고 시작!"
   ]
  },
  {
   "cell_type": "code",
   "execution_count": null,
   "id": "d392601a-33a5-4020-901d-84be3930ac86",
   "metadata": {},
   "outputs": [],
   "source": []
  },
  {
   "cell_type": "code",
   "execution_count": null,
   "id": "8a905a13-097e-4a41-b57a-e54f758c1c86",
   "metadata": {},
   "outputs": [],
   "source": []
  },
  {
   "cell_type": "markdown",
   "id": "c540a675-bcdc-4995-88ff-43f5e4e0b49c",
   "metadata": {},
   "source": [
    "- https://rockintuna.tistory.com/m/252 \n",
    "- 스택 클래스 구현"
   ]
  }
 ],
 "metadata": {
  "kernelspec": {
   "display_name": "Python 3 (ipykernel)",
   "language": "python",
   "name": "python3"
  },
  "language_info": {
   "codemirror_mode": {
    "name": "ipython",
    "version": 3
   },
   "file_extension": ".py",
   "mimetype": "text/x-python",
   "name": "python",
   "nbconvert_exporter": "python",
   "pygments_lexer": "ipython3",
   "version": "3.9.13"
  }
 },
 "nbformat": 4,
 "nbformat_minor": 5
}
