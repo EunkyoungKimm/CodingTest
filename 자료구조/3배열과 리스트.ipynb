{
 "cells": [
  {
   "cell_type": "markdown",
   "id": "429148c3-fe7b-41ce-9b61-766a6e181bd6",
   "metadata": {},
   "source": [
    "# 배열/리스트\n",
    "- 데이터를 담을 때 사용하는 가장 기본적인 자료구조\n",
    "- 비슷한듯 다르다!\n",
    "- (주의) 파이썬에서의 리스트와 자료구조에서의 리스트는 약간 다름!\n",
    "> 파이썬: 리스트가 배열의 특성도 함께 내포하고 있다.(딱히 구분x) BUT 자료구조에서의 리스트와 배열의 특징과 동작원리의 차이를 잘 알면 GOOD!"
   ]
  },
  {
   "cell_type": "markdown",
   "id": "f2bf636d-ec4b-43e8-8e31-331414379bdd",
   "metadata": {},
   "source": [
    "## 배열\n",
    "- 메모리의 연속 공간에 값이 채워져 있는 형태의 자료구조 / 크기가 정해진 데이터 공간\n",
    "- 배열의 특징\n",
    "  1. 인덱스를 사용하여 값에 바로 접근 가능하다. (장점) ex. A[4] -> A의 5번째 값\n",
    "  2. 새로운 값을 삽입 or 삭제하기 어렵다. (주변에 있는 값을 이동시키는 과정 필요)\n",
    "  3. 배열의 크기는 선언할 때 지정할 수 있으면, 한 번 선언하면 크기를 늘리거나 줄일 수 없다. (단점)\n",
    "  4. 구조가 간단하다. (코딩테스트에 많이 사용)"
   ]
  },
  {
   "cell_type": "markdown",
   "id": "670bb77a-0127-4655-869b-14bf185656a6",
   "metadata": {},
   "source": [
    "## 리스트\n",
    "- 값과 포인터를 묶은 `노드`라는 것을 포인터로 연결한 자료구조 / 크기가 정해지지 않은 데이터 공간\n",
    "- 리스트의 특징\n",
    "  1. 인덱스가 없어서 값에 접근하려면 Head 포인터부터 `순서대로` 접근해야 한다. >> 값에 접근하는 속도가 느리다. (단점) (인덱스가 없기 때문에 배열처럼 직접 접근X)\n",
    "  2. 데이터 삽입, 삭제하는 연산 속도가 빠르다. (포인터로 연결되어 있어서)\n",
    "  3. 리스트는 크기가 정해져 있지 않다. (장점) >> 크기가 변하기 쉬운 데이터를 다룰 때 적절!(선언할 때 크기를 별도로 지정하지 않아도 O)\n",
    "  4. 포인터를 저장할 공간이 필요 >> 배열보다 구조가 복잡."
   ]
  },
  {
   "cell_type": "markdown",
   "id": "6ce36a9b-70b3-4234-8872-dce4a21b5683",
   "metadata": {},
   "source": [
    "## 리스트 in 파이썬\n",
    "- 파이썬에서 리스트는 리스트 특징은 물론 배열의 특징까지 모두 가지도록 구현되어 있다.\n",
    "- 리스트와 배열의 장점을 모아놨다!\n",
    "- 배열의 장점: index로 값에 바로 접근(즉시 접근), 직접 접근 가능\n",
    "- 리스트의 장점: 크기가 가변적\n",
    "- 파이썬에서 리스트 = 만능키!!"
   ]
  },
  {
   "cell_type": "markdown",
   "id": "34ddb564-1057-4c47-b099-ed7d057522d3",
   "metadata": {},
   "source": [
    "<배열>\n",
    "- 배열은 원소를 중간에 삽입/삭제 하려면 모든 원소를 다 옮겨야 합니다. \n",
    "최악의 경우 배열의 길이 N 만큼을 옮겨야 하므로 O(N)의 시간 복잡도를 가집니다.\n",
    "- 원소를 새로 추가하려면, 새로운 공간을 할당해야 하므로 매우 비효율적인 자료구조입니다."
   ]
  },
  {
   "cell_type": "markdown",
   "id": "f21cc0c4-75d2-4535-834b-73cc11b4a866",
   "metadata": {},
   "source": [
    "<리스트 linked list>\n",
    "- 연결 고리를 포인터라 부르고, 각 화물 칸을 노드\n",
    "- 리스트는 특정 원소에 접근하려면 연결 고리를 따라 탐색해야 합니다. 최악의 경우에는 모든 화물 칸을 탐색해야 하므로 O(N)의 시간 복잡도를 가집니다.(즉시 접근x)\n",
    "- 리스트는 원소를 중간에 삽입/삭제 하기 위해서는 앞 뒤의 포인터만 변경하면 됩니다. 따라서 원소 삽입/삭제를 O(1)의 시간 복잡도 안에 할 수 있습니다.(삽입/삭제 Good)"
   ]
  },
  {
   "cell_type": "code",
   "execution_count": null,
   "id": "c9a240b5-8142-48ae-80a2-26756b4bb21a",
   "metadata": {},
   "outputs": [],
   "source": []
  },
  {
   "cell_type": "markdown",
   "id": "bdf0ba62-a986-4438-a033-017c762cb816",
   "metadata": {},
   "source": [
    "## 클래스 연습"
   ]
  },
  {
   "cell_type": "code",
   "execution_count": 1,
   "id": "a067da59-b05e-41a7-952c-b2c9a1ea2768",
   "metadata": {},
   "outputs": [
    {
     "name": "stdout",
     "output_type": "stream",
     "text": [
      "<__main__.Person object at 0x000001E9F6277C70>\n"
     ]
    }
   ],
   "source": [
    "class Person:\n",
    "    pass # 아무내용x / 객체는 생성 가능\n",
    "\n",
    "person_1 = Person()\n",
    "print(person_1)"
   ]
  },
  {
   "cell_type": "code",
   "execution_count": null,
   "id": "b7e44005-4afb-4f97-998f-f2a46f1d7f8e",
   "metadata": {},
   "outputs": [],
   "source": []
  },
  {
   "cell_type": "code",
   "execution_count": 2,
   "id": "ccc4b629-0977-4702-a0c8-a42b02f45798",
   "metadata": {},
   "outputs": [
    {
     "name": "stdout",
     "output_type": "stream",
     "text": [
      "hihihi <__main__.Person object at 0x000001E9F6277BE0>\n"
     ]
    }
   ],
   "source": [
    "class Person:\n",
    "    def __init__(self):\n",
    "        print('hihihi', self)\n",
    "        \n",
    "person_1 = Person()"
   ]
  },
  {
   "cell_type": "code",
   "execution_count": 3,
   "id": "590ead67-8c7c-4a9b-bd39-0535137998b9",
   "metadata": {},
   "outputs": [
    {
     "ename": "TypeError",
     "evalue": "__init__() takes 1 positional argument but 2 were given",
     "output_type": "error",
     "traceback": [
      "\u001b[1;31m---------------------------------------------------------------------------\u001b[0m",
      "\u001b[1;31mTypeError\u001b[0m                                 Traceback (most recent call last)",
      "Cell \u001b[1;32mIn [3], line 5\u001b[0m\n\u001b[0;32m      2\u001b[0m     \u001b[38;5;28;01mdef\u001b[39;00m \u001b[38;5;21m__init__\u001b[39m(\u001b[38;5;28mself\u001b[39m):\n\u001b[0;32m      3\u001b[0m         \u001b[38;5;28mprint\u001b[39m(\u001b[38;5;124m'\u001b[39m\u001b[38;5;124mhihihi\u001b[39m\u001b[38;5;124m'\u001b[39m, \u001b[38;5;28mself\u001b[39m)\n\u001b[1;32m----> 5\u001b[0m person_1 \u001b[38;5;241m=\u001b[39m \u001b[43mPerson\u001b[49m\u001b[43m(\u001b[49m\u001b[38;5;124;43m'\u001b[39;49m\u001b[38;5;124;43m유재석\u001b[39;49m\u001b[38;5;124;43m'\u001b[39;49m\u001b[43m)\u001b[49m\n",
      "\u001b[1;31mTypeError\u001b[0m: __init__() takes 1 positional argument but 2 were given"
     ]
    }
   ],
   "source": [
    "class Person:\n",
    "    def __init__(self):\n",
    "        print('hihihi', self)\n",
    "        \n",
    "person_1 = Person('유재석')   # self는 자기자신을 나타내는 것일뿐 어떤 파라미터, 인자를 넣어주는게x"
   ]
  },
  {
   "cell_type": "code",
   "execution_count": 4,
   "id": "c1c876d2-e97f-4892-9a8d-1ad086c4de79",
   "metadata": {},
   "outputs": [
    {
     "name": "stdout",
     "output_type": "stream",
     "text": [
      "hihihi <__main__.Person object at 0x000001E9F6364FD0>\n"
     ]
    }
   ],
   "source": [
    "class Person:\n",
    "    def __init__(self, param_name):\n",
    "        print('hihihi', self)\n",
    "        self.name = param_name\n",
    "        \n",
    "person_1 = Person('유재석')"
   ]
  },
  {
   "cell_type": "code",
   "execution_count": 5,
   "id": "7a3d19c2-8c6f-41c1-98ac-53340697834b",
   "metadata": {},
   "outputs": [
    {
     "name": "stdout",
     "output_type": "stream",
     "text": [
      "유재석\n"
     ]
    }
   ],
   "source": [
    "print(person_1.name)"
   ]
  },
  {
   "cell_type": "code",
   "execution_count": null,
   "id": "64da5936-96e4-453e-a043-0f45e63db7ed",
   "metadata": {},
   "outputs": [],
   "source": []
  },
  {
   "cell_type": "code",
   "execution_count": 6,
   "id": "900e3eda-de0b-4a73-a619-3362526b2eec",
   "metadata": {},
   "outputs": [],
   "source": [
    "class Person:\n",
    "    def __init__(self, param_name):\n",
    "        print('hihihi', self)\n",
    "        self.name = param_name\n",
    "        \n",
    "    def talk(self):       # self 넣어주기!\n",
    "        print('안녕하세요 저는', self.name, '입니다.')"
   ]
  },
  {
   "cell_type": "code",
   "execution_count": 7,
   "id": "a180ec5b-80e2-4b06-a246-2321ebd6c02b",
   "metadata": {},
   "outputs": [
    {
     "name": "stdout",
     "output_type": "stream",
     "text": [
      "hihihi <__main__.Person object at 0x000001E9F589FFA0>\n"
     ]
    }
   ],
   "source": [
    "person_1 = Person('박명수')"
   ]
  },
  {
   "cell_type": "code",
   "execution_count": 8,
   "id": "5a456742-c4aa-4883-9ea8-db31e77c1fe6",
   "metadata": {},
   "outputs": [
    {
     "data": {
      "text/plain": [
       "'박명수'"
      ]
     },
     "execution_count": 8,
     "metadata": {},
     "output_type": "execute_result"
    }
   ],
   "source": [
    "person_1.name"
   ]
  },
  {
   "cell_type": "code",
   "execution_count": 9,
   "id": "1420c6b1-3dc2-4be3-9f81-476f49dad40b",
   "metadata": {},
   "outputs": [
    {
     "name": "stdout",
     "output_type": "stream",
     "text": [
      "안녕하세요 저는 박명수 입니다.\n"
     ]
    }
   ],
   "source": [
    "person_1.talk()"
   ]
  },
  {
   "cell_type": "code",
   "execution_count": null,
   "id": "fb43f655-5feb-4446-b978-18886c083f63",
   "metadata": {},
   "outputs": [],
   "source": []
  },
  {
   "cell_type": "markdown",
   "id": "ed421e3e-c13a-4bc9-8ffb-a8e948008c5f",
   "metadata": {},
   "source": [
    "### 링크드 리스트 클래스로 구현"
   ]
  },
  {
   "cell_type": "code",
   "execution_count": 10,
   "id": "2fb123d4-8624-4c62-b425-26eac6eb4345",
   "metadata": {},
   "outputs": [],
   "source": [
    "class Node:\n",
    "    def __init__(self, data):\n",
    "        self.data = data\n",
    "        self.next = None           # next가 꼭 파라미터, 인자에 들어갈 필요x\n",
    "        \n",
    "node = Node(3) # [3]\n",
    "first_node = Node(5) # [5]\n",
    "second_node = Node(12) # [12]"
   ]
  },
  {
   "cell_type": "code",
   "execution_count": 11,
   "id": "70715a3f-d632-4f7b-b378-28741b6c6218",
   "metadata": {},
   "outputs": [],
   "source": [
    "first_node.next = second_node # [5] -> [12]"
   ]
  },
  {
   "cell_type": "markdown",
   "id": "784f8382-22c3-41d5-9420-7c71bba24452",
   "metadata": {},
   "source": [
    "- 노드들을 일일이 계속 연결해주려면 변수 지정하고, 위와 같은 코드 반복해야 함 > LinkedList 클래스 만들기\n",
    "- LinkedList는 head node만 딱 들고 있음"
   ]
  },
  {
   "cell_type": "code",
   "execution_count": 12,
   "id": "d3803970-b7a1-4bb8-8c97-89e455af2beb",
   "metadata": {},
   "outputs": [],
   "source": [
    "# 링크드 리스트 클래스\n",
    "class LinkedList:\n",
    "    def __init__(self,value):\n",
    "        self.head = Node(value)\n",
    "        \n",
    "linked_list = LinkedList(5)"
   ]
  },
  {
   "cell_type": "code",
   "execution_count": 14,
   "id": "8d556c38-e252-49f8-9e55-4827c876d56d",
   "metadata": {},
   "outputs": [
    {
     "ename": "AttributeError",
     "evalue": "'LinkedList' object has no attribute 'data'",
     "output_type": "error",
     "traceback": [
      "\u001b[1;31m---------------------------------------------------------------------------\u001b[0m",
      "\u001b[1;31mAttributeError\u001b[0m                            Traceback (most recent call last)",
      "Cell \u001b[1;32mIn [14], line 1\u001b[0m\n\u001b[1;32m----> 1\u001b[0m \u001b[43mlinked_list\u001b[49m\u001b[38;5;241;43m.\u001b[39;49m\u001b[43mdata\u001b[49m\n",
      "\u001b[1;31mAttributeError\u001b[0m: 'LinkedList' object has no attribute 'data'"
     ]
    }
   ],
   "source": [
    "linked_list.data"
   ]
  },
  {
   "cell_type": "code",
   "execution_count": 13,
   "id": "68349b91-177d-4b5a-bd5a-15b48839e7cd",
   "metadata": {},
   "outputs": [
    {
     "data": {
      "text/plain": [
       "5"
      ]
     },
     "execution_count": 13,
     "metadata": {},
     "output_type": "execute_result"
    }
   ],
   "source": [
    "linked_list.head.data"
   ]
  },
  {
   "cell_type": "code",
   "execution_count": null,
   "id": "9c10c641-5765-4d57-a6a7-8575eeed309a",
   "metadata": {},
   "outputs": [],
   "source": []
  },
  {
   "cell_type": "code",
   "execution_count": 15,
   "id": "bcdae78a-b5aa-4882-901a-387d7abe637c",
   "metadata": {},
   "outputs": [],
   "source": [
    "# append 함수\n",
    "\n",
    "class LinkedList:\n",
    "    def __init__(self,value):\n",
    "        self.head = Node(value)\n",
    "        \n",
    "    def append(self, value):\n",
    "        cur = self.head\n",
    "        while cur.next is not None:\n",
    "            cur = cur.next\n",
    "        cur.next = Node(value)\n",
    "        \n",
    "linked_list = LinkedList(5) # [5]\n",
    "linked_list.append(12)  # [5] -> [12]\n",
    "linked_list.append(8) # [5] -> [12] -> [8]"
   ]
  }
 ],
 "metadata": {
  "kernelspec": {
   "display_name": "Python 3 (ipykernel)",
   "language": "python",
   "name": "python3"
  },
  "language_info": {
   "codemirror_mode": {
    "name": "ipython",
    "version": 3
   },
   "file_extension": ".py",
   "mimetype": "text/x-python",
   "name": "python",
   "nbconvert_exporter": "python",
   "pygments_lexer": "ipython3",
   "version": "3.9.13"
  }
 },
 "nbformat": 4,
 "nbformat_minor": 5
}
