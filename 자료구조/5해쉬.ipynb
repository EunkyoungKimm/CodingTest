{
 "cells": [
  {
   "cell_type": "markdown",
   "id": "71130d50-db98-404f-9997-9362bb4e686c",
   "metadata": {},
   "source": [
    "# 해쉬"
   ]
  },
  {
   "cell_type": "markdown",
   "id": "50b0a670-33d5-416a-93e2-ad2c34c27bc6",
   "metadata": {},
   "source": [
    "# 딕셔너리 연습부터 하자!"
   ]
  },
  {
   "cell_type": "markdown",
   "id": "7ef84802-cbb8-4137-9114-b97961153634",
   "metadata": {},
   "source": [
    "- https://blockdmask.tistory.com/450"
   ]
  },
  {
   "cell_type": "markdown",
   "id": "5342651b-2b75-472e-b0f8-6b98766007e5",
   "metadata": {},
   "source": [
    "- key, value 한쌍! > key가 인덱스! 순서상관없이 key로 값을 가져올 수 있다! > key만있으면 값 접근 가능해서 복잡도 복잡하지 않음!\n",
    "- {} 중괄호 표현!"
   ]
  },
  {
   "cell_type": "code",
   "execution_count": null,
   "id": "34491775-140c-4320-985d-5941739c0b37",
   "metadata": {},
   "outputs": [],
   "source": [
    "# 딕셔너리 선언\n",
    "d = {}\n",
    "d = dict()"
   ]
  },
  {
   "cell_type": "markdown",
   "id": "91a16f96-d9e4-40d2-bfb9-0d840de1560f",
   "metadata": {},
   "source": [
    "- key 값은 중복x, key값에는 리스트 등 mutable한 타입 올 수x / value값은 중복o"
   ]
  },
  {
   "cell_type": "code",
   "execution_count": 12,
   "id": "50b0fd37-5d60-4438-8b73-a32edd896340",
   "metadata": {},
   "outputs": [],
   "source": [
    "d = {'a':123123} "
   ]
  },
  {
   "cell_type": "code",
   "execution_count": 13,
   "id": "6426ea22-681f-49b0-bce4-ee6b63aa3de1",
   "metadata": {},
   "outputs": [
    {
     "data": {
      "text/plain": [
       "{'a': 123123, 999: 10}"
      ]
     },
     "execution_count": 13,
     "metadata": {},
     "output_type": "execute_result"
    }
   ],
   "source": [
    "# 값 추가\n",
    "\n",
    "d[999] = 10 # dict[key] = value\n",
    "d"
   ]
  },
  {
   "cell_type": "code",
   "execution_count": 4,
   "id": "356bb1fa-7a74-4363-922c-0372dfeb196e",
   "metadata": {},
   "outputs": [
    {
     "data": {
      "text/plain": [
       "10"
      ]
     },
     "execution_count": 4,
     "metadata": {},
     "output_type": "execute_result"
    }
   ],
   "source": [
    "d[999]"
   ]
  },
  {
   "cell_type": "code",
   "execution_count": 5,
   "id": "dfb7395e-41f0-4a47-b58c-b202bda1685d",
   "metadata": {},
   "outputs": [
    {
     "data": {
      "text/plain": [
       "{'a': 123123, 999: 100}"
      ]
     },
     "execution_count": 5,
     "metadata": {},
     "output_type": "execute_result"
    }
   ],
   "source": [
    "# 값변경 - 덮어씌어짐\n",
    "d[999] = 100\n",
    "d"
   ]
  },
  {
   "cell_type": "code",
   "execution_count": null,
   "id": "8ff10bee-edf1-4d90-ba0c-13beb13560d7",
   "metadata": {},
   "outputs": [],
   "source": []
  },
  {
   "cell_type": "code",
   "execution_count": null,
   "id": "cf716f1f-1161-46d6-8882-6e60d1f3be3c",
   "metadata": {},
   "outputs": [],
   "source": [
    "# 원하는 'key'값이 있는지 : in (key값임!!!!)"
   ]
  },
  {
   "cell_type": "code",
   "execution_count": 6,
   "id": "a8cf01fc-930d-48d8-a712-e6f2c23fc1f8",
   "metadata": {},
   "outputs": [
    {
     "data": {
      "text/plain": [
       "dict_keys(['a', 999])"
      ]
     },
     "execution_count": 6,
     "metadata": {},
     "output_type": "execute_result"
    }
   ],
   "source": [
    "# 딕셔너리는 key집합이라고 생각하면 됨!!!!!!(검색, 찾는거 루트 다 key임!)\n",
    "# 기본\n",
    "\n",
    "# d.keys() = d 라고 생각하면 됨!\n",
    "d.keys()"
   ]
  },
  {
   "cell_type": "code",
   "execution_count": 7,
   "id": "6c435f62-7b36-4dd9-9739-1d0a0c634ebb",
   "metadata": {},
   "outputs": [
    {
     "data": {
      "text/plain": [
       "dict_values([123123, 100])"
      ]
     },
     "execution_count": 7,
     "metadata": {},
     "output_type": "execute_result"
    }
   ],
   "source": [
    "d.values()"
   ]
  },
  {
   "cell_type": "code",
   "execution_count": 11,
   "id": "ca241f0a-7dc9-4bfa-b85e-c39d99ab4591",
   "metadata": {},
   "outputs": [
    {
     "data": {
      "text/plain": [
       "'a'"
      ]
     },
     "execution_count": 11,
     "metadata": {},
     "output_type": "execute_result"
    }
   ],
   "source": [
    "d"
   ]
  },
  {
   "cell_type": "code",
   "execution_count": 14,
   "id": "1206e276-8980-4eb3-aa4d-c36a894a457e",
   "metadata": {},
   "outputs": [
    {
     "name": "stdout",
     "output_type": "stream",
     "text": [
      "d : a\n",
      "d : 999\n"
     ]
    }
   ],
   "source": [
    "for d in d.keys():\n",
    "    print(f'd : {d}')"
   ]
  },
  {
   "cell_type": "code",
   "execution_count": 16,
   "id": "d3af686f-e91d-46bb-bda0-f90c38b9a907",
   "metadata": {},
   "outputs": [
    {
     "data": {
      "text/plain": [
       "999"
      ]
     },
     "execution_count": 16,
     "metadata": {},
     "output_type": "execute_result"
    }
   ],
   "source": [
    "d"
   ]
  },
  {
   "cell_type": "code",
   "execution_count": 17,
   "id": "2616660c-386b-460e-9105-104f81c52022",
   "metadata": {},
   "outputs": [
    {
     "name": "stdout",
     "output_type": "stream",
     "text": [
      "a\n",
      "123123\n",
      "999\n",
      "100\n"
     ]
    }
   ],
   "source": [
    "# key, value 동시에 가져오기 > d.items()\n",
    "\n",
    "d = {'a': 123123, 999: 100}\n",
    "for k,v in d.items():\n",
    "    print(k)\n",
    "    print(v)"
   ]
  },
  {
   "cell_type": "code",
   "execution_count": 18,
   "id": "1ec14d23-b8f5-4bef-a529-162dbf9b3287",
   "metadata": {},
   "outputs": [
    {
     "data": {
      "text/plain": [
       "100"
      ]
     },
     "execution_count": 18,
     "metadata": {},
     "output_type": "execute_result"
    }
   ],
   "source": [
    "# value값 얻기 - 없으면 error\n",
    "d[999]"
   ]
  },
  {
   "cell_type": "code",
   "execution_count": 20,
   "id": "67ff19e8-a4d3-4cf3-99cb-49b964c8ed07",
   "metadata": {},
   "outputs": [
    {
     "data": {
      "text/plain": [
       "100"
      ]
     },
     "execution_count": 20,
     "metadata": {},
     "output_type": "execute_result"
    }
   ],
   "source": [
    "# value값 얻기 - 없으면 error안나고, None이 뜸/양 많은 데이터일때는 if문 등에 nONE일때..처리 가능! 이거써라!\n",
    "d.get(999)"
   ]
  },
  {
   "cell_type": "code",
   "execution_count": null,
   "id": "abf9029b-d85c-46db-a097-a14c88d2b17d",
   "metadata": {},
   "outputs": [],
   "source": [
    "#  지울때\n",
    "\n",
    "del d[999] # 어떤 key지울건지 구체적으로 써주기 / 없는거 지우면 error남\n",
    "# 있는지 없는지 get으로 확인하고 지우기! if문에 이런거 활용하면 error방지 가능!"
   ]
  },
  {
   "cell_type": "code",
   "execution_count": null,
   "id": "6fcedbc0-21b2-4919-aa77-f238464459e9",
   "metadata": {},
   "outputs": [],
   "source": []
  },
  {
   "cell_type": "code",
   "execution_count": null,
   "id": "b1dce456-dda6-455e-b926-9ebf20e5b78e",
   "metadata": {},
   "outputs": [],
   "source": [
    "# 딕셔너리 키, 값 모두 지우기 > clear (기존 딕셔너리 값 다 지움)\n",
    "\n",
    "d.clear()"
   ]
  },
  {
   "cell_type": "code",
   "execution_count": null,
   "id": "5359c34d-2f52-46cd-a38c-ef3f9355c860",
   "metadata": {},
   "outputs": [],
   "source": []
  },
  {
   "cell_type": "code",
   "execution_count": 31,
   "id": "47765017-02dd-4fe3-bfb1-2a3444c38276",
   "metadata": {},
   "outputs": [],
   "source": [
    "# 출석체크\n",
    "\n",
    "d = {'나연':1, '정연':2, '모모':3, '사나':4, '지효':5, '미나':6, '다현':7, '채영':8,'쯔위':9}"
   ]
  },
  {
   "cell_type": "code",
   "execution_count": 32,
   "id": "624803ec-0623-482a-969a-7148d5f501b5",
   "metadata": {},
   "outputs": [
    {
     "data": {
      "text/plain": [
       "{'나연': 1,\n",
       " '정연': 2,\n",
       " '모모': 3,\n",
       " '사나': 4,\n",
       " '지효': 5,\n",
       " '미나': 6,\n",
       " '다현': 7,\n",
       " '채영': 8,\n",
       " '쯔위': 9}"
      ]
     },
     "execution_count": 32,
     "metadata": {},
     "output_type": "execute_result"
    }
   ],
   "source": [
    "d"
   ]
  },
  {
   "cell_type": "code",
   "execution_count": 34,
   "id": "ec3d744f-86cc-42a0-83b8-2d0d9d7b84aa",
   "metadata": {},
   "outputs": [],
   "source": [
    "present_students = {\"정연\":1, \"모모\":2, \"채영\":3, \"쯔위\":4, \"사나\":5, \"나연\":6, \"미나\":7, \"다현\":8}"
   ]
  },
  {
   "cell_type": "code",
   "execution_count": 35,
   "id": "6981f9b0-4ff2-447d-896c-64e2f0eda8f3",
   "metadata": {},
   "outputs": [
    {
     "name": "stdout",
     "output_type": "stream",
     "text": [
      "지효\n"
     ]
    }
   ],
   "source": [
    "for student in d:\n",
    "    answer = present_students.get(student)\n",
    "    if answer == None:\n",
    "        print(student)"
   ]
  },
  {
   "cell_type": "code",
   "execution_count": null,
   "id": "264368b5-1308-4938-965d-dbf5dea3d1eb",
   "metadata": {},
   "outputs": [],
   "source": []
  },
  {
   "cell_type": "code",
   "execution_count": 36,
   "id": "2a111cb1-b3da-48d2-8741-aec4fb80eb76",
   "metadata": {},
   "outputs": [],
   "source": [
    "all_students = [\"나연\", \"정연\", \"모모\", \"사나\", \"지효\", \"미나\", \"다현\", \"채영\", \"쯔위\"]\n",
    "present_students = [\"정연\", \"모모\", \"채영\", \"쯔위\", \"사나\", \"나연\", \"미나\", \"다현\"]"
   ]
  },
  {
   "cell_type": "code",
   "execution_count": null,
   "id": "c5d3d7ff-339c-4d8c-b7d0-b15a9878b420",
   "metadata": {},
   "outputs": [],
   "source": []
  },
  {
   "cell_type": "code",
   "execution_count": null,
   "id": "2857df94-f206-468d-92d8-2eae1b607b6d",
   "metadata": {},
   "outputs": [],
   "source": []
  },
  {
   "cell_type": "code",
   "execution_count": 42,
   "id": "45d89761-2afa-46f7-a055-c840075ff557",
   "metadata": {},
   "outputs": [
    {
     "name": "stdout",
     "output_type": "stream",
     "text": [
      "지효\n"
     ]
    }
   ],
   "source": [
    "# 리스트를 딕셔너리로! >> 딕셔너리로 풀라고 모든 자료를 딕셔너리로 풀 필요는 없음!\n",
    "\n",
    "d = {}\n",
    "a = 1\n",
    "for i in all_students:\n",
    "    d[i] = a\n",
    "    a += 1\n",
    "    \n",
    "d2 = {}\n",
    "b = 1\n",
    "for i in present_students:\n",
    "    d2[i] = b\n",
    "    b += 1\n",
    "\n",
    "for student in d:\n",
    "    answer = d2.get(student)\n",
    "    if answer == None:\n",
    "        print(student)"
   ]
  },
  {
   "cell_type": "code",
   "execution_count": 45,
   "id": "e9030f8a-3e31-496a-9df7-50076b8406ca",
   "metadata": {},
   "outputs": [
    {
     "data": {
      "text/plain": [
       "21000"
      ]
     },
     "execution_count": 45,
     "metadata": {},
     "output_type": "execute_result"
    }
   ],
   "source": [
    "money = [15000, 21000, 9000, 6000, 12000]\n",
    "max(money)"
   ]
  },
  {
   "cell_type": "code",
   "execution_count": 50,
   "id": "1eb4f277-11a7-4ec9-a312-3a1e16311ddb",
   "metadata": {},
   "outputs": [],
   "source": [
    "# 딕셔너리 ) 불우이웃돕기 > 가장 적은 용돈을 받은 사람에게 10만원 더 주기(변경) 후 모든 사람 얼마 받는지 출력!\n",
    "# 1. names, money를 딕셔너리 (names 중복되지 않습니다.)\n",
    "# 2. 가장 적은 용돈을 받은 사람을 찾아라\n",
    "# 3. 그 사람에 100000원을 추가해준다.\n",
    "# 4. 모든 사람 이름과 용돈을 출력하면 됩니다."
   ]
  },
  {
   "cell_type": "code",
   "execution_count": 50,
   "id": "029f4419-3bf4-47ef-bdfb-31516792a87a",
   "metadata": {},
   "outputs": [
    {
     "data": {
      "text/plain": [
       "{'sunyoung': 15000, 'OH': 21000, 'kek': 9000, 'miran': 6000, 'yeah1': 12000}"
      ]
     },
     "execution_count": 50,
     "metadata": {},
     "output_type": "execute_result"
    }
   ],
   "source": [
    "# 불우이웃돕기 문제\n",
    "\n",
    "names = ['sunyoung', 'OH', 'kek', 'miran', 'yeah1']\n",
    "money = [15000, 21000, 9000, 6000, 12000]\n",
    "         \n",
    "d_names = {}\n",
    "i = 0\n",
    "for name in names:\n",
    "    d_names[name] = money[i]\n",
    "    i += 1\n",
    "    \n",
    "d_names"
   ]
  },
  {
   "cell_type": "code",
   "execution_count": 51,
   "id": "9514619b-fe53-4d4c-a876-227b50132020",
   "metadata": {},
   "outputs": [
    {
     "name": "stdout",
     "output_type": "stream",
     "text": [
      "sunyoung 15000\n",
      "OH 21000\n",
      "kek 9000\n",
      "miran 106000\n",
      "yeah1 12000\n"
     ]
    }
   ],
   "source": [
    "a = max(money)\n",
    "for d in d_names.keys(): \n",
    "    if d_names.get(d) < a:      # if d_names.get(d) == min(money): 이렇게 해도 됨!\n",
    "        a = d_names.get(d)\n",
    "        person = d\n",
    "    \n",
    "d_names[person] = d_names[person] + 100000\n",
    "\n",
    "for k,v in d_names.items():\n",
    "    print(k,v)\n",
    "    \n",
    "    \n",
    "# 미란언니 코드 보기"
   ]
  },
  {
   "cell_type": "code",
   "execution_count": null,
   "id": "7f0d096b-9bbf-48b8-ba9b-747b6a666971",
   "metadata": {},
   "outputs": [],
   "source": []
  },
  {
   "cell_type": "code",
   "execution_count": null,
   "id": "a6988e44-e1b7-4ad7-869c-980d92114b91",
   "metadata": {},
   "outputs": [],
   "source": []
  },
  {
   "cell_type": "code",
   "execution_count": 50,
   "id": "e8181f01-b516-4361-ae02-100e258f53c6",
   "metadata": {},
   "outputs": [
    {
     "data": {
      "text/plain": [
       "{'sunyoung': 15000, 'OH': 21000, 'kek': 9000, 'miran': 6000, 'yeah1': 12000}"
      ]
     },
     "execution_count": 50,
     "metadata": {},
     "output_type": "execute_result"
    }
   ],
   "source": [
    "# 불우이웃돕기 문제\n",
    "\n",
    "names = ['sunyoung', 'OH', 'kek', 'miran', 'yeah1']\n",
    "money = [15000, 21000, 9000, 6000, 12000]\n",
    "         \n",
    "d_names = {}\n",
    "i = 0\n",
    "for name in names:\n",
    "    d_names[name] = money[i]\n",
    "    i += 1\n",
    "    \n",
    "a = max(money)\n",
    "for d in d_names.keys(): \n",
    "    if d_names.get(d) < a:      # if d_names.get(d) == min(money): 이렇게 해도 됨!\n",
    "        a = d_names.get(d)\n",
    "        person = d\n",
    "    \n",
    "d_names[person] = d_names[person] + 100000\n",
    "\n",
    "for k,v in d_names.items():\n",
    "    print(k,v)"
   ]
  }
 ],
 "metadata": {
  "kernelspec": {
   "display_name": "Python 3 (ipykernel)",
   "language": "python",
   "name": "python3"
  },
  "language_info": {
   "codemirror_mode": {
    "name": "ipython",
    "version": 3
   },
   "file_extension": ".py",
   "mimetype": "text/x-python",
   "name": "python",
   "nbconvert_exporter": "python",
   "pygments_lexer": "ipython3",
   "version": "3.9.13"
  }
 },
 "nbformat": 4,
 "nbformat_minor": 5
}
