{
 "cells": [
  {
   "cell_type": "markdown",
   "id": "53a4b2c6-f862-441e-9c8b-115abe8f8547",
   "metadata": {},
   "source": [
    "- https://www.youtube.com/watch?v=DYA2q0oX5CA&list=PLFgS-xIWwNVX-zm4m6suWC9d7Ua9z7fuT&index=3"
   ]
  },
  {
   "cell_type": "markdown",
   "id": "3c9f72a2-fe84-4c61-aab1-4ff28eae866c",
   "metadata": {},
   "source": [
    "# 시간 복잡도\n",
    "- 어떤 알고리즘으로 문제를 풀어야 할까? 알고리즘 선택의 기준이 되는 `시간 복잡도`\n",
    "- 코딩 테스트 문제를 잘 푸려면 문제마다 주어진 시간 복잡도를 고려해 적절한 알고리즘을 선택해야 한다."
   ]
  },
  {
   "cell_type": "markdown",
   "id": "b4cbdaec-671d-4d9a-9c8f-3b6a4972d8db",
   "metadata": {
    "tags": []
   },
   "source": [
    "## 시간 복잡도 표기법\n",
    "- 시간 복잡도: 주어진 문제를 해결하기 위한 연산 횟수\n",
    "- 파이썬 프로그램에서는 1초에 `2,000만 번~1억 번`의 연산을 수행 시간으로 예측 가능\n",
    "- 시간 복잡도에 따라 수행 시간과 성능이 크게 차이남\n",
    "- 시간 복잡도 유형: 3가지\n",
    "    1. 빅-오메가: 최선(1)\n",
    "    2. 빅-세타: 보통(n/2)\n",
    "    3. 빅-오: 최악일 때의 연산 횟수(데이터수n, n)\n",
    "- 코딩테스트에서는 `빅-오`를 기준으로 수행 시간을 계산하는게 좋다!(`최악`을 염두하고 문제를 풀어야 함)\n",
    "- 데이터의 크기가 커질 수록 시간 복잡도가 `기하급수적`으로 커짐! (데이터의 크기와 매우 밀접한 관련이 있음. 데이터 크기 잘 보기!)\n",
    "> 최악의 케이스를 생각해라!!!!\n",
    "- 연산 횟수 = 알고리즘 시간 복잡도 n값에 데이터의 최대 크기를 대입하여 도출\n",
    "<br>\n",
    "ex. 시간 제한 2초 --> 4000만번 이하의 연산 횟수로 문제를 해결해야 함.\n",
    "<br>\n",
    "버블 정렬(n^2) : n에 데이터의 최대 값을 넣어주고 4000만번과 비교! 크다면 `부적합 알고리즘`\n",
    "<br>\n",
    "병합 정렬(nlogn)"
   ]
  },
  {
   "cell_type": "markdown",
   "id": "e86626f4-3a60-40f0-8e3a-ce686b406ef3",
   "metadata": {},
   "source": [
    "## 시간 복잡도를 바탕으로 코드 로직 개선하기\n",
    "- 시간 복잡도는 작성한 코드의 비효율적인 로직을 개선하는 바탕으로 사용할 수 있다.\n",
    "> 그럴려면 '코드의 시간 복잡도를 도출할 수 있어야' 한다!\n",
    "- 시간 복잡도 도출 기준\n",
    "    1. 상수는 시간 복잡도 계산에서 제외한다. \n",
    "        - n = 3n, for문3개.. 상수는 '같은 시간 복잡도' , 같은 횟수라고 생각하면 됨\n",
    "    2. 가장 많이 중첩된 반복문의 수행 횟수가 시간 복잡도의 기준이 된다.\n",
    "        - 이중for문일 경우: n^2 (`이런 코드가 전체 코드의 시간 복잡도 기준!` 이 코드의 시간 복잡도를 도출해 연산을 더 효율적으로 할 수 있게끔 해야 한다."
   ]
  },
  {
   "cell_type": "markdown",
   "id": "babeb1d7-94be-4ee6-9447-f21ebc14573d",
   "metadata": {},
   "source": [
    "> 시간 복잡도는 항상 `worst case`로 따진다!"
   ]
  },
  {
   "cell_type": "markdown",
   "id": "a4cdde44-31b2-446f-92e1-ffcd17dc95bd",
   "metadata": {},
   "source": [
    "> worst case로 따지기 때문에 `빅-오` 표기법의 시간 복잡도를 이용하고, 문제에서 데이터가 주어졌을 때도 데이터 중에 가장 최대의 크기로 시간 복잡도를 따져주기!"
   ]
  },
  {
   "cell_type": "markdown",
   "id": "a76cd050-4998-4e4e-b67e-6850d637b351",
   "metadata": {},
   "source": [
    "> 문제가 주어졌을 때 어떤 알고리즘을 사용할 수 있는지 없는지에 기준은 `시간 복잡도`로 할 수 있다."
   ]
  },
  {
   "cell_type": "markdown",
   "id": "57bd47be-8892-41bd-a77c-0ee0229c1a8f",
   "metadata": {},
   "source": [
    "> 기본적으로는 내가 짠 코드 로직에서 `중첩이 가장 많이 된 부분`을 찾아서 나의 코드의 시간 복잡도를 낮출 수 있는 방법이 있다!"
   ]
  },
  {
   "cell_type": "code",
   "execution_count": null,
   "id": "f5aab8c7-4924-447b-a880-6c19edbdc7ca",
   "metadata": {},
   "outputs": [],
   "source": []
  },
  {
   "cell_type": "markdown",
   "id": "1aa3c32b-1362-484c-80f4-c172b707029d",
   "metadata": {},
   "source": [
    "- 이중for문을 많이 했었는데.. 따로따로 써야되겠다는 생각을 많이 했당"
   ]
  },
  {
   "cell_type": "markdown",
   "id": "a74c180c-4cdb-4c1c-b36c-51efd4eedc04",
   "metadata": {},
   "source": [
    "- https://hanamon.kr/%EC%95%8C%EA%B3%A0%EB%A6%AC%EC%A6%98-time-complexity-%EC%8B%9C%EA%B0%84-%EB%B3%B5%EC%9E%A1%EB%8F%84/"
   ]
  }
 ],
 "metadata": {
  "kernelspec": {
   "display_name": "Python 3 (ipykernel)",
   "language": "python",
   "name": "python3"
  },
  "language_info": {
   "codemirror_mode": {
    "name": "ipython",
    "version": 3
   },
   "file_extension": ".py",
   "mimetype": "text/x-python",
   "name": "python",
   "nbconvert_exporter": "python",
   "pygments_lexer": "ipython3",
   "version": "3.9.13"
  }
 },
 "nbformat": 4,
 "nbformat_minor": 5
}
