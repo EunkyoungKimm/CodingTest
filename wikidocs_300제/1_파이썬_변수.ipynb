{
 "cells": [
  {
   "cell_type": "markdown",
   "id": "c0d31033-e27c-4314-b380-13db3a72566e",
   "metadata": {},
   "source": [
    "# 파이썬 변수\n",
    "\n",
    "- 변수: 데이터를 저장할 수 있는 저장 공간, 메모리 공간\n",
    "- 파이썬 변수는 자주 사용되는 값을 바인딩한다.\n",
    "\n",
    "\n",
    "## 바인딩(binding)\n",
    "\n",
    "- 프로그램에 사용된 구성 요소의 실제 값 또는 프로퍼티를 결정짓는 행위 (주소(참조), 값 등 구체적인 값들로 확정하는 것, bind(구속)하는 것)\n",
    "- 메모리에 값을 할당하는 것도 바인딩이다. (함수를 호출하는 부분에 함수가 위치한 메모리 번지로 연결시켜 주는 것도 바인딩이다)\n",
    "```python\n",
    "apple = '사과' # apple 변수명 바인딩, '사과' 변수값 바인딩\n",
    "int num = 10  # int 자료형 바인딩, num 변수명 바인딩, 10 변수값 바인딩\n",
    "```\n",
    "- 정적 바인딩(static binding) / 동적 바인딩(dynamic binding) 으로 구분된다.\n",
    "- 정적 바인딩: 컴파일 시간에 성격이 결정되는 것 ex. C언어 컴파일 시간에 변수의 데이터 타입이 결정\n",
    "- 동적 바인딩: 프로그램 실행시간에 일어나는 바인딩 ex. Python(Interpreter 언어) 런타임에 값에 따라 변수의 데이터 타입이 결정\n",
    "- 장단점<br>\n",
    "**정적 바인딩**은 컴파일 시 이미 값이 정해지므로 실행만 하면 되서 실행시 효율이 높다! 속도가 빠르고, 값이 변하지 않아서 안정적이다.<br>\n",
    "**동적 바인딩**은 런타임에 자유롭게 성격, 값이 변할 수 있으므로 유연, 적응성이 높다! 하지만 들어올 값보다 많은 메모리 공간을 차지하고 있기 때문에 메모리 공간이 낭비될 수 있고, 들어오는 값이 메모리 타입에 맞는지 확인하기 때문에 속도가 늦어진다."
   ]
  },
  {
   "cell_type": "markdown",
   "id": "bf78e379-e46d-4e6c-bf7e-5a6f94a1dd9d",
   "metadata": {},
   "source": [
    "### 연습문제 11: 변수 사용하기"
   ]
  },
  {
   "cell_type": "code",
   "execution_count": 3,
   "id": "e7c80365-5c28-426d-bb52-04c931165fc5",
   "metadata": {},
   "outputs": [
    {
     "data": {
      "text/plain": [
       "500000"
      ]
     },
     "execution_count": 3,
     "metadata": {},
     "output_type": "execute_result"
    }
   ],
   "source": [
    "삼성전자 = 50000\n",
    "총평가금액 = 삼성전자 * 10\n",
    "총평가금액 # print(총평가금액)"
   ]
  },
  {
   "cell_type": "markdown",
   "id": "ab85a157-4788-4a8a-a38d-8be811ee1472",
   "metadata": {},
   "source": [
    "### 연습문제 12: 변수 사용하기"
   ]
  },
  {
   "cell_type": "code",
   "execution_count": 6,
   "id": "79ebc023-b7f9-498b-a721-10f975aed9d5",
   "metadata": {},
   "outputs": [],
   "source": [
    "시가총액 = 298000000000000\n",
    "현재가 = 50000\n",
    "PER = 15.79"
   ]
  },
  {
   "cell_type": "code",
   "execution_count": 5,
   "id": "ab20341d-e9fe-4df2-9009-c1aab7f95772",
   "metadata": {},
   "outputs": [
    {
     "name": "stdout",
     "output_type": "stream",
     "text": [
      "298000000000000 <class 'int'>\n",
      "50000 <class 'int'>\n",
      "15.79 <class 'float'>\n"
     ]
    }
   ],
   "source": [
    "# 변수의 값, type도 알아보기\n",
    "\n",
    "print(시가총액, type(시가총액))\n",
    "print(현재가, type(현재가))\n",
    "print(PER, type(PER))"
   ]
  },
  {
   "cell_type": "markdown",
   "id": "deaeeb8f-f3f7-4378-9258-0b0a3bd2ee46",
   "metadata": {},
   "source": [
    "### 연습문제 13: 문자열 출력"
   ]
  },
  {
   "cell_type": "code",
   "execution_count": 7,
   "id": "086d01e0-84f0-4856-9ef4-939d95fcb498",
   "metadata": {},
   "outputs": [],
   "source": [
    "s = \"hello\"\n",
    "t = \"python\""
   ]
  },
  {
   "cell_type": "code",
   "execution_count": 9,
   "id": "2d1ac6d5-7e5d-48f1-8bb0-e56b500b2dee",
   "metadata": {},
   "outputs": [
    {
     "name": "stdout",
     "output_type": "stream",
     "text": [
      "hello! python\n"
     ]
    }
   ],
   "source": [
    "print(s + '! ' + t)"
   ]
  },
  {
   "cell_type": "code",
   "execution_count": 11,
   "id": "7d000e28-d5d1-4fc8-9a43-b46d97627e06",
   "metadata": {},
   "outputs": [
    {
     "name": "stdout",
     "output_type": "stream",
     "text": [
      "hello! python\n"
     ]
    }
   ],
   "source": [
    "# 다른 풀이\n",
    "\n",
    "print(s + '!', t) # 콤마(,) 구분하면 띄어쓰기(공백 하나) 됨 "
   ]
  },
  {
   "cell_type": "markdown",
   "id": "6f7455dc-6a5b-4735-a221-62ff00c46348",
   "metadata": {},
   "source": [
    "### 연습문제 14: 파이썬을 이용한 값 계산"
   ]
  },
  {
   "cell_type": "code",
   "execution_count": 12,
   "id": "b75d09b5-497b-429a-8eff-e0516455744e",
   "metadata": {},
   "outputs": [
    {
     "data": {
      "text/plain": [
       "8"
      ]
     },
     "execution_count": 12,
     "metadata": {},
     "output_type": "execute_result"
    }
   ],
   "source": [
    "2 + 2 * 3 # 8"
   ]
  },
  {
   "cell_type": "markdown",
   "id": "30fe4ade-2fa8-402a-b347-a40dd0b0806b",
   "metadata": {},
   "source": [
    "### 연습문제 15: type 함수\n",
    "\n",
    "- type함수: 데이터 타입을 판별하는 함수\n",
    "- 변수 a에는 128 숫자가 바인딩 되어 있어서 int형(정수형)임을 알려준다."
   ]
  },
  {
   "cell_type": "code",
   "execution_count": 13,
   "id": "1977c608-ab65-428f-a2eb-354127cfd7eb",
   "metadata": {},
   "outputs": [
    {
     "name": "stdout",
     "output_type": "stream",
     "text": [
      "<class 'int'>\n"
     ]
    }
   ],
   "source": [
    "a = 128\n",
    "print(type(a))"
   ]
  },
  {
   "cell_type": "code",
   "execution_count": 14,
   "id": "9d96e871-5f44-43b6-a584-fd8e754e977e",
   "metadata": {},
   "outputs": [
    {
     "name": "stdout",
     "output_type": "stream",
     "text": [
      "<class 'str'>\n"
     ]
    }
   ],
   "source": [
    "a = '132'\n",
    "print(type(a)) # str"
   ]
  },
  {
   "cell_type": "markdown",
   "id": "32d45a93-a6b9-449b-8945-0216ea2de84c",
   "metadata": {},
   "source": [
    "### 연습문제 16: 문자열을 정수로 변환"
   ]
  },
  {
   "cell_type": "code",
   "execution_count": 15,
   "id": "ad7b3576-4022-4908-81f0-a19e8482b619",
   "metadata": {},
   "outputs": [],
   "source": [
    "num_str = \"720\""
   ]
  },
  {
   "cell_type": "code",
   "execution_count": 17,
   "id": "be5cc021-be2b-4d0d-a3fc-ec83dcd00a8e",
   "metadata": {},
   "outputs": [
    {
     "name": "stdout",
     "output_type": "stream",
     "text": [
      "<class 'str'>\n"
     ]
    }
   ],
   "source": [
    "int(num_str)\n",
    "print(type(num_str))"
   ]
  },
  {
   "cell_type": "code",
   "execution_count": 18,
   "id": "490ddd00-9b1e-431e-ac9a-429e74241c3e",
   "metadata": {},
   "outputs": [
    {
     "name": "stdout",
     "output_type": "stream",
     "text": [
      "<class 'int'>\n"
     ]
    }
   ],
   "source": [
    "# 다른 풀이\n",
    "\n",
    "num_str = \"720\"\n",
    "num_int = int(num_str) # 직관적인 변수명에 그 값을 담아주는게 좋은 것 같다 \n",
    "print(type(num_int))   # 출력할 때는 변수명을 넣어서!"
   ]
  },
  {
   "cell_type": "markdown",
   "id": "2e7be7e7-b87d-4444-8c31-6d8458596bc4",
   "metadata": {},
   "source": [
    "### 연습문제 17: 정수를 문자열 100으로 변환"
   ]
  },
  {
   "cell_type": "code",
   "execution_count": 20,
   "id": "4b855a96-b652-4a6b-86da-66808241933b",
   "metadata": {},
   "outputs": [],
   "source": [
    "num = 100"
   ]
  },
  {
   "cell_type": "code",
   "execution_count": 26,
   "id": "369339f9-f896-444f-94db-64135cf2ba03",
   "metadata": {},
   "outputs": [
    {
     "data": {
      "text/plain": [
       "str"
      ]
     },
     "execution_count": 26,
     "metadata": {},
     "output_type": "execute_result"
    }
   ],
   "source": [
    "num_str = str(num) # result라는 변수명도 good\n",
    "type(num_str)"
   ]
  },
  {
   "cell_type": "code",
   "execution_count": 27,
   "id": "37e35a0a-2024-491b-b995-97386a79647c",
   "metadata": {},
   "outputs": [
    {
     "name": "stdout",
     "output_type": "stream",
     "text": [
      "<class 'str'>\n"
     ]
    }
   ],
   "source": [
    "print(type(num_str))"
   ]
  },
  {
   "cell_type": "markdown",
   "id": "0b2b6f96-d0b7-4194-a663-10312dff758e",
   "metadata": {},
   "source": [
    "### 연습문제 18: 문자열을 실수로 변환"
   ]
  },
  {
   "cell_type": "code",
   "execution_count": 28,
   "id": "0e781093-bc8f-4630-a444-f1f9bfe20d28",
   "metadata": {},
   "outputs": [
    {
     "name": "stdout",
     "output_type": "stream",
     "text": [
      "<class 'float'>\n"
     ]
    }
   ],
   "source": [
    "num_str = \"15.79\"\n",
    "num_float = float(num_str)\n",
    "print(type(num_float))"
   ]
  },
  {
   "cell_type": "code",
   "execution_count": 29,
   "id": "0bdc47c1-a952-46c3-8934-eb44bfe2ffd8",
   "metadata": {},
   "outputs": [
    {
     "name": "stdout",
     "output_type": "stream",
     "text": [
      "<class 'float'>\n"
     ]
    }
   ],
   "source": [
    "# 변수명 data\n",
    "\n",
    "data = \"15.79\"\n",
    "data = float(data)\n",
    "print(type(data))"
   ]
  },
  {
   "cell_type": "markdown",
   "id": "59910784-5399-49cc-a74f-dbbe29a499f3",
   "metadata": {},
   "source": [
    "### 연습문제 19: 문자열을 정수로 변환"
   ]
  },
  {
   "cell_type": "code",
   "execution_count": 30,
   "id": "d9b01686-149e-4c08-abfd-6f9819b05761",
   "metadata": {},
   "outputs": [],
   "source": [
    "# 현재 연도 2020\n",
    "year = \"2020\""
   ]
  },
  {
   "cell_type": "code",
   "execution_count": 32,
   "id": "320bcfb2-b6b7-474d-ae95-ac428c9bd6f9",
   "metadata": {},
   "outputs": [
    {
     "name": "stdout",
     "output_type": "stream",
     "text": [
      "2017 2018 2019\n"
     ]
    }
   ],
   "source": [
    "year = int(year)\n",
    "print(year-3, year-2, year-1) # 최근 3년 연도"
   ]
  },
  {
   "cell_type": "markdown",
   "id": "9329f54f-e8c7-46fe-a1a4-e5656a9d338b",
   "metadata": {},
   "source": [
    "### 연습문제 20: 파이썬 계산"
   ]
  },
  {
   "cell_type": "code",
   "execution_count": 33,
   "id": "0f4062b1-3a26-43dd-9402-361f1da2e67d",
   "metadata": {},
   "outputs": [],
   "source": [
    "cost = 48584\n",
    "month = 36"
   ]
  },
  {
   "cell_type": "code",
   "execution_count": 34,
   "id": "ffa6bace-90b0-4958-ab52-f02287207baa",
   "metadata": {},
   "outputs": [
    {
     "name": "stdout",
     "output_type": "stream",
     "text": [
      "1749024\n"
     ]
    }
   ],
   "source": [
    "price = cost * month\n",
    "print(price)"
   ]
  }
 ],
 "metadata": {
  "kernelspec": {
   "display_name": "Python 3 (ipykernel)",
   "language": "python",
   "name": "python3"
  },
  "language_info": {
   "codemirror_mode": {
    "name": "ipython",
    "version": 3
   },
   "file_extension": ".py",
   "mimetype": "text/x-python",
   "name": "python",
   "nbconvert_exporter": "python",
   "pygments_lexer": "ipython3",
   "version": "3.9.13"
  }
 },
 "nbformat": 4,
 "nbformat_minor": 5
}
