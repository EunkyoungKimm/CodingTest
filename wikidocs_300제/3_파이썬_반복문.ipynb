{
 "cells": [
  {
   "cell_type": "markdown",
   "id": "1f4ebb96-c1a6-4866-8440-30cf7cfa07fb",
   "metadata": {},
   "source": [
    "# 파이썬 반복문\n",
    "\n",
    "- for문: 횟수가 정해져 있거나 상대적으로 횟수가 적은 경우에 대한 반복에 주로 사용\n",
    "- while문: 횟수가 상대적으로 크거나 무한 루프 형태의 반복문에 사용"
   ]
  },
  {
   "cell_type": "markdown",
   "id": "92923ffe-cff1-4b4e-9004-45fde047be26",
   "metadata": {},
   "source": [
    "### 연습문제 131"
   ]
  },
  {
   "cell_type": "code",
   "execution_count": 86,
   "id": "c5cc543f-ee9d-4777-8ce7-6d563eaecad7",
   "metadata": {},
   "outputs": [
    {
     "name": "stdout",
     "output_type": "stream",
     "text": [
      "사과\n",
      "귤\n",
      "수박\n"
     ]
    }
   ],
   "source": [
    "과일 = [\"사과\", \"귤\", \"수박\"]\n",
    "for 변수 in 과일:\n",
    "    print(변수)        # 사과 귤 수박 > 리스트에 들어있는 문자열이 한 라인에 하나씩 출력됨"
   ]
  },
  {
   "cell_type": "markdown",
   "id": "92b9829c-7627-4e76-a83f-0c02917ec801",
   "metadata": {},
   "source": [
    "### 연습문제 132"
   ]
  },
  {
   "cell_type": "code",
   "execution_count": 88,
   "id": "ed22fbe9-039c-4025-bc2e-cf11a553cb07",
   "metadata": {},
   "outputs": [
    {
     "name": "stdout",
     "output_type": "stream",
     "text": [
      "#####\n",
      "#####\n",
      "#####\n"
     ]
    }
   ],
   "source": [
    "과일 = [\"사과\", \"귤\", \"수박\"]\n",
    "for 변수 in 과일:\n",
    "    print(\"#####\")     # #####이 3줄에 걸쳐서 출력됨 > for문은 자료구조에 저장된 데이터 개수만큼 반복해서 실행됨"
   ]
  },
  {
   "cell_type": "markdown",
   "id": "d486eaa9-493d-417b-acde-18c0f0660ae4",
   "metadata": {},
   "source": [
    "### 연습문제 133"
   ]
  },
  {
   "cell_type": "code",
   "execution_count": 89,
   "id": "260c7a4a-9761-47bf-bf25-b6ed295cedb3",
   "metadata": {},
   "outputs": [
    {
     "name": "stdout",
     "output_type": "stream",
     "text": [
      "A\n",
      "B\n",
      "C\n"
     ]
    }
   ],
   "source": [
    "for 변수 in [\"A\", \"B\", \"C\"]:\n",
    "    print(변수)"
   ]
  },
  {
   "cell_type": "code",
   "execution_count": 90,
   "id": "edd9a0cb-c3fd-47cc-9376-5e23f9b184a5",
   "metadata": {},
   "outputs": [
    {
     "name": "stdout",
     "output_type": "stream",
     "text": [
      "A\n",
      "B\n",
      "C\n"
     ]
    }
   ],
   "source": [
    "# 위와 동일한 기능을 수행하는 코드 작성1\n",
    "\n",
    "변수 = \"A\"\n",
    "print(변수)\n",
    "변수 = \"B\"\n",
    "print(변수)\n",
    "변수 = \"C\"\n",
    "print(변수)"
   ]
  },
  {
   "cell_type": "code",
   "execution_count": 91,
   "id": "33f77532-3c14-4687-b51f-8112b52a0fa9",
   "metadata": {},
   "outputs": [
    {
     "name": "stdout",
     "output_type": "stream",
     "text": [
      "A\n",
      "B\n",
      "C\n"
     ]
    }
   ],
   "source": [
    "# 위와 동일한 기능을 수행하는 코드 작성2 - 변수의 바인딩 없이 코드 작성\n",
    "\n",
    "print(\"A\")\n",
    "print(\"B\")\n",
    "print(\"C\")"
   ]
  },
  {
   "cell_type": "markdown",
   "id": "3ad8db86-1f21-4cc8-ac47-ed06aa8dd105",
   "metadata": {},
   "source": [
    "### 연습문제 134"
   ]
  },
  {
   "cell_type": "code",
   "execution_count": 92,
   "id": "b5ff4243-2ce2-4f9b-aac7-28ee907d0615",
   "metadata": {},
   "outputs": [
    {
     "name": "stdout",
     "output_type": "stream",
     "text": [
      "출력: A\n",
      "출력: B\n",
      "출력: C\n"
     ]
    }
   ],
   "source": [
    "for 변수 in [\"A\", \"B\", \"C\"]:\n",
    "    print(\"출력:\", 변수)"
   ]
  },
  {
   "cell_type": "code",
   "execution_count": 93,
   "id": "8001caee-8bf2-496e-9c9a-4326b868943f",
   "metadata": {},
   "outputs": [
    {
     "name": "stdout",
     "output_type": "stream",
     "text": [
      "출력: A\n",
      "출력: B\n",
      "출력: C\n"
     ]
    }
   ],
   "source": [
    "# 위와 동일한 기능을 수행하는 코드 작성1\n",
    "\n",
    "변수 = \"A\"\n",
    "print(\"출력:\", 변수)\n",
    "변수 = \"B\"\n",
    "print(\"출력:\", 변수)\n",
    "변수 = \"C\"\n",
    "print(\"출력:\", 변수)"
   ]
  },
  {
   "cell_type": "code",
   "execution_count": 94,
   "id": "00879a83-b9be-4ca2-a3fa-bf321287ffe7",
   "metadata": {},
   "outputs": [
    {
     "name": "stdout",
     "output_type": "stream",
     "text": [
      "출력: A\n",
      "출력: B\n",
      "출력: C\n"
     ]
    }
   ],
   "source": [
    "# 위와 동일한 기능을 수행하는 코드 작성2 - 변수의 바인딩 없이 코드 작성\n",
    "\n",
    "print(\"출력:\", \"A\")\n",
    "print(\"출력:\", \"B\")\n",
    "print(\"출력:\", \"C\")"
   ]
  },
  {
   "cell_type": "markdown",
   "id": "d2df78ad-0f8c-4602-82b7-6cf12c3e6369",
   "metadata": {},
   "source": [
    "### 연습문제 135"
   ]
  },
  {
   "cell_type": "code",
   "execution_count": 97,
   "id": "ed3522b8-7847-471f-8129-30062b3b261e",
   "metadata": {},
   "outputs": [
    {
     "name": "stdout",
     "output_type": "stream",
     "text": [
      "변환: a\n",
      "변환: b\n",
      "변환: c\n"
     ]
    }
   ],
   "source": [
    "for 변수 in [\"A\", \"B\", \"C\"]:\n",
    "  l = 변수.lower()\n",
    "  print(\"변환:\", l)"
   ]
  },
  {
   "cell_type": "code",
   "execution_count": 101,
   "id": "e8255b98-7c2c-454f-9920-469d493b1d1a",
   "metadata": {},
   "outputs": [
    {
     "name": "stdout",
     "output_type": "stream",
     "text": [
      "변환: a\n",
      "변환: b\n",
      "변환: c\n"
     ]
    }
   ],
   "source": [
    "# 위와 동일한 기능을 수행하는 코드 작성 > for문이 훨씬 간단하다(for문 들여쓰기 중요)\n",
    "\n",
    "변수 = \"A\"\n",
    "l = 변수.lower()\n",
    "print(\"변환:\", l)\n",
    "변수 = \"B\"\n",
    "l = 변수.lower()\n",
    "print(\"변환:\", l)\n",
    "변수 = \"C\"\n",
    "l = 변수.lower()\n",
    "print(\"변환:\", l)"
   ]
  },
  {
   "cell_type": "markdown",
   "id": "60bfe857-70d7-4876-bee4-f93c1b16d032",
   "metadata": {},
   "source": [
    "### 연습문제 136"
   ]
  },
  {
   "cell_type": "code",
   "execution_count": 102,
   "id": "027e4978-9ae3-4074-9f75-aab268c45802",
   "metadata": {},
   "outputs": [
    {
     "name": "stdout",
     "output_type": "stream",
     "text": [
      "10\n",
      "20\n",
      "30\n"
     ]
    }
   ],
   "source": [
    "변수 = 10\n",
    "print(변수)\n",
    "변수 = 20\n",
    "print(변수)\n",
    "변수 = 30\n",
    "print(변수)"
   ]
  },
  {
   "cell_type": "code",
   "execution_count": 103,
   "id": "7abf2c3b-376e-496b-bde9-7cbfdadf5e1a",
   "metadata": {},
   "outputs": [
    {
     "name": "stdout",
     "output_type": "stream",
     "text": [
      "10\n",
      "20\n",
      "30\n"
     ]
    }
   ],
   "source": [
    "# 위 코드를 for문으로 작성하기\n",
    "\n",
    "for 변수 in [10, 20, 30]:\n",
    "    print(변수)"
   ]
  },
  {
   "cell_type": "markdown",
   "id": "1b6fc7be-7e7d-40a3-ab5f-d0c828c34262",
   "metadata": {},
   "source": [
    "### 연습문제 137"
   ]
  },
  {
   "cell_type": "code",
   "execution_count": 104,
   "id": "25056c81-c91d-45de-bffe-9274c3770b68",
   "metadata": {},
   "outputs": [
    {
     "name": "stdout",
     "output_type": "stream",
     "text": [
      "10\n",
      "20\n",
      "30\n"
     ]
    }
   ],
   "source": [
    "print(10)\n",
    "print(20)\n",
    "print(30)"
   ]
  },
  {
   "cell_type": "code",
   "execution_count": 105,
   "id": "ed4983b8-710f-47b5-8504-60c09e695367",
   "metadata": {},
   "outputs": [
    {
     "name": "stdout",
     "output_type": "stream",
     "text": [
      "10\n",
      "20\n",
      "30\n"
     ]
    }
   ],
   "source": [
    "# 위 코드를 for문으로 작성하기\n",
    "\n",
    "for i in [10,20,30]:\n",
    "    print(i)"
   ]
  },
  {
   "cell_type": "markdown",
   "id": "128a9db4-8165-4722-8b5d-7c62055903d7",
   "metadata": {},
   "source": [
    "### 연습문제 138"
   ]
  },
  {
   "cell_type": "code",
   "execution_count": 106,
   "id": "636f9d66-c466-46b0-b680-ecc3403502f5",
   "metadata": {},
   "outputs": [
    {
     "name": "stdout",
     "output_type": "stream",
     "text": [
      "10\n",
      "-------\n",
      "20\n",
      "-------\n",
      "30\n",
      "-------\n"
     ]
    }
   ],
   "source": [
    "print(10)\n",
    "print(\"-------\")\n",
    "print(20)\n",
    "print(\"-------\")\n",
    "print(30)\n",
    "print(\"-------\")"
   ]
  },
  {
   "cell_type": "code",
   "execution_count": 112,
   "id": "3fac73ba-b0f5-4882-b695-f9b983ea1170",
   "metadata": {},
   "outputs": [
    {
     "name": "stdout",
     "output_type": "stream",
     "text": [
      "10\n",
      "------\n",
      "20\n",
      "------\n",
      "30\n",
      "------\n"
     ]
    }
   ],
   "source": [
    "# 위 코드를 for문으로 작성하기\n",
    "\n",
    "for i in [10,20,30]:\n",
    "    print(i)\n",
    "    print(\"------\")"
   ]
  },
  {
   "cell_type": "markdown",
   "id": "4048a976-7555-4fd9-a7b0-47a8989ca2b6",
   "metadata": {},
   "source": [
    "### 연습문제 139"
   ]
  },
  {
   "cell_type": "code",
   "execution_count": 109,
   "id": "2f0b012e-e03d-4200-85c3-437e2150c6c4",
   "metadata": {},
   "outputs": [
    {
     "name": "stdout",
     "output_type": "stream",
     "text": [
      "++++\n",
      "10\n",
      "20\n",
      "30\n"
     ]
    }
   ],
   "source": [
    "print(\"++++\")\n",
    "print(10)\n",
    "print(20)\n",
    "print(30)"
   ]
  },
  {
   "cell_type": "code",
   "execution_count": 113,
   "id": "e8e9c125-5b12-4a6d-8622-bac9f6a1c7e9",
   "metadata": {},
   "outputs": [
    {
     "name": "stdout",
     "output_type": "stream",
     "text": [
      "++++\n",
      "10\n",
      "20\n",
      "30\n"
     ]
    }
   ],
   "source": [
    "# 위 코드를 for문으로 작성하기\n",
    "\n",
    "print(\"++++\")\n",
    "for i in [10,20,30]:\n",
    "    print(i)"
   ]
  },
  {
   "cell_type": "markdown",
   "id": "5173af50-2845-4bb0-af36-4be4c5348f36",
   "metadata": {},
   "source": [
    "### 연습문제 140"
   ]
  },
  {
   "cell_type": "code",
   "execution_count": 114,
   "id": "56df001f-64bd-4991-bd21-2c95c9320cec",
   "metadata": {},
   "outputs": [
    {
     "name": "stdout",
     "output_type": "stream",
     "text": [
      "-------\n",
      "-------\n",
      "-------\n",
      "-------\n"
     ]
    }
   ],
   "source": [
    "print(\"-------\")\n",
    "print(\"-------\")\n",
    "print(\"-------\")\n",
    "print(\"-------\")"
   ]
  },
  {
   "cell_type": "code",
   "execution_count": 117,
   "id": "5cf92a6e-20e3-42dd-a334-f376f913eb42",
   "metadata": {},
   "outputs": [
    {
     "name": "stdout",
     "output_type": "stream",
     "text": [
      "-------\n",
      "-------\n",
      "-------\n",
      "-------\n"
     ]
    }
   ],
   "source": [
    "# 위 코드를 for문으로 작성하기\n",
    "\n",
    "for i in [1,2,3,4]:           # 만약 문자열을 리스트에 넣으면 네글자의 하나의 원소가 아니라 몇글자든 4개의 원소가 있으면 4번 반복됨\n",
    "    print(\"-------\")"
   ]
  },
  {
   "cell_type": "markdown",
   "id": "349510c8-d685-4869-a56b-bcd5ab1ceebc",
   "metadata": {},
   "source": [
    "### 연습문제 141"
   ]
  },
  {
   "cell_type": "code",
   "execution_count": 118,
   "id": "eca66919-547a-429b-9aea-bb1e908268c3",
   "metadata": {},
   "outputs": [],
   "source": [
    "리스트 = [100,200,300]"
   ]
  },
  {
   "cell_type": "code",
   "execution_count": 119,
   "id": "d505e8b4-7c1e-4b9f-95fd-18127df1063f",
   "metadata": {},
   "outputs": [
    {
     "name": "stdout",
     "output_type": "stream",
     "text": [
      "110\n",
      "210\n",
      "310\n"
     ]
    }
   ],
   "source": [
    "for i in 리스트:\n",
    "    print(i+10)"
   ]
  },
  {
   "cell_type": "markdown",
   "id": "82ecf406-dd59-42d2-8a2c-07c762531acf",
   "metadata": {},
   "source": [
    "### 연습문제 142"
   ]
  },
  {
   "cell_type": "code",
   "execution_count": 120,
   "id": "6091a1aa-7653-41ec-bad1-e1b3d83b5bd5",
   "metadata": {},
   "outputs": [],
   "source": [
    "리스트 = [\"김밥\", \"라면\", \"튀김\"]"
   ]
  },
  {
   "cell_type": "code",
   "execution_count": 121,
   "id": "f0885c9f-1d88-4d96-b4ca-edfa4c62ffdf",
   "metadata": {},
   "outputs": [
    {
     "name": "stdout",
     "output_type": "stream",
     "text": [
      "오늘의 메뉴: 김밥\n",
      "오늘의 메뉴: 라면\n",
      "오늘의 메뉴: 튀김\n"
     ]
    }
   ],
   "source": [
    "for i in 리스트:\n",
    "    print(\"오늘의 메뉴:\", i)"
   ]
  },
  {
   "cell_type": "code",
   "execution_count": 122,
   "id": "60f38670-5a03-423d-8cb0-502bd14ff513",
   "metadata": {},
   "outputs": [
    {
     "name": "stdout",
     "output_type": "stream",
     "text": [
      "오늘의 메뉴: 김밥\n",
      "오늘의 메뉴: 라면\n",
      "오늘의 메뉴: 튀김\n"
     ]
    }
   ],
   "source": [
    "# 다른 풀이\n",
    "\n",
    "for i in 리스트:\n",
    "    print(\"오늘의 메뉴: \" + i)"
   ]
  },
  {
   "cell_type": "markdown",
   "id": "3e3fd93e-454b-43a3-a309-ae119c768c8a",
   "metadata": {
    "tags": []
   },
   "source": [
    "### 연습문제 143"
   ]
  },
  {
   "cell_type": "code",
   "execution_count": 128,
   "id": "d754d631-fba5-4c3a-978b-d75eb88d54a6",
   "metadata": {},
   "outputs": [],
   "source": [
    "리스트 = [\"SK하이닉스\", \"삼성전자\", \"LG전자\"]"
   ]
  },
  {
   "cell_type": "code",
   "execution_count": 129,
   "id": "ecd272d6-7052-4469-9e39-8d86f2d179d8",
   "metadata": {},
   "outputs": [
    {
     "name": "stdout",
     "output_type": "stream",
     "text": [
      "6\n",
      "4\n",
      "4\n"
     ]
    }
   ],
   "source": [
    "for i in 리스트:\n",
    "    print(len(i))"
   ]
  },
  {
   "cell_type": "markdown",
   "id": "ea007f1b-4d54-4227-bac0-ae904eac553e",
   "metadata": {},
   "source": [
    "- len 함수: 텍스트 문자열의 문자 수, 길이를 반환해주는 함수"
   ]
  },
  {
   "cell_type": "markdown",
   "id": "569f31c2-bda2-4ff0-9eed-382fd95742ea",
   "metadata": {},
   "source": [
    "### 연습문제 144"
   ]
  },
  {
   "cell_type": "code",
   "execution_count": 130,
   "id": "4325ca71-f8c3-4518-96e5-012a5b7d993c",
   "metadata": {},
   "outputs": [],
   "source": [
    "리스트 = ['dog', 'cat', 'parrot']"
   ]
  },
  {
   "cell_type": "code",
   "execution_count": 131,
   "id": "0f7e2b9d-e2d3-4bb4-8516-a57ace592fcf",
   "metadata": {},
   "outputs": [
    {
     "name": "stdout",
     "output_type": "stream",
     "text": [
      "dog 3\n",
      "cat 3\n",
      "parrot 6\n"
     ]
    }
   ],
   "source": [
    "for i in 리스트:\n",
    "    print(i, len(i))"
   ]
  },
  {
   "cell_type": "markdown",
   "id": "fd87af9b-234f-4311-bd7c-24edbf74dd4b",
   "metadata": {
    "tags": []
   },
   "source": [
    "### 연습문제 145"
   ]
  },
  {
   "cell_type": "code",
   "execution_count": 132,
   "id": "c7a8eead-f00d-4dc8-aa93-3622284ba1e3",
   "metadata": {},
   "outputs": [],
   "source": [
    "리스트 = ['dog', 'cat', 'parrot']"
   ]
  },
  {
   "cell_type": "code",
   "execution_count": 136,
   "id": "e9e65cfe-a559-44a9-8ec9-d2f3931ee179",
   "metadata": {},
   "outputs": [
    {
     "name": "stdout",
     "output_type": "stream",
     "text": [
      "d\n",
      "c\n",
      "p\n"
     ]
    }
   ],
   "source": [
    "for i in 리스트:\n",
    "    print(i[:1])   # 슬라이싱-끝에는 포함이 안됨(첫번째 문자만 출력됨)"
   ]
  },
  {
   "cell_type": "code",
   "execution_count": 137,
   "id": "ffdc4895-d1a0-4957-ba04-d29c6e6c3eea",
   "metadata": {},
   "outputs": [
    {
     "name": "stdout",
     "output_type": "stream",
     "text": [
      "d\n",
      "c\n",
      "p\n"
     ]
    }
   ],
   "source": [
    "# 다른풀이 - 문자열의 인덱싱\n",
    "\n",
    "for i in 리스트:\n",
    "    print(i[0])"
   ]
  },
  {
   "cell_type": "markdown",
   "id": "3f9b6dc3-8e51-48e1-9391-8cd25c141fce",
   "metadata": {
    "tags": []
   },
   "source": [
    "### 연습문제 146"
   ]
  },
  {
   "cell_type": "code",
   "execution_count": 138,
   "id": "495b0c33-5006-43a4-919c-8f5e28ae69df",
   "metadata": {},
   "outputs": [],
   "source": [
    "리스트 = [1,2,3]"
   ]
  },
  {
   "cell_type": "code",
   "execution_count": 139,
   "id": "523dc00b-ac9b-4f31-b67c-c9aeb009b280",
   "metadata": {},
   "outputs": [
    {
     "name": "stdout",
     "output_type": "stream",
     "text": [
      "3 x 1\n",
      "3 x 2\n",
      "3 x 3\n"
     ]
    }
   ],
   "source": [
    "for i in 리스트:\n",
    "    print(\"3 x\", i)"
   ]
  },
  {
   "cell_type": "code",
   "execution_count": 141,
   "id": "abed0673-4b40-4a50-a167-e3188e09abc6",
   "metadata": {},
   "outputs": [
    {
     "name": "stdout",
     "output_type": "stream",
     "text": [
      "3 x 1\n",
      "3 x 2\n",
      "3 x 3\n"
     ]
    }
   ],
   "source": [
    "# 다른 풀이\n",
    "\n",
    "for i in 리스트:\n",
    "    print(\"3 x \" + str(i))     # 연산하려면 같은 자료형! i를 문자로 변환해야 함 / + 연산은 콤마처럼 띄어쓰기 자동으로 안됨"
   ]
  },
  {
   "cell_type": "markdown",
   "id": "61c8b77a-b4bd-447e-a97b-aba65eba3dff",
   "metadata": {
    "tags": []
   },
   "source": [
    "### 연습문제 147"
   ]
  },
  {
   "cell_type": "code",
   "execution_count": 142,
   "id": "904f4ef5-937c-479f-a91c-49e84f192178",
   "metadata": {},
   "outputs": [],
   "source": [
    "리스트 = [1,2,3]"
   ]
  },
  {
   "cell_type": "code",
   "execution_count": 143,
   "id": "506e16b6-4369-4bb7-ad92-e1bb6a1c22bf",
   "metadata": {},
   "outputs": [
    {
     "name": "stdout",
     "output_type": "stream",
     "text": [
      "3 x 1 = 3\n",
      "3 x 2 = 6\n",
      "3 x 3 = 9\n"
     ]
    }
   ],
   "source": [
    "for i in 리스트:\n",
    "    print(\"3 x\", i, \"=\", 3*i)"
   ]
  },
  {
   "cell_type": "code",
   "execution_count": 146,
   "id": "c4c3f9c4-f1ae-4614-95f0-a806d8e1a9de",
   "metadata": {},
   "outputs": [
    {
     "name": "stdout",
     "output_type": "stream",
     "text": [
      "3 x 1 = 3\n",
      "3 x 2 = 6\n",
      "3 x 3 = 9\n"
     ]
    }
   ],
   "source": [
    "# 다른 풀이 - 포매팅1\n",
    "\n",
    "for i in 리스트:\n",
    "    print(\"3 x {} = {}\".format(i, 3*i))"
   ]
  },
  {
   "cell_type": "code",
   "execution_count": 147,
   "id": "26664bf8-8b68-4297-a924-30d38019a56f",
   "metadata": {},
   "outputs": [
    {
     "name": "stdout",
     "output_type": "stream",
     "text": [
      "3 x 1 = 3\n",
      "3 x 2 = 6\n",
      "3 x 3 = 9\n"
     ]
    }
   ],
   "source": [
    "# 다른 풀이 - 포매팅2\n",
    "\n",
    "for i in 리스트:\n",
    "    print(\"3 x {0} = {1}\".format(i, 3*i))"
   ]
  },
  {
   "cell_type": "markdown",
   "id": "6c55d041-918d-47da-a9a1-e5f32fa869ab",
   "metadata": {
    "tags": []
   },
   "source": [
    "### 연습문제 148"
   ]
  },
  {
   "cell_type": "code",
   "execution_count": 148,
   "id": "a19484c3-1905-4eea-9a1d-f41d84e0553a",
   "metadata": {},
   "outputs": [],
   "source": [
    "리스트 = [\"가\", \"나\", \"다\", \"라\"]"
   ]
  },
  {
   "cell_type": "code",
   "execution_count": 151,
   "id": "db611d4b-c766-4317-b441-91fd0d76cbaa",
   "metadata": {},
   "outputs": [
    {
     "name": "stdout",
     "output_type": "stream",
     "text": [
      "나\n",
      "다\n",
      "라\n"
     ]
    }
   ],
   "source": [
    "for i in 리스트:\n",
    "    if i != \"가\":\n",
    "        print(i)\n",
    "    else:\n",
    "        continue"
   ]
  },
  {
   "cell_type": "code",
   "execution_count": 152,
   "id": "ff1386a0-3103-4385-91e7-dd596a339f97",
   "metadata": {},
   "outputs": [
    {
     "name": "stdout",
     "output_type": "stream",
     "text": [
      "나\n",
      "다\n",
      "라\n"
     ]
    }
   ],
   "source": [
    "# 다른 풀이 - 슬라이싱 활용\n",
    "\n",
    "for i in 리스트[1:]:\n",
    "    print(i)"
   ]
  },
  {
   "cell_type": "markdown",
   "id": "dd19631c-4ac0-4eac-b2ce-d9909ae76dee",
   "metadata": {},
   "source": [
    "### <span style = \"color:orange\">연습문제 149</span>"
   ]
  },
  {
   "cell_type": "markdown",
   "id": "bd72b4fe-789c-4850-8506-9e13ca04ddf0",
   "metadata": {},
   "source": [
    "- 리스트 슬라이싱 >> `[시작:끝:증감폭]`"
   ]
  },
  {
   "cell_type": "code",
   "execution_count": 160,
   "id": "cb019562-1e91-4fba-9ad0-ef210565a9b2",
   "metadata": {},
   "outputs": [],
   "source": [
    "리스트 = [\"가\", \"나\", \"다\", \"라\"]"
   ]
  },
  {
   "cell_type": "code",
   "execution_count": 161,
   "id": "87468e43-02b4-4d75-b432-c64ef917d01c",
   "metadata": {},
   "outputs": [
    {
     "name": "stdout",
     "output_type": "stream",
     "text": [
      "가\n",
      "다\n"
     ]
    }
   ],
   "source": [
    "for i in 리스트[ : : 2]:  # 리스트 전체를 대상으로 증감폭 2로 설정해서 '가', '다' 값만 슬라이싱 함.(첫번째거 나오고 그 다음 증감폭 2)\n",
    "    print(i)"
   ]
  },
  {
   "cell_type": "markdown",
   "id": "93b0fa1d-1aaf-4f3f-817c-c47b51947576",
   "metadata": {},
   "source": [
    "### <span style = \"color:orange\">연습문제 150</span>"
   ]
  },
  {
   "cell_type": "code",
   "execution_count": 154,
   "id": "880c0739-8ca7-41b1-8ab8-efd158c509fa",
   "metadata": {},
   "outputs": [],
   "source": [
    "리스트 = [\"가\", \"나\", \"다\", \"라\"]"
   ]
  },
  {
   "cell_type": "code",
   "execution_count": 162,
   "id": "ae68c918-e04a-4d86-8aa5-412b9cf6da96",
   "metadata": {},
   "outputs": [
    {
     "name": "stdout",
     "output_type": "stream",
     "text": [
      "라\n",
      "다\n",
      "나\n",
      "가\n"
     ]
    }
   ],
   "source": [
    "for i in 리스트[ : : -1]: # 증감폭을 음수로 설정하면 역방향으로 값을 슬라이싱 함.\n",
    "    print(i)"
   ]
  },
  {
   "cell_type": "markdown",
   "id": "f3937f69-da1d-4e0f-91f4-dbaeaab0fdce",
   "metadata": {
    "tags": []
   },
   "source": [
    "### 연습문제 151"
   ]
  },
  {
   "cell_type": "code",
   "execution_count": 163,
   "id": "ff2e0402-1f93-4f45-888c-637e37e5e882",
   "metadata": {},
   "outputs": [],
   "source": [
    "리스트 = [3, -20, -3, 44]"
   ]
  },
  {
   "cell_type": "code",
   "execution_count": 166,
   "id": "4eefd88d-489b-4a33-b941-7b8d7f8e439b",
   "metadata": {},
   "outputs": [
    {
     "name": "stdout",
     "output_type": "stream",
     "text": [
      "-20\n",
      "-3\n"
     ]
    }
   ],
   "source": [
    "for i in 리스트:\n",
    "    if i < 0:\n",
    "        print(i)\n",
    "    else:\n",
    "        continue"
   ]
  },
  {
   "cell_type": "code",
   "execution_count": 167,
   "id": "2cac18cd-8124-4b29-b4ee-3cc797ff42c4",
   "metadata": {},
   "outputs": [
    {
     "name": "stdout",
     "output_type": "stream",
     "text": [
      "-20\n",
      "-3\n"
     ]
    }
   ],
   "source": [
    "# 이렇게만 써도 O\n",
    "\n",
    "for i in 리스트:\n",
    "    if i < 0:\n",
    "        print(i)"
   ]
  },
  {
   "cell_type": "markdown",
   "id": "da6edd35-3c63-4cc2-9278-efb3fc58bba8",
   "metadata": {
    "tags": []
   },
   "source": [
    "### 연습문제 152"
   ]
  },
  {
   "cell_type": "code",
   "execution_count": 168,
   "id": "1fb77d7a-ce24-4b2e-bbd9-ed0f7f223d0e",
   "metadata": {},
   "outputs": [],
   "source": [
    "리스트 = [3, 100, 23, 44]"
   ]
  },
  {
   "cell_type": "code",
   "execution_count": 169,
   "id": "ef9db9e0-5979-478e-af8e-1557cf71146b",
   "metadata": {},
   "outputs": [
    {
     "name": "stdout",
     "output_type": "stream",
     "text": [
      "3\n"
     ]
    }
   ],
   "source": [
    "for i in 리스트:\n",
    "    if i % 3 == 0:\n",
    "        print(i)"
   ]
  },
  {
   "cell_type": "markdown",
   "id": "a3c02653-dfeb-43d9-a497-b33095bf4ab2",
   "metadata": {
    "tags": []
   },
   "source": [
    "### 연습문제 153"
   ]
  },
  {
   "cell_type": "code",
   "execution_count": 170,
   "id": "74b873fc-47d9-45bd-acc0-8df63425de43",
   "metadata": {},
   "outputs": [],
   "source": [
    "리스트 = [13, 21, 12, 14, 30, 18]"
   ]
  },
  {
   "cell_type": "code",
   "execution_count": 171,
   "id": "ea4e7654-23fa-4f2c-87e8-3e78cedb18c6",
   "metadata": {},
   "outputs": [
    {
     "name": "stdout",
     "output_type": "stream",
     "text": [
      "12\n",
      "18\n"
     ]
    }
   ],
   "source": [
    "for i in 리스트:\n",
    "    if i < 20:\n",
    "        if i % 3 == 0:\n",
    "            print(i)"
   ]
  },
  {
   "cell_type": "code",
   "execution_count": 172,
   "id": "3c87673b-e00b-4dff-bbef-eb26f914cd97",
   "metadata": {},
   "outputs": [
    {
     "name": "stdout",
     "output_type": "stream",
     "text": [
      "12\n",
      "18\n"
     ]
    }
   ],
   "source": [
    "# 다른 풀이\n",
    "\n",
    "for i in 리스트:\n",
    "    if (i < 20) and (i % 3 == 0):\n",
    "        print(i)"
   ]
  },
  {
   "cell_type": "markdown",
   "id": "ad2d8f77-610a-4e70-ba73-15170b07a9d6",
   "metadata": {
    "tags": []
   },
   "source": [
    "### 연습문제 154"
   ]
  },
  {
   "cell_type": "code",
   "execution_count": 173,
   "id": "64947510-e1aa-43bd-9278-d58222911b0e",
   "metadata": {},
   "outputs": [],
   "source": [
    "리스트 = [\"I\", \"study\", \"python\", \"language\", \"!\"]"
   ]
  },
  {
   "cell_type": "code",
   "execution_count": 174,
   "id": "d6b01a51-068f-4f22-a661-aef64da26a84",
   "metadata": {},
   "outputs": [
    {
     "name": "stdout",
     "output_type": "stream",
     "text": [
      "study\n",
      "python\n",
      "language\n"
     ]
    }
   ],
   "source": [
    "for i in 리스트:\n",
    "    if len(i) >= 3:\n",
    "        print(i)"
   ]
  },
  {
   "cell_type": "markdown",
   "id": "2a4f36be-88ae-45f9-9b31-38cd7526b5a9",
   "metadata": {
    "tags": []
   },
   "source": [
    "### 연습문제 155"
   ]
  },
  {
   "cell_type": "code",
   "execution_count": 175,
   "id": "e31403b6-fbb0-4fec-a548-41d8cc3bdf39",
   "metadata": {},
   "outputs": [],
   "source": [
    "리스트 = [\"A\", \"b\", \"c\", \"D\"]"
   ]
  },
  {
   "cell_type": "code",
   "execution_count": 176,
   "id": "678b3700-8eff-4d20-8058-898b3ce032c4",
   "metadata": {},
   "outputs": [
    {
     "name": "stdout",
     "output_type": "stream",
     "text": [
      "A\n",
      "D\n"
     ]
    }
   ],
   "source": [
    "for i in 리스트:\n",
    "    if i.isupper():\n",
    "        print(i)"
   ]
  },
  {
   "cell_type": "markdown",
   "id": "88279cf5-c7e9-4add-870f-a7c96484ede4",
   "metadata": {
    "tags": []
   },
   "source": [
    "### 연습문제 156"
   ]
  },
  {
   "cell_type": "code",
   "execution_count": 177,
   "id": "ec5e89d7-9cc7-47f6-a7f9-33f682eb835d",
   "metadata": {},
   "outputs": [],
   "source": [
    "리스트 = [\"A\", \"b\", \"c\", \"D\"]"
   ]
  },
  {
   "cell_type": "code",
   "execution_count": 178,
   "id": "c8627a1f-d354-41e8-9668-58616bf90a01",
   "metadata": {},
   "outputs": [
    {
     "name": "stdout",
     "output_type": "stream",
     "text": [
      "b\n",
      "c\n"
     ]
    }
   ],
   "source": [
    "for i in 리스트:\n",
    "    if i.islower():\n",
    "        print(i)"
   ]
  },
  {
   "cell_type": "markdown",
   "id": "dc670a1d-65c6-4b54-844f-e4e9907a44e8",
   "metadata": {
    "tags": []
   },
   "source": [
    "### 연습문제 157"
   ]
  },
  {
   "cell_type": "code",
   "execution_count": 179,
   "id": "49524c49-7a92-4261-bb6a-e27abc2bd3ed",
   "metadata": {},
   "outputs": [],
   "source": [
    "리스트 = ['dog', 'cat', 'parrot']"
   ]
  },
  {
   "cell_type": "code",
   "execution_count": 183,
   "id": "aa275493-32a6-47a4-8eda-e163d944458c",
   "metadata": {},
   "outputs": [
    {
     "name": "stdout",
     "output_type": "stream",
     "text": [
      "Dog\n",
      "Cat\n",
      "Parrot\n"
     ]
    }
   ],
   "source": [
    "for i in 리스트:\n",
    "    print(i[0].upper() + i[1:])"
   ]
  },
  {
   "cell_type": "code",
   "execution_count": 184,
   "id": "ca12bf5d-d216-407d-ad49-e7fcabfab15b",
   "metadata": {},
   "outputs": [
    {
     "name": "stdout",
     "output_type": "stream",
     "text": [
      "Dog\n",
      "Cat\n",
      "Parrot\n"
     ]
    }
   ],
   "source": [
    "for i in 리스트:\n",
    "    a = i[0]\n",
    "    print(a.upper() + i[1:])"
   ]
  },
  {
   "cell_type": "markdown",
   "id": "93104c29-2e51-4353-8260-e86c96e055bc",
   "metadata": {
    "tags": []
   },
   "source": [
    "### 연습문제 158"
   ]
  },
  {
   "cell_type": "code",
   "execution_count": 185,
   "id": "80d802cb-2795-4d24-a358-2d7070ac6a76",
   "metadata": {},
   "outputs": [],
   "source": [
    "리스트 = ['hello.py', 'ex01.py', 'intro.hwp']"
   ]
  },
  {
   "cell_type": "code",
   "execution_count": 187,
   "id": "ef29ff32-fb77-40c4-a1c3-26f205f4a299",
   "metadata": {},
   "outputs": [
    {
     "name": "stdout",
     "output_type": "stream",
     "text": [
      "hello\n",
      "ex01\n",
      "intro\n"
     ]
    }
   ],
   "source": [
    "for i in 리스트:\n",
    "    a = i.split('.')\n",
    "    print(a[0])"
   ]
  },
  {
   "cell_type": "markdown",
   "id": "4f79f251-341f-4e74-a2d9-15b654d563d9",
   "metadata": {},
   "source": [
    "- split(): 괄호 안에 문자를 기준으로 문자열을 나눠주는 함수. 괄호에 아무것도 넣지 않으면 공백, 띄어쓰기, tab 기준으로 문자를 나눈다."
   ]
  },
  {
   "cell_type": "code",
   "execution_count": 189,
   "id": "862e66e8-2d06-4bb3-a99f-4e831f69ae1c",
   "metadata": {},
   "outputs": [
    {
     "name": "stdout",
     "output_type": "stream",
     "text": [
      "['1', '2']\n"
     ]
    }
   ],
   "source": [
    "a = \"1   2\"\n",
    "print(a.split())"
   ]
  },
  {
   "cell_type": "markdown",
   "id": "5320d65d-628e-4d43-9983-da6fef4ab550",
   "metadata": {
    "tags": []
   },
   "source": [
    "### 연습문제 159"
   ]
  },
  {
   "cell_type": "code",
   "execution_count": 190,
   "id": "7e81a57e-989c-4d28-a9d2-2d33830a592d",
   "metadata": {},
   "outputs": [],
   "source": [
    "리스트 = ['intra.h', 'intra.c', 'define.h', 'run.py']"
   ]
  },
  {
   "cell_type": "code",
   "execution_count": 191,
   "id": "a9c14c5a-80cf-409b-8d76-790055285bbd",
   "metadata": {},
   "outputs": [
    {
     "name": "stdout",
     "output_type": "stream",
     "text": [
      "intra.h\n",
      "define.h\n"
     ]
    }
   ],
   "source": [
    "for i in 리스트:\n",
    "    split = i.split(\".\")\n",
    "    if split[1][0] == 'h':\n",
    "        print(i)"
   ]
  },
  {
   "cell_type": "markdown",
   "id": "b20e0e51-ccc2-410d-8bf0-e1f06feef18c",
   "metadata": {
    "tags": []
   },
   "source": [
    "### 연습문제 160"
   ]
  },
  {
   "cell_type": "code",
   "execution_count": 192,
   "id": "7c5724ca-c3d8-4ffd-b06d-d7a5ab833007",
   "metadata": {},
   "outputs": [],
   "source": [
    "리스트 = ['intra.h', 'intra.c', 'define.h', 'run.py']"
   ]
  },
  {
   "cell_type": "code",
   "execution_count": 194,
   "id": "bd9497bd-4d36-41ef-b30a-2b262d079fd9",
   "metadata": {},
   "outputs": [
    {
     "name": "stdout",
     "output_type": "stream",
     "text": [
      "intra.h\n",
      "intra.c\n",
      "define.h\n"
     ]
    }
   ],
   "source": [
    "for i in 리스트:\n",
    "    split = i.split('.')\n",
    "    if split[1][0] == 'h' or split[1][0] == 'c':     # 안정적으로 정확하게 해주려면 괄호 쳐주기\n",
    "        print(i)"
   ]
  },
  {
   "cell_type": "markdown",
   "id": "c0539a50-9d02-4622-9ed6-68abd8000cf6",
   "metadata": {
    "tags": []
   },
   "source": [
    "### 연습문제 161"
   ]
  },
  {
   "cell_type": "code",
   "execution_count": 195,
   "id": "3647f304-73d5-4719-99ca-4027cd79a3cd",
   "metadata": {},
   "outputs": [
    {
     "name": "stdout",
     "output_type": "stream",
     "text": [
      "0\n",
      "1\n",
      "2\n",
      "3\n",
      "4\n",
      "5\n",
      "6\n",
      "7\n",
      "8\n",
      "9\n",
      "10\n",
      "11\n",
      "12\n",
      "13\n",
      "14\n",
      "15\n",
      "16\n",
      "17\n",
      "18\n",
      "19\n",
      "20\n",
      "21\n",
      "22\n",
      "23\n",
      "24\n",
      "25\n",
      "26\n",
      "27\n",
      "28\n",
      "29\n",
      "30\n",
      "31\n",
      "32\n",
      "33\n",
      "34\n",
      "35\n",
      "36\n",
      "37\n",
      "38\n",
      "39\n",
      "40\n",
      "41\n",
      "42\n",
      "43\n",
      "44\n",
      "45\n",
      "46\n",
      "47\n",
      "48\n",
      "49\n",
      "50\n",
      "51\n",
      "52\n",
      "53\n",
      "54\n",
      "55\n",
      "56\n",
      "57\n",
      "58\n",
      "59\n",
      "60\n",
      "61\n",
      "62\n",
      "63\n",
      "64\n",
      "65\n",
      "66\n",
      "67\n",
      "68\n",
      "69\n",
      "70\n",
      "71\n",
      "72\n",
      "73\n",
      "74\n",
      "75\n",
      "76\n",
      "77\n",
      "78\n",
      "79\n",
      "80\n",
      "81\n",
      "82\n",
      "83\n",
      "84\n",
      "85\n",
      "86\n",
      "87\n",
      "88\n",
      "89\n",
      "90\n",
      "91\n",
      "92\n",
      "93\n",
      "94\n",
      "95\n",
      "96\n",
      "97\n",
      "98\n",
      "99\n"
     ]
    }
   ],
   "source": [
    "for i in range(100):\n",
    "    print(i)"
   ]
  },
  {
   "cell_type": "markdown",
   "id": "7b56ddc4-5bd9-4ab3-a301-63f8c6b2dd0a",
   "metadata": {
    "tags": []
   },
   "source": [
    "### 연습문제 162"
   ]
  },
  {
   "cell_type": "code",
   "execution_count": 197,
   "id": "874c4967-4e78-409f-ae0f-8691d8c11d7b",
   "metadata": {},
   "outputs": [
    {
     "name": "stdout",
     "output_type": "stream",
     "text": [
      "2002\n",
      "2006\n",
      "2010\n",
      "2014\n",
      "2018\n",
      "2022\n",
      "2026\n",
      "2030\n",
      "2034\n",
      "2038\n",
      "2042\n",
      "2046\n",
      "2050\n"
     ]
    }
   ],
   "source": [
    "for i in range(2002, 2051):\n",
    "    if i % 4 == 2:\n",
    "        print(i)"
   ]
  },
  {
   "cell_type": "code",
   "execution_count": 199,
   "id": "86aaad2e-ec82-4c0e-bed8-7ad2cddb913b",
   "metadata": {},
   "outputs": [
    {
     "name": "stdout",
     "output_type": "stream",
     "text": [
      "2002\n",
      "2006\n",
      "2010\n",
      "2014\n",
      "2018\n",
      "2022\n",
      "2026\n",
      "2030\n",
      "2034\n",
      "2038\n",
      "2042\n",
      "2046\n",
      "2050\n"
     ]
    }
   ],
   "source": [
    "# 다른 풀이 - range의 세번째 파라미터인 증감폭 활용\n",
    "\n",
    "for x in range(2002, 2051, 4):  # 2002를 시작으로 4 간격으로 x가 출력됨\n",
    "    print(x)"
   ]
  },
  {
   "cell_type": "markdown",
   "id": "1166e11f-b3ba-4ffa-a5b6-e97c07226826",
   "metadata": {
    "tags": []
   },
   "source": [
    "### 연습문제 163"
   ]
  },
  {
   "cell_type": "code",
   "execution_count": 200,
   "id": "265764ef-b19d-4c82-8222-5e19d8f77ee0",
   "metadata": {},
   "outputs": [
    {
     "name": "stdout",
     "output_type": "stream",
     "text": [
      "3\n",
      "6\n",
      "9\n",
      "12\n",
      "15\n",
      "18\n",
      "21\n",
      "24\n",
      "27\n",
      "30\n"
     ]
    }
   ],
   "source": [
    "for i in range(1, 31):\n",
    "    if i % 3 == 0:\n",
    "        print(i)"
   ]
  },
  {
   "cell_type": "code",
   "execution_count": 203,
   "id": "6a9a41c7-9c3a-4c2c-81df-b050dd1dcddf",
   "metadata": {},
   "outputs": [
    {
     "name": "stdout",
     "output_type": "stream",
     "text": [
      "3\n",
      "6\n",
      "9\n",
      "12\n",
      "15\n",
      "18\n",
      "21\n",
      "24\n",
      "27\n",
      "30\n"
     ]
    }
   ],
   "source": [
    "# range 증감폭 활용! - 대신 시작점을 출력될 처음 값으로 지정해 줘야 함\n",
    "\n",
    "for i in range(3, 31, 3):\n",
    "    print(i)"
   ]
  },
  {
   "cell_type": "markdown",
   "id": "986889bd-fa89-43c2-90fc-b47534de503f",
   "metadata": {
    "tags": []
   },
   "source": [
    "### <span style=\"color:red\">연습문제 164</span>"
   ]
  },
  {
   "cell_type": "code",
   "execution_count": 224,
   "id": "b9846b86-c578-4b80-8cbe-6433a1a532eb",
   "metadata": {},
   "outputs": [
    {
     "ename": "AttributeError",
     "evalue": "'int' object has no attribute 'list'",
     "output_type": "error",
     "traceback": [
      "\u001b[1;31m---------------------------------------------------------------------------\u001b[0m",
      "\u001b[1;31mAttributeError\u001b[0m                            Traceback (most recent call last)",
      "Cell \u001b[1;32mIn [224], line 2\u001b[0m\n\u001b[0;32m      1\u001b[0m \u001b[38;5;28;01mfor\u001b[39;00m i \u001b[38;5;129;01min\u001b[39;00m \u001b[38;5;28mrange\u001b[39m(\u001b[38;5;241m100\u001b[39m):\n\u001b[1;32m----> 2\u001b[0m     l \u001b[38;5;241m=\u001b[39m \u001b[43mi\u001b[49m\u001b[38;5;241;43m.\u001b[39;49m\u001b[43mlist\u001b[49m()\n\u001b[0;32m      3\u001b[0m     \u001b[38;5;28mprint\u001b[39m(i[: :\u001b[38;5;241m-\u001b[39m\u001b[38;5;241m1\u001b[39m])\n",
      "\u001b[1;31mAttributeError\u001b[0m: 'int' object has no attribute 'list'"
     ]
    }
   ],
   "source": [
    "# 틀림\n",
    "\n",
    "for i in range(100):\n",
    "    l = i.list()      # AttributeError: 'int' object has no attribute 'list'\n",
    "    print(i[: :-1])"
   ]
  },
  {
   "cell_type": "code",
   "execution_count": 226,
   "id": "7e6d60f5-7af9-493c-abca-472cc9586b52",
   "metadata": {},
   "outputs": [
    {
     "name": "stdout",
     "output_type": "stream",
     "text": [
      "99\n",
      "98\n",
      "97\n",
      "96\n",
      "95\n",
      "94\n",
      "93\n",
      "92\n",
      "91\n",
      "90\n",
      "89\n",
      "88\n",
      "87\n",
      "86\n",
      "85\n",
      "84\n",
      "83\n",
      "82\n",
      "81\n",
      "80\n",
      "79\n",
      "78\n",
      "77\n",
      "76\n",
      "75\n",
      "74\n",
      "73\n",
      "72\n",
      "71\n",
      "70\n",
      "69\n",
      "68\n",
      "67\n",
      "66\n",
      "65\n",
      "64\n",
      "63\n",
      "62\n",
      "61\n",
      "60\n",
      "59\n",
      "58\n",
      "57\n",
      "56\n",
      "55\n",
      "54\n",
      "53\n",
      "52\n",
      "51\n",
      "50\n",
      "49\n",
      "48\n",
      "47\n",
      "46\n",
      "45\n",
      "44\n",
      "43\n",
      "42\n",
      "41\n",
      "40\n",
      "39\n",
      "38\n",
      "37\n",
      "36\n",
      "35\n",
      "34\n",
      "33\n",
      "32\n",
      "31\n",
      "30\n",
      "29\n",
      "28\n",
      "27\n",
      "26\n",
      "25\n",
      "24\n",
      "23\n",
      "22\n",
      "21\n",
      "20\n",
      "19\n",
      "18\n",
      "17\n",
      "16\n",
      "15\n",
      "14\n",
      "13\n",
      "12\n",
      "11\n",
      "10\n",
      "9\n",
      "8\n",
      "7\n",
      "6\n",
      "5\n",
      "4\n",
      "3\n",
      "2\n",
      "1\n",
      "0\n"
     ]
    }
   ],
   "source": [
    "for i in range(100):\n",
    "    print(99 - i)         # 뺄셈을 사용해서 원하는 결괏값을 얻음"
   ]
  },
  {
   "cell_type": "markdown",
   "id": "cc59ea76-2ca0-400c-9b9a-84b5371ce39f",
   "metadata": {
    "tags": []
   },
   "source": [
    "### 연습문제 165"
   ]
  },
  {
   "cell_type": "code",
   "execution_count": 227,
   "id": "6e17e4d7-e771-400f-a013-95a8e0f7b917",
   "metadata": {},
   "outputs": [
    {
     "name": "stdout",
     "output_type": "stream",
     "text": [
      "0.0\n",
      "0.1\n",
      "0.2\n",
      "0.3\n",
      "0.4\n",
      "0.5\n",
      "0.6\n",
      "0.7\n",
      "0.8\n",
      "0.9\n"
     ]
    }
   ],
   "source": [
    "for i in range(10):\n",
    "    print(\"0.\" + str(i))"
   ]
  },
  {
   "cell_type": "code",
   "execution_count": 229,
   "id": "039f6293-d250-44e6-bb73-f268b84af90e",
   "metadata": {},
   "outputs": [
    {
     "name": "stdout",
     "output_type": "stream",
     "text": [
      "0.0\n",
      "0.1\n",
      "0.2\n",
      "0.3\n",
      "0.4\n",
      "0.5\n",
      "0.6\n",
      "0.7\n",
      "0.8\n",
      "0.9\n"
     ]
    }
   ],
   "source": [
    "# 다른 풀이 - 결괏값의 형태가 어떤 연산을 하면 나올 수 있는지 규칙성 등 잘 살펴보기!\n",
    "\n",
    "for i in range(10):\n",
    "    print(i / 10)"
   ]
  },
  {
   "cell_type": "markdown",
   "id": "a878c920-ef94-46e2-8d45-746dd184fe94",
   "metadata": {
    "tags": []
   },
   "source": [
    "### 연습문제 166"
   ]
  },
  {
   "cell_type": "code",
   "execution_count": 230,
   "id": "5192407e-fb76-4adb-af10-014af36fb48f",
   "metadata": {},
   "outputs": [
    {
     "name": "stdout",
     "output_type": "stream",
     "text": [
      "3x1 = 3\n",
      "3x2 = 6\n",
      "3x3 = 9\n",
      "3x4 = 12\n",
      "3x5 = 15\n",
      "3x6 = 18\n",
      "3x7 = 21\n",
      "3x8 = 24\n",
      "3x9 = 27\n"
     ]
    }
   ],
   "source": [
    "# 구구단 3단\n",
    "\n",
    "for i in range(1, 10):\n",
    "    print(\"3x\"+str(i), \"=\", str(3*i))"
   ]
  },
  {
   "cell_type": "markdown",
   "id": "3e9cfed6-86fa-41f7-96bd-8e59a13a9f49",
   "metadata": {
    "tags": []
   },
   "source": [
    "### 연습문제 167"
   ]
  },
  {
   "cell_type": "code",
   "execution_count": 233,
   "id": "5cbad2c8-a654-4781-b4cd-f02da178bf78",
   "metadata": {},
   "outputs": [
    {
     "name": "stdout",
     "output_type": "stream",
     "text": [
      "3x1 = 3\n",
      "3x3 = 9\n",
      "3x5 = 15\n",
      "3x7 = 21\n",
      "3x9 = 27\n"
     ]
    }
   ],
   "source": [
    "for i in range(1,10,2):\n",
    "    print(\"3x\"+str(i), \"=\", str(3*i))"
   ]
  },
  {
   "cell_type": "code",
   "execution_count": 234,
   "id": "5662880e-dbfd-46a0-a00a-b2ae77ff4b92",
   "metadata": {},
   "outputs": [
    {
     "name": "stdout",
     "output_type": "stream",
     "text": [
      "3 x 1  =  3\n",
      "3 x 3  =  9\n",
      "3 x 5  =  15\n",
      "3 x 7  =  21\n",
      "3 x 9  =  27\n"
     ]
    }
   ],
   "source": [
    "num = 3\n",
    "for i in range(1, 10) :\n",
    "    if i % 2 == 1 :\n",
    "        print (num, \"x\", i, \" = \", num * i)"
   ]
  },
  {
   "cell_type": "markdown",
   "id": "6d574feb-a018-446c-bce3-0ec42f15dc4d",
   "metadata": {
    "tags": []
   },
   "source": [
    "### 연습문제 168"
   ]
  },
  {
   "cell_type": "code",
   "execution_count": 238,
   "id": "857571f3-3049-4057-817c-95a4b0a2daa9",
   "metadata": {},
   "outputs": [
    {
     "name": "stdout",
     "output_type": "stream",
     "text": [
      "합 : 55\n"
     ]
    }
   ],
   "source": [
    "sum = 0                 # 초기값 설정 중요!\n",
    "for i in range(1,11):\n",
    "    sum += i\n",
    "print(\"합 :\", sum)      # 들여쓰기 코드 밖에 작성해야 마지막 sum값만 깔끔하게 출력됨"
   ]
  },
  {
   "cell_type": "markdown",
   "id": "02dbe6c3-8900-4473-9b6f-6d22338881a0",
   "metadata": {
    "tags": []
   },
   "source": [
    "### 연습문제 169"
   ]
  },
  {
   "cell_type": "code",
   "execution_count": 240,
   "id": "8b7ca3c2-b620-4713-b463-9aa33904578d",
   "metadata": {},
   "outputs": [
    {
     "name": "stdout",
     "output_type": "stream",
     "text": [
      "합 : 25\n"
     ]
    }
   ],
   "source": [
    "sum = 0\n",
    "\n",
    "for i in range(1,10):\n",
    "    if i % 2 == 1:\n",
    "        sum += i\n",
    "print(\"합 :\", sum)"
   ]
  },
  {
   "cell_type": "markdown",
   "id": "9c29d465-dadd-42d4-bdf9-4ff65f583dcc",
   "metadata": {
    "tags": []
   },
   "source": [
    "### 연습문제 160"
   ]
  },
  {
   "cell_type": "code",
   "execution_count": 243,
   "id": "d84161b6-4bb9-4d0e-a329-617f9a1145ba",
   "metadata": {},
   "outputs": [
    {
     "name": "stdout",
     "output_type": "stream",
     "text": [
      "3628800\n"
     ]
    }
   ],
   "source": [
    "sum = 1                  # 곱한값이 나오려면 초깃값이 1이어야 함!\n",
    "\n",
    "for i in range(1, 11):\n",
    "    sum *= i\n",
    "print(sum)"
   ]
  }
 ],
 "metadata": {
  "kernelspec": {
   "display_name": "Python 3 (ipykernel)",
   "language": "python",
   "name": "python3"
  },
  "language_info": {
   "codemirror_mode": {
    "name": "ipython",
    "version": 3
   },
   "file_extension": ".py",
   "mimetype": "text/x-python",
   "name": "python",
   "nbconvert_exporter": "python",
   "pygments_lexer": "ipython3",
   "version": "3.9.13"
  }
 },
 "nbformat": 4,
 "nbformat_minor": 5
}
