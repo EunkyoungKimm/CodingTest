{
 "cells": [
  {
   "cell_type": "markdown",
   "id": "fd3ea52a-907b-416f-bfef-2fd68bcaf871",
   "metadata": {},
   "source": [
    "# 파이썬 연습문제 - 변수, 논리식, 반복문\n",
    "\n",
    "\n",
    "참고자료: https://wikidocs.net/book/922\n",
    "\n",
    "\n",
    "1. [파이썬 변수](#파이썬-변수)\n",
    "1. [파이썬 논리식](#파이썬-논리식)\n",
    "1. [파이썬 반복문](#파이썬-반복문)"
   ]
  },
  {
   "cell_type": "markdown",
   "id": "76ca6b32-5d54-409b-b367-2d78c8c91b68",
   "metadata": {},
   "source": [
    "# 파이썬 변수\n",
    "\n",
    "- 변수: 데이터를 저장할 수 있는 저장 공간, 메모리 공간\n",
    "- 파이썬 변수는 자주 사용되는 값을 바인딩한다.\n",
    "\n",
    "\n",
    "## 바인딩(binding)\n",
    "\n",
    "- 프로그램에 사용된 구성 요소의 실제 값 또는 프로퍼티를 결정짓는 행위 (주소(참조), 값 등 구체적인 값들로 확정하는 것, bind(구속)하는 것)\n",
    "- 메모리에 값을 할당하는 것도 바인딩이다. (함수를 호출하는 부분에 함수가 위치한 메모리 번지로 연결시켜 주는 것도 바인딩이다)\n",
    "```python\n",
    "apple = '사과' # apple 변수명 바인딩, '사과' 변수값 바인딩\n",
    "int num = 10  # int 자료형 바인딩, num 변수명 바인딩, 10 변수값 바인딩\n",
    "```\n",
    "- 정적 바인딩(static binding) / 동적 바인딩(dynamic binding) 으로 구분된다.\n",
    "- 정적 바인딩: 컴파일 시간에 성격이 결정되는 것 ex. C언어 컴파일 시간에 변수의 데이터 타입이 결정\n",
    "- 동적 바인딩: 프로그램 실행시간에 일어나는 바인딩 ex. Python(Interpreter 언어) 런타임에 값에 따라 변수의 데이터 타입이 결정\n",
    "- 장단점<br>\n",
    "**정적 바인딩**은 컴파일 시 이미 값이 정해지므로 실행만 하면 되서 실행시 효율이 높다! 속도가 빠르고, 값이 변하지 않아서 안정적이다.<br>\n",
    "**동적 바인딩**은 런타임에 자유롭게 성격, 값이 변할 수 있으므로 유연, 적응성이 높다! 하지만 들어올 값보다 많은 메모리 공간을 차지하고 있기 때문에 메모리 공간이 낭비될 수 있고, 들어오는 값이 메모리 타입에 맞는지 확인하기 때문에 속도가 늦어진다."
   ]
  },
  {
   "cell_type": "markdown",
   "id": "0869889c-66ec-44dd-80e9-f2907c03eb53",
   "metadata": {},
   "source": [
    "### 연습문제 11: 변수 사용하기"
   ]
  },
  {
   "cell_type": "code",
   "execution_count": 3,
   "id": "cdc80d97-fdd3-4a1a-98a5-26e03fd3a91d",
   "metadata": {},
   "outputs": [
    {
     "data": {
      "text/plain": [
       "500000"
      ]
     },
     "execution_count": 3,
     "metadata": {},
     "output_type": "execute_result"
    }
   ],
   "source": [
    "삼성전자 = 50000\n",
    "총평가금액 = 삼성전자 * 10\n",
    "총평가금액 # print(총평가금액)"
   ]
  },
  {
   "cell_type": "markdown",
   "id": "849274c7-e8d0-4445-97c4-be46e4ec1b2d",
   "metadata": {},
   "source": [
    "### 연습문제 12: 변수 사용하기"
   ]
  },
  {
   "cell_type": "code",
   "execution_count": 6,
   "id": "4f482bf0-3f29-458f-bcb1-87d3e362b255",
   "metadata": {},
   "outputs": [],
   "source": [
    "시가총액 = 298000000000000\n",
    "현재가 = 50000\n",
    "PER = 15.79"
   ]
  },
  {
   "cell_type": "code",
   "execution_count": 5,
   "id": "23ada580-499a-4e75-b068-5d978e630d22",
   "metadata": {},
   "outputs": [
    {
     "name": "stdout",
     "output_type": "stream",
     "text": [
      "298000000000000 <class 'int'>\n",
      "50000 <class 'int'>\n",
      "15.79 <class 'float'>\n"
     ]
    }
   ],
   "source": [
    "# 변수의 값, type도 알아보기\n",
    "\n",
    "print(시가총액, type(시가총액))\n",
    "print(현재가, type(현재가))\n",
    "print(PER, type(PER))"
   ]
  },
  {
   "cell_type": "markdown",
   "id": "8eed872a-9dea-49cc-80d6-8720c20ba67e",
   "metadata": {},
   "source": [
    "### 연습문제 13: 문자열 출력"
   ]
  },
  {
   "cell_type": "code",
   "execution_count": 7,
   "id": "747668f7-3718-4c96-a025-c369ccc940a5",
   "metadata": {},
   "outputs": [],
   "source": [
    "s = \"hello\"\n",
    "t = \"python\""
   ]
  },
  {
   "cell_type": "code",
   "execution_count": 9,
   "id": "e4302186-3ba0-4a81-bc1d-faf035c370aa",
   "metadata": {},
   "outputs": [
    {
     "name": "stdout",
     "output_type": "stream",
     "text": [
      "hello! python\n"
     ]
    }
   ],
   "source": [
    "print(s + '! ' + t)"
   ]
  },
  {
   "cell_type": "code",
   "execution_count": 11,
   "id": "57bc9277-3d42-4dae-b175-f10924b2fb7a",
   "metadata": {},
   "outputs": [
    {
     "name": "stdout",
     "output_type": "stream",
     "text": [
      "hello! python\n"
     ]
    }
   ],
   "source": [
    "# 다른 풀이\n",
    "\n",
    "print(s + '!', t) # 콤마(,) 구분하면 띄어쓰기(공백 하나) 됨 "
   ]
  },
  {
   "cell_type": "markdown",
   "id": "10ed48a5-6160-4d52-b12a-99419357b133",
   "metadata": {},
   "source": [
    "### 연습문제 14: 파이썬을 이용한 값 계산"
   ]
  },
  {
   "cell_type": "code",
   "execution_count": 12,
   "id": "b16e2d1e-82a6-485a-a45d-cd8227c9f6e4",
   "metadata": {},
   "outputs": [
    {
     "data": {
      "text/plain": [
       "8"
      ]
     },
     "execution_count": 12,
     "metadata": {},
     "output_type": "execute_result"
    }
   ],
   "source": [
    "2 + 2 * 3 # 8"
   ]
  },
  {
   "cell_type": "markdown",
   "id": "7f818d1d-e454-4af8-85f8-8da76da04f49",
   "metadata": {},
   "source": [
    "### 연습문제 15: type 함수\n",
    "\n",
    "- type함수: 데이터 타입을 판별하는 함수\n",
    "- 변수 a에는 128 숫자가 바인딩 되어 있어서 int형(정수형)임을 알려준다."
   ]
  },
  {
   "cell_type": "code",
   "execution_count": 13,
   "id": "ddf7e743-e927-4bee-85ba-c0e089642dac",
   "metadata": {},
   "outputs": [
    {
     "name": "stdout",
     "output_type": "stream",
     "text": [
      "<class 'int'>\n"
     ]
    }
   ],
   "source": [
    "a = 128\n",
    "print(type(a))"
   ]
  },
  {
   "cell_type": "code",
   "execution_count": 14,
   "id": "12246598-a12f-46a3-8aa1-0775d4e507f5",
   "metadata": {},
   "outputs": [
    {
     "name": "stdout",
     "output_type": "stream",
     "text": [
      "<class 'str'>\n"
     ]
    }
   ],
   "source": [
    "a = '132'\n",
    "print(type(a)) # str"
   ]
  },
  {
   "cell_type": "markdown",
   "id": "cf2757b0-57b5-43e5-9115-b39a8f14c63b",
   "metadata": {},
   "source": [
    "### 연습문제 16: 문자열을 정수로 변환"
   ]
  },
  {
   "cell_type": "code",
   "execution_count": 15,
   "id": "c45f8654-92d6-452a-88c1-82c8aee01a18",
   "metadata": {},
   "outputs": [],
   "source": [
    "num_str = \"720\""
   ]
  },
  {
   "cell_type": "code",
   "execution_count": 17,
   "id": "20acedbb-0463-4269-96dd-ab69f99895e6",
   "metadata": {},
   "outputs": [
    {
     "name": "stdout",
     "output_type": "stream",
     "text": [
      "<class 'str'>\n"
     ]
    }
   ],
   "source": [
    "int(num_str)\n",
    "print(type(num_str))"
   ]
  },
  {
   "cell_type": "code",
   "execution_count": 18,
   "id": "9cc5734f-a6a0-4406-a113-019d36732dc1",
   "metadata": {},
   "outputs": [
    {
     "name": "stdout",
     "output_type": "stream",
     "text": [
      "<class 'int'>\n"
     ]
    }
   ],
   "source": [
    "# 다른 풀이\n",
    "\n",
    "num_str = \"720\"\n",
    "num_int = int(num_str) # 직관적인 변수명에 그 값을 담아주는게 좋은 것 같다 \n",
    "print(type(num_int))   # 출력할 때는 변수명을 넣어서!"
   ]
  },
  {
   "cell_type": "markdown",
   "id": "52bd5c82-5ec9-4dc9-8f39-1ac304d39b13",
   "metadata": {},
   "source": [
    "### 연습문제 17: 정수를 문자열 100으로 변환"
   ]
  },
  {
   "cell_type": "code",
   "execution_count": 20,
   "id": "bc6d3a1d-8f6b-407b-8805-5e077b668f47",
   "metadata": {},
   "outputs": [],
   "source": [
    "num = 100"
   ]
  },
  {
   "cell_type": "code",
   "execution_count": 26,
   "id": "0ee498f6-5314-4c64-ad7e-b570d7d7166d",
   "metadata": {},
   "outputs": [
    {
     "data": {
      "text/plain": [
       "str"
      ]
     },
     "execution_count": 26,
     "metadata": {},
     "output_type": "execute_result"
    }
   ],
   "source": [
    "num_str = str(num) # result라는 변수명도 good\n",
    "type(num_str)"
   ]
  },
  {
   "cell_type": "code",
   "execution_count": 27,
   "id": "dc8f33cc-7da0-4d3a-a9ab-9e99a3d3c221",
   "metadata": {},
   "outputs": [
    {
     "name": "stdout",
     "output_type": "stream",
     "text": [
      "<class 'str'>\n"
     ]
    }
   ],
   "source": [
    "print(type(num_str))"
   ]
  },
  {
   "cell_type": "markdown",
   "id": "1078cc45-092f-4091-9d5c-14905d504b4f",
   "metadata": {},
   "source": [
    "### 연습문제 18: 문자열을 실수로 변환"
   ]
  },
  {
   "cell_type": "code",
   "execution_count": 28,
   "id": "a92f1b8a-bde6-4bfb-ac1c-8cd41f8d2fc4",
   "metadata": {},
   "outputs": [
    {
     "name": "stdout",
     "output_type": "stream",
     "text": [
      "<class 'float'>\n"
     ]
    }
   ],
   "source": [
    "num_str = \"15.79\"\n",
    "num_float = float(num_str)\n",
    "print(type(num_float))"
   ]
  },
  {
   "cell_type": "code",
   "execution_count": 29,
   "id": "e2009707-1356-41bb-9847-0fe0cec75707",
   "metadata": {},
   "outputs": [
    {
     "name": "stdout",
     "output_type": "stream",
     "text": [
      "<class 'float'>\n"
     ]
    }
   ],
   "source": [
    "# 변수명 data\n",
    "\n",
    "data = \"15.79\"\n",
    "data = float(data)\n",
    "print(type(data))"
   ]
  },
  {
   "cell_type": "markdown",
   "id": "db7a55d5-057f-46d4-acdf-5434f6d15815",
   "metadata": {},
   "source": [
    "### 연습문제 19: 문자열을 정수로 변환"
   ]
  },
  {
   "cell_type": "code",
   "execution_count": 30,
   "id": "dde2b7c3-1d47-45e1-a360-f01d20f96efe",
   "metadata": {},
   "outputs": [],
   "source": [
    "# 현재 연도 2020\n",
    "year = \"2020\""
   ]
  },
  {
   "cell_type": "code",
   "execution_count": 32,
   "id": "0897e098-d487-4ba6-bc3b-c4fb9da537cb",
   "metadata": {},
   "outputs": [
    {
     "name": "stdout",
     "output_type": "stream",
     "text": [
      "2017 2018 2019\n"
     ]
    }
   ],
   "source": [
    "year = int(year)\n",
    "print(year-3, year-2, year-1) # 최근 3년 연도"
   ]
  },
  {
   "cell_type": "markdown",
   "id": "52969684-a981-4c8c-804d-81a199ca597b",
   "metadata": {},
   "source": [
    "### 연습문제 20: 파이썬 계산"
   ]
  },
  {
   "cell_type": "code",
   "execution_count": 33,
   "id": "c2f9731e-1d66-4e59-964f-4ea99c90acb7",
   "metadata": {},
   "outputs": [],
   "source": [
    "cost = 48584\n",
    "month = 36"
   ]
  },
  {
   "cell_type": "code",
   "execution_count": 34,
   "id": "fdff13f8-d8bd-40ba-846e-27b1febf3646",
   "metadata": {},
   "outputs": [
    {
     "name": "stdout",
     "output_type": "stream",
     "text": [
      "1749024\n"
     ]
    }
   ],
   "source": [
    "price = cost * month\n",
    "print(price)"
   ]
  },
  {
   "cell_type": "markdown",
   "id": "ba144e9e-bd62-449b-b92c-1772b5e4d992",
   "metadata": {},
   "source": [
    "# 파이썬 논리식\n",
    "\n",
    "- 파이썬은 `if`라는 키워드를 통해 조건문, 분기문을 만들 수 있다.\n",
    "- 조건물(conditional statements): 사용자의 입력 혹은 특정 값을 일정 조건에 따라 다르게 처리할 때 사용된다.\n",
    "- 분기문(switch statements): 프로그램의 흐름을 조건에 따라서 분기시킨다.(조건문과 비슷하다.)\n",
    "- if, else문"
   ]
  },
  {
   "cell_type": "markdown",
   "id": "4fa7dddb-693d-426c-b074-05d0f907a90c",
   "metadata": {},
   "source": [
    "### 연습문제 101"
   ]
  },
  {
   "cell_type": "markdown",
   "id": "14f8f634-aeb7-486f-b6ed-2d42c250ab61",
   "metadata": {},
   "source": [
    "파이썬에서 True 혹은 False를 갖는 데이터 타입은?   **bool 타입**"
   ]
  },
  {
   "cell_type": "markdown",
   "id": "f08d9861-3887-499b-b433-cd07250510cf",
   "metadata": {},
   "source": [
    "### 연습문제 102"
   ]
  },
  {
   "cell_type": "code",
   "execution_count": 35,
   "id": "d36ba0d9-ac75-46d1-8892-e0c32305d92d",
   "metadata": {},
   "outputs": [
    {
     "name": "stdout",
     "output_type": "stream",
     "text": [
      "False\n"
     ]
    }
   ],
   "source": [
    "print(3 == 5) # False"
   ]
  },
  {
   "cell_type": "markdown",
   "id": "8a78ad35-37e1-4f29-a511-6778f95ed468",
   "metadata": {},
   "source": [
    "### 연습문제 103"
   ]
  },
  {
   "cell_type": "code",
   "execution_count": 36,
   "id": "8ae13643-8f99-47db-a32b-be5656b0425d",
   "metadata": {},
   "outputs": [
    {
     "name": "stdout",
     "output_type": "stream",
     "text": [
      "True\n"
     ]
    }
   ],
   "source": [
    "print(3 < 5) # True"
   ]
  },
  {
   "cell_type": "markdown",
   "id": "a09b4ed9-aaf6-4cec-aa54-faa31a11231e",
   "metadata": {},
   "source": [
    "### 연습문제 104"
   ]
  },
  {
   "cell_type": "code",
   "execution_count": 37,
   "id": "cdf3c7fe-7c2b-4fb7-904c-a679bd15c7bd",
   "metadata": {},
   "outputs": [
    {
     "name": "stdout",
     "output_type": "stream",
     "text": [
      "True\n"
     ]
    }
   ],
   "source": [
    "x = 4\n",
    "print(1 < x < 5) # True"
   ]
  },
  {
   "cell_type": "markdown",
   "id": "c4861012-7b1e-4303-bd8e-078d52541468",
   "metadata": {},
   "source": [
    "### 연습문제 105"
   ]
  },
  {
   "cell_type": "code",
   "execution_count": 38,
   "id": "5b412a95-d745-4d90-b5f9-37350f6be561",
   "metadata": {},
   "outputs": [
    {
     "name": "stdout",
     "output_type": "stream",
     "text": [
      "True\n"
     ]
    }
   ],
   "source": [
    "print((3 == 3) and (4!= 3)) # True"
   ]
  },
  {
   "cell_type": "markdown",
   "id": "b212bcbf-026e-4d2b-872b-61cbd378fc17",
   "metadata": {},
   "source": [
    "### 연습문제 106"
   ]
  },
  {
   "cell_type": "code",
   "execution_count": 39,
   "id": "9c45f39b-0a88-4a86-8d39-36370ee896de",
   "metadata": {},
   "outputs": [
    {
     "ename": "SyntaxError",
     "evalue": "expression cannot contain assignment, perhaps you meant \"==\"? (2649538717.py, line 1)",
     "output_type": "error",
     "traceback": [
      "\u001b[1;36m  Cell \u001b[1;32mIn [39], line 1\u001b[1;36m\u001b[0m\n\u001b[1;33m    print(3 => 4) #\u001b[0m\n\u001b[1;37m          ^\u001b[0m\n\u001b[1;31mSyntaxError\u001b[0m\u001b[1;31m:\u001b[0m expression cannot contain assignment, perhaps you meant \"==\"?\n"
     ]
    }
   ],
   "source": [
    "print(3 => 4) # SyntaxError - 지원하지 않는 연산자이다."
   ]
  },
  {
   "cell_type": "markdown",
   "id": "cfc1f951-09c2-4d2d-9d1c-273644a56104",
   "metadata": {},
   "source": [
    "### 연습문제 107"
   ]
  },
  {
   "cell_type": "code",
   "execution_count": 40,
   "id": "d5c26503-6b4d-4f6c-b560-55c57d881d38",
   "metadata": {},
   "outputs": [],
   "source": [
    "if 4 < 3:\n",
    "    print(\"Hello World\") # False라서 아무것도 출력x"
   ]
  },
  {
   "cell_type": "markdown",
   "id": "a0ed49c6-a498-4c98-b0dc-19c83a2cdaad",
   "metadata": {},
   "source": [
    "### 연습문제 108"
   ]
  },
  {
   "cell_type": "code",
   "execution_count": 41,
   "id": "4ce4ea54-2120-4517-8c85-26b1bfbe2da1",
   "metadata": {},
   "outputs": [
    {
     "name": "stdout",
     "output_type": "stream",
     "text": [
      "Hi, there.\n"
     ]
    }
   ],
   "source": [
    "if 4 < 3:\n",
    "    print(\"Hello World.\")\n",
    "else:\n",
    "    print(\"Hi, there.\")\n",
    "    \n",
    "# Hi, there."
   ]
  },
  {
   "cell_type": "markdown",
   "id": "9e8b73ed-372f-4331-b9a6-2b24c6530102",
   "metadata": {},
   "source": [
    "### 연습문제 109"
   ]
  },
  {
   "cell_type": "code",
   "execution_count": 42,
   "id": "9dc26e8e-e648-48fe-af0f-4a4c4060f116",
   "metadata": {},
   "outputs": [
    {
     "name": "stdout",
     "output_type": "stream",
     "text": [
      "1\n",
      "2\n",
      "4\n"
     ]
    }
   ],
   "source": [
    "if True:\n",
    "    print(\"1\")\n",
    "    print(\"2\")\n",
    "else:\n",
    "    print(\"3\")\n",
    "print(\"4\") # 1 2 4"
   ]
  },
  {
   "cell_type": "markdown",
   "id": "e4ec110a-50b5-4663-82b2-1650adfe8eda",
   "metadata": {},
   "source": [
    "### 연습문제 110"
   ]
  },
  {
   "cell_type": "code",
   "execution_count": 44,
   "id": "711d5906-5533-4c7b-8a94-18fbcbbe2ca6",
   "metadata": {},
   "outputs": [
    {
     "name": "stdout",
     "output_type": "stream",
     "text": [
      "3\n",
      "5\n"
     ]
    }
   ],
   "source": [
    "if True:\n",
    "    if False:      # 조건문이 True여야 실행하는데 False이므로 else문을 실행함!\n",
    "        print(\"1\")\n",
    "        print(\"2\")\n",
    "    else:\n",
    "        print(\"3\")\n",
    "else:\n",
    "    print(\"4\")\n",
    "print(\"5\")            # 3 5"
   ]
  },
  {
   "cell_type": "markdown",
   "id": "194d934c-32b9-4371-944a-85533e123260",
   "metadata": {},
   "source": [
    "### 연습문제 111"
   ]
  },
  {
   "cell_type": "code",
   "execution_count": 45,
   "id": "49202d9a-3e6a-40b7-912e-296ef8fd62a1",
   "metadata": {},
   "outputs": [
    {
     "name": "stdin",
     "output_type": "stream",
     "text": [
      " 안녕하세요\n"
     ]
    },
    {
     "name": "stdout",
     "output_type": "stream",
     "text": [
      "안녕하세요안녕하세요\n"
     ]
    }
   ],
   "source": [
    "a = input()\n",
    "print(a * 2)"
   ]
  },
  {
   "cell_type": "code",
   "execution_count": 46,
   "id": "be38ed2d-9d95-47ec-b204-71e06c16a002",
   "metadata": {},
   "outputs": [
    {
     "name": "stdin",
     "output_type": "stream",
     "text": [
      "입력: 안녕\n"
     ]
    },
    {
     "name": "stdout",
     "output_type": "stream",
     "text": [
      "안녕안녕\n"
     ]
    }
   ],
   "source": [
    "# 다른 풀이\n",
    "\n",
    "user = input(\"입력:\") # 센스있게 프롬프트 적어주면 good, 사용자의 입력이니까 변수명 user\n",
    "print(user * 2)"
   ]
  },
  {
   "cell_type": "markdown",
   "id": "cc30bb99-85cb-4f4b-af47-7f8f65a87cbd",
   "metadata": {},
   "source": [
    "### 연습문제 112"
   ]
  },
  {
   "cell_type": "code",
   "execution_count": 48,
   "id": "2edc628a-dc7c-4e2a-9fb8-7e1ff697eae2",
   "metadata": {},
   "outputs": [
    {
     "name": "stdin",
     "output_type": "stream",
     "text": [
      "숫자를 입력하세요:  20\n"
     ]
    },
    {
     "name": "stdout",
     "output_type": "stream",
     "text": [
      "30\n"
     ]
    }
   ],
   "source": [
    "user = input(\"숫자를 입력하세요: \")\n",
    "print(int(user) + 10)              # int()로 형변환!"
   ]
  },
  {
   "cell_type": "markdown",
   "id": "44c2a425-da3c-49e0-87f0-ba47b971f878",
   "metadata": {},
   "source": [
    "### 연습문제 113"
   ]
  },
  {
   "cell_type": "code",
   "execution_count": 55,
   "id": "6fcf71d8-c294-46a7-8c24-76af7a39e41b",
   "metadata": {},
   "outputs": [
    {
     "name": "stdin",
     "output_type": "stream",
     "text": [
      "숫자를 입력하세요:  3\n"
     ]
    },
    {
     "name": "stdout",
     "output_type": "stream",
     "text": [
      "홀수\n"
     ]
    }
   ],
   "source": [
    "user = input(\"숫자를 입력하세요: \")\n",
    "num = int(user)\n",
    "if num % 2 == 0:          # 입력받은걸 숫자로 비교하려면 꼭 형변환을 해 줘야 함\n",
    "    print(\"짝수\")\n",
    "else: \n",
    "    print(\"홀수\")"
   ]
  },
  {
   "cell_type": "markdown",
   "id": "bdf9d325-971f-4138-9579-fe890274d63f",
   "metadata": {},
   "source": [
    "### 연습문제 114"
   ]
  },
  {
   "cell_type": "code",
   "execution_count": 52,
   "id": "93520d35-bd61-47a0-ba17-eb2f6041aa56",
   "metadata": {},
   "outputs": [
    {
     "name": "stdin",
     "output_type": "stream",
     "text": [
      "입력값:  270\n"
     ]
    },
    {
     "name": "stdout",
     "output_type": "stream",
     "text": [
      "출력값: 255\n"
     ]
    }
   ],
   "source": [
    "num = input(\"입력값: \")\n",
    "num = int(num)+20\n",
    "if num <= 255:\n",
    "    print(\"출력값:\", num)\n",
    "else:\n",
    "    print(\"출력값:\", 255)"
   ]
  },
  {
   "cell_type": "markdown",
   "id": "d9259fc7-8073-4ff4-84e0-3e8ace8772b5",
   "metadata": {},
   "source": [
    "### 연습문제 115"
   ]
  },
  {
   "cell_type": "code",
   "execution_count": 59,
   "id": "7161412f-304b-4bc3-bcf1-89d59ebb2f33",
   "metadata": {},
   "outputs": [
    {
     "name": "stdin",
     "output_type": "stream",
     "text": [
      "입력값:  280\n"
     ]
    },
    {
     "name": "stdout",
     "output_type": "stream",
     "text": [
      "출력값: 255\n"
     ]
    }
   ],
   "source": [
    "user = input(\"입력값: \")\n",
    "num = int(user)-20\n",
    "if 0 <= num <= 255:\n",
    "    print(\"출력값:\", num)\n",
    "else:\n",
    "    print(\"출력값:\", 255)"
   ]
  },
  {
   "cell_type": "markdown",
   "id": "22639fdd-2d03-4a7c-86c9-534917a908ab",
   "metadata": {},
   "source": [
    "### <span style = \"color: red\">연습문제 116</span>"
   ]
  },
  {
   "cell_type": "code",
   "execution_count": 68,
   "id": "12a334bc-f2be-4e2c-9a65-af9b80d531bc",
   "metadata": {},
   "outputs": [
    {
     "name": "stdin",
     "output_type": "stream",
     "text": [
      "현재시간:  12:46\n"
     ]
    },
    {
     "name": "stdout",
     "output_type": "stream",
     "text": [
      "정각이 아닙니다.\n"
     ]
    }
   ],
   "source": [
    "# 슬라이싱!\n",
    "\n",
    "time = input(\"현재시간: \")\n",
    "if time[-2:] == \"00\":        # 슬라이싱 / [-2:] 마지막 2번째부터 끝까지 가져오기 / 문자열 비교이기 때문에 int 형변환 할 필요x\n",
    "    print(\"정각입니다.\")\n",
    "else:\n",
    "    print(\"정각이 아닙니다.\")"
   ]
  },
  {
   "cell_type": "markdown",
   "id": "80a7eb85-a2f0-4dc6-8b58-58341411453c",
   "metadata": {},
   "source": [
    "### 연습문제 117"
   ]
  },
  {
   "cell_type": "code",
   "execution_count": 63,
   "id": "4291c887-2923-428b-8ede-8a208995f91e",
   "metadata": {},
   "outputs": [],
   "source": [
    "fruit = [\"사과\", \"포도\", \"홍시\"]"
   ]
  },
  {
   "cell_type": "code",
   "execution_count": 67,
   "id": "180d0c74-5f77-4e25-99a6-1bea954cd254",
   "metadata": {},
   "outputs": [
    {
     "name": "stdin",
     "output_type": "stream",
     "text": [
      "좋아하는 과일은?  포도\n"
     ]
    },
    {
     "name": "stdout",
     "output_type": "stream",
     "text": [
      "정답입니다.\n"
     ]
    }
   ],
   "source": [
    "user = input(\"좋아하는 과일은? \")\n",
    "if user in fruit:\n",
    "    print(\"정답입니다.\")\n",
    "else:\n",
    "    print(\"틀렸습니다.\") # \"오답입니다.\""
   ]
  },
  {
   "cell_type": "markdown",
   "id": "36f35d9b-c05a-41f5-a025-28ed9956977e",
   "metadata": {},
   "source": [
    "### 연습문제 118"
   ]
  },
  {
   "cell_type": "code",
   "execution_count": 69,
   "id": "12721aa0-bcfd-4c66-aad4-39d260dcdeaa",
   "metadata": {},
   "outputs": [],
   "source": [
    "warn_investment_list = [\"Microsoft\", \"Google\", \"Naver\", \"Kakao\", \"SAMSUNG\", \"LG\"]"
   ]
  },
  {
   "cell_type": "code",
   "execution_count": 70,
   "id": "69e1376c-098f-4be3-afca-a0f9e55bf5c1",
   "metadata": {},
   "outputs": [
    {
     "name": "stdin",
     "output_type": "stream",
     "text": [
      "종목을 입력하세요: 하이닉스\n"
     ]
    },
    {
     "name": "stdout",
     "output_type": "stream",
     "text": [
      "투자 경고 종목이 아닙니다.\n"
     ]
    }
   ],
   "source": [
    "user = input(\"종목을 입력하세요:\")\n",
    "if user in warn_investment_list:\n",
    "    print(\"투자 경고 종목입니다.\")\n",
    "else:\n",
    "    print(\"투자 경고 종목이 아닙니다.\")"
   ]
  },
  {
   "cell_type": "markdown",
   "id": "710cd96b-36a5-4a31-bc91-25ec5a5c048a",
   "metadata": {},
   "source": [
    "### <span style = \"color:orange\">연습문제 119</span>"
   ]
  },
  {
   "cell_type": "code",
   "execution_count": 74,
   "id": "e7e13b80-a440-4f14-8f57-326327aea89a",
   "metadata": {},
   "outputs": [],
   "source": [
    "fruit = {\"봄\" : \"딸기\", \"여름\" : \"토마토\", \"가을\" : \"사과\"}"
   ]
  },
  {
   "cell_type": "code",
   "execution_count": 73,
   "id": "712469f6-25a1-4837-9157-5855f23b97de",
   "metadata": {},
   "outputs": [
    {
     "name": "stdin",
     "output_type": "stream",
     "text": [
      "계절: 겨울\n"
     ]
    },
    {
     "name": "stdout",
     "output_type": "stream",
     "text": [
      "오답입니다.\n"
     ]
    }
   ],
   "source": [
    "user = input(\"계절:\")\n",
    "if user in fruit:          # 사용자 입력값이 딕셔너리 키(key) 값에 포함되어 있으면 True\n",
    "    print(\"정답입니다.\")\n",
    "else:\n",
    "    print(\"오답입니다.\")"
   ]
  },
  {
   "cell_type": "markdown",
   "id": "fa2d5599-f633-4722-9374-8175e062b495",
   "metadata": {},
   "source": [
    "### <span style = \"color:orange\">연습문제 120</span>"
   ]
  },
  {
   "cell_type": "code",
   "execution_count": 75,
   "id": "886a3c4a-a498-40b8-a13a-08f76b4747a2",
   "metadata": {},
   "outputs": [],
   "source": [
    "fruit = {\"봄\" : \"딸기\", \"여름\" : \"토마토\", \"가을\" : \"사과\"}"
   ]
  },
  {
   "cell_type": "code",
   "execution_count": 78,
   "id": "5902a217-9b56-4e88-9320-935ae8fc976a",
   "metadata": {},
   "outputs": [
    {
     "name": "stdin",
     "output_type": "stream",
     "text": [
      "과일: 사과\n"
     ]
    },
    {
     "name": "stdout",
     "output_type": "stream",
     "text": [
      "정답입니다.\n"
     ]
    }
   ],
   "source": [
    "user = input(\"과일:\")\n",
    "if user in fruit.values():   # 사용자 입력값이 딕셔너리 value 값에 포함되어 있으면 True >> fruit.values()\n",
    "    print(\"정답입니다.\")\n",
    "else:\n",
    "    print(\"오답입니다.\")"
   ]
  },
  {
   "cell_type": "markdown",
   "id": "40db8279-c0d9-4cae-b38f-e533caf0c369",
   "metadata": {},
   "source": [
    "### 연습문제 121"
   ]
  },
  {
   "cell_type": "code",
   "execution_count": 81,
   "id": "2082ae95-f61b-4321-826a-67de122cc49e",
   "metadata": {},
   "outputs": [
    {
     "name": "stdin",
     "output_type": "stream",
     "text": [
      "알파벳을 입력하세요: A\n"
     ]
    },
    {
     "name": "stdout",
     "output_type": "stream",
     "text": [
      "a\n"
     ]
    }
   ],
   "source": [
    "user = input(\"알파벳을 입력하세요:\")\n",
    "if user.islower():\n",
    "    print(user.upper())\n",
    "else:\n",
    "    print(user.lower())"
   ]
  },
  {
   "cell_type": "markdown",
   "id": "fea273fe-b839-4622-905a-3dc4e2a40843",
   "metadata": {},
   "source": [
    "- islower(): 문자의 소문자 여부를 판별하는 함수\n",
    "- upper(): 대문자로 만들어주는 함수\n",
    "- lower(): 소문자로 만들어주는 함수"
   ]
  },
  {
   "cell_type": "markdown",
   "id": "2778f3ba-6251-4baa-9292-2f299b8dc072",
   "metadata": {},
   "source": [
    "### 연습문제 122"
   ]
  },
  {
   "cell_type": "code",
   "execution_count": 84,
   "id": "a4a6eacd-60a6-4a44-afa2-b7c671c10e9b",
   "metadata": {},
   "outputs": [
    {
     "name": "stdin",
     "output_type": "stream",
     "text": [
      "score: 100\n"
     ]
    },
    {
     "name": "stdout",
     "output_type": "stream",
     "text": [
      "grade is A\n"
     ]
    }
   ],
   "source": [
    "user = input(\"score:\")\n",
    "score = int(user)\n",
    "if 80 < score <= 100:\n",
    "    print(\"grade is A\")\n",
    "elif 60 < score <= 80:\n",
    "    print(\"grade is B\")\n",
    "elif 40 < score <= 60:\n",
    "    print(\"grade is C\")\n",
    "elif 20 < score <= 40:\n",
    "    print(\"grade is D\")\n",
    "else:\n",
    "    print(\"grade is E\")"
   ]
  },
  {
   "cell_type": "markdown",
   "id": "83f41bc3-5400-41f5-9c00-00a8cc42b07b",
   "metadata": {},
   "source": [
    "# 파이썬 반복문\n",
    "\n",
    "- for문: 횟수가 정해져 있거나 상대적으로 횟수가 적은 경우에 대한 반복에 주로 사용\n",
    "- while문: 횟수가 상대적으로 크거나 무한 루프 형태의 반복문에 사용"
   ]
  },
  {
   "cell_type": "markdown",
   "id": "9427aa99-c7b2-453e-a90e-daa256c5317c",
   "metadata": {},
   "source": [
    "### 연습문제 131"
   ]
  },
  {
   "cell_type": "code",
   "execution_count": 86,
   "id": "defe9fc7-319f-4da5-aed5-901062a3a798",
   "metadata": {},
   "outputs": [
    {
     "name": "stdout",
     "output_type": "stream",
     "text": [
      "사과\n",
      "귤\n",
      "수박\n"
     ]
    }
   ],
   "source": [
    "과일 = [\"사과\", \"귤\", \"수박\"]\n",
    "for 변수 in 과일:\n",
    "    print(변수)        # 사과 귤 수박 > 리스트에 들어있는 문자열이 한 라인에 하나씩 출력됨"
   ]
  },
  {
   "cell_type": "markdown",
   "id": "e1f160ff-19b6-4731-8c44-ee6272e24e39",
   "metadata": {},
   "source": [
    "### 연습문제 132"
   ]
  },
  {
   "cell_type": "code",
   "execution_count": 88,
   "id": "9656de14-7b3d-4102-8e0a-6f4a5fa7756e",
   "metadata": {},
   "outputs": [
    {
     "name": "stdout",
     "output_type": "stream",
     "text": [
      "#####\n",
      "#####\n",
      "#####\n"
     ]
    }
   ],
   "source": [
    "과일 = [\"사과\", \"귤\", \"수박\"]\n",
    "for 변수 in 과일:\n",
    "    print(\"#####\")     # #####이 3줄에 걸쳐서 출력됨 > for문은 자료구조에 저장된 데이터 개수만큼 반복해서 실행됨"
   ]
  },
  {
   "cell_type": "markdown",
   "id": "cec8eb46-40a9-4432-8d16-7ce6ba951168",
   "metadata": {},
   "source": [
    "### 연습문제 133"
   ]
  },
  {
   "cell_type": "code",
   "execution_count": 89,
   "id": "3ebbfacc-ea26-4cca-9ba5-ee70ed94f82e",
   "metadata": {},
   "outputs": [
    {
     "name": "stdout",
     "output_type": "stream",
     "text": [
      "A\n",
      "B\n",
      "C\n"
     ]
    }
   ],
   "source": [
    "for 변수 in [\"A\", \"B\", \"C\"]:\n",
    "    print(변수)"
   ]
  },
  {
   "cell_type": "code",
   "execution_count": 90,
   "id": "3e124825-8626-423f-a3aa-d18587489402",
   "metadata": {},
   "outputs": [
    {
     "name": "stdout",
     "output_type": "stream",
     "text": [
      "A\n",
      "B\n",
      "C\n"
     ]
    }
   ],
   "source": [
    "# 위와 동일한 기능을 수행하는 코드 작성1\n",
    "\n",
    "변수 = \"A\"\n",
    "print(변수)\n",
    "변수 = \"B\"\n",
    "print(변수)\n",
    "변수 = \"C\"\n",
    "print(변수)"
   ]
  },
  {
   "cell_type": "code",
   "execution_count": 91,
   "id": "7a0c8454-dc9f-4c31-8206-922ec9f9a5f7",
   "metadata": {},
   "outputs": [
    {
     "name": "stdout",
     "output_type": "stream",
     "text": [
      "A\n",
      "B\n",
      "C\n"
     ]
    }
   ],
   "source": [
    "# 위와 동일한 기능을 수행하는 코드 작성2 - 변수의 바인딩 없이 코드 작성\n",
    "\n",
    "print(\"A\")\n",
    "print(\"B\")\n",
    "print(\"C\")"
   ]
  },
  {
   "cell_type": "markdown",
   "id": "d7d07a5a-6779-4c68-9c19-ef8bfbd6a826",
   "metadata": {},
   "source": [
    "### 연습문제 134"
   ]
  },
  {
   "cell_type": "code",
   "execution_count": 92,
   "id": "a181c0a0-2c2c-4a1a-bd31-5d50b815870e",
   "metadata": {},
   "outputs": [
    {
     "name": "stdout",
     "output_type": "stream",
     "text": [
      "출력: A\n",
      "출력: B\n",
      "출력: C\n"
     ]
    }
   ],
   "source": [
    "for 변수 in [\"A\", \"B\", \"C\"]:\n",
    "    print(\"출력:\", 변수)"
   ]
  },
  {
   "cell_type": "code",
   "execution_count": 93,
   "id": "3debdf13-1195-4b1b-b551-1b8e28bdfb11",
   "metadata": {},
   "outputs": [
    {
     "name": "stdout",
     "output_type": "stream",
     "text": [
      "출력: A\n",
      "출력: B\n",
      "출력: C\n"
     ]
    }
   ],
   "source": [
    "# 위와 동일한 기능을 수행하는 코드 작성1\n",
    "\n",
    "변수 = \"A\"\n",
    "print(\"출력:\", 변수)\n",
    "변수 = \"B\"\n",
    "print(\"출력:\", 변수)\n",
    "변수 = \"C\"\n",
    "print(\"출력:\", 변수)"
   ]
  },
  {
   "cell_type": "code",
   "execution_count": 94,
   "id": "4ac00055-0d33-4031-9e1a-b2b971b861b1",
   "metadata": {},
   "outputs": [
    {
     "name": "stdout",
     "output_type": "stream",
     "text": [
      "출력: A\n",
      "출력: B\n",
      "출력: C\n"
     ]
    }
   ],
   "source": [
    "# 위와 동일한 기능을 수행하는 코드 작성2 - 변수의 바인딩 없이 코드 작성\n",
    "\n",
    "print(\"출력:\", \"A\")\n",
    "print(\"출력:\", \"B\")\n",
    "print(\"출력:\", \"C\")"
   ]
  },
  {
   "cell_type": "markdown",
   "id": "3e44d8bd-7e44-4ff7-a645-3efa8e473b1e",
   "metadata": {},
   "source": [
    "### 연습문제 135"
   ]
  },
  {
   "cell_type": "code",
   "execution_count": 97,
   "id": "22b594bb-f42d-4d86-8aee-7019f3b7d0ec",
   "metadata": {},
   "outputs": [
    {
     "name": "stdout",
     "output_type": "stream",
     "text": [
      "변환: a\n",
      "변환: b\n",
      "변환: c\n"
     ]
    }
   ],
   "source": [
    "for 변수 in [\"A\", \"B\", \"C\"]:\n",
    "  l = 변수.lower()\n",
    "  print(\"변환:\", l)"
   ]
  },
  {
   "cell_type": "code",
   "execution_count": 101,
   "id": "39b7d8a1-3526-446c-b65b-e1e30a66ccb1",
   "metadata": {},
   "outputs": [
    {
     "name": "stdout",
     "output_type": "stream",
     "text": [
      "변환: a\n",
      "변환: b\n",
      "변환: c\n"
     ]
    }
   ],
   "source": [
    "# 위와 동일한 기능을 수행하는 코드 작성 > for문이 훨씬 간단하다(for문 들여쓰기 중요)\n",
    "\n",
    "변수 = \"A\"\n",
    "l = 변수.lower()\n",
    "print(\"변환:\", l)\n",
    "변수 = \"B\"\n",
    "l = 변수.lower()\n",
    "print(\"변환:\", l)\n",
    "변수 = \"C\"\n",
    "l = 변수.lower()\n",
    "print(\"변환:\", l)"
   ]
  },
  {
   "cell_type": "markdown",
   "id": "7a5b3eeb-2ba3-490f-9a8d-3510e7d6e8b9",
   "metadata": {},
   "source": [
    "### 연습문제 136"
   ]
  },
  {
   "cell_type": "code",
   "execution_count": 102,
   "id": "6239d4c7-fa09-41b0-b754-6de006a3b2e7",
   "metadata": {},
   "outputs": [
    {
     "name": "stdout",
     "output_type": "stream",
     "text": [
      "10\n",
      "20\n",
      "30\n"
     ]
    }
   ],
   "source": [
    "변수 = 10\n",
    "print(변수)\n",
    "변수 = 20\n",
    "print(변수)\n",
    "변수 = 30\n",
    "print(변수)"
   ]
  },
  {
   "cell_type": "code",
   "execution_count": 103,
   "id": "142fbfce-0c49-4d11-9339-1f8aa2a78a48",
   "metadata": {},
   "outputs": [
    {
     "name": "stdout",
     "output_type": "stream",
     "text": [
      "10\n",
      "20\n",
      "30\n"
     ]
    }
   ],
   "source": [
    "# 위 코드를 for문으로 작성하기\n",
    "\n",
    "for 변수 in [10, 20, 30]:\n",
    "    print(변수)"
   ]
  },
  {
   "cell_type": "markdown",
   "id": "20940948-edc9-4d45-b4cc-93e8e462c91b",
   "metadata": {},
   "source": [
    "### 연습문제 137"
   ]
  },
  {
   "cell_type": "code",
   "execution_count": 104,
   "id": "159c2bf3-10cd-4c99-91ac-70ffc2cebf04",
   "metadata": {},
   "outputs": [
    {
     "name": "stdout",
     "output_type": "stream",
     "text": [
      "10\n",
      "20\n",
      "30\n"
     ]
    }
   ],
   "source": [
    "print(10)\n",
    "print(20)\n",
    "print(30)"
   ]
  },
  {
   "cell_type": "code",
   "execution_count": 105,
   "id": "cb94eab1-9db4-4cd1-abd0-c359e93e8282",
   "metadata": {},
   "outputs": [
    {
     "name": "stdout",
     "output_type": "stream",
     "text": [
      "10\n",
      "20\n",
      "30\n"
     ]
    }
   ],
   "source": [
    "# 위 코드를 for문으로 작성하기\n",
    "\n",
    "for i in [10,20,30]:\n",
    "    print(i)"
   ]
  },
  {
   "cell_type": "markdown",
   "id": "ff1b4e55-35cb-4b29-b62d-e814aac604b1",
   "metadata": {},
   "source": [
    "### 연습문제 138"
   ]
  },
  {
   "cell_type": "code",
   "execution_count": 106,
   "id": "ceb555e0-f91c-416f-9aea-33005c1f6d95",
   "metadata": {},
   "outputs": [
    {
     "name": "stdout",
     "output_type": "stream",
     "text": [
      "10\n",
      "-------\n",
      "20\n",
      "-------\n",
      "30\n",
      "-------\n"
     ]
    }
   ],
   "source": [
    "print(10)\n",
    "print(\"-------\")\n",
    "print(20)\n",
    "print(\"-------\")\n",
    "print(30)\n",
    "print(\"-------\")"
   ]
  },
  {
   "cell_type": "code",
   "execution_count": 112,
   "id": "cc68b45a-66d6-462d-9f4d-98fc4cb131e6",
   "metadata": {},
   "outputs": [
    {
     "name": "stdout",
     "output_type": "stream",
     "text": [
      "10\n",
      "------\n",
      "20\n",
      "------\n",
      "30\n",
      "------\n"
     ]
    }
   ],
   "source": [
    "# 위 코드를 for문으로 작성하기\n",
    "\n",
    "for i in [10,20,30]:\n",
    "    print(i)\n",
    "    print(\"------\")"
   ]
  },
  {
   "cell_type": "markdown",
   "id": "95f632a7-c70c-4a85-80ad-d802870693de",
   "metadata": {},
   "source": [
    "### 연습문제 139"
   ]
  },
  {
   "cell_type": "code",
   "execution_count": 109,
   "id": "cc41bb4a-89d9-49eb-8b1b-d625caeeb1a6",
   "metadata": {},
   "outputs": [
    {
     "name": "stdout",
     "output_type": "stream",
     "text": [
      "++++\n",
      "10\n",
      "20\n",
      "30\n"
     ]
    }
   ],
   "source": [
    "print(\"++++\")\n",
    "print(10)\n",
    "print(20)\n",
    "print(30)"
   ]
  },
  {
   "cell_type": "code",
   "execution_count": 113,
   "id": "ce39f84f-ba30-4fd5-870f-643091cbe488",
   "metadata": {},
   "outputs": [
    {
     "name": "stdout",
     "output_type": "stream",
     "text": [
      "++++\n",
      "10\n",
      "20\n",
      "30\n"
     ]
    }
   ],
   "source": [
    "# 위 코드를 for문으로 작성하기\n",
    "\n",
    "print(\"++++\")\n",
    "for i in [10,20,30]:\n",
    "    print(i)"
   ]
  },
  {
   "cell_type": "markdown",
   "id": "474a35f8-e473-4a87-8740-a6cf10b02e9c",
   "metadata": {},
   "source": [
    "### 연습문제 140"
   ]
  },
  {
   "cell_type": "code",
   "execution_count": 114,
   "id": "5689ee8b-79bf-414f-9332-6dce638d99f7",
   "metadata": {},
   "outputs": [
    {
     "name": "stdout",
     "output_type": "stream",
     "text": [
      "-------\n",
      "-------\n",
      "-------\n",
      "-------\n"
     ]
    }
   ],
   "source": [
    "print(\"-------\")\n",
    "print(\"-------\")\n",
    "print(\"-------\")\n",
    "print(\"-------\")"
   ]
  },
  {
   "cell_type": "code",
   "execution_count": 117,
   "id": "db27265e-4b34-4624-8842-3980b0eb639b",
   "metadata": {},
   "outputs": [
    {
     "name": "stdout",
     "output_type": "stream",
     "text": [
      "-------\n",
      "-------\n",
      "-------\n",
      "-------\n"
     ]
    }
   ],
   "source": [
    "# 위 코드를 for문으로 작성하기\n",
    "\n",
    "for i in [1,2,3,4]:           # 만약 문자열을 리스트에 넣으면 네글자의 하나의 원소가 아니라 몇글자든 4개의 원소가 있으면 4번 반복됨\n",
    "    print(\"-------\")"
   ]
  },
  {
   "cell_type": "markdown",
   "id": "e6b30465-65c6-4a6c-80a4-445085817abf",
   "metadata": {},
   "source": [
    "### 연습문제 141"
   ]
  },
  {
   "cell_type": "code",
   "execution_count": 118,
   "id": "71f58672-197e-4cb6-a2fd-7fdc32d28ee7",
   "metadata": {},
   "outputs": [],
   "source": [
    "리스트 = [100,200,300]"
   ]
  },
  {
   "cell_type": "code",
   "execution_count": 119,
   "id": "284edd9c-651f-4ed3-acfb-07e9788acc06",
   "metadata": {},
   "outputs": [
    {
     "name": "stdout",
     "output_type": "stream",
     "text": [
      "110\n",
      "210\n",
      "310\n"
     ]
    }
   ],
   "source": [
    "for i in 리스트:\n",
    "    print(i+10)"
   ]
  },
  {
   "cell_type": "markdown",
   "id": "5d6ebed5-2063-41cf-8620-111c5c9e07a3",
   "metadata": {},
   "source": [
    "### 연습문제 142"
   ]
  },
  {
   "cell_type": "code",
   "execution_count": 120,
   "id": "038cb4c3-e1a0-4f1b-9fc0-38b5337c6003",
   "metadata": {},
   "outputs": [],
   "source": [
    "리스트 = [\"김밥\", \"라면\", \"튀김\"]"
   ]
  },
  {
   "cell_type": "code",
   "execution_count": 121,
   "id": "734c26ad-2dd5-4a32-b954-63085ce19e19",
   "metadata": {},
   "outputs": [
    {
     "name": "stdout",
     "output_type": "stream",
     "text": [
      "오늘의 메뉴: 김밥\n",
      "오늘의 메뉴: 라면\n",
      "오늘의 메뉴: 튀김\n"
     ]
    }
   ],
   "source": [
    "for i in 리스트:\n",
    "    print(\"오늘의 메뉴:\", i)"
   ]
  },
  {
   "cell_type": "code",
   "execution_count": 122,
   "id": "3f8f42c0-2e23-40fe-9b16-6c29fd54721e",
   "metadata": {},
   "outputs": [
    {
     "name": "stdout",
     "output_type": "stream",
     "text": [
      "오늘의 메뉴: 김밥\n",
      "오늘의 메뉴: 라면\n",
      "오늘의 메뉴: 튀김\n"
     ]
    }
   ],
   "source": [
    "# 다른 풀이\n",
    "\n",
    "for i in 리스트:\n",
    "    print(\"오늘의 메뉴: \" + i)"
   ]
  },
  {
   "cell_type": "markdown",
   "id": "a9c42993-9f6b-46bd-aa68-8cc07d962a13",
   "metadata": {
    "tags": []
   },
   "source": [
    "### 연습문제 143"
   ]
  },
  {
   "cell_type": "code",
   "execution_count": 128,
   "id": "fc91ab5b-3f95-4cb1-9715-427090fe954d",
   "metadata": {},
   "outputs": [],
   "source": [
    "리스트 = [\"SK하이닉스\", \"삼성전자\", \"LG전자\"]"
   ]
  },
  {
   "cell_type": "code",
   "execution_count": 129,
   "id": "0f13a627-d888-48f5-909c-f531f6b891d3",
   "metadata": {},
   "outputs": [
    {
     "name": "stdout",
     "output_type": "stream",
     "text": [
      "6\n",
      "4\n",
      "4\n"
     ]
    }
   ],
   "source": [
    "for i in 리스트:\n",
    "    print(len(i))"
   ]
  },
  {
   "cell_type": "markdown",
   "id": "35112248-290e-4061-b949-987de9336063",
   "metadata": {},
   "source": [
    "- len 함수: 텍스트 문자열의 문자 수, 길이를 반환해주는 함수"
   ]
  },
  {
   "cell_type": "markdown",
   "id": "2b3b0bf9-7491-4a75-b605-49cec741d7ff",
   "metadata": {},
   "source": [
    "### 연습문제 144"
   ]
  },
  {
   "cell_type": "code",
   "execution_count": 130,
   "id": "c084498a-2fbc-4924-9c0f-377b1158f015",
   "metadata": {},
   "outputs": [],
   "source": [
    "리스트 = ['dog', 'cat', 'parrot']"
   ]
  },
  {
   "cell_type": "code",
   "execution_count": 131,
   "id": "23117fcb-ad27-4ddf-8aca-db161db1b7a4",
   "metadata": {},
   "outputs": [
    {
     "name": "stdout",
     "output_type": "stream",
     "text": [
      "dog 3\n",
      "cat 3\n",
      "parrot 6\n"
     ]
    }
   ],
   "source": [
    "for i in 리스트:\n",
    "    print(i, len(i))"
   ]
  },
  {
   "cell_type": "markdown",
   "id": "880f022e-e6e9-4296-98bb-a732fe1d2926",
   "metadata": {
    "tags": []
   },
   "source": [
    "### 연습문제 145"
   ]
  },
  {
   "cell_type": "code",
   "execution_count": 132,
   "id": "ca3c3ddf-19aa-466d-84d0-9f4d33f90e95",
   "metadata": {},
   "outputs": [],
   "source": [
    "리스트 = ['dog', 'cat', 'parrot']"
   ]
  },
  {
   "cell_type": "code",
   "execution_count": 136,
   "id": "87709750-f264-4712-8d80-acf42ac3e64b",
   "metadata": {},
   "outputs": [
    {
     "name": "stdout",
     "output_type": "stream",
     "text": [
      "d\n",
      "c\n",
      "p\n"
     ]
    }
   ],
   "source": [
    "for i in 리스트:\n",
    "    print(i[:1])   # 슬라이싱-끝에는 포함이 안됨(첫번째 문자만 출력됨)"
   ]
  },
  {
   "cell_type": "code",
   "execution_count": 137,
   "id": "e9566ba4-7ca1-46f3-b701-5ed79f549970",
   "metadata": {},
   "outputs": [
    {
     "name": "stdout",
     "output_type": "stream",
     "text": [
      "d\n",
      "c\n",
      "p\n"
     ]
    }
   ],
   "source": [
    "# 다른풀이 - 문자열의 인덱싱\n",
    "\n",
    "for i in 리스트:\n",
    "    print(i[0])"
   ]
  },
  {
   "cell_type": "markdown",
   "id": "33fa5cda-2432-4fe3-92ad-d8eef8f05a1a",
   "metadata": {
    "tags": []
   },
   "source": [
    "### 연습문제 146"
   ]
  },
  {
   "cell_type": "code",
   "execution_count": 138,
   "id": "945db884-9605-430a-81b0-54ba37a8a9af",
   "metadata": {},
   "outputs": [],
   "source": [
    "리스트 = [1,2,3]"
   ]
  },
  {
   "cell_type": "code",
   "execution_count": 139,
   "id": "35df10dd-d3cb-4806-aafb-1d64e86f3993",
   "metadata": {},
   "outputs": [
    {
     "name": "stdout",
     "output_type": "stream",
     "text": [
      "3 x 1\n",
      "3 x 2\n",
      "3 x 3\n"
     ]
    }
   ],
   "source": [
    "for i in 리스트:\n",
    "    print(\"3 x\", i)"
   ]
  },
  {
   "cell_type": "code",
   "execution_count": 141,
   "id": "82106210-95b8-48c2-8c9b-fa7f88d73183",
   "metadata": {},
   "outputs": [
    {
     "name": "stdout",
     "output_type": "stream",
     "text": [
      "3 x 1\n",
      "3 x 2\n",
      "3 x 3\n"
     ]
    }
   ],
   "source": [
    "# 다른 풀이\n",
    "\n",
    "for i in 리스트:\n",
    "    print(\"3 x \" + str(i))     # 연산하려면 같은 자료형! i를 문자로 변환해야 함 / + 연산은 콤마처럼 띄어쓰기 자동으로 안됨"
   ]
  },
  {
   "cell_type": "markdown",
   "id": "16e0be11-5016-4625-9e43-6afbdd479ed6",
   "metadata": {
    "tags": []
   },
   "source": [
    "### 연습문제 147"
   ]
  },
  {
   "cell_type": "code",
   "execution_count": 142,
   "id": "4d74360c-d0f5-4480-b339-fea5c738e105",
   "metadata": {},
   "outputs": [],
   "source": [
    "리스트 = [1,2,3]"
   ]
  },
  {
   "cell_type": "code",
   "execution_count": 143,
   "id": "7f2f40d8-8e54-4e5a-80d7-6d496f1f76c5",
   "metadata": {},
   "outputs": [
    {
     "name": "stdout",
     "output_type": "stream",
     "text": [
      "3 x 1 = 3\n",
      "3 x 2 = 6\n",
      "3 x 3 = 9\n"
     ]
    }
   ],
   "source": [
    "for i in 리스트:\n",
    "    print(\"3 x\", i, \"=\", 3*i)"
   ]
  },
  {
   "cell_type": "code",
   "execution_count": 146,
   "id": "9233b8a3-bfae-42c4-99f8-c5a037040eb9",
   "metadata": {},
   "outputs": [
    {
     "name": "stdout",
     "output_type": "stream",
     "text": [
      "3 x 1 = 3\n",
      "3 x 2 = 6\n",
      "3 x 3 = 9\n"
     ]
    }
   ],
   "source": [
    "# 다른 풀이 - 포매팅1\n",
    "\n",
    "for i in 리스트:\n",
    "    print(\"3 x {} = {}\".format(i, 3*i))"
   ]
  },
  {
   "cell_type": "code",
   "execution_count": 147,
   "id": "9b2752e1-eb2b-4732-a212-f5b686c54919",
   "metadata": {},
   "outputs": [
    {
     "name": "stdout",
     "output_type": "stream",
     "text": [
      "3 x 1 = 3\n",
      "3 x 2 = 6\n",
      "3 x 3 = 9\n"
     ]
    }
   ],
   "source": [
    "# 다른 풀이 - 포매팅2\n",
    "\n",
    "for i in 리스트:\n",
    "    print(\"3 x {0} = {1}\".format(i, 3*i))"
   ]
  },
  {
   "cell_type": "markdown",
   "id": "7384f974-3563-47fd-846d-a91f4cc57a05",
   "metadata": {
    "tags": []
   },
   "source": [
    "### 연습문제 148"
   ]
  },
  {
   "cell_type": "code",
   "execution_count": 148,
   "id": "cef82d89-0d28-4210-b649-be7f6ed3ed42",
   "metadata": {},
   "outputs": [],
   "source": [
    "리스트 = [\"가\", \"나\", \"다\", \"라\"]"
   ]
  },
  {
   "cell_type": "code",
   "execution_count": 151,
   "id": "5aa909d0-065d-40b7-b171-83faf8f24cdb",
   "metadata": {},
   "outputs": [
    {
     "name": "stdout",
     "output_type": "stream",
     "text": [
      "나\n",
      "다\n",
      "라\n"
     ]
    }
   ],
   "source": [
    "for i in 리스트:\n",
    "    if i != \"가\":\n",
    "        print(i)\n",
    "    else:\n",
    "        continue"
   ]
  },
  {
   "cell_type": "code",
   "execution_count": 152,
   "id": "343a297d-362a-46c3-854e-12f35f0e7fd5",
   "metadata": {},
   "outputs": [
    {
     "name": "stdout",
     "output_type": "stream",
     "text": [
      "나\n",
      "다\n",
      "라\n"
     ]
    }
   ],
   "source": [
    "# 다른 풀이 - 슬라이싱 활용\n",
    "\n",
    "for i in 리스트[1:]:\n",
    "    print(i)"
   ]
  },
  {
   "cell_type": "markdown",
   "id": "46d5c253-d4ac-4a49-9448-95a709871314",
   "metadata": {},
   "source": [
    "### <span style = \"color:orange\">연습문제 149</span>"
   ]
  },
  {
   "cell_type": "markdown",
   "id": "937b262e-7995-4044-96c7-e83278f273dd",
   "metadata": {},
   "source": [
    "- 리스트 슬라이싱 >> `[시작:끝:증감폭]`"
   ]
  },
  {
   "cell_type": "code",
   "execution_count": 160,
   "id": "0f6fc7cc-3192-4b6a-a8b2-1d03be7f5de3",
   "metadata": {},
   "outputs": [],
   "source": [
    "리스트 = [\"가\", \"나\", \"다\", \"라\"]"
   ]
  },
  {
   "cell_type": "code",
   "execution_count": 161,
   "id": "8b3a8b64-db5d-4bf2-9c80-a5cb83db0fdd",
   "metadata": {},
   "outputs": [
    {
     "name": "stdout",
     "output_type": "stream",
     "text": [
      "가\n",
      "다\n"
     ]
    }
   ],
   "source": [
    "for i in 리스트[ : : 2]:  # 리스트 전체를 대상으로 증감폭 2로 설정해서 '가', '다' 값만 슬라이싱 함.(첫번째거 나오고 그 다음 증감폭 2)\n",
    "    print(i)"
   ]
  },
  {
   "cell_type": "markdown",
   "id": "7b94ac69-20c7-4a52-b033-449bd67ef87f",
   "metadata": {},
   "source": [
    "### <span style = \"color:orange\">연습문제 150</span>"
   ]
  },
  {
   "cell_type": "code",
   "execution_count": 154,
   "id": "4295edc6-c441-4c3a-9dc4-fc92ec43e9c9",
   "metadata": {},
   "outputs": [],
   "source": [
    "리스트 = [\"가\", \"나\", \"다\", \"라\"]"
   ]
  },
  {
   "cell_type": "code",
   "execution_count": 162,
   "id": "5f7a4951-73df-409b-b849-195d2b68b46a",
   "metadata": {},
   "outputs": [
    {
     "name": "stdout",
     "output_type": "stream",
     "text": [
      "라\n",
      "다\n",
      "나\n",
      "가\n"
     ]
    }
   ],
   "source": [
    "for i in 리스트[ : : -1]: # 증감폭을 음수로 설정하면 역방향으로 값을 슬라이싱 함.\n",
    "    print(i)"
   ]
  },
  {
   "cell_type": "markdown",
   "id": "1c420969-ca70-4897-a708-b969267e3a4d",
   "metadata": {
    "tags": []
   },
   "source": [
    "### 연습문제 151"
   ]
  },
  {
   "cell_type": "code",
   "execution_count": 163,
   "id": "2a046f38-d0fa-464e-a3b5-c4affcee4204",
   "metadata": {},
   "outputs": [],
   "source": [
    "리스트 = [3, -20, -3, 44]"
   ]
  },
  {
   "cell_type": "code",
   "execution_count": 166,
   "id": "6cc506cd-8383-47de-926b-8c742ec85aa5",
   "metadata": {},
   "outputs": [
    {
     "name": "stdout",
     "output_type": "stream",
     "text": [
      "-20\n",
      "-3\n"
     ]
    }
   ],
   "source": [
    "for i in 리스트:\n",
    "    if i < 0:\n",
    "        print(i)\n",
    "    else:\n",
    "        continue"
   ]
  },
  {
   "cell_type": "code",
   "execution_count": 167,
   "id": "ce938589-bd37-4613-b975-a8cc83aa8367",
   "metadata": {},
   "outputs": [
    {
     "name": "stdout",
     "output_type": "stream",
     "text": [
      "-20\n",
      "-3\n"
     ]
    }
   ],
   "source": [
    "# 이렇게만 써도 O\n",
    "\n",
    "for i in 리스트:\n",
    "    if i < 0:\n",
    "        print(i)"
   ]
  },
  {
   "cell_type": "markdown",
   "id": "c9728425-7066-4b91-9db2-fd77a71fd824",
   "metadata": {
    "tags": []
   },
   "source": [
    "### 연습문제 152"
   ]
  },
  {
   "cell_type": "code",
   "execution_count": 168,
   "id": "0674d930-92a4-4793-89cc-0b946054d89c",
   "metadata": {},
   "outputs": [],
   "source": [
    "리스트 = [3, 100, 23, 44]"
   ]
  },
  {
   "cell_type": "code",
   "execution_count": 169,
   "id": "64cf724a-e2ec-4bb0-bdaf-564da0a9886d",
   "metadata": {},
   "outputs": [
    {
     "name": "stdout",
     "output_type": "stream",
     "text": [
      "3\n"
     ]
    }
   ],
   "source": [
    "for i in 리스트:\n",
    "    if i % 3 == 0:\n",
    "        print(i)"
   ]
  },
  {
   "cell_type": "markdown",
   "id": "f5f8569d-eae6-457d-8ea1-3cf19e7f03ec",
   "metadata": {
    "tags": []
   },
   "source": [
    "### 연습문제 153"
   ]
  },
  {
   "cell_type": "code",
   "execution_count": 170,
   "id": "d9ef183a-1d02-4f06-a97c-02f6f7d592b8",
   "metadata": {},
   "outputs": [],
   "source": [
    "리스트 = [13, 21, 12, 14, 30, 18]"
   ]
  },
  {
   "cell_type": "code",
   "execution_count": 171,
   "id": "482e542e-a8fc-4efe-8e46-e53ae453b87f",
   "metadata": {},
   "outputs": [
    {
     "name": "stdout",
     "output_type": "stream",
     "text": [
      "12\n",
      "18\n"
     ]
    }
   ],
   "source": [
    "for i in 리스트:\n",
    "    if i < 20:\n",
    "        if i % 3 == 0:\n",
    "            print(i)"
   ]
  },
  {
   "cell_type": "code",
   "execution_count": 172,
   "id": "823c8756-a513-4490-9b95-63321be77433",
   "metadata": {},
   "outputs": [
    {
     "name": "stdout",
     "output_type": "stream",
     "text": [
      "12\n",
      "18\n"
     ]
    }
   ],
   "source": [
    "# 다른 풀이\n",
    "\n",
    "for i in 리스트:\n",
    "    if (i < 20) and (i % 3 == 0):\n",
    "        print(i)"
   ]
  },
  {
   "cell_type": "markdown",
   "id": "311da1bd-bb80-444a-ab50-228bcca1e1b0",
   "metadata": {
    "tags": []
   },
   "source": [
    "### 연습문제 154"
   ]
  },
  {
   "cell_type": "code",
   "execution_count": 173,
   "id": "87e3ee21-6da5-4123-b003-55243688f39a",
   "metadata": {},
   "outputs": [],
   "source": [
    "리스트 = [\"I\", \"study\", \"python\", \"language\", \"!\"]"
   ]
  },
  {
   "cell_type": "code",
   "execution_count": 174,
   "id": "c88a4a14-9a97-4862-9f68-2669370a4379",
   "metadata": {},
   "outputs": [
    {
     "name": "stdout",
     "output_type": "stream",
     "text": [
      "study\n",
      "python\n",
      "language\n"
     ]
    }
   ],
   "source": [
    "for i in 리스트:\n",
    "    if len(i) >= 3:\n",
    "        print(i)"
   ]
  },
  {
   "cell_type": "markdown",
   "id": "4c2d394e-a364-4bc5-bd36-88a3fe307e5f",
   "metadata": {
    "tags": []
   },
   "source": [
    "### 연습문제 155"
   ]
  },
  {
   "cell_type": "code",
   "execution_count": 175,
   "id": "828271ed-b96f-419e-8ebe-181b4c0a2735",
   "metadata": {},
   "outputs": [],
   "source": [
    "리스트 = [\"A\", \"b\", \"c\", \"D\"]"
   ]
  },
  {
   "cell_type": "code",
   "execution_count": 176,
   "id": "6f786b60-aede-49eb-871e-047495d6a92e",
   "metadata": {},
   "outputs": [
    {
     "name": "stdout",
     "output_type": "stream",
     "text": [
      "A\n",
      "D\n"
     ]
    }
   ],
   "source": [
    "for i in 리스트:\n",
    "    if i.isupper():\n",
    "        print(i)"
   ]
  },
  {
   "cell_type": "markdown",
   "id": "a6b3a492-5f99-4398-b7b1-5ee359bd1f93",
   "metadata": {
    "tags": []
   },
   "source": [
    "### 연습문제 156"
   ]
  },
  {
   "cell_type": "code",
   "execution_count": 177,
   "id": "42ecee44-cf23-42b1-b0e7-be9b331c10c7",
   "metadata": {},
   "outputs": [],
   "source": [
    "리스트 = [\"A\", \"b\", \"c\", \"D\"]"
   ]
  },
  {
   "cell_type": "code",
   "execution_count": 178,
   "id": "8bb2dacb-014a-4b16-b057-d6341673a623",
   "metadata": {},
   "outputs": [
    {
     "name": "stdout",
     "output_type": "stream",
     "text": [
      "b\n",
      "c\n"
     ]
    }
   ],
   "source": [
    "for i in 리스트:\n",
    "    if i.islower():\n",
    "        print(i)"
   ]
  },
  {
   "cell_type": "markdown",
   "id": "52ade260-b3c5-4734-b95f-0b8f48483c1f",
   "metadata": {
    "tags": []
   },
   "source": [
    "### 연습문제 157"
   ]
  },
  {
   "cell_type": "code",
   "execution_count": 179,
   "id": "d168bfa2-a53d-480e-b2c0-a0927b1163cf",
   "metadata": {},
   "outputs": [],
   "source": [
    "리스트 = ['dog', 'cat', 'parrot']"
   ]
  },
  {
   "cell_type": "code",
   "execution_count": 183,
   "id": "5e4abbdd-992b-47bc-99b2-8457c1c40e30",
   "metadata": {},
   "outputs": [
    {
     "name": "stdout",
     "output_type": "stream",
     "text": [
      "Dog\n",
      "Cat\n",
      "Parrot\n"
     ]
    }
   ],
   "source": [
    "for i in 리스트:\n",
    "    print(i[0].upper() + i[1:])"
   ]
  },
  {
   "cell_type": "code",
   "execution_count": 184,
   "id": "6ae47c1f-3e2b-492d-92ae-d494a7da702c",
   "metadata": {},
   "outputs": [
    {
     "name": "stdout",
     "output_type": "stream",
     "text": [
      "Dog\n",
      "Cat\n",
      "Parrot\n"
     ]
    }
   ],
   "source": [
    "for i in 리스트:\n",
    "    a = i[0]\n",
    "    print(a.upper() + i[1:])"
   ]
  },
  {
   "cell_type": "markdown",
   "id": "2f21fd26-9293-4639-b5c3-62e8d4e09e30",
   "metadata": {
    "tags": []
   },
   "source": [
    "### 연습문제 158"
   ]
  },
  {
   "cell_type": "code",
   "execution_count": 185,
   "id": "c3326b1d-9e28-49be-957b-f58d69a5efc5",
   "metadata": {},
   "outputs": [],
   "source": [
    "리스트 = ['hello.py', 'ex01.py', 'intro.hwp']"
   ]
  },
  {
   "cell_type": "code",
   "execution_count": 187,
   "id": "188ee4db-c9e3-45fe-813b-31b62887cef2",
   "metadata": {},
   "outputs": [
    {
     "name": "stdout",
     "output_type": "stream",
     "text": [
      "hello\n",
      "ex01\n",
      "intro\n"
     ]
    }
   ],
   "source": [
    "for i in 리스트:\n",
    "    a = i.split('.')\n",
    "    print(a[0])"
   ]
  },
  {
   "cell_type": "markdown",
   "id": "32100c68-b791-4970-bcbc-1f8b5b41a9bf",
   "metadata": {},
   "source": [
    "- split(): 괄호 안에 문자를 기준으로 문자열을 나눠주는 함수. 괄호에 아무것도 넣지 않으면 공백, 띄어쓰기, tab 기준으로 문자를 나눈다."
   ]
  },
  {
   "cell_type": "code",
   "execution_count": 189,
   "id": "a826df7c-4cd0-4b36-ac34-ed49643da5d1",
   "metadata": {},
   "outputs": [
    {
     "name": "stdout",
     "output_type": "stream",
     "text": [
      "['1', '2']\n"
     ]
    }
   ],
   "source": [
    "a = \"1   2\"\n",
    "print(a.split())"
   ]
  },
  {
   "cell_type": "markdown",
   "id": "a3762e27-2e4d-4cfb-95fe-edcb1476d7e2",
   "metadata": {
    "tags": []
   },
   "source": [
    "### 연습문제 159"
   ]
  },
  {
   "cell_type": "code",
   "execution_count": 190,
   "id": "f9f3d825-fbe4-4609-939b-9aea5d73b287",
   "metadata": {},
   "outputs": [],
   "source": [
    "리스트 = ['intra.h', 'intra.c', 'define.h', 'run.py']"
   ]
  },
  {
   "cell_type": "code",
   "execution_count": 191,
   "id": "d9cce7ef-680d-4787-bb29-e1f195a1f779",
   "metadata": {},
   "outputs": [
    {
     "name": "stdout",
     "output_type": "stream",
     "text": [
      "intra.h\n",
      "define.h\n"
     ]
    }
   ],
   "source": [
    "for i in 리스트:\n",
    "    split = i.split(\".\")\n",
    "    if split[1][0] == 'h':\n",
    "        print(i)"
   ]
  },
  {
   "cell_type": "markdown",
   "id": "59981b97-e2f0-40d0-9013-7f97c404f18d",
   "metadata": {
    "tags": []
   },
   "source": [
    "### 연습문제 160"
   ]
  },
  {
   "cell_type": "code",
   "execution_count": 192,
   "id": "54a8f241-e0eb-4f86-a7bc-44b824a5026b",
   "metadata": {},
   "outputs": [],
   "source": [
    "리스트 = ['intra.h', 'intra.c', 'define.h', 'run.py']"
   ]
  },
  {
   "cell_type": "code",
   "execution_count": 194,
   "id": "526c202c-0e68-4ed6-a425-aa155e61ef25",
   "metadata": {},
   "outputs": [
    {
     "name": "stdout",
     "output_type": "stream",
     "text": [
      "intra.h\n",
      "intra.c\n",
      "define.h\n"
     ]
    }
   ],
   "source": [
    "for i in 리스트:\n",
    "    split = i.split('.')\n",
    "    if split[1][0] == 'h' or split[1][0] == 'c':     # 안정적으로 정확하게 해주려면 괄호 쳐주기\n",
    "        print(i)"
   ]
  },
  {
   "cell_type": "markdown",
   "id": "1bec7053-6cff-4ee5-b9dc-5d066f37482b",
   "metadata": {
    "tags": []
   },
   "source": [
    "### 연습문제 161"
   ]
  },
  {
   "cell_type": "code",
   "execution_count": 195,
   "id": "1d31f17b-4bef-44f8-8e88-8086dc95cddc",
   "metadata": {},
   "outputs": [
    {
     "name": "stdout",
     "output_type": "stream",
     "text": [
      "0\n",
      "1\n",
      "2\n",
      "3\n",
      "4\n",
      "5\n",
      "6\n",
      "7\n",
      "8\n",
      "9\n",
      "10\n",
      "11\n",
      "12\n",
      "13\n",
      "14\n",
      "15\n",
      "16\n",
      "17\n",
      "18\n",
      "19\n",
      "20\n",
      "21\n",
      "22\n",
      "23\n",
      "24\n",
      "25\n",
      "26\n",
      "27\n",
      "28\n",
      "29\n",
      "30\n",
      "31\n",
      "32\n",
      "33\n",
      "34\n",
      "35\n",
      "36\n",
      "37\n",
      "38\n",
      "39\n",
      "40\n",
      "41\n",
      "42\n",
      "43\n",
      "44\n",
      "45\n",
      "46\n",
      "47\n",
      "48\n",
      "49\n",
      "50\n",
      "51\n",
      "52\n",
      "53\n",
      "54\n",
      "55\n",
      "56\n",
      "57\n",
      "58\n",
      "59\n",
      "60\n",
      "61\n",
      "62\n",
      "63\n",
      "64\n",
      "65\n",
      "66\n",
      "67\n",
      "68\n",
      "69\n",
      "70\n",
      "71\n",
      "72\n",
      "73\n",
      "74\n",
      "75\n",
      "76\n",
      "77\n",
      "78\n",
      "79\n",
      "80\n",
      "81\n",
      "82\n",
      "83\n",
      "84\n",
      "85\n",
      "86\n",
      "87\n",
      "88\n",
      "89\n",
      "90\n",
      "91\n",
      "92\n",
      "93\n",
      "94\n",
      "95\n",
      "96\n",
      "97\n",
      "98\n",
      "99\n"
     ]
    }
   ],
   "source": [
    "for i in range(100):\n",
    "    print(i)"
   ]
  },
  {
   "cell_type": "markdown",
   "id": "73b748c7-aa0c-43e9-bed8-a59bd0210bce",
   "metadata": {
    "tags": []
   },
   "source": [
    "### 연습문제 162"
   ]
  },
  {
   "cell_type": "code",
   "execution_count": 197,
   "id": "9f1551b5-c247-4635-8f28-5ece169b607c",
   "metadata": {},
   "outputs": [
    {
     "name": "stdout",
     "output_type": "stream",
     "text": [
      "2002\n",
      "2006\n",
      "2010\n",
      "2014\n",
      "2018\n",
      "2022\n",
      "2026\n",
      "2030\n",
      "2034\n",
      "2038\n",
      "2042\n",
      "2046\n",
      "2050\n"
     ]
    }
   ],
   "source": [
    "for i in range(2002, 2051):\n",
    "    if i % 4 == 2:\n",
    "        print(i)"
   ]
  },
  {
   "cell_type": "code",
   "execution_count": 199,
   "id": "0be0ebe4-d068-4214-9d6b-94248a828ab4",
   "metadata": {},
   "outputs": [
    {
     "name": "stdout",
     "output_type": "stream",
     "text": [
      "2002\n",
      "2006\n",
      "2010\n",
      "2014\n",
      "2018\n",
      "2022\n",
      "2026\n",
      "2030\n",
      "2034\n",
      "2038\n",
      "2042\n",
      "2046\n",
      "2050\n"
     ]
    }
   ],
   "source": [
    "# 다른 풀이 - range의 세번째 파라미터인 증감폭 활용\n",
    "\n",
    "for x in range(2002, 2051, 4):  # 2002를 시작으로 4 간격으로 x가 출력됨\n",
    "    print(x)"
   ]
  },
  {
   "cell_type": "markdown",
   "id": "79b59b40-4efd-49b5-8162-83c51701a58c",
   "metadata": {
    "tags": []
   },
   "source": [
    "### 연습문제 163"
   ]
  },
  {
   "cell_type": "code",
   "execution_count": 200,
   "id": "86781704-e786-41d1-976b-9c8b02ebe945",
   "metadata": {},
   "outputs": [
    {
     "name": "stdout",
     "output_type": "stream",
     "text": [
      "3\n",
      "6\n",
      "9\n",
      "12\n",
      "15\n",
      "18\n",
      "21\n",
      "24\n",
      "27\n",
      "30\n"
     ]
    }
   ],
   "source": [
    "for i in range(1, 31):\n",
    "    if i % 3 == 0:\n",
    "        print(i)"
   ]
  },
  {
   "cell_type": "code",
   "execution_count": 203,
   "id": "bb65e5eb-a13a-4e49-ba09-7c4b74b1bd87",
   "metadata": {},
   "outputs": [
    {
     "name": "stdout",
     "output_type": "stream",
     "text": [
      "3\n",
      "6\n",
      "9\n",
      "12\n",
      "15\n",
      "18\n",
      "21\n",
      "24\n",
      "27\n",
      "30\n"
     ]
    }
   ],
   "source": [
    "# range 증감폭 활용! - 대신 시작점을 출력될 처음 값으로 지정해 줘야 함\n",
    "\n",
    "for i in range(3, 31, 3):\n",
    "    print(i)"
   ]
  },
  {
   "cell_type": "markdown",
   "id": "093cf8e3-bb2e-499e-8498-64b817df3a95",
   "metadata": {
    "tags": []
   },
   "source": [
    "### <span style=\"color:red\">연습문제 164</span>"
   ]
  },
  {
   "cell_type": "code",
   "execution_count": 224,
   "id": "bb078363-6451-4e33-a6da-e76ef7b2ab8c",
   "metadata": {},
   "outputs": [
    {
     "ename": "AttributeError",
     "evalue": "'int' object has no attribute 'list'",
     "output_type": "error",
     "traceback": [
      "\u001b[1;31m---------------------------------------------------------------------------\u001b[0m",
      "\u001b[1;31mAttributeError\u001b[0m                            Traceback (most recent call last)",
      "Cell \u001b[1;32mIn [224], line 2\u001b[0m\n\u001b[0;32m      1\u001b[0m \u001b[38;5;28;01mfor\u001b[39;00m i \u001b[38;5;129;01min\u001b[39;00m \u001b[38;5;28mrange\u001b[39m(\u001b[38;5;241m100\u001b[39m):\n\u001b[1;32m----> 2\u001b[0m     l \u001b[38;5;241m=\u001b[39m \u001b[43mi\u001b[49m\u001b[38;5;241;43m.\u001b[39;49m\u001b[43mlist\u001b[49m()\n\u001b[0;32m      3\u001b[0m     \u001b[38;5;28mprint\u001b[39m(i[: :\u001b[38;5;241m-\u001b[39m\u001b[38;5;241m1\u001b[39m])\n",
      "\u001b[1;31mAttributeError\u001b[0m: 'int' object has no attribute 'list'"
     ]
    }
   ],
   "source": [
    "# 틀림\n",
    "\n",
    "for i in range(100):\n",
    "    l = i.list()      # AttributeError: 'int' object has no attribute 'list'\n",
    "    print(i[: :-1])"
   ]
  },
  {
   "cell_type": "code",
   "execution_count": 226,
   "id": "a0d1845d-70b2-4d2b-ab38-2f05da8c93c9",
   "metadata": {},
   "outputs": [
    {
     "name": "stdout",
     "output_type": "stream",
     "text": [
      "99\n",
      "98\n",
      "97\n",
      "96\n",
      "95\n",
      "94\n",
      "93\n",
      "92\n",
      "91\n",
      "90\n",
      "89\n",
      "88\n",
      "87\n",
      "86\n",
      "85\n",
      "84\n",
      "83\n",
      "82\n",
      "81\n",
      "80\n",
      "79\n",
      "78\n",
      "77\n",
      "76\n",
      "75\n",
      "74\n",
      "73\n",
      "72\n",
      "71\n",
      "70\n",
      "69\n",
      "68\n",
      "67\n",
      "66\n",
      "65\n",
      "64\n",
      "63\n",
      "62\n",
      "61\n",
      "60\n",
      "59\n",
      "58\n",
      "57\n",
      "56\n",
      "55\n",
      "54\n",
      "53\n",
      "52\n",
      "51\n",
      "50\n",
      "49\n",
      "48\n",
      "47\n",
      "46\n",
      "45\n",
      "44\n",
      "43\n",
      "42\n",
      "41\n",
      "40\n",
      "39\n",
      "38\n",
      "37\n",
      "36\n",
      "35\n",
      "34\n",
      "33\n",
      "32\n",
      "31\n",
      "30\n",
      "29\n",
      "28\n",
      "27\n",
      "26\n",
      "25\n",
      "24\n",
      "23\n",
      "22\n",
      "21\n",
      "20\n",
      "19\n",
      "18\n",
      "17\n",
      "16\n",
      "15\n",
      "14\n",
      "13\n",
      "12\n",
      "11\n",
      "10\n",
      "9\n",
      "8\n",
      "7\n",
      "6\n",
      "5\n",
      "4\n",
      "3\n",
      "2\n",
      "1\n",
      "0\n"
     ]
    }
   ],
   "source": [
    "for i in range(100):\n",
    "    print(99 - i)         # 뺄셈을 사용해서 원하는 결괏값을 얻음"
   ]
  },
  {
   "cell_type": "markdown",
   "id": "5f22f7ed-fc27-4e11-bda7-a4e47d2970ae",
   "metadata": {
    "tags": []
   },
   "source": [
    "### 연습문제 165"
   ]
  },
  {
   "cell_type": "code",
   "execution_count": 227,
   "id": "31b53491-1182-4e46-9a6b-f8e4b95c6b49",
   "metadata": {},
   "outputs": [
    {
     "name": "stdout",
     "output_type": "stream",
     "text": [
      "0.0\n",
      "0.1\n",
      "0.2\n",
      "0.3\n",
      "0.4\n",
      "0.5\n",
      "0.6\n",
      "0.7\n",
      "0.8\n",
      "0.9\n"
     ]
    }
   ],
   "source": [
    "for i in range(10):\n",
    "    print(\"0.\" + str(i))"
   ]
  },
  {
   "cell_type": "code",
   "execution_count": 229,
   "id": "de8cc143-2a1d-4b8d-8b27-b5d885bef8b9",
   "metadata": {},
   "outputs": [
    {
     "name": "stdout",
     "output_type": "stream",
     "text": [
      "0.0\n",
      "0.1\n",
      "0.2\n",
      "0.3\n",
      "0.4\n",
      "0.5\n",
      "0.6\n",
      "0.7\n",
      "0.8\n",
      "0.9\n"
     ]
    }
   ],
   "source": [
    "# 다른 풀이 - 결괏값의 형태가 어떤 연산을 하면 나올 수 있는지 규칙성 등 잘 살펴보기!\n",
    "\n",
    "for i in range(10):\n",
    "    print(i / 10)"
   ]
  },
  {
   "cell_type": "markdown",
   "id": "c4e961cd-790b-4cc3-9290-69fa80e146c6",
   "metadata": {
    "tags": []
   },
   "source": [
    "### 연습문제 166"
   ]
  },
  {
   "cell_type": "code",
   "execution_count": 230,
   "id": "c79d673b-e307-460c-ba81-17f1c9d7dff7",
   "metadata": {},
   "outputs": [
    {
     "name": "stdout",
     "output_type": "stream",
     "text": [
      "3x1 = 3\n",
      "3x2 = 6\n",
      "3x3 = 9\n",
      "3x4 = 12\n",
      "3x5 = 15\n",
      "3x6 = 18\n",
      "3x7 = 21\n",
      "3x8 = 24\n",
      "3x9 = 27\n"
     ]
    }
   ],
   "source": [
    "# 구구단 3단\n",
    "\n",
    "for i in range(1, 10):\n",
    "    print(\"3x\"+str(i), \"=\", str(3*i))"
   ]
  },
  {
   "cell_type": "markdown",
   "id": "8d3c4185-567e-4eb2-b7cc-1a1dc1cff6db",
   "metadata": {
    "tags": []
   },
   "source": [
    "### 연습문제 167"
   ]
  },
  {
   "cell_type": "code",
   "execution_count": 233,
   "id": "bf646401-e2bd-421d-9762-662a628bb93b",
   "metadata": {},
   "outputs": [
    {
     "name": "stdout",
     "output_type": "stream",
     "text": [
      "3x1 = 3\n",
      "3x3 = 9\n",
      "3x5 = 15\n",
      "3x7 = 21\n",
      "3x9 = 27\n"
     ]
    }
   ],
   "source": [
    "for i in range(1,10,2):\n",
    "    print(\"3x\"+str(i), \"=\", str(3*i))"
   ]
  },
  {
   "cell_type": "code",
   "execution_count": 234,
   "id": "13c601d7-3dc7-4d98-bf40-1a8c33e0c62e",
   "metadata": {},
   "outputs": [
    {
     "name": "stdout",
     "output_type": "stream",
     "text": [
      "3 x 1  =  3\n",
      "3 x 3  =  9\n",
      "3 x 5  =  15\n",
      "3 x 7  =  21\n",
      "3 x 9  =  27\n"
     ]
    }
   ],
   "source": [
    "num = 3\n",
    "for i in range(1, 10) :\n",
    "    if i % 2 == 1 :\n",
    "        print (num, \"x\", i, \" = \", num * i)"
   ]
  },
  {
   "cell_type": "markdown",
   "id": "a7e34375-8ae3-492f-b5b6-ac76c3ab70d7",
   "metadata": {
    "tags": []
   },
   "source": [
    "### 연습문제 168"
   ]
  },
  {
   "cell_type": "code",
   "execution_count": 238,
   "id": "d0f633ef-055d-49fc-b119-e73571b88786",
   "metadata": {},
   "outputs": [
    {
     "name": "stdout",
     "output_type": "stream",
     "text": [
      "합 : 55\n"
     ]
    }
   ],
   "source": [
    "sum = 0                 # 초기값 설정 중요!\n",
    "for i in range(1,11):\n",
    "    sum += i\n",
    "print(\"합 :\", sum)      # 들여쓰기 코드 밖에 작성해야 마지막 sum값만 깔끔하게 출력됨"
   ]
  },
  {
   "cell_type": "markdown",
   "id": "3962c15d-1905-4853-9cd7-5a7adda36bbe",
   "metadata": {
    "tags": []
   },
   "source": [
    "### 연습문제 169"
   ]
  },
  {
   "cell_type": "code",
   "execution_count": 240,
   "id": "e406be78-ffd3-4501-846f-a100668d958b",
   "metadata": {},
   "outputs": [
    {
     "name": "stdout",
     "output_type": "stream",
     "text": [
      "합 : 25\n"
     ]
    }
   ],
   "source": [
    "sum = 0\n",
    "\n",
    "for i in range(1,10):\n",
    "    if i % 2 == 1:\n",
    "        sum += i\n",
    "print(\"합 :\", sum)"
   ]
  },
  {
   "cell_type": "markdown",
   "id": "5a6e95aa-4441-4760-84dc-b5ca2219e2e2",
   "metadata": {
    "tags": []
   },
   "source": [
    "### 연습문제 160"
   ]
  },
  {
   "cell_type": "code",
   "execution_count": 243,
   "id": "3fba4e69-317e-4c35-82af-5f2cc8a5f81d",
   "metadata": {},
   "outputs": [
    {
     "name": "stdout",
     "output_type": "stream",
     "text": [
      "3628800\n"
     ]
    }
   ],
   "source": [
    "sum = 1                  # 곱한값이 나오려면 초깃값이 1이어야 함!\n",
    "\n",
    "for i in range(1, 11):\n",
    "    sum *= i\n",
    "print(sum)"
   ]
  },
  {
   "cell_type": "code",
   "execution_count": null,
   "id": "95619a24-50c1-409a-b47d-9c3c04dcfd25",
   "metadata": {},
   "outputs": [],
   "source": []
  }
 ],
 "metadata": {
  "kernelspec": {
   "display_name": "Python 3 (ipykernel)",
   "language": "python",
   "name": "python3"
  },
  "language_info": {
   "codemirror_mode": {
    "name": "ipython",
    "version": 3
   },
   "file_extension": ".py",
   "mimetype": "text/x-python",
   "name": "python",
   "nbconvert_exporter": "python",
   "pygments_lexer": "ipython3",
   "version": "3.9.13"
  }
 },
 "nbformat": 4,
 "nbformat_minor": 5
}
