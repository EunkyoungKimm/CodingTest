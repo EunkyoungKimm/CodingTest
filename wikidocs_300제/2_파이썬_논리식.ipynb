{
 "cells": [
  {
   "cell_type": "markdown",
   "id": "745319e9-01fb-483a-8893-3cdff4eb4f04",
   "metadata": {},
   "source": [
    "# 파이썬 논리식\n",
    "\n",
    "- 파이썬은 `if`라는 키워드를 통해 조건문, 분기문을 만들 수 있다.\n",
    "- 조건물(conditional statements): 사용자의 입력 혹은 특정 값을 일정 조건에 따라 다르게 처리할 때 사용된다.\n",
    "- 분기문(switch statements): 프로그램의 흐름을 조건에 따라서 분기시킨다.(조건문과 비슷하다.)\n",
    "- if, else문"
   ]
  },
  {
   "cell_type": "markdown",
   "id": "dbb46915-4476-405e-bcc6-4911a7e38917",
   "metadata": {},
   "source": [
    "### 연습문제 101"
   ]
  },
  {
   "cell_type": "markdown",
   "id": "e7547985-e8fc-4b45-8940-ccb03662c6ae",
   "metadata": {},
   "source": [
    "파이썬에서 True 혹은 False를 갖는 데이터 타입은?   **bool 타입**"
   ]
  },
  {
   "cell_type": "markdown",
   "id": "5d3bc6b9-a6ad-40af-bd7c-52e704c4009f",
   "metadata": {},
   "source": [
    "### 연습문제 102"
   ]
  },
  {
   "cell_type": "code",
   "execution_count": 35,
   "id": "7807b308-e5d2-4ae7-8535-046ccdf75473",
   "metadata": {},
   "outputs": [
    {
     "name": "stdout",
     "output_type": "stream",
     "text": [
      "False\n"
     ]
    }
   ],
   "source": [
    "print(3 == 5) # False"
   ]
  },
  {
   "cell_type": "markdown",
   "id": "14440635-1900-480a-a3b4-38e326e0ea90",
   "metadata": {},
   "source": [
    "### 연습문제 103"
   ]
  },
  {
   "cell_type": "code",
   "execution_count": 36,
   "id": "33484d1c-d206-4cab-b290-4a8f8d022f87",
   "metadata": {},
   "outputs": [
    {
     "name": "stdout",
     "output_type": "stream",
     "text": [
      "True\n"
     ]
    }
   ],
   "source": [
    "print(3 < 5) # True"
   ]
  },
  {
   "cell_type": "markdown",
   "id": "c536ad81-90c2-4c3e-9a87-e6091ea3ff7a",
   "metadata": {},
   "source": [
    "### 연습문제 104"
   ]
  },
  {
   "cell_type": "code",
   "execution_count": 37,
   "id": "bdf8dcc0-8387-4dbd-a84d-fc2abcf0968e",
   "metadata": {},
   "outputs": [
    {
     "name": "stdout",
     "output_type": "stream",
     "text": [
      "True\n"
     ]
    }
   ],
   "source": [
    "x = 4\n",
    "print(1 < x < 5) # True"
   ]
  },
  {
   "cell_type": "markdown",
   "id": "cea99972-7662-4a57-b334-698852e85627",
   "metadata": {},
   "source": [
    "### 연습문제 105"
   ]
  },
  {
   "cell_type": "code",
   "execution_count": 38,
   "id": "715c9fa5-df2c-4a58-8fcf-157d363755a1",
   "metadata": {},
   "outputs": [
    {
     "name": "stdout",
     "output_type": "stream",
     "text": [
      "True\n"
     ]
    }
   ],
   "source": [
    "print((3 == 3) and (4!= 3)) # True"
   ]
  },
  {
   "cell_type": "markdown",
   "id": "5357c02f-fc64-4e93-885f-0e3701c7959d",
   "metadata": {},
   "source": [
    "### 연습문제 106"
   ]
  },
  {
   "cell_type": "code",
   "execution_count": 39,
   "id": "15327d54-2602-4fb2-a37f-7eee8273d33b",
   "metadata": {},
   "outputs": [
    {
     "ename": "SyntaxError",
     "evalue": "expression cannot contain assignment, perhaps you meant \"==\"? (2649538717.py, line 1)",
     "output_type": "error",
     "traceback": [
      "\u001b[1;36m  Cell \u001b[1;32mIn [39], line 1\u001b[1;36m\u001b[0m\n\u001b[1;33m    print(3 => 4) #\u001b[0m\n\u001b[1;37m          ^\u001b[0m\n\u001b[1;31mSyntaxError\u001b[0m\u001b[1;31m:\u001b[0m expression cannot contain assignment, perhaps you meant \"==\"?\n"
     ]
    }
   ],
   "source": [
    "print(3 => 4) # SyntaxError - 지원하지 않는 연산자이다."
   ]
  },
  {
   "cell_type": "markdown",
   "id": "1245985a-490c-464d-b29e-f8e218a23fb7",
   "metadata": {},
   "source": [
    "### 연습문제 107"
   ]
  },
  {
   "cell_type": "code",
   "execution_count": 40,
   "id": "2149d45e-b8ed-4169-9ab4-5b7afd06a627",
   "metadata": {},
   "outputs": [],
   "source": [
    "if 4 < 3:\n",
    "    print(\"Hello World\") # False라서 아무것도 출력x"
   ]
  },
  {
   "cell_type": "markdown",
   "id": "47878171-aa26-4ecc-8ea8-abb55fc78023",
   "metadata": {},
   "source": [
    "### 연습문제 108"
   ]
  },
  {
   "cell_type": "code",
   "execution_count": 41,
   "id": "a179de3b-9be3-48a3-8ac8-d7bb71d3da08",
   "metadata": {},
   "outputs": [
    {
     "name": "stdout",
     "output_type": "stream",
     "text": [
      "Hi, there.\n"
     ]
    }
   ],
   "source": [
    "if 4 < 3:\n",
    "    print(\"Hello World.\")\n",
    "else:\n",
    "    print(\"Hi, there.\")\n",
    "    \n",
    "# Hi, there."
   ]
  },
  {
   "cell_type": "markdown",
   "id": "0ced8099-8584-4bee-9549-29e7bd45945d",
   "metadata": {},
   "source": [
    "### 연습문제 109"
   ]
  },
  {
   "cell_type": "code",
   "execution_count": 42,
   "id": "bb2fcfd5-d05a-41b3-84d8-f70ebc84d9cb",
   "metadata": {},
   "outputs": [
    {
     "name": "stdout",
     "output_type": "stream",
     "text": [
      "1\n",
      "2\n",
      "4\n"
     ]
    }
   ],
   "source": [
    "if True:\n",
    "    print(\"1\")\n",
    "    print(\"2\")\n",
    "else:\n",
    "    print(\"3\")\n",
    "print(\"4\") # 1 2 4"
   ]
  },
  {
   "cell_type": "markdown",
   "id": "259294f8-041b-4e03-8784-be2ec4cffa31",
   "metadata": {},
   "source": [
    "### 연습문제 110"
   ]
  },
  {
   "cell_type": "code",
   "execution_count": 44,
   "id": "fbc0143f-fb75-4f9e-a0db-ddaf2594b9f7",
   "metadata": {},
   "outputs": [
    {
     "name": "stdout",
     "output_type": "stream",
     "text": [
      "3\n",
      "5\n"
     ]
    }
   ],
   "source": [
    "if True:\n",
    "    if False:      # 조건문이 True여야 실행하는데 False이므로 else문을 실행함!\n",
    "        print(\"1\")\n",
    "        print(\"2\")\n",
    "    else:\n",
    "        print(\"3\")\n",
    "else:\n",
    "    print(\"4\")\n",
    "print(\"5\")            # 3 5"
   ]
  },
  {
   "cell_type": "markdown",
   "id": "90a7c5d2-2ee2-4e4e-8a78-6568e9d569b6",
   "metadata": {},
   "source": [
    "### 연습문제 111"
   ]
  },
  {
   "cell_type": "code",
   "execution_count": 45,
   "id": "d550a167-4831-4ae2-a301-d2a2fea274b4",
   "metadata": {},
   "outputs": [
    {
     "name": "stdin",
     "output_type": "stream",
     "text": [
      " 안녕하세요\n"
     ]
    },
    {
     "name": "stdout",
     "output_type": "stream",
     "text": [
      "안녕하세요안녕하세요\n"
     ]
    }
   ],
   "source": [
    "a = input()\n",
    "print(a * 2)"
   ]
  },
  {
   "cell_type": "code",
   "execution_count": 46,
   "id": "ca5f9611-10c8-48cb-9e64-470db5609f27",
   "metadata": {},
   "outputs": [
    {
     "name": "stdin",
     "output_type": "stream",
     "text": [
      "입력: 안녕\n"
     ]
    },
    {
     "name": "stdout",
     "output_type": "stream",
     "text": [
      "안녕안녕\n"
     ]
    }
   ],
   "source": [
    "# 다른 풀이\n",
    "\n",
    "user = input(\"입력:\") # 센스있게 프롬프트 적어주면 good, 사용자의 입력이니까 변수명 user\n",
    "print(user * 2)"
   ]
  },
  {
   "cell_type": "markdown",
   "id": "494749ad-4a57-4388-81a8-d293ea3aa59f",
   "metadata": {},
   "source": [
    "### 연습문제 112"
   ]
  },
  {
   "cell_type": "code",
   "execution_count": 48,
   "id": "6b407c39-6384-479a-819f-ee31d7fce581",
   "metadata": {},
   "outputs": [
    {
     "name": "stdin",
     "output_type": "stream",
     "text": [
      "숫자를 입력하세요:  20\n"
     ]
    },
    {
     "name": "stdout",
     "output_type": "stream",
     "text": [
      "30\n"
     ]
    }
   ],
   "source": [
    "user = input(\"숫자를 입력하세요: \")\n",
    "print(int(user) + 10)              # int()로 형변환!"
   ]
  },
  {
   "cell_type": "markdown",
   "id": "70ab3d21-a394-42ad-8382-7d3f6289f460",
   "metadata": {},
   "source": [
    "### 연습문제 113"
   ]
  },
  {
   "cell_type": "code",
   "execution_count": 55,
   "id": "81f8bd24-6366-49b2-9a42-1275616eacca",
   "metadata": {},
   "outputs": [
    {
     "name": "stdin",
     "output_type": "stream",
     "text": [
      "숫자를 입력하세요:  3\n"
     ]
    },
    {
     "name": "stdout",
     "output_type": "stream",
     "text": [
      "홀수\n"
     ]
    }
   ],
   "source": [
    "user = input(\"숫자를 입력하세요: \")\n",
    "num = int(user)\n",
    "if num % 2 == 0:          # 입력받은걸 숫자로 비교하려면 꼭 형변환을 해 줘야 함\n",
    "    print(\"짝수\")\n",
    "else: \n",
    "    print(\"홀수\")"
   ]
  },
  {
   "cell_type": "markdown",
   "id": "edfe8876-bd8f-4c03-b8c6-0522e8e0ee1a",
   "metadata": {},
   "source": [
    "### 연습문제 114"
   ]
  },
  {
   "cell_type": "code",
   "execution_count": 52,
   "id": "23673a58-a047-4e7a-9c62-2f4c9ef05a33",
   "metadata": {},
   "outputs": [
    {
     "name": "stdin",
     "output_type": "stream",
     "text": [
      "입력값:  270\n"
     ]
    },
    {
     "name": "stdout",
     "output_type": "stream",
     "text": [
      "출력값: 255\n"
     ]
    }
   ],
   "source": [
    "num = input(\"입력값: \")\n",
    "num = int(num)+20\n",
    "if num <= 255:\n",
    "    print(\"출력값:\", num)\n",
    "else:\n",
    "    print(\"출력값:\", 255)"
   ]
  },
  {
   "cell_type": "markdown",
   "id": "6d9cdcdb-0bc8-4edb-9aff-0ef9df009c3e",
   "metadata": {},
   "source": [
    "### 연습문제 115"
   ]
  },
  {
   "cell_type": "code",
   "execution_count": 59,
   "id": "b50254dd-5c94-45aa-a7e2-25685b6a7ab8",
   "metadata": {},
   "outputs": [
    {
     "name": "stdin",
     "output_type": "stream",
     "text": [
      "입력값:  280\n"
     ]
    },
    {
     "name": "stdout",
     "output_type": "stream",
     "text": [
      "출력값: 255\n"
     ]
    }
   ],
   "source": [
    "user = input(\"입력값: \")\n",
    "num = int(user)-20\n",
    "if 0 <= num <= 255:\n",
    "    print(\"출력값:\", num)\n",
    "else:\n",
    "    print(\"출력값:\", 255)"
   ]
  },
  {
   "cell_type": "markdown",
   "id": "ad32e5e9-0ca3-4429-9e7c-60009b908179",
   "metadata": {},
   "source": [
    "### <span style = \"color: red\">연습문제 116</span>"
   ]
  },
  {
   "cell_type": "code",
   "execution_count": 68,
   "id": "89dce89f-f321-4e7c-8ca1-a02325aa9096",
   "metadata": {},
   "outputs": [
    {
     "name": "stdin",
     "output_type": "stream",
     "text": [
      "현재시간:  12:46\n"
     ]
    },
    {
     "name": "stdout",
     "output_type": "stream",
     "text": [
      "정각이 아닙니다.\n"
     ]
    }
   ],
   "source": [
    "# 슬라이싱!\n",
    "\n",
    "time = input(\"현재시간: \")\n",
    "if time[-2:] == \"00\":        # 슬라이싱 / [-2:] 마지막 2번째부터 끝까지 가져오기 / 문자열 비교이기 때문에 int 형변환 할 필요x\n",
    "    print(\"정각입니다.\")\n",
    "else:\n",
    "    print(\"정각이 아닙니다.\")"
   ]
  },
  {
   "cell_type": "markdown",
   "id": "c0104140-2943-4730-bbf6-b0886575e522",
   "metadata": {},
   "source": [
    "### 연습문제 117"
   ]
  },
  {
   "cell_type": "code",
   "execution_count": 63,
   "id": "e83fc560-a2f1-4f9c-92ff-66aadf768a5f",
   "metadata": {},
   "outputs": [],
   "source": [
    "fruit = [\"사과\", \"포도\", \"홍시\"]"
   ]
  },
  {
   "cell_type": "code",
   "execution_count": 67,
   "id": "580c0b25-4129-43c5-b343-07ee9a20e06e",
   "metadata": {},
   "outputs": [
    {
     "name": "stdin",
     "output_type": "stream",
     "text": [
      "좋아하는 과일은?  포도\n"
     ]
    },
    {
     "name": "stdout",
     "output_type": "stream",
     "text": [
      "정답입니다.\n"
     ]
    }
   ],
   "source": [
    "user = input(\"좋아하는 과일은? \")\n",
    "if user in fruit:\n",
    "    print(\"정답입니다.\")\n",
    "else:\n",
    "    print(\"틀렸습니다.\") # \"오답입니다.\""
   ]
  },
  {
   "cell_type": "markdown",
   "id": "47e52a94-7df8-4d98-8149-6926b3a65e35",
   "metadata": {},
   "source": [
    "### 연습문제 118"
   ]
  },
  {
   "cell_type": "code",
   "execution_count": 69,
   "id": "1b995099-2f09-4802-9ff4-7b5fec02dee1",
   "metadata": {},
   "outputs": [],
   "source": [
    "warn_investment_list = [\"Microsoft\", \"Google\", \"Naver\", \"Kakao\", \"SAMSUNG\", \"LG\"]"
   ]
  },
  {
   "cell_type": "code",
   "execution_count": 70,
   "id": "69f37d15-def9-4588-a9d8-b85664d66995",
   "metadata": {},
   "outputs": [
    {
     "name": "stdin",
     "output_type": "stream",
     "text": [
      "종목을 입력하세요: 하이닉스\n"
     ]
    },
    {
     "name": "stdout",
     "output_type": "stream",
     "text": [
      "투자 경고 종목이 아닙니다.\n"
     ]
    }
   ],
   "source": [
    "user = input(\"종목을 입력하세요:\")\n",
    "if user in warn_investment_list:\n",
    "    print(\"투자 경고 종목입니다.\")\n",
    "else:\n",
    "    print(\"투자 경고 종목이 아닙니다.\")"
   ]
  },
  {
   "cell_type": "markdown",
   "id": "467d542d-c98b-499f-9d2a-b9a01b6f2368",
   "metadata": {},
   "source": [
    "### <span style = \"color:orange\">연습문제 119</span>"
   ]
  },
  {
   "cell_type": "code",
   "execution_count": 74,
   "id": "0322d8f9-477b-4654-b5d7-5df479039edb",
   "metadata": {},
   "outputs": [],
   "source": [
    "fruit = {\"봄\" : \"딸기\", \"여름\" : \"토마토\", \"가을\" : \"사과\"}"
   ]
  },
  {
   "cell_type": "code",
   "execution_count": 73,
   "id": "7bbcb3f8-8030-4daf-8515-0af9d231a6f5",
   "metadata": {},
   "outputs": [
    {
     "name": "stdin",
     "output_type": "stream",
     "text": [
      "계절: 겨울\n"
     ]
    },
    {
     "name": "stdout",
     "output_type": "stream",
     "text": [
      "오답입니다.\n"
     ]
    }
   ],
   "source": [
    "user = input(\"계절:\")\n",
    "if user in fruit:          # 사용자 입력값이 딕셔너리 키(key) 값에 포함되어 있으면 True\n",
    "    print(\"정답입니다.\")\n",
    "else:\n",
    "    print(\"오답입니다.\")"
   ]
  },
  {
   "cell_type": "markdown",
   "id": "f78ce25e-6eca-4393-99b0-80d4b12005c2",
   "metadata": {},
   "source": [
    "### <span style = \"color:orange\">연습문제 120</span>"
   ]
  },
  {
   "cell_type": "code",
   "execution_count": 75,
   "id": "9d8c49d8-490c-4b53-8fea-7f4eb3ef13c6",
   "metadata": {},
   "outputs": [],
   "source": [
    "fruit = {\"봄\" : \"딸기\", \"여름\" : \"토마토\", \"가을\" : \"사과\"}"
   ]
  },
  {
   "cell_type": "code",
   "execution_count": 78,
   "id": "93a9fce2-a3dc-40db-ac20-24539dd17032",
   "metadata": {},
   "outputs": [
    {
     "name": "stdin",
     "output_type": "stream",
     "text": [
      "과일: 사과\n"
     ]
    },
    {
     "name": "stdout",
     "output_type": "stream",
     "text": [
      "정답입니다.\n"
     ]
    }
   ],
   "source": [
    "user = input(\"과일:\")\n",
    "if user in fruit.values():   # 사용자 입력값이 딕셔너리 value 값에 포함되어 있으면 True >> fruit.values()\n",
    "    print(\"정답입니다.\")\n",
    "else:\n",
    "    print(\"오답입니다.\")"
   ]
  },
  {
   "cell_type": "markdown",
   "id": "3cb5a3a4-bef1-476d-aa00-71ab018272a0",
   "metadata": {},
   "source": [
    "### 연습문제 121"
   ]
  },
  {
   "cell_type": "code",
   "execution_count": 81,
   "id": "6a77059b-7028-4fdf-8b03-aba62216afc3",
   "metadata": {},
   "outputs": [
    {
     "name": "stdin",
     "output_type": "stream",
     "text": [
      "알파벳을 입력하세요: A\n"
     ]
    },
    {
     "name": "stdout",
     "output_type": "stream",
     "text": [
      "a\n"
     ]
    }
   ],
   "source": [
    "user = input(\"알파벳을 입력하세요:\")\n",
    "if user.islower():\n",
    "    print(user.upper())\n",
    "else:\n",
    "    print(user.lower())"
   ]
  },
  {
   "cell_type": "markdown",
   "id": "e0cad3bb-2d56-49c6-861c-1ab16c6d6aef",
   "metadata": {},
   "source": [
    "- islower(): 문자의 소문자 여부를 판별하는 함수\n",
    "- upper(): 대문자로 만들어주는 함수\n",
    "- lower(): 소문자로 만들어주는 함수"
   ]
  },
  {
   "cell_type": "markdown",
   "id": "45fbe049-7391-40a6-b14b-770c4373e435",
   "metadata": {},
   "source": [
    "### 연습문제 122"
   ]
  },
  {
   "cell_type": "code",
   "execution_count": 84,
   "id": "398a35e0-e8d0-4220-b770-1bcf238fc9fd",
   "metadata": {},
   "outputs": [
    {
     "name": "stdin",
     "output_type": "stream",
     "text": [
      "score: 100\n"
     ]
    },
    {
     "name": "stdout",
     "output_type": "stream",
     "text": [
      "grade is A\n"
     ]
    }
   ],
   "source": [
    "user = input(\"score:\")\n",
    "score = int(user)\n",
    "if 80 < score <= 100:\n",
    "    print(\"grade is A\")\n",
    "elif 60 < score <= 80:\n",
    "    print(\"grade is B\")\n",
    "elif 40 < score <= 60:\n",
    "    print(\"grade is C\")\n",
    "elif 20 < score <= 40:\n",
    "    print(\"grade is D\")\n",
    "else:\n",
    "    print(\"grade is E\")"
   ]
  }
 ],
 "metadata": {
  "kernelspec": {
   "display_name": "Python 3 (ipykernel)",
   "language": "python",
   "name": "python3"
  },
  "language_info": {
   "codemirror_mode": {
    "name": "ipython",
    "version": 3
   },
   "file_extension": ".py",
   "mimetype": "text/x-python",
   "name": "python",
   "nbconvert_exporter": "python",
   "pygments_lexer": "ipython3",
   "version": "3.9.13"
  }
 },
 "nbformat": 4,
 "nbformat_minor": 5
}
