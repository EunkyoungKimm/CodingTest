{
 "cells": [
  {
   "cell_type": "markdown",
   "id": "74eacbb6-b7d5-4727-bdc8-0ea982747ea8",
   "metadata": {},
   "source": [
    "- 1순위 >> DP, 그리디, DFS&BFS, 정렬, 이분 탐색\n",
    "- 기본 >> 구현과 스택&큐 "
   ]
  },
  {
   "cell_type": "markdown",
   "id": "7d4b2e7d-68fd-4cd4-b2e5-a2f72effac55",
   "metadata": {},
   "source": [
    "# 정렬"
   ]
  },
  {
   "cell_type": "markdown",
   "id": "3ce810dd-cff0-4288-9a57-9da077bc01f7",
   "metadata": {},
   "source": [
    "## 1. 가장 큰 수"
   ]
  },
  {
   "cell_type": "markdown",
   "id": "d8787cab-eeda-4918-8780-047ad1f2c4d5",
   "metadata": {},
   "source": [
    "- 숫자를 문자열 해서 비교 >> 자릿수 마다 비교(문자열로 만들기) >> 제한사항 잘보고.. 최대값잘보고 그만큼 늘려서 비교하기!!"
   ]
  },
  {
   "cell_type": "code",
   "execution_count": 12,
   "id": "c6a268a5-7c70-4f5c-8f14-933f108dcbc6",
   "metadata": {
    "tags": []
   },
   "outputs": [],
   "source": [
    "def solution(numbers):\n",
    "    # 숫자를 문자열로 변환하여 정렬 >> 자릿수 비교는 문자열로 바꾸면 쉽게 할 수 있음!\n",
    "    numbers = list(map(str, numbers))\n",
    "    # 991, 9 >> 문자열비교하면.. 안곱하고하면.. 내림차순하면.. 9가 더 앞이니까... 9919가됨\n",
    "    # 3번곱하면 991991991, 999 >>> 내림차순하면.. 999가 더 커서 앞이니까.. 9991이됨..오.... 각 자리별 비교!(9,9)(9,9)(9,1) > 1이 앞. 이걸 내림차순..\n",
    "    # x에 3을 곱하여 정렬하는 것은 숫자의 크기를 일반적인 수치적인 비교가 아닌, 문자열 비교를 통해 \"가장 큰 수\"를 만들기 위한 조건\n",
    "    # 문자열을 3번 반복하여 비교 / \n",
    "    # sort로 하면 numbers가 list로 나옴! 666 222 101010 >>문자열비교라 1 뒤로!!\n",
    "    # 이런때를 대비해서 >> 최대수가 1000이라고함.. 그럼 9랑 991비교.. 9가 더크다고 인식(자릿수가 더 작은것들이 크다고 인식되지 않도록함!) 9991 9919 / 내림차순..\n",
    "    numbers = sorted(numbers, key=lambda x: x*3, reverse=True) # 이렇게 써도 됨!!! / key저거없으면 991,9 >> 9919나옴 , 있어야 9991 나옴... \n",
    "    print(numbers)\n",
    "\n",
    "    # 예외 처리: 모든 숫자가 0인 경우 / 정렬했는데 맨앞이 0이면 다 0인거임 <<< 이런 생각, 예외 잘 생각해야해!!!!!!!!!!!!!!!!\n",
    "    if numbers[0] == '0':\n",
    "        return '0'\n",
    "\n",
    "    # 정렬된 숫자들을 조합하여 가장 큰 수 생성\n",
    "    answer = ''.join(numbers) # \n",
    "    return answer"
   ]
  },
  {
   "cell_type": "code",
   "execution_count": 15,
   "id": "6a3de970-2250-43a8-bae8-9b413b5904ce",
   "metadata": {},
   "outputs": [],
   "source": [
    "def solution(numbers):\n",
    "    numbers = list(map(str, numbers))\n",
    "    numbers = sorted(numbers, key=lambda x: x*3, reverse=True)\n",
    "    if numbers[0] == 0:\n",
    "        return '0'\n",
    "    \n",
    "    answer = ''.join(numbers)\n",
    "    return answer"
   ]
  },
  {
   "cell_type": "code",
   "execution_count": 16,
   "id": "2be2b6f8-61ab-4904-8b9c-469365dc22bb",
   "metadata": {
    "tags": []
   },
   "outputs": [
    {
     "data": {
      "text/plain": [
       "'6210'"
      ]
     },
     "execution_count": 16,
     "metadata": {},
     "output_type": "execute_result"
    }
   ],
   "source": [
    "solution([6, 10, 2])"
   ]
  },
  {
   "cell_type": "code",
   "execution_count": 17,
   "id": "ebe8b759-fd30-49d0-95b6-7097057e602e",
   "metadata": {},
   "outputs": [
    {
     "data": {
      "text/plain": [
       "'9991'"
      ]
     },
     "execution_count": 17,
     "metadata": {},
     "output_type": "execute_result"
    }
   ],
   "source": [
    "solution([991, 9])"
   ]
  },
  {
   "cell_type": "code",
   "execution_count": null,
   "id": "3e3ddcf4-6a8b-4045-a9f2-8b0f2318a4f1",
   "metadata": {},
   "outputs": [],
   "source": []
  },
  {
   "cell_type": "code",
   "execution_count": null,
   "id": "0ff306ad-4a57-4270-97e4-5f803912cbcc",
   "metadata": {},
   "outputs": [],
   "source": [
    "# 한줄로 쓰기이이!!\n",
    "def solution(numbers):\n",
    "    numbers = list(map(str, numbers))\n",
    "    numbers.sort(key=lambda x: x*3, reverse=True)\n",
    "    return str(int(''.join(numbers)))"
   ]
  },
  {
   "cell_type": "code",
   "execution_count": null,
   "id": "8c5656a6-625c-4f1a-9fc1-a42081e53d6f",
   "metadata": {},
   "outputs": [],
   "source": []
  },
  {
   "cell_type": "code",
   "execution_count": null,
   "id": "0c70b59c-cf26-4897-969f-75b06a415014",
   "metadata": {},
   "outputs": [],
   "source": []
  },
  {
   "cell_type": "markdown",
   "id": "2ed63d6c-7b61-421f-8faa-596e4bd214f0",
   "metadata": {},
   "source": [
    "**<join 함수>**\n",
    "\n",
    "join() 함수는 파이썬에서 `문자열뿐만 아니라, 리스트, 튜플` 등의 `iterable(순회 가능한) 객체`를 `문자열로 연결`할 때 사용하는 함수입니다. 문자열뿐만 아니라 다양한 데이터 타입에 대해서도 join() 함수를 사용할 수 있습니다.\n",
    "\n",
    "join() 함수는 특정 문자열을 기준으로 iterable 객체의 원소들을 연결하여 `하나의 문자열로 반환`합니다. 예를 들어, 다음과 같이 사용할 수 있습니다."
   ]
  },
  {
   "cell_type": "code",
   "execution_count": 1,
   "id": "dc357a7d-cc9c-409a-9905-b48e5fa80ec7",
   "metadata": {
    "tags": []
   },
   "outputs": [
    {
     "name": "stdout",
     "output_type": "stream",
     "text": [
      "Hello world Python\n",
      "<class 'str'>\n",
      "apple, banana, cherry\n"
     ]
    }
   ],
   "source": [
    "# 리스트의 원소들을 문자열로 연결\n",
    "my_list = ['Hello', 'world', 'Python']\n",
    "result = ' '.join(my_list)\n",
    "print(result)\n",
    "print(type(result))\n",
    "# 출력: Hello world Python\n",
    "\n",
    "# 튜플의 원소들을 문자열로 연결\n",
    "my_tuple = ('apple', 'banana', 'cherry')\n",
    "result = ', '.join(my_tuple)\n",
    "print(result)\n",
    "# 출력: apple, banana, cherry"
   ]
  },
  {
   "cell_type": "markdown",
   "id": "810e07d0-327f-4e36-8ab4-42cc3db4a78f",
   "metadata": {},
   "source": [
    "**<사전순으로 문자열 비교>**\n",
    "\n",
    "앞에 글자부터 비교할 때, 이거 사용하면 좋을듯!"
   ]
  },
  {
   "cell_type": "markdown",
   "id": "348d520a-4ca0-4bd7-b734-d43fa0d772f4",
   "metadata": {},
   "source": [
    "근데 가장 큰 수 문제에서 lamda x: x*3에서 x가 10이면 결과가 뭐야?\n",
    "\n",
    "lambda x: x*3은 `람다 함수`로, 주어진 x 값을 `3번 반복하여 문자열로 만들어 반환`하는 함수입니다. 따라서 x가 10일 경우, x를 3번 반복하여 문자열로 만들면 \"101010\"이 됩니다."
   ]
  },
  {
   "cell_type": "code",
   "execution_count": 14,
   "id": "0b3b1c34-212a-46f4-a3a5-8dc27fbaed1a",
   "metadata": {
    "tags": []
   },
   "outputs": [
    {
     "name": "stdout",
     "output_type": "stream",
     "text": [
      "101010\n"
     ]
    }
   ],
   "source": [
    "x = '10'\n",
    "result = lambda x: x*3\n",
    "print(result(x))\n",
    "# 출력: 101010"
   ]
  },
  {
   "cell_type": "markdown",
   "id": "cd1990d9-5db7-428a-91a0-44e08047b9b5",
   "metadata": {},
   "source": [
    "그럼 x가 6, 10, 2일때 lambda식에 x를 대입하고, 그걸 토대로 내림차순해서 정렬하면 [10,6,2]아니야? 근데 왜 결과가 ['6', '2', '10'] 이렇게 나와?"
   ]
  },
  {
   "cell_type": "markdown",
   "id": "f4053c1a-2657-404f-a18c-25654615aa07",
   "metadata": {},
   "source": [
    "lambda x: x*3은 주어진 x 값을 3번 반복하여 문자열로 만들어 반환하는 람다 함수입니다. 이 함수를 이용하여 숫자 리스트 [6, 10, 2]를 정렬하면, 정렬은 문자열로 변환된 값에 대해 이루어지게 됩니다.\n",
    "\n",
    "따라서, 정렬 시에는 문자열로 변환된 값에 대해 정렬이 이루어지기 때문에, 사전 순으로 정렬되게 됩니다. 예를 들어, \"10\"은 \"2\"보다 사전 순으로 뒤에 위치하기 때문에, 결과가 ['6', '2', '10']과 같이 나오게 됩니다."
   ]
  },
  {
   "cell_type": "code",
   "execution_count": 16,
   "id": "9dd1ad0b-621c-4095-80d2-88e1bc735d38",
   "metadata": {
    "tags": []
   },
   "outputs": [
    {
     "name": "stdout",
     "output_type": "stream",
     "text": [
      "['6', '2', '10']\n"
     ]
    }
   ],
   "source": [
    "my_list = ['6', '10', '2']\n",
    "result = sorted(my_list, key=lambda x: x*3, reverse=True)\n",
    "print(result)\n",
    "# 출력: ['6', '2', '10']"
   ]
  },
  {
   "cell_type": "markdown",
   "id": "30bf657d-066f-4b69-9ce4-a37549889ddd",
   "metadata": {},
   "source": [
    "만약 숫자로 정렬된 결과를 얻고 싶다면, 애초에 숫자를 넣어주면 됨. 예를 들어, 다음과 같이 코드를 수정할 수 있습니다."
   ]
  },
  {
   "cell_type": "code",
   "execution_count": 18,
   "id": "ea93d94d-bc0c-48b1-98ac-4cc3ce1ed9f3",
   "metadata": {
    "tags": []
   },
   "outputs": [
    {
     "name": "stdout",
     "output_type": "stream",
     "text": [
      "[10, 6, 2]\n"
     ]
    }
   ],
   "source": [
    "my_list = [6, 10, 2]\n",
    "result = sorted(my_list, key=lambda x: x, reverse=True)\n",
    "print(result)\n",
    "# 출력: [10, 6, 2]"
   ]
  },
  {
   "cell_type": "markdown",
   "id": "714752a3-a742-4366-99bf-07bb42bb97dc",
   "metadata": {},
   "source": [
    "사전순으로 왜 '10'이 '2'보다 뒤야?"
   ]
  },
  {
   "cell_type": "markdown",
   "id": "c5493eb9-f8d1-41dd-b825-15eec694b4a4",
   "metadata": {},
   "source": [
    "`사전 순으로 문자열을 비교할 때, 첫 번째 문자부터 비교하면서 크기를 결정`합니다. '10'과 '2'를 비교할 때, 첫 번째 문자인 '1'과 '2'를 비교하면 '2'가 '1'보다 크기 때문에 '10'이 '2'보다 뒤에 위치하게 됩니다.\n",
    "\n",
    "파이썬에서는 문자열 비교 시에 사전 순으로 비교되기 때문에, '10'은 '2'보다 뒤에 위치하게 됩니다. 이는 파이썬에서 문자열은 사전 순으로 비교되는 문자열 비교 규칙에 따라 동작하는 것입니다.\n",
    "\n",
    "예를 들어, 다음과 같은 코드를 실행하면 '10'이 '2'보다 크다는 것을 확인할 수 있습니다.\n",
    "\n",
    "따라서 '10'은 '2'보다 사전 순으로 뒤에 위치하게 되어, '10'이 '2'보다 뒤에 나오는 것입니다. 이러한 문자열 비교 규칙을 이용하여 '가장 큰 수' 문제에서 숫자를 문자열로 변환하여 정렬할 때, 사전 순으로 원하는 결과를 얻을 수 있습니다."
   ]
  },
  {
   "cell_type": "code",
   "execution_count": 18,
   "id": "498b3471-efef-4889-b972-3cf3cd01b89b",
   "metadata": {
    "tags": []
   },
   "outputs": [
    {
     "name": "stdout",
     "output_type": "stream",
     "text": [
      "False\n"
     ]
    }
   ],
   "source": [
    "print('10' > '2')\n",
    "# 출력: True"
   ]
  },
  {
   "cell_type": "code",
   "execution_count": 1,
   "id": "5fd78c6f-c2f6-4b6f-bbf1-50d9dbee64ec",
   "metadata": {
    "tags": []
   },
   "outputs": [
    {
     "name": "stdout",
     "output_type": "stream",
     "text": [
      "Hello world Python\n",
      "<class 'str'>\n",
      "apple, banana, cherry\n"
     ]
    }
   ],
   "source": [
    "# 리스트의 원소들을 문자열로 연결\n",
    "my_list = ['Hello', 'world', 'Python']\n",
    "result = ' '.join(my_list)\n",
    "print(result)\n",
    "print(type(result))\n",
    "# 출력: Hello world Python\n",
    "\n",
    "# 튜플의 원소들을 문자열로 연결\n",
    "my_tuple = ('apple', 'banana', 'cherry')\n",
    "result = ', '.join(my_tuple)\n",
    "print(result)\n",
    "# 출력: apple, banana, cherry"
   ]
  },
  {
   "cell_type": "markdown",
   "id": "a6b1270a-1447-484d-a91e-77bb7d3dcd0c",
   "metadata": {},
   "source": [
    "## 2. H-Index"
   ]
  },
  {
   "cell_type": "markdown",
   "id": "85c4aac6-e6e0-428a-9186-2dbb7b694c4e",
   "metadata": {},
   "source": [
    "- 문제 이해가 제일 중요한 것 같다.. 문제 이해가 너무 느림..흠.."
   ]
  },
  {
   "cell_type": "markdown",
   "id": "dd2b1da5-0b94-45e4-89e9-ec16d1ce8fe9",
   "metadata": {},
   "source": [
    "- 주어진 수들은 다 얼마나 인용됐는지 횟수임."
   ]
  },
  {
   "cell_type": "markdown",
   "id": "8c5d61ac-f137-4988-b60d-50a997a38268",
   "metadata": {},
   "source": [
    "**min, max혼합해서 잘 쓰면 굉장히 간단해짐!**"
   ]
  },
  {
   "cell_type": "code",
   "execution_count": 24,
   "id": "7a5e7f23-815b-4b6f-b7fc-e6bdf945c937",
   "metadata": {
    "tags": []
   },
   "outputs": [],
   "source": [
    "def h_index(citations):\n",
    "    citations.sort()  # 인용된 횟수를 오름차순으로 정렬 >> 여기서 이미 정렬해서 for문 하나 덜 써도 됨 >> 시간초과x\n",
    "    # print(citations)\n",
    "    n = len(citations)\n",
    "    h = 0  # H-Index 초기화\n",
    "\n",
    "    for i in range(n):\n",
    "        # 현재 논문의 인용된 횟수와 남은 논문의 수를 비교하여 H-Index 갱신 \n",
    "        h = max(h, min(citations[i], n - i)) # 이미 정렬했기 때문에 횟수를 빼기만 해도 구할 수 있음!!(횟수랑 개수 비교)\n",
    "        # print(h)\n",
    "\n",
    "    return h"
   ]
  },
  {
   "cell_type": "code",
   "execution_count": 25,
   "id": "54326a68-0598-40b3-8ee6-e2dd9c1b0764",
   "metadata": {
    "tags": []
   },
   "outputs": [
    {
     "name": "stdout",
     "output_type": "stream",
     "text": [
      "[0, 1, 3, 5, 6]\n",
      "0\n",
      "1\n",
      "3\n",
      "3\n",
      "3\n"
     ]
    },
    {
     "data": {
      "text/plain": [
       "3"
      ]
     },
     "execution_count": 25,
     "metadata": {},
     "output_type": "execute_result"
    }
   ],
   "source": [
    "h_index([3, 0, 6, 1, 5])"
   ]
  },
  {
   "cell_type": "markdown",
   "id": "7c3a5711-5392-4385-beb1-6ec6085da206",
   "metadata": {},
   "source": [
    "## 3. k번째수"
   ]
  },
  {
   "cell_type": "code",
   "execution_count": 27,
   "id": "b0944493-d892-4c5c-a749-a94785ecddfc",
   "metadata": {
    "tags": []
   },
   "outputs": [],
   "source": [
    "# 내풀이\n",
    "\n",
    "# i-1 ~ j / 정렬하고 / k-1번째 배열에 담기\n",
    "\n",
    "def solution(array, commands):\n",
    "    answer = []\n",
    "    \n",
    "    for c in range(len(commands)):\n",
    "        i = commands[c][0]\n",
    "        j = commands[c][1]\n",
    "        li = array[i-1:j]\n",
    "        li.sort()\n",
    "        k = commands[c][2]\n",
    "        answer.append(li[k-1])\n",
    "    \n",
    "    return answer"
   ]
  },
  {
   "cell_type": "code",
   "execution_count": 28,
   "id": "d8cbf356-2191-4b83-945d-886a5be51761",
   "metadata": {
    "tags": []
   },
   "outputs": [
    {
     "data": {
      "text/plain": [
       "[5, 6, 3]"
      ]
     },
     "execution_count": 28,
     "metadata": {},
     "output_type": "execute_result"
    }
   ],
   "source": [
    "solution([1, 5, 2, 6, 3, 7, 4], [[2, 5, 3], [4, 4, 1], [1, 7, 3]])"
   ]
  },
  {
   "cell_type": "code",
   "execution_count": null,
   "id": "44bbe1c6-1399-40e1-be31-2d2a12809dff",
   "metadata": {},
   "outputs": [],
   "source": [
    "def solution(array, commands):\n",
    "    answer = []\n",
    "    for command in commands:\n",
    "        i, j, k = command  # i, j, k 값 추출 >>>> 이렇게 추출할 수 있음!!!!!!!!!!!!!!!!!!!!!!!!!!!\n",
    "        arr = array[i - 1:j]  # i부터 j까지의 부분 배열 추출\n",
    "        arr.sort()  # 부분 배열 정렬\n",
    "        answer.append(arr[k - 1])  # k번째 수를 정답 리스트에 추가\n",
    "    return answer"
   ]
  },
  {
   "cell_type": "markdown",
   "id": "5f28e141-9c0d-44a8-be7f-bc29113dbc89",
   "metadata": {},
   "source": [
    "# 그리디(탐욕법)"
   ]
  },
  {
   "cell_type": "markdown",
   "id": "3734f2fb-9f88-482b-9f94-415cbeaa40a5",
   "metadata": {},
   "source": [
    "## 1. 체육복"
   ]
  },
  {
   "cell_type": "code",
   "execution_count": null,
   "id": "0873c376-0f2a-43a7-bf30-3a4a5d4cfba6",
   "metadata": {},
   "outputs": [],
   "source": [
    "# 내 풀이 - 틀림\n",
    "def solution(n, lost, reserve):\n",
    "    answer = n\n",
    "    for l in lost:\n",
    "        if l-1 in reserve:\n",
    "            reserve.remove(l-1)\n",
    "        elif l+1 in reserve:\n",
    "            reserve.remove(l+1)\n",
    "        else:\n",
    "            answer -= 1\n",
    "    return answer"
   ]
  },
  {
   "cell_type": "markdown",
   "id": "b69d2c9e-4d39-41b4-a200-0a418fcc97c5",
   "metadata": {},
   "source": [
    "주어진 코드는 체육복 문제를 해결하기 위한 풀이 중 하나입니다. 그러나 이 코드에는 몇 가지 주의해야 할 점이 있습니다.\n",
    "\n",
    "`reserve 리스트의 요소를 삭제하는 reserve.remove() 메소드를 사용`하면, `lost 리스트의 요소를 처리할 때 중복된 요소를 처리하지 못할 수 있습니다`. 예를 들어, `lost 리스트에서 2와 3이 도난당했고, reserve 리스트에 2와 3이 모두 있을 경우, 첫 번째 반복에서 2를 처리하면 reserve 리스트에서도 2가 삭제되어 두 번째 반복에서 3을 처리할 수 없게 됩니다.`\n",
    "\n",
    "answer 변수는 체육복이 있는 학생의 수를 나타내는 변수로 초기값이 n으로 설정되어 있습니다. 그러나 lost 리스트의 요소들을 처리하면서 체육복을 빌려주는 학생들이 있을 경우에는 answer 변수의 값을 감소시켜야 합니다.\n",
    "\n",
    "다음은 수정된 코드로, reserve 리스트의 요소를 삭제하지 않고 인덱스를 활용하여 중복 처리를 방지하고, answer 변수를 감소시켜 체육복을 빌려주는 학생들을 처리하는 예시입니다."
   ]
  },
  {
   "cell_type": "code",
   "execution_count": null,
   "id": "fc5ea0f3-e570-476c-96d8-f97becdd3642",
   "metadata": {},
   "outputs": [],
   "source": [
    "# 틀림!! \n",
    "def solution(n, lost, reserve):\n",
    "    answer = n\n",
    "    reserve = set(reserve)  # set으로 변환하여 중복된 요소를 제거 >> 이렇게 한다고 되는거 아닌듯\n",
    "    \n",
    "    for l in lost:\n",
    "        if l-1 in reserve:  # 앞번호 학생이 여분의 체육복을 가진 경우\n",
    "            reserve.remove(l-1)  # reserve 리스트에서 해당 학생을 제거\n",
    "        elif l+1 in reserve:  # 뒷번호 학생이 여분의 체육복을 가진 경우\n",
    "            reserve.remove(l+1)  # reserve 리스트에서 해당 학생을 제거\n",
    "        else:\n",
    "            answer -= 1  # 체육복을 빌릴 수 없는 경우 answer 변수를 감소시킴\n",
    "            \n",
    "    return answer"
   ]
  },
  {
   "cell_type": "code",
   "execution_count": null,
   "id": "d257e877-d1a8-494d-bb5b-f5b5a5e6668e",
   "metadata": {},
   "outputs": [],
   "source": [
    "# chatgpt\n",
    "\n",
    "def solution(n, lost, reserve):\n",
    "    answer = 0\n",
    "    clothes = [1] * (n + 1)  # 체육복의 보유 상태를 나타내는 리스트. 1로 초기화 >>> 이학생들 '''틀을 유지''(이럴땐 이렇게 만들어라!)하려고!! 체육복 여분 있지만 빌려주지 못한애들도 세야 되니까!!\n",
    "    \n",
    "    for i in reserve:\n",
    "        clothes[i] += 1  # 여분의 체육복이 있는 학생은 1 증가 //////////// 여분o >> 2로 (이러면 리스트자체에 원소 지우지 않아도 됨)\n",
    "    \n",
    "    for i in lost:\n",
    "        clothes[i] -= 1  # 도난당한 학생은 1 감소    ///////////////////// 잃어버린 애 >> 0으로\n",
    "    \n",
    "    for i in range(1, n + 1):\n",
    "        if clothes[i] == 0:  # 체육복이 없는 학생일 경우\n",
    "            if i - 1 >= 1 and clothes[i - 1] == 2:  # 앞번호 학생이 여분의 체육복이 있는 경우\n",
    "                clothes[i] += 1\n",
    "                clothes[i - 1] -= 1\n",
    "            elif i + 1 <= n and clothes[i + 1] == 2:  # 뒷번호 학생이 여분의 체육복이 있는 경우\n",
    "                clothes[i] += 1\n",
    "                clothes[i + 1] -= 1\n",
    "    \n",
    "    for i in range(1, n + 1):\n",
    "        if clothes[i] >= 1:  # 체육복이 있는 학생의 수를 세기\n",
    "            answer += 1\n",
    "    \n",
    "    return answer"
   ]
  },
  {
   "cell_type": "code",
   "execution_count": 1,
   "id": "f1ee09d1-21d7-4d22-b2cd-900e0595129e",
   "metadata": {},
   "outputs": [
    {
     "name": "stdout",
     "output_type": "stream",
     "text": [
      "a\n",
      "b\n",
      "c\n"
     ]
    }
   ],
   "source": [
    "a = 'abc'\n",
    "for i in a:\n",
    "    print(i)"
   ]
  },
  {
   "cell_type": "markdown",
   "id": "541d7340-578c-4663-a453-6a1fa6035a27",
   "metadata": {},
   "source": [
    "## 2. 조이스틱 - 이해x"
   ]
  },
  {
   "cell_type": "markdown",
   "id": "8dd550b6-9530-4a09-9dbb-cf7ca94e8cee",
   "metadata": {},
   "source": [
    "'조이스틱'은 알파벳 대문자로 이루어진 문자열을 조작하여 원하는 문자열로 바꾸는 문제입니다. 조작 가능한 동작은 문자를 위/아래로 움직이는 조이스틱의 조작과 문자열 내에서 좌/우로 커서를 이동하는 조작으로 이루어져 있습니다. 이 문제를 파이썬으로 해결할 수 있습니다.\n",
    "\n",
    "문제 설명:\n",
    "주어진 문자열(name)을 원하는 문자열(target)로 바꾸기 위해 최소한의 동작으로 조이스틱을 조작하는 문제입니다. 조이스틱은 알파벳 대문자로 이루어진 문자열(name)을 위/아래로 움직이는 조작과 문자열 내에서 좌/우로 커서를 이동하는 조작으로 이루어져 있습니다. 각 알파벳은 'A'에서 시작하여 'B', 'C', ..., 'Z'로 순환되며, 'A'와 'Z' 사이는 원형으로 이어져 있습니다."
   ]
  },
  {
   "cell_type": "markdown",
   "id": "423274b9-6ce9-4180-af6b-efa86f8436c5",
   "metadata": {},
   "source": [
    "- 문제 이해가..흠.."
   ]
  },
  {
   "cell_type": "code",
   "execution_count": null,
   "id": "70fc7d17-7ec3-4439-adc8-45c7b51f6845",
   "metadata": {},
   "outputs": [],
   "source": [
    "def solution(name):\n",
    "    s = name\n",
    "    r = list() # 거리\n",
    "    \n",
    "    # 알파벳 올리기/내리기\n",
    "    for c in s:\n",
    "        r.append(ord(c) - 65)  # 각 알파벳에 대해 'A'로부터의 `거리`를 계산하여 리스트 r에 저장\n",
    "    cnt = 0\n",
    "    for i in r:\n",
    "        if i <= 13:\n",
    "            cnt += i  # 거리가 13보다 작거나 같으면 그대로 더함\n",
    "        else:\n",
    "            cnt += (26 - i)  # 거리가 13보다 크면 반대 방향으로 움직여야 하므로 26에서 빼고 더함\n",
    "            \n",
    "    # 옆으로 이동 >>>>>>>>>>>>>>>>>>>>> 이부분이 이해가 안됨.....................\n",
    "    min_movement = len(r) - 1\n",
    "    for red in range(len(r)):\n",
    "        blue = red + 1\n",
    "        while blue < len(r) and r[blue] == 0:\n",
    "            blue += 1  # 오른쪽으로 이동하며 거리가 0인 곳을 찾음\n",
    "        center = len(r) + red - blue  # 가운데로 커서를 움직이는 횟수\n",
    "        LR, RL = red, len(r) - blue  # 왼쪽으로 움직이는 횟수와 오른쪽으로 움직이는 횟수를 계산\n",
    "        min_movement = min(min_movement, center + min(LR, RL))  # 가운데로 이동하고 왼쪽, 오른쪽 중 더 적게 움직이는 횟수를 더함\n",
    "    return min_movement + cnt  # 조작 횟수와 알파벳 변경 횟수를 합하여 최종 조작 횟수를 반환"
   ]
  },
  {
   "cell_type": "markdown",
   "id": "a28ce528-e092-4d0c-b800-73e44e5df38d",
   "metadata": {},
   "source": [
    "위 코드는 입력으로 주어진 name 문자열을 target 문자열로 변경하기 위한 최소 조작 횟수를 계산하는 함수입니다. 각 알파벳에 대해 'A'로부터의 `거리를 계산`하여 리스트 r에 저장한 뒤, `알파벳 변경 횟수(cnt)`와 `옆으로 이동하는 횟수(min_movement)`를 계산하여 `최종 조작 횟수`를 반환합니다. `가운데로 커서를 움직이는 횟수`와 `왼쪽, 오른쪽으로 움직이는 횟수`를 계산하여 `더 작은 횟수`를 선택하고, `이를 가운데로 이동하는 횟수에 더해` 최소 조작 횟수를 계산합니다."
   ]
  },
  {
   "cell_type": "markdown",
   "id": "9866e8ae-dbb9-45ed-bb04-2f8899e55a9a",
   "metadata": {},
   "source": [
    "- `ord() 함수`는 문자의 유니코드(Unicode) 값을 반환하는 파이썬 내장 함수 / 각 문자마다 고유한 정수값이 할당 /  ord('A')는 문자 'A'의 유니코드 값인 65를 반환하며, ord('Z')는 문자 'Z'의 유니코드 값인 90을 반환(알파벳은 총 26개)"
   ]
  },
  {
   "cell_type": "markdown",
   "id": "d8e289c1-fcad-445e-b41f-53836e73a94a",
   "metadata": {},
   "source": [
    "- `all() 함수`는 파이썬 내장 함수로, 반복 가능한(iterable) 객체의 `모든 요소가 참(True)인지 확인`하는 함수입니다. 모든 요소가 참일 경우에만 True를 반환하고, 하나라도 거짓(False)인 요소가 있을 경우 False를 반환합니다.\n",
    "-  iterable은 반복 가능한 객체로, `리스트(list), 튜플(tuple), 집합(set), 딕셔너리(dictionary), 문자열(string)` "
   ]
  },
  {
   "cell_type": "markdown",
   "id": "ab6a19c7-fd8a-4f3a-9933-008f8c34eac3",
   "metadata": {},
   "source": [
    "## 3. 큰 수 만들기"
   ]
  },
  {
   "cell_type": "code",
   "execution_count": null,
   "id": "2cebf3ec-1669-434f-8e81-18e5f22b69b6",
   "metadata": {},
   "outputs": [],
   "source": [
    "# 내 풀이 - 틀림\n",
    "def solution(number, k):\n",
    "    sort_num = sort(list(int(number)))\n",
    "    answer = sort(sort_num[k:], reverse=True)\n",
    "    str_answer = str(answer)\n",
    "    return str_answer "
   ]
  },
  {
   "cell_type": "markdown",
   "id": "e3fe614d-3503-43df-9065-1385b0ba27d1",
   "metadata": {},
   "source": [
    "주어진 코드에서는 몇 가지 문제가 있습니다.\n",
    "\n",
    "1. sort 함수는 파이썬 내장 함수가 아니므로 사용할 수 없습니다. sorted 함수를 사용해야 합니다. >> sort는 `변수명.sort()` 이렇게 해야 함 \n",
    "\n",
    "2. list(int(number))와 같이 number를 정수로 변환한 뒤 리스트로 변환하는 부분에서는 `숫자의 각 자릿수가 리스트의 요소로 변환되지 않습니다`(정수 하나!로 인식해서 리스트에 원소 하나만 담김!). 대신에, number를 `문자열`로 처리하고 문자열을 리스트로 변환해야 합니다.\n",
    "\n",
    "3. sort_num[k:]와 같이 sort_num 리스트에서 인덱스 k 이후의 부분을 슬라이싱하여 처리하는 부분에서는 원하는 동작을 수행하지 않습니다. 문제에서 요구하는 것은 큰 수를 만들기 위해 `삭제해야 하는 숫자의 개수인 k 개만큼의 숫자를 삭제`하는 것입니다.\n",
    "\n",
    "4. sort 함수와 sort_num[k:]를 이용한 부분에서 오름차순 정렬을 하고 있어야 하는데, reverse=True 옵션을 사용하여 내림차순 정렬을 하고 있습니다.\n",
    "\n",
    "5. str_answer 변수에는 리스트 answer를 문자열로 변환한 것이 아니라, 리스트 answer를 문자열로 변환한 후의 결과를 저장해야 합니다."
   ]
  },
  {
   "cell_type": "code",
   "execution_count": 33,
   "id": "b729d94e-8a14-4196-9767-317ec9ed8773",
   "metadata": {
    "tags": []
   },
   "outputs": [],
   "source": [
    "# 챗지피티\n",
    "def solution(number, k):\n",
    "    num_list = list(number)  # number를 문자열로 처리하고 리스트로 변환\n",
    "    print(num_list)\n",
    "    stack = []  # 스택을 이용하여 큰 수를 만들기 위해 '삭제한 숫자`들을 저장\n",
    "    for num in num_list:\n",
    "        while stack and k > 0 and stack[-1] < num:\n",
    "            # 스택에 요소가 있고 / k가 0보다 크고 / 스택의 마지막 요소가 현재 요소보다 작을 경우 (이런 조건 잘 따지기!!!!)\n",
    "            stack.pop()  # 스택의 마지막 요소를 삭제하여 큰 수를 만들기 위해 숫자 삭제\n",
    "            k -= 1  # 삭제한 숫자의 개수를 감소\n",
    "        stack.append(num)  # 현재 요소를 스택에 추가 >> stack아무것도 없으면 얘부터 실행됨!!!\n",
    "    # 남은 k가 0보다 큰 경우, 스택의 뒤에서부터 '남은 k개의 요소를 삭제'\n",
    "    while k > 0:\n",
    "        stack.pop()\n",
    "        k -= 1\n",
    "    answer = ''.join(stack)  # 스택의 요소들을 문자열로 결합하여 결과값으로 반환\n",
    "    return answer"
   ]
  },
  {
   "cell_type": "code",
   "execution_count": 34,
   "id": "1c3105ab-e2e6-4642-9fbe-0e0663477d07",
   "metadata": {
    "tags": []
   },
   "outputs": [
    {
     "name": "stdout",
     "output_type": "stream",
     "text": [
      "['1', '2', '3', '1', '2', '3', '4']\n"
     ]
    },
    {
     "data": {
      "text/plain": [
       "'3234'"
      ]
     },
     "execution_count": 34,
     "metadata": {},
     "output_type": "execute_result"
    }
   ],
   "source": [
    "solution(\"1231234\", 3)"
   ]
  },
  {
   "cell_type": "code",
   "execution_count": null,
   "id": "4e5c97c6-91ad-476c-accf-b618383084a8",
   "metadata": {},
   "outputs": [],
   "source": [
    "# 다른사람 풀이\n",
    "def solution(number, k):\n",
    "    stack = [number[0]]\n",
    "    for num in number[1:]:\n",
    "        while len(stack) > 0 and stack[-1] < num and k > 0:\n",
    "            k -= 1\n",
    "            stack.pop()\n",
    "        stack.append(num)\n",
    "    if k != 0:           \n",
    "        stack = stack[:-k]\n",
    "    return ''.join(stack)"
   ]
  },
  {
   "cell_type": "code",
   "execution_count": null,
   "id": "4c7d0df6-417e-4351-bbc0-d3c75840f5c4",
   "metadata": {},
   "outputs": [],
   "source": [
    "def solution(number, k):\n",
    "    answer = []\n",
    "    for i in range(len(number)):\n",
    "        while answer and k>0 and number[i] > answer[-1]:\n",
    "            answer.pop()\n",
    "            k -= 1\n",
    "        answer.append(number[i])\n",
    "    return ''.join(answer[:len(answer)-k])"
   ]
  },
  {
   "cell_type": "markdown",
   "id": "79099a57-1638-4039-bbc2-9d9c49c4574e",
   "metadata": {},
   "source": [
    "## 4. 구명보트"
   ]
  },
  {
   "cell_type": "code",
   "execution_count": 35,
   "id": "17a2c8e7-d4f2-467b-a807-9a5394642786",
   "metadata": {
    "tags": []
   },
   "outputs": [],
   "source": [
    "# 챗지피티\n",
    "\n",
    "def solution(people, limit):\n",
    "    # 사람들을 무게 순으로 정렬\n",
    "    people.sort()\n",
    "    # 가장 가벼운 사람과 가장 무거운 사람의 인덱스를 저장할 변수\n",
    "    lightest = 0\n",
    "    heaviest = len(people) - 1\n",
    "    # 구명보트의 개수를 세기 위한 변수\n",
    "    count = 0\n",
    "    while lightest <= heaviest: # 이렇게 종료조건!!!!!!!!!!!!!!!!!!!!!!!!!!!!!!!!!!!!!!!!!!!!!!!! 잘 떠올리고 잘 정하기\n",
    "        # 가장 가벼운 사람과 가장 무거운 사람의 무게의 합이 제한을 넘지 않으면 둘 다 구명보트에 태움\n",
    "        if people[lightest] + people[heaviest] <= limit:\n",
    "            lightest += 1\n",
    "        heaviest -= 1 # 언제나 얘는 줄이는거!! 중요!!\n",
    "        count += 1\n",
    "    return count"
   ]
  },
  {
   "cell_type": "code",
   "execution_count": 36,
   "id": "c8c0cfaa-47a9-4713-ae1e-648222e337e0",
   "metadata": {
    "tags": []
   },
   "outputs": [
    {
     "data": {
      "text/plain": [
       "3"
      ]
     },
     "execution_count": 36,
     "metadata": {},
     "output_type": "execute_result"
    }
   ],
   "source": [
    "solution([70, 50, 80, 50], 100)"
   ]
  },
  {
   "cell_type": "code",
   "execution_count": null,
   "id": "7e83f983-300f-4379-b3c8-b35af9cf09d6",
   "metadata": {},
   "outputs": [],
   "source": [
    "def solution(people, limit) :\n",
    "    answer = 0\n",
    "    people.sort()\n",
    "\n",
    "    a = 0\n",
    "    b = len(people) - 1\n",
    "    while a < b :\n",
    "        if people[b] + people[a] <= limit :\n",
    "            a += 1\n",
    "            answer += 1\n",
    "        b -= 1\n",
    "    return len(people) - answer"
   ]
  },
  {
   "cell_type": "markdown",
   "id": "64cf3ce4-52e6-408f-a075-6ddd017456b0",
   "metadata": {},
   "source": [
    "## 5. 섬 연결하기 - 이해x"
   ]
  },
  {
   "cell_type": "code",
   "execution_count": null,
   "id": "4ce85ada-6c3d-42dd-9e6e-3d5f09cfeb46",
   "metadata": {},
   "outputs": [],
   "source": [
    "# Union-Find 구현\n",
    "def find(parent, i):\n",
    "    if parent[i] == i:\n",
    "        return i\n",
    "    return find(parent, parent[i])\n",
    "\n",
    "def union(parent, rank, x, y):\n",
    "    xroot = find(parent, x)\n",
    "    yroot = find(parent, y)\n",
    "    if rank[xroot] < rank[yroot]:\n",
    "        parent[xroot] = yroot\n",
    "    elif rank[xroot] > rank[yroot]:\n",
    "        parent[yroot] = xroot\n",
    "    else:\n",
    "        parent[yroot] = xroot\n",
    "        rank[xroot] += 1\n",
    "\n",
    "def kruskal(graph, n):\n",
    "    edges = []\n",
    "    for i in range(n):\n",
    "        for j in range(i+1, n):\n",
    "            if graph[i][j] != 0:\n",
    "                edges.append([i, j, graph[i][j]])\n",
    "    edges.sort(key=lambda x: x[2])\n",
    "    parent = list(range(n))\n",
    "    rank = [0] * n\n",
    "    min_cost = 0\n",
    "    mst = []\n",
    "    for edge in edges:\n",
    "        u, v, w = edge\n",
    "        if find(parent, u) != find(parent, v):\n",
    "            union(parent, rank, u, v)\n",
    "            min_cost += w\n",
    "            mst.append(edge)\n",
    "    return min_cost, mst\n",
    "\n",
    "def solution(n, costs):\n",
    "    graph = [[0] * n for _ in range(n)]\n",
    "    for cost in costs:\n",
    "        u, v, w = cost\n",
    "        graph[u][v] = w\n",
    "        graph[v][u] = w\n",
    "    min_cost, mst = kruskal(graph, n)\n",
    "    return min_cost"
   ]
  },
  {
   "cell_type": "markdown",
   "id": "ab5a0c19-6876-433e-9c81-7cc6214dddc2",
   "metadata": {},
   "source": [
    "입력으로 주어진 섬의 개수 n과 각 섬을 연결하는 다리의 비용이 담긴 리스트 costs를 활용하여 `Kruskal 알고리즘`을 구현하였습니다. kruskal 함수는 Kruskal 알고리즘을 수행하여 `최소 신장 트리`를 구하고, 그에 해당하는 `최소 비용`을 반환합니다. `find, union 함수는 Union-Find 자료구조를 구현`하여 `서로소 집합을 관리`하는 데 사용됩니다."
   ]
  },
  {
   "cell_type": "markdown",
   "id": "f0e08afa-0b1c-43d5-9847-5908c026348e",
   "metadata": {},
   "source": [
    "## 단속카메라"
   ]
  },
  {
   "cell_type": "code",
   "execution_count": 7,
   "id": "8a5cd35c-7e80-4c48-9879-d275abe7cb1b",
   "metadata": {},
   "outputs": [],
   "source": [
    "# 모든 차량이 적어도 한번은 단속용 카메라 만나도록! >> 최소 몇대 카메라 설치해야 함?\n",
    "# 입력 >> routes 차량의 이동 경로 [진입, 나가는 지점] > 이 지점과 같아도 카메라 만난거\n",
    "# 아이디어 중요!!!!!!!!!!!!!!!!!!!!!!!!!!!!!!!!!!!!!!!!!!!!!!!!!!!!!!!!!!!!!!!!!!!!!!!!!!!!!!!!!!!!!!!!\n",
    "def solution(routes):\n",
    "    routes.sort(key=lambda x: x[1])  # 차량들의 ''''도착지점''''을 기준으로 오름차순 정렬!!!!!!!!!!!!!!!!!!!!!!!!!!!!1\n",
    "    print(routes)\n",
    "    camera = -30001  # 카메라 위치를 가장 작은 값으로 초기화\n",
    "    answer = 0  # 설치된 카메라의 개수를 저장할 변수\n",
    "\n",
    "    for route in routes:\n",
    "        # print(route)\n",
    "        # print(camera)\n",
    "        if route[0] > camera:\n",
    "            # 현재 차량의 '''출발지점'''이 카메라 위치보다 뒤에 있다면!!!!!!!!!!!!!!!!!!!!!!!!!!!!!!!!!!!\n",
    "            # 해당 차량의 도착지점에 카메라를 설치하고 카메라 개수를 증가!!!!!!!!!!!!!!!!!!!!!!!!!!!!!!!!\n",
    "            camera = route[1]\n",
    "            # print(camera)\n",
    "            answer += 1\n",
    "\n",
    "    return answer"
   ]
  },
  {
   "cell_type": "code",
   "execution_count": 8,
   "id": "3d6f5ca5-d23e-4fd6-b98f-cb28d1702dbb",
   "metadata": {},
   "outputs": [
    {
     "name": "stdout",
     "output_type": "stream",
     "text": [
      "[[-20, -15], [-18, -13], [-14, -5], [-5, -3]]\n",
      "[-20, -15]\n",
      "-30001\n",
      "-15\n",
      "[-18, -13]\n",
      "-15\n",
      "[-14, -5]\n",
      "-15\n",
      "-5\n",
      "[-5, -3]\n",
      "-5\n"
     ]
    },
    {
     "data": {
      "text/plain": [
       "2"
      ]
     },
     "execution_count": 8,
     "metadata": {},
     "output_type": "execute_result"
    }
   ],
   "source": [
    "solution([[-20,-15], [-14,-5], [-18,-13], [-5,-3]])"
   ]
  },
  {
   "cell_type": "markdown",
   "id": "39fa77f0-46ba-46fd-a067-32a74e07c72b",
   "metadata": {},
   "source": [
    "# 완전탐색"
   ]
  },
  {
   "cell_type": "markdown",
   "id": "a76235fd-62fe-414f-ba82-eb96de30604f",
   "metadata": {},
   "source": [
    "## 1. 최소직사각형"
   ]
  },
  {
   "cell_type": "code",
   "execution_count": null,
   "id": "3fe971e0-9406-414d-b386-da01bb4dd2e1",
   "metadata": {},
   "outputs": [],
   "source": [
    "# 내 아이디어\n",
    "# 명함의 가로 세로 길이를 돌리든.. 잘 조정해서 모든 명함을 수납할 수 있는 가장 작은 지갑 찾기\n",
    "# 가장큰수 & 리스트 중에서 작은 값 중 큰수 고르면 됨! >> 리스트들 중 큰값 중 가장 큰값 & 리스트들 중 작은값들중 가장 큰값(이렇게까지 생각하면 굿!!)"
   ]
  },
  {
   "cell_type": "code",
   "execution_count": 16,
   "id": "4c03eb95-ee63-4a6a-85ee-413a69171b62",
   "metadata": {},
   "outputs": [],
   "source": [
    "# 지피티\n",
    "def solution(sizes):\n",
    "    max_width = 0  # 가로 길이 중 최대값을 저장할 변수\n",
    "    max_height = 0  # 세로 길이 중 최대값을 저장할 변수\n",
    "\n",
    "    for size in sizes:\n",
    "        # 각 명함의 가로와 세로 길이를 비교하여 최대값을 업데이트(계속 갱신됨!!)\n",
    "        max_width = max(max_width, max(size)) \n",
    "        max_height = max(max_height, min(size))\n",
    "\n",
    "    # 가로 길이와 세로 길이의 최대값들을 곱하여 최소한의 종이 사용 개수 반환\n",
    "    return max_width * max_height"
   ]
  },
  {
   "cell_type": "code",
   "execution_count": 17,
   "id": "3396f57b-25c6-4ff4-abeb-fc5ef51e485c",
   "metadata": {},
   "outputs": [
    {
     "data": {
      "text/plain": [
       "4000"
      ]
     },
     "execution_count": 17,
     "metadata": {},
     "output_type": "execute_result"
    }
   ],
   "source": [
    "solution([[60, 50], [30, 70], [60, 30], [80, 40]])"
   ]
  },
  {
   "cell_type": "markdown",
   "id": "341fcff6-4137-4341-8158-bbc0c1c9f7af",
   "metadata": {},
   "source": [
    "## 2. 모의고사"
   ]
  },
  {
   "cell_type": "code",
   "execution_count": 22,
   "id": "8b0b766b-23a7-40d6-9977-ffd929f5a536",
   "metadata": {},
   "outputs": [],
   "source": [
    "def solution(answers):\n",
    "    pattern1 = [1,2,3,4,5]\n",
    "    pattern2 = [2,1,2,3,2,4,2,5]\n",
    "    pattern3 = [3,3,1,1,2,2,4,4,5,5]\n",
    "    score = [0, 0, 0] # 점수 추가할 틀 , 표 만들어줌\n",
    "    result = []\n",
    "\n",
    "    for idx, answer in enumerate(answers): # idx가 필요해서 enumerate!!!\n",
    "        print(idx, answer)\n",
    "        if answer == pattern1[idx%len(pattern1)]: # 5,8,10 >> pattern 들마다 순환주기가 다르니까 각각 순환주기로 나눠준것 / 이렇게 한턴만 비교해도..?흠..\n",
    "            score[0] += 1\n",
    "        if answer == pattern2[idx%len(pattern2)]:\n",
    "            score[1] += 1\n",
    "        if answer == pattern3[idx%len(pattern3)]:\n",
    "            score[2] += 1\n",
    "    print(score)\n",
    "    for idx, s in enumerate(score):\n",
    "        if s == max(score):\n",
    "            result.append(idx+1)\n",
    "\n",
    "    return result"
   ]
  },
  {
   "cell_type": "code",
   "execution_count": 23,
   "id": "b0cfcafc-0cdc-4df5-ab50-b396206b595d",
   "metadata": {},
   "outputs": [
    {
     "name": "stdout",
     "output_type": "stream",
     "text": [
      "0 1\n",
      "1 3\n",
      "2 2\n",
      "3 4\n",
      "4 2\n",
      "[2, 2, 2]\n"
     ]
    },
    {
     "data": {
      "text/plain": [
       "[1, 2, 3]"
      ]
     },
     "execution_count": 23,
     "metadata": {},
     "output_type": "execute_result"
    }
   ],
   "source": [
    "solution([1,3,2,4,2])"
   ]
  },
  {
   "cell_type": "markdown",
   "id": "51d550b4-9a72-4316-b87f-73d4d1e1e150",
   "metadata": {},
   "source": [
    "idx % len(pattern1)은 현재 인덱스(idx)를 패턴1의 길이(len(pattern1))로 나눈 나머지를 계산하는 연산입니다.\n",
    "\n",
    "이 연산은 패턴이 반복되는 부분을 처리하기 위한 것입니다. 주어진 문제에서 수포자들은 각자의 패턴을 반복하여 찍는데, `문제의 개수가 패턴의 길이보다 많을 수` 있습니다. 예를 들어, 패턴1이 [1, 2, 3, 4, 5]라고 하면, 문제의 개수가 7개일 경우, 패턴1은 [1, 2, 3, 4, 5, 1, 2]와 같이 반복되게 됩니다.\n",
    "\n",
    "따라서, idx % len(pattern1) 연산을 통해 현재 인덱스(idx)를 패턴1의 길이(len(pattern1))로 나눈 `나머지`를 구하게 되면, `패턴이 반복되는 부분을 처리`할 수 있게 됩니다. 이를 통해 `패턴의 길이보다 더 많은 문제의 정답을 처리할 수` 있습니다. 동일한 원리로 패턴2와 패턴3에 대해서도 같은 연산이 적용되어 패턴이 반복되는 부분을 처리하게 됩니다."
   ]
  },
  {
   "cell_type": "markdown",
   "id": "5e8ebab6-5508-4870-a995-ca7c3040181f",
   "metadata": {},
   "source": [
    "## 3. 소수찾기"
   ]
  },
  {
   "cell_type": "markdown",
   "id": "71139d37-1f07-4c78-be12-15f62a887c7f",
   "metadata": {},
   "source": [
    "- 모든 조합만들고, set으로 중복 제거해주면됨!!!\n",
    "- 조합 >> `중복되지 않는 조합 수` 셀때 >> `set자료형` 쓰면 좋을듯!!"
   ]
  },
  {
   "cell_type": "code",
   "execution_count": 19,
   "id": "9ca9422a-ee4d-40e5-a3d1-a266af54c293",
   "metadata": {},
   "outputs": [],
   "source": [
    "import math\n",
    "from itertools import permutations\n",
    "\n",
    "def is_prime(num):\n",
    "    if num < 2:\n",
    "        return False\n",
    "    for i in range(2, int(math.sqrt(num)) + 1): #에라토스테네스의 체\n",
    "        if num % i == 0:\n",
    "            return False\n",
    "    return True\n",
    "\n",
    "def solution(numbers):\n",
    "    num_list = list(numbers) # \"011\" >> list(numbers) >> ['0', '1', '1']\n",
    "    prime_set = set() # 집합 만들기 >> add메서드.set자료형 쓸 수 있음!!!!!!!!!!\n",
    "    for i in range(1, len(num_list) + 1): # i = 1,2,3 >> 조합만들려고(permutation 매개변수로 몇 개 뽑아서 조합만들지 숫자가 필ㅇ요함!)\n",
    "        perm_list = list(permutations(num_list, i)) # num_list 원소들중 1개 원소만으로 조합 만들기! / num_list 원소들중 2개 원소만으로 조합 만들기!\n",
    "        for perm in perm_list:\n",
    "            num = int(''.join(perm)) # 다 연결 후!! 소수인지 판별\n",
    "            if is_prime(num): # 여기서 소수인지 판별 >> True이면!!! 아래진행\n",
    "                prime_set.add(num) # set 자료형은 add로 추가!!! / set에 넣어줘서 11하고 101이 여러번 나오는데 최종적으로 2개로 세짐!!!\n",
    "\n",
    "    answer = len(prime_set)\n",
    "    return answer"
   ]
  },
  {
   "cell_type": "code",
   "execution_count": 20,
   "id": "fa7af84d-273d-4f14-b62f-d002f8ab0842",
   "metadata": {},
   "outputs": [
    {
     "data": {
      "text/plain": [
       "2"
      ]
     },
     "execution_count": 20,
     "metadata": {},
     "output_type": "execute_result"
    }
   ],
   "source": [
    "solution(\"011\")"
   ]
  },
  {
   "cell_type": "markdown",
   "id": "02c8ff54-0550-4e97-b0af-859b598a5f6b",
   "metadata": {},
   "source": [
    "- 주어진 숫자들로 가능한 `모든 조합을 생성`한 후, 각 조합을 `정수로 변환`하여 `소수인지`를 판별하는 방법"
   ]
  },
  {
   "cell_type": "markdown",
   "id": "6c038886-2a5d-495d-8599-61c375b0679a",
   "metadata": {},
   "source": [
    "- is_prime(num): 주어진 숫자가 `소수인지`를 판별하는 함수입니다. `에라토스테네스의 체`를 이용하여 소수를 판별합니다.(안그러면 시간초과..)\n",
    "- solution(numbers): 문제의 입력값으로 주어진 숫자들(numbers)로 가능한 `모든 조합을 생성`한 후, 각 조합을 `정수`로 변환하여 `소수인지를 판별`하고, `소수인 경우 prime_set`에 추가합니다. 최종적으로 `prime_set의 길이`를 반환하여 `소수의 개수`를 계산합니다."
   ]
  },
  {
   "cell_type": "markdown",
   "id": "2ed4111b-3a61-41d8-8aa5-5fbd1eaf84f9",
   "metadata": {},
   "source": [
    "## 4. 카펫"
   ]
  },
  {
   "cell_type": "markdown",
   "id": "6c840a1b-d552-436e-9686-97a812b6a08e",
   "metadata": {},
   "source": [
    "- 더한것들, 곱한것들 원소 같은거 찾는거 "
   ]
  },
  {
   "cell_type": "markdown",
   "id": "715f01b4-cf2e-4a04-ac0d-175198e7a3be",
   "metadata": {},
   "source": [
    "- 바깥 테두리 한줄만 칠해지는 적절한 가로 세로 찾아야 됨!"
   ]
  },
  {
   "cell_type": "code",
   "execution_count": 25,
   "id": "bf1f0493-6301-425e-9702-57880b9f1db8",
   "metadata": {},
   "outputs": [],
   "source": [
    "def solution(brown, yellow):\n",
    "    answer = []\n",
    "    total = brown + yellow  # 전체 카펫의 크기 (가로 x 세로)\n",
    "\n",
    "    # 가능한 가로, 세로 길이의 조합을 순회\n",
    "    for i in range(1, int(total**0.5) + 1): # 에라토스테네스 체!!(sqrt대신 이렇게 해도 됨) >> 모든 약수 찾기!!\n",
    "        if total % i == 0: \n",
    "            print(i)\n",
    "            # 가로 길이 i, 세로 길이 total // i인 경우\n",
    "            if (i - 2) * (total // i - 2) == yellow:\n",
    "                print(i)\n",
    "                answer = [total // i, i]  # 세로 길이, 가로 길이 순서로 저장\n",
    "                break\n",
    "\n",
    "    return answer"
   ]
  },
  {
   "cell_type": "code",
   "execution_count": 27,
   "id": "d34dad65-ba67-48e6-9f30-ee5b1b47dcdc",
   "metadata": {},
   "outputs": [],
   "source": [
    "def solution(brown, yellow):\n",
    "    answer = []\n",
    "    total = brown + yellow\n",
    "    for i in range(1, int(total**0.5) + 1): # 약수 찾을 때는 이렇게 '제곱근' 활용하기!!!!!!\n",
    "        if total % i== 0: # 약수여야 가로 자격이 됨!\n",
    "            if (i - 2) * (total // i - 2) == yellow: # 약수여서 세로 구했는데 / brown기준으로 하면 약수 다돼. yellow 조건이 까다로우니까 이걸로 구한거임!(yellow영역을 구한거임)(가로x세로)\n",
    "                answer = [total // i, i]\n",
    "                break\n",
    "    return answer"
   ]
  },
  {
   "cell_type": "code",
   "execution_count": 28,
   "id": "a4311387-9a65-4384-b0ba-ee8f8bb449c0",
   "metadata": {},
   "outputs": [
    {
     "data": {
      "text/plain": [
       "[8, 6]"
      ]
     },
     "execution_count": 28,
     "metadata": {},
     "output_type": "execute_result"
    }
   ],
   "source": [
    "solution(24,24)"
   ]
  },
  {
   "cell_type": "markdown",
   "id": "bf783c03-df51-4a5e-8c27-f19e72a0f8fb",
   "metadata": {},
   "source": [
    "- yellow는 노란 영역의 개수이기 때문에, 카펫의 `가로 길이를 나타내는 i`와 `세로 길이를 나타내는 total // i`를 이용하여 노란 영역의 개수를 계산할 수 있습니다. `노란 영역`은 카펫의 `가로와 세로 길이에서 각각 2씩 빼주어야`(가운데 이니까!) 하므로 (i - 2) * (total // i - 2)으로 노란 영역의 개수를 구합니다."
   ]
  },
  {
   "cell_type": "markdown",
   "id": "91d81951-2319-487b-a712-cec95db56241",
   "metadata": {},
   "source": [
    "## 5. 피로도"
   ]
  },
  {
   "cell_type": "markdown",
   "id": "ae25a033-2d8a-461c-b881-16d6d38edda6",
   "metadata": {},
   "source": [
    "- 백트래킹이나 순열을 이용해야할 것 같았다."
   ]
  },
  {
   "cell_type": "markdown",
   "id": "1074b63e-50f9-464a-94eb-dc4b15a8493f",
   "metadata": {},
   "source": [
    "<순열>\n",
    "- `순열`로 `가능한 모든` 순서를 구해서 돌려보고 갈 수 있는 던전수가 가장 큰 것을 리턴했다."
   ]
  },
  {
   "cell_type": "code",
   "execution_count": 48,
   "id": "0e44e9ce-d1b4-48d4-a096-21e89c3b0413",
   "metadata": {},
   "outputs": [],
   "source": [
    "from itertools import permutations\n",
    "\n",
    "def solution(k, dungeons):\n",
    "    answer = 0\n",
    "    \n",
    "    for p in permutations(dungeons, len(dungeons)):\n",
    "        print(p)\n",
    "        tmp = k\n",
    "        cnt = 0 \n",
    "        \n",
    "        for need, spend in p: # need , spend = [최소,소모피로도]\n",
    "            if tmp >= need:\n",
    "                tmp -= spend\n",
    "                cnt += 1\n",
    "        answer = max(answer, cnt) # 처음엔 0보다 클거니까 cnt바뀌고.. 또 새로운 조합에서 더 많은 던전가면 또 바뀌고!!\n",
    "    return answer"
   ]
  },
  {
   "cell_type": "code",
   "execution_count": 49,
   "id": "2313f989-ee2e-4183-a34e-4fa4331eaad0",
   "metadata": {},
   "outputs": [
    {
     "name": "stdout",
     "output_type": "stream",
     "text": [
      "([80, 20], [50, 40], [30, 10])\n",
      "([80, 20], [30, 10], [50, 40])\n",
      "([50, 40], [80, 20], [30, 10])\n",
      "([50, 40], [30, 10], [80, 20])\n",
      "([30, 10], [80, 20], [50, 40])\n",
      "([30, 10], [50, 40], [80, 20])\n"
     ]
    },
    {
     "data": {
      "text/plain": [
       "3"
      ]
     },
     "execution_count": 49,
     "metadata": {},
     "output_type": "execute_result"
    }
   ],
   "source": [
    "solution(80, [[80,20],[50,40],[30,10]])"
   ]
  },
  {
   "cell_type": "markdown",
   "id": "3d5f69c5-ee23-40f9-a4b1-85408ddac2bd",
   "metadata": {},
   "source": [
    "<백트래킹 dfs>\n",
    "- `for 문`을 돌면서 일단 가보고 안되면 취소한다. cnt 값이 현재 answer보다 클 경우 업데이트 해준다."
   ]
  },
  {
   "cell_type": "code",
   "execution_count": null,
   "id": "62aa9840-104d-4558-b050-9fe6dbe69072",
   "metadata": {},
   "outputs": [],
   "source": [
    "answer = 0\n",
    "\n",
    "def dfs(k, cnt, dungeons, visited):\n",
    "    global answer\n",
    "    if cnt > answer:  # 현재까지의 탐험 던전 수(cnt)가 최대 탐험 가능한 던전 수(answer)보다 크다면\n",
    "        answer = cnt  # 최대 탐험 가능한 던전 수를 갱신한다\n",
    "    \n",
    "    for i in range(len(dungeons)):\n",
    "        if not visited[i] and k >= dungeons[i][0]:  # 아직 방문하지 않은 던전 중에서 현재 피로도(k)보다 작거나 같은 피로도를 요구하는 던전을 찾는다\n",
    "            visited[i] = True  # 해당 던전을 방문 처리한다\n",
    "            dfs(k - dungeons[i][1], cnt + 1, dungeons, visited)  # 해당 던전을 탐험하고, 피로도와 탐험 던전 수를 갱신한다 (재귀 호출)\n",
    "            visited[i] = False  # 재귀 호출이 종료되면, 해당 던전의 방문 여부를 다시 False로 변경하여 백트래킹을 수행한다\n",
    "        \n",
    "def solution(k, dungeons):\n",
    "    global answer\n",
    "    visited = [False] * len(dungeons)  # 던전의 방문 여부를 저장하는 리스트를 False로 초기화한다\n",
    "    dfs(k, 0, dungeons, visited)  # 여기서!!! dfs 함수를 호출하여 최대 탐험 가능한 던전 수를 찾는다\n",
    "    return answer  # 최대 탐험 가능한 던전 수를 반환한다\n"
   ]
  },
  {
   "cell_type": "markdown",
   "id": "2ac5811e-a645-484d-b186-43f9f0dc775d",
   "metadata": {},
   "source": [
    "- 이해xxxxx / 순열로 풀자!"
   ]
  },
  {
   "cell_type": "markdown",
   "id": "2514ffd4-2ef6-48b9-a322-023204d03f6d",
   "metadata": {},
   "source": [
    "## 6. 모음사전"
   ]
  },
  {
   "cell_type": "markdown",
   "id": "d655ba3c-3b10-4d80-be4a-b9bfe6195597",
   "metadata": {},
   "source": [
    "- Word `길이가 5 밖에` 안되므로 `중복 순열`을 이용해서 가능한 `모든 조합`을 구한 후 index를 찾았다."
   ]
  },
  {
   "cell_type": "code",
   "execution_count": 50,
   "id": "0a906df9-0219-4d83-bb23-c8e99ef4e529",
   "metadata": {},
   "outputs": [],
   "source": [
    "from itertools import product\n",
    "\n",
    "def solution(word):\n",
    "    words = []\n",
    "    for i in range(1, 6):\n",
    "        for c in product(['A', 'E', 'I', 'O', 'U'], repeat=i): # 중복순열 >> product!!!!\n",
    "            words.append(''.join(list(c))) # join하려면 list만들어주고 / 리스트 원소들을 join으로 합쳐서 하나의 단어 만들기!!\n",
    "\n",
    "    words.sort() # sort 이렇게 씀! sorted는 sorted(words) >> 근데 이건 바뀐 순서가 inplace안됨\n",
    "    return words.index(word) + 1 # words.index(찾고자하는단어) >> words리스트에서 찾고자하는 단어의 index반환!(0시작이므로 1더해주기!)"
   ]
  },
  {
   "cell_type": "code",
   "execution_count": 51,
   "id": "e1b01570-fc37-47ae-bcfa-8f33396bcccf",
   "metadata": {},
   "outputs": [
    {
     "data": {
      "text/plain": [
       "1189"
      ]
     },
     "execution_count": 51,
     "metadata": {},
     "output_type": "execute_result"
    }
   ],
   "source": [
    "solution(\"EIO\")"
   ]
  },
  {
   "cell_type": "markdown",
   "id": "c67ac089-31f4-48ed-a7ad-88c50aa25661",
   "metadata": {},
   "source": [
    "`product 함수의 반환 값`은 `튜플(tuple)` 형태로 나타나게 됩니다. 예를 들어, product(['A', 'E'], repeat=2)의 결과는 (('A', 'A'), ('A', 'E'), ('E', 'A'), ('E', 'E'))와 같이 튜플 형태로 나타납니다.\n",
    "\n",
    "그런데 문제의 코드에서는 list(c)를 사용하여 `튜플인 c를 리스트로 변환`한 뒤, `join 함수`를 사용하여 `리스트의 원소들을 하나의 문자열로 합`치고 있습니다. 이렇게 하는 이유는, 문제에서 요구하는 것이 `문자열로 된 단어(word)`이기 때문입니다.\n",
    "\n",
    "words.append(''.join(list(c)))는 product 함수를 통해 생성된 튜플인 c를 리스트로 변환하고, 리스트의 각 원소들을 문자열로 합치는 과정을 거쳐, 최종적으로 문자열로 된 단어를 words 리스트에 추가하는 것입니다.\n",
    "\n",
    "따라서 `list(c)와 join 함수`를 사용하여 `튜플을 리스트로 변환`하고 `문자열을 합치는 과정`을 통해, `words 리스트에 문자열로 된 단어를 추가`하는 것입니다."
   ]
  },
  {
   "cell_type": "markdown",
   "id": "53f2eb64-76d9-430e-b0cf-794fd3f4a35e",
   "metadata": {},
   "source": [
    "# 해시"
   ]
  },
  {
   "cell_type": "markdown",
   "id": "4d71025f-4d7e-4903-b759-6ef11234f6ce",
   "metadata": {},
   "source": [
    "## 1. 폰켓몬"
   ]
  },
  {
   "cell_type": "code",
   "execution_count": 60,
   "id": "ca6687c6-384d-43a4-b60e-c8342a40200b",
   "metadata": {},
   "outputs": [],
   "source": [
    "def solution(nums):\n",
    "    unique_types = len(set(nums)) # 중복제거.. 종류.. 이런거 구할때는 set이 최고!!!!!\n",
    "\n",
    "    if len(nums) / 2 > unique_types:\n",
    "        return unique_types\n",
    "    else:\n",
    "        return len(nums) / 2"
   ]
  },
  {
   "cell_type": "code",
   "execution_count": 58,
   "id": "64bfe9ea-7ead-4567-81af-65a832b06287",
   "metadata": {},
   "outputs": [
    {
     "data": {
      "text/plain": [
       "2"
      ]
     },
     "execution_count": 58,
     "metadata": {},
     "output_type": "execute_result"
    }
   ],
   "source": [
    "solution([3,3,3,2,2,2])"
   ]
  },
  {
   "cell_type": "code",
   "execution_count": 61,
   "id": "20ce7406-3697-47f4-89ba-5312b29ff43e",
   "metadata": {},
   "outputs": [
    {
     "data": {
      "text/plain": [
       "2.0"
      ]
     },
     "execution_count": 61,
     "metadata": {},
     "output_type": "execute_result"
    }
   ],
   "source": [
    "solution([3,1,2,3])"
   ]
  },
  {
   "cell_type": "markdown",
   "id": "8e75df36-c647-4501-93ef-b24b061f0996",
   "metadata": {},
   "source": [
    "`set 함수`를 통해 중복되지 않은 폰켓몬의 `종류`를 구하고 len 함수를 통해 그 개수를 구한다. `골라야 하는 폰켓몬의 수`(nums의 원소 개수/2)가 중복되지 않은 폰켓몬 종류의 수보다 많은 경우에는 중복되지 않은 폰켓몬 종류의 수를, 그외에는 골라야 하는 폰켓몬의 수를 반환하면 문제를 해결할 수 있다."
   ]
  },
  {
   "cell_type": "code",
   "execution_count": null,
   "id": "d30a4fe1-64cc-4f35-a0fc-1915911667b1",
   "metadata": {},
   "outputs": [],
   "source": [
    "# 엄청 간단\n",
    "def solution(ls):\n",
    "    return min(len(ls)/2, len(set(ls)))"
   ]
  },
  {
   "cell_type": "markdown",
   "id": "f6d4ddc2-3d53-47e7-91a0-ce7f782d3948",
   "metadata": {},
   "source": [
    "## 2. 완주하지 못한 선수"
   ]
  },
  {
   "cell_type": "markdown",
   "id": "90c4a5c3-3475-46df-8432-ac239f7556d7",
   "metadata": {},
   "source": [
    "- 동명이인 등장!"
   ]
  },
  {
   "cell_type": "code",
   "execution_count": null,
   "id": "e03415cf-f5ee-4bad-bdee-1fbf6a414993",
   "metadata": {},
   "outputs": [],
   "source": [
    "def solution(participant, completion):\n",
    "    # 두 list를 sorting한다\n",
    "    participant.sort()\n",
    "    completion.sort()\n",
    "    for i in range(len(completion)): # completeion list의 len만큼 participant를 찾아서 없는 사람을 찾는다\n",
    "        if participant[i] != completion[i]:\n",
    "            return participant[i]\n",
    "    return participant[len(participant)-1] # 전부 다 돌아도 없을 경우에는 마지막 주자가 완주하지 못한 선수이다."
   ]
  },
  {
   "cell_type": "markdown",
   "id": "73bdd137-0d05-492a-b08f-07ea04c137a2",
   "metadata": {},
   "source": [
    "- 완주 못한 사람은 한 명이라는 전제가 있으니까 그 한 명만 찾아내면 됩니다\n",
    "- 아래가 `해쉬` .. 출제자 의도에 거의 맞는 풀이라고 함"
   ]
  },
  {
   "cell_type": "markdown",
   "id": "a7d2d583-8d07-4137-bb4f-5e51bbafb6b9",
   "metadata": {},
   "source": [
    "## 3. 전화번호 목록"
   ]
  },
  {
   "cell_type": "code",
   "execution_count": 62,
   "id": "2b8888c2-1f5c-4a1e-aa18-b5fac8eb29c7",
   "metadata": {},
   "outputs": [],
   "source": [
    "def solution(phone_book):\n",
    "    answer = True\n",
    "    phone_book.sort()\n",
    "    for i in range(len(phone_book)-1): # i와 i+1 비교하니까 한번더 안해도됨\n",
    "        if len(phone_book[i]) < len(phone_book[i+1]):\n",
    "            if phone_book[i + 1][:len(phone_book[i])] == phone_book[i]: # 맨앞인덱스까지 \n",
    "                answer = False # 하나만 접두어 겹치는거.. 하나만 있어도 false!!(다 달라야 다 true라 전체 true)\n",
    "                break\n",
    "    return answer"
   ]
  },
  {
   "cell_type": "code",
   "execution_count": 63,
   "id": "c69040f8-55c0-4c9f-8292-b66a2eece86b",
   "metadata": {},
   "outputs": [
    {
     "data": {
      "text/plain": [
       "True"
      ]
     },
     "execution_count": 63,
     "metadata": {},
     "output_type": "execute_result"
    }
   ],
   "source": [
    "solution([\"123\",\"456\",\"789\"])"
   ]
  },
  {
   "cell_type": "code",
   "execution_count": 64,
   "id": "d5f8ab07-f315-40a4-919f-1b295d620e71",
   "metadata": {},
   "outputs": [
    {
     "data": {
      "text/plain": [
       "False"
      ]
     },
     "execution_count": 64,
     "metadata": {},
     "output_type": "execute_result"
    }
   ],
   "source": [
    "solution([\"119\", \"97674223\", \"1195524421\"])"
   ]
  },
  {
   "cell_type": "markdown",
   "id": "364b32a9-e842-485a-a0b7-bba2e990f63a",
   "metadata": {},
   "source": [
    "**<문자열 정렬되는거 보기!>**\n",
    "\n",
    "만약에 어떤 번호가 다른 번호의 접두어라면 이 둘은 정렬했을 때 앞뒤에 위치하게 된다.\n",
    "예를 들어 [\"1235\", \"123\", \"12348\", \"012\"]을 입력으로 받으면, sorted([\"1235\", \"123\", \"12348\", \"012\"])는 [\"012\", \"123\", \"12348\", \"1235\"]가 된다.\n",
    "\n",
    "따라서 phone_book을 정렬하고 for문을 이용해 phone_book[i]과 phone_book[i+1] 값을 비교했다.\n",
    "첫번째 if문에서 i와 i+1의 길이를 비교한 것은 바로 아래의 if문에서 index가 out of range가 되는 것을 피하기 위함이다."
   ]
  },
  {
   "cell_type": "markdown",
   "id": "3b191006-3023-481d-9d6d-685b5640e3c5",
   "metadata": {},
   "source": [
    "## 4. 위장"
   ]
  },
  {
   "cell_type": "markdown",
   "id": "58c2e219-ec43-4d12-b1bd-0576b7102af4",
   "metadata": {},
   "source": [
    "- 공식! 찾아야됨 >> 종류 2개, 3개 >> (2+1)*(3+1) - 1 이게 아무것도 안입은거 빼고 모든 조합!"
   ]
  },
  {
   "cell_type": "code",
   "execution_count": 67,
   "id": "d25f41e7-87ec-4fae-b9e7-23242347fab9",
   "metadata": {},
   "outputs": [],
   "source": [
    "def solution(clothes): \n",
    "    closet = {}\n",
    "    answer = 1\n",
    "    \n",
    "    # 같은 종류의 옷끼리 묶어서 사전에 저장\n",
    "    for cloth in clothes: # 이거 파악 중요!! closth[1] = 종류(키가 되야 함) / cloth[0] = 특정 옷(밸류) / 밸류값 여러개 >> 밸류를 리스트로!!\n",
    "        if cloth[1] in closet.keys(): # 이미 그 키를 딕셔너리에 넣었다면 그냥 값 append해줘!\n",
    "            closet[cloth[1]].append(cloth[0])\n",
    "        else:\n",
    "            closet[cloth[1]] = [cloth[0]] # 그 종류가 없으면 closet 딕셔너리(해쉬)에 key로 넣기!! \n",
    "                                          # (밸류값을 list안에 넣겠다는거! 그래야 다른 거 들어와도 append로 쉽게 넣을 수 있음!!)\n",
    "    \n",
    "    # 경우의 수 구하기            \n",
    "    for value in closet.values():\n",
    "        answer *= len(value) + 1\n",
    "    \n",
    "    # 아무것도 입지 않은 경우 하나 제외\n",
    "    return answer-1"
   ]
  },
  {
   "cell_type": "code",
   "execution_count": 68,
   "id": "a6ec5d65-d52b-4974-833f-7fe98d2a295a",
   "metadata": {},
   "outputs": [
    {
     "data": {
      "text/plain": [
       "5"
      ]
     },
     "execution_count": 68,
     "metadata": {},
     "output_type": "execute_result"
    }
   ],
   "source": [
    "solution([[\"yellow_hat\", \"headgear\"], [\"blue_sunglasses\", \"eyewear\"], [\"green_turban\", \"headgear\"]])"
   ]
  },
  {
   "cell_type": "markdown",
   "id": "e486c781-9f58-4cac-89bd-c8a733bf7a2b",
   "metadata": {},
   "source": [
    "- `같은 종류의 옷 끼리 분류` (`해시 with Dictonary`)\n",
    "- 경우의 수 계산\n",
    "- 매개변수로 입력 받은 clothes를 순회하며 현재 옷 종류가 closet에 있다면 `append로 값을 추가`(리스트에 값 넣어줬으니까 append로 추가 가능)하고, `closet에 없다면 리스트를 추가`한다."
   ]
  },
  {
   "cell_type": "code",
   "execution_count": null,
   "id": "e28756a9-7bf8-45f8-b5b2-be612b444106",
   "metadata": {},
   "outputs": [],
   "source": [
    "def solution(clothes):\n",
    "    d = {}\n",
    "    for v in clothes:\n",
    "        if not v[1] in d:\n",
    "            d[v[1]] = 1\n",
    "        else:\n",
    "            d[v[1]] += 1 # 이렇게 그냥 숫자를 더해줘도 될듯!!!!!!!!!!!!!!!!!!!!!!!!!!!!!!!!!!!!!!1\n",
    "    ans = 1\n",
    "    for i in d.keys():\n",
    "        ans *= d[i] + 1\n",
    "    return ans - 1"
   ]
  },
  {
   "cell_type": "markdown",
   "id": "79bb85c7-c0f2-4479-a923-c6ae95d7af2c",
   "metadata": {},
   "source": [
    "## 5. 베스트앨범"
   ]
  },
  {
   "cell_type": "code",
   "execution_count": 81,
   "id": "b54280d3-3b36-4afd-a448-8f9176d6d92e",
   "metadata": {},
   "outputs": [],
   "source": [
    "def solution(genres, plays):\n",
    "    answer = []\n",
    "    total_play = {}\t#장르별 total play를 저장하는 딕셔너리\n",
    "    genres_play = {}\t#장르별 play수를 저장하는 딕셔너리\n",
    "    \n",
    "    for i in range(len(genres)):\n",
    "    \t#딕셔너리안에 key가 존재하면 플러스, 아니면 초기화해준다\n",
    "        if genres[i] in total_play:\n",
    "            total_play[genres[i]] += plays[i]\n",
    "        else:\n",
    "            total_play[genres[i]] = plays[i]                                        # plays[i] = 그냥 숫자. 횟수임!!\n",
    "        #똑같이 딕셔너리안에 key가 존재하면 추가, 아니면 초기화해준다\n",
    "        if genres[i] in genres_play:\n",
    "            genres_play[genres[i]].append([plays[i], i])\n",
    "        else:\n",
    "            #''''''[재생횟수, 인덱스]''''''의 list형태로 추가한다\n",
    "            genres_play[genres[i]] = [[plays[i], i]] \n",
    "    print(total_play)\n",
    "    #total_play 딕셔너리의 value를 내림차순으로 정렬 후 key 리스트를 만들어준다\n",
    "    genre_rank = sorted(total_play, key=total_play.get, reverse=True) #get >> 키 해당하는 '값'반환.. 즉, 내림차순 정렬하는데..딕셔너리의 값 기준으로 내림차순 정렬!\n",
    "    print(genre_rank)\n",
    "    \n",
    "    for x in genre_rank:\n",
    "        print(genres_play[x])\n",
    "    \t#재생횟수(내림차순), 인덱스(오름차순)으로 정렬해준다\n",
    "        play_rank = sorted(genres_play[x], key=lambda x: (-x[0], x[1])) # sorted >> key기준으로!! / 내림차순 저렇게 - 붙이면 됨!)\n",
    "        print(play_rank)\n",
    "        \n",
    "        #장르 내에 곡이 하나뿐일 경우 첫 번째만 추가, 아니면 앞의 2개만 추가한다\n",
    "        #play_rank[i][1]에 저장된 index만 answer에 추가한다\n",
    "        if len(play_rank) == 1:\n",
    "            answer.append(play_rank[0][1])\n",
    "        else:\n",
    "            for i in range(2):\n",
    "                answer.append(play_rank[i][1])\n",
    "    return answer"
   ]
  },
  {
   "cell_type": "code",
   "execution_count": 82,
   "id": "c3838df8-bfe8-4880-9dc0-b6e4b7c5e149",
   "metadata": {},
   "outputs": [
    {
     "name": "stdout",
     "output_type": "stream",
     "text": [
      "{'classic': 1450, 'pop': 3100}\n",
      "['pop', 'classic']\n",
      "[[600, 1], [2500, 4]]\n",
      "[[2500, 4], [600, 1]]\n",
      "[[500, 0], [150, 2], [800, 3]]\n",
      "[[800, 3], [500, 0], [150, 2]]\n"
     ]
    },
    {
     "data": {
      "text/plain": [
       "[4, 1, 3, 0]"
      ]
     },
     "execution_count": 82,
     "metadata": {},
     "output_type": "execute_result"
    }
   ],
   "source": [
    "solution([\"classic\", \"pop\", \"classic\", \"classic\", \"pop\"], [500, 600, 150, 800, 2500])"
   ]
  },
  {
   "cell_type": "markdown",
   "id": "022462e6-5faf-40a1-9d30-6ed97b9e5cbe",
   "metadata": {},
   "source": [
    "lambda는 파이썬에서 사용하는 람다(lambda) 함수를 정의하는 키워드로, 간단한 함수를 한 줄로 정의할 때 사용됩니다. lambda 함수는 이름이 없는 익명 함수로, 인자를 입력받아 표현식(expression)을 평가하여 결과를 반환하는 함수입니다.\n",
    "\n",
    "위의 코드에서 lambda x: (-x[0], x[1])는 play_rank 리스트의 요소들을 정렬하는데 사용되었습니다. play_rank 리스트는 [재생횟수, 인덱스] 형태의 리스트들을 요소로 갖고 있으며, 이를 내림차순으로 정렬하되, `재생횟수를 기준으로 먼저 내림차순`으로 정렬하고, `재생횟수가 같을 경우`에는 `인덱스를 오름차순으로 정렬`하는데 사용되었습니다.\n",
    "\n",
    "lambda x: (-x[0], x[1])에서 x는 play_rank 리스트의 각 요소를 의미하며, -x[0]은 재생횟수를 음수로 변환하여 내림차순으로 정렬하도록 하고, x[1]은 인덱스를 오름차순으로 정렬하도록 합니다. 이렇게 정의된 람다 함수는 play_rank 리스트의 각 요소들을 기준에 따라 정렬하는데 사용되었습니다."
   ]
  },
  {
   "cell_type": "markdown",
   "id": "a7d98bc9-8c52-4103-840a-5fec066fad32",
   "metadata": {},
   "source": [
    "`get()`은 파이썬의 `딕셔너리(Dictionary) 메서드` 중 하나로, 딕셔너리에서 주어진 키(Key)에 해당하는 `값을 반환하는 역할`을 합니다.\n",
    "\n",
    "total_play.get(key, default) 형태로 사용되며, key에는 딕셔너리에서 찾고자 하는 키를, default에는 해당 키가 존재하지 않을 경우 반환할 기본값을 지정할 수 있습니다. 만약 default를 생략하면, 키가 존재하지 않을 경우 None이 반환됩니다.\n",
    "\n",
    "위에서 total_play 딕셔너리의 경우, 각 장르의 총 재생 횟수를 저장하는 딕셔너리로 사용되었습니다. total_play[genres[i]]와 같이 키를 사용하여 딕셔너리의 값을 조회하고, total_play.get(genres[i])와 같이 get() 메서드를 사용하여도 동일한 결과를 얻을 수 있습니다.\n",
    "\n",
    "`genre_rank 리스트를 생성`할 때, `total_play 딕셔너리의 값`을 `내림차순으로 정렬`하기 위해` total_play.get 메서드`가 사용되었습니다. key=total_play.get은 `딕셔너리의 값을 기준으로 정렬`하는데, total_play 딕셔너리의 값을 내림차순으로 정렬하기 위해 reverse=True 옵션이 함께 사용되었습니다. 이렇게 정렬된 결과를 기반으로 장르를 랭킹하는데 사용되었습니다."
   ]
  },
  {
   "cell_type": "code",
   "execution_count": 3,
   "id": "9a8d6d06-331b-47b3-8a82-94068cf7dfc7",
   "metadata": {},
   "outputs": [
    {
     "ename": "TypeError",
     "evalue": "'builtin_function_or_method' object is not iterable",
     "output_type": "error",
     "traceback": [
      "\u001b[1;31m---------------------------------------------------------------------------\u001b[0m",
      "\u001b[1;31mTypeError\u001b[0m                                 Traceback (most recent call last)",
      "Cell \u001b[1;32mIn [3], line 2\u001b[0m\n\u001b[0;32m      1\u001b[0m d \u001b[38;5;241m=\u001b[39m {\u001b[38;5;124m'\u001b[39m\u001b[38;5;124m홍\u001b[39m\u001b[38;5;124m'\u001b[39m:\u001b[38;5;241m1\u001b[39m, \u001b[38;5;124m'\u001b[39m\u001b[38;5;124m이\u001b[39m\u001b[38;5;124m'\u001b[39m:\u001b[38;5;241m2\u001b[39m}\n\u001b[1;32m----> 2\u001b[0m \u001b[38;5;28mprint\u001b[39m(\u001b[38;5;28;43mlist\u001b[39;49m\u001b[43m(\u001b[49m\u001b[43md\u001b[49m\u001b[38;5;241;43m.\u001b[39;49m\u001b[43mget\u001b[49m\u001b[43m)\u001b[49m)\n",
      "\u001b[1;31mTypeError\u001b[0m: 'builtin_function_or_method' object is not iterable"
     ]
    }
   ],
   "source": [
    "d = {'홍':1, '이':2}\n",
    "print(list(d.get))"
   ]
  },
  {
   "cell_type": "code",
   "execution_count": null,
   "id": "df05bee7-28c8-4a71-b70e-c1035819b131",
   "metadata": {},
   "outputs": [],
   "source": [
    "# 안보고 작성해보기\n",
    "\n",
    "# 장르별로 가장 많이 재생된 노래 두개씩 모아 베스트 앨범 출기(장르 종류!)\n",
    "# 장르별 횟수 구해야 함(많이 재생된게 먼저)\n",
    "# 장르 안에 노래별 횟수(많은게 먼저)\n",
    "# 노래별 횟수 같으면 고유번호 낮은게. 먼저 들어있는게 먼저.\n",
    "\n",
    "def solution(genres, plays):\n",
    "    answer = []\n",
    "    total_play = {} # 장르별\n",
    "    genres_play = {} # 장르안에 노래 횟수, 인덱스\n",
    "    \n",
    "    for i in range(len(genres)):\n",
    "        # total_play에 장르별 횟수 넣어주기\n",
    "        if genres[i] in total_play:\n",
    "            total_play[genres[i]] += plays[i]\n",
    "        else:\n",
    "            total_play[genres[i]] = plays[i]\n",
    "        # genres_play 형태 >> {장르명 : [[노래재생횟수, 고유번호-인덱스], ...]}\n",
    "        if genres[i] in genres_play:\n",
    "            genres_play[genres[i]].append([plays[i], i])\n",
    "        else:\n",
    "            genres_play[genres[i]] = [[plays[i], i]]\n",
    "            \n",
    "    # 조건 맞게 정렬하기\n",
    "    genre_rank = sorted(total_play, key=total_play.get, reverse=True) # key기준이 하나일 경우에는 lambda(x), 다른 값으로 변환하지 않는다면! 괜히 lambda넣으면 에러뜸\n",
    "    \n",
    "    for x in genre_rank:\n",
    "        # 그 장르 안에서 노래 횟수 정렬\n",
    "        play_rank = sorted(genres_play[x], key=lambda x : (-x[0], x[1]))\n",
    "        # 하나면 그것의 index를 answer에 넣어주기\n",
    "        if len(play_rank) == 1:\n",
    "            answer.append(play_rank[0][1])\n",
    "        else:\n",
    "            for i in range(2): # 2개가 최대임\n",
    "                answer.append(play_rank[i][1])\n",
    "                                         \n",
    "    \n",
    "    return answer"
   ]
  },
  {
   "cell_type": "markdown",
   "id": "785a0e81-ee82-4eed-89e8-0e498d26d84f",
   "metadata": {},
   "source": [
    "# 스택/큐"
   ]
  },
  {
   "cell_type": "markdown",
   "id": "cfe6c953-9f7a-4a71-aa29-dfb54df38c34",
   "metadata": {},
   "source": [
    "## 1. 같은 숫자는 싫어\n",
    "- 연속되게 중복되는 수 제거 >> ex. 111 > 1"
   ]
  },
  {
   "cell_type": "code",
   "execution_count": 3,
   "id": "e7e71aa4-30a4-42a9-ab9d-147874ee7d1a",
   "metadata": {},
   "outputs": [],
   "source": [
    "def solution(arr):\n",
    "    answer = []\n",
    "    answer.append(arr[0]) # 들어온 arr의 첫번째 요소를 일단 넣기\n",
    "    for i in range(1,len(arr)):\n",
    "        if arr[i]!=arr[i-1]: # 비교 후 같지 않으면 넣어줌!\n",
    "            answer.append(arr[i])\n",
    "    return answer"
   ]
  },
  {
   "cell_type": "code",
   "execution_count": 4,
   "id": "d0950a18-47f7-4497-8a3e-1ebd6ab57f94",
   "metadata": {},
   "outputs": [
    {
     "name": "stdout",
     "output_type": "stream",
     "text": [
      "[1]\n",
      "[1, 3]\n",
      "[1, 3, 0]\n",
      "[1, 3, 0, 1]\n"
     ]
    },
    {
     "data": {
      "text/plain": [
       "[1, 3, 0, 1]"
      ]
     },
     "execution_count": 4,
     "metadata": {},
     "output_type": "execute_result"
    }
   ],
   "source": [
    "solution([1,1,3,3,0,1,1])"
   ]
  },
  {
   "cell_type": "markdown",
   "id": "1ea69616-99a9-4354-88d2-887c9c4cb601",
   "metadata": {},
   "source": [
    "## 2. 기능개발"
   ]
  },
  {
   "cell_type": "markdown",
   "id": "c968e015-cc9e-44a1-b293-30ee86c624e1",
   "metadata": {},
   "source": [
    "- 모든 기능이 완성될 될때까지 며칠며칠며칠 >> '기능 몇개몇개몇개' 이거 출력!\n",
    "- 일단 남은 수 구하고, 진도율과 같이 어케 할지 정해야 할듯\n",
    "- `[완료된 퍼센트(작업진도), 작업속도]`"
   ]
  },
  {
   "cell_type": "code",
   "execution_count": 5,
   "id": "08c3e43d-676d-462c-aedc-212ca8b17712",
   "metadata": {},
   "outputs": [],
   "source": [
    "def solution(progresses, speeds):\n",
    "    answer = [] # list형태로 return해줘야 함. 답출력해야 함.\n",
    "    while progresses:\n",
    "        # 각 작업의 진도에 개발 속도를 더해줌\n",
    "        for i in range(len(progresses)):\n",
    "            progresses[i] += speeds[i] # 일단 더해주다가... 100이상인거 있으면 아래로 됨!!\n",
    "        \n",
    "        count = 0 # 배포 가능한 작업의 수\n",
    "        # 가장 앞에 있는 작업이 100% 이상일 경우, 배포 가능한 작업 수를 센다 >> 100이상인거 3개 있으면 while문이 3개 실행되겠지? \n",
    "        while progresses and progresses[0] >= 100: # and임!! 둘다 만족해야 해! / 앞에 있는게 먼저 나가야 되니까 progresses[0] 이라고 해야 함!\n",
    "            # print(progresses[0])\n",
    "            progresses.pop(0) # pop() 숫자 넣으면 그 인덱스의 값이 빠짐!!!!!!!!!!!!!!!!!!!\n",
    "            speeds.pop(0)\n",
    "            count += 1\n",
    "        \n",
    "        # 배포 가능한 작업이 있다면, 그 수를 정답 리스트에 추가\n",
    "        if count > 0:\n",
    "            answer.append(count) # 그 개수, count 자체를 answer에 넣어줘야 하니까 이렇게 함.\n",
    "            # print(answer)\n",
    "    \n",
    "    return answer"
   ]
  },
  {
   "cell_type": "code",
   "execution_count": 6,
   "id": "115c1d6e-2fcf-462c-ae90-aaa4a576e379",
   "metadata": {},
   "outputs": [
    {
     "name": "stdout",
     "output_type": "stream",
     "text": [
      "100\n",
      "240\n",
      "[2]\n",
      "100\n",
      "[2, 1]\n"
     ]
    },
    {
     "data": {
      "text/plain": [
       "[2, 1]"
      ]
     },
     "execution_count": 6,
     "metadata": {},
     "output_type": "execute_result"
    }
   ],
   "source": [
    "solution([93, 30, 55], [1, 30, 5])"
   ]
  },
  {
   "cell_type": "markdown",
   "id": "0f541e8f-7b09-44e4-80fd-fdf77aae16e2",
   "metadata": {},
   "source": [
    "## 3. 올바른 괄호"
   ]
  },
  {
   "cell_type": "code",
   "execution_count": 8,
   "id": "a69d9ec1-59a1-42fa-aee7-43bb2fabcb52",
   "metadata": {},
   "outputs": [],
   "source": [
    "def solution(s):\n",
    "    stack = []\n",
    "    for char in s:\n",
    "        if char == '(':\n",
    "            stack.append(char)\n",
    "        else:\n",
    "            if not stack:\n",
    "                return False # 스택이 비어있는 경우, 괄호가 올바르지 않음 >> 스택이 비어있는데 ')' 닫힌 괄호이면 그냥 False인 거임!!\n",
    "            stack.pop() # 스택에서 짝이 맞는 괄호 제거\n",
    "    # 위에 과정 다 끝나고 남아있으면 false 아니면 true!\n",
    "    if stack:\n",
    "        return False # 스택에 ''''남아있는'''' 괄호가 있는 경우, 괄호가 올바르지 않음\n",
    "    \n",
    "    return True # 모든 괄호가 짝이 맞는 경우, 괄호가 올바름"
   ]
  },
  {
   "cell_type": "code",
   "execution_count": 9,
   "id": "f83c3b81-be28-4604-93da-a5db6183ddff",
   "metadata": {},
   "outputs": [
    {
     "data": {
      "text/plain": [
       "True"
      ]
     },
     "execution_count": 9,
     "metadata": {},
     "output_type": "execute_result"
    }
   ],
   "source": [
    "solution(\"(())()\")"
   ]
  },
  {
   "cell_type": "code",
   "execution_count": 10,
   "id": "801b7341-debb-4dd9-9cfb-5cd0aa6e55fb",
   "metadata": {},
   "outputs": [
    {
     "data": {
      "text/plain": [
       "False"
      ]
     },
     "execution_count": 10,
     "metadata": {},
     "output_type": "execute_result"
    }
   ],
   "source": [
    "solution(\")()(\")"
   ]
  },
  {
   "cell_type": "markdown",
   "id": "4a662021-2a6d-42b4-9aad-f2d60ab211dd",
   "metadata": {},
   "source": [
    "위 코드는 주어진 `문자열 s가 올바른 괄호인지` 판별하는 함수입니다. `스택을 이용`하여 `괄호의 짝`을 맞추는 방식으로 문제를 해결합니다. 문자열을 순회하면서 괄호가 `열린 경우 스택에 추가`하고, `괄호가 닫힌 경우` `스택에서 짝이 맞는 괄호를 제거`(그래서 스택이 끝에서 다 비워지면 되는거임!)합니다. 모든 문자열을 순회한 후에도 `스택에 괄호가 남아`있는 경우, `괄호가 올바르지 않다`고 판단합니다. 모든 괄호를 순회하고 스택에 괄호가 남아있지 않은 경우, 괄호가 올바르다고 판단합니다. 함수는 True 또는 False 값을 반환합니다."
   ]
  },
  {
   "cell_type": "markdown",
   "id": "dcfdb912-b3c0-4ccf-acd8-a01b1a171126",
   "metadata": {},
   "source": [
    "## 4. 프린터"
   ]
  },
  {
   "cell_type": "markdown",
   "id": "5b21db03-0e8a-4417-a338-0713bcafcda0",
   "metadata": {},
   "source": [
    "- 인쇄 요청이 `들어온 순서대로` 인쇄 >> 근데 `중요도 높은` 인쇄부터 출력되게 하고픔\n",
    "- `내가 인쇄를 요청한 문서가 몇 번째로 인쇄`되는지 return 하도록 solution 함수를 작성\n",
    "- 나머지 인쇄 대기목록에서 J보다 중요도가 높은 문서가 한 개라도 존재하면 J를 대기목록의 `가장 마지막에 넣습니다.` (큐에서 꺼내서 확인 후, 해당되면 맨뒤로 append)"
   ]
  },
  {
   "cell_type": "code",
   "execution_count": 19,
   "id": "318cc6a4-ba9a-47ca-9d6c-c615bfef06c8",
   "metadata": {},
   "outputs": [],
   "source": [
    "from collections import deque\n",
    "\n",
    "def solution(priorities, location):\n",
    "    answer = 0\n",
    "    # enumerate를 이용하여 (인덱스, 중요도) 형태의 튜플 리스트 생성\n",
    "    docs = list(enumerate(priorities))\n",
    "    # print(docs)\n",
    "    # 출력 순서를 저장하는 큐 >> 이렇게 큐. deque해야 맨 앞에부터(popleft)꺼낼 수 있음!!!!!!! ex. deque(1,2,3,4,5) >> 1부터 꺼낼 수 있음\n",
    "    queue = deque(docs)\n",
    "    # print(queue)\n",
    "\n",
    "    while queue:\n",
    "        doc = queue.popleft() # 큐에서 첫 번째 문서를 꺼냄\n",
    "        print(doc)\n",
    "        # print(doc[1]) # (인덱스, 중요도) 니까 중요도가 꺼내짐.. 중요도 비교!!\n",
    "        if any(doc[1] < q[1] for q in queue): # doc[1], q[1] 똑같은 친구.... # 중요도9인거 꺼냈는데 큰거 없음. 이거 걍 큐에서 꺼내짐. 사라짐.. answer +1\n",
    "            # 남은 문서들 중 중요도가 더 큰 문서가 있다면 뒤로 보냄\n",
    "            queue.append(doc)\n",
    "            print(queue) # popleft면 큐에서 꺼내짐. 즉 첫번째에서 사라짐. 이렇게 append해주면 마지막으로 다시 들어감!!!!!!\n",
    "        else:\n",
    "            # 현재 문서가 가장 중요한 문서인 경우\n",
    "            answer += 1\n",
    "            if doc[0] == location:\n",
    "                # 찾고자 하는 문서의 위치인 경우 반복문을 종료하고 출력 순서 반환 >> 찾았다 요놈!\n",
    "                break\n",
    "\n",
    "    return answer"
   ]
  },
  {
   "cell_type": "code",
   "execution_count": 20,
   "id": "2e238a87-30d6-462a-8ae7-5d8dd7bca293",
   "metadata": {},
   "outputs": [
    {
     "name": "stdout",
     "output_type": "stream",
     "text": [
      "(0, 1)\n",
      "deque([(1, 1), (2, 9), (3, 1), (4, 1), (5, 1), (0, 1)])\n",
      "(1, 1)\n",
      "deque([(2, 9), (3, 1), (4, 1), (5, 1), (0, 1), (1, 1)])\n",
      "(2, 9)\n",
      "(3, 1)\n",
      "(4, 1)\n",
      "(5, 1)\n",
      "(0, 1)\n"
     ]
    },
    {
     "data": {
      "text/plain": [
       "5"
      ]
     },
     "execution_count": 20,
     "metadata": {},
     "output_type": "execute_result"
    }
   ],
   "source": [
    "solution([1, 1, 9, 1, 1, 1], 0)"
   ]
  },
  {
   "cell_type": "markdown",
   "id": "524b1820-3bf3-49ce-8e27-a3ae78121d83",
   "metadata": {},
   "source": [
    "위 코드는 주어진 문서의 중요도와 내가 찾고자 하는 문서의 위치를 이용하여 프린터의 출력 순서를 구하는 함수입니다. `큐를 이용하여 문서들을 처리`하면서, 남은 문서들 중에 현재 문서보다 중요도가 더 큰 문서가 있는 경우에는 `현재 문서를 큐의 맨 뒤`로 보내고, 그렇지 않은 경우에는 `현재 문서를 출력`합니다. 출력이 끝난 문서의 `개수를 세어 출력 순서`를 구하고, 내가 찾고자 하는 문서의 위치와 비교하여 찾고자 하는 문서의 출력 순서를 반환합니다."
   ]
  },
  {
   "cell_type": "markdown",
   "id": "d5c83229-80f4-44b9-9b1c-6786d619a143",
   "metadata": {},
   "source": [
    "**<any함수>**\n",
    "- `any() 함수`는 인자로 받은 iterable(반복 가능한) 객체에서 어떤 요소라도 True로 평가되는 요소가 있는지 여부를 판단하는 내장 함수입니다. 만약 iterable 객체에 `하나 이상의 요소가 True`로 평가되는 경우에는` True를 반환`하고, `모든 요소가 False`로 평가되는 경우에는 `False를 반환`합니다."
   ]
  },
  {
   "cell_type": "code",
   "execution_count": 21,
   "id": "4b0a7e47-f52a-49da-ade4-96b30b7af22a",
   "metadata": {},
   "outputs": [
    {
     "name": "stdout",
     "output_type": "stream",
     "text": [
      "True\n",
      "False\n"
     ]
    }
   ],
   "source": [
    "# 리스트에서 홀수가 하나라도 있는지 확인 \n",
    "numbers1 = [1, 2, 3, 4, 5]\n",
    "result1 = any(x % 2 == 1 for x in numbers1) # any는 이렇게 한줄에 쓰고 any로 감쌈.. >> 하나라도 홀수 있으면 True\n",
    "print(result1)  # True\n",
    "\n",
    "# 리스트에서 음수가 하나라도 있는지 확인\n",
    "numbers2 = [1, 2, 3, 4, 5]\n",
    "result2 = any(x < 0 for x in numbers2)\n",
    "print(result2)  # False"
   ]
  },
  {
   "cell_type": "markdown",
   "id": "ad0c991c-29d9-46e4-9198-c1448d5c54cb",
   "metadata": {},
   "source": [
    "## 5. 다리를 지나는 트럭"
   ]
  },
  {
   "cell_type": "markdown",
   "id": "dd79c736-390c-45dd-8390-93a903021794",
   "metadata": {},
   "source": [
    "- 일차선 다리 / 모든 트럭이 다리를 건너려면 최소 몇 초가 걸리는지"
   ]
  },
  {
   "cell_type": "markdown",
   "id": "e9c3bb78-ce9c-481e-896e-f45f92d13f13",
   "metadata": {},
   "source": [
    "- 이 문제에서는 큐를 사용했다. 파이썬에서 큐를 사용하기 위해서는 collections 라이브러리의 deque를 사용한다.\n",
    "- `와.. 이분이 날 이해시킴...`\n",
    "- 매개변수로 받은 bridge_length는 다리의 길이이다.\n",
    "- 이 다리를 bridge_length 길이만큼의 큐로 만든다.(주어진건 트럭 무게이지 트럭 길이가 아님!!!!)\n",
    "- 길이를 채우기 위해 다리 길이만큼 0으로 채운다.\n",
    "-이후 다리에 이동 중인 트럭이 있거나 대기 중인 트럭이 있는 동안 다음 과정을 반복한다.\n",
    "    1. 다리에서 하나를 제거한다.\n",
    "    2. 새 트럭이 다리에 올라갈 수 있으면 대기 트럭 하나를 다리에 올린다.\n",
    "    3. 새 트럭이 올라갈 수 없거나 대기 트럭이 없다면 다리에 0을 추가해서 다리 길이를 유지한다.\n",
    "    4. 각 과정마다 time을 1씩 추가한다.\n",
    "- 즉, 최대2대올라갈수있고, 제한 무게 10이고, 지나갈 트럭 무게 각각 7,4,5,6이면\n",
    "- [0,0](0초) > [0,7] > (4들어오면 11kg..초과되서 걍 0으로 채워서 다리길이 맞춰줌) [7,0] > [0,4] > [4,5] > [5,0] > [0,6] > [6,0] > [0,0] >>>8초!!"
   ]
  },
  {
   "cell_type": "code",
   "execution_count": null,
   "id": "1380c0af-cb7d-4c09-a6d6-34af822a6cb6",
   "metadata": {},
   "outputs": [],
   "source": [
    "from collections import deque\n",
    "\n",
    "def solution(bridge_length, weight, truck_weights):\n",
    "    bridge = deque([0] * bridge_length)  # 다리를 나타내는 큐\n",
    "    total_weight = 0  # 현재 다리에 있는 트럭들의 총 무게\n",
    "    time = 0  # 걸린 시간\n",
    "\n",
    "    while truck_weights: # 마지막 요소 들어가서 truck_weights에 원소 없으면 while문 끝남!! 그래서 마지막에 마지막 요소 나올 시간 더해주려고 time+=bridge_length해줌!\n",
    "        time += 1\n",
    "\n",
    "        # 다리에서 트럭이 나가면 total_weight에서 해당 트럭의 무게를 빼줌\n",
    "        if bridge[0] > 0:\n",
    "            total_weight -= bridge[0] # 이게잘...그럼 처음부터 마이너스되는거 아냐? 근데 아님.. 처음엔.. 들어오는거니까 나가는게 아니라.. 첫번째요소까지 와야 비로소 나갈 수 있음\n",
    "\n",
    "        bridge.popleft()  # 다리에서 트럭이 나감\n",
    "\n",
    "        # 현재 다리에 있는 트럭들의 총 무게와 다음에 들어올 트럭의 무게를 비교하여\n",
    "        # 다리에 트럭이 더 올라갈 수 있는지 확인\n",
    "        if total_weight + truck_weights[0] <= weight:\n",
    "            total_weight += truck_weights[0]\n",
    "            bridge.append(truck_weights.pop(0)) # pop한걸 append!\n",
    "        else:\n",
    "            bridge.append(0)\n",
    "\n",
    "    # 마지막 트럭이 다리를 모두 지날 때까지의 시간을 더해줌\n",
    "    time += bridge_length\n",
    "\n",
    "    return time\n"
   ]
  },
  {
   "cell_type": "markdown",
   "id": "10c859f6-2805-47a3-8dfa-669b8d02d935",
   "metadata": {},
   "source": [
    "## 6. 주식가격"
   ]
  },
  {
   "cell_type": "markdown",
   "id": "7dca9e18-65f5-4ebf-818c-8a9ef1f257fb",
   "metadata": {},
   "source": [
    "- 초 단위로 기록된 주식가격 >> 배열prices가 매개변수로 주어짐\n",
    "- 가격이 떨어지지 않은 기간은 몇 초인지를 return"
   ]
  },
  {
   "cell_type": "markdown",
   "id": "860f7087-4612-42ac-9de6-278adfe07e45",
   "metadata": {},
   "source": [
    "- 주식 가격 문제는 주어진 가격 리스트에서 각 `주식의 가격이 떨어지지 않은 기간(초 단위`)을 계산하는 문제"
   ]
  },
  {
   "cell_type": "code",
   "execution_count": 22,
   "id": "d6ffcc84-e225-45ae-9b47-c5053d6adc5d",
   "metadata": {},
   "outputs": [],
   "source": [
    "def solution(prices):\n",
    "    n = len(prices)  # 주식 가격 리스트의 길이\n",
    "    answer = [0] * n  # '''결과'''를 저장할 리스트\n",
    "\n",
    "    # 주식 가격 리스트를 순회하며 가격이 떨어지지 않은 기간을 계산\n",
    "    for i in range(n):\n",
    "        for j in range(i + 1, n): # 그 다음초의 가격부터 비교하면 되니까 i+1부터임!!!!\n",
    "            if prices[i] > prices[j]:\n",
    "                # 가격이 떨어진 경우 해당 기간을 결과 리스트에 저장하고 반복문 종료\n",
    "                answer[i] = j - i\n",
    "                break\n",
    "        else:\n",
    "            # 가격이 떨어지지 않은 경우 주식 가격 리스트의 끝까지의 기간을 저장\n",
    "            answer[i] = n - i - 1\n",
    "\n",
    "    return answer"
   ]
  },
  {
   "cell_type": "code",
   "execution_count": 23,
   "id": "26355448-44b8-4fe3-b7ef-b716464bb474",
   "metadata": {},
   "outputs": [
    {
     "data": {
      "text/plain": [
       "[4, 3, 1, 1, 0]"
      ]
     },
     "execution_count": 23,
     "metadata": {},
     "output_type": "execute_result"
    }
   ],
   "source": [
    "solution([1, 2, 3, 2, 3])"
   ]
  },
  {
   "cell_type": "markdown",
   "id": "42287187-19a8-4a22-ab14-f67cc8e7ebe6",
   "metadata": {},
   "source": [
    "위 코드는 주어진 주식 가격 리스트(prices)를 입력으로 받아, 각 주식의 가격이 떨어지지 않은 기간을 계산하여 리스트에 저장하는 함수입니다. `이중 반복문`을 사용하여 `현재 주식 가격과 이후의 주식 가격을 비교`하며 `가격이 떨어진 경우 해당 기간을 저장`하고, `가격이 떨어지지 않은 경우 주식 가격 리스트의 끝까지의 기간`을 저장합니다. 최종적으로 저장된 결과 리스트를 반환합니다."
   ]
  },
  {
   "cell_type": "markdown",
   "id": "a37d64d9-702d-482c-bd1a-4538653025b4",
   "metadata": {},
   "source": [
    "# 힙(Heap)"
   ]
  },
  {
   "cell_type": "markdown",
   "id": "410c40c8-648d-401a-9bfe-30060e1cb070",
   "metadata": {},
   "source": [
    "### stack.pop() vs queue.pop(0) vs heapq.pop(heap)\n",
    "- 맨마지막 / 맨처음 / 젤 작은값(일반적으로)"
   ]
  },
  {
   "cell_type": "markdown",
   "id": "bfe4b108-8743-40aa-b656-c911af5b4368",
   "metadata": {},
   "source": [
    "## 1. 더 맵게"
   ]
  },
  {
   "cell_type": "markdown",
   "id": "a2a7f536-1777-4aa6-8830-0be0644ca6c5",
   "metadata": {},
   "source": [
    "- 그냥 정렬을 쓰지 않고 힙을 쓰느 이유!!\n",
    "- 힙 사용하면 새로운 스코빌 지수 계산하고, 새로운 음식 추가 등의 연산이 자유로움\n",
    "- 힙은 `최소값, 최대값` 빠르게 찾아내는데 `최적화된 자료형` >> 시간 효율!!!\n",
    "- 가장 낮은 음식을 빠르게 찾음!!!"
   ]
  },
  {
   "cell_type": "markdown",
   "id": "f8037873-11ff-476e-98a7-90e0aefe5c15",
   "metadata": {},
   "source": [
    "- 섞은 음식의 스코빌 지수 = 가장 맵지 않은 음식의 스코빌 지수 + (두 번째로 맵지 않은 음식의 스코빌 지수 * 2)\n",
    "- 모든 음식의 스코빌 지수를 K 이상으로 만들기 위해 섞어야 하는 최소 횟수"
   ]
  },
  {
   "cell_type": "markdown",
   "id": "178221fc-de15-4d8f-abc3-dd7e30b031d0",
   "metadata": {},
   "source": [
    "- '더 맵게' 문제는 주어진 음식 리스트를 스코빌 지수를 이용하여 섞는 문제입니다. 주어진 음식 리스트에서 가장 낮은 스코빌 지수의 음식 두 개를 섞어서 새로운 음식을 만들고, 이 과정을 반복하여 주어진 스코빌 지수(K) 이상의 값이 나올 때까지 섞는 최소 횟수를 구하는 문제"
   ]
  },
  {
   "cell_type": "code",
   "execution_count": 6,
   "id": "1b715ea4-1ec6-445d-9299-0484da501bbc",
   "metadata": {},
   "outputs": [],
   "source": [
    "import heapq # 우선순위 큐!!!!!!!!!!!!!힙!!!!!!!!!!!!!\n",
    "\n",
    "def solution(scoville, K):\n",
    "    heap = []\n",
    "    for s in scoville:\n",
    "        heapq.heappush(heap, s)  # 음식 리스트를 heap으로 변환 / 이렇게 우선순위큐로 변환!!\n",
    "\n",
    "    answer = 0  # 섞는 횟수를 저장할 변수\n",
    "\n",
    "    while heap[0] < K:  # 가장 낮은 스코빌 지수가 K보다 작은 경우 반복 >>> 오름차순 정렬이 되어 있음.\n",
    "        if len(heap) < 2:\n",
    "            # 음식이 2개 미만으로 남아있는 경우 K 이상의 값을 만들 수 없으므로 -1 반환 >>>> 이런조건 중요!!!\n",
    "            return -1\n",
    "\n",
    "        # 가장 낮은 스코빌 지수의 음식 두 개를 꺼내서 섞고 새로운 음식을 만들어 heap에 추가 >> 시간 효율을 위해 heapq사용!!!\n",
    "        first = heapq.heappop(heap) # 최소값을 꺼냄!!(최소힙)))\n",
    "        second = heapq.heappop(heap) # 위에꺼 꺼내졌으니까 또 최소값이 꺼내짐!!!\n",
    "        new_scoville = first + (second * 2)\n",
    "        heapq.heappush(heap, new_scoville) # heap에 new_scoville을 넣는다!!는 의미!\n",
    "\n",
    "        answer += 1  # 섞는 횟수 증가\n",
    "\n",
    "    return answer"
   ]
  },
  {
   "cell_type": "code",
   "execution_count": 7,
   "id": "138630f9-a948-4cb2-a83b-b2ac49c695a4",
   "metadata": {},
   "outputs": [
    {
     "data": {
      "text/plain": [
       "2"
      ]
     },
     "execution_count": 7,
     "metadata": {},
     "output_type": "execute_result"
    }
   ],
   "source": [
    "solution([1, 2, 3, 9, 10, 12], 7)"
   ]
  },
  {
   "cell_type": "markdown",
   "id": "312e6d8a-10c5-46eb-83b6-1b984ea0ebbc",
   "metadata": {},
   "source": [
    "- 위 코드는 주어진 음식 리스트(scoville)를 입력으로 받아, 스코빌 지수를 이용하여 음식을 섞는 최소 횟수를 반환하는 함수입니다. `heapq 모듈`을 사용하여 `음식 리스트를 heap으로 변환`하고, `가장 낮은` 스코빌 지수의 `음식 두 개`를 꺼내서 섞어 새로운 음식을 만들고, 이 과정을 반복하여 가장 낮은 스코빌 지수가 K 이상이 될 때까지 섞습니다. 섞는 횟수를 저장한 변수를 반환합니다."
   ]
  },
  {
   "cell_type": "markdown",
   "id": "b8647300-eb69-4177-8e2e-b6d6c1e93dd5",
   "metadata": {},
   "source": [
    "<힙 자료형 사용 이유>\n",
    "\n",
    "'더 맵게' 문제에서 힙(heap) 자료형을 사용한 이유는 `최소값을 효율적으로 찾아`내기 위해서입니다.\n",
    "\n",
    "`힙`은 이진 트리 형태의 자료구조로, `부모 노드의 값이` 자식 노드의 값보다 `작은 최소 힙`(Min Heap)과 부모 노드의 값이 자식 노드의 값보다 큰 최대 힙(Max Heap) 두 가지 종류가 있습니다. 힙은 특정한 규칙에 따라 노드들이 정렬되어 있기 때문에, `가장 작은 값 또는 가장 큰 값을 빠르게 찾아`낼 수 있습니다.\n",
    "\n",
    "'더 맵게' 문제에서는 가장 낮은 스코빌 지수의 음식 두 개를 꺼내어 섞고, 새로운 음식을 만들어야 하는데, 이때 가장 낮은 스코빌 지수를 효율적으로 찾아내기 위해서 힙(heap) 자료형을 사용하였습니다. heapq 모듈은 파이썬에서 힙을 구현한 모듈로, 최소 힙(Min Heap)을 지원하여 `가장 작은 값을 빠르게 찾아`낼 수 있습니다. 이를 통해 최소 스코빌 지수의 음식 두 개를 빠르게 찾아내어 섞는 과정을 수행할 수 있습니다. 또한, 힙은 원소를 삽입하거나 삭제하는 연산의 시간 복잡도가 O(log N)이기 때문에, 효율적으로 문제를 해결할 수 있습니다."
   ]
  },
  {
   "cell_type": "markdown",
   "id": "4921d9bb-3d88-4050-958d-4c9dc287c40c",
   "metadata": {},
   "source": [
    "## 2. 디스크 컨트롤러 - 이해x"
   ]
  },
  {
   "cell_type": "code",
   "execution_count": 30,
   "id": "044597a3-5013-4a76-bd49-cffa47fc3609",
   "metadata": {},
   "outputs": [],
   "source": [
    "import heapq\n",
    "\n",
    "def solution(jobs):\n",
    "    answer, now, i = 0, 0, 0\n",
    "    start = -1 \n",
    "    heap = []\n",
    "    \n",
    "    while i < len(jobs):\n",
    "        # 현재 시점에서 처리할 수 있는 작업을 heap에 저장\n",
    "        for j in jobs:\n",
    "            if start < j[0] <= now:\n",
    "                heapq.heappush(heap, [j[1], j[0]])\n",
    "        \n",
    "        if len(heap) > 0: # 처리할 작업이 있는 경우\n",
    "            cur = heapq.heappop(heap)\n",
    "            start = now\n",
    "            now += cur[0]\n",
    "            answer += now - cur[1] # 작업 요청시간부터 종료시간까지의 시간 계산\n",
    "            i +=1\n",
    "        else: # 처리할 작업이 없는 경우 다음 시간을 넘어감\n",
    "            now += 1\n",
    "                \n",
    "    return answer // len(jobs) # 전체 작업의 평균 대기 시간 반환"
   ]
  },
  {
   "cell_type": "code",
   "execution_count": 31,
   "id": "b44e3589-df03-450d-a6ce-02cf525979bc",
   "metadata": {},
   "outputs": [
    {
     "data": {
      "text/plain": [
       "9"
      ]
     },
     "execution_count": 31,
     "metadata": {},
     "output_type": "execute_result"
    }
   ],
   "source": [
    "solution([[0, 3], [1, 9], [2, 6]]) # jobs"
   ]
  },
  {
   "cell_type": "markdown",
   "id": "b0922e79-ee94-4437-8824-a27e4e02acd1",
   "metadata": {},
   "source": [
    "import heapq: heapq 모듈을 임포트하여 `우선순위 큐(heap)`를 사용할 수 있도록 합니다.\n",
    "\n",
    "solution(jobs): \"디스크 컨트롤러\" 문제를 해결하는 함수입니다. jobs는 작업들의 리스트로, 각 작업은 [작업이 요청된 시점, 작업의 소요 시간]으로 구성된 2차원 리스트입니다.\n",
    "\n",
    "answer, now, i = 0, 0, 0: 각각 전체 작업의 `평균 대기 시간`, `현재 시간`, `처리한 작업의 개수`를 나타내는 변수들을 초기화합니다.\n",
    "\n",
    "start = -1: `이전 작업이 끝난 시점`을 나타내는 변수로, 초기값으로 -1을 설정합니다.\n",
    "\n",
    "heap = []: `작업들을 저장할` 우선순위 큐(heap)를 생성합니다.\n",
    "\n",
    "while i < len(jobs):: 아직 처리하지 않은 작업이 남아있는 동안 반복합니다.\n",
    "\n",
    "for j in jobs: if start < j[0] <= now: heapq.heappush(heap, [j[1], j[0]]): 현재 시점에서 처리할 수 있는 작업들을 우선순위 큐(heap)에 저장합니다. 작업의 `요청 시점`이 `이전 작업이 끝난 시점(start)보다 크고`, `현재 시점(now)보다 작거나 같은` 작업들을 우선순위 큐에 저장합니다. 이때, `작업의 소요 시간을 우선순위`로 하고, 작업이 요청된 시점을 키로 하는 리스트로 저장됩니다.\n",
    "\n",
    "if len(heap) > 0: ...: 처리할 작업이 있는 경우, 우선순위 큐(heap)에서 `가장 소요 시간이 짧은 작업을 꺼내어` 처리합니다.\n",
    "\n",
    "cur = heapq.heappop(heap): 우선순위 큐에서 가장 소요 시간이 짧은 작업을 꺼냅니다. cur은 [작업의 소요 시간, 작업이 요청된 시점] 형태의 리스트로 저장됩니다.\n",
    "\n",
    "start = now: 현재 시간(now)을 이전 작업이 끝난 시점으로 업데이트합니다.\n",
    "\n",
    "now += cur[0]: 현재 시간(now)에 현재 처리한 작업의 소요 시간을 더합니다.\n",
    "\n",
    "answer += now - cur[1]: 작업의 요청 시점부터 종료 시점까지의 시간을 전체 작업의 평균 대기 시간(answer)에 더합니다. 이는 현재 작업이 끝난 시점(now)에서 작업이 요청된 시점(cur[1])을 빼서 해당 작업의 대기 시간을 계산한 뒤, 전체 작업의 평균 대기 시간에 더하는 것입니다.\n",
    "\n",
    "i +=1: 처리한 작업의 개수를 1 증가시킵니다.\n",
    "\n",
    "else: ...: 처리할 작업이 없는 경우, 다음 시간(now)을 넘어갑니다.\n",
    "\n",
    "now += 1: 다음 시간(now)을 1 증가시킵니다.\n",
    "\n",
    "return answer // len(jobs): 전체 작업의 평균 대기 시간을 계산하여 반환합니다. 전체 작업의 평균 대기 시간을 계산하기 위해, answer를 작업의 개수(len(jobs))로 나눈 몫을 반환합니다.\n",
    "\n",
    "이 코드는 작업들의 요청 시점과 소요 시간을 우선순위 큐(heap)를 사용하여 관리하고, 현재 시간과 작업의 요청 시점을 비교하여 처리할 작업을 선택하는 방식으로 \"디스크 컨트롤러\" 문제를 해결하는 것으로 보입니다. 작업들의 대기 시간을 계산하여 평균 대기 시간을 반환하는 로직이 구현되어 있습니다."
   ]
  },
  {
   "cell_type": "markdown",
   "id": "f22967c8-3ab5-4406-b427-3b3f7a667100",
   "metadata": {},
   "source": [
    "## 3. 이중우선순위큐"
   ]
  },
  {
   "cell_type": "markdown",
   "id": "e8931faf-cc81-4aa9-bb6c-73a0e6ba8ddd",
   "metadata": {},
   "source": [
    "- I : 넣고\n",
    "- D 1: 최대 빼고\n",
    "- D -1: 최소 뺴고"
   ]
  },
  {
   "cell_type": "code",
   "execution_count": 32,
   "id": "372ad672-1709-4438-a33d-0bddaca041aa",
   "metadata": {},
   "outputs": [],
   "source": [
    "import heapq\n",
    "\n",
    "def solution(operations):\n",
    "    h = []\n",
    "\n",
    "    for i in operations:\n",
    "        a, b = i.split() # 이렇게 split에 아무것도 안넣으면 공백 기준으로 a,b나뉨\n",
    "        if a == 'I':\n",
    "            heapq.heappush(h, int(b))\n",
    "        else:\n",
    "            if len(h) > 0:\n",
    "                if b == '1':\n",
    "                    h.pop(h.index(heapq.nlargest(1, h)[0])) # 가장 큰 원소의 원래 리스트 h의 인덱스를 꺼냄..\n",
    "                else:\n",
    "                    heapq.heappop(h) # 가장작은수, 최소값이 꺼내짐(default가 최소힙기준이니까..)\n",
    "\n",
    "    if len(h) == 0:\n",
    "        return [0, 0]\n",
    "    else:\n",
    "        return [heapq.nlargest(1, h)[0], h[0]]"
   ]
  },
  {
   "cell_type": "code",
   "execution_count": 33,
   "id": "83b2d83d-e808-4512-8984-24ae04b28cf4",
   "metadata": {},
   "outputs": [
    {
     "data": {
      "text/plain": [
       "[0, 0]"
      ]
     },
     "execution_count": 33,
     "metadata": {},
     "output_type": "execute_result"
    }
   ],
   "source": [
    "solution([\"I 16\", \"I -5643\", \"D -1\", \"D 1\", \"D 1\", \"I 123\", \"D -1\"])"
   ]
  },
  {
   "cell_type": "markdown",
   "id": "0e9413d6-3b05-4e5f-aad9-c46b1e8d922b",
   "metadata": {},
   "source": [
    "**<split함수>**\n",
    "\n",
    "`split() 함수`는 `문자열에만` 사용할 수 있는 메서드입니다. 문자열에서 지정한 구분자를 기준으로 문자열을 분리하여 리스트로 반환하는 함수입니다. 예를 들어, \"apple,banana,cherry\".split(\",\")와 같이 문자열을 쉼표(,)로 분리하면 [\"apple\", \"banana\", \"cherry\"]와 같은 리스트가 반환됩니다.\n",
    "\n",
    "`리스트나 튜플`에서는 split() 함수를 사용할 수 없고, 대신 `리스트의 경우에는 슬라이싱`, `튜플의 경우에는 인덱싱` 등을 사용하여 원하는 `데이터를 추출`해야 합니다."
   ]
  },
  {
   "cell_type": "markdown",
   "id": "f3f6d097-dcbb-4a10-8be3-dbb9c0d63646",
   "metadata": {},
   "source": [
    "**<nlargest()함수>**\n",
    "\n",
    "`nlargest() 함수`는 `원본 iterable의 값을 변경하지 않고, 새로운 리스트로 반환`합니다. 반환되는 리스트는 `N개의 가장 큰 값`들로 구성되어 있습니다. 예를 들어, heapq.nlargest(3, [1, 5, 2, 8, 3, 9, 4, 7, 6])의 결과는 [9, 8, 7]이 됩니다."
   ]
  },
  {
   "cell_type": "markdown",
   "id": "9ef3ef76-59e7-4ee6-9040-b1cf0a40f570",
   "metadata": {},
   "source": [
    "**<pop(인덱스)>**\n",
    "- my_list = [1, 2, 3, 4, 5] 라면\n",
    "- my_list.pop(1)은 my_list의 `인덱스 1에 위치한 원소인 2를 제거`하고 반환합니다. 이후 my_list는 [1, 3, 4, 5]가 됩니다."
   ]
  },
  {
   "cell_type": "markdown",
   "id": "f88bc4f4-f613-48ae-a1ab-676e91147152",
   "metadata": {},
   "source": [
    "**<heapq.heappop(h) 함수>**\n",
    "\n",
    "`heapq.heappop(h) 함수`는 heapq 모듈로 구현된 힙(Heap)에서 `가장 작은 원소를 꺼내는 함수`입니다. 따라서 heapq.heappop(h)를 호출하면 힙 h에서 가장 작은 원소가 꺼내져서 반환됩니다."
   ]
  }
 ],
 "metadata": {
  "kernelspec": {
   "display_name": "Python 3 (ipykernel)",
   "language": "python",
   "name": "python3"
  },
  "language_info": {
   "codemirror_mode": {
    "name": "ipython",
    "version": 3
   },
   "file_extension": ".py",
   "mimetype": "text/x-python",
   "name": "python",
   "nbconvert_exporter": "python",
   "pygments_lexer": "ipython3",
   "version": "3.9.13"
  }
 },
 "nbformat": 4,
 "nbformat_minor": 5
}
