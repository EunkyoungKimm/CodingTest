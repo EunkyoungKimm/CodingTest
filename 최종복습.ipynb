{
 "cells": [
  {
   "cell_type": "markdown",
   "id": "71d78452-9da7-4682-be68-87a9e1c03530",
   "metadata": {},
   "source": [
    "- 주어지는 input 값의 형태와 내가 만든 자료의 모양을 잘 파악해서 잘 푸는게 중요!!!!\n",
    "- 문제가 길어질 경우 내가 만든 그 형태.. 헷갈 >> print적극 활용하기!!!!!! 최종 제출만 안하면됨!!!!!!"
   ]
  },
  {
   "cell_type": "markdown",
   "id": "c5acba13-7a76-4e93-805d-91db3b21748c",
   "metadata": {},
   "source": [
    "# 그리디"
   ]
  },
  {
   "cell_type": "markdown",
   "id": "738c5545-ba3b-4248-bd4c-e0a28317bae1",
   "metadata": {},
   "source": [
    "## 1. 거스름 돈 - 맞음"
   ]
  },
  {
   "cell_type": "code",
   "execution_count": null,
   "id": "2d50f3ce-1586-4395-9f19-c20927bca5d0",
   "metadata": {},
   "outputs": [],
   "source": [
    "# input = 1260 (정답 6)\n",
    "# 계산할 돈\n",
    "# coin_type = 500, 100, 50, 10"
   ]
  },
  {
   "cell_type": "code",
   "execution_count": 1,
   "id": "9839f2de-0b1a-4e3a-bd07-208fa23c4191",
   "metadata": {},
   "outputs": [
    {
     "name": "stdin",
     "output_type": "stream",
     "text": [
      " 1260\n"
     ]
    },
    {
     "name": "stdout",
     "output_type": "stream",
     "text": [
      "6\n"
     ]
    }
   ],
   "source": [
    "n = int(input())\n",
    "coin_types = [500, 100, 50, 10]\n",
    "\n",
    "count = 0\n",
    "\n",
    "for coin in coin_types:\n",
    "    count += n // coin # 최대 개수\n",
    "    n %= coin # 남은 돈\n",
    "print(count)"
   ]
  },
  {
   "cell_type": "markdown",
   "id": "5ad4dd61-d9a9-4e86-89b3-9704bb8fa320",
   "metadata": {},
   "source": [
    "## 2. 1이 될때까지 - 살짝 틀림"
   ]
  },
  {
   "cell_type": "code",
   "execution_count": 1,
   "id": "3b5ef091-3fe3-47d9-8214-21e70536cacb",
   "metadata": {},
   "outputs": [
    {
     "data": {
      "text/plain": [
       "3"
      ]
     },
     "execution_count": 1,
     "metadata": {},
     "output_type": "execute_result"
    }
   ],
   "source": [
    "3 % 5"
   ]
  },
  {
   "cell_type": "code",
   "execution_count": 4,
   "id": "29c7a8de-4f5c-493c-b3ad-e011fe5c5c18",
   "metadata": {},
   "outputs": [
    {
     "data": {
      "text/plain": [
       "0"
      ]
     },
     "execution_count": 4,
     "metadata": {},
     "output_type": "execute_result"
    }
   ],
   "source": [
    "(51 // 56) * 56"
   ]
  },
  {
   "cell_type": "code",
   "execution_count": null,
   "id": "dbb2bfca-3f27-4f7d-90ef-e61b7133d8ad",
   "metadata": {},
   "outputs": [],
   "source": [
    "# input = 5 7 / 59 7(정답 6) / 15 4\n",
    "# n(숫자) k(나누기수)\n",
    "# k로 나누거나 -1하던가"
   ]
  },
  {
   "cell_type": "code",
   "execution_count": 11,
   "id": "bca6460f-cdd7-4e9c-a944-e9df20499c73",
   "metadata": {},
   "outputs": [
    {
     "name": "stdin",
     "output_type": "stream",
     "text": [
      " 59 7\n"
     ]
    },
    {
     "name": "stdout",
     "output_type": "stream",
     "text": [
      "6\n"
     ]
    }
   ],
   "source": [
    "n, k = map(int, input().split())\n",
    "result = 0\n",
    "\n",
    "while True:\n",
    "    multiply_num = (n // k) * k\n",
    "    result += (n - multiply_num)  # 왜 % 안될까..흠.. 요기!!!!!! >> 나누기 전에 처음에 1로 빼줘야할게 있다면 ..그 작업 해주기!!\n",
    "    n = multiply_num\n",
    "    if n < k: # n<k이면 더이상 나눌 필요x\n",
    "        break\n",
    "    result += 1\n",
    "    n //= k ## //해야 정수나옴! 요기ㅣㅣㅣㅣㅣㅣ\n",
    "    \n",
    "result += (n-1) # 요기!!! 더해줘야 해! 꼭 필요한 과정임 좀만 새각해도! 경우의 수 많이 따져보면 바로 나옴!\n",
    "print(result)"
   ]
  },
  {
   "cell_type": "markdown",
   "id": "f8d9d8e9-6762-4d2e-8643-563ea49f5706",
   "metadata": {},
   "source": [
    "## 3. 곱하기 혹은 더하기 - 맞음"
   ]
  },
  {
   "cell_type": "code",
   "execution_count": null,
   "id": "ef69417b-ed58-49f0-b978-899dd74ab644",
   "metadata": {},
   "outputs": [],
   "source": [
    "# input = 20345 (답 120)\n",
    "# 문자열로 주어진 것. 왼쪽부터 순서대로 곱하거나 나누거나"
   ]
  },
  {
   "cell_type": "code",
   "execution_count": 12,
   "id": "cdb8df2e-c960-43b7-956b-566cc51cd90d",
   "metadata": {},
   "outputs": [
    {
     "name": "stdin",
     "output_type": "stream",
     "text": [
      " 20345\n"
     ]
    },
    {
     "name": "stdout",
     "output_type": "stream",
     "text": [
      "120\n"
     ]
    }
   ],
   "source": [
    "s = input()\n",
    "result = int(s[0]) # 0이되면x 첫번째 바로 넣어주기\n",
    "\n",
    "for i in range(1, len(s)):\n",
    "    num = int(s[i])\n",
    "    if num <= 1 or result <= 1:\n",
    "        result += num\n",
    "    else:\n",
    "        result *= num\n",
    "        \n",
    "print(result)"
   ]
  },
  {
   "cell_type": "markdown",
   "id": "46992123-fcf1-4499-893c-537f1f2957cf",
   "metadata": {},
   "source": [
    "## 4. 모험가 길드 - 맞음"
   ]
  },
  {
   "cell_type": "code",
   "execution_count": null,
   "id": "fd5f0438-cc66-4332-a765-b17ba81fa3d8",
   "metadata": {},
   "outputs": [],
   "source": [
    "# input = \n",
    "# 5\n",
    "# 1 2 2 2 3 (정답 2)\n",
    "# 몇명 / 각 공포도\n",
    "# 공포도 2이면 최소 2명의 인원이 한 그룹이어야 됨. 최대 그룹수 찾기"
   ]
  },
  {
   "cell_type": "code",
   "execution_count": 13,
   "id": "6c21c163-d413-46bc-8794-28684beae1db",
   "metadata": {},
   "outputs": [
    {
     "name": "stdin",
     "output_type": "stream",
     "text": [
      " 5\n",
      " 1 2 2 2 3\n"
     ]
    },
    {
     "name": "stdout",
     "output_type": "stream",
     "text": [
      "2\n"
     ]
    }
   ],
   "source": [
    "n = int(input())\n",
    "score = list(map(int, input().split()))\n",
    "score.sort()\n",
    "\n",
    "total_group_count = 0 # 총 그룹 수\n",
    "person = 0 # 한 그룹 안에 사람 수\n",
    "\n",
    "for s in score:\n",
    "    person += 1\n",
    "    if person >= s:\n",
    "        total_group_count += 1\n",
    "        person = 0\n",
    "print(total_group_count)"
   ]
  },
  {
   "cell_type": "markdown",
   "id": "2704e280-5630-4722-83f9-eb3113ff1298",
   "metadata": {},
   "source": [
    "# 해쉬\n",
    "- key, value를 빠르게 찾아봐요"
   ]
  },
  {
   "cell_type": "markdown",
   "id": "27a0081b-1577-4080-a84c-1a4bae80a2ae",
   "metadata": {},
   "source": [
    "## 1. 폰켓몬"
   ]
  },
  {
   "cell_type": "code",
   "execution_count": null,
   "id": "a7e8d1f0-14b1-4552-a030-2c2ff4fb7333",
   "metadata": {},
   "outputs": [],
   "source": [
    "# 최대한 많은 종류의 폰켓몬 같기\n",
    "# n/2 or 종류 수 >> 종류수가 더 많으면 n/2, n/2가 더 많으면 종류 수! >> 이렇게 간단하게 식 만들슁ㅆ다!!!!!!!!!!!!!!!!!"
   ]
  },
  {
   "cell_type": "code",
   "execution_count": 14,
   "id": "e150c982-8ec2-4ff9-8241-0fab33112bf1",
   "metadata": {},
   "outputs": [],
   "source": [
    "def solution(nums):\n",
    "    unique_types = len(set(nums)) # 중복제거.. 종류.. 이런거 구할때는 set이 최고!!!!!\n",
    "\n",
    "    if len(nums) / 2 > unique_types:\n",
    "        return unique_types\n",
    "    else:\n",
    "        return len(nums) / 2"
   ]
  },
  {
   "cell_type": "code",
   "execution_count": 15,
   "id": "2a5ec868-3e94-4951-91b1-660ab544b3e7",
   "metadata": {},
   "outputs": [
    {
     "data": {
      "text/plain": [
       "2"
      ]
     },
     "execution_count": 15,
     "metadata": {},
     "output_type": "execute_result"
    }
   ],
   "source": [
    "solution([3,3,3,2,2,2])"
   ]
  },
  {
   "cell_type": "code",
   "execution_count": null,
   "id": "65e3f980-8056-4dad-80fb-fb9f2a10a4e8",
   "metadata": {},
   "outputs": [],
   "source": [
    "# 엄청 간단\n",
    "def solution(ls):\n",
    "    return min(len(ls)/2, len(set(ls))) # 사실 이 개념임!!!!"
   ]
  },
  {
   "cell_type": "code",
   "execution_count": 5,
   "id": "e6c9ae45-1604-4872-8664-a29460a58675",
   "metadata": {},
   "outputs": [],
   "source": [
    "def solution(nums):\n",
    "    return min(len(nums)/2, len(set(nums)))"
   ]
  },
  {
   "cell_type": "code",
   "execution_count": 6,
   "id": "e7f77ec9-43da-4e02-8dbc-50011be211e6",
   "metadata": {},
   "outputs": [
    {
     "data": {
      "text/plain": [
       "2"
      ]
     },
     "execution_count": 6,
     "metadata": {},
     "output_type": "execute_result"
    }
   ],
   "source": [
    "solution([3,3,3,2,2,2])"
   ]
  },
  {
   "cell_type": "markdown",
   "id": "ee2ef895-6c23-421b-9563-d966c66a254a",
   "metadata": {},
   "source": [
    "## 2. 완주하지 못한 선수"
   ]
  },
  {
   "cell_type": "code",
   "execution_count": null,
   "id": "6bbf15e7-151e-49fc-ae18-1a443d0938f8",
   "metadata": {},
   "outputs": [],
   "source": [
    "# sorting하는 것(비교를 위해서)\n",
    "# completion기준으로 비교했을때, participant에는 있는 completion에 없으면 완주x\n",
    "# 다 있으면 제일 마지막 사람이 완주x\n",
    "# 동명이인 있으므로 함부로 set(x)"
   ]
  },
  {
   "cell_type": "code",
   "execution_count": null,
   "id": "d1856525-18b3-4826-85a8-717bbfe3613c",
   "metadata": {},
   "outputs": [],
   "source": [
    "# 틀림\n",
    "def solution(participant, completion):\n",
    "    participant.sort()\n",
    "    completion.sort()\n",
    "    # completion기준으로 비교\n",
    "    for i in range(len(completion)):\n",
    "        if participant[i] != completion[i]:\n",
    "            return participant[i]\n",
    "        else:\n",
    "            return participant[len(participant) -1] # 와.. else하면 안됨!! 이경우는 끝까지 돌아야 되니까... 제발!!!!!!!!!! 집중!!!!! 잘 따지기!!!"
   ]
  },
  {
   "cell_type": "code",
   "execution_count": 16,
   "id": "b0c5a5cf-5a7a-43fa-9734-5eac43679ba8",
   "metadata": {},
   "outputs": [],
   "source": [
    "def solution(participant, completion):\n",
    "    participant.sort()\n",
    "    completion.sort()\n",
    "    for i in range(len(completion)):\n",
    "        if participant[i] != completion[i]:\n",
    "            return participant[i]\n",
    "    return participant[len(participant)-1] # for문 다돌았는데 return문 안만나서 함수가 끝나지 않았다면 participant의 마지막애가 완주 못한거ㅣㅇㅁ!!(return만나면 그거 출력하고 함수끝"
   ]
  },
  {
   "cell_type": "code",
   "execution_count": 18,
   "id": "c5de44df-d998-4256-8eff-2773fd0b4825",
   "metadata": {},
   "outputs": [
    {
     "data": {
      "text/plain": [
       "'vinko'"
      ]
     },
     "execution_count": 18,
     "metadata": {},
     "output_type": "execute_result"
    }
   ],
   "source": [
    "solution([\"marina\", \"josipa\", \"nikola\", \"vinko\", \"filipa\"], [\"josipa\", \"filipa\", \"marina\", \"nikola\"])"
   ]
  },
  {
   "cell_type": "markdown",
   "id": "1c84f044-b0e7-4646-967f-bfa3732d70b6",
   "metadata": {},
   "source": [
    "## 3. 전화번호 목록"
   ]
  },
  {
   "cell_type": "code",
   "execution_count": null,
   "id": "34d89c2a-c4f7-4fd4-8daf-3ed5f55bc487",
   "metadata": {},
   "outputs": [],
   "source": [
    "# 접두어 다 달라야 true, 하나라도 겹치면 false(하나의 번호 자체가 접두어..)\n",
    "# 숫자 앞에서부터 같나 비교할때는 str형으로 바꿔주는게 좋은듯(이건 이미 str이라 ok)\n",
    "# 비교할 때 sort부터! >> sort했으니까 같은 수로 시작하는건 길이 순서로도 정렬되어 o >> len사용가능!!/slicing도\n",
    "# true, false >> True, False"
   ]
  },
  {
   "cell_type": "markdown",
   "id": "37a1db0e-048a-4d11-b52f-f7da65d38d3e",
   "metadata": {},
   "source": [
    "- 아래 처럼 answer라는 변수에 True주고 시작해도 되고, return 저렇게 해도됨!"
   ]
  },
  {
   "cell_type": "code",
   "execution_count": 7,
   "id": "1be33fbb-f333-4164-8917-cf27130813fe",
   "metadata": {},
   "outputs": [],
   "source": [
    "def solution(phone_book):\n",
    "    # answer = True # 겹치는거 있으면 False로 바꿔주기\n",
    "    phone_book.sort()\n",
    "    for i in range(len(phone_book) - 1): # i와 i+1 비교하니까 한번더 안해도됨\n",
    "        if len(phone_book[i]) < len(phone_book[i+1]):\n",
    "            if phone_book[i+1][:len(phone_book[i])] == phone_book[i]: # 세세한거 잘보기!!!!!!!!!!!!!!그냥 len(phone_book)하면 x\n",
    "                # answer = False\n",
    "                # break # false되면 바로 break해도 됨! 뒤에서 true로 바뀔수도 있음\n",
    "                return False\n",
    "                \n",
    "    return True"
   ]
  },
  {
   "cell_type": "code",
   "execution_count": 8,
   "id": "ccb96829-990b-47d8-9a38-413d17e59beb",
   "metadata": {},
   "outputs": [
    {
     "data": {
      "text/plain": [
       "True"
      ]
     },
     "execution_count": 8,
     "metadata": {},
     "output_type": "execute_result"
    }
   ],
   "source": [
    "solution([\"123\",\"456\",\"789\"])"
   ]
  },
  {
   "cell_type": "code",
   "execution_count": 9,
   "id": "e5bfc0c4-aa92-4fb1-8d1c-173cf2030a0b",
   "metadata": {},
   "outputs": [
    {
     "data": {
      "text/plain": [
       "False"
      ]
     },
     "execution_count": 9,
     "metadata": {},
     "output_type": "execute_result"
    }
   ],
   "source": [
    "solution([\"119\", \"97674223\", \"1195524421\"])"
   ]
  },
  {
   "cell_type": "markdown",
   "id": "5e97ee73-de07-44c5-bc94-3545c5bbf530",
   "metadata": {},
   "source": [
    "## 4. 위장"
   ]
  },
  {
   "cell_type": "markdown",
   "id": "dc2e8ae2-d5d8-4ff9-842d-d5dcd43d17a7",
   "metadata": {},
   "source": [
    "- 공식! 찾아야됨 >> 종류 2개, 3개 >> (2+1)*(3+1) - 1 이게 아무것도 안입은거 빼고 모든 조합!"
   ]
  },
  {
   "cell_type": "markdown",
   "id": "6a6d5227-00eb-45aa-a4b2-a65678db5ea6",
   "metadata": {},
   "source": [
    "- 딕셔너링에 key랑 value 추가 하는것 >> key로 추가!! / key 있는지 확인(~in~) / value값 꺼내기!\n",
    "- 리스트는 append로 원소 추가!"
   ]
  },
  {
   "cell_type": "code",
   "execution_count": 26,
   "id": "6d454e6d-3af3-497b-b596-b24dc082ef96",
   "metadata": {},
   "outputs": [],
   "source": [
    "def solution(clothes): \n",
    "    closet = {} # 사전형 선언!!!!\n",
    "    answer = 1 # 곱해줘야 하니까 1로 설정!\n",
    "    \n",
    "    # 같은 종류의 옷끼리 묶어서 사전에 저장\n",
    "    for cloth in clothes: # 이거 파악 중요!! closth[1] = 종류(키가 되야 함) / cloth[0] = 특정 옷(밸류) / 밸류값 여러개 >> 밸류를 리스트로!!\n",
    "        # closet에 종류o\n",
    "        if cloth[1] in closet: # 이미 그 키를 딕셔너리에 넣었다면 그냥 값 append해줘! / 굳이 closet.keys()라고 안해도됨1!\n",
    "            closet[cloth[1]].append(cloth[0])\n",
    "        else:\n",
    "            closet[cloth[1]] = [cloth[0]] # 그 종류가 없으면 closet 딕셔너리(해쉬)에 key로 넣기!! \n",
    "                                          # (밸류값을 list안에 넣겠다는거! 그래야 다른 거 들어와도 append로 쉽게 넣을 수 있음!!)\n",
    "    \n",
    "    # 경우의 수 구하기            \n",
    "    for value in closet.values():\n",
    "        answer *= len(value) + 1\n",
    "    \n",
    "    # 아무것도 입지 않은 경우 하나 제외 >>> 이런거 중요!!!!!!!! >>>>>>>>>>>>>>>>>>>!!!!!!!!!!!!!!!!!!!!!!!!!!!!!!!!!!!!!!!!!!!!1 경우의수 하나씩 수 늘려서 수 구하면 식구할수 이씅!\n",
    "    return answer-1"
   ]
  },
  {
   "cell_type": "code",
   "execution_count": 27,
   "id": "945868ff-ae70-4839-a4b5-fd5fac1e551b",
   "metadata": {
    "tags": []
   },
   "outputs": [
    {
     "data": {
      "text/plain": [
       "5"
      ]
     },
     "execution_count": 27,
     "metadata": {},
     "output_type": "execute_result"
    }
   ],
   "source": [
    "solution([[\"yellow_hat\", \"headgear\"], [\"blue_sunglasses\", \"eyewear\"], [\"green_turban\", \"headgear\"]])"
   ]
  },
  {
   "cell_type": "markdown",
   "id": "a8134a18-a0d0-41bf-ae83-f5c6e2f5238b",
   "metadata": {},
   "source": [
    "## 5. 베스트앨범"
   ]
  },
  {
   "cell_type": "code",
   "execution_count": null,
   "id": "97717ce1-5125-4c5d-a6bd-30c085f31096",
   "metadata": {},
   "outputs": [],
   "source": [
    "# 장르별로 가장 많이 재생된 노래 두개씩 모아 베스트 앨범 출기(장르 종류!)\n",
    "# 장르별 횟수 구해야 함(많이 재생된게 먼저)\n",
    "# 장르 안에 노래별 횟수(많은게 먼저)\n",
    "# 노래별 횟수 같으면 고유번호 낮은게. 먼저 들어있는게 먼저.\n",
    "\n",
    "# 정답은 출력되는 형태에 맞춰서 자료형 넣어주면 됨!!"
   ]
  },
  {
   "cell_type": "code",
   "execution_count": 33,
   "id": "70036513-34a6-4e16-858c-5b21d423753a",
   "metadata": {},
   "outputs": [],
   "source": [
    "def solution(genres, plays):\n",
    "    answer = []\n",
    "    total_play = {}\t#장르별 total play를 저장하는 딕셔너리\n",
    "    genres_play = {}\t#장르별 play수를 저장하는 딕셔너리\n",
    "    \n",
    "    for i in range(len(genres)):\n",
    "    \t#딕셔너리안에 key가 존재하면 플러스, 아니면 초기화해준다\n",
    "        if genres[i] in total_play:\n",
    "            total_play[genres[i]] += plays[i]\n",
    "        else:\n",
    "            total_play[genres[i]] = plays[i]\n",
    "        #똑같이 딕셔너리안에 key가 존재하면 추가, 아니면 초기화해준다\n",
    "        if genres[i] in genres_play:\n",
    "            genres_play[genres[i]].append([plays[i], i]) # 고유번호, 필요하므로 이렇게! / 변하지 않는 값이니 튜플로!!\n",
    "        else:\n",
    "            #[재생횟수, 인덱스]의 list형태로 추가한다\n",
    "            genres_play[genres[i]] = [[plays[i], i]] \n",
    "            \n",
    "    #total_play 딕셔너리의 value를 내림차순으로 정렬 후 key 리스트를 만들어준다\n",
    "    # 딕셔너리의 value값으로 정렬하고 싶으면 sorted!! 사용하기!!!\n",
    "    # 가장 많이 재생된 장르가 맨앞에 있음\n",
    "    # genre_rank에는 그 key만 들어있음!!!!!!!!!!\n",
    "    print(total_play)\n",
    "    print(genres_play)\n",
    "    genre_rank = sorted(total_play, key=total_play.get, reverse=True) # key따로 설정 안하면 key대로 정렬됨 / 밸류하나인데 그걸로 정렬하고 싶으면 .get해야됨!\n",
    "    print(genre_rank)\n",
    "    \n",
    "    # 장르의 속한 노래 횟수 비교해서 정렬해주기!\n",
    "    for x in genre_rank:\n",
    "    \t#재생횟수(내림차순), 인덱스(오름차순)으로 정렬해준다 >> 정렬기준 lambda로 다양하게 가능!!\n",
    "        # genres_play가 딕셔너리 이므로 아래와 같이 밸류값조회!\n",
    "        play_rank = sorted(genres_play[x], key=lambda x: (-x[0], x[1])) # genres_play[x] >> 처음엔 genres_play[pop] 이니까\n",
    "        \n",
    "        #장르 내에 곡이 하나뿐일 경우 첫 번째만 추가, 아니면 앞의 2개만 추가한다\n",
    "        #play_rank[i][1]에 저장된 index만 answer에 추가한다\n",
    "        if len(play_rank) == 1:\n",
    "            answer.append(play_rank[0][1]) # 첫번째의 index값\n",
    "        else:\n",
    "            for i in range(2):\n",
    "                answer.append(play_rank[i][1]) # 1,2번째의 index값\n",
    "    return answer"
   ]
  },
  {
   "cell_type": "code",
   "execution_count": 34,
   "id": "b11cd5cc-0d1b-464f-8f35-4051e79dd754",
   "metadata": {},
   "outputs": [
    {
     "name": "stdout",
     "output_type": "stream",
     "text": [
      "{'classic': 1450, 'pop': 3100}\n",
      "{'classic': [[500, 0], [150, 2], [800, 3]], 'pop': [[600, 1], [2500, 4]]}\n",
      "['pop', 'classic']\n"
     ]
    },
    {
     "data": {
      "text/plain": [
       "[4, 1, 3, 0]"
      ]
     },
     "execution_count": 34,
     "metadata": {},
     "output_type": "execute_result"
    }
   ],
   "source": [
    "solution([\"classic\", \"pop\", \"classic\", \"classic\", \"pop\"], [500, 600, 150, 800, 2500])"
   ]
  },
  {
   "cell_type": "code",
   "execution_count": 32,
   "id": "b5a21ca6-bc4a-4fb7-aeb2-14b1e264e0e9",
   "metadata": {},
   "outputs": [
    {
     "name": "stdout",
     "output_type": "stream",
     "text": [
      "['pop', 'classic']\n"
     ]
    }
   ],
   "source": [
    "total_play = {'classic': 1450, 'pop': 3100}\n",
    "print(sorted(total_play,  reverse=True))"
   ]
  },
  {
   "cell_type": "code",
   "execution_count": null,
   "id": "24674629-ba21-41ba-91f3-015d2cb0d4e3",
   "metadata": {},
   "outputs": [],
   "source": [
    "# 내가 직접 푼 풀이!\n",
    "\n",
    "# 장르별로 가장 많이 재생된 노래 두개씩 모아 베스트 앨범 출기(장르 종류!)\n",
    "# 장르별 횟수 구해야 함(많이 재생된게 먼저)\n",
    "# 장르 안에 노래별 횟수(많은게 먼저)\n",
    "# 노래별 횟수 같으면 고유번호 낮은게. 먼저 들어있는게 먼저.\n",
    "\n",
    "def solution(genres, plays):\n",
    "    answer = []\n",
    "    total_play = {} # 장르별\n",
    "    genres_play = {} # 장르안에 노래 횟수, 인덱스\n",
    "    \n",
    "    for i in range(len(genres)):\n",
    "        # total_play에 장르별 횟수 넣어주기\n",
    "        if genres[i] in total_play:\n",
    "            total_play[genres[i]] += plays[i]\n",
    "        else:\n",
    "            total_play[genres[i]] = plays[i]\n",
    "        # genres_play 형태 >> {장르명 : [[노래재생횟수, 고유번호-인덱스], ...]}\n",
    "        if genres[i] in genres_play:\n",
    "            genres_play[genres[i]].append([plays[i], i])\n",
    "        else:\n",
    "            genres_play[genres[i]] = [[plays[i], i]]\n",
    "            \n",
    "    # 조건 맞게 정렬하기\n",
    "    genre_rank = sorted(total_play, key=total_play.get, reverse=True) # key기준이 하나일 경우에는 lambda(x), 다른 값으로 변환하지 않는다면! 괜히 lambda넣으면 에러뜸\n",
    "    \n",
    "    for x in genre_rank:\n",
    "        # 그 장르 안에서 노래 횟수 정렬\n",
    "        play_rank = sorted(genres_play[x], key=lambda x : (-x[0], x[1]))\n",
    "        # 하나면 그것의 index를 answer에 넣어주기\n",
    "        if len(play_rank) == 1:\n",
    "            answer.append(play_rank[0][1])\n",
    "        else:\n",
    "            for i in range(2): # 2개가 최대임\n",
    "                answer.append(play_rank[i][1])\n",
    "                                         \n",
    "    \n",
    "    return answer"
   ]
  },
  {
   "cell_type": "markdown",
   "id": "788d2870-1b1f-43dc-b04c-dfadd56e1262",
   "metadata": {},
   "source": [
    "# 스택/큐"
   ]
  },
  {
   "cell_type": "markdown",
   "id": "7695c125-470f-4fa5-802d-18bc39fd2bc3",
   "metadata": {},
   "source": [
    "## 1. 같은 숫자는 싫어"
   ]
  },
  {
   "cell_type": "markdown",
   "id": "decd4514-6f0b-462f-9216-cbfdc7bab1d5",
   "metadata": {},
   "source": [
    "- 연속되게 중복되는 수 제거 >> ex. 111 > 1"
   ]
  },
  {
   "cell_type": "code",
   "execution_count": null,
   "id": "ea22de5d-ac3d-422e-be73-70df802a6f2c",
   "metadata": {},
   "outputs": [],
   "source": [
    "# 순서 유지하되 연속적으로 중복되는 숫자는 하나만 남기고 제거하기\n",
    "# 첫번째거는 무조건 넣어주기 / 그 다음것부터 보면서.. 그 전거랑 비교했을 때 다르면 그 숫자 추가해주기!"
   ]
  },
  {
   "cell_type": "code",
   "execution_count": 29,
   "id": "6de096c2-4289-4e1a-977f-b20305c02cde",
   "metadata": {},
   "outputs": [],
   "source": [
    "def solution(arr):\n",
    "    answer = []\n",
    "    # 첫번째 넣어주기 >>>>>>>>>>>>>>>>>>이런 판단 굿!!!!!!!!!!!!!!!!!!!!(반복되는 행동 부분들만 for문 안에 넣어주기!) 처음값이랑 다음값 비교..이러면 처음값은 for문전에 무조거 넣기\n",
    "    answer.append(arr[0])\n",
    "    # 전거랑 비교 > 다르면 숫자 추가하기\n",
    "    for i in range(1, len(arr)):\n",
    "        if arr[i] != arr[i-1]:\n",
    "            answer.append(arr[i])\n",
    "    return answer"
   ]
  },
  {
   "cell_type": "code",
   "execution_count": 30,
   "id": "1202680e-d2cd-40df-9ad8-27fbde10a300",
   "metadata": {},
   "outputs": [
    {
     "data": {
      "text/plain": [
       "[1, 3, 0, 1]"
      ]
     },
     "execution_count": 30,
     "metadata": {},
     "output_type": "execute_result"
    }
   ],
   "source": [
    "solution([1,1,3,3,0,1,1])"
   ]
  },
  {
   "cell_type": "markdown",
   "id": "988532d1-ee8c-44be-8f4f-69f11086f5eb",
   "metadata": {},
   "source": [
    "## 2. 기능개발"
   ]
  },
  {
   "cell_type": "markdown",
   "id": "767b063b-157c-47f3-9077-81bb2b09ac54",
   "metadata": {},
   "source": [
    "- 모든 기능이 완성될 될때까지 며칠며칠며칠 >> '기능 몇개몇개몇개' 이거 출력!\n",
    "- 일단 남은 수 구하고, 진도율과 같이 어케 할지 정해야 할듯\n",
    "- `[완료된 퍼센트(작업진도), 작업속도]`"
   ]
  },
  {
   "cell_type": "code",
   "execution_count": 31,
   "id": "803209d8-9ea3-4fe6-b452-e46aed432c94",
   "metadata": {},
   "outputs": [],
   "source": [
    "def solution(progresses, speeds):\n",
    "    answer = [] # list형태로 return해줘야 함. 답출력해야 함.\n",
    "    while progresses:\n",
    "        # 각 작업의 진도에 개발 속도를 더해줌\n",
    "        for i in range(len(progresses)):\n",
    "            progresses[i] += speeds[i] # 일단 더해주다가... 100이상인거 있으면 아래로 됨!!\n",
    "        \n",
    "        count = 0 # 배포 가능한 작업의 수\n",
    "        # 가장 앞에 있는 작업이 100% 이상일 경우, 배포 가능한 작업 수를 센다 >> 100이상인거 3개 있으면 while문이 3개 실행되겠지? \n",
    "        while progresses and progresses[0] >= 100: # and임!! 둘다 만족해야 해! / 앞에 있는게 먼저 나가야 되니까 progresses[0] 이라고 해야 함!\n",
    "            # print(progresses[0])\n",
    "            progresses.pop(0) # pop() 숫자 넣으면 그 인덱스의 값이 빠짐!!!!!!!!!!!!!!!!!!! 리스트에서 첫번째요소 빼줄때 pop(0)하면 됨!!!!!!\n",
    "            speeds.pop(0)\n",
    "            count += 1\n",
    "        \n",
    "        # 배포 가능한 작업이 있다면, 그 수를 정답 리스트에 추가\n",
    "        if count > 0:\n",
    "            answer.append(count) # 그 개수, count 자체를 answer에 넣어줘야 하니까 이렇게 함.\n",
    "            # print(answer)\n",
    "    \n",
    "    return answer"
   ]
  },
  {
   "cell_type": "code",
   "execution_count": 32,
   "id": "00708e02-e118-4a00-b2b0-90041d04d99e",
   "metadata": {},
   "outputs": [
    {
     "data": {
      "text/plain": [
       "[2, 1]"
      ]
     },
     "execution_count": 32,
     "metadata": {},
     "output_type": "execute_result"
    }
   ],
   "source": [
    "solution([93, 30, 55], [1, 30, 5])"
   ]
  },
  {
   "cell_type": "markdown",
   "id": "86097488-31df-4433-820f-0de7c51f0c0e",
   "metadata": {},
   "source": [
    "## 3. 올바른 괄호"
   ]
  },
  {
   "cell_type": "markdown",
   "id": "acae92eb-237e-4a65-9727-5cb73fd0106d",
   "metadata": {},
   "source": [
    "위 코드는 주어진 `문자열 s가 올바른 괄호인지` 판별하는 함수입니다. `스택을 이용`하여 `괄호의 짝`을 맞추는 방식으로 문제를 해결합니다. 문자열을 순회하면서 괄호가 `열린 경우 스택에 추가`하고, `괄호가 닫힌 경우` `스택에서 짝이 맞는 괄호를 제거`(그래서 스택이 끝에서 다 비워지면 되는거임!)합니다. 모든 문자열을 순회한 후에도 `스택에 괄호가 남아`있는 경우, `괄호가 올바르지 않다`고 판단합니다. 모든 괄호를 순회하고 스택에 괄호가 남아있지 않은 경우, 괄호가 올바르다고 판단합니다. 함수는 True 또는 False 값을 반환합니다."
   ]
  },
  {
   "cell_type": "code",
   "execution_count": 8,
   "id": "89925874-dc92-4625-959e-110f684a77ba",
   "metadata": {},
   "outputs": [],
   "source": [
    "def solution(s):\n",
    "    stack = [] # (이것만 넣어주기!!\n",
    "    for char in s:\n",
    "        if char == '(':\n",
    "            stack.append(char)\n",
    "        else:\n",
    "            if not stack: # 비어있으면!! 을 이렇게 표현!!! stack(True) / not stack(False)!!!!!!!!!!!!!!!!!!!!!!!!!!!!!!!!!!!!!!!!!!!!\n",
    "                return False # return 이렇게 끝!(return여러개 있을수 있음!)스택이 비어있는 경우, 괄호가 올바르지 않음 >> 스택이 비어있는데 ')' 닫힌 괄호이면 그냥 False인 거임!!\n",
    "            stack.pop() # 스택에서 짝이 맞는 괄호 제거 / ')'인데 스택이 안비어 있으면\n",
    "    # 위에 과정 다 끝나고 남아있으면 false 아니면 true!\n",
    "    if stack:\n",
    "        return False # 스택에 ''''남아있는'''' 괄호가 있는 경우, 괄호가 올바르지 않음\n",
    "    \n",
    "    return True # 모든 괄호가 짝이 맞는 경우, 괄호가 올바름"
   ]
  },
  {
   "cell_type": "code",
   "execution_count": 9,
   "id": "ec37f6de-8b7f-4382-afcb-3edd51b8b521",
   "metadata": {},
   "outputs": [
    {
     "data": {
      "text/plain": [
       "True"
      ]
     },
     "execution_count": 9,
     "metadata": {},
     "output_type": "execute_result"
    }
   ],
   "source": [
    "solution(\"(())()\")"
   ]
  },
  {
   "cell_type": "code",
   "execution_count": 10,
   "id": "a3577760-3462-4012-b24e-e2b2a4e1d642",
   "metadata": {},
   "outputs": [
    {
     "data": {
      "text/plain": [
       "False"
      ]
     },
     "execution_count": 10,
     "metadata": {},
     "output_type": "execute_result"
    }
   ],
   "source": [
    "solution(\")()(\")"
   ]
  },
  {
   "cell_type": "markdown",
   "id": "645e7ca3-d018-498b-bb3b-eb52c7f1f3d5",
   "metadata": {},
   "source": [
    "## 4. 프린터"
   ]
  },
  {
   "cell_type": "markdown",
   "id": "f85ea76c-ca24-43cd-a3df-8ed415551ea4",
   "metadata": {},
   "source": [
    "- 인쇄 요청이 `들어온 순서대로` 인쇄 >> 근데 `중요도 높은` 인쇄부터 출력되게 하고픔 >> 큐사용!!!!!!!!!!!!!!!!!! >> 그냥 정렬해서 안되서.. 우선순위 큐 사용안하는듯..\n",
    "- `내가 인쇄를 요청한 문서가 몇 번째로 인쇄`되는지 return 하도록 solution 함수를 작성(이게 원하는 정답!!!!!!!!!!!!!!!!)\n",
    "- 나머지 인쇄 대기목록에서 J보다 중요도가 높은 문서가 한 개라도 존재하면 J를 대기목록의 `가장 마지막에 넣습니다.` (큐에서 꺼내서 확인 후, 해당되면 맨뒤로 append)"
   ]
  },
  {
   "cell_type": "code",
   "execution_count": 20,
   "id": "e21a35f3-8636-4115-b61d-e30f0a42939f",
   "metadata": {},
   "outputs": [],
   "source": [
    "from collections import deque # 큐 사용!!!!!!!!!!!!\n",
    "\n",
    "def solution(priorities, location):\n",
    "    answer = 0\n",
    "    # enumerate를 이용하여 (인덱스, 중요도) 형태의 튜플 리스트 생성\n",
    "    docs = list(enumerate(priorities)) # priorities = [1, 1, 9, 1, 1, 1]\n",
    "    print(docs)\n",
    "    # 출력 순서를 저장하는 큐 >> 이렇게 큐. deque해야 맨 앞에부터(popleft)꺼낼 수 있음!!!!!!! ex. deque(1,2,3,4,5) >> 1부터 꺼낼 수 있음\n",
    "    queue = deque(docs)\n",
    "    # print(queue)\n",
    "\n",
    "    while queue: # queue!!!!!!!!!\n",
    "        doc = queue.popleft() # 큐에서 첫 번째 문서를 꺼냄 >>> 맨 앞에걸 뒤에랑 쭉 비교할일있으면 queue쓰기!!!!!!(any쓰면 good)!!!\n",
    "        print(doc)\n",
    "        # print(doc[1]) # (인덱스, 중요도) 니까 중요도가 꺼내짐.. 중요도 비교!!\n",
    "        if any(doc[1] < q[1] for q in queue): # doc[1], q[1] 똑같은 친구.... # 중요도9인거 꺼냈는데 큰거 없음. 이거 걍 큐에서 꺼내짐. 사라짐.. answer +1 // 이거 형태 외우기 걍!!(하나라도 있으면 True)\n",
    "            # any(조건 for ~~)\n",
    "            # 남은 문서들 중 중요도가 더 큰 문서가 있다면 뒤로 보냄\n",
    "            queue.append(doc) # 꺼낸거 다시 뒤로 넣어!!\n",
    "            print(queue) # popleft면 큐에서 꺼내짐. 즉 첫번째에서 사라짐. 이렇게 append해주면 마지막으로 다시 들어감!!!!!!\n",
    "        else:\n",
    "            # 현재 문서가 가장 중요한 문서인 경우 / 위에 처럼 하면 순서 배치가 다 된 후에 몇번째 찾는지 알수 있음!!!\n",
    "            answer += 1\n",
    "            if doc[0] == location:\n",
    "                # 찾고자 하는 문서의 위치인 경우 반복문을 종료하고 출력 순서 반환 >> 찾았다 요놈!\n",
    "                break\n",
    "\n",
    "    return answer"
   ]
  },
  {
   "cell_type": "code",
   "execution_count": 37,
   "id": "ba8f08e9-1f23-486e-9a34-14f38bbdf7b4",
   "metadata": {},
   "outputs": [],
   "source": [
    "from collections import deque\n",
    "\n",
    "def solution(priorities, location):\n",
    "    answer = 0\n",
    "    docs = list(enumerate(priorities))\n",
    "    queue = deque(docs)\n",
    "    \n",
    "    while queue:\n",
    "        doc = queue.popleft()\n",
    "        if any(doc[1] < q[1] for q in queue):\n",
    "            queue.append(doc)\n",
    "        else:\n",
    "            answer += 1\n",
    "            if doc[0] == location:\n",
    "                break\n",
    "    return answer"
   ]
  },
  {
   "cell_type": "code",
   "execution_count": 38,
   "id": "7bb52a1c-8df4-42c3-9a96-1cb746cc1df2",
   "metadata": {},
   "outputs": [
    {
     "data": {
      "text/plain": [
       "5"
      ]
     },
     "execution_count": 38,
     "metadata": {},
     "output_type": "execute_result"
    }
   ],
   "source": [
    "solution([1, 1, 9, 1, 1, 1], 0)"
   ]
  },
  {
   "cell_type": "markdown",
   "id": "c9441bfe-8c30-4d5e-bc3d-98c486fa3c7c",
   "metadata": {},
   "source": [
    "## 5. 다리를 지나는 트럭"
   ]
  },
  {
   "cell_type": "markdown",
   "id": "f6483c67-3af2-4767-9c90-dc0a280c048e",
   "metadata": {},
   "source": [
    "- 일차선 다리 / 모든 트럭이 다리를 건너려면 최소 몇 초가 걸리는지"
   ]
  },
  {
   "cell_type": "markdown",
   "id": "daa3cf98-de1b-4123-9562-d68f27315182",
   "metadata": {},
   "source": [
    "- 이 문제에서는 큐를 사용했다. 파이썬에서 큐를 사용하기 위해서는 collections 라이브러리의 deque를 사용한다.\n",
    "- `와.. 이분이 날 이해시킴...`\n",
    "- 매개변수로 받은 bridge_length는 다리의 길이이다.\n",
    "- 이 다리를 bridge_length 길이만큼의 큐로 만든다.(주어진건 트럭 무게이지 트럭 길이가 아님!!!!)\n",
    "- 길이를 채우기 위해 다리 길이만큼 0으로 채운다.\n",
    "-이후 다리에 이동 중인 트럭이 있거나 대기 중인 트럭이 있는 동안 다음 과정을 반복한다.\n",
    "    1. 다리에서 하나를 제거한다.\n",
    "    2. 새 트럭이 다리에 올라갈 수 있으면 대기 트럭 하나를 다리에 올린다.\n",
    "    3. 새 트럭이 올라갈 수 없거나 대기 트럭이 없다면 다리에 0을 추가해서 다리 길이를 유지한다.\n",
    "    4. 각 과정마다 time을 1씩 추가한다.\n",
    "- 즉, 최대2대올라갈수있고, 제한 무게 10이고, 지나갈 트럭 무게 각각 7,4,5,6이면\n",
    "- [0,0](0초) > [0,7] > (4들어오면 11kg..초과되서 걍 0으로 채워서 다리길이 맞춰줌) [7,0] > [0,4] > [4,5] > [5,0] > [0,6] > [6,0] > [0,0] >>>8초!!"
   ]
  },
  {
   "cell_type": "code",
   "execution_count": null,
   "id": "61042cfe-164f-47ce-812d-508921daf76c",
   "metadata": {},
   "outputs": [],
   "source": [
    "from collections import deque\n",
    "\n",
    "def solution(bridge_length, weight, truck_weights):\n",
    "    bridge = deque([0] * bridge_length)  # 다리를 나타내는 큐\n",
    "    total_weight = 0  # 현재 다리에 있는 트럭들의 총 무게\n",
    "    time = 0  # 걸린 시간\n",
    "\n",
    "    while truck_weights: # 마지막 요소 들어가서 truck_weights에 원소 없으면 while문 끝남!! 그래서 마지막에 마지막 요소 나올 시간 더해주려고 time+=bridge_length해줌!\n",
    "        time += 1\n",
    "\n",
    "        # 다리에서 트럭이 나가면 total_weight에서 해당 트럭의 무게를 빼줌\n",
    "        if bridge[0] > 0:\n",
    "            total_weight -= bridge[0] # 이게잘...그럼 처음부터 마이너스되는거 아냐? 근데 아님.. 처음엔.. 들어오는거니까 나가는게 아니라.. 첫번째요소까지 와야 비로소 나갈 수 있음\n",
    "\n",
    "        bridge.popleft()  # 다리에서 트럭이 나감\n",
    "\n",
    "        # 현재 다리에 있는 트럭들의 총 무게와 다음에 들어올 트럭의 무게를 비교하여\n",
    "        # 다리에 트럭이 더 올라갈 수 있는지 확인\n",
    "        if total_weight + truck_weights[0] <= weight:\n",
    "            total_weight += truck_weights[0]\n",
    "            bridge.append(truck_weights.pop(0)) # pop한걸 append!>>>>>>>>>>>>>>>>>>>>>>>>>>>>>>>>>>>>>>>>>>>>>>\n",
    "        else:\n",
    "            bridge.append(0)\n",
    "\n",
    "    # 마지막 트럭이 다리를 모두 지날 때까지의 시간을 더해줌\n",
    "    time += bridge_length\n",
    "\n",
    "    return time\n"
   ]
  },
  {
   "cell_type": "markdown",
   "id": "3bd7adce-d4a5-4706-856c-2589dde55cbc",
   "metadata": {},
   "source": [
    "## 6. 주식가격"
   ]
  },
  {
   "cell_type": "markdown",
   "id": "b727b10e-8bcb-4a10-ba58-521e81e8e62e",
   "metadata": {},
   "source": [
    "- 초 단위로 기록된 주식가격 >> 배열prices가 매개변수로 주어짐\n",
    "- 가격이 떨어지지 않은 기간은 몇 초인지를 return"
   ]
  },
  {
   "cell_type": "markdown",
   "id": "83223e02-7f67-4ef4-8c19-dd7743c7ed3a",
   "metadata": {},
   "source": [
    "- 주식 가격 문제는 주어진 가격 리스트에서 각 `주식의 가격이 떨어지지 않은 기간(초 단위`)을 계산하는 문제"
   ]
  },
  {
   "cell_type": "markdown",
   "id": "75a0221f-0544-4815-8b1b-a55091755fed",
   "metadata": {},
   "source": [
    "위 코드는 주어진 주식 가격 리스트(prices)를 입력으로 받아, 각 주식의 가격이 떨어지지 않은 기간을 계산하여 리스트에 저장하는 함수입니다. `이중 반복문`을 사용하여 `현재 주식 가격과 이후의 주식 가격을 비교`하며 `가격이 떨어진 경우 해당 기간을 저장`하고, `가격이 떨어지지 않은 경우 주식 가격 리스트의 끝까지의 기간`을 저장합니다. 최종적으로 저장된 결과 리스트를 반환합니다."
   ]
  },
  {
   "cell_type": "code",
   "execution_count": 22,
   "id": "01154519-6525-47bf-870b-9da7d67887dc",
   "metadata": {},
   "outputs": [],
   "source": [
    "def solution(prices):\n",
    "    n = len(prices)  # 주식 가격 리스트의 길이\n",
    "    answer = [0] * n  # '''결과'''를 저장할 리스트 >> 이렇거 list잘 만들어야 함!!!>>>>>>>>>>>>>>>>>>>>>>>>>>>>>>>>>>>>>>>>>>>>>>>>>>>>> 각 리스트 요소별 정보나, 그대로 출력할때\n",
    "\n",
    "    # 주식 가격 리스트를 순회하며 가격이 떨어지지 않은 기간을 계산\n",
    "    for i in range(n):\n",
    "        for j in range(i + 1, n): # 그 다음초의 가격부터 비교하면 되니까 i+1부터임!!!!\n",
    "            if prices[i] > prices[j]:\n",
    "                # 가격이 떨어진 경우 해당 기간을 결과 리스트에 저장하고 반복문 종료\n",
    "                answer[i] = j - i\n",
    "                break\n",
    "        else:\n",
    "            # 가격이 떨어지지 않은 경우 주식 가격 리스트의 끝까지의 기간을 저장\n",
    "            answer[i] = n - i - 1\n",
    "\n",
    "    return answer"
   ]
  },
  {
   "cell_type": "code",
   "execution_count": 23,
   "id": "fa514b2f-3f39-47d2-86b6-5fb2eea2e59c",
   "metadata": {},
   "outputs": [
    {
     "data": {
      "text/plain": [
       "[4, 3, 1, 1, 0]"
      ]
     },
     "execution_count": 23,
     "metadata": {},
     "output_type": "execute_result"
    }
   ],
   "source": [
    "solution([1, 2, 3, 2, 3])"
   ]
  },
  {
   "cell_type": "markdown",
   "id": "5e28723f-f745-4706-9557-4ea70fc7ae14",
   "metadata": {},
   "source": [
    "# 최대/최소하면 힙!"
   ]
  },
  {
   "cell_type": "markdown",
   "id": "33fe2e8c-538b-47eb-aabb-b5e75a9dc0ab",
   "metadata": {
    "tags": []
   },
   "source": [
    "# 힙(Heap)"
   ]
  },
  {
   "cell_type": "markdown",
   "id": "00494a3c-ad9f-451a-84c1-a7e04b9ad928",
   "metadata": {},
   "source": [
    "### stack.pop() vs queue.pop(0) vs heapq.pop(heap)\n",
    "- 맨마지막 / 맨처음 / 젤 작은값(일반적으로)"
   ]
  },
  {
   "cell_type": "markdown",
   "id": "be226a57-c8ec-4973-bb03-d9a47e4ee506",
   "metadata": {},
   "source": [
    "## 1. 더 맵게"
   ]
  },
  {
   "cell_type": "markdown",
   "id": "ce62012b-0cc0-4052-9955-8deb81f4f280",
   "metadata": {},
   "source": [
    "- 그냥 정렬을 쓰지 않고 힙을 쓰느 이유!!\n",
    "- 힙 사용하면 새로운 스코빌 지수 계산하고, 새로운 음식 추가 등의 연산이 자유로움\n",
    "- 힙은 `최소값, 최대값` 빠르게 찾아내는데 `최적화된 자료형` >> 시간 효율!!!\n",
    "- 가장 낮은 음식을 빠르게 찾음!!!"
   ]
  },
  {
   "cell_type": "markdown",
   "id": "1039afaf-7819-456d-be96-301b7e716577",
   "metadata": {},
   "source": [
    "- 섞은 음식의 스코빌 지수 = 가장 맵지 않은 음식의 스코빌 지수 + (두 번째로 맵지 않은 음식의 스코빌 지수 * 2)\n",
    "- 모든 음식의 스코빌 지수를 K 이상으로 만들기 위해 섞어야 하는 최소 횟수"
   ]
  },
  {
   "cell_type": "markdown",
   "id": "4517049c-46f0-4750-b107-c1636466f646",
   "metadata": {},
   "source": [
    "- '더 맵게' 문제는 주어진 음식 리스트를 스코빌 지수를 이용하여 섞는 문제입니다. 주어진 음식 리스트에서 가장 낮은 스코빌 지수의 음식 두 개를 섞어서 새로운 음식을 만들고, 이 과정을 반복하여 주어진 스코빌 지수(K) 이상의 값이 나올 때까지 섞는 최소 횟수를 구하는 문제"
   ]
  },
  {
   "cell_type": "code",
   "execution_count": 6,
   "id": "e3177d6d-850c-47fc-9018-5a96abb58fb9",
   "metadata": {},
   "outputs": [],
   "source": [
    "import heapq # 우선순위 큐!!!!!!!!!!!!!힙!!!!!!!!!!!!!\n",
    "\n",
    "def solution(scoville, K):\n",
    "    heap = []\n",
    "    for s in scoville:\n",
    "        heapq.heappush(heap, s)  # 음식 리스트를 heap으로 변환 / 이렇게 우선순위큐로 변환!!\n",
    "\n",
    "    answer = 0  # 섞는 횟수를 저장할 변수\n",
    "\n",
    "    while heap[0] < K:  # 가장 낮은 스코빌 지수가 K보다 작은 경우 반복 >>> 오름차순 정렬이 되어 있음.\n",
    "        if len(heap) < 2:\n",
    "            # 음식이 2개 미만으로 남아있는 경우 K 이상의 값을 만들 수 없으므로 -1 반환 >>>> 이런조건 중요!!!\n",
    "            return -1\n",
    "\n",
    "        # 가장 낮은 스코빌 지수의 음식 두 개를 꺼내서 섞고 새로운 음식을 만들어 heap에 추가 >> 시간 효율을 위해 heapq사용!!!\n",
    "        first = heapq.heappop(heap) # 최소값을 꺼냄!!(최소힙)))\n",
    "        second = heapq.heappop(heap) # 위에꺼 꺼내졌으니까 또 최소값이 꺼내짐!!!\n",
    "        new_scoville = first + (second * 2)\n",
    "        heapq.heappush(heap, new_scoville) # heap에 new_scoville을 넣는다!!는 의미!\n",
    "\n",
    "        answer += 1  # 섞는 횟수 증가\n",
    "\n",
    "    return answer"
   ]
  },
  {
   "cell_type": "code",
   "execution_count": 7,
   "id": "5d42f3a3-79b2-4b26-a1a6-93c8dd3ebabe",
   "metadata": {},
   "outputs": [
    {
     "data": {
      "text/plain": [
       "2"
      ]
     },
     "execution_count": 7,
     "metadata": {},
     "output_type": "execute_result"
    }
   ],
   "source": [
    "solution([1, 2, 3, 9, 10, 12], 7)"
   ]
  },
  {
   "cell_type": "markdown",
   "id": "3ed8fa4a-7b99-4fa3-8a15-f77a6f5606be",
   "metadata": {},
   "source": [
    "## 3. 이중우선순위큐"
   ]
  },
  {
   "cell_type": "markdown",
   "id": "1317098e-0582-40dc-bbab-af2eaa999811",
   "metadata": {},
   "source": [
    "- I : 넣고\n",
    "- D 1: 최대 빼고\n",
    "- D -1: 최소 뺴고"
   ]
  },
  {
   "cell_type": "code",
   "execution_count": 32,
   "id": "818fb961-2dd4-4cf6-84b4-43eb0842a8c9",
   "metadata": {},
   "outputs": [],
   "source": [
    "import heapq\n",
    "\n",
    "def solution(operations): # str인거 주의!!! 비교할때 '', int바꿔주기!!\n",
    "    h = []\n",
    "\n",
    "    for i in operations:\n",
    "        a, b = i.split() # 이렇게 split에 아무것도 안넣으면 공백 기준으로 a,b나뉨 >>>>>>>> 언패킹!!!!!!!!!!!!! 인덱싱하려면 data = list(i.split()) 이렇게 하면 될듯\n",
    "        if a == 'I':\n",
    "            heapq.heappush(h, int(b))\n",
    "        else:\n",
    "            if len(h) > 0: # 이거 중ㅇ요!!! 없으면 무시하랫음!!\n",
    "                if b == '1':\n",
    "                    h.pop(h.index(heapq.nlargest(1, h)[0])) # 가장 큰 원소의 원래 리스트 h의 인덱스를 꺼냄.. >> 위에서 따로 모든 원소를 힙으로 만들어주지 않음. i명령어 있을때만 넣어서..\n",
    "                    # nlargest하면 list로 반환되니까 그 숫자 필요하면 [0]과 같이 인덱싱 해줘야함!!!!\n",
    "                else:\n",
    "                    heapq.heappop(h) # 가장작은수, 최소값이 꺼내짐(default가 최소힙기준이니까..)\n",
    "\n",
    "    if len(h) == 0:\n",
    "        return [0, 0]\n",
    "    else:\n",
    "        return [heapq.nlargest(1, h)[0], h[0]] # 최대, 최소 >>> 이렇게 동시에 구해야 될때!! 굳이 최대힙 안만들어도됨!!!! >>>>>>>>>>>>>>>>>>>>>>>>>>>"
   ]
  },
  {
   "cell_type": "code",
   "execution_count": 33,
   "id": "8aee9048-6c26-4b8e-8263-ed875ee256f4",
   "metadata": {},
   "outputs": [
    {
     "data": {
      "text/plain": [
       "[0, 0]"
      ]
     },
     "execution_count": 33,
     "metadata": {},
     "output_type": "execute_result"
    }
   ],
   "source": [
    "solution([\"I 16\", \"I -5643\", \"D -1\", \"D 1\", \"D 1\", \"I 123\", \"D -1\"])"
   ]
  },
  {
   "cell_type": "markdown",
   "id": "75ab0740-c79a-49ee-b3c8-17df3b2fb813",
   "metadata": {},
   "source": [
    "# 정렬"
   ]
  },
  {
   "cell_type": "markdown",
   "id": "586855e4-35e0-4288-82eb-8945cd8792c1",
   "metadata": {},
   "source": [
    "## 1. 가장 큰 수"
   ]
  },
  {
   "cell_type": "markdown",
   "id": "cebdd4ee-4a66-4e58-95dc-e3762d2f5aa2",
   "metadata": {},
   "source": [
    "- 숫자를 문자열 해서 비교 >> 자릿수 마다 비교(문자열로 만들기) >> 제한사항 잘보고.. 최대값잘보고 그만큼 늘려서 비교하기!!"
   ]
  },
  {
   "cell_type": "code",
   "execution_count": 12,
   "id": "6ab9f6bd-f68b-4d42-9271-e234821d54fe",
   "metadata": {
    "tags": []
   },
   "outputs": [],
   "source": [
    "def solution(numbers):\n",
    "    # 숫자를 문자열로 변환하여 정렬 >> 자릿수 비교는 문자열로 바꾸면 쉽게 할 수 있음!\n",
    "    numbers = list(map(str, numbers))\n",
    "    # 991, 9 >> 문자열비교하면.. 안곱하고하면.. 내림차순하면.. 9가 더 앞이니까... 9919가됨\n",
    "    # 3번곱하면 991991991, 999 >>> 내림차순하면.. 999가 더 커서 앞이니까.. 9991이됨..오.... 각 자리별 비교!(9,9)(9,9)(9,1) > 1이 앞. 이걸 내림차순..\n",
    "    # x에 3을 곱하여 정렬하는 것은 숫자의 크기를 일반적인 수치적인 비교가 아닌, 문자열 비교를 통해 \"가장 큰 수\"를 만들기 위한 조건\n",
    "    # 문자열을 3번 반복하여 비교 / \n",
    "    # sort로 하면 numbers가 list로 나옴! 666 222 101010 >>문자열비교라 1 뒤로!!\n",
    "    # 이런때를 대비해서 >> 최대수가 1000이라고함.. 그럼 9랑 991비교.. 9가 더크다고 인식(자릿수가 더 작은것들이 크다고 인식되지 않도록함!) 9991 9919 / 내림차순..\n",
    "    numbers = sorted(numbers, key=lambda x: x*3, reverse=True) # 이렇게 써도 됨!!! / key저거없으면 991,9 >> 9919나옴 , 있어야 9991 나옴... \n",
    "    print(numbers)\n",
    "\n",
    "    # 예외 처리: 모든 숫자가 0인 경우 / 정렬했는데 맨앞이 0이면 다 0인거임 <<< 이런 생각, 예외 잘 생각해야해!!!!!!!!!!!!!!!!\n",
    "    if numbers[0] == '0':\n",
    "        return '0'\n",
    "\n",
    "    # 정렬된 숫자들을 조합하여 가장 큰 수 생성\n",
    "    answer = ''.join(numbers) # \n",
    "    return answer"
   ]
  },
  {
   "cell_type": "code",
   "execution_count": 15,
   "id": "e8b106a3-596b-42da-a50a-98fa274195a9",
   "metadata": {},
   "outputs": [],
   "source": [
    "def solution(numbers):\n",
    "    numbers = list(map(str, numbers))\n",
    "    numbers = sorted(numbers, key=lambda x: x*3, reverse=True)\n",
    "    if numbers[0] == 0:\n",
    "        return '0'\n",
    "    \n",
    "    answer = ''.join(numbers)\n",
    "    return answer"
   ]
  },
  {
   "cell_type": "code",
   "execution_count": 16,
   "id": "12bb4088-350b-40bc-9f51-8a465ba182fe",
   "metadata": {
    "tags": []
   },
   "outputs": [
    {
     "data": {
      "text/plain": [
       "'6210'"
      ]
     },
     "execution_count": 16,
     "metadata": {},
     "output_type": "execute_result"
    }
   ],
   "source": [
    "solution([6, 10, 2])"
   ]
  },
  {
   "cell_type": "code",
   "execution_count": 17,
   "id": "2bd465d7-34e4-4fc0-be2c-1e49bc0f5342",
   "metadata": {},
   "outputs": [
    {
     "data": {
      "text/plain": [
       "'9991'"
      ]
     },
     "execution_count": 17,
     "metadata": {},
     "output_type": "execute_result"
    }
   ],
   "source": [
    "solution([991, 9])"
   ]
  },
  {
   "cell_type": "code",
   "execution_count": null,
   "id": "0ebbfbe0-3cff-4823-ab68-5e1b1df6f546",
   "metadata": {},
   "outputs": [],
   "source": []
  },
  {
   "cell_type": "code",
   "execution_count": 1,
   "id": "accff91c-f80d-4f57-8854-65233eb408be",
   "metadata": {
    "tags": []
   },
   "outputs": [
    {
     "name": "stdout",
     "output_type": "stream",
     "text": [
      "Hello world Python\n",
      "<class 'str'>\n",
      "apple, banana, cherry\n"
     ]
    }
   ],
   "source": [
    "# join 함수 - 문자열, 리스트, 튜플 다됨\n",
    "# 리스트의 원소들을 문자열로 연결\n",
    "my_list = ['Hello', 'world', 'Python']\n",
    "result = ' '.join(my_list)\n",
    "print(result)\n",
    "print(type(result))\n",
    "# 출력: Hello world Python\n",
    "\n",
    "# 튜플의 원소들을 문자열로 연결\n",
    "my_tuple = ('apple', 'banana', 'cherry')\n",
    "result = ', '.join(my_tuple)\n",
    "print(result)\n",
    "# 출력: apple, banana, cherry"
   ]
  },
  {
   "cell_type": "code",
   "execution_count": 33,
   "id": "c9a8ba07-5d30-4f9e-9a6c-37ec1ab224ac",
   "metadata": {},
   "outputs": [
    {
     "name": "stdout",
     "output_type": "stream",
     "text": [
      "1,2,3,4,5\n"
     ]
    }
   ],
   "source": [
    "numbers = '12345'\n",
    "result = ','.join(numbers)\n",
    "\n",
    "print(result)\n"
   ]
  },
  {
   "cell_type": "markdown",
   "id": "50a97026-785a-4564-879e-a0a8a702ea6f",
   "metadata": {},
   "source": [
    "## 2. H-Index"
   ]
  },
  {
   "cell_type": "markdown",
   "id": "29d7e288-a51f-46d8-90ca-6cf532c7d872",
   "metadata": {},
   "source": [
    "- 어떤 과학자가 발표한 논문 n편 중, h번 이상 인용된 논문이 h편 이상이고 나머지 논문이 h번 이하 인용되었다면 `h의 최댓값`"
   ]
  },
  {
   "cell_type": "markdown",
   "id": "e230f971-4651-4188-80d1-5865b927bc5d",
   "metadata": {},
   "source": [
    "- 문제 이해가 제일 중요한 것 같다.. 문제 이해가 너무 느림..흠.."
   ]
  },
  {
   "cell_type": "markdown",
   "id": "a6d2c57c-bbeb-43a8-909b-df9ea9656207",
   "metadata": {},
   "source": [
    "- 주어진 수들은 다 얼마나 인용됐는지 횟수임."
   ]
  },
  {
   "cell_type": "markdown",
   "id": "d5935c89-f173-469c-bf2c-edfd542a2d5e",
   "metadata": {},
   "source": [
    "**min, max혼합해서 잘 쓰면 굉장히 간단해짐!**"
   ]
  },
  {
   "cell_type": "markdown",
   "id": "db7e4c5e-4f47-45cb-9816-c24fb43ce947",
   "metadata": {},
   "source": [
    "- 근데 이해...xxxx"
   ]
  },
  {
   "cell_type": "code",
   "execution_count": 24,
   "id": "ee6b90a9-3b9f-4b3a-b46d-ac70b789aaa2",
   "metadata": {
    "tags": []
   },
   "outputs": [],
   "source": [
    "def h_index(citations):\n",
    "    citations.sort()  # 인용된 횟수를 오름차순으로 정렬 >> 여기서 이미 정렬해서 for문 하나 덜 써도 됨 >> 시간초과x\n",
    "    # print(citations)\n",
    "    n = len(citations)\n",
    "    h = 0  # H-Index 초기화 >> 이게 중요!!!!!\n",
    "\n",
    "    for i in range(n):\n",
    "        # 현재 논문의 인용된 횟수와 남은 논문의 수를 비교하여 H-Index 갱신 \n",
    "        h = max(h, min(citations[i], n - i)) # 이미 정렬했기 때문에 횟수를 빼기만 해도 구할 수 있음!!(횟수랑 개수 비교)\n",
    "        # citations[i]번 인용, n-i편 횟수\n",
    "        # 약간.. 적절한 최대 찾을때 위에처럼 식짜면 될듯!!\n",
    "        # print(h)\n",
    "\n",
    "    return h"
   ]
  },
  {
   "cell_type": "code",
   "execution_count": 25,
   "id": "a593bfcf-026c-4641-a2c2-65262791a878",
   "metadata": {
    "tags": []
   },
   "outputs": [
    {
     "name": "stdout",
     "output_type": "stream",
     "text": [
      "[0, 1, 3, 5, 6]\n",
      "0\n",
      "1\n",
      "3\n",
      "3\n",
      "3\n"
     ]
    },
    {
     "data": {
      "text/plain": [
       "3"
      ]
     },
     "execution_count": 25,
     "metadata": {},
     "output_type": "execute_result"
    }
   ],
   "source": [
    "h_index([3, 0, 6, 1, 5])"
   ]
  },
  {
   "cell_type": "markdown",
   "id": "e3781c23-2fc7-4b66-9eaf-7e46ba5e1c5c",
   "metadata": {},
   "source": [
    "## 3. k번째수"
   ]
  },
  {
   "cell_type": "code",
   "execution_count": 34,
   "id": "de91af1e-fb6e-45d5-be71-ea74bc022429",
   "metadata": {
    "tags": []
   },
   "outputs": [],
   "source": [
    "# 내풀이\n",
    "\n",
    "# i-1 ~ j / 정렬하고 / k-1번째 배열에 담기\n",
    "\n",
    "def solution(array, commands):\n",
    "    answer = []\n",
    "    \n",
    "    for c in range(len(commands)):\n",
    "        i = commands[c][0]\n",
    "        j = commands[c][1]\n",
    "        li = array[i-1:j]\n",
    "        li.sort()\n",
    "        k = commands[c][2]\n",
    "        answer.append(li[k-1])\n",
    "    \n",
    "    return answer"
   ]
  },
  {
   "cell_type": "markdown",
   "id": "91a996b0-e509-45f2-b2aa-2a7970679ad1",
   "metadata": {},
   "source": [
    "- 아래처럼 언패킹하면 훨씬 짧음! **이거만 보자, 풀수있음-간단**"
   ]
  },
  {
   "cell_type": "code",
   "execution_count": 36,
   "id": "9711b63f-d945-4540-9bf8-a585cc3044ec",
   "metadata": {},
   "outputs": [],
   "source": [
    "def solution(array, commands):\n",
    "    answer = []\n",
    "    for command in commands:\n",
    "        i, j, k = command  # i, j, k 값 추출 >>>> 이렇게 추출할 수 있음!!!!!!!!!!!!!!!!!!!!!!!!!!!\n",
    "        arr = array[i - 1:j]  # i부터 j까지의 부분 배열 추출\n",
    "        arr.sort()  # 부분 배열 정렬\n",
    "        answer.append(arr[k - 1])  # k번째 수를 정답 리스트에 추가\n",
    "    return answer"
   ]
  },
  {
   "cell_type": "code",
   "execution_count": 37,
   "id": "0b5bc211-1cb3-455a-bfc6-bb12515ea4c9",
   "metadata": {
    "tags": []
   },
   "outputs": [
    {
     "data": {
      "text/plain": [
       "[5, 6, 3]"
      ]
     },
     "execution_count": 37,
     "metadata": {},
     "output_type": "execute_result"
    }
   ],
   "source": [
    "solution([1, 5, 2, 6, 3, 7, 4], [[2, 5, 3], [4, 4, 1], [1, 7, 3]])"
   ]
  },
  {
   "cell_type": "markdown",
   "id": "a290a7d7-db58-4eab-a6f5-f2992b8d2069",
   "metadata": {},
   "source": [
    "# 그리디(탐욕법)"
   ]
  },
  {
   "cell_type": "markdown",
   "id": "2071d778-92fc-416c-8e1f-f31ba9c4c5ed",
   "metadata": {},
   "source": [
    "# 학생번호or그래프 >> n+1로 만들어주기!!공간"
   ]
  },
  {
   "cell_type": "markdown",
   "id": "aa352bcf-b685-4b44-8c1e-498df7dead3d",
   "metadata": {},
   "source": [
    "## 1. 체육복"
   ]
  },
  {
   "cell_type": "code",
   "execution_count": null,
   "id": "b0baf984-b4fe-43d1-9033-36e270ffb1d7",
   "metadata": {},
   "outputs": [],
   "source": [
    "# chatgpt\n",
    "\n",
    "def solution(n, lost, reserve):\n",
    "    answer = 0\n",
    "    # 1부터 비교하려고 n+1개 만듦 >> n=5이면 0 1 2 3 4 5(0은 걍 만들어지니까 놔둠)\n",
    "    clothes = [1] * (n + 1)  # 체육복의 보유 상태를 나타내는 리스트. 1로 초기화 >>> 이학생들 '''틀을 유지''(이럴땐 이렇게 만들어라!)하려고!! 체육복 여분 있지만 빌려주지 못한애들도 세야 되니까!!\n",
    "    \n",
    "    for i in reserve:\n",
    "        clothes[i] += 1  # 여분의 체육복이 있는 학생은 1 증가 //////////// 여분o >> 2로 (이러면 리스트자체에 원소 지우지 않아도 됨)\n",
    "    \n",
    "    for i in lost:\n",
    "        clothes[i] -= 1  # 도난당한 학생은 1 감소    ///////////////////// 잃어버린 애 >> 0으로\n",
    "    \n",
    "    for i in range(1, n + 1):\n",
    "        if clothes[i] == 0:  # 체육복이 없는 학생일 경우\n",
    "            if i - 1 >= 1 and clothes[i - 1] == 2:  # 앞번호 학생이 여분의 체육복이 있는 경우(빌려줘서 하나빼고, 얻은애 하나 더해주고!!)\n",
    "                clothes[i] += 1\n",
    "                clothes[i - 1] -= 1\n",
    "            elif i + 1 <= n and clothes[i + 1] == 2:  # 뒷번호 학생이 여분의 체육복이 있는 경우\n",
    "                clothes[i] += 1\n",
    "                clothes[i + 1] -= 1\n",
    "    \n",
    "    for i in range(1, n + 1):\n",
    "        if clothes[i] >= 1:  # 체육복이 있는 학생의 수를 세기(2개인애들도 세야 하니까 1이상인거 세기!!!)\n",
    "            answer += 1\n",
    "    \n",
    "    return answer"
   ]
  },
  {
   "cell_type": "markdown",
   "id": "7ffcf54c-f271-45b4-bf51-c104a77f99aa",
   "metadata": {},
   "source": [
    "## 3. 큰 수 만들기"
   ]
  },
  {
   "cell_type": "markdown",
   "id": "a380e975-ae4e-4222-a5ac-6941e20e613e",
   "metadata": {},
   "source": [
    "- 쭈욱 긴 수를 각 숫자.. 자리별.. 뽑아내려면.. 인덱싱 가능하려면.. 그래도 str이어야 함!!!!!!"
   ]
  },
  {
   "cell_type": "markdown",
   "id": "25d1ff75-c501-49d2-923c-f020159e6311",
   "metadata": {},
   "source": [
    "- 문자열 형식으로 숫자 number와 제거할 수의 개수 k가 solution 함수의 매개변수로 주어집니다. `number에서 k 개의 수를 제거`했을 때 `만들 수 있는 수 중 가장 큰 숫자`를 `문자열 형태`(join쓰기!!!)로 return "
   ]
  },
  {
   "cell_type": "code",
   "execution_count": 41,
   "id": "dfea9ec3-5676-4093-ba0c-9f342fa88006",
   "metadata": {
    "tags": []
   },
   "outputs": [],
   "source": [
    "# 챗지피티\n",
    "def solution(number, k):\n",
    "    num_list = list(number)  # number를 문자열로 처리하고 '''리스트''''로 변환\n",
    "    print(num_list)\n",
    "    stack = []  # 스택을 이용하여 큰 수를 만들기 위해 '삭제한 숫자`들을 저장\n",
    "    for num in num_list:\n",
    "        while stack and k > 0 and stack[-1] < num:\n",
    "            # 스택에 요소가 있고 / k가 0보다 크고 / 스택의 마지막 요소가 현재 요소보다 작을 경우 (이런 조건 잘 따지기!!!!)\n",
    "            stack.pop()  # 스택의 마지막 요소를 삭제하여 큰 수를 만들기 위해 숫자 삭제\n",
    "            k -= 1  # 삭제한 숫자의 개수를 감소 >>>> 이래서 위에서 k>0 조건이 있는거!!!!!!!\n",
    "        # 처음엔 얘임!! stack에 아무것도 없자나!!\n",
    "        stack.append(num)  # 현재 요소를 스택에 추가 >> stack아무것도 없으면 얘부터 실행됨!!!\n",
    "    # 남은 k가 0보다 큰 경우, 스택의 뒤에서부터 '남은 k개의 요소를 삭제'\n",
    "    while k > 0:\n",
    "        stack.pop()\n",
    "        k -= 1\n",
    "    answer = ''.join(stack)  # 스택의 요소들을 문자열로 결합하여 결과값으로 반환\n",
    "    return answer"
   ]
  },
  {
   "cell_type": "code",
   "execution_count": 40,
   "id": "910e0893-913b-4572-9f2f-a88ed139073d",
   "metadata": {},
   "outputs": [
    {
     "name": "stdout",
     "output_type": "stream",
     "text": [
      "['1', '9', '2', '4']\n"
     ]
    },
    {
     "data": {
      "text/plain": [
       "'94'"
      ]
     },
     "execution_count": 40,
     "metadata": {},
     "output_type": "execute_result"
    }
   ],
   "source": [
    "solution(\"1924\", 2)"
   ]
  },
  {
   "cell_type": "code",
   "execution_count": 43,
   "id": "4c2036dc-aa63-43a1-a313-67b5ad8a35e8",
   "metadata": {},
   "outputs": [
    {
     "name": "stdout",
     "output_type": "stream",
     "text": [
      "['9', '1', '4', '2']\n"
     ]
    },
    {
     "data": {
      "text/plain": [
       "'94'"
      ]
     },
     "execution_count": 43,
     "metadata": {},
     "output_type": "execute_result"
    }
   ],
   "source": [
    "solution(\"9142\", 2) # stack = 9 > 9 1 > 9 4 .. 아하!! "
   ]
  },
  {
   "cell_type": "code",
   "execution_count": 44,
   "id": "c860fd09-eadc-48e3-80de-7dd8e3684ff9",
   "metadata": {},
   "outputs": [
    {
     "name": "stdout",
     "output_type": "stream",
     "text": [
      "['4', '1', '7', '7', '2', '5', '2', '8', '4', '1']\n"
     ]
    },
    {
     "data": {
      "text/plain": [
       "'775841'"
      ]
     },
     "execution_count": 44,
     "metadata": {},
     "output_type": "execute_result"
    }
   ],
   "source": [
    "solution(\"4177252841\", 4) # 이경우에 while k > 0: 조건 필요!!"
   ]
  },
  {
   "cell_type": "code",
   "execution_count": 45,
   "id": "cfdc55d0-0f7b-4f82-a8f8-4c1b932c2395",
   "metadata": {},
   "outputs": [
    {
     "ename": "TypeError",
     "evalue": "sequence item 0: expected str instance, int found",
     "output_type": "error",
     "traceback": [
      "\u001b[1;31m---------------------------------------------------------------------------\u001b[0m",
      "\u001b[1;31mTypeError\u001b[0m                                 Traceback (most recent call last)",
      "Cell \u001b[1;32mIn [45], line 2\u001b[0m\n\u001b[0;32m      1\u001b[0m li \u001b[38;5;241m=\u001b[39m [\u001b[38;5;241m1\u001b[39m,\u001b[38;5;241m2\u001b[39m,\u001b[38;5;241m3\u001b[39m,\u001b[38;5;241m4\u001b[39m]\n\u001b[1;32m----> 2\u001b[0m \u001b[38;5;28mprint\u001b[39m(\u001b[38;5;124;43m'\u001b[39;49m\u001b[38;5;124;43m,\u001b[39;49m\u001b[38;5;124;43m'\u001b[39;49m\u001b[38;5;241;43m.\u001b[39;49m\u001b[43mjoin\u001b[49m\u001b[43m(\u001b[49m\u001b[43mli\u001b[49m\u001b[43m)\u001b[49m)\n",
      "\u001b[1;31mTypeError\u001b[0m: sequence item 0: expected str instance, int found"
     ]
    }
   ],
   "source": [
    "li = [1,2,3,4]\n",
    "print(','.join(li))"
   ]
  },
  {
   "cell_type": "code",
   "execution_count": 46,
   "id": "de26644b-4467-4bdc-99e7-947474798aaf",
   "metadata": {},
   "outputs": [
    {
     "name": "stdout",
     "output_type": "stream",
     "text": [
      "1,2,3,4\n"
     ]
    }
   ],
   "source": [
    "li = ['1','2','3','4']\n",
    "print(','.join(li))"
   ]
  },
  {
   "cell_type": "markdown",
   "id": "b6b7c92c-09b6-47fa-b140-5fb683084eaa",
   "metadata": {},
   "source": [
    "**join쓰려면 리스트나 튜플 원소들이 기본적으로 문장여야 됨!**"
   ]
  },
  {
   "cell_type": "markdown",
   "id": "304dd205-b047-4c3d-b3e8-f4bd4a5fa268",
   "metadata": {},
   "source": [
    "## 4. 구명보트"
   ]
  },
  {
   "cell_type": "markdown",
   "id": "82ba1397-cc0e-4177-b04c-612934cd8a36",
   "metadata": {},
   "source": [
    "- 사람들의 몸무게를 담은 배열 people과 구명보트의 무게 제한 limit가 매개변수로 주어질 때, 모든 사람을 구출하기 위해 필요한 `구명보트 개수의 최솟`값을 return \n",
    "- 무게제한 안에 무게 더한 값 있어야 구명보트 하나.."
   ]
  },
  {
   "cell_type": "code",
   "execution_count": 35,
   "id": "c093b2d6-e7ef-42d0-bb49-526412d2915f",
   "metadata": {
    "tags": []
   },
   "outputs": [],
   "source": [
    "# 챗지피티\n",
    "\n",
    "def solution(people, limit):\n",
    "    # 사람들을 무게 순으로 정렬\n",
    "    people.sort() ############################## 정렬할 생각해~~\n",
    "    # 가장 가벼운 사람과 가장 무거운 사람의 인덱스를 저장할 변수\n",
    "    lightest = 0\n",
    "    heaviest = len(people) - 1\n",
    "    # 구명보트의 개수를 세기 위한 변수\n",
    "    count = 0\n",
    "    while lightest <= heaviest: # 이렇게 종료조건!!!!!!!!!!!!!!!!!!!!!!!!!!!!!!!!!!!!!!!!!!!!!!!! 잘 떠올리고 잘 정하기\n",
    "        # 가장 가벼운 사람과 가장 무거운 사람의 무게의 합이 제한을 넘지 않으면 둘 다 구명보트에 태움\n",
    "        if people[lightest] + people[heaviest] <= limit: # 만족할때만 가벼운 사람+1\n",
    "            lightest += 1\n",
    "        heaviest -= 1 # 언제나 얘는 줄이는거!! 중요!!\n",
    "        count += 1 # 얘도 언제나! \n",
    "    return count"
   ]
  },
  {
   "cell_type": "markdown",
   "id": "59ce3cd1-8d64-4cee-ab75-6387aa619f43",
   "metadata": {},
   "source": [
    "## 6. 단속카메라"
   ]
  },
  {
   "cell_type": "code",
   "execution_count": 7,
   "id": "08cd6d5f-1ecb-4676-b610-e0ef67ef1271",
   "metadata": {},
   "outputs": [],
   "source": [
    "# 모든 차량이 적어도 한번은 단속용 카메라 만나도록! >> 최소 몇대 카메라 설치해야 함?\n",
    "# 입력 >> routes 차량의 이동 경로 [진입, 나가는 지점] > 이 지점과 같아도 카메라 만난거\n",
    "# 아이디어 중요!!!!!!!!!!!!!!!!!!!!!!!!!!!!!!!!!!!!!!!!!!!!!!!!!!!!!!!!!!!!!!!!!!!!!!!!!!!!!!!!!!!!!!!!\n",
    "def solution(routes):\n",
    "    routes.sort(key=lambda x: x[1])  # 차량들의 ''''도착지점''''을 기준으로 오름차순 정렬!!!!!!!!!!!!!!!!!!!!!!!!!!!!1 / sort도 이렇게 key매개변수 써서 정렬할 수 있음!!!\n",
    "    print(routes)\n",
    "    camera = -30001  # 카메라 위치를 가장 작은 값으로 초기화 >>>>>>>>>>>>>>>>>>>>>>>>>>>>>>>>>>>>>>>>\n",
    "    answer = 0  # 설치된 카메라의 개수를 저장할 변수\n",
    "\n",
    "    for route in routes:\n",
    "        # print(route)\n",
    "        # print(camera)\n",
    "        if route[0] > camera:\n",
    "            # 현재 차량의 '''출발지점'''이 카메라 위치보다 뒤에 있다면!!!!!!!!!!!!!!!!!!!!!!!!!!!!!!!!!!!\n",
    "            # 해당 차량의 도착지점에 카메라를 설치하고 카메라 개수를 증가!!!!!!!!!!!!!!!!!!!!!!!!!!!!!!!!\n",
    "            camera = route[1]\n",
    "            # print(camera)\n",
    "            answer += 1\n",
    "\n",
    "    return answer"
   ]
  },
  {
   "cell_type": "code",
   "execution_count": 8,
   "id": "0b3a23fa-b0b3-48aa-aff4-6aaae2973015",
   "metadata": {},
   "outputs": [
    {
     "name": "stdout",
     "output_type": "stream",
     "text": [
      "[[-20, -15], [-18, -13], [-14, -5], [-5, -3]]\n",
      "[-20, -15]\n",
      "-30001\n",
      "-15\n",
      "[-18, -13]\n",
      "-15\n",
      "[-14, -5]\n",
      "-15\n",
      "-5\n",
      "[-5, -3]\n",
      "-5\n"
     ]
    },
    {
     "data": {
      "text/plain": [
       "2"
      ]
     },
     "execution_count": 8,
     "metadata": {},
     "output_type": "execute_result"
    }
   ],
   "source": [
    "solution([[-20,-15], [-14,-5], [-18,-13], [-5,-3]])"
   ]
  },
  {
   "cell_type": "markdown",
   "id": "1ce06b92-2126-4a7f-b83c-c1da3b086777",
   "metadata": {},
   "source": [
    "# 완전탐색"
   ]
  },
  {
   "cell_type": "markdown",
   "id": "88a5bf20-b29f-40f8-bcad-a2ae7119a1a8",
   "metadata": {},
   "source": [
    "## 1. 최소직사각형"
   ]
  },
  {
   "cell_type": "markdown",
   "id": "9920e32b-69de-4aee-b427-d223fc02defe",
   "metadata": {},
   "source": [
    "**적당한 최대값..최소값..찾는건 min, max 적절히 혼합해서 잘 사용하기!!!**"
   ]
  },
  {
   "cell_type": "code",
   "execution_count": null,
   "id": "f1462bd1-802a-43d1-959c-c7c689e4b3e8",
   "metadata": {},
   "outputs": [],
   "source": [
    "# 내 아이디어\n",
    "# 명함의 가로 세로 길이를 돌리든.. 잘 조정해서 모든 명함을 수납할 수 있는 가장 작은 지갑 찾기\n",
    "# 가장큰수 & 리스트 중에서 작은 값 중 큰수 고르면 됨! >> 리스트들 중 큰값 중 가장 큰값 & 리스트들 중 작은값들중 가장 큰값(이렇게까지 생각하면 굿!!)"
   ]
  },
  {
   "cell_type": "code",
   "execution_count": 16,
   "id": "a213f147-984c-442c-a60b-f86c15ee638f",
   "metadata": {},
   "outputs": [],
   "source": [
    "# 지피티\n",
    "def solution(sizes):\n",
    "    max_width = 0  # 가로 길이 중 최대값을 저장할 변수 >> max찾아야해서. 0으로 해줌. 그럼 0아닌 다른 양수가 무조건 최대로 되니까!\n",
    "    max_height = 0  # 세로 길이 중 최대값을 저장할 변수\n",
    "\n",
    "    for size in sizes:\n",
    "        # 각 명함의 가로와 세로 길이를 비교하여 최대값을 업데이트(계속 갱신됨!!)\n",
    "        max_width = max(max_width, max(size)) \n",
    "        max_height = max(max_height, min(size))\n",
    "\n",
    "    # 가로 길이와 세로 길이의 최대값들을 곱하여 최소한의 종이 사용 개수 반환\n",
    "    return max_width * max_height"
   ]
  },
  {
   "cell_type": "code",
   "execution_count": 17,
   "id": "9071d091-7875-4e96-80cb-44eadd67a8ea",
   "metadata": {},
   "outputs": [
    {
     "data": {
      "text/plain": [
       "4000"
      ]
     },
     "execution_count": 17,
     "metadata": {},
     "output_type": "execute_result"
    }
   ],
   "source": [
    "solution([[60, 50], [30, 70], [60, 30], [80, 40]])"
   ]
  },
  {
   "cell_type": "markdown",
   "id": "16d3c254-55d6-4bda-80c5-f3c5483b0eca",
   "metadata": {},
   "source": [
    "## 2. 모의고사 - 사실 이해x"
   ]
  },
  {
   "cell_type": "markdown",
   "id": "724a8662-7af0-405f-b27d-16682b68071d",
   "metadata": {},
   "source": [
    "**뭔가 패턴 개수... 하면 이거 떠올리기**"
   ]
  },
  {
   "cell_type": "code",
   "execution_count": 22,
   "id": "53aa5bd4-4c6b-4ba2-8576-2df331602d5a",
   "metadata": {},
   "outputs": [],
   "source": [
    "def solution(answers):\n",
    "    pattern1 = [1,2,3,4,5]\n",
    "    pattern2 = [2,1,2,3,2,4,2,5]\n",
    "    pattern3 = [3,3,1,1,2,2,4,4,5,5]\n",
    "    score = [0, 0, 0] # 점수 추가할 틀 , 표 만들어줌\n",
    "    result = []\n",
    "\n",
    "    for idx, answer in enumerate(answers): # idx가 필요해서 enumerate!!!\n",
    "        print(idx, answer)\n",
    "        if answer == pattern1[idx%len(pattern1)]: # 5,8,10 >> pattern 들마다 순환주기가 다르니까 각각 순환주기로 나눠준것 / 이렇게 한턴만 비교해도..?흠..\n",
    "            score[0] += 1\n",
    "        if answer == pattern2[idx%len(pattern2)]:\n",
    "            score[1] += 1\n",
    "        if answer == pattern3[idx%len(pattern3)]:\n",
    "            score[2] += 1\n",
    "    print(score)\n",
    "    for idx, s in enumerate(score):\n",
    "        if s == max(score):\n",
    "            result.append(idx+1)\n",
    "\n",
    "    return result"
   ]
  },
  {
   "cell_type": "code",
   "execution_count": 23,
   "id": "c3dc3693-bd4f-49c9-85c7-db2cf2000a38",
   "metadata": {},
   "outputs": [
    {
     "name": "stdout",
     "output_type": "stream",
     "text": [
      "0 1\n",
      "1 3\n",
      "2 2\n",
      "3 4\n",
      "4 2\n",
      "[2, 2, 2]\n"
     ]
    },
    {
     "data": {
      "text/plain": [
       "[1, 2, 3]"
      ]
     },
     "execution_count": 23,
     "metadata": {},
     "output_type": "execute_result"
    }
   ],
   "source": [
    "solution([1,3,2,4,2])"
   ]
  },
  {
   "cell_type": "markdown",
   "id": "9caa80a1-150b-411d-b335-e8404c3bb31c",
   "metadata": {},
   "source": [
    "## 3. 소수찾기"
   ]
  },
  {
   "cell_type": "markdown",
   "id": "dacbf693-fab4-4fa5-8d98-ad89786cf4db",
   "metadata": {},
   "source": [
    "- 모든 조합만들고, set으로 중복 제거해주면됨!!!\n",
    "- 조합 >> `중복되지 않는 조합 수` 셀때 >> `set자료형` 쓰면 좋을듯!!"
   ]
  },
  {
   "cell_type": "code",
   "execution_count": 22,
   "id": "93d8d60a-a4aa-4440-8754-44e6bac9009f",
   "metadata": {},
   "outputs": [],
   "source": [
    "import math\n",
    "from itertools import permutations\n",
    "\n",
    "def is_prime(num):\n",
    "    if num < 2:\n",
    "        return False\n",
    "    for i in range(2, int(num**0.5) + 1): #에라토스테네스의 체 / math.sqrt(num) == (num**0.5)\n",
    "        if num % i == 0:\n",
    "            return False\n",
    "    return True\n",
    "\n",
    "def solution(numbers):\n",
    "    num_list = list(numbers) # \"011\" >> list(numbers) >> ['0', '1', '1']>>>>>>>>>>>>>>>>>>>>>>>>>>>>>>>>>>>>>>\n",
    "    prime_set = set() # 집합 만들기 >> add메서드.set자료형 쓸 수 있음!!!!!!!!!!\n",
    "    for i in range(1, len(num_list) + 1): # i = 1,2,3 >> 조합만들려고(permutation 매개변수로 몇 개 뽑아서 조합만들지 숫자가 필ㅇ요함!)\n",
    "        perm_list = list(permutations(num_list, i)) # num_list 원소들중 1개 원소만으로 조합 만들기! / num_list 원소들중 2개 원소만으로 조합 만들기!\n",
    "        \n",
    "        # 위에서 조합만들고 / 그 조합대로 숫자 join해서 만들어서 / 소수 판별하고 / 맞으면 set에 추가!!\n",
    "        \n",
    "        for perm in perm_list:\n",
    "            num = int(''.join(perm)) # 다 연결 후!! 소수인지 판별\n",
    "            if is_prime(num): # 여기서 소수인지 판별 >> True이면!!! 아래진행\n",
    "                prime_set.add(num) # set 자료형은 add로 추가!!! / set에 넣어줘서 11하고 101이 여러번 나오는데 최종적으로 2개로 세짐!!!\n",
    "\n",
    "    answer = len(prime_set)\n",
    "    return answer"
   ]
  },
  {
   "cell_type": "code",
   "execution_count": 23,
   "id": "096244c0-9841-4d9c-862b-85c5ade35c75",
   "metadata": {},
   "outputs": [
    {
     "data": {
      "text/plain": [
       "2"
      ]
     },
     "execution_count": 23,
     "metadata": {},
     "output_type": "execute_result"
    }
   ],
   "source": [
    "solution(\"011\")"
   ]
  },
  {
   "cell_type": "markdown",
   "id": "7e370c05-41b1-44bb-9bd6-f16e6d7d95cc",
   "metadata": {},
   "source": [
    "## 4. 카펫"
   ]
  },
  {
   "cell_type": "markdown",
   "id": "4c9e707f-04db-46cc-b410-06a28d13c47e",
   "metadata": {},
   "source": [
    "- 더한것들, 곱한것들 원소 같은거 찾는거 "
   ]
  },
  {
   "cell_type": "markdown",
   "id": "c9a6b505-66df-447d-9901-7aee3f1823b0",
   "metadata": {},
   "source": [
    "- 바깥 테두리 한줄만 칠해지는 적절한 가로 세로 찾아야 됨!"
   ]
  },
  {
   "cell_type": "code",
   "execution_count": 26,
   "id": "78fa12ec-34af-4a46-a6e6-abdfc24b151e",
   "metadata": {},
   "outputs": [],
   "source": [
    "def solution(brown, yellow):\n",
    "    answer = []\n",
    "    total = brown + yellow  # 전체 카펫의 크기 (가로 x 세로)\n",
    "\n",
    "    # 가능한 가로, 세로 길이의 조합을 순회\n",
    "    for i in range(3, int(total**0.5) + 1): # 에라토스테네스 체!!(sqrt대신 이렇게 해도 됨) >> 모든 약수 찾기!!\n",
    "        if total % i == 0: \n",
    "            print(i)\n",
    "            # 가로 길이 i, 세로 길이 total // i인 경우\n",
    "            if (i - 2) * (total // i - 2) == yellow:\n",
    "                print(i)\n",
    "                answer = [total // i, i]  # 세로 길이, 가로 길이 순서로 저장\n",
    "                break\n",
    "\n",
    "    return answer"
   ]
  },
  {
   "cell_type": "code",
   "execution_count": 27,
   "id": "8d61731f-9962-4a3c-87a8-2f604bbd0fbb",
   "metadata": {},
   "outputs": [],
   "source": [
    "def solution(brown, yellow):\n",
    "    answer = []\n",
    "    total = brown + yellow\n",
    "    for i in range(1, int(total**0.5) + 1): # 약수 찾을 때는 이렇게 '제곱근' 활용하기!!!!!!\n",
    "        if total % i== 0: # 약수여야 가로 자격이 됨!\n",
    "            if (i - 2) * (total // i - 2) == yellow: # 약수여서 세로 구했는데 / brown기준으로 하면 약수 다돼. yellow 조건이 까다로우니까 이걸로 구한거임!(yellow영역을 구한거임)(가로x세로)\n",
    "                answer = [total // i, i]\n",
    "                break\n",
    "    return answer"
   ]
  },
  {
   "cell_type": "code",
   "execution_count": 27,
   "id": "74307874-d1ea-4528-8abe-6f14ce99ad87",
   "metadata": {},
   "outputs": [
    {
     "name": "stdout",
     "output_type": "stream",
     "text": [
      "3\n",
      "4\n",
      "6\n",
      "6\n"
     ]
    },
    {
     "data": {
      "text/plain": [
       "[8, 6]"
      ]
     },
     "execution_count": 27,
     "metadata": {},
     "output_type": "execute_result"
    }
   ],
   "source": [
    "solution(24,24)"
   ]
  }
 ],
 "metadata": {
  "kernelspec": {
   "display_name": "Python 3 (ipykernel)",
   "language": "python",
   "name": "python3"
  },
  "language_info": {
   "codemirror_mode": {
    "name": "ipython",
    "version": 3
   },
   "file_extension": ".py",
   "mimetype": "text/x-python",
   "name": "python",
   "nbconvert_exporter": "python",
   "pygments_lexer": "ipython3",
   "version": "3.9.13"
  }
 },
 "nbformat": 4,
 "nbformat_minor": 5
}
